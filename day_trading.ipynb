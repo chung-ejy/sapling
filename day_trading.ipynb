{
 "cells": [
  {
   "cell_type": "code",
   "execution_count": 1,
   "id": "cd3cabbf-ff09-45ae-bd1b-b040c2c3feaf",
   "metadata": {},
   "outputs": [],
   "source": [
    "import pandas as pd\n",
    "from processor.processor import Processor as processor\n",
    "from database.adatabase import ADatabase\n",
    "import matplotlib.pyplot as plt\n",
    "from tqdm import tqdm\n",
    "from xgboost import XGBRegressor"
   ]
  },
  {
   "cell_type": "code",
   "execution_count": 2,
   "id": "f4139615-544b-40e2-b0d9-f22b1cff9a39",
   "metadata": {},
   "outputs": [],
   "source": [
    "sp500 = pd.read_html(\"https://en.wikipedia.org/wiki/List_of_S%26P_500_companies\",attrs={\"id\":\"constituents\"})[0].rename(columns={\"Symbol\":\"ticker\"})"
   ]
  },
  {
   "cell_type": "code",
   "execution_count": 5,
   "id": "dd44e8ce-d237-4f49-abb7-1f983b30919e",
   "metadata": {},
   "outputs": [
    {
     "name": "stderr",
     "output_type": "stream",
     "text": [
      "100%|███████████████████████████████████████████████████████████████████████████████████████████████████████████████████████████████████| 503/503 [00:05<00:00, 98.47it/s]\n"
     ]
    }
   ],
   "source": [
    "prices = []\n",
    "market = ADatabase(\"market\")\n",
    "market.connect()\n",
    "for ticker in tqdm(sp500[\"ticker\"]):\n",
    "    try:\n",
    "        price = processor.column_date_processing(market.query(\"prices_minute\",{\"ticker\":ticker})).sort_values(\"date\")\n",
    "        price[\"average_return\"] = price[\"adjclose\"].pct_change(60)\n",
    "        for i in range(10):\n",
    "            price[str(i)] = price[\"adjclose\"].shift(i)\n",
    "        price[\"y\"] = price[\"adjclose\"].shift(-5)\n",
    "        prices.append(price.dropna())\n",
    "    except:\n",
    "        continue\n",
    "market.disconnect()"
   ]
  },
  {
   "cell_type": "code",
   "execution_count": 6,
   "id": "73ab2b0b-3130-485d-af3c-d5d1ffa6270d",
   "metadata": {},
   "outputs": [],
   "source": [
    "prices = pd.concat(prices).sort_values(\"date\")"
   ]
  },
  {
   "cell_type": "code",
   "execution_count": 27,
   "id": "3a2f2967-1a5b-4cca-8a49-36b97c4221c1",
   "metadata": {},
   "outputs": [],
   "source": [
    "training_data = prices[prices[\"date\"]<=list(prices[\"date\"].unique())[100]]\n",
    "sim = prices[prices[\"date\"]>=list(prices[\"date\"].unique())[100]]"
   ]
  },
  {
   "cell_type": "code",
   "execution_count": 28,
   "id": "681a8f13-3c6f-48ec-9499-4ea2977a8eb3",
   "metadata": {},
   "outputs": [
    {
     "name": "stderr",
     "output_type": "stream",
     "text": [
      "E:\\projects\\sapling\\venv\\Lib\\site-packages\\xgboost\\core.py:160: UserWarning: [14:30:48] WARNING: C:\\buildkite-agent\\builds\\buildkite-windows-cpu-autoscaling-group-i-0b3782d1791676daf-1\\xgboost\\xgboost-ci-windows\\src\\learner.cc:742: \n",
      "Parameters: { \"fit_intercept\" } are not used.\n",
      "\n",
      "  warnings.warn(smsg, UserWarning)\n",
      "C:\\Users\\eric\\AppData\\Local\\Temp\\ipykernel_14124\\163595079.py:3: SettingWithCopyWarning: \n",
      "A value is trying to be set on a copy of a slice from a DataFrame.\n",
      "Try using .loc[row_indexer,col_indexer] = value instead\n",
      "\n",
      "See the caveats in the documentation: https://pandas.pydata.org/pandas-docs/stable/user_guide/indexing.html#returning-a-view-versus-a-copy\n",
      "  sim[\"predictions\"] = model.predict(sim[[str(i) for i in range(7)]])\n"
     ]
    }
   ],
   "source": [
    "model = XGBRegressor(fit_intercept=True)\n",
    "model.fit(training_data[[str(i) for i in range(7)]],training_data[\"y\"])\n",
    "sim[\"predictions\"] = model.predict(sim[[str(i) for i in range(7)]])"
   ]
  },
  {
   "cell_type": "code",
   "execution_count": 29,
   "id": "054cd79e-1a68-4557-87bd-a38adc090e7a",
   "metadata": {},
   "outputs": [],
   "source": [
    "sim = sim.sort_values(\"date\")\n",
    "dates = sim[\"date\"].unique()\n",
    "sim[\"expected_return\"] = (sim[\"predictions\"] - sim[\"adjclose\"]) / sim[\"adjclose\"]"
   ]
  },
  {
   "cell_type": "code",
   "execution_count": 33,
   "id": "67c2f0f7-6d84-4d5f-ad23-67a8f3155851",
   "metadata": {},
   "outputs": [
    {
     "name": "stderr",
     "output_type": "stream",
     "text": [
      "  9%|████████████▏                                                                                                                      | 74/795 [00:00<00:00, 735.40it/s]"
     ]
    },
    {
     "name": "stdout",
     "output_type": "stream",
     "text": [
      "single positional indexer is out-of-bounds\n",
      "single positional indexer is out-of-bounds\n",
      "single positional indexer is out-of-bounds\n",
      "single positional indexer is out-of-bounds\n",
      "single positional indexer is out-of-bounds\n",
      "single positional indexer is out-of-bounds\n",
      "single positional indexer is out-of-bounds\n",
      "single positional indexer is out-of-bounds\n",
      "single positional indexer is out-of-bounds\n",
      "single positional indexer is out-of-bounds\n",
      "single positional indexer is out-of-bounds\n",
      "single positional indexer is out-of-bounds\n",
      "single positional indexer is out-of-bounds\n",
      "single positional indexer is out-of-bounds\n",
      "single positional indexer is out-of-bounds\n",
      "single positional indexer is out-of-bounds\n",
      "single positional indexer is out-of-bounds\n",
      "single positional indexer is out-of-bounds\n",
      "single positional indexer is out-of-bounds\n",
      "single positional indexer is out-of-bounds\n",
      "single positional indexer is out-of-bounds\n",
      "single positional indexer is out-of-bounds\n",
      "single positional indexer is out-of-bounds\n",
      "single positional indexer is out-of-bounds\n",
      "single positional indexer is out-of-bounds\n",
      "single positional indexer is out-of-bounds\n",
      "single positional indexer is out-of-bounds\n",
      "single positional indexer is out-of-bounds\n",
      "single positional indexer is out-of-bounds\n",
      "single positional indexer is out-of-bounds\n",
      "single positional indexer is out-of-bounds\n",
      "single positional indexer is out-of-bounds\n",
      "single positional indexer is out-of-bounds\n"
     ]
    },
    {
     "name": "stderr",
     "output_type": "stream",
     "text": [
      " 39%|███████████████████████████████████████████████████                                                                               | 312/795 [00:00<00:00, 757.85it/s]"
     ]
    },
    {
     "name": "stdout",
     "output_type": "stream",
     "text": [
      "single positional indexer is out-of-bounds\n"
     ]
    },
    {
     "name": "stderr",
     "output_type": "stream",
     "text": [
      " 58%|███████████████████████████████████████████████████████████████████████████▌                                                      | 462/795 [00:00<00:00, 733.58it/s]"
     ]
    },
    {
     "name": "stdout",
     "output_type": "stream",
     "text": [
      "single positional indexer is out-of-bounds\n",
      "single positional indexer is out-of-bounds\n"
     ]
    },
    {
     "name": "stderr",
     "output_type": "stream",
     "text": [
      " 88%|█████████████████████████████████████████████████████████████████████████████████████████████████████████████████▉                | 697/795 [00:00<00:00, 771.90it/s]"
     ]
    },
    {
     "name": "stdout",
     "output_type": "stream",
     "text": [
      "single positional indexer is out-of-bounds\n",
      "single positional indexer is out-of-bounds\n",
      "single positional indexer is out-of-bounds\n",
      "single positional indexer is out-of-bounds\n",
      "single positional indexer is out-of-bounds\n",
      "single positional indexer is out-of-bounds\n",
      "single positional indexer is out-of-bounds\n",
      "single positional indexer is out-of-bounds\n",
      "single positional indexer is out-of-bounds\n",
      "single positional indexer is out-of-bounds\n",
      "single positional indexer is out-of-bounds\n",
      "single positional indexer is out-of-bounds\n",
      "single positional indexer is out-of-bounds\n",
      "single positional indexer is out-of-bounds\n",
      "single positional indexer is out-of-bounds\n",
      "single positional indexer is out-of-bounds\n",
      "single positional indexer is out-of-bounds\n",
      "single positional indexer is out-of-bounds\n",
      "single positional indexer is out-of-bounds\n",
      "single positional indexer is out-of-bounds\n",
      "single positional indexer is out-of-bounds\n",
      "single positional indexer is out-of-bounds\n",
      "single positional indexer is out-of-bounds\n",
      "single positional indexer is out-of-bounds\n",
      "single positional indexer is out-of-bounds\n",
      "single positional indexer is out-of-bounds\n",
      "single positional indexer is out-of-bounds\n",
      "single positional indexer is out-of-bounds\n",
      "single positional indexer is out-of-bounds\n",
      "single positional indexer is out-of-bounds\n",
      "single positional indexer is out-of-bounds\n",
      "single positional indexer is out-of-bounds\n",
      "single positional indexer is out-of-bounds\n",
      "single positional indexer is out-of-bounds\n",
      "single positional indexer is out-of-bounds\n",
      "single positional indexer is out-of-bounds\n",
      "single positional indexer is out-of-bounds\n",
      "single positional indexer is out-of-bounds\n",
      "single positional indexer is out-of-bounds\n",
      "single positional indexer is out-of-bounds\n",
      "single positional indexer is out-of-bounds\n",
      "single positional indexer is out-of-bounds\n",
      "single positional indexer is out-of-bounds\n",
      "single positional indexer is out-of-bounds\n",
      "single positional indexer is out-of-bounds\n",
      "single positional indexer is out-of-bounds\n",
      "single positional indexer is out-of-bounds\n",
      "single positional indexer is out-of-bounds\n",
      "single positional indexer is out-of-bounds\n",
      "single positional indexer is out-of-bounds\n",
      "single positional indexer is out-of-bounds\n",
      "single positional indexer is out-of-bounds\n",
      "single positional indexer is out-of-bounds\n",
      "single positional indexer is out-of-bounds\n",
      "single positional indexer is out-of-bounds\n",
      "single positional indexer is out-of-bounds\n",
      "single positional indexer is out-of-bounds\n",
      "single positional indexer is out-of-bounds\n",
      "single positional indexer is out-of-bounds\n",
      "single positional indexer is out-of-bounds\n",
      "single positional indexer is out-of-bounds\n",
      "single positional indexer is out-of-bounds\n",
      "single positional indexer is out-of-bounds\n",
      "single positional indexer is out-of-bounds\n",
      "single positional indexer is out-of-bounds\n",
      "single positional indexer is out-of-bounds\n",
      "single positional indexer is out-of-bounds\n",
      "single positional indexer is out-of-bounds\n",
      "single positional indexer is out-of-bounds\n",
      "single positional indexer is out-of-bounds\n",
      "single positional indexer is out-of-bounds\n",
      "single positional indexer is out-of-bounds\n",
      "single positional indexer is out-of-bounds\n",
      "single positional indexer is out-of-bounds\n",
      "single positional indexer is out-of-bounds\n",
      "single positional indexer is out-of-bounds\n",
      "single positional indexer is out-of-bounds\n",
      "single positional indexer is out-of-bounds\n",
      "single positional indexer is out-of-bounds\n",
      "single positional indexer is out-of-bounds\n"
     ]
    },
    {
     "name": "stderr",
     "output_type": "stream",
     "text": [
      "100%|██████████████████████████████████████████████████████████████████████████████████████████████████████████████████████████████████| 795/795 [00:01<00:00, 759.43it/s]\n"
     ]
    }
   ],
   "source": [
    "default_portfolio = {\"ticker\":\"\",\"adjclose\":0,\"quantity\":0,\"buy_price\":0}\n",
    "cash = 100\n",
    "portfolio = default_portfolio.copy()\n",
    "portfolios = []\n",
    "for date in tqdm(dates):\n",
    "    try:\n",
    "        today = sim[sim[\"date\"]==date]\n",
    "        rec = today.sort_values(\"average_return\",ascending=True).iloc[0]\n",
    "        if portfolio[\"ticker\"] == \"\":\n",
    "            portfolio[\"ticker\"] = rec[\"ticker\"]\n",
    "            portfolio[\"adjclose\"] = rec[\"adjclose\"]\n",
    "            portfolio[\"quantity\"] = cash / rec[\"adjclose\"]\n",
    "            portfolio[\"buy_price\"] = rec[\"adjclose\"]\n",
    "            portfolio[\"date\"] = date\n",
    "            cash = 0\n",
    "            portfolios.append(portfolio.copy())\n",
    "        else:\n",
    "            ## update\n",
    "            updates = today[today[\"ticker\"]==portfolio[\"ticker\"]].iloc[0]\n",
    "            portfolio[\"adjclose\"] = updates[\"adjclose\"]\n",
    "            portfolio[\"date\"] = date\n",
    "            if rec[\"ticker\"] != portfolio[\"ticker\"] and updates[\"expected_return\"] < 0:\n",
    "                cash = portfolio[\"adjclose\"] * portfolio[\"quantity\"]\n",
    "                portfolio[\"ticker\"] = rec[\"ticker\"]\n",
    "                portfolio[\"adjclose\"] = rec[\"adjclose\"]\n",
    "                portfolio[\"quantity\"] = cash / rec[\"adjclose\"]\n",
    "                portfolio[\"buy_price\"] = rec[\"adjclose\"]\n",
    "                portfolio[\"date\"] = date\n",
    "                cash = 0\n",
    "                portfolios.append(portfolio.copy())\n",
    "            else:\n",
    "                portfolios.append(portfolio.copy())\n",
    "    except Exception as e:\n",
    "        print(str(e))\n",
    "        continue"
   ]
  },
  {
   "cell_type": "code",
   "execution_count": 34,
   "id": "4515ff52-38e3-48b1-8a0f-e0fa050dce8f",
   "metadata": {},
   "outputs": [],
   "source": [
    "states = pd.DataFrame(portfolios)\n",
    "states[\"pv\"] = states[\"adjclose\"] * states[\"quantity\"]"
   ]
  },
  {
   "cell_type": "code",
   "execution_count": 35,
   "id": "9b089d3a-03c0-4bf1-9972-7733f1be9efa",
   "metadata": {},
   "outputs": [
    {
     "data": {
      "text/plain": [
       "[<matplotlib.lines.Line2D at 0x1d92a4b9150>]"
      ]
     },
     "execution_count": 35,
     "metadata": {},
     "output_type": "execute_result"
    },
    {
     "data": {
      "image/png": "[encoded data removed]",
      "text/plain": [
       "<Figure size 640x480 with 1 Axes>"
      ]
     },
     "metadata": {},
     "output_type": "display_data"
    }
   ],
   "source": [
    "plt.plot(states[\"pv\"])"
   ]
  }
 ],
 "metadata": {
  "kernelspec": {
   "display_name": "Python 3 (ipykernel)",
   "language": "python",
   "name": "python3"
  },
  "language_info": {
   "codemirror_mode": {
    "name": "ipython",
    "version": 3
   },
   "file_extension": ".py",
   "mimetype": "text/x-python",
   "name": "python",
   "nbconvert_exporter": "python",
   "pygments_lexer": "ipython3",
   "version": "3.11.9"
  }
 },
 "nbformat": 4,
 "nbformat_minor": 5
}
