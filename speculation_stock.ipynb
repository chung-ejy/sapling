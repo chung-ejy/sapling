{
 "cells": [
  {
   "cell_type": "code",
   "execution_count": 1,
   "id": "246c49f1-95ae-48c8-a1c2-a5c621cc768f",
   "metadata": {},
   "outputs": [],
   "source": [
    "import pandas as pd\n",
    "from dotenv import load_dotenv\n",
    "import matplotlib.pyplot as plt\n",
    "load_dotenv()\n",
    "import os\n",
    "from datetime import datetime, timedelta\n",
    "from tqdm import tqdm\n",
    "from processor.processor import Processor as p\n",
    "from database.adatabase import ADatabase"
   ]
  },
  {
   "cell_type": "code",
   "execution_count": 2,
   "id": "36e1db84-732c-4764-9cf7-f2346386a8a4",
   "metadata": {},
   "outputs": [],
   "source": [
    "market = ADatabase(\"market\")\n",
    "market.connect()\n",
    "index = market.retrieve(\"sp500\")\n",
    "market.disconnect()"
   ]
  },
  {
   "cell_type": "code",
   "execution_count": 3,
   "id": "c7a6c246-ac2e-4e15-a0ea-cb7a167e8b1b",
   "metadata": {},
   "outputs": [],
   "source": [
    "start = datetime(2020,1,1)\n",
    "end = datetime.now()"
   ]
  },
  {
   "cell_type": "code",
   "execution_count": 4,
   "id": "550785e0-3973-4311-809a-74061bd87500",
   "metadata": {},
   "outputs": [
    {
     "name": "stderr",
     "output_type": "stream",
     "text": [
      " 13%|███████████████████████▋                                                                                                                                                                     | 63/503 [00:03<00:19, 22.07it/s]"
     ]
    },
    {
     "name": "stdout",
     "output_type": "stream",
     "text": [
      "'date'\n"
     ]
    },
    {
     "name": "stderr",
     "output_type": "stream",
     "text": [
      " 15%|████████████████████████████▉                                                                                                                                                                | 77/503 [00:03<00:20, 20.58it/s]"
     ]
    },
    {
     "name": "stdout",
     "output_type": "stream",
     "text": [
      "'date'\n"
     ]
    },
    {
     "name": "stderr",
     "output_type": "stream",
     "text": [
      "100%|████████████████████████████████████████████████████████████████████████████████████████████████████████████████████████████████████████████████████████████████████████████████████████████| 503/503 [00:25<00:00, 19.59it/s]"
     ]
    },
    {
     "name": "stdout",
     "output_type": "stream",
     "text": [
      "'date'\n"
     ]
    },
    {
     "name": "stderr",
     "output_type": "stream",
     "text": [
      "\n"
     ]
    }
   ],
   "source": [
    "prices = []\n",
    "date = start\n",
    "market.connect()\n",
    "for ticker in tqdm(index[\"ticker\"]):\n",
    "    try:\n",
    "        price = market.query(\"prices\",{\"ticker\":ticker})\n",
    "        price = p.column_date_processing(price)\n",
    "        price.sort_values(\"date\",inplace=True)\n",
    "        prices.append(price)\n",
    "    except Exception as e:\n",
    "        print(str(e))\n",
    "market.disconnect()"
   ]
  },
  {
   "cell_type": "code",
   "execution_count": 5,
   "id": "843d6132-315a-4dbe-8a0b-0dd7601c2518",
   "metadata": {},
   "outputs": [],
   "source": [
    "market_prices = pd.concat(prices)"
   ]
  },
  {
   "cell_type": "code",
   "execution_count": 6,
   "id": "a6a5d6bb-13a5-47e5-a760-610a0f05508c",
   "metadata": {},
   "outputs": [],
   "source": [
    "def calculate_indicators(price, timeframe):\n",
    "    \"\"\"Calculate indicators for a single ticker.\"\"\"\n",
    "    price = price.sort_values(\"date\")\n",
    "    price[\"sma\"] = price[\"adjclose\"].rolling(timeframe).mean() / price[\"adjclose\"]\n",
    "    price[\"ema\"] = price[\"adjclose\"].ewm(span=timeframe, adjust=False).mean() / price[\"adjclose\"]\n",
    "\n",
    "    delta = price[\"adjclose\"].diff()\n",
    "    gain = (delta.where(delta > 0, 0)).rolling(timeframe).mean()\n",
    "    loss = (-delta.where(delta < 0, 0)).rolling(timeframe).mean()\n",
    "    rs = gain / loss\n",
    "    price[\"rsi\"] = 100 - (100 / (1 + rs))\n",
    "\n",
    "    price[\"std\"] = price[\"adjclose\"].rolling(timeframe).std()\n",
    "    price[\"bollinger_upper\"] = (price[\"sma\"] + 2 * price[\"std\"]) / price[\"sma\"]\n",
    "    price[\"bollinger_lower\"] = (price[\"sma\"] - 2 * price[\"std\"]) / price[\"sma\"]\n",
    "\n",
    "    price[\"pct_change\"] = price[\"adjclose\"].pct_change(periods=timeframe)\n",
    "    price[\"coev\"] = price[\"adjclose\"].rolling(timeframe).std() / price[\"adjclose\"].rolling(timeframe).mean()\n",
    "    price[\"year\"] = price[\"date\"].dt.year\n",
    "    price[\"week\"] = [x.week for x in price[\"date\"]]\n",
    "    price[\"sell_price\"] = price[\"adjclose\"]\n",
    "    return price.dropna()"
   ]
  },
  {
   "cell_type": "code",
   "execution_count": 7,
   "id": "33df89eb-d07a-4f2b-ab92-d80d8bd9bd59",
   "metadata": {},
   "outputs": [],
   "source": [
    "signals = [\"sma\"\n",
    "           ,\"ema\",\"rsi\",\"bollinger_upper\",\"bollinger_lower\",\"pct_change\",\"coev\"\n",
    "          ]\n",
    "ascendings = [True,False]\n",
    "timeframes = [5,10,20,60,100]"
   ]
  },
  {
   "cell_type": "code",
   "execution_count": 27,
   "id": "422d99de-ed03-4b69-82f7-18ac039f363c",
   "metadata": {},
   "outputs": [
    {
     "name": "stderr",
     "output_type": "stream",
     "text": [
      "  0%|                                                                                                                                                                                                        | 0/5 [00:00<?, ?it/s]C:\\Users\\eric\\AppData\\Local\\Temp\\ipykernel_16720\\1476477003.py:4: DeprecationWarning: DataFrameGroupBy.apply operated on the grouping columns. This behavior is deprecated, and in a future version of pandas the grouping columns will be excluded from the operation. Either pass `include_groups=False` to exclude the groupings or explicitly select the grouping columns after groupby to silence this warning.\n",
      "  sim = market_prices.sort_values(\"date\").groupby(\"ticker\").apply(lambda x: calculate_indicators(x,timeframe)).reset_index(drop=True).sort_values(\"date\")\n",
      " 20%|██████████████████████████████████████▍                                                                                                                                                         | 1/5 [00:12<00:48, 12.04s/it]C:\\Users\\eric\\AppData\\Local\\Temp\\ipykernel_16720\\1476477003.py:4: DeprecationWarning: DataFrameGroupBy.apply operated on the grouping columns. This behavior is deprecated, and in a future version of pandas the grouping columns will be excluded from the operation. Either pass `include_groups=False` to exclude the groupings or explicitly select the grouping columns after groupby to silence this warning.\n",
      "  sim = market_prices.sort_values(\"date\").groupby(\"ticker\").apply(lambda x: calculate_indicators(x,timeframe)).reset_index(drop=True).sort_values(\"date\")\n",
      " 40%|████████████████████████████████████████████████████████████████████████████▊                                                                                                                   | 2/5 [00:23<00:35, 11.95s/it]C:\\Users\\eric\\AppData\\Local\\Temp\\ipykernel_16720\\1476477003.py:4: DeprecationWarning: DataFrameGroupBy.apply operated on the grouping columns. This behavior is deprecated, and in a future version of pandas the grouping columns will be excluded from the operation. Either pass `include_groups=False` to exclude the groupings or explicitly select the grouping columns after groupby to silence this warning.\n",
      "  sim = market_prices.sort_values(\"date\").groupby(\"ticker\").apply(lambda x: calculate_indicators(x,timeframe)).reset_index(drop=True).sort_values(\"date\")\n",
      " 60%|███████████████████████████████████████████████████████████████████████████████████████████████████████████████████▏                                                                            | 3/5 [00:35<00:23, 11.81s/it]C:\\Users\\eric\\AppData\\Local\\Temp\\ipykernel_16720\\1476477003.py:4: DeprecationWarning: DataFrameGroupBy.apply operated on the grouping columns. This behavior is deprecated, and in a future version of pandas the grouping columns will be excluded from the operation. Either pass `include_groups=False` to exclude the groupings or explicitly select the grouping columns after groupby to silence this warning.\n",
      "  sim = market_prices.sort_values(\"date\").groupby(\"ticker\").apply(lambda x: calculate_indicators(x,timeframe)).reset_index(drop=True).sort_values(\"date\")\n",
      " 80%|█████████████████████████████████████████████████████████████████████████████████████████████████████████████████████████████████████████████████████████▌                                      | 4/5 [00:47<00:11, 11.72s/it]C:\\Users\\eric\\AppData\\Local\\Temp\\ipykernel_16720\\1476477003.py:4: DeprecationWarning: DataFrameGroupBy.apply operated on the grouping columns. This behavior is deprecated, and in a future version of pandas the grouping columns will be excluded from the operation. Either pass `include_groups=False` to exclude the groupings or explicitly select the grouping columns after groupby to silence this warning.\n",
      "  sim = market_prices.sort_values(\"date\").groupby(\"ticker\").apply(lambda x: calculate_indicators(x,timeframe)).reset_index(drop=True).sort_values(\"date\")\n",
      "100%|████████████████████████████████████████████████████████████████████████████████████████████████████████████████████████████████████████████████████████████████████████████████████████████████| 5/5 [00:58<00:00, 11.76s/it]\n",
      "  0%|                                                                                                                                                                                                        | 0/5 [00:00<?, ?it/s]C:\\Users\\eric\\AppData\\Local\\Temp\\ipykernel_16720\\1476477003.py:4: DeprecationWarning: DataFrameGroupBy.apply operated on the grouping columns. This behavior is deprecated, and in a future version of pandas the grouping columns will be excluded from the operation. Either pass `include_groups=False` to exclude the groupings or explicitly select the grouping columns after groupby to silence this warning.\n",
      "  sim = market_prices.sort_values(\"date\").groupby(\"ticker\").apply(lambda x: calculate_indicators(x,timeframe)).reset_index(drop=True).sort_values(\"date\")\n",
      " 20%|██████████████████████████████████████▍                                                                                                                                                         | 1/5 [00:11<00:46, 11.54s/it]C:\\Users\\eric\\AppData\\Local\\Temp\\ipykernel_16720\\1476477003.py:4: DeprecationWarning: DataFrameGroupBy.apply operated on the grouping columns. This behavior is deprecated, and in a future version of pandas the grouping columns will be excluded from the operation. Either pass `include_groups=False` to exclude the groupings or explicitly select the grouping columns after groupby to silence this warning.\n",
      "  sim = market_prices.sort_values(\"date\").groupby(\"ticker\").apply(lambda x: calculate_indicators(x,timeframe)).reset_index(drop=True).sort_values(\"date\")\n",
      " 40%|████████████████████████████████████████████████████████████████████████████▊                                                                                                                   | 2/5 [00:23<00:34, 11.60s/it]C:\\Users\\eric\\AppData\\Local\\Temp\\ipykernel_16720\\1476477003.py:4: DeprecationWarning: DataFrameGroupBy.apply operated on the grouping columns. This behavior is deprecated, and in a future version of pandas the grouping columns will be excluded from the operation. Either pass `include_groups=False` to exclude the groupings or explicitly select the grouping columns after groupby to silence this warning.\n",
      "  sim = market_prices.sort_values(\"date\").groupby(\"ticker\").apply(lambda x: calculate_indicators(x,timeframe)).reset_index(drop=True).sort_values(\"date\")\n",
      " 60%|███████████████████████████████████████████████████████████████████████████████████████████████████████████████████▏                                                                            | 3/5 [00:34<00:23, 11.56s/it]C:\\Users\\eric\\AppData\\Local\\Temp\\ipykernel_16720\\1476477003.py:4: DeprecationWarning: DataFrameGroupBy.apply operated on the grouping columns. This behavior is deprecated, and in a future version of pandas the grouping columns will be excluded from the operation. Either pass `include_groups=False` to exclude the groupings or explicitly select the grouping columns after groupby to silence this warning.\n",
      "  sim = market_prices.sort_values(\"date\").groupby(\"ticker\").apply(lambda x: calculate_indicators(x,timeframe)).reset_index(drop=True).sort_values(\"date\")\n",
      " 80%|█████████████████████████████████████████████████████████████████████████████████████████████████████████████████████████████████████████████████████████▌                                      | 4/5 [00:46<00:11, 11.69s/it]C:\\Users\\eric\\AppData\\Local\\Temp\\ipykernel_16720\\1476477003.py:4: DeprecationWarning: DataFrameGroupBy.apply operated on the grouping columns. This behavior is deprecated, and in a future version of pandas the grouping columns will be excluded from the operation. Either pass `include_groups=False` to exclude the groupings or explicitly select the grouping columns after groupby to silence this warning.\n",
      "  sim = market_prices.sort_values(\"date\").groupby(\"ticker\").apply(lambda x: calculate_indicators(x,timeframe)).reset_index(drop=True).sort_values(\"date\")\n",
      "100%|████████████████████████████████████████████████████████████████████████████████████████████████████████████████████████████████████████████████████████████████████████████████████████████████| 5/5 [00:58<00:00, 11.66s/it]\n"
     ]
    }
   ],
   "source": [
    "analysis = []\n",
    "for stocks in [1,5]:\n",
    "    for timeframe in tqdm(timeframes):\n",
    "        sim = market_prices.sort_values(\"date\").groupby(\"ticker\").apply(lambda x: calculate_indicators(x,timeframe)).reset_index(drop=True).sort_values(\"date\")\n",
    "        for signal in signals:\n",
    "            for ascending in ascendings:\n",
    "                opportunities = sim[sim[\"year\"]>=2020].groupby([\"year\",\"week\",\"ticker\"]).agg({\"date\":\"last\",\"adjclose\":\"first\",\"sell_price\":\"last\",signal:\"first\"}).reset_index()\n",
    "                # trades = opportunities.sort_values(signal,ascending=ascending).groupby([\"year\",\"week\"]).first().reset_index()\n",
    "                trades = opportunities.sort_values(signal,ascending=ascending).groupby([\"year\",\"week\"]).nth([i for i in range(stocks)]).reset_index()\n",
    "                trades.sort_values(\"date\",inplace=True)\n",
    "                trades[\"return\"] = trades[\"sell_price\"] / trades[\"adjclose\"]\n",
    "                trades = trades.groupby(\"date\").agg({\"return\":\"mean\"}).reset_index()\n",
    "                trades[\"pnl\"] = trades[\"return\"].cumprod()\n",
    "                pnl = trades[\"pnl\"].iloc[-1]\n",
    "                wins = trades[trades[\"return\"]>=1]\n",
    "                losses = trades[trades[\"return\"]<1]\n",
    "                average_gain = wins[\"return\"].mean()\n",
    "                average_loss = losses[\"return\"].mean()\n",
    "                analysis.append({\n",
    "                    \"stocks\":stocks,\n",
    "                    \"timeframe\":timeframe,\n",
    "                    \"signal\":signal,\n",
    "                    \"ascending\":ascending,\n",
    "                    \"pnl\":trades[\"pnl\"].iloc[-1] * 1000 - 1000,\n",
    "                    \"volatility\": trades[\"return\"].std(),\n",
    "                    \"average_gain\":average_gain,\n",
    "                    \"average_loss\":average_loss,\n",
    "                    \"w/l\":wins.index.size / losses.index.size\n",
    "                })"
   ]
  },
  {
   "cell_type": "code",
   "execution_count": 28,
   "id": "2095bf33-f9c9-4a3f-99a6-73f5e3142d91",
   "metadata": {},
   "outputs": [],
   "source": [
    "a = pd.DataFrame(analysis)"
   ]
  },
  {
   "cell_type": "code",
   "execution_count": 29,
   "id": "4ee4c7b3-449a-4aa0-96fb-a7c55f9f00d1",
   "metadata": {},
   "outputs": [
    {
     "data": {
      "text/html": [
       "<div>\n",
       "<style scoped>\n",
       "    .dataframe tbody tr th:only-of-type {\n",
       "        vertical-align: middle;\n",
       "    }\n",
       "\n",
       "    .dataframe tbody tr th {\n",
       "        vertical-align: top;\n",
       "    }\n",
       "\n",
       "    .dataframe thead th {\n",
       "        text-align: right;\n",
       "    }\n",
       "</style>\n",
       "<table border=\"1\" class=\"dataframe\">\n",
       "  <thead>\n",
       "    <tr style=\"text-align: right;\">\n",
       "      <th></th>\n",
       "      <th>stocks</th>\n",
       "      <th>timeframe</th>\n",
       "      <th>signal</th>\n",
       "      <th>ascending</th>\n",
       "      <th>pnl</th>\n",
       "      <th>volatility</th>\n",
       "      <th>average_gain</th>\n",
       "      <th>average_loss</th>\n",
       "      <th>w/l</th>\n",
       "    </tr>\n",
       "  </thead>\n",
       "  <tbody>\n",
       "    <tr>\n",
       "      <th>38</th>\n",
       "      <td>1</td>\n",
       "      <td>20</td>\n",
       "      <td>pct_change</td>\n",
       "      <td>True</td>\n",
       "      <td>36672.410549</td>\n",
       "      <td>0.233222</td>\n",
       "      <td>1.085787</td>\n",
       "      <td>0.954383</td>\n",
       "      <td>1.147541</td>\n",
       "    </tr>\n",
       "    <tr>\n",
       "      <th>31</th>\n",
       "      <td>1</td>\n",
       "      <td>20</td>\n",
       "      <td>ema</td>\n",
       "      <td>False</td>\n",
       "      <td>17160.101542</td>\n",
       "      <td>0.231076</td>\n",
       "      <td>1.080896</td>\n",
       "      <td>0.952079</td>\n",
       "      <td>1.165289</td>\n",
       "    </tr>\n",
       "    <tr>\n",
       "      <th>3</th>\n",
       "      <td>1</td>\n",
       "      <td>5</td>\n",
       "      <td>ema</td>\n",
       "      <td>False</td>\n",
       "      <td>15131.496317</td>\n",
       "      <td>0.073400</td>\n",
       "      <td>1.057188</td>\n",
       "      <td>0.959473</td>\n",
       "      <td>1.220339</td>\n",
       "    </tr>\n",
       "    <tr>\n",
       "      <th>17</th>\n",
       "      <td>1</td>\n",
       "      <td>10</td>\n",
       "      <td>ema</td>\n",
       "      <td>False</td>\n",
       "      <td>12107.459038</td>\n",
       "      <td>0.074821</td>\n",
       "      <td>1.059071</td>\n",
       "      <td>0.954822</td>\n",
       "      <td>1.239316</td>\n",
       "    </tr>\n",
       "    <tr>\n",
       "      <th>15</th>\n",
       "      <td>1</td>\n",
       "      <td>10</td>\n",
       "      <td>sma</td>\n",
       "      <td>False</td>\n",
       "      <td>11959.618936</td>\n",
       "      <td>0.076865</td>\n",
       "      <td>1.060206</td>\n",
       "      <td>0.955336</td>\n",
       "      <td>1.201681</td>\n",
       "    </tr>\n",
       "    <tr>\n",
       "      <th>59</th>\n",
       "      <td>1</td>\n",
       "      <td>100</td>\n",
       "      <td>ema</td>\n",
       "      <td>False</td>\n",
       "      <td>8276.586836</td>\n",
       "      <td>0.087992</td>\n",
       "      <td>1.063577</td>\n",
       "      <td>0.949201</td>\n",
       "      <td>1.220339</td>\n",
       "    </tr>\n",
       "    <tr>\n",
       "      <th>115</th>\n",
       "      <td>5</td>\n",
       "      <td>60</td>\n",
       "      <td>ema</td>\n",
       "      <td>False</td>\n",
       "      <td>6706.442394</td>\n",
       "      <td>0.080611</td>\n",
       "      <td>1.047122</td>\n",
       "      <td>0.968159</td>\n",
       "      <td>1.147541</td>\n",
       "    </tr>\n",
       "    <tr>\n",
       "      <th>57</th>\n",
       "      <td>1</td>\n",
       "      <td>100</td>\n",
       "      <td>sma</td>\n",
       "      <td>False</td>\n",
       "      <td>6303.292844</td>\n",
       "      <td>0.088886</td>\n",
       "      <td>1.062889</td>\n",
       "      <td>0.950969</td>\n",
       "      <td>1.165289</td>\n",
       "    </tr>\n",
       "    <tr>\n",
       "      <th>45</th>\n",
       "      <td>1</td>\n",
       "      <td>60</td>\n",
       "      <td>ema</td>\n",
       "      <td>False</td>\n",
       "      <td>6011.406993</td>\n",
       "      <td>0.088085</td>\n",
       "      <td>1.064141</td>\n",
       "      <td>0.951849</td>\n",
       "      <td>1.112903</td>\n",
       "    </tr>\n",
       "    <tr>\n",
       "      <th>66</th>\n",
       "      <td>1</td>\n",
       "      <td>100</td>\n",
       "      <td>pct_change</td>\n",
       "      <td>True</td>\n",
       "      <td>5872.746621</td>\n",
       "      <td>0.076190</td>\n",
       "      <td>1.056311</td>\n",
       "      <td>0.956227</td>\n",
       "      <td>1.165289</td>\n",
       "    </tr>\n",
       "  </tbody>\n",
       "</table>\n",
       "</div>"
      ],
      "text/plain": [
       "     stocks  timeframe      signal  ascending           pnl  volatility  \\\n",
       "38        1         20  pct_change       True  36672.410549    0.233222   \n",
       "31        1         20         ema      False  17160.101542    0.231076   \n",
       "3         1          5         ema      False  15131.496317    0.073400   \n",
       "17        1         10         ema      False  12107.459038    0.074821   \n",
       "15        1         10         sma      False  11959.618936    0.076865   \n",
       "59        1        100         ema      False   8276.586836    0.087992   \n",
       "115       5         60         ema      False   6706.442394    0.080611   \n",
       "57        1        100         sma      False   6303.292844    0.088886   \n",
       "45        1         60         ema      False   6011.406993    0.088085   \n",
       "66        1        100  pct_change       True   5872.746621    0.076190   \n",
       "\n",
       "     average_gain  average_loss       w/l  \n",
       "38       1.085787      0.954383  1.147541  \n",
       "31       1.080896      0.952079  1.165289  \n",
       "3        1.057188      0.959473  1.220339  \n",
       "17       1.059071      0.954822  1.239316  \n",
       "15       1.060206      0.955336  1.201681  \n",
       "59       1.063577      0.949201  1.220339  \n",
       "115      1.047122      0.968159  1.147541  \n",
       "57       1.062889      0.950969  1.165289  \n",
       "45       1.064141      0.951849  1.112903  \n",
       "66       1.056311      0.956227  1.165289  "
      ]
     },
     "execution_count": 29,
     "metadata": {},
     "output_type": "execute_result"
    }
   ],
   "source": [
    "a.sort_values(\"pnl\",ascending=False).head(10)"
   ]
  },
  {
   "cell_type": "code",
   "execution_count": 30,
   "id": "523fabcc-2415-4a23-b20e-ecf061fecaf1",
   "metadata": {},
   "outputs": [
    {
     "data": {
      "image/png": "[encoded data removed]",
      "text/plain": [
       "<Figure size 640x480 with 1 Axes>"
      ]
     },
     "metadata": {},
     "output_type": "display_data"
    }
   ],
   "source": [
    "plt.plot(trades[\"date\"],trades[\"pnl\"])\n",
    "plt.show()"
   ]
  }
 ],
 "metadata": {
  "kernelspec": {
   "display_name": "Python 3 (ipykernel)",
   "language": "python",
   "name": "python3"
  },
  "language_info": {
   "codemirror_mode": {
    "name": "ipython",
    "version": 3
   },
   "file_extension": ".py",
   "mimetype": "text/x-python",
   "name": "python",
   "nbconvert_exporter": "python",
   "pygments_lexer": "ipython3",
   "version": "3.11.9"
  }
 },
 "nbformat": 4,
 "nbformat_minor": 5
}
