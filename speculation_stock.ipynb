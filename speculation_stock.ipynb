{
 "cells": [
  {
   "cell_type": "code",
   "execution_count": 1,
   "id": "246c49f1-95ae-48c8-a1c2-a5c621cc768f",
   "metadata": {},
   "outputs": [],
   "source": [
    "import pandas as pd\n",
    "from dotenv import load_dotenv\n",
    "import matplotlib.pyplot as plt\n",
    "load_dotenv()\n",
    "import os\n",
    "from datetime import datetime, timedelta\n",
    "from tqdm import tqdm\n",
    "from processor.processor import Processor as p\n",
    "from database.adatabase import ADatabase"
   ]
  },
  {
   "cell_type": "code",
   "execution_count": 2,
   "id": "36e1db84-732c-4764-9cf7-f2346386a8a4",
   "metadata": {},
   "outputs": [],
   "source": [
    "market = ADatabase(\"market\")\n",
    "market.connect()\n",
    "index = market.retrieve(\"sp500\")\n",
    "market.disconnect()"
   ]
  },
  {
   "cell_type": "code",
   "execution_count": 3,
   "id": "c7a6c246-ac2e-4e15-a0ea-cb7a167e8b1b",
   "metadata": {},
   "outputs": [],
   "source": [
    "start = datetime(2024,1,1)\n",
    "end = datetime.now()"
   ]
  },
  {
   "cell_type": "code",
   "execution_count": 5,
   "id": "550785e0-3973-4311-809a-74061bd87500",
   "metadata": {},
   "outputs": [
    {
     "name": "stderr",
     "output_type": "stream",
     "text": [
      " 12%|█████████████                                                                                                 | 60/503 [00:17<02:10,  3.39it/s]"
     ]
    },
    {
     "name": "stdout",
     "output_type": "stream",
     "text": [
      "'date'\n"
     ]
    },
    {
     "name": "stderr",
     "output_type": "stream",
     "text": [
      " 15%|████████████████▍                                                                                             | 75/503 [00:22<02:32,  2.81it/s]"
     ]
    },
    {
     "name": "stdout",
     "output_type": "stream",
     "text": [
      "'date'\n"
     ]
    },
    {
     "name": "stderr",
     "output_type": "stream",
     "text": [
      "100%|█████████████████████████████████████████████████████████████████████████████████████████████████████████████| 503/503 [02:29<00:00,  3.37it/s]"
     ]
    },
    {
     "name": "stdout",
     "output_type": "stream",
     "text": [
      "'date'\n"
     ]
    },
    {
     "name": "stderr",
     "output_type": "stream",
     "text": [
      "\n"
     ]
    }
   ],
   "source": [
    "prices = []\n",
    "date = start\n",
    "market.connect()\n",
    "for ticker in tqdm(index[\"ticker\"]):\n",
    "    try:\n",
    "        price = market.query(\"prices\",{\"ticker\":ticker})\n",
    "        price = p.column_date_processing(price)\n",
    "        price.sort_values(\"date\",inplace=True)\n",
    "        prices.append(price)\n",
    "    except Exception as e:\n",
    "        print(str(e))\n",
    "market.disconnect()"
   ]
  },
  {
   "cell_type": "code",
   "execution_count": 6,
   "id": "843d6132-315a-4dbe-8a0b-0dd7601c2518",
   "metadata": {},
   "outputs": [],
   "source": [
    "market_prices = pd.concat(prices)"
   ]
  },
  {
   "cell_type": "code",
   "execution_count": 7,
   "id": "a6a5d6bb-13a5-47e5-a760-610a0f05508c",
   "metadata": {},
   "outputs": [],
   "source": [
    "def calculate_indicators(price, timeframe):\n",
    "    \"\"\"Calculate indicators for a single ticker.\"\"\"\n",
    "    price = price.sort_values(\"date\")\n",
    "    price[\"sma\"] = price[\"adjclose\"].rolling(timeframe).mean()\n",
    "    price[\"ema\"] = price[\"adjclose\"].ewm(span=timeframe, adjust=False).mean()\n",
    "\n",
    "    delta = price[\"adjclose\"].diff()\n",
    "    gain = (delta.where(delta > 0, 0)).rolling(timeframe).mean()\n",
    "    loss = (-delta.where(delta < 0, 0)).rolling(timeframe).mean()\n",
    "    rs = gain / loss\n",
    "    price[\"rsi\"] = 100 - (100 / (1 + rs))\n",
    "\n",
    "    price[\"std\"] = price[\"adjclose\"].rolling(timeframe).std()\n",
    "    price[\"bollinger_upper\"] = price[\"sma\"] + 2 * price[\"std\"]\n",
    "    price[\"bollinger_lower\"] = price[\"sma\"] - 2 * price[\"std\"]\n",
    "\n",
    "    price[\"pct_change\"] = price[\"adjclose\"].pct_change(periods=timeframe)\n",
    "    price[\"momentum\"] = price[\"adjclose\"] - price[\"adjclose\"].shift(timeframe)\n",
    "\n",
    "    price[\"volatility\"] = price[\"adjclose\"].rolling(timeframe).std()\n",
    "    price[\"coev\"] = price[\"adjclose\"].rolling(timeframe).std() / price[\"adjclose\"].rolling(timeframe).mean()\n",
    "\n",
    "    return price.dropna()"
   ]
  },
  {
   "cell_type": "code",
   "execution_count": 45,
   "id": "9c338435-9615-43f7-9487-1c8971b6f655",
   "metadata": {},
   "outputs": [
    {
     "name": "stderr",
     "output_type": "stream",
     "text": [
      "100%|█████████████████████████████████████████████████████████████████████████████████████████████████████████████| 500/500 [10:38<00:00,  1.28s/it]\n"
     ]
    }
   ],
   "source": [
    "prices = []\n",
    "timeframe = 100\n",
    "for ticker in tqdm(market_prices[\"ticker\"].unique()):\n",
    "    try:\n",
    "        price = market_prices[market_prices[\"ticker\"] == ticker]\n",
    "        price = calculate_indicators(price, timeframe)\n",
    "        prices.append(price)\n",
    "    except Exception as e:\n",
    "        print(f\"Error processing {ticker}: {e}\")\n",
    "\n",
    "# Combine and sort all price data\n",
    "sim = pd.concat(prices).dropna().sort_values(\"date\")\n",
    "sim[\"year\"] = sim[\"date\"].dt.year\n",
    "sim[\"week\"] = [x.week for x in sim[\"date\"]]\n",
    "sim[\"sell_price\"] = sim[\"adjclose\"]"
   ]
  },
  {
   "cell_type": "code",
   "execution_count": 46,
   "id": "33df89eb-d07a-4f2b-ab92-d80d8bd9bd59",
   "metadata": {},
   "outputs": [],
   "source": [
    "signals = [\"sma\"\n",
    "           ,\"ema\",\"rsi\",\"volatility\",\"bollinger_upper\",\"bollinger_lower\",\"momentum\",\"pct_change\",\"coev\"\n",
    "          ]\n",
    "ascendings = [True,False]"
   ]
  },
  {
   "cell_type": "code",
   "execution_count": 47,
   "id": "422d99de-ed03-4b69-82f7-18ac039f363c",
   "metadata": {},
   "outputs": [],
   "source": [
    "analysis = []\n",
    "for signal in signals:\n",
    "    for ascending in ascendings:\n",
    "        opportunities = sim[sim[\"year\"]>2012].groupby([\"year\",\"week\",\"ticker\"]).agg({\"date\":\"last\",\"adjclose\":\"first\",\"sell_price\":\"last\",signal:\"first\"}).reset_index()\n",
    "        trades = opportunities.sort_values(signal,ascending=ascending).groupby([\"year\",\"week\"]).first().reset_index()\n",
    "        trades.sort_values(\"date\",inplace=True)\n",
    "        trades[\"return\"] = trades[\"sell_price\"] / trades[\"adjclose\"]\n",
    "        trades[\"pnl\"] = trades[\"return\"].cumprod()\n",
    "        trades[\"downside\"] = trades[\"pnl\"].rolling(100).max() - trades[\"pnl\"]\n",
    "        analysis.append({\n",
    "            \"signal\":signal,\n",
    "            \"ascending\":ascending,\n",
    "            \"pnl\":trades[\"pnl\"].iloc[-1],\n",
    "            \"downside\":trades[\"downside\"].max(),\n",
    "            \"volatility\": trades[\"return\"].std()\n",
    "        })"
   ]
  },
  {
   "cell_type": "code",
   "execution_count": 48,
   "id": "2095bf33-f9c9-4a3f-99a6-73f5e3142d91",
   "metadata": {},
   "outputs": [],
   "source": [
    "a = pd.DataFrame(analysis)\n",
    "a[\"risk\"] = a[\"downside\"] * a[\"volatility\"]"
   ]
  },
  {
   "cell_type": "code",
   "execution_count": 49,
   "id": "4ee4c7b3-449a-4aa0-96fb-a7c55f9f00d1",
   "metadata": {},
   "outputs": [
    {
     "data": {
      "text/html": [
       "<div>\n",
       "<style scoped>\n",
       "    .dataframe tbody tr th:only-of-type {\n",
       "        vertical-align: middle;\n",
       "    }\n",
       "\n",
       "    .dataframe tbody tr th {\n",
       "        vertical-align: top;\n",
       "    }\n",
       "\n",
       "    .dataframe thead th {\n",
       "        text-align: right;\n",
       "    }\n",
       "</style>\n",
       "<table border=\"1\" class=\"dataframe\">\n",
       "  <thead>\n",
       "    <tr style=\"text-align: right;\">\n",
       "      <th></th>\n",
       "      <th>signal</th>\n",
       "      <th>ascending</th>\n",
       "      <th>pnl</th>\n",
       "      <th>downside</th>\n",
       "      <th>volatility</th>\n",
       "      <th>risk</th>\n",
       "    </tr>\n",
       "  </thead>\n",
       "  <tbody>\n",
       "    <tr>\n",
       "      <th>7</th>\n",
       "      <td>volatility</td>\n",
       "      <td>False</td>\n",
       "      <td>9.312654</td>\n",
       "      <td>1.462237</td>\n",
       "      <td>0.044274</td>\n",
       "      <td>0.064739</td>\n",
       "    </tr>\n",
       "    <tr>\n",
       "      <th>11</th>\n",
       "      <td>bollinger_lower</td>\n",
       "      <td>False</td>\n",
       "      <td>9.140506</td>\n",
       "      <td>1.513883</td>\n",
       "      <td>0.043166</td>\n",
       "      <td>0.065349</td>\n",
       "    </tr>\n",
       "    <tr>\n",
       "      <th>1</th>\n",
       "      <td>sma</td>\n",
       "      <td>False</td>\n",
       "      <td>9.096748</td>\n",
       "      <td>1.506635</td>\n",
       "      <td>0.043405</td>\n",
       "      <td>0.065395</td>\n",
       "    </tr>\n",
       "    <tr>\n",
       "      <th>3</th>\n",
       "      <td>ema</td>\n",
       "      <td>False</td>\n",
       "      <td>9.373537</td>\n",
       "      <td>1.552478</td>\n",
       "      <td>0.043400</td>\n",
       "      <td>0.067378</td>\n",
       "    </tr>\n",
       "    <tr>\n",
       "      <th>9</th>\n",
       "      <td>bollinger_upper</td>\n",
       "      <td>False</td>\n",
       "      <td>9.472506</td>\n",
       "      <td>1.568870</td>\n",
       "      <td>0.043447</td>\n",
       "      <td>0.068162</td>\n",
       "    </tr>\n",
       "    <tr>\n",
       "      <th>13</th>\n",
       "      <td>momentum</td>\n",
       "      <td>False</td>\n",
       "      <td>4.458965</td>\n",
       "      <td>1.902260</td>\n",
       "      <td>0.037940</td>\n",
       "      <td>0.072172</td>\n",
       "    </tr>\n",
       "    <tr>\n",
       "      <th>16</th>\n",
       "      <td>coev</td>\n",
       "      <td>True</td>\n",
       "      <td>6.693704</td>\n",
       "      <td>2.730743</td>\n",
       "      <td>0.031376</td>\n",
       "      <td>0.085679</td>\n",
       "    </tr>\n",
       "    <tr>\n",
       "      <th>12</th>\n",
       "      <td>momentum</td>\n",
       "      <td>True</td>\n",
       "      <td>5.778976</td>\n",
       "      <td>4.084054</td>\n",
       "      <td>0.055333</td>\n",
       "      <td>0.225984</td>\n",
       "    </tr>\n",
       "    <tr>\n",
       "      <th>5</th>\n",
       "      <td>rsi</td>\n",
       "      <td>False</td>\n",
       "      <td>2.499461</td>\n",
       "      <td>8.791324</td>\n",
       "      <td>0.066969</td>\n",
       "      <td>0.588748</td>\n",
       "    </tr>\n",
       "    <tr>\n",
       "      <th>6</th>\n",
       "      <td>volatility</td>\n",
       "      <td>True</td>\n",
       "      <td>38.340133</td>\n",
       "      <td>9.624768</td>\n",
       "      <td>0.061195</td>\n",
       "      <td>0.588984</td>\n",
       "    </tr>\n",
       "    <tr>\n",
       "      <th>4</th>\n",
       "      <td>rsi</td>\n",
       "      <td>True</td>\n",
       "      <td>7.931985</td>\n",
       "      <td>10.179159</td>\n",
       "      <td>0.075446</td>\n",
       "      <td>0.767973</td>\n",
       "    </tr>\n",
       "    <tr>\n",
       "      <th>15</th>\n",
       "      <td>pct_change</td>\n",
       "      <td>False</td>\n",
       "      <td>93.344694</td>\n",
       "      <td>33.143529</td>\n",
       "      <td>0.092050</td>\n",
       "      <td>3.050858</td>\n",
       "    </tr>\n",
       "    <tr>\n",
       "      <th>8</th>\n",
       "      <td>bollinger_upper</td>\n",
       "      <td>True</td>\n",
       "      <td>456.981637</td>\n",
       "      <td>45.642299</td>\n",
       "      <td>0.073624</td>\n",
       "      <td>3.360371</td>\n",
       "    </tr>\n",
       "    <tr>\n",
       "      <th>14</th>\n",
       "      <td>pct_change</td>\n",
       "      <td>True</td>\n",
       "      <td>284.886536</td>\n",
       "      <td>98.184589</td>\n",
       "      <td>0.095365</td>\n",
       "      <td>9.363365</td>\n",
       "    </tr>\n",
       "    <tr>\n",
       "      <th>0</th>\n",
       "      <td>sma</td>\n",
       "      <td>True</td>\n",
       "      <td>1281.091965</td>\n",
       "      <td>128.073293</td>\n",
       "      <td>0.079283</td>\n",
       "      <td>10.153973</td>\n",
       "    </tr>\n",
       "    <tr>\n",
       "      <th>17</th>\n",
       "      <td>coev</td>\n",
       "      <td>False</td>\n",
       "      <td>53.576760</td>\n",
       "      <td>90.873397</td>\n",
       "      <td>0.112256</td>\n",
       "      <td>10.201122</td>\n",
       "    </tr>\n",
       "    <tr>\n",
       "      <th>2</th>\n",
       "      <td>ema</td>\n",
       "      <td>True</td>\n",
       "      <td>1339.179860</td>\n",
       "      <td>133.880454</td>\n",
       "      <td>0.079047</td>\n",
       "      <td>10.582836</td>\n",
       "    </tr>\n",
       "    <tr>\n",
       "      <th>10</th>\n",
       "      <td>bollinger_lower</td>\n",
       "      <td>True</td>\n",
       "      <td>1087.023440</td>\n",
       "      <td>417.616485</td>\n",
       "      <td>0.086096</td>\n",
       "      <td>35.955213</td>\n",
       "    </tr>\n",
       "  </tbody>\n",
       "</table>\n",
       "</div>"
      ],
      "text/plain": [
       "             signal  ascending          pnl    downside  volatility       risk\n",
       "7        volatility      False     9.312654    1.462237    0.044274   0.064739\n",
       "11  bollinger_lower      False     9.140506    1.513883    0.043166   0.065349\n",
       "1               sma      False     9.096748    1.506635    0.043405   0.065395\n",
       "3               ema      False     9.373537    1.552478    0.043400   0.067378\n",
       "9   bollinger_upper      False     9.472506    1.568870    0.043447   0.068162\n",
       "13         momentum      False     4.458965    1.902260    0.037940   0.072172\n",
       "16             coev       True     6.693704    2.730743    0.031376   0.085679\n",
       "12         momentum       True     5.778976    4.084054    0.055333   0.225984\n",
       "5               rsi      False     2.499461    8.791324    0.066969   0.588748\n",
       "6        volatility       True    38.340133    9.624768    0.061195   0.588984\n",
       "4               rsi       True     7.931985   10.179159    0.075446   0.767973\n",
       "15       pct_change      False    93.344694   33.143529    0.092050   3.050858\n",
       "8   bollinger_upper       True   456.981637   45.642299    0.073624   3.360371\n",
       "14       pct_change       True   284.886536   98.184589    0.095365   9.363365\n",
       "0               sma       True  1281.091965  128.073293    0.079283  10.153973\n",
       "17             coev      False    53.576760   90.873397    0.112256  10.201122\n",
       "2               ema       True  1339.179860  133.880454    0.079047  10.582836\n",
       "10  bollinger_lower       True  1087.023440  417.616485    0.086096  35.955213"
      ]
     },
     "execution_count": 49,
     "metadata": {},
     "output_type": "execute_result"
    }
   ],
   "source": [
    "a.sort_values(\"risk\",ascending=True).head(50)"
   ]
  }
 ],
 "metadata": {
  "kernelspec": {
   "display_name": "Python 3 (ipykernel)",
   "language": "python",
   "name": "python3"
  },
  "language_info": {
   "codemirror_mode": {
    "name": "ipython",
    "version": 3
   },
   "file_extension": ".py",
   "mimetype": "text/x-python",
   "name": "python",
   "nbconvert_exporter": "python",
   "pygments_lexer": "ipython3",
   "version": "3.11.1"
  }
 },
 "nbformat": 4,
 "nbformat_minor": 5
}
