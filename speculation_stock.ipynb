{
 "cells": [
  {
   "cell_type": "code",
   "execution_count": 1,
   "id": "246c49f1-95ae-48c8-a1c2-a5c621cc768f",
   "metadata": {},
   "outputs": [],
   "source": [
    "import pandas as pd\n",
    "from dotenv import load_dotenv\n",
    "import matplotlib.pyplot as plt\n",
    "load_dotenv()\n",
    "import os\n",
    "from datetime import datetime, timedelta\n",
    "from tqdm import tqdm\n",
    "from processor.processor import Processor as p\n",
    "from database.adatabase import ADatabase"
   ]
  },
  {
   "cell_type": "code",
   "execution_count": 2,
   "id": "36e1db84-732c-4764-9cf7-f2346386a8a4",
   "metadata": {},
   "outputs": [],
   "source": [
    "market = ADatabase(\"market\")\n",
    "market.connect()\n",
    "index = market.retrieve(\"sp500\")\n",
    "market.disconnect()"
   ]
  },
  {
   "cell_type": "code",
   "execution_count": 3,
   "id": "c7a6c246-ac2e-4e15-a0ea-cb7a167e8b1b",
   "metadata": {},
   "outputs": [],
   "source": [
    "start = datetime(2024,1,1)\n",
    "end = datetime.now()"
   ]
  },
  {
   "cell_type": "code",
   "execution_count": 4,
   "id": "550785e0-3973-4311-809a-74061bd87500",
   "metadata": {},
   "outputs": [
    {
     "name": "stderr",
     "output_type": "stream",
     "text": [
      " 13%|████████████████████████                                                                                                                                                                     | 64/502 [00:02<00:18, 23.73it/s]"
     ]
    },
    {
     "name": "stdout",
     "output_type": "stream",
     "text": [
      "'date'\n"
     ]
    },
    {
     "name": "stderr",
     "output_type": "stream",
     "text": [
      " 15%|████████████████████████████▉                                                                                                                                                                | 77/502 [00:03<00:18, 23.19it/s]"
     ]
    },
    {
     "name": "stdout",
     "output_type": "stream",
     "text": [
      "'date'\n"
     ]
    },
    {
     "name": "stderr",
     "output_type": "stream",
     "text": [
      "100%|████████████████████████████████████████████████████████████████████████████████████████████████████████████████████████████████████████████████████████████████████████████████████████████| 502/502 [00:23<00:00, 21.48it/s]"
     ]
    },
    {
     "name": "stdout",
     "output_type": "stream",
     "text": [
      "'date'\n"
     ]
    },
    {
     "name": "stderr",
     "output_type": "stream",
     "text": [
      "\n"
     ]
    }
   ],
   "source": [
    "prices = []\n",
    "date = start\n",
    "market.connect()\n",
    "for ticker in tqdm(index[\"ticker\"]):\n",
    "    try:\n",
    "        price = market.query(\"prices\",{\"ticker\":ticker})\n",
    "        price = p.column_date_processing(price)\n",
    "        price.sort_values(\"date\",inplace=True)\n",
    "        prices.append(price)\n",
    "    except Exception as e:\n",
    "        print(str(e))\n",
    "market.disconnect()"
   ]
  },
  {
   "cell_type": "code",
   "execution_count": 5,
   "id": "843d6132-315a-4dbe-8a0b-0dd7601c2518",
   "metadata": {},
   "outputs": [],
   "source": [
    "market_prices = pd.concat(prices)"
   ]
  },
  {
   "cell_type": "code",
   "execution_count": 12,
   "id": "a6a5d6bb-13a5-47e5-a760-610a0f05508c",
   "metadata": {},
   "outputs": [],
   "source": [
    "def calculate_indicators(price, timeframe):\n",
    "    \"\"\"Calculate indicators for a single ticker.\"\"\"\n",
    "    price = price.sort_values(\"date\")\n",
    "    price[\"sma\"] = price[\"adjclose\"].rolling(timeframe).mean() / price[\"adjclose\"]\n",
    "    price[\"ema\"] = price[\"adjclose\"].ewm(span=timeframe, adjust=False).mean() / price[\"adjclose\"]\n",
    "\n",
    "    delta = price[\"adjclose\"].diff()\n",
    "    gain = (delta.where(delta > 0, 0)).rolling(timeframe).mean()\n",
    "    loss = (-delta.where(delta < 0, 0)).rolling(timeframe).mean()\n",
    "    rs = gain / loss\n",
    "    price[\"rsi\"] = 100 - (100 / (1 + rs))\n",
    "\n",
    "    price[\"std\"] = price[\"adjclose\"].rolling(timeframe).std()\n",
    "    price[\"bollinger_upper\"] = (price[\"sma\"] + 2 * price[\"std\"]) / price[\"sma\"]\n",
    "    price[\"bollinger_lower\"] = (price[\"sma\"] - 2 * price[\"std\"]) / price[\"sma\"]\n",
    "\n",
    "    price[\"pct_change\"] = price[\"adjclose\"].pct_change(periods=timeframe)\n",
    "    price[\"coev\"] = price[\"adjclose\"].rolling(timeframe).std() / price[\"adjclose\"].rolling(timeframe).mean()\n",
    "\n",
    "    return price.dropna()"
   ]
  },
  {
   "cell_type": "code",
   "execution_count": 13,
   "id": "9c338435-9615-43f7-9487-1c8971b6f655",
   "metadata": {},
   "outputs": [
    {
     "name": "stderr",
     "output_type": "stream",
     "text": [
      "100%|████████████████████████████████████████████████████████████████████████████████████████████████████████████████████████████████████████████████████████████████████████████████████████████| 499/499 [01:24<00:00,  5.90it/s]\n"
     ]
    }
   ],
   "source": [
    "prices = []\n",
    "timeframe = 100\n",
    "for ticker in tqdm(market_prices[\"ticker\"].unique()):\n",
    "    try:\n",
    "        price = market_prices[market_prices[\"ticker\"] == ticker]\n",
    "        price = calculate_indicators(price, timeframe)\n",
    "        prices.append(price)\n",
    "    except Exception as e:\n",
    "        print(f\"Error processing {ticker}: {e}\")\n",
    "\n",
    "# Combine and sort all price data\n",
    "sim = pd.concat(prices).dropna().sort_values(\"date\")\n",
    "sim[\"year\"] = sim[\"date\"].dt.year\n",
    "sim[\"week\"] = [x.week for x in sim[\"date\"]]\n",
    "sim[\"sell_price\"] = sim[\"adjclose\"]"
   ]
  },
  {
   "cell_type": "code",
   "execution_count": 14,
   "id": "33df89eb-d07a-4f2b-ab92-d80d8bd9bd59",
   "metadata": {},
   "outputs": [],
   "source": [
    "signals = [\"sma\"\n",
    "           ,\"ema\",\"rsi\",\"bollinger_upper\",\"bollinger_lower\",\"momentum\",\"pct_change\",\"coev\"\n",
    "          ]\n",
    "ascendings = [True,False]"
   ]
  },
  {
   "cell_type": "code",
   "execution_count": 15,
   "id": "422d99de-ed03-4b69-82f7-18ac039f363c",
   "metadata": {},
   "outputs": [],
   "source": [
    "analysis = []\n",
    "for signal in signals:\n",
    "    for ascending in ascendings:\n",
    "        opportunities = sim[sim[\"year\"]>2012].groupby([\"year\",\"week\",\"ticker\"]).agg({\"date\":\"last\",\"adjclose\":\"first\",\"sell_price\":\"last\",signal:\"first\"}).reset_index()\n",
    "        trades = opportunities.sort_values(signal,ascending=ascending).groupby([\"year\",\"week\"]).first().reset_index()\n",
    "        trades.sort_values(\"date\",inplace=True)\n",
    "        trades[\"return\"] = trades[\"sell_price\"] / trades[\"adjclose\"]\n",
    "        trades[\"pnl\"] = trades[\"return\"].cumprod()\n",
    "        trades[\"downside\"] = trades[\"pnl\"].rolling(100).max() - trades[\"pnl\"]\n",
    "        analysis.append({\n",
    "            \"signal\":signal,\n",
    "            \"ascending\":ascending,\n",
    "            \"pnl\":trades[\"pnl\"].iloc[-1],\n",
    "            \"downside\":trades[\"downside\"].max(),\n",
    "            \"volatility\": trades[\"return\"].std()\n",
    "        })"
   ]
  },
  {
   "cell_type": "code",
   "execution_count": 16,
   "id": "2095bf33-f9c9-4a3f-99a6-73f5e3142d91",
   "metadata": {},
   "outputs": [],
   "source": [
    "a = pd.DataFrame(analysis)\n",
    "a[\"risk\"] = a[\"downside\"] * a[\"volatility\"]"
   ]
  },
  {
   "cell_type": "code",
   "execution_count": 17,
   "id": "4ee4c7b3-449a-4aa0-96fb-a7c55f9f00d1",
   "metadata": {},
   "outputs": [
    {
     "data": {
      "text/html": [
       "<div>\n",
       "<style scoped>\n",
       "    .dataframe tbody tr th:only-of-type {\n",
       "        vertical-align: middle;\n",
       "    }\n",
       "\n",
       "    .dataframe tbody tr th {\n",
       "        vertical-align: top;\n",
       "    }\n",
       "\n",
       "    .dataframe thead th {\n",
       "        text-align: right;\n",
       "    }\n",
       "</style>\n",
       "<table border=\"1\" class=\"dataframe\">\n",
       "  <thead>\n",
       "    <tr style=\"text-align: right;\">\n",
       "      <th></th>\n",
       "      <th>signal</th>\n",
       "      <th>ascending</th>\n",
       "      <th>pnl</th>\n",
       "      <th>downside</th>\n",
       "      <th>volatility</th>\n",
       "      <th>risk</th>\n",
       "    </tr>\n",
       "  </thead>\n",
       "  <tbody>\n",
       "    <tr>\n",
       "      <th>7</th>\n",
       "      <td>bollinger_upper</td>\n",
       "      <td>False</td>\n",
       "      <td>7.329552</td>\n",
       "      <td>1.272168</td>\n",
       "      <td>0.044279</td>\n",
       "      <td>0.056330</td>\n",
       "    </tr>\n",
       "    <tr>\n",
       "      <th>8</th>\n",
       "      <td>bollinger_lower</td>\n",
       "      <td>True</td>\n",
       "      <td>7.329552</td>\n",
       "      <td>1.272168</td>\n",
       "      <td>0.044279</td>\n",
       "      <td>0.056330</td>\n",
       "    </tr>\n",
       "    <tr>\n",
       "      <th>14</th>\n",
       "      <td>coev</td>\n",
       "      <td>True</td>\n",
       "      <td>5.999878</td>\n",
       "      <td>2.730743</td>\n",
       "      <td>0.031424</td>\n",
       "      <td>0.085812</td>\n",
       "    </tr>\n",
       "    <tr>\n",
       "      <th>2</th>\n",
       "      <td>ema</td>\n",
       "      <td>True</td>\n",
       "      <td>16.765844</td>\n",
       "      <td>3.822623</td>\n",
       "      <td>0.080322</td>\n",
       "      <td>0.307043</td>\n",
       "    </tr>\n",
       "    <tr>\n",
       "      <th>5</th>\n",
       "      <td>rsi</td>\n",
       "      <td>False</td>\n",
       "      <td>2.496670</td>\n",
       "      <td>8.791324</td>\n",
       "      <td>0.066969</td>\n",
       "      <td>0.588749</td>\n",
       "    </tr>\n",
       "    <tr>\n",
       "      <th>0</th>\n",
       "      <td>sma</td>\n",
       "      <td>True</td>\n",
       "      <td>6.368253</td>\n",
       "      <td>7.900102</td>\n",
       "      <td>0.085195</td>\n",
       "      <td>0.673050</td>\n",
       "    </tr>\n",
       "    <tr>\n",
       "      <th>4</th>\n",
       "      <td>rsi</td>\n",
       "      <td>True</td>\n",
       "      <td>8.237979</td>\n",
       "      <td>10.179159</td>\n",
       "      <td>0.075466</td>\n",
       "      <td>0.768177</td>\n",
       "    </tr>\n",
       "    <tr>\n",
       "      <th>6</th>\n",
       "      <td>bollinger_upper</td>\n",
       "      <td>True</td>\n",
       "      <td>62.788638</td>\n",
       "      <td>13.728866</td>\n",
       "      <td>0.063741</td>\n",
       "      <td>0.875092</td>\n",
       "    </tr>\n",
       "    <tr>\n",
       "      <th>9</th>\n",
       "      <td>bollinger_lower</td>\n",
       "      <td>False</td>\n",
       "      <td>62.788638</td>\n",
       "      <td>13.728866</td>\n",
       "      <td>0.063741</td>\n",
       "      <td>0.875092</td>\n",
       "    </tr>\n",
       "    <tr>\n",
       "      <th>11</th>\n",
       "      <td>momentum</td>\n",
       "      <td>False</td>\n",
       "      <td>101.074272</td>\n",
       "      <td>33.143529</td>\n",
       "      <td>0.092066</td>\n",
       "      <td>3.051395</td>\n",
       "    </tr>\n",
       "    <tr>\n",
       "      <th>13</th>\n",
       "      <td>pct_change</td>\n",
       "      <td>False</td>\n",
       "      <td>101.074272</td>\n",
       "      <td>33.143529</td>\n",
       "      <td>0.092066</td>\n",
       "      <td>3.051395</td>\n",
       "    </tr>\n",
       "    <tr>\n",
       "      <th>10</th>\n",
       "      <td>momentum</td>\n",
       "      <td>True</td>\n",
       "      <td>264.453773</td>\n",
       "      <td>94.312523</td>\n",
       "      <td>0.095263</td>\n",
       "      <td>8.984530</td>\n",
       "    </tr>\n",
       "    <tr>\n",
       "      <th>12</th>\n",
       "      <td>pct_change</td>\n",
       "      <td>True</td>\n",
       "      <td>264.453773</td>\n",
       "      <td>94.312523</td>\n",
       "      <td>0.095263</td>\n",
       "      <td>8.984530</td>\n",
       "    </tr>\n",
       "    <tr>\n",
       "      <th>15</th>\n",
       "      <td>coev</td>\n",
       "      <td>False</td>\n",
       "      <td>58.120639</td>\n",
       "      <td>90.873397</td>\n",
       "      <td>0.112258</td>\n",
       "      <td>10.201302</td>\n",
       "    </tr>\n",
       "    <tr>\n",
       "      <th>1</th>\n",
       "      <td>sma</td>\n",
       "      <td>False</td>\n",
       "      <td>207.816715</td>\n",
       "      <td>109.145812</td>\n",
       "      <td>0.133881</td>\n",
       "      <td>14.612558</td>\n",
       "    </tr>\n",
       "    <tr>\n",
       "      <th>3</th>\n",
       "      <td>ema</td>\n",
       "      <td>False</td>\n",
       "      <td>2151.961837</td>\n",
       "      <td>731.171188</td>\n",
       "      <td>0.135226</td>\n",
       "      <td>98.873013</td>\n",
       "    </tr>\n",
       "  </tbody>\n",
       "</table>\n",
       "</div>"
      ],
      "text/plain": [
       "             signal  ascending          pnl    downside  volatility       risk\n",
       "7   bollinger_upper      False     7.329552    1.272168    0.044279   0.056330\n",
       "8   bollinger_lower       True     7.329552    1.272168    0.044279   0.056330\n",
       "14             coev       True     5.999878    2.730743    0.031424   0.085812\n",
       "2               ema       True    16.765844    3.822623    0.080322   0.307043\n",
       "5               rsi      False     2.496670    8.791324    0.066969   0.588749\n",
       "0               sma       True     6.368253    7.900102    0.085195   0.673050\n",
       "4               rsi       True     8.237979   10.179159    0.075466   0.768177\n",
       "6   bollinger_upper       True    62.788638   13.728866    0.063741   0.875092\n",
       "9   bollinger_lower      False    62.788638   13.728866    0.063741   0.875092\n",
       "11         momentum      False   101.074272   33.143529    0.092066   3.051395\n",
       "13       pct_change      False   101.074272   33.143529    0.092066   3.051395\n",
       "10         momentum       True   264.453773   94.312523    0.095263   8.984530\n",
       "12       pct_change       True   264.453773   94.312523    0.095263   8.984530\n",
       "15             coev      False    58.120639   90.873397    0.112258  10.201302\n",
       "1               sma      False   207.816715  109.145812    0.133881  14.612558\n",
       "3               ema      False  2151.961837  731.171188    0.135226  98.873013"
      ]
     },
     "execution_count": 17,
     "metadata": {},
     "output_type": "execute_result"
    }
   ],
   "source": [
    "a.sort_values(\"risk\",ascending=True).head(50)"
   ]
  }
 ],
 "metadata": {
  "kernelspec": {
   "display_name": "Python 3 (ipykernel)",
   "language": "python",
   "name": "python3"
  },
  "language_info": {
   "codemirror_mode": {
    "name": "ipython",
    "version": 3
   },
   "file_extension": ".py",
   "mimetype": "text/x-python",
   "name": "python",
   "nbconvert_exporter": "python",
   "pygments_lexer": "ipython3",
   "version": "3.11.9"
  }
 },
 "nbformat": 4,
 "nbformat_minor": 5
}
