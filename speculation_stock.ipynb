{
 "cells": [
  {
   "cell_type": "code",
   "execution_count": 1,
   "id": "246c49f1-95ae-48c8-a1c2-a5c621cc768f",
   "metadata": {},
   "outputs": [],
   "source": [
    "import pandas as pd\n",
    "from dotenv import load_dotenv\n",
    "import matplotlib.pyplot as plt\n",
    "load_dotenv()\n",
    "import os\n",
    "from datetime import datetime, timedelta\n",
    "from tqdm import tqdm\n",
    "from processor.processor import Processor as p\n",
    "from database.adatabase import ADatabase"
   ]
  },
  {
   "cell_type": "code",
   "execution_count": 2,
   "id": "36e1db84-732c-4764-9cf7-f2346386a8a4",
   "metadata": {},
   "outputs": [],
   "source": [
    "market = ADatabase(\"market\")\n",
    "market.connect()\n",
    "index = market.retrieve(\"sp500\")\n",
    "market.disconnect()"
   ]
  },
  {
   "cell_type": "code",
   "execution_count": 3,
   "id": "c7a6c246-ac2e-4e15-a0ea-cb7a167e8b1b",
   "metadata": {},
   "outputs": [],
   "source": [
    "start = datetime(2024,1,1)\n",
    "end = datetime.now()"
   ]
  },
  {
   "cell_type": "code",
   "execution_count": 29,
   "id": "550785e0-3973-4311-809a-74061bd87500",
   "metadata": {},
   "outputs": [
    {
     "name": "stderr",
     "output_type": "stream",
     "text": [
      " 12%|█████████████                                                                                                 | 60/503 [00:16<01:56,  3.82it/s]"
     ]
    },
    {
     "name": "stdout",
     "output_type": "stream",
     "text": [
      "'date'\n"
     ]
    },
    {
     "name": "stderr",
     "output_type": "stream",
     "text": [
      " 15%|████████████████▍                                                                                             | 75/503 [00:20<01:52,  3.79it/s]"
     ]
    },
    {
     "name": "stdout",
     "output_type": "stream",
     "text": [
      "'date'\n"
     ]
    },
    {
     "name": "stderr",
     "output_type": "stream",
     "text": [
      "100%|█████████████████████████████████████████████████████████████████████████████████████████████████████████████| 503/503 [02:12<00:00,  3.80it/s]"
     ]
    },
    {
     "name": "stdout",
     "output_type": "stream",
     "text": [
      "'date'\n"
     ]
    },
    {
     "name": "stderr",
     "output_type": "stream",
     "text": [
      "\n"
     ]
    }
   ],
   "source": [
    "prices = []\n",
    "date = start\n",
    "market.connect()\n",
    "for ticker in tqdm(index[\"ticker\"]):\n",
    "    try:\n",
    "        price = market.query(\"prices\",{\"ticker\":ticker})\n",
    "        price = p.column_date_processing(price)\n",
    "        price.sort_values(\"date\",inplace=True)\n",
    "        prices.append(price)\n",
    "    except Exception as e:\n",
    "        print(str(e))\n",
    "market.disconnect()"
   ]
  },
  {
   "cell_type": "code",
   "execution_count": 30,
   "id": "843d6132-315a-4dbe-8a0b-0dd7601c2518",
   "metadata": {},
   "outputs": [],
   "source": [
    "market_prices = pd.concat(prices)"
   ]
  },
  {
   "cell_type": "code",
   "execution_count": 31,
   "id": "a6a5d6bb-13a5-47e5-a760-610a0f05508c",
   "metadata": {},
   "outputs": [],
   "source": [
    "def calculate_indicators(price, timeframe):\n",
    "    \"\"\"Calculate indicators for a single ticker.\"\"\"\n",
    "    price = price.sort_values(\"date\")\n",
    "    price[\"sma\"] = price[\"adjclose\"].rolling(timeframe).mean() / price[\"adjclose\"]\n",
    "    price[\"ema\"] = price[\"adjclose\"].ewm(span=timeframe, adjust=False).mean() / price[\"adjclose\"]\n",
    "\n",
    "    delta = price[\"adjclose\"].diff()\n",
    "    gain = (delta.where(delta > 0, 0)).rolling(timeframe).mean()\n",
    "    loss = (-delta.where(delta < 0, 0)).rolling(timeframe).mean()\n",
    "    rs = gain / loss\n",
    "    price[\"rsi\"] = 100 - (100 / (1 + rs))\n",
    "\n",
    "    price[\"std\"] = price[\"adjclose\"].rolling(timeframe).std()\n",
    "    price[\"bollinger_upper\"] = (price[\"sma\"] + 2 * price[\"std\"]) / price[\"sma\"]\n",
    "    price[\"bollinger_lower\"] = (price[\"sma\"] - 2 * price[\"std\"]) / price[\"sma\"]\n",
    "\n",
    "    price[\"pct_change\"] = price[\"adjclose\"].pct_change(periods=timeframe)\n",
    "    price[\"coev\"] = price[\"adjclose\"].rolling(timeframe).std() / price[\"adjclose\"].rolling(timeframe).mean()\n",
    "    price[\"year\"] = price[\"date\"].dt.year\n",
    "    price[\"week\"] = [x.week for x in price[\"date\"]]\n",
    "    price[\"sell_price\"] = price[\"adjclose\"]\n",
    "    return price.dropna()"
   ]
  },
  {
   "cell_type": "code",
   "execution_count": 32,
   "id": "33df89eb-d07a-4f2b-ab92-d80d8bd9bd59",
   "metadata": {},
   "outputs": [],
   "source": [
    "signals = [\"sma\"\n",
    "           ,\"ema\",\"rsi\",\"bollinger_upper\",\"bollinger_lower\",\"pct_change\",\"coev\"\n",
    "          ]\n",
    "ascendings = [True,False]\n",
    "timeframes = [5,10,20,60,100]"
   ]
  },
  {
   "cell_type": "code",
   "execution_count": 33,
   "id": "422d99de-ed03-4b69-82f7-18ac039f363c",
   "metadata": {},
   "outputs": [
    {
     "name": "stderr",
     "output_type": "stream",
     "text": [
      "100%|█████████████████████████████████████████████████████████████████████████████████████████████████████████████████| 5/5 [06:08<00:00, 73.80s/it]\n"
     ]
    }
   ],
   "source": [
    "analysis = []\n",
    "for timeframe in tqdm(timeframes):\n",
    "    sim = market_prices.sort_values(\"date\").groupby(\"ticker\").apply(lambda x: calculate_indicators(x,timeframe)).reset_index(drop=True).sort_values(\"date\")\n",
    "    for signal in signals:\n",
    "        for ascending in ascendings:\n",
    "            opportunities = sim[sim[\"year\"]>2012].groupby([\"year\",\"week\",\"ticker\"]).agg({\"date\":\"last\",\"adjclose\":\"first\",\"sell_price\":\"last\",signal:\"first\"}).reset_index()\n",
    "            trades = opportunities.sort_values(signal,ascending=ascending).groupby([\"year\",\"week\"]).first().reset_index()\n",
    "            trades.sort_values(\"date\",inplace=True)\n",
    "            trades[\"return\"] = trades[\"sell_price\"] / trades[\"adjclose\"]\n",
    "            trades[\"pnl\"] = trades[\"return\"].cumprod()\n",
    "            trades[\"downside\"] = trades[\"pnl\"].rolling(100).max() - trades[\"pnl\"]\n",
    "            analysis.append({\n",
    "                \"timeframe\":timeframe,\n",
    "                \"signal\":signal,\n",
    "                \"ascending\":ascending,\n",
    "                \"pnl\":trades[\"pnl\"].iloc[-1],\n",
    "                \"downside\":trades[\"downside\"].max(),\n",
    "                \"volatility\": trades[\"return\"].std()\n",
    "            })"
   ]
  },
  {
   "cell_type": "code",
   "execution_count": 36,
   "id": "2095bf33-f9c9-4a3f-99a6-73f5e3142d91",
   "metadata": {},
   "outputs": [],
   "source": [
    "a = pd.DataFrame(analysis)\n",
    "a[\"risk\"] = a[\"downside\"] * a[\"volatility\"]\n",
    "a[\"rr\"] = a[\"pnl\"] / a[\"volatility\"]"
   ]
  },
  {
   "cell_type": "code",
   "execution_count": 38,
   "id": "4ee4c7b3-449a-4aa0-96fb-a7c55f9f00d1",
   "metadata": {},
   "outputs": [
    {
     "data": {
      "text/html": [
       "<div>\n",
       "<style scoped>\n",
       "    .dataframe tbody tr th:only-of-type {\n",
       "        vertical-align: middle;\n",
       "    }\n",
       "\n",
       "    .dataframe tbody tr th {\n",
       "        vertical-align: top;\n",
       "    }\n",
       "\n",
       "    .dataframe thead th {\n",
       "        text-align: right;\n",
       "    }\n",
       "</style>\n",
       "<table border=\"1\" class=\"dataframe\">\n",
       "  <thead>\n",
       "    <tr style=\"text-align: right;\">\n",
       "      <th></th>\n",
       "      <th>timeframe</th>\n",
       "      <th>signal</th>\n",
       "      <th>ascending</th>\n",
       "      <th>pnl</th>\n",
       "      <th>downside</th>\n",
       "      <th>volatility</th>\n",
       "      <th>risk</th>\n",
       "      <th>rr</th>\n",
       "    </tr>\n",
       "  </thead>\n",
       "  <tbody>\n",
       "    <tr>\n",
       "      <th>59</th>\n",
       "      <td>100</td>\n",
       "      <td>ema</td>\n",
       "      <td>False</td>\n",
       "      <td>2128.690462</td>\n",
       "      <td>721.572684</td>\n",
       "      <td>0.135293</td>\n",
       "      <td>97.623970</td>\n",
       "      <td>15733.890855</td>\n",
       "    </tr>\n",
       "    <tr>\n",
       "      <th>24</th>\n",
       "      <td>10</td>\n",
       "      <td>pct_change</td>\n",
       "      <td>True</td>\n",
       "      <td>984.648616</td>\n",
       "      <td>650.462839</td>\n",
       "      <td>0.083889</td>\n",
       "      <td>54.566519</td>\n",
       "      <td>11737.551578</td>\n",
       "    </tr>\n",
       "    <tr>\n",
       "      <th>43</th>\n",
       "      <td>60</td>\n",
       "      <td>sma</td>\n",
       "      <td>False</td>\n",
       "      <td>1326.444728</td>\n",
       "      <td>953.177637</td>\n",
       "      <td>0.131379</td>\n",
       "      <td>125.227730</td>\n",
       "      <td>10096.305714</td>\n",
       "    </tr>\n",
       "    <tr>\n",
       "      <th>29</th>\n",
       "      <td>20</td>\n",
       "      <td>sma</td>\n",
       "      <td>False</td>\n",
       "      <td>551.002862</td>\n",
       "      <td>147.351113</td>\n",
       "      <td>0.093226</td>\n",
       "      <td>13.737020</td>\n",
       "      <td>5910.370892</td>\n",
       "    </tr>\n",
       "    <tr>\n",
       "      <th>38</th>\n",
       "      <td>20</td>\n",
       "      <td>pct_change</td>\n",
       "      <td>True</td>\n",
       "      <td>470.926839</td>\n",
       "      <td>187.706766</td>\n",
       "      <td>0.086318</td>\n",
       "      <td>16.202415</td>\n",
       "      <td>5455.739388</td>\n",
       "    </tr>\n",
       "    <tr>\n",
       "      <th>3</th>\n",
       "      <td>5</td>\n",
       "      <td>ema</td>\n",
       "      <td>False</td>\n",
       "      <td>306.454562</td>\n",
       "      <td>92.439162</td>\n",
       "      <td>0.070276</td>\n",
       "      <td>6.496228</td>\n",
       "      <td>4360.746657</td>\n",
       "    </tr>\n",
       "    <tr>\n",
       "      <th>15</th>\n",
       "      <td>10</td>\n",
       "      <td>sma</td>\n",
       "      <td>False</td>\n",
       "      <td>336.462176</td>\n",
       "      <td>103.792034</td>\n",
       "      <td>0.081760</td>\n",
       "      <td>8.486021</td>\n",
       "      <td>4115.249744</td>\n",
       "    </tr>\n",
       "    <tr>\n",
       "      <th>1</th>\n",
       "      <td>5</td>\n",
       "      <td>sma</td>\n",
       "      <td>False</td>\n",
       "      <td>340.308824</td>\n",
       "      <td>124.820479</td>\n",
       "      <td>0.084649</td>\n",
       "      <td>10.565905</td>\n",
       "      <td>4020.243497</td>\n",
       "    </tr>\n",
       "    <tr>\n",
       "      <th>45</th>\n",
       "      <td>60</td>\n",
       "      <td>ema</td>\n",
       "      <td>False</td>\n",
       "      <td>500.993709</td>\n",
       "      <td>296.314459</td>\n",
       "      <td>0.132997</td>\n",
       "      <td>39.408800</td>\n",
       "      <td>3766.967793</td>\n",
       "    </tr>\n",
       "    <tr>\n",
       "      <th>17</th>\n",
       "      <td>10</td>\n",
       "      <td>ema</td>\n",
       "      <td>False</td>\n",
       "      <td>276.673001</td>\n",
       "      <td>88.847865</td>\n",
       "      <td>0.081135</td>\n",
       "      <td>7.208685</td>\n",
       "      <td>3410.026262</td>\n",
       "    </tr>\n",
       "  </tbody>\n",
       "</table>\n",
       "</div>"
      ],
      "text/plain": [
       "    timeframe      signal  ascending          pnl    downside  volatility  \\\n",
       "59        100         ema      False  2128.690462  721.572684    0.135293   \n",
       "24         10  pct_change       True   984.648616  650.462839    0.083889   \n",
       "43         60         sma      False  1326.444728  953.177637    0.131379   \n",
       "29         20         sma      False   551.002862  147.351113    0.093226   \n",
       "38         20  pct_change       True   470.926839  187.706766    0.086318   \n",
       "3           5         ema      False   306.454562   92.439162    0.070276   \n",
       "15         10         sma      False   336.462176  103.792034    0.081760   \n",
       "1           5         sma      False   340.308824  124.820479    0.084649   \n",
       "45         60         ema      False   500.993709  296.314459    0.132997   \n",
       "17         10         ema      False   276.673001   88.847865    0.081135   \n",
       "\n",
       "          risk            rr  \n",
       "59   97.623970  15733.890855  \n",
       "24   54.566519  11737.551578  \n",
       "43  125.227730  10096.305714  \n",
       "29   13.737020   5910.370892  \n",
       "38   16.202415   5455.739388  \n",
       "3     6.496228   4360.746657  \n",
       "15    8.486021   4115.249744  \n",
       "1    10.565905   4020.243497  \n",
       "45   39.408800   3766.967793  \n",
       "17    7.208685   3410.026262  "
      ]
     },
     "execution_count": 38,
     "metadata": {},
     "output_type": "execute_result"
    }
   ],
   "source": [
    "a.sort_values(\"rr\",ascending=False).head(10)"
   ]
  },
  {
   "cell_type": "code",
   "execution_count": 40,
   "id": "523fabcc-2415-4a23-b20e-ecf061fecaf1",
   "metadata": {},
   "outputs": [
    {
     "data": {
      "text/plain": [
       "<matplotlib.collections.PathCollection at 0x271974fc1d0>"
      ]
     },
     "execution_count": 40,
     "metadata": {},
     "output_type": "execute_result"
    },
    {
     "data": {
      "image/png": "[encoded data removed]",
      "text/plain": [
       "<Figure size 640x480 with 1 Axes>"
      ]
     },
     "metadata": {},
     "output_type": "display_data"
    }
   ],
   "source": [
    "plt.scatter(a[\"volatility\"],a[\"pnl\"])"
   ]
  }
 ],
 "metadata": {
  "kernelspec": {
   "display_name": "Python 3 (ipykernel)",
   "language": "python",
   "name": "python3"
  },
  "language_info": {
   "codemirror_mode": {
    "name": "ipython",
    "version": 3
   },
   "file_extension": ".py",
   "mimetype": "text/x-python",
   "name": "python",
   "nbconvert_exporter": "python",
   "pygments_lexer": "ipython3",
   "version": "3.11.1"
  }
 },
 "nbformat": 4,
 "nbformat_minor": 5
}
