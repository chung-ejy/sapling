{
 "cells": [
  {
   "cell_type": "code",
   "execution_count": 1,
   "id": "246c49f1-95ae-48c8-a1c2-a5c621cc768f",
   "metadata": {},
   "outputs": [],
   "source": [
    "import pandas as pd\n",
    "from dotenv import load_dotenv\n",
    "import matplotlib.pyplot as plt\n",
    "load_dotenv()\n",
    "import os\n",
    "from datetime import datetime, timedelta\n",
    "from tqdm import tqdm\n",
    "from processor.processor import Processor as p\n",
    "from database.adatabase import ADatabase"
   ]
  },
  {
   "cell_type": "code",
   "execution_count": 2,
   "id": "36e1db84-732c-4764-9cf7-f2346386a8a4",
   "metadata": {},
   "outputs": [],
   "source": [
    "market = ADatabase(\"market\")\n",
    "market.connect()\n",
    "index = market.retrieve(\"sp500\")\n",
    "market.disconnect()"
   ]
  },
  {
   "cell_type": "code",
   "execution_count": 3,
   "id": "c7a6c246-ac2e-4e15-a0ea-cb7a167e8b1b",
   "metadata": {},
   "outputs": [],
   "source": [
    "start = datetime(2020,1,1)\n",
    "end = datetime.now()"
   ]
  },
  {
   "cell_type": "code",
   "execution_count": 4,
   "id": "550785e0-3973-4311-809a-74061bd87500",
   "metadata": {},
   "outputs": [
    {
     "name": "stderr",
     "output_type": "stream",
     "text": [
      " 13%|███████████████████████▋                                                                                                                                                                     | 63/503 [00:03<00:20, 21.55it/s]"
     ]
    },
    {
     "name": "stdout",
     "output_type": "stream",
     "text": [
      "'date'\n"
     ]
    },
    {
     "name": "stderr",
     "output_type": "stream",
     "text": [
      " 16%|█████████████████████████████▎                                                                                                                                                               | 78/503 [00:03<00:19, 21.75it/s]"
     ]
    },
    {
     "name": "stdout",
     "output_type": "stream",
     "text": [
      "'date'\n"
     ]
    },
    {
     "name": "stderr",
     "output_type": "stream",
     "text": [
      "100%|████████████████████████████████████████████████████████████████████████████████████████████████████████████████████████████████████████████████████████████████████████████████████████████| 503/503 [00:26<00:00, 19.03it/s]"
     ]
    },
    {
     "name": "stdout",
     "output_type": "stream",
     "text": [
      "'date'\n"
     ]
    },
    {
     "name": "stderr",
     "output_type": "stream",
     "text": [
      "\n"
     ]
    }
   ],
   "source": [
    "prices = []\n",
    "date = start\n",
    "market.connect()\n",
    "for ticker in tqdm(index[\"ticker\"]):\n",
    "    try:\n",
    "        price = market.query(\"prices\",{\"ticker\":ticker})\n",
    "        price = p.column_date_processing(price)\n",
    "        price.sort_values(\"date\",inplace=True)\n",
    "        prices.append(price)\n",
    "    except Exception as e:\n",
    "        print(str(e))\n",
    "market.disconnect()"
   ]
  },
  {
   "cell_type": "code",
   "execution_count": 5,
   "id": "843d6132-315a-4dbe-8a0b-0dd7601c2518",
   "metadata": {},
   "outputs": [],
   "source": [
    "market_prices = pd.concat(prices)"
   ]
  },
  {
   "cell_type": "code",
   "execution_count": 6,
   "id": "a6a5d6bb-13a5-47e5-a760-610a0f05508c",
   "metadata": {},
   "outputs": [],
   "source": [
    "def calculate_indicators(price, timeframe):\n",
    "    \"\"\"Calculate indicators for a single ticker.\"\"\"\n",
    "    price = price.sort_values(\"date\")\n",
    "    price[\"sma\"] = price[\"adjclose\"].rolling(timeframe).mean() / price[\"adjclose\"]\n",
    "    price[\"ema\"] = price[\"adjclose\"].ewm(span=timeframe, adjust=False).mean() / price[\"adjclose\"]\n",
    "\n",
    "    delta = price[\"adjclose\"].diff()\n",
    "    gain = (delta.where(delta > 0, 0)).rolling(timeframe).mean()\n",
    "    loss = (-delta.where(delta < 0, 0)).rolling(timeframe).mean()\n",
    "    rs = gain / loss\n",
    "    price[\"rsi\"] = 100 - (100 / (1 + rs))\n",
    "\n",
    "    price[\"std\"] = price[\"adjclose\"].rolling(timeframe).std()\n",
    "    price[\"bollinger_upper\"] = (price[\"sma\"] + 2 * price[\"std\"]) / price[\"sma\"]\n",
    "    price[\"bollinger_lower\"] = (price[\"sma\"] - 2 * price[\"std\"]) / price[\"sma\"]\n",
    "\n",
    "    price[\"pct_change\"] = price[\"adjclose\"].pct_change(periods=timeframe)\n",
    "    price[\"coev\"] = price[\"adjclose\"].rolling(timeframe).std() / price[\"adjclose\"].rolling(timeframe).mean()\n",
    "    price[\"year\"] = price[\"date\"].dt.year\n",
    "    price[\"week\"] = [x.week for x in price[\"date\"]]\n",
    "    price[\"sell_price\"] = price[\"adjclose\"]\n",
    "    return price.dropna()"
   ]
  },
  {
   "cell_type": "code",
   "execution_count": 7,
   "id": "33df89eb-d07a-4f2b-ab92-d80d8bd9bd59",
   "metadata": {},
   "outputs": [],
   "source": [
    "signals = [\"sma\"\n",
    "           ,\"ema\",\"rsi\",\"bollinger_upper\",\"bollinger_lower\",\"pct_change\",\"coev\"\n",
    "          ]\n",
    "ascendings = [True,False]\n",
    "timeframes = [5,10,20,60,100]"
   ]
  },
  {
   "cell_type": "code",
   "execution_count": 12,
   "id": "422d99de-ed03-4b69-82f7-18ac039f363c",
   "metadata": {},
   "outputs": [
    {
     "name": "stderr",
     "output_type": "stream",
     "text": [
      "  0%|                                                                                                                                                                                                        | 0/5 [00:00<?, ?it/s]C:\\Users\\eric\\AppData\\Local\\Temp\\ipykernel_7348\\2064362606.py:3: DeprecationWarning: DataFrameGroupBy.apply operated on the grouping columns. This behavior is deprecated, and in a future version of pandas the grouping columns will be excluded from the operation. Either pass `include_groups=False` to exclude the groupings or explicitly select the grouping columns after groupby to silence this warning.\n",
      "  sim = market_prices.sort_values(\"date\").groupby(\"ticker\").apply(lambda x: calculate_indicators(x,timeframe)).reset_index(drop=True).sort_values(\"date\")\n",
      " 20%|██████████████████████████████████████▍                                                                                                                                                         | 1/5 [00:11<00:47, 11.90s/it]C:\\Users\\eric\\AppData\\Local\\Temp\\ipykernel_7348\\2064362606.py:3: DeprecationWarning: DataFrameGroupBy.apply operated on the grouping columns. This behavior is deprecated, and in a future version of pandas the grouping columns will be excluded from the operation. Either pass `include_groups=False` to exclude the groupings or explicitly select the grouping columns after groupby to silence this warning.\n",
      "  sim = market_prices.sort_values(\"date\").groupby(\"ticker\").apply(lambda x: calculate_indicators(x,timeframe)).reset_index(drop=True).sort_values(\"date\")\n",
      " 40%|████████████████████████████████████████████████████████████████████████████▊                                                                                                                   | 2/5 [00:23<00:34, 11.59s/it]C:\\Users\\eric\\AppData\\Local\\Temp\\ipykernel_7348\\2064362606.py:3: DeprecationWarning: DataFrameGroupBy.apply operated on the grouping columns. This behavior is deprecated, and in a future version of pandas the grouping columns will be excluded from the operation. Either pass `include_groups=False` to exclude the groupings or explicitly select the grouping columns after groupby to silence this warning.\n",
      "  sim = market_prices.sort_values(\"date\").groupby(\"ticker\").apply(lambda x: calculate_indicators(x,timeframe)).reset_index(drop=True).sort_values(\"date\")\n",
      " 60%|███████████████████████████████████████████████████████████████████████████████████████████████████████████████████▏                                                                            | 3/5 [00:34<00:23, 11.63s/it]C:\\Users\\eric\\AppData\\Local\\Temp\\ipykernel_7348\\2064362606.py:3: DeprecationWarning: DataFrameGroupBy.apply operated on the grouping columns. This behavior is deprecated, and in a future version of pandas the grouping columns will be excluded from the operation. Either pass `include_groups=False` to exclude the groupings or explicitly select the grouping columns after groupby to silence this warning.\n",
      "  sim = market_prices.sort_values(\"date\").groupby(\"ticker\").apply(lambda x: calculate_indicators(x,timeframe)).reset_index(drop=True).sort_values(\"date\")\n",
      " 80%|█████████████████████████████████████████████████████████████████████████████████████████████████████████████████████████████████████████████████████████▌                                      | 4/5 [00:46<00:11, 11.64s/it]C:\\Users\\eric\\AppData\\Local\\Temp\\ipykernel_7348\\2064362606.py:3: DeprecationWarning: DataFrameGroupBy.apply operated on the grouping columns. This behavior is deprecated, and in a future version of pandas the grouping columns will be excluded from the operation. Either pass `include_groups=False` to exclude the groupings or explicitly select the grouping columns after groupby to silence this warning.\n",
      "  sim = market_prices.sort_values(\"date\").groupby(\"ticker\").apply(lambda x: calculate_indicators(x,timeframe)).reset_index(drop=True).sort_values(\"date\")\n",
      "100%|████████████████████████████████████████████████████████████████████████████████████████████████████████████████████████████████████████████████████████████████████████████████████████████████| 5/5 [00:58<00:00, 11.66s/it]\n"
     ]
    }
   ],
   "source": [
    "analysis = []\n",
    "for timeframe in tqdm(timeframes):\n",
    "    sim = market_prices.sort_values(\"date\").groupby(\"ticker\").apply(lambda x: calculate_indicators(x,timeframe)).reset_index(drop=True).sort_values(\"date\")\n",
    "    for signal in signals:\n",
    "        for ascending in ascendings:\n",
    "            opportunities = sim[sim[\"year\"]>2020].groupby([\"year\",\"week\",\"ticker\"]).agg({\"date\":\"last\",\"adjclose\":\"first\",\"sell_price\":\"last\",signal:\"first\"}).reset_index()\n",
    "            trades = opportunities.sort_values(signal,ascending=ascending).groupby([\"year\",\"week\"]).first().reset_index()\n",
    "            trades.sort_values(\"date\",inplace=True)\n",
    "            trades[\"return\"] = trades[\"sell_price\"] / trades[\"adjclose\"]\n",
    "            trades[\"pnl\"] = trades[\"return\"].cumprod()\n",
    "            trades[\"downside\"] = trades[\"pnl\"].rolling(100).max() - trades[\"pnl\"]\n",
    "            analysis.append({\n",
    "                \"timeframe\":timeframe,\n",
    "                \"signal\":signal,\n",
    "                \"ascending\":ascending,\n",
    "                \"pnl\":trades[\"pnl\"].iloc[-1],\n",
    "                \"downside\":trades[\"downside\"].max(),\n",
    "                \"volatility\": trades[\"return\"].std()\n",
    "            })"
   ]
  },
  {
   "cell_type": "code",
   "execution_count": 13,
   "id": "2095bf33-f9c9-4a3f-99a6-73f5e3142d91",
   "metadata": {},
   "outputs": [],
   "source": [
    "a = pd.DataFrame(analysis)\n",
    "a[\"risk\"] = a[\"downside\"] * a[\"volatility\"]\n",
    "a[\"rr\"] = a[\"pnl\"] / a[\"volatility\"]"
   ]
  },
  {
   "cell_type": "code",
   "execution_count": 17,
   "id": "4ee4c7b3-449a-4aa0-96fb-a7c55f9f00d1",
   "metadata": {},
   "outputs": [
    {
     "data": {
      "text/html": [
       "<div>\n",
       "<style scoped>\n",
       "    .dataframe tbody tr th:only-of-type {\n",
       "        vertical-align: middle;\n",
       "    }\n",
       "\n",
       "    .dataframe tbody tr th {\n",
       "        vertical-align: top;\n",
       "    }\n",
       "\n",
       "    .dataframe thead th {\n",
       "        text-align: right;\n",
       "    }\n",
       "</style>\n",
       "<table border=\"1\" class=\"dataframe\">\n",
       "  <thead>\n",
       "    <tr style=\"text-align: right;\">\n",
       "      <th></th>\n",
       "      <th>timeframe</th>\n",
       "      <th>signal</th>\n",
       "      <th>ascending</th>\n",
       "      <th>pnl</th>\n",
       "      <th>downside</th>\n",
       "      <th>volatility</th>\n",
       "      <th>risk</th>\n",
       "      <th>rr</th>\n",
       "    </tr>\n",
       "  </thead>\n",
       "  <tbody>\n",
       "    <tr>\n",
       "      <th>38</th>\n",
       "      <td>20</td>\n",
       "      <td>pct_change</td>\n",
       "      <td>True</td>\n",
       "      <td>27.353917</td>\n",
       "      <td>2.353341</td>\n",
       "      <td>0.257421</td>\n",
       "      <td>0.605799</td>\n",
       "      <td>106.261429</td>\n",
       "    </tr>\n",
       "    <tr>\n",
       "      <th>31</th>\n",
       "      <td>20</td>\n",
       "      <td>ema</td>\n",
       "      <td>False</td>\n",
       "      <td>15.849004</td>\n",
       "      <td>1.771258</td>\n",
       "      <td>0.254766</td>\n",
       "      <td>0.451257</td>\n",
       "      <td>62.209992</td>\n",
       "    </tr>\n",
       "    <tr>\n",
       "      <th>17</th>\n",
       "      <td>10</td>\n",
       "      <td>ema</td>\n",
       "      <td>False</td>\n",
       "      <td>8.048602</td>\n",
       "      <td>1.554840</td>\n",
       "      <td>0.069410</td>\n",
       "      <td>0.107921</td>\n",
       "      <td>115.958120</td>\n",
       "    </tr>\n",
       "    <tr>\n",
       "      <th>66</th>\n",
       "      <td>100</td>\n",
       "      <td>pct_change</td>\n",
       "      <td>True</td>\n",
       "      <td>7.487985</td>\n",
       "      <td>2.597427</td>\n",
       "      <td>0.072613</td>\n",
       "      <td>0.188608</td>\n",
       "      <td>103.121305</td>\n",
       "    </tr>\n",
       "    <tr>\n",
       "      <th>3</th>\n",
       "      <td>5</td>\n",
       "      <td>ema</td>\n",
       "      <td>False</td>\n",
       "      <td>6.712388</td>\n",
       "      <td>1.517584</td>\n",
       "      <td>0.065402</td>\n",
       "      <td>0.099254</td>\n",
       "      <td>102.632052</td>\n",
       "    </tr>\n",
       "    <tr>\n",
       "      <th>15</th>\n",
       "      <td>10</td>\n",
       "      <td>sma</td>\n",
       "      <td>False</td>\n",
       "      <td>6.447737</td>\n",
       "      <td>1.739059</td>\n",
       "      <td>0.067856</td>\n",
       "      <td>0.118005</td>\n",
       "      <td>95.021223</td>\n",
       "    </tr>\n",
       "    <tr>\n",
       "      <th>10</th>\n",
       "      <td>5</td>\n",
       "      <td>pct_change</td>\n",
       "      <td>True</td>\n",
       "      <td>5.024299</td>\n",
       "      <td>1.593796</td>\n",
       "      <td>0.067714</td>\n",
       "      <td>0.107923</td>\n",
       "      <td>74.198268</td>\n",
       "    </tr>\n",
       "    <tr>\n",
       "      <th>29</th>\n",
       "      <td>20</td>\n",
       "      <td>sma</td>\n",
       "      <td>False</td>\n",
       "      <td>4.372981</td>\n",
       "      <td>2.041904</td>\n",
       "      <td>0.078751</td>\n",
       "      <td>0.160803</td>\n",
       "      <td>55.528987</td>\n",
       "    </tr>\n",
       "    <tr>\n",
       "      <th>33</th>\n",
       "      <td>20</td>\n",
       "      <td>rsi</td>\n",
       "      <td>False</td>\n",
       "      <td>4.357596</td>\n",
       "      <td>0.515278</td>\n",
       "      <td>0.045148</td>\n",
       "      <td>0.023264</td>\n",
       "      <td>96.518954</td>\n",
       "    </tr>\n",
       "    <tr>\n",
       "      <th>1</th>\n",
       "      <td>5</td>\n",
       "      <td>sma</td>\n",
       "      <td>False</td>\n",
       "      <td>4.339527</td>\n",
       "      <td>1.374754</td>\n",
       "      <td>0.064594</td>\n",
       "      <td>0.088801</td>\n",
       "      <td>67.181810</td>\n",
       "    </tr>\n",
       "  </tbody>\n",
       "</table>\n",
       "</div>"
      ],
      "text/plain": [
       "    timeframe      signal  ascending        pnl  downside  volatility  \\\n",
       "38         20  pct_change       True  27.353917  2.353341    0.257421   \n",
       "31         20         ema      False  15.849004  1.771258    0.254766   \n",
       "17         10         ema      False   8.048602  1.554840    0.069410   \n",
       "66        100  pct_change       True   7.487985  2.597427    0.072613   \n",
       "3           5         ema      False   6.712388  1.517584    0.065402   \n",
       "15         10         sma      False   6.447737  1.739059    0.067856   \n",
       "10          5  pct_change       True   5.024299  1.593796    0.067714   \n",
       "29         20         sma      False   4.372981  2.041904    0.078751   \n",
       "33         20         rsi      False   4.357596  0.515278    0.045148   \n",
       "1           5         sma      False   4.339527  1.374754    0.064594   \n",
       "\n",
       "        risk          rr  \n",
       "38  0.605799  106.261429  \n",
       "31  0.451257   62.209992  \n",
       "17  0.107921  115.958120  \n",
       "66  0.188608  103.121305  \n",
       "3   0.099254  102.632052  \n",
       "15  0.118005   95.021223  \n",
       "10  0.107923   74.198268  \n",
       "29  0.160803   55.528987  \n",
       "33  0.023264   96.518954  \n",
       "1   0.088801   67.181810  "
      ]
     },
     "execution_count": 17,
     "metadata": {},
     "output_type": "execute_result"
    }
   ],
   "source": [
    "a.sort_values(\"pnl\",ascending=False).head(10)"
   ]
  },
  {
   "cell_type": "code",
   "execution_count": 16,
   "id": "523fabcc-2415-4a23-b20e-ecf061fecaf1",
   "metadata": {},
   "outputs": [
    {
     "data": {
      "text/plain": [
       "<matplotlib.collections.PathCollection at 0x267e1df1350>"
      ]
     },
     "execution_count": 16,
     "metadata": {},
     "output_type": "execute_result"
    },
    {
     "data": {
      "image/png": "[encoded data removed]",
      "text/plain": [
       "<Figure size 640x480 with 1 Axes>"
      ]
     },
     "metadata": {},
     "output_type": "display_data"
    }
   ],
   "source": [
    "plt.scatter(a[\"volatility\"],a[\"pnl\"])"
   ]
  }
 ],
 "metadata": {
  "kernelspec": {
   "display_name": "Python 3 (ipykernel)",
   "language": "python",
   "name": "python3"
  },
  "language_info": {
   "codemirror_mode": {
    "name": "ipython",
    "version": 3
   },
   "file_extension": ".py",
   "mimetype": "text/x-python",
   "name": "python",
   "nbconvert_exporter": "python",
   "pygments_lexer": "ipython3",
   "version": "3.11.9"
  }
 },
 "nbformat": 4,
 "nbformat_minor": 5
}
