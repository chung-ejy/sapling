{
 "cells": [
  {
   "cell_type": "code",
   "execution_count": 1,
   "id": "2ed8cf89-aedf-487b-8f4c-be90c03b04e4",
   "metadata": {},
   "outputs": [],
   "source": [
    "from processor.processor import Processor as processor\n",
    "from database.adatabase import ADatabase\n",
    "from xgboost import XGBRegressor\n",
    "from statistics import mean\n",
    "import math\n",
    "import pandas as pd\n",
    "import numpy as np\n",
    "from scipy.optimize import minimize\n",
    "import matplotlib.pyplot as plt\n",
    "from datetime import datetime, timedelta\n",
    "from tqdm import tqdm\n",
    "from dotenv import load_dotenv\n",
    "from asset.stock import Stock\n",
    "from asset.bond import Bond\n",
    "from asset.option import Option\n",
    "import warnings\n",
    "import pytz\n",
    "import copy\n",
    "warnings.simplefilter(action=\"ignore\")\n",
    "import pickle"
   ]
  },
  {
   "cell_type": "code",
   "execution_count": 2,
   "id": "f83d2e0d-1c3e-411d-bc6d-9f5b6aa766cc",
   "metadata": {},
   "outputs": [],
   "source": [
    "market = ADatabase(\"market\")\n",
    "sec = ADatabase(\"sec\")\n",
    "market = ADatabase(\"market\")\n",
    "fred = ADatabase(\"fred\")\n",
    "db = ADatabase(\"sapling\")"
   ]
  },
  {
   "cell_type": "code",
   "execution_count": 3,
   "id": "e3a1d483-9d3a-4549-9621-6009595e6c43",
   "metadata": {},
   "outputs": [],
   "source": [
    "sp500 = pd.read_html(\"https://en.wikipedia.org/wiki/List_of_S%26P_500_companies\",attrs={\"id\":\"constituents\"})[0].rename(columns={\"Symbol\":\"ticker\"})"
   ]
  },
  {
   "cell_type": "code",
   "execution_count": 4,
   "id": "d7462b2c-0844-4f56-8d4a-a0ec394baf95",
   "metadata": {},
   "outputs": [],
   "source": [
    "fred.connect()\n",
    "spy = fred.retrieve(\"sp500\")\n",
    "spy = spy.rename(columns={\"value\":\"spy\"})\n",
    "spy[\"spy\"] = spy[\"spy\"].replace(\".\",np.nan)\n",
    "spy.dropna(inplace=True)\n",
    "spy[\"spy\"] = [float(x) for x in spy[\"spy\"]]\n",
    "spy[\"date\"] = spy[\"date\"].shift(-5)\n",
    "spy = processor.column_date_processing(spy)\n",
    "fred.disconnect()"
   ]
  },
  {
   "cell_type": "code",
   "execution_count": 10,
   "id": "774135ee-3814-46ab-8508-e056b2ceb96b",
   "metadata": {
    "scrolled": true
   },
   "outputs": [
    {
     "name": "stderr",
     "output_type": "stream",
     "text": [
      "100%|████████████████████████████████████████████████████████████████████████████████████████████████████████████████████████████████████████████████████████████████████████████████████████████████████████████████████████████████| 503/503 [00:04<00:00, 112.64it/s]\n"
     ]
    }
   ],
   "source": [
    "prices = []\n",
    "market.connect()\n",
    "\n",
    "for ticker in tqdm(sp500[\"ticker\"].unique()):\n",
    "    try:\n",
    "        price = processor.column_date_processing(market.query(\"prices\",{\"ticker\":ticker}))\n",
    "        price.sort_values(\"date\",inplace=True)\n",
    "        price = price.merge(spy[[\"date\",\"spy\"]],on=\"date\",how=\"left\")\n",
    "        price = price.merge(sp500[[\"ticker\",\"GICS Sector\"]],on=\"ticker\",how=\"left\")\n",
    "        price[\"covar\"] = price[\"spy\"].cov(price[\"adjclose\"])\n",
    "        price[\"var\"] = price[\"spy\"].var()\n",
    "        price[\"beta\"] = price[\"covar\"] / price[\"var\"]\n",
    "        price[\"prediction\"] = price[\"beta\"] * (price[\"adjclose\"])\n",
    "        price[\"excess_return\"] = (price[\"prediction\"] - price[\"adjclose\"]) / price[\"adjclose\"]\n",
    "        prices.append(price)\n",
    "    except Exception as e:\n",
    "        print(ticker,str(e))\n",
    "        continue\n",
    "market.disconnect()"
   ]
  },
  {
   "cell_type": "code",
   "execution_count": 11,
   "id": "593de38c-0f3d-4903-8a18-ffe7c89d7b3e",
   "metadata": {},
   "outputs": [],
   "source": [
    "sim = pd.concat(prices)[[\"date\",\"ticker\",\"GICS Sector\",\"prediction\"]]\n",
    "sim = sim.dropna()\n"
   ]
  },
  {
   "cell_type": "code",
   "execution_count": 12,
   "id": "27a2f847-e716-41d2-ae2b-af7b872b1fdd",
   "metadata": {},
   "outputs": [
    {
     "data": {
      "text/html": [
       "<div>\n",
       "<style scoped>\n",
       "    .dataframe tbody tr th:only-of-type {\n",
       "        vertical-align: middle;\n",
       "    }\n",
       "\n",
       "    .dataframe tbody tr th {\n",
       "        vertical-align: top;\n",
       "    }\n",
       "\n",
       "    .dataframe thead th {\n",
       "        text-align: right;\n",
       "    }\n",
       "</style>\n",
       "<table border=\"1\" class=\"dataframe\">\n",
       "  <thead>\n",
       "    <tr style=\"text-align: right;\">\n",
       "      <th></th>\n",
       "      <th>date</th>\n",
       "      <th>ticker</th>\n",
       "      <th>GICS Sector</th>\n",
       "      <th>prediction</th>\n",
       "    </tr>\n",
       "  </thead>\n",
       "  <tbody>\n",
       "    <tr>\n",
       "      <th>250</th>\n",
       "      <td>2024-07-15</td>\n",
       "      <td>MMM</td>\n",
       "      <td>Industrials</td>\n",
       "      <td>0.167063</td>\n",
       "    </tr>\n",
       "    <tr>\n",
       "      <th>250</th>\n",
       "      <td>2024-07-15</td>\n",
       "      <td>AOS</td>\n",
       "      <td>Industrials</td>\n",
       "      <td>1.332662</td>\n",
       "    </tr>\n",
       "    <tr>\n",
       "      <th>250</th>\n",
       "      <td>2024-07-15</td>\n",
       "      <td>ABT</td>\n",
       "      <td>Health Care</td>\n",
       "      <td>0.865061</td>\n",
       "    </tr>\n",
       "    <tr>\n",
       "      <th>250</th>\n",
       "      <td>2024-07-15</td>\n",
       "      <td>ABBV</td>\n",
       "      <td>Health Care</td>\n",
       "      <td>4.438537</td>\n",
       "    </tr>\n",
       "    <tr>\n",
       "      <th>250</th>\n",
       "      <td>2024-07-15</td>\n",
       "      <td>ACN</td>\n",
       "      <td>Information Technology</td>\n",
       "      <td>1.091689</td>\n",
       "    </tr>\n",
       "    <tr>\n",
       "      <th>...</th>\n",
       "      <td>...</td>\n",
       "      <td>...</td>\n",
       "      <td>...</td>\n",
       "      <td>...</td>\n",
       "    </tr>\n",
       "    <tr>\n",
       "      <th>250</th>\n",
       "      <td>2024-07-15</td>\n",
       "      <td>XYL</td>\n",
       "      <td>Industrials</td>\n",
       "      <td>5.727000</td>\n",
       "    </tr>\n",
       "    <tr>\n",
       "      <th>250</th>\n",
       "      <td>2024-07-15</td>\n",
       "      <td>YUM</td>\n",
       "      <td>Consumer Discretionary</td>\n",
       "      <td>1.419437</td>\n",
       "    </tr>\n",
       "    <tr>\n",
       "      <th>250</th>\n",
       "      <td>2024-07-15</td>\n",
       "      <td>ZBRA</td>\n",
       "      <td>Information Technology</td>\n",
       "      <td>23.761538</td>\n",
       "    </tr>\n",
       "    <tr>\n",
       "      <th>250</th>\n",
       "      <td>2024-07-15</td>\n",
       "      <td>ZBH</td>\n",
       "      <td>Health Care</td>\n",
       "      <td>0.261558</td>\n",
       "    </tr>\n",
       "    <tr>\n",
       "      <th>250</th>\n",
       "      <td>2024-07-15</td>\n",
       "      <td>ZTS</td>\n",
       "      <td>Health Care</td>\n",
       "      <td>-1.087398</td>\n",
       "    </tr>\n",
       "  </tbody>\n",
       "</table>\n",
       "<p>503 rows × 4 columns</p>\n",
       "</div>"
      ],
      "text/plain": [
       "          date ticker             GICS Sector  prediction\n",
       "250 2024-07-15    MMM             Industrials    0.167063\n",
       "250 2024-07-15    AOS             Industrials    1.332662\n",
       "250 2024-07-15    ABT             Health Care    0.865061\n",
       "250 2024-07-15   ABBV             Health Care    4.438537\n",
       "250 2024-07-15    ACN  Information Technology    1.091689\n",
       "..         ...    ...                     ...         ...\n",
       "250 2024-07-15    XYL             Industrials    5.727000\n",
       "250 2024-07-15    YUM  Consumer Discretionary    1.419437\n",
       "250 2024-07-15   ZBRA  Information Technology   23.761538\n",
       "250 2024-07-15    ZBH             Health Care    0.261558\n",
       "250 2024-07-15    ZTS             Health Care   -1.087398\n",
       "\n",
       "[503 rows x 4 columns]"
      ]
     },
     "execution_count": 12,
     "metadata": {},
     "output_type": "execute_result"
    }
   ],
   "source": [
    "sim[sim[\"date\"]==sim[\"date\"].max()]"
   ]
  },
  {
   "cell_type": "code",
   "execution_count": 13,
   "id": "d9d2a150-237d-490b-9c77-a1e3ad92aa70",
   "metadata": {},
   "outputs": [],
   "source": [
    "db.cloud_connect()\n",
    "db.drop(\"sim\")\n",
    "db.store(\"sim\",sim[sim[\"date\"]==sim[\"date\"].max()])\n",
    "db.disconnect() "
   ]
  }
 ],
 "metadata": {
  "kernelspec": {
   "display_name": "Python 3 (ipykernel)",
   "language": "python",
   "name": "python3"
  },
  "language_info": {
   "codemirror_mode": {
    "name": "ipython",
    "version": 3
   },
   "file_extension": ".py",
   "mimetype": "text/x-python",
   "name": "python",
   "nbconvert_exporter": "python",
   "pygments_lexer": "ipython3",
   "version": "3.11.9"
  }
 },
 "nbformat": 4,
 "nbformat_minor": 5
}
