{
 "cells": [
  {
   "cell_type": "code",
   "execution_count": 46,
   "id": "2ed8cf89-aedf-487b-8f4c-be90c03b04e4",
   "metadata": {},
   "outputs": [],
   "source": [
    "from processor.processor import Processor as processor\n",
    "from database.adatabase import ADatabase\n",
    "from xgboost import XGBRegressor\n",
    "from statistics import mean\n",
    "import math\n",
    "import pandas as pd\n",
    "import numpy as np\n",
    "from scipy.optimize import minimize\n",
    "import matplotlib.pyplot as plt\n",
    "from datetime import datetime, timedelta\n",
    "from tqdm import tqdm\n",
    "from dotenv import load_dotenv\n",
    "from asset.stock import Stock\n",
    "from asset.bond import Bond\n",
    "from asset.option import Option\n",
    "import warnings\n",
    "import pytz\n",
    "import copy\n",
    "warnings.simplefilter(action=\"ignore\")\n",
    "import pickle\n",
    "import wrds"
   ]
  },
  {
   "cell_type": "code",
   "execution_count": 47,
   "id": "f83d2e0d-1c3e-411d-bc6d-9f5b6aa766cc",
   "metadata": {},
   "outputs": [],
   "source": [
    "market = ADatabase(\"market\")\n",
    "sec = ADatabase(\"sec\")\n",
    "market = ADatabase(\"market\")\n",
    "fred = ADatabase(\"fred\")\n",
    "db = ADatabase(\"sapling\")"
   ]
  },
  {
   "cell_type": "code",
   "execution_count": 48,
   "id": "e3a1d483-9d3a-4549-9621-6009595e6c43",
   "metadata": {},
   "outputs": [],
   "source": [
    "sp500 = pd.read_html(\"https://en.wikipedia.org/wiki/List_of_S%26P_500_companies\",attrs={\"id\":\"constituents\"})[0].rename(columns={\"Symbol\":\"ticker\"})"
   ]
  },
  {
   "cell_type": "code",
   "execution_count": 49,
   "id": "d7462b2c-0844-4f56-8d4a-a0ec394baf95",
   "metadata": {},
   "outputs": [],
   "source": [
    "fred.connect()\n",
    "market_yield = fred.retrieve(\"market_yield\")\n",
    "market_yield = market_yield.rename(columns={\"value\":\"rf\"})\n",
    "market_yield[\"rf\"] = market_yield[\"rf\"].replace(\".\",np.nan)\n",
    "market_yield.dropna(inplace=True)\n",
    "market_yield[\"rf\"] = [float(x)/100 for x in market_yield[\"rf\"]]\n",
    "market_yield = processor.column_date_processing(market_yield)\n",
    "spy = fred.retrieve(\"sp500\")\n",
    "spy = spy.rename(columns={\"value\":\"spy\"})\n",
    "spy[\"spy\"] = spy[\"spy\"].replace(\".\",np.nan)\n",
    "spy.dropna(inplace=True)\n",
    "spy[\"spy\"] = [float(x) for x in spy[\"spy\"]]\n",
    "spy = processor.column_date_processing(spy)\n",
    "spy = spy.sort_values(\"date\")\n",
    "fred.disconnect()"
   ]
  },
  {
   "cell_type": "code",
   "execution_count": 50,
   "id": "f4ea8cad-467e-44f4-9a57-500dd57a7d09",
   "metadata": {},
   "outputs": [],
   "source": [
    "unneeded_columns = [\"ticker\",\"year\",\"quarter\",\"gsector\",\"gicdesc\",\"y\"]"
   ]
  },
  {
   "cell_type": "code",
   "execution_count": 174,
   "id": "91385ace-f70c-4b9d-8ee2-e5f58c67ed3c",
   "metadata": {
    "scrolled": true
   },
   "outputs": [
    {
     "name": "stderr",
     "output_type": "stream",
     "text": [
      "  4%|████████▋                                                                                                                                                                                               | 22/503 [00:02<00:58,  8.26it/s]"
     ]
    },
    {
     "name": "stdout",
     "output_type": "stream",
     "text": [
      "GOOGL 'date'\n"
     ]
    },
    {
     "name": "stderr",
     "output_type": "stream",
     "text": [
      " 11%|█████████████████████▍                                                                                                                                                                                  | 54/503 [00:06<00:50,  8.95it/s]"
     ]
    },
    {
     "name": "stdout",
     "output_type": "stream",
     "text": [
      "AVB 'date'\n"
     ]
    },
    {
     "name": "stderr",
     "output_type": "stream",
     "text": [
      " 13%|█████████████████████████▍                                                                                                                                                                              | 64/503 [00:07<00:41, 10.63it/s]"
     ]
    },
    {
     "name": "stdout",
     "output_type": "stream",
     "text": [
      "BRK.B 'date'\n"
     ]
    },
    {
     "name": "stderr",
     "output_type": "stream",
     "text": [
      " 16%|███████████████████████████████▍                                                                                                                                                                        | 79/503 [00:09<00:38, 10.99it/s]"
     ]
    },
    {
     "name": "stdout",
     "output_type": "stream",
     "text": [
      "BF.B 'date'\n"
     ]
    },
    {
     "name": "stderr",
     "output_type": "stream",
     "text": [
      " 16%|████████████████████████████████▏                                                                                                                                                                       | 81/503 [00:09<00:38, 10.94it/s]"
     ]
    },
    {
     "name": "stdout",
     "output_type": "stream",
     "text": [
      "BXP 'date'\n"
     ]
    },
    {
     "name": "stderr",
     "output_type": "stream",
     "text": [
      " 18%|████████████████████████████████████▏                                                                                                                                                                   | 91/503 [00:10<00:37, 10.90it/s]"
     ]
    },
    {
     "name": "stdout",
     "output_type": "stream",
     "text": [
      "CCL 'date'\n"
     ]
    },
    {
     "name": "stderr",
     "output_type": "stream",
     "text": [
      " 26%|████████████████████████████████████████████████████▏                                                                                                                                                  | 132/503 [00:14<00:35, 10.36it/s]"
     ]
    },
    {
     "name": "stdout",
     "output_type": "stream",
     "text": [
      "CPAY 'date'\n"
     ]
    },
    {
     "name": "stderr",
     "output_type": "stream",
     "text": [
      " 29%|████████████████████████████████████████████████████████▉                                                                                                                                              | 144/503 [00:16<00:33, 10.57it/s]"
     ]
    },
    {
     "name": "stdout",
     "output_type": "stream",
     "text": [
      "DAY 'date'\n"
     ]
    },
    {
     "name": "stderr",
     "output_type": "stream",
     "text": [
      " 30%|████████████████████████████████████████████████████████████▏                                                                                                                                          | 152/503 [00:16<00:33, 10.38it/s]"
     ]
    },
    {
     "name": "stdout",
     "output_type": "stream",
     "text": [
      "DLR 'date'\n"
     ]
    },
    {
     "name": "stderr",
     "output_type": "stream",
     "text": [
      " 36%|███████████████████████████████████████████████████████████████████████▏                                                                                                                               | 180/503 [00:20<00:36,  8.88it/s]"
     ]
    },
    {
     "name": "stdout",
     "output_type": "stream",
     "text": [
      "EQR 'date'\n",
      "ESS 'date'\n"
     ]
    },
    {
     "name": "stderr",
     "output_type": "stream",
     "text": [
      " 37%|████████████████████████████████████████████████████████████████████████▊                                                                                                                              | 184/503 [00:20<00:28, 11.32it/s]"
     ]
    },
    {
     "name": "stdout",
     "output_type": "stream",
     "text": [
      "EG 'date'\n"
     ]
    },
    {
     "name": "stderr",
     "output_type": "stream",
     "text": [
      " 39%|█████████████████████████████████████████████████████████████████████████████▏                                                                                                                         | 195/503 [00:21<00:32,  9.61it/s]"
     ]
    },
    {
     "name": "stdout",
     "output_type": "stream",
     "text": [
      "FRT 'date'\n"
     ]
    },
    {
     "name": "stderr",
     "output_type": "stream",
     "text": [
      " 43%|████████████████████████████████████████████████████████████████████████████████████▋                                                                                                                  | 214/503 [00:23<00:23, 12.50it/s]"
     ]
    },
    {
     "name": "stdout",
     "output_type": "stream",
     "text": [
      "GEV 'date'\n"
     ]
    },
    {
     "name": "stderr",
     "output_type": "stream",
     "text": [
      " 52%|████████████████████████████████████████████████████████████████████████████████████████████████████████                                                                                               | 263/503 [00:28<00:20, 11.68it/s]"
     ]
    },
    {
     "name": "stdout",
     "output_type": "stream",
     "text": [
      "IVZ 'date'\n",
      "INVH 'date'\n"
     ]
    },
    {
     "name": "stderr",
     "output_type": "stream",
     "text": [
      " 53%|██████████████████████████████████████████████████████████████████████████████████████████████████████████▍                                                                                            | 269/503 [00:29<00:23,  9.91it/s]"
     ]
    },
    {
     "name": "stdout",
     "output_type": "stream",
     "text": [
      "JCI 'date'\n"
     ]
    },
    {
     "name": "stderr",
     "output_type": "stream",
     "text": [
      " 56%|██████████████████████████████████████████████████████████████████████████████████████████████████████████████▊                                                                                        | 280/503 [00:30<00:20, 11.00it/s]"
     ]
    },
    {
     "name": "stdout",
     "output_type": "stream",
     "text": [
      "KIM 'date'\n"
     ]
    },
    {
     "name": "stderr",
     "output_type": "stream",
     "text": [
      " 59%|██████████████████████████████████████████████████████████████████████████████████████████████████████████████████████▎                                                                                | 299/503 [00:32<00:19, 10.60it/s]"
     ]
    },
    {
     "name": "stdout",
     "output_type": "stream",
     "text": [
      "LYB 'date'\n"
     ]
    },
    {
     "name": "stderr",
     "output_type": "stream",
     "text": [
      " 64%|███████████████████████████████████████████████████████████████████████████████████████████████████████████████████████████████▊                                                                       | 323/503 [00:35<00:16, 11.06it/s]"
     ]
    },
    {
     "name": "stdout",
     "output_type": "stream",
     "text": [
      "MAA 'date'\n"
     ]
    },
    {
     "name": "stderr",
     "output_type": "stream",
     "text": [
      " 69%|██████████████████████████████████████████████████████████████████████████████████████████████████████████████████████████████████████████                                                             | 349/503 [00:38<00:15,  9.65it/s]"
     ]
    },
    {
     "name": "stdout",
     "output_type": "stream",
     "text": [
      "NCLH 'date'\n"
     ]
    },
    {
     "name": "stderr",
     "output_type": "stream",
     "text": [
      " 70%|████████████████████████████████████████████████████████████████████████████████████████████████████████████████████████████████████████████                                                           | 354/503 [00:38<00:14, 10.23it/s]"
     ]
    },
    {
     "name": "stdout",
     "output_type": "stream",
     "text": [
      "NXPI 'date'\n"
     ]
    },
    {
     "name": "stderr",
     "output_type": "stream",
     "text": [
      " 79%|█████████████████████████████████████████████████████████████████████████████████████████████████████████████████████████████████████████████████████████████▊                                         | 399/503 [00:43<00:10,  9.50it/s]"
     ]
    },
    {
     "name": "stdout",
     "output_type": "stream",
     "text": [
      "REG 'date'\n"
     ]
    },
    {
     "name": "stderr",
     "output_type": "stream",
     "text": [
      " 81%|█████████████████████████████████████████████████████████████████████████████████████████████████████████████████████████████████████████████████████████████████▊                                     | 409/503 [00:44<00:09,  9.74it/s]"
     ]
    },
    {
     "name": "stdout",
     "output_type": "stream",
     "text": [
      "RCL 'date'\n"
     ]
    },
    {
     "name": "stderr",
     "output_type": "stream",
     "text": [
      " 82%|███████████████████████████████████████████████████████████████████████████████████████████████████████████████████████████████████████████████████████████████████▍                                   | 413/503 [00:45<00:09,  9.95it/s]"
     ]
    },
    {
     "name": "stdout",
     "output_type": "stream",
     "text": [
      "SLB 'date'\n"
     ]
    },
    {
     "name": "stderr",
     "output_type": "stream",
     "text": [
      " 91%|█████████████████████████████████████████████████████████████████████████████████████████████████████████████████████████████████████████████████████████████████████████████████████▉                 | 460/503 [00:50<00:03, 11.21it/s]"
     ]
    },
    {
     "name": "stdout",
     "output_type": "stream",
     "text": [
      "UDR 'date'\n"
     ]
    },
    {
     "name": "stderr",
     "output_type": "stream",
     "text": [
      " 94%|██████████████████████████████████████████████████████████████████████████████████████████████████████████████████████████████████████████████████████████████████████████████████████████▋            | 472/503 [00:51<00:02, 11.09it/s]"
     ]
    },
    {
     "name": "stdout",
     "output_type": "stream",
     "text": [
      "VLTO 'date'\n"
     ]
    },
    {
     "name": "stderr",
     "output_type": "stream",
     "text": [
      " 95%|████████████████████████████████████████████████████████████████████████████████████████████████████████████████████████████████████████████████████████████████████████████████████████████▋          | 477/503 [00:51<00:02, 12.69it/s]"
     ]
    },
    {
     "name": "stdout",
     "output_type": "stream",
     "text": [
      "VICI 'date'\n"
     ]
    },
    {
     "name": "stderr",
     "output_type": "stream",
     "text": [
      "100%|███████████████████████████████████████████████████████████████████████████████████████████████████████████████████████████████████████████████████████████████████████████████████████████████████████| 503/503 [00:54<00:00,  9.19it/s]"
     ]
    },
    {
     "name": "stdout",
     "output_type": "stream",
     "text": [
      "ZBRA 'date'\n",
      "ZBH 'date'\n",
      "ZTS 'date'\n"
     ]
    },
    {
     "name": "stderr",
     "output_type": "stream",
     "text": [
      "\n"
     ]
    }
   ],
   "source": [
    "market.connect()\n",
    "sec.connect()\n",
    "factors_df = []\n",
    "for ticker in tqdm(sp500[\"ticker\"].unique()):\n",
    "    try:\n",
    "        price = processor.column_date_processing(market.query(\"prices\",{\"ticker\":ticker}))\n",
    "        price[\"year\"] = [x.year for x in price[\"date\"]]\n",
    "        price[\"quarter\"] = [x.quarter for x in price[\"date\"]]\n",
    "        filings = processor.column_date_processing(sec.query(\"financials\",{\"ticker\":ticker})).drop([\"gsector\",\"gicdesc\"],axis=1)\n",
    "        filings[\"year\"] = [x.year for x in filings[\"date\"]]\n",
    "        filings[\"quarter\"] = [x.quarter for x in filings[\"date\"]]\n",
    "        filings[\"quarter\"] = filings[\"quarter\"].shift(1)\n",
    "        price = price.drop([\"date\",\"ticker\"],axis=1).merge(filings.drop([\"date\",\"ticker\"],axis=1),on=[\"year\",\"quarter\"],how=\"left\").groupby([\"year\",\"quarter\"]).mean().reset_index()\n",
    "        price[\"ticker\"] = ticker\n",
    "        price[\"y\"] = price[\"adjclose\"].shift(-1)\n",
    "        factors_df.append(price)\n",
    "    except Exception as e:\n",
    "        print(ticker,str(e))\n",
    "        continue\n",
    "sec.disconnect()\n",
    "market.disconnect()"
   ]
  },
  {
   "cell_type": "code",
   "execution_count": 175,
   "id": "20232945-482a-466e-9beb-22417e8f3490",
   "metadata": {},
   "outputs": [],
   "source": [
    "factors_df = pd.concat(factors_df)"
   ]
  },
  {
   "cell_type": "code",
   "execution_count": 176,
   "id": "86a1c8e8-8e20-4438-9c74-038a9bc907a1",
   "metadata": {},
   "outputs": [],
   "source": [
    "for column in factors_df:\n",
    "    if column in factors_df[column]:\n",
    "        factors_df.drop(column,axis=1,inplace=True)"
   ]
  },
  {
   "cell_type": "code",
   "execution_count": 177,
   "id": "db4debcc-1f19-4c68-9d94-51317a62d68e",
   "metadata": {},
   "outputs": [],
   "source": [
    "factors_df = factors_df.fillna(0)"
   ]
  },
  {
   "cell_type": "code",
   "execution_count": 178,
   "id": "a16f0f22-3e54-49c1-892a-481b8b1ffc2e",
   "metadata": {},
   "outputs": [
    {
     "data": {
      "text/html": [
       "<div>\n",
       "<style scoped>\n",
       "    .dataframe tbody tr th:only-of-type {\n",
       "        vertical-align: middle;\n",
       "    }\n",
       "\n",
       "    .dataframe tbody tr th {\n",
       "        vertical-align: top;\n",
       "    }\n",
       "\n",
       "    .dataframe thead th {\n",
       "        text-align: right;\n",
       "    }\n",
       "</style>\n",
       "<table border=\"1\" class=\"dataframe\">\n",
       "  <thead>\n",
       "    <tr style=\"text-align: right;\">\n",
       "      <th></th>\n",
       "      <th>adjclose</th>\n",
       "    </tr>\n",
       "  </thead>\n",
       "  <tbody>\n",
       "    <tr>\n",
       "      <th>pe_inc</th>\n",
       "      <td>0.051648</td>\n",
       "    </tr>\n",
       "    <tr>\n",
       "      <th>pe_exi</th>\n",
       "      <td>0.052277</td>\n",
       "    </tr>\n",
       "    <tr>\n",
       "      <th>gprof</th>\n",
       "      <td>0.052678</td>\n",
       "    </tr>\n",
       "    <tr>\n",
       "      <th>aftret_invcapx</th>\n",
       "      <td>0.054780</td>\n",
       "    </tr>\n",
       "    <tr>\n",
       "      <th>roe</th>\n",
       "      <td>0.055838</td>\n",
       "    </tr>\n",
       "    <tr>\n",
       "      <th>mktcap</th>\n",
       "      <td>0.056037</td>\n",
       "    </tr>\n",
       "    <tr>\n",
       "      <th>accrual</th>\n",
       "      <td>0.057959</td>\n",
       "    </tr>\n",
       "    <tr>\n",
       "      <th>divcash</th>\n",
       "      <td>0.068816</td>\n",
       "    </tr>\n",
       "    <tr>\n",
       "      <th>pcf</th>\n",
       "      <td>0.072457</td>\n",
       "    </tr>\n",
       "    <tr>\n",
       "      <th>roa</th>\n",
       "      <td>0.074286</td>\n",
       "    </tr>\n",
       "    <tr>\n",
       "      <th>ptb</th>\n",
       "      <td>0.131775</td>\n",
       "    </tr>\n",
       "    <tr>\n",
       "      <th>price</th>\n",
       "      <td>0.708931</td>\n",
       "    </tr>\n",
       "    <tr>\n",
       "      <th>open</th>\n",
       "      <td>0.898359</td>\n",
       "    </tr>\n",
       "    <tr>\n",
       "      <th>low</th>\n",
       "      <td>0.898410</td>\n",
       "    </tr>\n",
       "    <tr>\n",
       "      <th>close</th>\n",
       "      <td>0.898463</td>\n",
       "    </tr>\n",
       "    <tr>\n",
       "      <th>high</th>\n",
       "      <td>0.898492</td>\n",
       "    </tr>\n",
       "    <tr>\n",
       "      <th>adjhigh</th>\n",
       "      <td>0.999991</td>\n",
       "    </tr>\n",
       "    <tr>\n",
       "      <th>adjlow</th>\n",
       "      <td>0.999993</td>\n",
       "    </tr>\n",
       "    <tr>\n",
       "      <th>adjopen</th>\n",
       "      <td>0.999998</td>\n",
       "    </tr>\n",
       "    <tr>\n",
       "      <th>adjclose</th>\n",
       "      <td>1.000000</td>\n",
       "    </tr>\n",
       "  </tbody>\n",
       "</table>\n",
       "</div>"
      ],
      "text/plain": [
       "                adjclose\n",
       "pe_inc          0.051648\n",
       "pe_exi          0.052277\n",
       "gprof           0.052678\n",
       "aftret_invcapx  0.054780\n",
       "roe             0.055838\n",
       "mktcap          0.056037\n",
       "accrual         0.057959\n",
       "divcash         0.068816\n",
       "pcf             0.072457\n",
       "roa             0.074286\n",
       "ptb             0.131775\n",
       "price           0.708931\n",
       "open            0.898359\n",
       "low             0.898410\n",
       "close           0.898463\n",
       "high            0.898492\n",
       "adjhigh         0.999991\n",
       "adjlow          0.999993\n",
       "adjopen         0.999998\n",
       "adjclose        1.000000"
      ]
     },
     "execution_count": 178,
     "metadata": {},
     "output_type": "execute_result"
    }
   ],
   "source": [
    "factors_df[[x for x in factors_df.columns if x not in unneeded_columns]].corr()[[\"adjclose\"]].sort_values(\"adjclose\").tail(20)"
   ]
  },
  {
   "cell_type": "code",
   "execution_count": 179,
   "id": "faaeedfd-4675-4ed1-a9d5-6a1a147d14d4",
   "metadata": {},
   "outputs": [
    {
     "name": "stdout",
     "output_type": "stream",
     "text": [
      "year\n",
      "quarter\n",
      "close\n",
      "high\n",
      "low\n",
      "open\n",
      "volume\n",
      "adjclose\n",
      "adjhigh\n",
      "adjlow\n",
      "adjopen\n",
      "adjvolume\n",
      "divcash\n",
      "splitfactor\n",
      "capei\n",
      "be\n",
      "bm\n",
      "evm\n",
      "pe_exi\n",
      "pe_inc\n",
      "ps\n",
      "pcf\n",
      "dpr\n",
      "npm\n",
      "opmbd\n",
      "opmad\n",
      "gpm\n",
      "ptpm\n",
      "cfm\n",
      "roa\n",
      "roe\n",
      "roce\n",
      "efftax\n",
      "aftret_eq\n",
      "aftret_invcapx\n",
      "aftret_equity\n",
      "pretret_noa\n",
      "pretret_earnat\n",
      "gprof\n",
      "equity_invcap\n",
      "debt_invcap\n",
      "totdebt_invcap\n",
      "capital_ratio\n",
      "int_debt\n",
      "int_totdebt\n",
      "cash_lt\n",
      "invt_act\n",
      "rect_act\n",
      "debt_at\n",
      "debt_ebitda\n",
      "short_debt\n",
      "curr_debt\n",
      "lt_debt\n",
      "profit_lct\n",
      "ocf_lct\n",
      "cash_debt\n",
      "fcf_ocf\n",
      "lt_ppent\n",
      "dltt_be\n",
      "debt_assets\n",
      "debt_capital\n",
      "de_ratio\n",
      "intcov\n",
      "intcov_ratio\n",
      "cash_ratio\n",
      "quick_ratio\n",
      "curr_ratio\n",
      "cash_conversion\n",
      "inv_turn\n",
      "at_turn\n",
      "rect_turn\n",
      "pay_turn\n",
      "sale_invcap\n",
      "sale_equity\n",
      "sale_nwc\n",
      "rd_sale\n",
      "adv_sale\n",
      "staff_sale\n",
      "accrual\n",
      "ret_crsp\n",
      "mktcap\n",
      "price\n",
      "ptb\n",
      "peg_trailing\n",
      "divyield\n",
      "ticker\n",
      "y\n"
     ]
    }
   ],
   "source": [
    "for column in factors_df.columns:\n",
    "    print(column)"
   ]
  },
  {
   "cell_type": "code",
   "execution_count": 180,
   "id": "01e9afd6-ec9f-4977-9ed7-99c0c7d05db1",
   "metadata": {},
   "outputs": [],
   "source": [
    "model = XGBRegressor()\n",
    "factors = [\"pe_exi\",\"ptb\",\"roa\",\"mktcap\",\"adjclose\"]\n",
    "factors_df.sort_values([\"year\",\"quarter\"],inplace=True)\n",
    "training_data = factors_df[(factors_df[\"year\"]>2013) & (factors_df[\"year\"]<2020)].dropna()\n",
    "sim = factors_df[factors_df[\"year\"]>=2020].drop(\"y\",axis=1).dropna()\n",
    "model.fit(training_data[factors],training_data[\"y\"])\n",
    "sim[\"prediction\"] = model.predict(sim[factors])"
   ]
  },
  {
   "cell_type": "code",
   "execution_count": 181,
   "id": "b62bd1de-0f62-4b52-90ab-9d4f570fc177",
   "metadata": {},
   "outputs": [
    {
     "data": {
      "image/png": "[encoded data removed]",
      "text/plain": [
       "<Figure size 640x480 with 1 Axes>"
      ]
     },
     "metadata": {},
     "output_type": "display_data"
    }
   ],
   "source": [
    "plt.plot(spy[\"date\"].values,spy[\"spy\"].values)\n",
    "plt.show()"
   ]
  },
  {
   "cell_type": "code",
   "execution_count": 182,
   "id": "774135ee-3814-46ab-8508-e056b2ceb96b",
   "metadata": {
    "scrolled": true
   },
   "outputs": [
    {
     "name": "stderr",
     "output_type": "stream",
     "text": [
      " 13%|█████████████████████████▊                                                                                                                                                                              | 65/503 [00:05<00:35, 12.36it/s]"
     ]
    },
    {
     "name": "stdout",
     "output_type": "stream",
     "text": [
      "BRK.B 'date'\n"
     ]
    },
    {
     "name": "stderr",
     "output_type": "stream",
     "text": [
      " 16%|███████████████████████████████▊                                                                                                                                                                        | 80/503 [00:06<00:31, 13.56it/s]"
     ]
    },
    {
     "name": "stdout",
     "output_type": "stream",
     "text": [
      "BF.B 'date'\n"
     ]
    },
    {
     "name": "stderr",
     "output_type": "stream",
     "text": [
      "100%|███████████████████████████████████████████████████████████████████████████████████████████████████████████████████████████████████████████████████████████████████████████████████████████████████████| 503/503 [00:42<00:00, 11.85it/s]"
     ]
    },
    {
     "name": "stdout",
     "output_type": "stream",
     "text": [
      "ZBRA 'date'\n",
      "ZBH 'date'\n",
      "ZTS 'date'\n"
     ]
    },
    {
     "name": "stderr",
     "output_type": "stream",
     "text": [
      "\n"
     ]
    }
   ],
   "source": [
    "prices = []\n",
    "market.connect()\n",
    "db.cloud_connect()\n",
    "for ticker in tqdm(sp500[\"ticker\"].unique()):\n",
    "    try:\n",
    "        price = processor.column_date_processing(market.query(\"prices\",{\"ticker\":ticker}))\n",
    "        price[\"year\"] = [x.year for x in price[\"date\"]]\n",
    "        price[\"quarter\"] = [x.quarter for x in price[\"date\"]]\n",
    "        price.sort_values(\"date\",inplace=True)\n",
    "        price = price.merge(sim[[\"year\",\"quarter\",\"ticker\",\"prediction\"]],on=[\"year\",\"quarter\",\"ticker\"],how=\"left\")\n",
    "        price = price.merge(spy[[\"date\",\"spy\"]],on=\"date\",how=\"left\")\n",
    "        price = price.merge(market_yield[[\"date\",\"rf\"]],on=\"date\",how=\"left\")\n",
    "        price = price.merge(sp500[[\"ticker\",\"GICS Sector\"]],on=\"ticker\",how=\"left\")\n",
    "        price[\"expected_return\"] = (price[\"prediction\"] - price[\"adjclose\"]) / price[\"adjclose\"]\n",
    "        price[\"historical_return\"] = price[\"adjclose\"].pct_change(90)\n",
    "        price[\"factor_return\"] = price[\"spy\"].pct_change(90)\n",
    "        price[\"cov\"] = price[\"factor_return\"].rolling(100).cov(price[\"historical_return\"])\n",
    "        price[\"var\"] = price[\"factor_return\"].rolling(100).var()\n",
    "        price[\"beta\"] = price[\"cov\"] / price[\"var\"]\n",
    "        price[\"excess_return\"] = price[\"rf\"] + price[\"beta\"] * (price[\"historical_return\"] - price[\"rf\"])\n",
    "        prices.append(price)\n",
    "    except Exception as e:\n",
    "        print(ticker,str(e))\n",
    "        continue\n",
    "market.disconnect()\n",
    "db.disconnect()"
   ]
  },
  {
   "cell_type": "code",
   "execution_count": 183,
   "id": "593de38c-0f3d-4903-8a18-ffe7c89d7b3e",
   "metadata": {},
   "outputs": [],
   "source": [
    "sim = pd.concat(prices).dropna()\n",
    "sim[\"quarter\"] = [x.quarter for x in sim[\"date\"]]"
   ]
  },
  {
   "cell_type": "code",
   "execution_count": 198,
   "id": "562506f8-95aa-42d7-9e64-5b5a0fdb3b51",
   "metadata": {},
   "outputs": [
    {
     "name": "stdout",
     "output_type": "stream",
     "text": [
      "Error on date 2022-04-06 00:00:00: single positional indexer is out-of-bounds\n",
      "Error on date 2022-04-07 00:00:00: single positional indexer is out-of-bounds\n"
     ]
    }
   ],
   "source": [
    "# Initialize variables\n",
    "start = sim[\"date\"].min()\n",
    "end = sim[\"date\"].max()\n",
    "date = start\n",
    "number_of_stocks = 5\n",
    "portfolio = {\n",
    "    \"date\": date,\n",
    "    \"tax\": 0,\n",
    "    \"fees\": 0,\n",
    "    \"cash\": 100000,\n",
    "    \"positions\": [\n",
    "        {\n",
    "            \"stocks\": [{\"ticker\": \"\", \"adjclose\": 0, \"quantity\": 0} for _ in range(number_of_stocks)],\n",
    "        }\n",
    "        for _ in sp500[\"GICS Sector\"].unique()\n",
    "    ]\n",
    "}\n",
    "states = []\n",
    "trades = []\n",
    "annual_balance = 100000\n",
    "prev_quarter = 0\n",
    "quarter = 1\n",
    "for date in sim.sort_values(\"date\")[\"date\"].unique():\n",
    "    today = sim[sim[\"date\"] == date].copy()\n",
    "    prev_quarter = quarter\n",
    "    quarter = date.quarter\n",
    "    if today.index.size > 0:\n",
    "        try:\n",
    "            portfolio = copy.deepcopy(portfolio)\n",
    "            cash = portfolio[\"cash\"]\n",
    "            portfolio[\"date\"] = date\n",
    "            positions = copy.deepcopy(portfolio[\"positions\"])\n",
    "            for i in range(11):\n",
    "                position = positions[i]\n",
    "                sector = list(sp500[\"GICS Sector\"].unique())[i]\n",
    "                stocks = copy.deepcopy(position[\"stocks\"])\n",
    "                for j in range(number_of_stocks):\n",
    "                    stock = stocks[j]\n",
    "                    ticker = stock[\"ticker\"]\n",
    "                    if ticker != \"\":\n",
    "                        row = today[today[\"ticker\"] == ticker].iloc[0]\n",
    "                        stock = Stock.update(row, stock)\n",
    "                        position[\"stocks\"][j] = stock\n",
    "                positions[i] = position\n",
    "            portfolio[\"positions\"] = positions\n",
    "            \n",
    "            cash = portfolio[\"cash\"]\n",
    "            positions = copy.deepcopy(portfolio[\"positions\"])\n",
    "            \n",
    "            for i in range(11):\n",
    "                position = positions[i]\n",
    "                sector = list(sp500[\"GICS Sector\"].unique())[i]\n",
    "                stocks = copy.deepcopy(position[\"stocks\"])\n",
    "                for j in range(number_of_stocks):\n",
    "                    stock = stocks[j]\n",
    "                    ticker = stock[\"ticker\"]\n",
    "                    if ticker != \"\":\n",
    "                        notional = stock[\"pv\"]\n",
    "                        hpr = int((date - stock[\"buy_date\"]).days)\n",
    "                        opportunity_row = today[today[\"GICS Sector\"] == sector].sort_values(\"expected_return\", ascending=False).iloc[j]\n",
    "                        opportunity_ticker = opportunity_row[\"ticker\"]\n",
    "                        if (hpr > 90):\n",
    "                            row = today[today[\"ticker\"] == ticker].iloc[0]\n",
    "                            stock = Stock.sell(row, stock)\n",
    "                            position[\"stocks\"][j] = stock\n",
    "                            trades.append(stock)\n",
    "                            stock = Stock.buy(opportunity_row, stock, notional)\n",
    "                            stock[\"sector\"] = sector\n",
    "                            position[\"stocks\"][j] = stock\n",
    "                            positions[i] = position\n",
    "                portfolio[\"positions\"] = positions\n",
    "            if date == sim[\"date\"].min():\n",
    "                for i in range(11):\n",
    "                    notional = float(cash / 11 / number_of_stocks)\n",
    "                    position = positions[i]\n",
    "                    sector = list(sp500[\"GICS Sector\"].unique())[i]\n",
    "                    stocks = copy.deepcopy(position[\"stocks\"])\n",
    "                    for j in range(number_of_stocks):\n",
    "                        stock = stocks[j]\n",
    "                        row = today[today[\"GICS Sector\"] == sector].sort_values(\"expected_return\", ascending=False).iloc[j]\n",
    "                        stock = Stock.buy(row, stock, notional)\n",
    "                        stock[\"sector\"] = sector\n",
    "                        position[\"stocks\"][j] = stock\n",
    "                    positions[i] = position\n",
    "                portfolio[\"positions\"] = positions\n",
    "                portfolio[\"cash\"] = 0\n",
    "            states.append(copy.deepcopy(portfolio))\n",
    "        except Exception as e:\n",
    "            print(f\"Error on date {date}: {str(e)}\")\n",
    "            continue"
   ]
  },
  {
   "cell_type": "code",
   "execution_count": 199,
   "id": "9db68f89-9ac5-4a5b-a733-d4916b8f411f",
   "metadata": {},
   "outputs": [
    {
     "data": {
      "text/html": [
       "<div>\n",
       "<style scoped>\n",
       "    .dataframe tbody tr th:only-of-type {\n",
       "        vertical-align: middle;\n",
       "    }\n",
       "\n",
       "    .dataframe tbody tr th {\n",
       "        vertical-align: top;\n",
       "    }\n",
       "\n",
       "    .dataframe thead th {\n",
       "        text-align: right;\n",
       "    }\n",
       "</style>\n",
       "<table border=\"1\" class=\"dataframe\">\n",
       "  <thead>\n",
       "    <tr style=\"text-align: right;\">\n",
       "      <th></th>\n",
       "      <th>date</th>\n",
       "      <th>pv</th>\n",
       "      <th>stock_return</th>\n",
       "    </tr>\n",
       "  </thead>\n",
       "  <tbody>\n",
       "    <tr>\n",
       "      <th>0</th>\n",
       "      <td>2020-01-02</td>\n",
       "      <td>1.000000e+05</td>\n",
       "      <td>0.000000</td>\n",
       "    </tr>\n",
       "    <tr>\n",
       "      <th>1</th>\n",
       "      <td>2020-01-03</td>\n",
       "      <td>1.000632e+05</td>\n",
       "      <td>0.000632</td>\n",
       "    </tr>\n",
       "    <tr>\n",
       "      <th>2</th>\n",
       "      <td>2020-01-06</td>\n",
       "      <td>9.989622e+04</td>\n",
       "      <td>-0.001038</td>\n",
       "    </tr>\n",
       "    <tr>\n",
       "      <th>3</th>\n",
       "      <td>2020-01-07</td>\n",
       "      <td>1.003262e+05</td>\n",
       "      <td>0.003262</td>\n",
       "    </tr>\n",
       "    <tr>\n",
       "      <th>4</th>\n",
       "      <td>2020-01-08</td>\n",
       "      <td>1.014496e+05</td>\n",
       "      <td>0.014496</td>\n",
       "    </tr>\n",
       "    <tr>\n",
       "      <th>...</th>\n",
       "      <td>...</td>\n",
       "      <td>...</td>\n",
       "      <td>...</td>\n",
       "    </tr>\n",
       "    <tr>\n",
       "      <th>1170</th>\n",
       "      <td>2024-09-06</td>\n",
       "      <td>1.439832e+06</td>\n",
       "      <td>13.398322</td>\n",
       "    </tr>\n",
       "    <tr>\n",
       "      <th>1171</th>\n",
       "      <td>2024-09-09</td>\n",
       "      <td>1.459152e+06</td>\n",
       "      <td>13.591522</td>\n",
       "    </tr>\n",
       "    <tr>\n",
       "      <th>1172</th>\n",
       "      <td>2024-09-10</td>\n",
       "      <td>1.458063e+06</td>\n",
       "      <td>13.580629</td>\n",
       "    </tr>\n",
       "    <tr>\n",
       "      <th>1173</th>\n",
       "      <td>2024-09-11</td>\n",
       "      <td>1.454828e+06</td>\n",
       "      <td>13.548276</td>\n",
       "    </tr>\n",
       "    <tr>\n",
       "      <th>1174</th>\n",
       "      <td>2024-09-12</td>\n",
       "      <td>1.459247e+06</td>\n",
       "      <td>13.592467</td>\n",
       "    </tr>\n",
       "  </tbody>\n",
       "</table>\n",
       "<p>1175 rows × 3 columns</p>\n",
       "</div>"
      ],
      "text/plain": [
       "           date            pv  stock_return\n",
       "0    2020-01-02  1.000000e+05      0.000000\n",
       "1    2020-01-03  1.000632e+05      0.000632\n",
       "2    2020-01-06  9.989622e+04     -0.001038\n",
       "3    2020-01-07  1.003262e+05      0.003262\n",
       "4    2020-01-08  1.014496e+05      0.014496\n",
       "...         ...           ...           ...\n",
       "1170 2024-09-06  1.439832e+06     13.398322\n",
       "1171 2024-09-09  1.459152e+06     13.591522\n",
       "1172 2024-09-10  1.458063e+06     13.580629\n",
       "1173 2024-09-11  1.454828e+06     13.548276\n",
       "1174 2024-09-12  1.459247e+06     13.592467\n",
       "\n",
       "[1175 rows x 3 columns]"
      ]
     },
     "execution_count": 199,
     "metadata": {},
     "output_type": "execute_result"
    }
   ],
   "source": [
    "performance"
   ]
  },
  {
   "cell_type": "code",
   "execution_count": 200,
   "id": "cfc6ed29-c209-40dc-80c9-789f49aed13a",
   "metadata": {},
   "outputs": [],
   "source": [
    "portfolios = []\n",
    "for state in states:\n",
    "    for i in range(11):\n",
    "        for j in range(number_of_stocks):\n",
    "            view = state[\"positions\"][i][\"stocks\"][j]\n",
    "            view[\"date\"] = state[\"date\"]\n",
    "            portfolios.append(state[\"positions\"][i][\"stocks\"][j])"
   ]
  },
  {
   "cell_type": "code",
   "execution_count": 201,
   "id": "c830c9b7-f2ac-44db-a0ed-1a1eefb450a7",
   "metadata": {},
   "outputs": [],
   "source": [
    "performance = pd.DataFrame(portfolios).dropna()\n",
    "performance = performance.groupby([\"date\",\"sector\"]).agg({\"pv\":\"sum\"}).reset_index()\n",
    "performance[\"stock_return\"] = (performance[\"pv\"] - performance[\"pv\"].iloc[0]) / performance[\"pv\"].iloc[0]"
   ]
  },
  {
   "cell_type": "code",
   "execution_count": 202,
   "id": "e9fafec9-a71f-40db-90a1-9aaef3149e90",
   "metadata": {},
   "outputs": [
    {
     "data": {
      "image/png": "[encoded data removed]",
      "text/plain": [
       "<Figure size 1000x600 with 1 Axes>"
      ]
     },
     "metadata": {},
     "output_type": "display_data"
    }
   ],
   "source": [
    "plt.figure(figsize=(10, 6))  \n",
    "for sector in performance[\"sector\"].unique():\n",
    "    sector_perf = performance[performance[\"sector\"]==sector]\n",
    "    plt.plot(sector_perf[\"date\"].values,sector_perf[\"stock_return\"].values)\n",
    "    plt.legend(performance[\"sector\"].unique())\n",
    "plt.show()"
   ]
  },
  {
   "cell_type": "code",
   "execution_count": 203,
   "id": "2e84c5d3-0b09-42ef-aa7f-ede7939ede72",
   "metadata": {},
   "outputs": [
    {
     "data": {
      "image/png": "[encoded data removed]",
      "text/plain": [
       "<Figure size 1000x600 with 1 Axes>"
      ]
     },
     "metadata": {},
     "output_type": "display_data"
    }
   ],
   "source": [
    "performance = performance.groupby([\"date\"]).agg({\"pv\":\"sum\"}).reset_index()\n",
    "performance[\"stock_return\"] = (performance[\"pv\"] - performance[\"pv\"].iloc[0]) / performance[\"pv\"].iloc[0]\n",
    "plt.figure(figsize=(10, 6)) \n",
    "plt.plot(performance[\"date\"].values,performance[\"stock_return\"].values)\n",
    "plt.show()"
   ]
  },
  {
   "cell_type": "code",
   "execution_count": 204,
   "id": "166410b7-e9c2-4af1-b174-56e3e32cb643",
   "metadata": {},
   "outputs": [],
   "source": [
    "visualization = performance.merge(spy,on=\"date\",how=\"left\")\n",
    "visualization = visualization.merge(market_yield[[\"date\",\"rf\"]],on=\"date\",how=\"left\")"
   ]
  },
  {
   "cell_type": "code",
   "execution_count": 205,
   "id": "0dc1caa2-97b6-46eb-9cf5-90f2215b06bd",
   "metadata": {},
   "outputs": [],
   "source": [
    "visualization[\"return\"] = (visualization[\"pv\"] - visualization[\"pv\"].iloc[0]) / visualization[\"pv\"].iloc[0]\n",
    "visualization[\"benchmark_return\"] = (visualization[\"spy\"] - visualization[\"spy\"].iloc[0]) / visualization[\"spy\"].iloc[0]\n",
    "visualization[\"ir_return\"] = (visualization[\"rf\"] - visualization[\"rf\"].iloc[0]) / visualization[\"rf\"].iloc[0]"
   ]
  },
  {
   "cell_type": "code",
   "execution_count": 206,
   "id": "b8b79695-e2ef-4933-aaa0-6cb12ea34557",
   "metadata": {},
   "outputs": [
    {
     "data": {
      "image/png": "[encoded data removed]",
      "text/plain": [
       "<Figure size 1000x600 with 1 Axes>"
      ]
     },
     "metadata": {},
     "output_type": "display_data"
    }
   ],
   "source": [
    "# Set the figure size\n",
    "plt.figure(figsize=(10, 6))  # Adjust the width and height as needed\n",
    "\n",
    "# Plot the data\n",
    "plt.plot(visualization[\"date\"].values, visualization[\"return\"], label=\"Return\")\n",
    "plt.plot(visualization[\"date\"].values, visualization[\"benchmark_return\"], label=\"Benchmark Return\")\n",
    "plt.plot(visualization[\"date\"].values, visualization[\"ir_return\"], label=\"IR Return\")\n",
    "\n",
    "# Add labels and legend\n",
    "plt.xlabel(\"Date\")\n",
    "plt.ylabel(\"Return\")\n",
    "plt.title(\"Return vs. Benchmark Return\")\n",
    "plt.legend()\n",
    "\n",
    "# Show the plot\n",
    "plt.show()\n"
   ]
  },
  {
   "cell_type": "code",
   "execution_count": 207,
   "id": "8b18fb83-929c-4408-af26-911baad6bef4",
   "metadata": {},
   "outputs": [
    {
     "data": {
      "text/plain": [
       "3.241791772185006"
      ]
     },
     "execution_count": 207,
     "metadata": {},
     "output_type": "execute_result"
    }
   ],
   "source": [
    "(visualization[\"return\"].iloc[-1] - visualization[\"benchmark_return\"].iloc[-1]) / visualization[\"return\"].std()"
   ]
  },
  {
   "cell_type": "code",
   "execution_count": 208,
   "id": "121aa44a-423b-4293-8862-5170fa7250cc",
   "metadata": {},
   "outputs": [],
   "source": [
    "t = pd.DataFrame(trades).merge(sp500[[\"ticker\",\"GICS Sector\"]],on=\"ticker\",how=\"left\")\n",
    "t[\"return\"] = (t[\"adjclose\"] - t[\"buy_price\"]) / t[\"buy_price\"]\n",
    "t[\"hpr\"] = t[\"sell_date\"] - t[\"buy_date\"]\n",
    "t[\"hpr\"] = [int(x.days) for x in t[\"hpr\"]]"
   ]
  },
  {
   "cell_type": "code",
   "execution_count": 209,
   "id": "893d2e19-24d5-4d58-a447-d46a689051e3",
   "metadata": {},
   "outputs": [
    {
     "data": {
      "text/html": [
       "<div>\n",
       "<style scoped>\n",
       "    .dataframe tbody tr th:only-of-type {\n",
       "        vertical-align: middle;\n",
       "    }\n",
       "\n",
       "    .dataframe tbody tr th {\n",
       "        vertical-align: top;\n",
       "    }\n",
       "\n",
       "    .dataframe thead th {\n",
       "        text-align: right;\n",
       "    }\n",
       "</style>\n",
       "<table border=\"1\" class=\"dataframe\">\n",
       "  <thead>\n",
       "    <tr style=\"text-align: right;\">\n",
       "      <th></th>\n",
       "      <th>ticker</th>\n",
       "      <th>adjclose</th>\n",
       "      <th>quantity</th>\n",
       "      <th>excess_return</th>\n",
       "      <th>buy_price</th>\n",
       "      <th>buy_date</th>\n",
       "      <th>sell_date</th>\n",
       "      <th>pv</th>\n",
       "      <th>sector</th>\n",
       "      <th>GICS Sector</th>\n",
       "      <th>return</th>\n",
       "      <th>hpr</th>\n",
       "    </tr>\n",
       "  </thead>\n",
       "  <tbody>\n",
       "    <tr>\n",
       "      <th>85</th>\n",
       "      <td>CZR</td>\n",
       "      <td>41.200000</td>\n",
       "      <td>179.989487</td>\n",
       "      <td>-1.107367</td>\n",
       "      <td>10.670000</td>\n",
       "      <td>2020-04-02</td>\n",
       "      <td>2020-07-02</td>\n",
       "      <td>7415.566853</td>\n",
       "      <td>Consumer Discretionary</td>\n",
       "      <td>Consumer Discretionary</td>\n",
       "      <td>2.861293</td>\n",
       "      <td>91</td>\n",
       "    </tr>\n",
       "    <tr>\n",
       "      <th>86</th>\n",
       "      <td>ETSY</td>\n",
       "      <td>110.680000</td>\n",
       "      <td>40.234163</td>\n",
       "      <td>-0.340697</td>\n",
       "      <td>34.800000</td>\n",
       "      <td>2020-04-02</td>\n",
       "      <td>2020-07-02</td>\n",
       "      <td>4453.117142</td>\n",
       "      <td>Consumer Discretionary</td>\n",
       "      <td>Consumer Discretionary</td>\n",
       "      <td>2.180460</td>\n",
       "      <td>91</td>\n",
       "    </tr>\n",
       "    <tr>\n",
       "      <th>106</th>\n",
       "      <td>TRGP</td>\n",
       "      <td>17.526235</td>\n",
       "      <td>58.796487</td>\n",
       "      <td>-1.195550</td>\n",
       "      <td>5.763905</td>\n",
       "      <td>2020-04-02</td>\n",
       "      <td>2020-07-02</td>\n",
       "      <td>1030.481055</td>\n",
       "      <td>Energy</td>\n",
       "      <td>Energy</td>\n",
       "      <td>2.040688</td>\n",
       "      <td>91</td>\n",
       "    </tr>\n",
       "    <tr>\n",
       "      <th>105</th>\n",
       "      <td>APA</td>\n",
       "      <td>12.286883</td>\n",
       "      <td>271.443424</td>\n",
       "      <td>-1.592030</td>\n",
       "      <td>4.333173</td>\n",
       "      <td>2020-04-02</td>\n",
       "      <td>2020-07-02</td>\n",
       "      <td>3335.193722</td>\n",
       "      <td>Energy</td>\n",
       "      <td>Energy</td>\n",
       "      <td>1.835540</td>\n",
       "      <td>91</td>\n",
       "    </tr>\n",
       "    <tr>\n",
       "      <th>87</th>\n",
       "      <td>TSLA</td>\n",
       "      <td>80.577333</td>\n",
       "      <td>36.447161</td>\n",
       "      <td>2.861990</td>\n",
       "      <td>30.298000</td>\n",
       "      <td>2020-04-02</td>\n",
       "      <td>2020-07-02</td>\n",
       "      <td>2936.815057</td>\n",
       "      <td>Consumer Discretionary</td>\n",
       "      <td>Consumer Discretionary</td>\n",
       "      <td>1.659493</td>\n",
       "      <td>91</td>\n",
       "    </tr>\n",
       "    <tr>\n",
       "      <th>140</th>\n",
       "      <td>BBWI</td>\n",
       "      <td>25.337717</td>\n",
       "      <td>643.445892</td>\n",
       "      <td>4.214220</td>\n",
       "      <td>11.524771</td>\n",
       "      <td>2020-07-02</td>\n",
       "      <td>2020-10-01</td>\n",
       "      <td>16303.450091</td>\n",
       "      <td>Consumer Discretionary</td>\n",
       "      <td>Consumer Discretionary</td>\n",
       "      <td>1.198544</td>\n",
       "      <td>91</td>\n",
       "    </tr>\n",
       "    <tr>\n",
       "      <th>176</th>\n",
       "      <td>ENPH</td>\n",
       "      <td>175.470000</td>\n",
       "      <td>68.035838</td>\n",
       "      <td>-1.412329</td>\n",
       "      <td>89.510000</td>\n",
       "      <td>2020-10-01</td>\n",
       "      <td>2020-12-31</td>\n",
       "      <td>11938.248562</td>\n",
       "      <td>Information Technology</td>\n",
       "      <td>Information Technology</td>\n",
       "      <td>0.960340</td>\n",
       "      <td>91</td>\n",
       "    </tr>\n",
       "    <tr>\n",
       "      <th>195</th>\n",
       "      <td>TPR</td>\n",
       "      <td>28.064062</td>\n",
       "      <td>1135.567269</td>\n",
       "      <td>-4.018254</td>\n",
       "      <td>14.357098</td>\n",
       "      <td>2020-10-01</td>\n",
       "      <td>2020-12-31</td>\n",
       "      <td>31868.630743</td>\n",
       "      <td>Consumer Discretionary</td>\n",
       "      <td>Consumer Discretionary</td>\n",
       "      <td>0.954717</td>\n",
       "      <td>91</td>\n",
       "    </tr>\n",
       "    <tr>\n",
       "      <th>215</th>\n",
       "      <td>TRGP</td>\n",
       "      <td>24.526505</td>\n",
       "      <td>266.015703</td>\n",
       "      <td>3.438130</td>\n",
       "      <td>12.547478</td>\n",
       "      <td>2020-10-01</td>\n",
       "      <td>2020-12-31</td>\n",
       "      <td>6524.435364</td>\n",
       "      <td>Energy</td>\n",
       "      <td>Energy</td>\n",
       "      <td>0.954696</td>\n",
       "      <td>91</td>\n",
       "    </tr>\n",
       "    <tr>\n",
       "      <th>75</th>\n",
       "      <td>PYPL</td>\n",
       "      <td>177.210000</td>\n",
       "      <td>20.201012</td>\n",
       "      <td>0.466226</td>\n",
       "      <td>93.520000</td>\n",
       "      <td>2020-04-02</td>\n",
       "      <td>2020-07-02</td>\n",
       "      <td>3579.821382</td>\n",
       "      <td>Financials</td>\n",
       "      <td>Financials</td>\n",
       "      <td>0.894889</td>\n",
       "      <td>91</td>\n",
       "    </tr>\n",
       "    <tr>\n",
       "      <th>141</th>\n",
       "      <td>TSLA</td>\n",
       "      <td>149.386667</td>\n",
       "      <td>55.265134</td>\n",
       "      <td>7.530469</td>\n",
       "      <td>80.577333</td>\n",
       "      <td>2020-07-02</td>\n",
       "      <td>2020-10-01</td>\n",
       "      <td>8255.874184</td>\n",
       "      <td>Consumer Discretionary</td>\n",
       "      <td>Consumer Discretionary</td>\n",
       "      <td>0.853954</td>\n",
       "      <td>91</td>\n",
       "    </tr>\n",
       "    <tr>\n",
       "      <th>95</th>\n",
       "      <td>PARA</td>\n",
       "      <td>20.773786</td>\n",
       "      <td>173.080613</td>\n",
       "      <td>-0.099183</td>\n",
       "      <td>11.282764</td>\n",
       "      <td>2020-04-02</td>\n",
       "      <td>2020-07-02</td>\n",
       "      <td>3595.539607</td>\n",
       "      <td>Communication Services</td>\n",
       "      <td>Communication Services</td>\n",
       "      <td>0.841197</td>\n",
       "      <td>91</td>\n",
       "    </tr>\n",
       "    <tr>\n",
       "      <th>62</th>\n",
       "      <td>ALGN</td>\n",
       "      <td>279.930000</td>\n",
       "      <td>14.517718</td>\n",
       "      <td>0.506925</td>\n",
       "      <td>152.070000</td>\n",
       "      <td>2020-04-02</td>\n",
       "      <td>2020-07-02</td>\n",
       "      <td>4063.944714</td>\n",
       "      <td>Health Care</td>\n",
       "      <td>Health Care</td>\n",
       "      <td>0.840797</td>\n",
       "      <td>91</td>\n",
       "    </tr>\n",
       "    <tr>\n",
       "      <th>120</th>\n",
       "      <td>ENPH</td>\n",
       "      <td>89.510000</td>\n",
       "      <td>61.969387</td>\n",
       "      <td>0.695922</td>\n",
       "      <td>48.860000</td>\n",
       "      <td>2020-07-02</td>\n",
       "      <td>2020-10-01</td>\n",
       "      <td>5546.879841</td>\n",
       "      <td>Information Technology</td>\n",
       "      <td>Information Technology</td>\n",
       "      <td>0.831969</td>\n",
       "      <td>91</td>\n",
       "    </tr>\n",
       "    <tr>\n",
       "      <th>894</th>\n",
       "      <td>NVDA</td>\n",
       "      <td>90.337798</td>\n",
       "      <td>175.813112</td>\n",
       "      <td>3.661256</td>\n",
       "      <td>49.509720</td>\n",
       "      <td>2023-12-28</td>\n",
       "      <td>2024-03-28</td>\n",
       "      <td>15882.569409</td>\n",
       "      <td>Information Technology</td>\n",
       "      <td>Information Technology</td>\n",
       "      <td>0.824648</td>\n",
       "      <td>91</td>\n",
       "    </tr>\n",
       "    <tr>\n",
       "      <th>80</th>\n",
       "      <td>FCX</td>\n",
       "      <td>11.030297</td>\n",
       "      <td>300.447982</td>\n",
       "      <td>0.161942</td>\n",
       "      <td>6.129008</td>\n",
       "      <td>2020-04-02</td>\n",
       "      <td>2020-07-02</td>\n",
       "      <td>3314.030336</td>\n",
       "      <td>Materials</td>\n",
       "      <td>Materials</td>\n",
       "      <td>0.799687</td>\n",
       "      <td>91</td>\n",
       "    </tr>\n",
       "    <tr>\n",
       "      <th>219</th>\n",
       "      <td>OXY</td>\n",
       "      <td>16.745013</td>\n",
       "      <td>101.148955</td>\n",
       "      <td>0.267000</td>\n",
       "      <td>9.359224</td>\n",
       "      <td>2020-10-01</td>\n",
       "      <td>2020-12-31</td>\n",
       "      <td>1693.740559</td>\n",
       "      <td>Energy</td>\n",
       "      <td>Energy</td>\n",
       "      <td>0.789145</td>\n",
       "      <td>91</td>\n",
       "    </tr>\n",
       "    <tr>\n",
       "      <th>282</th>\n",
       "      <td>MRNA</td>\n",
       "      <td>235.110000</td>\n",
       "      <td>66.190510</td>\n",
       "      <td>3.805789</td>\n",
       "      <td>132.550000</td>\n",
       "      <td>2021-04-01</td>\n",
       "      <td>2021-07-01</td>\n",
       "      <td>15562.050725</td>\n",
       "      <td>Health Care</td>\n",
       "      <td>Health Care</td>\n",
       "      <td>0.773746</td>\n",
       "      <td>91</td>\n",
       "    </tr>\n",
       "    <tr>\n",
       "      <th>55</th>\n",
       "      <td>PAYC</td>\n",
       "      <td>317.906864</td>\n",
       "      <td>10.889904</td>\n",
       "      <td>0.208886</td>\n",
       "      <td>179.234209</td>\n",
       "      <td>2020-04-02</td>\n",
       "      <td>2020-07-02</td>\n",
       "      <td>3461.975221</td>\n",
       "      <td>Industrials</td>\n",
       "      <td>Industrials</td>\n",
       "      <td>0.773695</td>\n",
       "      <td>91</td>\n",
       "    </tr>\n",
       "    <tr>\n",
       "      <th>61</th>\n",
       "      <td>MRNA</td>\n",
       "      <td>58.570000</td>\n",
       "      <td>53.883867</td>\n",
       "      <td>-1.892778</td>\n",
       "      <td>33.200000</td>\n",
       "      <td>2020-04-02</td>\n",
       "      <td>2020-07-02</td>\n",
       "      <td>3155.978119</td>\n",
       "      <td>Health Care</td>\n",
       "      <td>Health Care</td>\n",
       "      <td>0.764157</td>\n",
       "      <td>91</td>\n",
       "    </tr>\n",
       "    <tr>\n",
       "      <th>107</th>\n",
       "      <td>MRO</td>\n",
       "      <td>5.755163</td>\n",
       "      <td>543.594503</td>\n",
       "      <td>-0.601905</td>\n",
       "      <td>3.263140</td>\n",
       "      <td>2020-04-02</td>\n",
       "      <td>2020-07-02</td>\n",
       "      <td>3128.475103</td>\n",
       "      <td>Energy</td>\n",
       "      <td>Energy</td>\n",
       "      <td>0.763689</td>\n",
       "      <td>91</td>\n",
       "    </tr>\n",
       "    <tr>\n",
       "      <th>68</th>\n",
       "      <td>ADSK</td>\n",
       "      <td>240.150000</td>\n",
       "      <td>12.020961</td>\n",
       "      <td>0.428092</td>\n",
       "      <td>137.050000</td>\n",
       "      <td>2020-04-02</td>\n",
       "      <td>2020-07-02</td>\n",
       "      <td>2886.833758</td>\n",
       "      <td>Information Technology</td>\n",
       "      <td>Information Technology</td>\n",
       "      <td>0.752280</td>\n",
       "      <td>91</td>\n",
       "    </tr>\n",
       "    <tr>\n",
       "      <th>58</th>\n",
       "      <td>BLDR</td>\n",
       "      <td>20.070000</td>\n",
       "      <td>153.046813</td>\n",
       "      <td>-0.468525</td>\n",
       "      <td>11.540000</td>\n",
       "      <td>2020-04-02</td>\n",
       "      <td>2020-07-02</td>\n",
       "      <td>3071.649543</td>\n",
       "      <td>Industrials</td>\n",
       "      <td>Industrials</td>\n",
       "      <td>0.739168</td>\n",
       "      <td>91</td>\n",
       "    </tr>\n",
       "    <tr>\n",
       "      <th>166</th>\n",
       "      <td>GE</td>\n",
       "      <td>53.078649</td>\n",
       "      <td>95.325381</td>\n",
       "      <td>-1.286742</td>\n",
       "      <td>30.639320</td>\n",
       "      <td>2020-10-01</td>\n",
       "      <td>2020-12-31</td>\n",
       "      <td>5059.742405</td>\n",
       "      <td>Industrials</td>\n",
       "      <td>Industrials</td>\n",
       "      <td>0.732370</td>\n",
       "      <td>91</td>\n",
       "    </tr>\n",
       "    <tr>\n",
       "      <th>5</th>\n",
       "      <td>MRNA</td>\n",
       "      <td>33.200000</td>\n",
       "      <td>94.549237</td>\n",
       "      <td>-0.462944</td>\n",
       "      <td>19.230000</td>\n",
       "      <td>2020-01-02</td>\n",
       "      <td>2020-04-02</td>\n",
       "      <td>3139.034652</td>\n",
       "      <td>Health Care</td>\n",
       "      <td>Health Care</td>\n",
       "      <td>0.726469</td>\n",
       "      <td>91</td>\n",
       "    </tr>\n",
       "    <tr>\n",
       "      <th>191</th>\n",
       "      <td>ALB</td>\n",
       "      <td>142.436267</td>\n",
       "      <td>48.080652</td>\n",
       "      <td>0.768302</td>\n",
       "      <td>83.513830</td>\n",
       "      <td>2020-10-01</td>\n",
       "      <td>2020-12-31</td>\n",
       "      <td>6848.428675</td>\n",
       "      <td>Materials</td>\n",
       "      <td>Materials</td>\n",
       "      <td>0.705541</td>\n",
       "      <td>91</td>\n",
       "    </tr>\n",
       "    <tr>\n",
       "      <th>66</th>\n",
       "      <td>ON</td>\n",
       "      <td>19.180000</td>\n",
       "      <td>195.835484</td>\n",
       "      <td>0.049220</td>\n",
       "      <td>11.270000</td>\n",
       "      <td>2020-04-02</td>\n",
       "      <td>2020-07-02</td>\n",
       "      <td>3756.124586</td>\n",
       "      <td>Information Technology</td>\n",
       "      <td>Information Technology</td>\n",
       "      <td>0.701863</td>\n",
       "      <td>91</td>\n",
       "    </tr>\n",
       "    <tr>\n",
       "      <th>63</th>\n",
       "      <td>HOLX</td>\n",
       "      <td>57.860000</td>\n",
       "      <td>57.706854</td>\n",
       "      <td>0.184007</td>\n",
       "      <td>34.060000</td>\n",
       "      <td>2020-04-02</td>\n",
       "      <td>2020-07-02</td>\n",
       "      <td>3338.918546</td>\n",
       "      <td>Health Care</td>\n",
       "      <td>Health Care</td>\n",
       "      <td>0.698767</td>\n",
       "      <td>91</td>\n",
       "    </tr>\n",
       "    <tr>\n",
       "      <th>216</th>\n",
       "      <td>MRO</td>\n",
       "      <td>6.306589</td>\n",
       "      <td>247.204894</td>\n",
       "      <td>0.620488</td>\n",
       "      <td>3.714525</td>\n",
       "      <td>2020-10-01</td>\n",
       "      <td>2020-12-31</td>\n",
       "      <td>1559.019563</td>\n",
       "      <td>Energy</td>\n",
       "      <td>Energy</td>\n",
       "      <td>0.697818</td>\n",
       "      <td>91</td>\n",
       "    </tr>\n",
       "    <tr>\n",
       "      <th>174</th>\n",
       "      <td>ALGN</td>\n",
       "      <td>534.380000</td>\n",
       "      <td>14.124236</td>\n",
       "      <td>0.590615</td>\n",
       "      <td>317.610000</td>\n",
       "      <td>2020-10-01</td>\n",
       "      <td>2020-12-31</td>\n",
       "      <td>7547.709232</td>\n",
       "      <td>Health Care</td>\n",
       "      <td>Health Care</td>\n",
       "      <td>0.682504</td>\n",
       "      <td>91</td>\n",
       "    </tr>\n",
       "  </tbody>\n",
       "</table>\n",
       "</div>"
      ],
      "text/plain": [
       "    ticker    adjclose     quantity  excess_return   buy_price   buy_date  \\\n",
       "85     CZR   41.200000   179.989487      -1.107367   10.670000 2020-04-02   \n",
       "86    ETSY  110.680000    40.234163      -0.340697   34.800000 2020-04-02   \n",
       "106   TRGP   17.526235    58.796487      -1.195550    5.763905 2020-04-02   \n",
       "105    APA   12.286883   271.443424      -1.592030    4.333173 2020-04-02   \n",
       "87    TSLA   80.577333    36.447161       2.861990   30.298000 2020-04-02   \n",
       "140   BBWI   25.337717   643.445892       4.214220   11.524771 2020-07-02   \n",
       "176   ENPH  175.470000    68.035838      -1.412329   89.510000 2020-10-01   \n",
       "195    TPR   28.064062  1135.567269      -4.018254   14.357098 2020-10-01   \n",
       "215   TRGP   24.526505   266.015703       3.438130   12.547478 2020-10-01   \n",
       "75    PYPL  177.210000    20.201012       0.466226   93.520000 2020-04-02   \n",
       "141   TSLA  149.386667    55.265134       7.530469   80.577333 2020-07-02   \n",
       "95    PARA   20.773786   173.080613      -0.099183   11.282764 2020-04-02   \n",
       "62    ALGN  279.930000    14.517718       0.506925  152.070000 2020-04-02   \n",
       "120   ENPH   89.510000    61.969387       0.695922   48.860000 2020-07-02   \n",
       "894   NVDA   90.337798   175.813112       3.661256   49.509720 2023-12-28   \n",
       "80     FCX   11.030297   300.447982       0.161942    6.129008 2020-04-02   \n",
       "219    OXY   16.745013   101.148955       0.267000    9.359224 2020-10-01   \n",
       "282   MRNA  235.110000    66.190510       3.805789  132.550000 2021-04-01   \n",
       "55    PAYC  317.906864    10.889904       0.208886  179.234209 2020-04-02   \n",
       "61    MRNA   58.570000    53.883867      -1.892778   33.200000 2020-04-02   \n",
       "107    MRO    5.755163   543.594503      -0.601905    3.263140 2020-04-02   \n",
       "68    ADSK  240.150000    12.020961       0.428092  137.050000 2020-04-02   \n",
       "58    BLDR   20.070000   153.046813      -0.468525   11.540000 2020-04-02   \n",
       "166     GE   53.078649    95.325381      -1.286742   30.639320 2020-10-01   \n",
       "5     MRNA   33.200000    94.549237      -0.462944   19.230000 2020-01-02   \n",
       "191    ALB  142.436267    48.080652       0.768302   83.513830 2020-10-01   \n",
       "66      ON   19.180000   195.835484       0.049220   11.270000 2020-04-02   \n",
       "63    HOLX   57.860000    57.706854       0.184007   34.060000 2020-04-02   \n",
       "216    MRO    6.306589   247.204894       0.620488    3.714525 2020-10-01   \n",
       "174   ALGN  534.380000    14.124236       0.590615  317.610000 2020-10-01   \n",
       "\n",
       "     sell_date            pv                  sector             GICS Sector  \\\n",
       "85  2020-07-02   7415.566853  Consumer Discretionary  Consumer Discretionary   \n",
       "86  2020-07-02   4453.117142  Consumer Discretionary  Consumer Discretionary   \n",
       "106 2020-07-02   1030.481055                  Energy                  Energy   \n",
       "105 2020-07-02   3335.193722                  Energy                  Energy   \n",
       "87  2020-07-02   2936.815057  Consumer Discretionary  Consumer Discretionary   \n",
       "140 2020-10-01  16303.450091  Consumer Discretionary  Consumer Discretionary   \n",
       "176 2020-12-31  11938.248562  Information Technology  Information Technology   \n",
       "195 2020-12-31  31868.630743  Consumer Discretionary  Consumer Discretionary   \n",
       "215 2020-12-31   6524.435364                  Energy                  Energy   \n",
       "75  2020-07-02   3579.821382              Financials              Financials   \n",
       "141 2020-10-01   8255.874184  Consumer Discretionary  Consumer Discretionary   \n",
       "95  2020-07-02   3595.539607  Communication Services  Communication Services   \n",
       "62  2020-07-02   4063.944714             Health Care             Health Care   \n",
       "120 2020-10-01   5546.879841  Information Technology  Information Technology   \n",
       "894 2024-03-28  15882.569409  Information Technology  Information Technology   \n",
       "80  2020-07-02   3314.030336               Materials               Materials   \n",
       "219 2020-12-31   1693.740559                  Energy                  Energy   \n",
       "282 2021-07-01  15562.050725             Health Care             Health Care   \n",
       "55  2020-07-02   3461.975221             Industrials             Industrials   \n",
       "61  2020-07-02   3155.978119             Health Care             Health Care   \n",
       "107 2020-07-02   3128.475103                  Energy                  Energy   \n",
       "68  2020-07-02   2886.833758  Information Technology  Information Technology   \n",
       "58  2020-07-02   3071.649543             Industrials             Industrials   \n",
       "166 2020-12-31   5059.742405             Industrials             Industrials   \n",
       "5   2020-04-02   3139.034652             Health Care             Health Care   \n",
       "191 2020-12-31   6848.428675               Materials               Materials   \n",
       "66  2020-07-02   3756.124586  Information Technology  Information Technology   \n",
       "63  2020-07-02   3338.918546             Health Care             Health Care   \n",
       "216 2020-12-31   1559.019563                  Energy                  Energy   \n",
       "174 2020-12-31   7547.709232             Health Care             Health Care   \n",
       "\n",
       "       return  hpr  \n",
       "85   2.861293   91  \n",
       "86   2.180460   91  \n",
       "106  2.040688   91  \n",
       "105  1.835540   91  \n",
       "87   1.659493   91  \n",
       "140  1.198544   91  \n",
       "176  0.960340   91  \n",
       "195  0.954717   91  \n",
       "215  0.954696   91  \n",
       "75   0.894889   91  \n",
       "141  0.853954   91  \n",
       "95   0.841197   91  \n",
       "62   0.840797   91  \n",
       "120  0.831969   91  \n",
       "894  0.824648   91  \n",
       "80   0.799687   91  \n",
       "219  0.789145   91  \n",
       "282  0.773746   91  \n",
       "55   0.773695   91  \n",
       "61   0.764157   91  \n",
       "107  0.763689   91  \n",
       "68   0.752280   91  \n",
       "58   0.739168   91  \n",
       "166  0.732370   91  \n",
       "5    0.726469   91  \n",
       "191  0.705541   91  \n",
       "66   0.701863   91  \n",
       "63   0.698767   91  \n",
       "216  0.697818   91  \n",
       "174  0.682504   91  "
      ]
     },
     "execution_count": 209,
     "metadata": {},
     "output_type": "execute_result"
    }
   ],
   "source": [
    "t.sort_values(\"return\",ascending=False).head(30)"
   ]
  },
  {
   "cell_type": "code",
   "execution_count": 210,
   "id": "7df48b86-02d7-4b4d-b4d2-754f9436238f",
   "metadata": {},
   "outputs": [
    {
     "data": {
      "text/html": [
       "<div>\n",
       "<style scoped>\n",
       "    .dataframe tbody tr th:only-of-type {\n",
       "        vertical-align: middle;\n",
       "    }\n",
       "\n",
       "    .dataframe tbody tr th {\n",
       "        vertical-align: top;\n",
       "    }\n",
       "\n",
       "    .dataframe thead th {\n",
       "        text-align: right;\n",
       "    }\n",
       "</style>\n",
       "<table border=\"1\" class=\"dataframe\">\n",
       "  <thead>\n",
       "    <tr style=\"text-align: right;\">\n",
       "      <th></th>\n",
       "      <th>GICS Sector</th>\n",
       "      <th>return</th>\n",
       "      <th>hpr</th>\n",
       "    </tr>\n",
       "  </thead>\n",
       "  <tbody>\n",
       "    <tr>\n",
       "      <th>0</th>\n",
       "      <td>Communication Services</td>\n",
       "      <td>0.045902</td>\n",
       "      <td>91.0</td>\n",
       "    </tr>\n",
       "    <tr>\n",
       "      <th>10</th>\n",
       "      <td>Utilities</td>\n",
       "      <td>0.047519</td>\n",
       "      <td>91.0</td>\n",
       "    </tr>\n",
       "    <tr>\n",
       "      <th>2</th>\n",
       "      <td>Consumer Staples</td>\n",
       "      <td>0.059221</td>\n",
       "      <td>91.0</td>\n",
       "    </tr>\n",
       "    <tr>\n",
       "      <th>9</th>\n",
       "      <td>Real Estate</td>\n",
       "      <td>0.076454</td>\n",
       "      <td>91.0</td>\n",
       "    </tr>\n",
       "    <tr>\n",
       "      <th>4</th>\n",
       "      <td>Financials</td>\n",
       "      <td>0.077473</td>\n",
       "      <td>91.0</td>\n",
       "    </tr>\n",
       "    <tr>\n",
       "      <th>8</th>\n",
       "      <td>Materials</td>\n",
       "      <td>0.088342</td>\n",
       "      <td>91.0</td>\n",
       "    </tr>\n",
       "    <tr>\n",
       "      <th>5</th>\n",
       "      <td>Health Care</td>\n",
       "      <td>0.110738</td>\n",
       "      <td>91.0</td>\n",
       "    </tr>\n",
       "    <tr>\n",
       "      <th>7</th>\n",
       "      <td>Information Technology</td>\n",
       "      <td>0.129475</td>\n",
       "      <td>91.0</td>\n",
       "    </tr>\n",
       "    <tr>\n",
       "      <th>6</th>\n",
       "      <td>Industrials</td>\n",
       "      <td>0.150835</td>\n",
       "      <td>91.0</td>\n",
       "    </tr>\n",
       "    <tr>\n",
       "      <th>3</th>\n",
       "      <td>Energy</td>\n",
       "      <td>0.152240</td>\n",
       "      <td>91.0</td>\n",
       "    </tr>\n",
       "    <tr>\n",
       "      <th>1</th>\n",
       "      <td>Consumer Discretionary</td>\n",
       "      <td>0.186646</td>\n",
       "      <td>91.0</td>\n",
       "    </tr>\n",
       "  </tbody>\n",
       "</table>\n",
       "</div>"
      ],
      "text/plain": [
       "               GICS Sector    return   hpr\n",
       "0   Communication Services  0.045902  91.0\n",
       "10               Utilities  0.047519  91.0\n",
       "2         Consumer Staples  0.059221  91.0\n",
       "9              Real Estate  0.076454  91.0\n",
       "4               Financials  0.077473  91.0\n",
       "8                Materials  0.088342  91.0\n",
       "5              Health Care  0.110738  91.0\n",
       "7   Information Technology  0.129475  91.0\n",
       "6              Industrials  0.150835  91.0\n",
       "3                   Energy  0.152240  91.0\n",
       "1   Consumer Discretionary  0.186646  91.0"
      ]
     },
     "execution_count": 210,
     "metadata": {},
     "output_type": "execute_result"
    }
   ],
   "source": [
    "t.groupby([\"GICS Sector\"]).agg({\"return\":\"mean\",\"hpr\":\"mean\"}).reset_index().sort_values(\"return\").tail(50)"
   ]
  }
 ],
 "metadata": {
  "kernelspec": {
   "display_name": "Python 3 (ipykernel)",
   "language": "python",
   "name": "python3"
  },
  "language_info": {
   "codemirror_mode": {
    "name": "ipython",
    "version": 3
   },
   "file_extension": ".py",
   "mimetype": "text/x-python",
   "name": "python",
   "nbconvert_exporter": "python",
   "pygments_lexer": "ipython3",
   "version": "3.11.9"
  }
 },
 "nbformat": 4,
 "nbformat_minor": 5
}
