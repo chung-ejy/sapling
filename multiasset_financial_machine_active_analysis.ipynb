{
 "cells": [
  {
   "cell_type": "code",
   "execution_count": 1,
   "id": "2ed8cf89-aedf-487b-8f4c-be90c03b04e4",
   "metadata": {},
   "outputs": [],
   "source": [
    "from processor.processor import Processor as processor\n",
    "from database.adatabase import ADatabase\n",
    "from xgboost import XGBRegressor\n",
    "from statistics import mean\n",
    "import math\n",
    "import pandas as pd\n",
    "import numpy as np\n",
    "from scipy.optimize import minimize\n",
    "import matplotlib.pyplot as plt\n",
    "from datetime import datetime, timedelta\n",
    "from tqdm import tqdm\n",
    "from dotenv import load_dotenv\n",
    "from asset.stock import Stock\n",
    "from asset.bond import Bond\n",
    "from asset.option import Option\n",
    "import warnings\n",
    "import pytz\n",
    "import copy\n",
    "warnings.simplefilter(action=\"ignore\")\n",
    "import pickle\n",
    "import wrds"
   ]
  },
  {
   "cell_type": "code",
   "execution_count": 2,
   "id": "f83d2e0d-1c3e-411d-bc6d-9f5b6aa766cc",
   "metadata": {},
   "outputs": [],
   "source": [
    "market = ADatabase(\"market\")\n",
    "sec = ADatabase(\"sec\")\n",
    "market = ADatabase(\"market\")\n",
    "fred = ADatabase(\"fred\")\n",
    "db = ADatabase(\"sapling\")"
   ]
  },
  {
   "cell_type": "code",
   "execution_count": 3,
   "id": "e3a1d483-9d3a-4549-9621-6009595e6c43",
   "metadata": {},
   "outputs": [],
   "source": [
    "sp500 = pd.read_html(\"https://en.wikipedia.org/wiki/List_of_S%26P_500_companies\",attrs={\"id\":\"constituents\"})[0].rename(columns={\"Symbol\":\"ticker\"})"
   ]
  },
  {
   "cell_type": "code",
   "execution_count": 4,
   "id": "d7462b2c-0844-4f56-8d4a-a0ec394baf95",
   "metadata": {},
   "outputs": [],
   "source": [
    "fred.connect()\n",
    "market_yield = fred.retrieve(\"market_yield\")\n",
    "market_yield = market_yield.rename(columns={\"value\":\"rf\"})\n",
    "market_yield[\"rf\"] = market_yield[\"rf\"].replace(\".\",np.nan)\n",
    "market_yield.dropna(inplace=True)\n",
    "market_yield[\"rf\"] = [float(x)/100 for x in market_yield[\"rf\"]]\n",
    "market_yield = processor.column_date_processing(market_yield)\n",
    "spy = fred.retrieve(\"sp500\")\n",
    "spy = spy.rename(columns={\"value\":\"spy\"})\n",
    "spy[\"spy\"] = spy[\"spy\"].replace(\".\",np.nan)\n",
    "spy.dropna(inplace=True)\n",
    "spy[\"spy\"] = [float(x) for x in spy[\"spy\"]]\n",
    "spy = processor.column_date_processing(spy)\n",
    "spy = spy.sort_values(\"date\")\n",
    "fred.disconnect()"
   ]
  },
  {
   "cell_type": "code",
   "execution_count": 5,
   "id": "f4ea8cad-467e-44f4-9a57-500dd57a7d09",
   "metadata": {},
   "outputs": [],
   "source": [
    "unneeded_columns = [\"ticker\",\"year\",\"quarter\",\"gsector\",\"gicdesc\",\"y\"]"
   ]
  },
  {
   "cell_type": "code",
   "execution_count": 6,
   "id": "91385ace-f70c-4b9d-8ee2-e5f58c67ed3c",
   "metadata": {
    "scrolled": true
   },
   "outputs": [
    {
     "name": "stderr",
     "output_type": "stream",
     "text": [
      "  4%|████████▎                                                                                                                                                                                               | 21/503 [00:02<00:43, 11.15it/s]"
     ]
    },
    {
     "name": "stdout",
     "output_type": "stream",
     "text": [
      "GOOGL 'date'\n"
     ]
    },
    {
     "name": "stderr",
     "output_type": "stream",
     "text": [
      " 11%|█████████████████████                                                                                                                                                                                   | 53/503 [00:06<00:51,  8.67it/s]"
     ]
    },
    {
     "name": "stdout",
     "output_type": "stream",
     "text": [
      "AVB 'date'\n"
     ]
    },
    {
     "name": "stderr",
     "output_type": "stream",
     "text": [
      " 13%|█████████████████████████                                                                                                                                                                               | 63/503 [00:07<00:42, 10.27it/s]"
     ]
    },
    {
     "name": "stdout",
     "output_type": "stream",
     "text": [
      "BRK.B 'date'\n"
     ]
    },
    {
     "name": "stderr",
     "output_type": "stream",
     "text": [
      " 16%|███████████████████████████████                                                                                                                                                                         | 78/503 [00:08<00:38, 11.14it/s]"
     ]
    },
    {
     "name": "stdout",
     "output_type": "stream",
     "text": [
      "BF.B 'date'\n"
     ]
    },
    {
     "name": "stderr",
     "output_type": "stream",
     "text": [
      " 16%|███████████████████████████████▊                                                                                                                                                                        | 80/503 [00:08<00:39, 10.74it/s]"
     ]
    },
    {
     "name": "stdout",
     "output_type": "stream",
     "text": [
      "BXP 'date'\n"
     ]
    },
    {
     "name": "stderr",
     "output_type": "stream",
     "text": [
      " 18%|███████████████████████████████████▍                                                                                                                                                                    | 89/503 [00:09<00:40, 10.27it/s]"
     ]
    },
    {
     "name": "stdout",
     "output_type": "stream",
     "text": [
      "CCL 'date'\n"
     ]
    },
    {
     "name": "stderr",
     "output_type": "stream",
     "text": [
      " 26%|███████████████████████████████████████████████████▍                                                                                                                                                   | 130/503 [00:14<00:36, 10.30it/s]"
     ]
    },
    {
     "name": "stdout",
     "output_type": "stream",
     "text": [
      "CPAY 'date'\n"
     ]
    },
    {
     "name": "stderr",
     "output_type": "stream",
     "text": [
      " 28%|████████████████████████████████████████████████████████▏                                                                                                                                              | 142/503 [00:15<00:40,  8.97it/s]"
     ]
    },
    {
     "name": "stdout",
     "output_type": "stream",
     "text": [
      "DAY 'date'\n"
     ]
    },
    {
     "name": "stderr",
     "output_type": "stream",
     "text": [
      " 29%|█████████████████████████████████████████████████████████▎                                                                                                                                             | 145/503 [00:16<00:32, 11.07it/s]"
     ]
    },
    {
     "name": "stdout",
     "output_type": "stream",
     "text": [
      "DELL 'date'\n"
     ]
    },
    {
     "name": "stderr",
     "output_type": "stream",
     "text": [
      " 30%|███████████████████████████████████████████████████████████▋                                                                                                                                           | 151/503 [00:16<00:30, 11.42it/s]"
     ]
    },
    {
     "name": "stdout",
     "output_type": "stream",
     "text": [
      "DLR 'date'\n"
     ]
    },
    {
     "name": "stderr",
     "output_type": "stream",
     "text": [
      " 36%|██████████████████████████████████████████████████████████████████████▊                                                                                                                                | 179/503 [00:19<00:27, 11.93it/s]"
     ]
    },
    {
     "name": "stdout",
     "output_type": "stream",
     "text": [
      "EQR 'date'\n",
      "ERIE 'date'\n",
      "ESS 'date'\n"
     ]
    },
    {
     "name": "stderr",
     "output_type": "stream",
     "text": [
      " 36%|███████████████████████████████████████████████████████████████████████▌                                                                                                                               | 181/503 [00:20<00:28, 11.23it/s]"
     ]
    },
    {
     "name": "stdout",
     "output_type": "stream",
     "text": [
      "EG 'date'\n"
     ]
    },
    {
     "name": "stderr",
     "output_type": "stream",
     "text": [
      " 39%|████████████████████████████████████████████████████████████████████████████▊                                                                                                                          | 194/503 [00:21<00:39,  7.90it/s]"
     ]
    },
    {
     "name": "stdout",
     "output_type": "stream",
     "text": [
      "FRT 'date'\n"
     ]
    },
    {
     "name": "stderr",
     "output_type": "stream",
     "text": [
      " 42%|████████████████████████████████████████████████████████████████████████████████████▎                                                                                                                  | 213/503 [00:23<00:25, 11.34it/s]"
     ]
    },
    {
     "name": "stdout",
     "output_type": "stream",
     "text": [
      "GEV 'date'\n"
     ]
    },
    {
     "name": "stderr",
     "output_type": "stream",
     "text": [
      " 52%|███████████████████████████████████████████████████████████████████████████████████████████████████████▋                                                                                               | 262/503 [00:28<00:21, 11.02it/s]"
     ]
    },
    {
     "name": "stdout",
     "output_type": "stream",
     "text": [
      "IVZ 'date'\n",
      "INVH 'date'\n"
     ]
    },
    {
     "name": "stderr",
     "output_type": "stream",
     "text": [
      " 53%|██████████████████████████████████████████████████████████████████████████████████████████████████████████▍                                                                                            | 269/503 [00:29<00:27,  8.59it/s]"
     ]
    },
    {
     "name": "stdout",
     "output_type": "stream",
     "text": [
      "JCI 'date'\n"
     ]
    },
    {
     "name": "stderr",
     "output_type": "stream",
     "text": [
      " 55%|██████████████████████████████████████████████████████████████████████████████████████████████████████████████▍                                                                                        | 279/503 [00:30<00:22, 10.05it/s]"
     ]
    },
    {
     "name": "stdout",
     "output_type": "stream",
     "text": [
      "KIM 'date'\n"
     ]
    },
    {
     "name": "stderr",
     "output_type": "stream",
     "text": [
      " 59%|█████████████████████████████████████████████████████████████████████████████████████████████████████████████████████▉                                                                                 | 298/503 [00:32<00:20,  9.93it/s]"
     ]
    },
    {
     "name": "stdout",
     "output_type": "stream",
     "text": [
      "LYB 'date'\n"
     ]
    },
    {
     "name": "stderr",
     "output_type": "stream",
     "text": [
      " 64%|███████████████████████████████████████████████████████████████████████████████████████████████████████████████████████████████▍                                                                       | 322/503 [00:35<00:17, 10.36it/s]"
     ]
    },
    {
     "name": "stdout",
     "output_type": "stream",
     "text": [
      "MAA 'date'\n"
     ]
    },
    {
     "name": "stderr",
     "output_type": "stream",
     "text": [
      " 69%|█████████████████████████████████████████████████████████████████████████████████████████████████████████████████████████████████████████▋                                                             | 348/503 [00:38<00:16,  9.68it/s]"
     ]
    },
    {
     "name": "stdout",
     "output_type": "stream",
     "text": [
      "NCLH 'date'\n"
     ]
    },
    {
     "name": "stderr",
     "output_type": "stream",
     "text": [
      " 70%|███████████████████████████████████████████████████████████████████████████████████████████████████████████████████████████████████████████▋                                                           | 353/503 [00:39<00:16,  9.10it/s]"
     ]
    },
    {
     "name": "stdout",
     "output_type": "stream",
     "text": [
      "NXPI 'date'\n"
     ]
    },
    {
     "name": "stderr",
     "output_type": "stream",
     "text": [
      " 72%|███████████████████████████████████████████████████████████████████████████████████████████████████████████████████████████████████████████████▏                                                       | 362/503 [00:40<00:15,  9.33it/s]"
     ]
    },
    {
     "name": "stdout",
     "output_type": "stream",
     "text": [
      "PLTR 'date'\n"
     ]
    },
    {
     "name": "stderr",
     "output_type": "stream",
     "text": [
      " 79%|█████████████████████████████████████████████████████████████████████████████████████████████████████████████████████████████████████████████████████████████▊                                         | 399/503 [00:44<00:11,  9.05it/s]"
     ]
    },
    {
     "name": "stdout",
     "output_type": "stream",
     "text": [
      "REG 'date'\n"
     ]
    },
    {
     "name": "stderr",
     "output_type": "stream",
     "text": [
      " 82%|██████████████████████████████████████████████████████████████████████████████████████████████████████████████████████████████████████████████████████████████████▏                                    | 410/503 [00:45<00:10,  9.04it/s]"
     ]
    },
    {
     "name": "stdout",
     "output_type": "stream",
     "text": [
      "RCL 'date'\n"
     ]
    },
    {
     "name": "stderr",
     "output_type": "stream",
     "text": [
      " 82%|███████████████████████████████████████████████████████████████████████████████████████████████████████████████████████████████████████████████████████████████████▍                                   | 413/503 [00:46<00:09,  9.73it/s]"
     ]
    },
    {
     "name": "stdout",
     "output_type": "stream",
     "text": [
      "SLB 'date'\n"
     ]
    },
    {
     "name": "stderr",
     "output_type": "stream",
     "text": [
      " 91%|█████████████████████████████████████████████████████████████████████████████████████████████████████████████████████████████████████████████████████████████████████████████████████▉                 | 460/503 [00:51<00:04,  9.96it/s]"
     ]
    },
    {
     "name": "stdout",
     "output_type": "stream",
     "text": [
      "UDR 'date'\n"
     ]
    },
    {
     "name": "stderr",
     "output_type": "stream",
     "text": [
      " 94%|██████████████████████████████████████████████████████████████████████████████████████████████████████████████████████████████████████████████████████████████████████████████████████████▎            | 471/503 [00:52<00:03,  9.58it/s]"
     ]
    },
    {
     "name": "stdout",
     "output_type": "stream",
     "text": [
      "VLTO 'date'\n"
     ]
    },
    {
     "name": "stderr",
     "output_type": "stream",
     "text": [
      " 95%|████████████████████████████████████████████████████████████████████████████████████████████████████████████████████████████████████████████████████████████████████████████████████████████▋          | 477/503 [00:53<00:02, 12.51it/s]"
     ]
    },
    {
     "name": "stdout",
     "output_type": "stream",
     "text": [
      "VICI 'date'\n"
     ]
    },
    {
     "name": "stderr",
     "output_type": "stream",
     "text": [
      "100%|███████████████████████████████████████████████████████████████████████████████████████████████████████████████████████████████████████████████████████████████████████████████████████████████████████| 503/503 [00:56<00:00,  8.93it/s]"
     ]
    },
    {
     "name": "stdout",
     "output_type": "stream",
     "text": [
      "ZTS 'date'\n"
     ]
    },
    {
     "name": "stderr",
     "output_type": "stream",
     "text": [
      "\n"
     ]
    }
   ],
   "source": [
    "market.connect()\n",
    "sec.connect()\n",
    "factors_df = []\n",
    "for ticker in tqdm(sp500[\"ticker\"].unique()):\n",
    "    try:\n",
    "        price = processor.column_date_processing(market.query(\"prices\",{\"ticker\":ticker}))\n",
    "        price[\"year\"] = [x.year for x in price[\"date\"]]\n",
    "        price[\"quarter\"] = [x.quarter for x in price[\"date\"]]\n",
    "        filings = processor.column_date_processing(sec.query(\"financials\",{\"ticker\":ticker})).drop([\"gsector\",\"gicdesc\"],axis=1)\n",
    "        filings[\"year\"] = [x.year for x in filings[\"date\"]]\n",
    "        filings[\"quarter\"] = [x.quarter for x in filings[\"date\"]]\n",
    "        filings[\"quarter\"] = filings[\"quarter\"].shift(1)\n",
    "        price = price.drop([\"date\",\"ticker\"],axis=1).merge(filings.drop([\"date\",\"ticker\"],axis=1),on=[\"year\",\"quarter\"],how=\"left\").groupby([\"year\",\"quarter\"]).mean().reset_index()\n",
    "        price[\"ticker\"] = ticker\n",
    "        price[\"y\"] = price[\"adjclose\"].shift(-4)\n",
    "        factors_df.append(price)\n",
    "    except Exception as e:\n",
    "        print(ticker,str(e))\n",
    "        continue\n",
    "sec.disconnect()\n",
    "market.disconnect()"
   ]
  },
  {
   "cell_type": "code",
   "execution_count": 7,
   "id": "20232945-482a-466e-9beb-22417e8f3490",
   "metadata": {},
   "outputs": [],
   "source": [
    "factors_df = pd.concat(factors_df)"
   ]
  },
  {
   "cell_type": "code",
   "execution_count": 8,
   "id": "86a1c8e8-8e20-4438-9c74-038a9bc907a1",
   "metadata": {},
   "outputs": [],
   "source": [
    "for column in factors_df:\n",
    "    if column in factors_df[column]:\n",
    "        factors_df.drop(column,axis=1,inplace=True)"
   ]
  },
  {
   "cell_type": "code",
   "execution_count": 9,
   "id": "db4debcc-1f19-4c68-9d94-51317a62d68e",
   "metadata": {},
   "outputs": [],
   "source": [
    "factors_df = factors_df.fillna(0)"
   ]
  },
  {
   "cell_type": "code",
   "execution_count": 10,
   "id": "2c85bf4a-8add-4870-a2eb-beed6d0b79a6",
   "metadata": {},
   "outputs": [],
   "source": [
    "start_year = 2015\n",
    "end_year = 2022\n",
    "sim_end_year = 2025"
   ]
  },
  {
   "cell_type": "code",
   "execution_count": 11,
   "id": "01e9afd6-ec9f-4977-9ed7-99c0c7d05db1",
   "metadata": {},
   "outputs": [],
   "source": [
    "model = XGBRegressor()\n",
    "factors = [\"ptb\",\"roa\",\"mktcap\",\"bm\",\"short_debt\",\"volume\",\"divyield\",\"adjclose\"]\n",
    "factors_df.sort_values([\"year\",\"quarter\"],inplace=True)\n",
    "training_data = factors_df[(factors_df[\"year\"]>start_year) & (factors_df[\"year\"]<end_year)].dropna()\n",
    "sim = factors_df[(factors_df[\"year\"]>=end_year) & (factors_df[\"year\"]<sim_end_year)].drop(\"y\",axis=1).dropna()\n",
    "model.fit(training_data[factors],training_data[\"y\"])\n",
    "sim[\"prediction\"] = model.predict(sim[factors])"
   ]
  },
  {
   "cell_type": "code",
   "execution_count": 12,
   "id": "774135ee-3814-46ab-8508-e056b2ceb96b",
   "metadata": {
    "scrolled": true
   },
   "outputs": [
    {
     "name": "stderr",
     "output_type": "stream",
     "text": [
      " 13%|█████████████████████████▍                                                                                                                                                                              | 64/503 [00:06<00:39, 11.07it/s]"
     ]
    },
    {
     "name": "stdout",
     "output_type": "stream",
     "text": [
      "BRK.B 'date'\n"
     ]
    },
    {
     "name": "stderr",
     "output_type": "stream",
     "text": [
      " 16%|███████████████████████████████                                                                                                                                                                         | 78/503 [00:07<00:34, 12.18it/s]"
     ]
    },
    {
     "name": "stdout",
     "output_type": "stream",
     "text": [
      "BF.B 'date'\n"
     ]
    },
    {
     "name": "stderr",
     "output_type": "stream",
     "text": [
      " 29%|█████████████████████████████████████████████████████████▊                                                                                                                                             | 146/503 [00:13<00:29, 12.07it/s]"
     ]
    },
    {
     "name": "stdout",
     "output_type": "stream",
     "text": [
      "DELL 'date'\n"
     ]
    },
    {
     "name": "stderr",
     "output_type": "stream",
     "text": [
      " 35%|██████████████████████████████████████████████████████████████████████▍                                                                                                                                | 178/503 [00:16<00:26, 12.41it/s]"
     ]
    },
    {
     "name": "stdout",
     "output_type": "stream",
     "text": [
      "ERIE 'date'\n"
     ]
    },
    {
     "name": "stderr",
     "output_type": "stream",
     "text": [
      " 73%|████████████████████████████████████████████████████████████████████████████████████████████████████████████████████████████████████████████████▍                                                      | 365/503 [00:33<00:10, 13.66it/s]"
     ]
    },
    {
     "name": "stdout",
     "output_type": "stream",
     "text": [
      "PLTR 'date'\n"
     ]
    },
    {
     "name": "stderr",
     "output_type": "stream",
     "text": [
      "100%|███████████████████████████████████████████████████████████████████████████████████████████████████████████████████████████████████████████████████████████████████████████████████████████████████████| 503/503 [00:47<00:00, 10.67it/s]"
     ]
    },
    {
     "name": "stdout",
     "output_type": "stream",
     "text": [
      "ZTS 'date'\n"
     ]
    },
    {
     "name": "stderr",
     "output_type": "stream",
     "text": [
      "\n"
     ]
    }
   ],
   "source": [
    "prices = []\n",
    "market.connect()\n",
    "db.cloud_connect()\n",
    "for ticker in tqdm(sp500[\"ticker\"].unique()):\n",
    "    try:\n",
    "        price = processor.column_date_processing(market.query(\"prices\",{\"ticker\":ticker}))\n",
    "        price[\"year\"] = [x.year for x in price[\"date\"]]\n",
    "        price[\"quarter\"] = [x.quarter for x in price[\"date\"]]\n",
    "        price.sort_values(\"date\",inplace=True)\n",
    "        price = price.merge(sim[[\"year\",\"quarter\",\"ticker\",\"prediction\"]],on=[\"year\",\"quarter\",\"ticker\"],how=\"left\")\n",
    "        price = price.merge(spy[[\"date\",\"spy\"]],on=\"date\",how=\"left\")\n",
    "        price = price.merge(market_yield[[\"date\",\"rf\"]],on=\"date\",how=\"left\")\n",
    "        price = price.merge(sp500[[\"ticker\",\"GICS Sector\"]],on=\"ticker\",how=\"left\")\n",
    "        price[\"expected_return\"] = (price[\"prediction\"] - price[\"adjclose\"]) / price[\"adjclose\"]\n",
    "        price[\"historical_return\"] = price[\"adjclose\"].pct_change(90)\n",
    "        price[\"factor_return\"] = price[\"spy\"].pct_change(90)\n",
    "        price[\"cov\"] = price[\"factor_return\"].rolling(100).cov(price[\"expected_return\"])\n",
    "        price[\"var\"] = price[\"factor_return\"].rolling(100).var()\n",
    "        price[\"beta\"] = price[\"cov\"] / price[\"var\"]\n",
    "        price[\"excess_return\"] = price[\"rf\"] + price[\"beta\"] * (price[\"expected_return\"] - price[\"rf\"])\n",
    "        price[\"sigma\"] = price[\"adjclose\"].rolling(262).std()\n",
    "        prices.append(price)\n",
    "    except Exception as e:\n",
    "        print(ticker,str(e))\n",
    "        continue\n",
    "market.disconnect()\n",
    "db.disconnect()"
   ]
  },
  {
   "cell_type": "code",
   "execution_count": 13,
   "id": "593de38c-0f3d-4903-8a18-ffe7c89d7b3e",
   "metadata": {},
   "outputs": [],
   "source": [
    "sim = pd.concat(prices).fillna(0)\n",
    "sim[\"quarter\"] = [x.quarter for x in sim[\"date\"]]\n",
    "sim = sim[(sim[\"date\"]<datetime(sim_end_year,1,1)) & (sim[\"date\"]>datetime(end_year,1,1))]"
   ]
  },
  {
   "cell_type": "code",
   "execution_count": 14,
   "id": "562506f8-95aa-42d7-9e64-5b5a0fdb3b51",
   "metadata": {},
   "outputs": [],
   "source": [
    "# Initialize variables\n",
    "structure = {\"stock\":0.5,\"bond\":0.4,\"option\":0.1}\n",
    "start = sim[\"date\"].min()\n",
    "end = sim[\"date\"].max()\n",
    "date = start\n",
    "number_of_stocks = 1\n",
    "portfolio = {\n",
    "    \"date\": date,\n",
    "    \"tax\": 0,\n",
    "    \"fees\": 0,\n",
    "    \"cash\": 100000,\n",
    "    \"positions\": [\n",
    "        {\n",
    "            \n",
    "            \"stocks\": [{\"ticker\": \"\", \"adjclose\": 0, \"quantity\": 0} for _ in range(number_of_stocks)],\n",
    "            \"bonds\": [{\"ticker\": \"\", \"adjclose\": 0, \"quantity\": 0} for _ in range(number_of_stocks)],\n",
    "            \"options\": [{\"ticker\": \"\", \"adjclose\": 0, \"quantity\": 0} for _ in range(number_of_stocks)]\n",
    "        }\n",
    "        for _ in sp500[\"GICS Sector\"].unique()\n",
    "    ]\n",
    "}\n",
    "states = []\n",
    "trades = []\n",
    "annual_balance = 100000\n",
    "prev_quarter = 0\n",
    "quarter = 1\n",
    "for date in sim.sort_values(\"date\")[\"date\"].unique():\n",
    "    today = sim[sim[\"date\"] == date].copy()\n",
    "    prev_quarter = quarter\n",
    "    quarter = date.quarter\n",
    "    if today.index.size > 0:\n",
    "        try:\n",
    "            portfolio = copy.deepcopy(portfolio)\n",
    "            cash = portfolio[\"cash\"]\n",
    "            portfolio[\"date\"] = date\n",
    "            positions = copy.deepcopy(portfolio[\"positions\"])\n",
    "            for i in range(11):\n",
    "                position = positions[i]\n",
    "                sector = list(sp500[\"GICS Sector\"].unique())[i]\n",
    "                stocks = copy.deepcopy(position[\"stocks\"])\n",
    "                options = copy.deepcopy(position[\"options\"])\n",
    "                bonds = copy.deepcopy(position[\"bonds\"])\n",
    "                for j in range(number_of_stocks):\n",
    "                    stock = stocks[j]\n",
    "                    bond = bonds[j]\n",
    "                    option = options[j]\n",
    "                    ticker = stock[\"ticker\"]\n",
    "                    if ticker != \"\":\n",
    "                        row = today[today[\"ticker\"] == ticker].iloc[0]\n",
    "                        stock = Stock.update(row, stock)\n",
    "                        position[\"stocks\"][j] = stock\n",
    "                        bond = Bond.update(row, bond)\n",
    "                        position[\"bonds\"][j] = bond\n",
    "                        option = Option.update(row, option)\n",
    "                        position[\"options\"][j] = option\n",
    "                positions[i] = position\n",
    "            portfolio[\"positions\"] = positions\n",
    "            \n",
    "            cash = portfolio[\"cash\"]\n",
    "            positions = copy.deepcopy(portfolio[\"positions\"])\n",
    "            \n",
    "            for i in range(11):\n",
    "                position = positions[i]\n",
    "                sector = list(sp500[\"GICS Sector\"].unique())[i]\n",
    "                stocks = copy.deepcopy(position[\"stocks\"])\n",
    "                options = copy.deepcopy(position[\"options\"])\n",
    "                bonds = copy.deepcopy(position[\"bonds\"])\n",
    "                for j in range(number_of_stocks):\n",
    "                    stock = stocks[j]\n",
    "                    bond = bonds[j]\n",
    "                    option = options[j]\n",
    "                    ticker = stock[\"ticker\"]\n",
    "                    if ticker != \"\":\n",
    "                        notional = stock[\"pv\"] + option[\"pv\"] + bond[\"pv\"]\n",
    "                        hpr = int((date - stock[\"buy_date\"]).days)\n",
    "                        opportunity_row = today[today[\"GICS Sector\"] == sector].sort_values(\"expected_return\", ascending=False).iloc[j]\n",
    "                        opportunity_ticker = opportunity_row[\"ticker\"]\n",
    "                        if (hpr > 90):\n",
    "                            row = today[today[\"ticker\"] == ticker].iloc[0]\n",
    "                            stock = Stock.sell(row, stock)\n",
    "                            position[\"stocks\"][j] = stock\n",
    "                            trades.append(stock)\n",
    "                            stock = Stock.buy(opportunity_row, stock, notional * structure[\"stock\"])\n",
    "                            stock[\"sector\"] = sector\n",
    "                            position[\"stocks\"][j] = stock\n",
    "                            option = Option.sell(row, option)\n",
    "                            position[\"options\"][j] = option\n",
    "                            trades.append(option)\n",
    "                            option = Option.buy(opportunity_row, option, notional * structure[\"option\"])\n",
    "                            option[\"sector\"] = sector\n",
    "                            position[\"options\"][j] = option\n",
    "                            bond = Bond.sell(row, bond)\n",
    "                            position[\"bonds\"][j] = bond\n",
    "                            trades.append(bond)\n",
    "                            bond = Bond.buy(opportunity_row, bond, notional * structure[\"bond\"])\n",
    "                            bond[\"sector\"] = sector\n",
    "                            position[\"bonds\"][j] = bond\n",
    "                            positions[i] = position\n",
    "                portfolio[\"positions\"] = positions\n",
    "            if date == sim[\"date\"].min():\n",
    "                for i in range(11):\n",
    "                    notional = float(cash / 11 / number_of_stocks)\n",
    "                    position = positions[i]\n",
    "                    sector = list(sp500[\"GICS Sector\"].unique())[i]\n",
    "                    stocks = copy.deepcopy(position[\"stocks\"])\n",
    "                    for j in range(number_of_stocks):\n",
    "                        stock = stocks[j]\n",
    "                        row = today[today[\"GICS Sector\"] == sector].sort_values(\"expected_return\", ascending=False).iloc[j]\n",
    "                        stock = Stock.buy(row, stock, notional * structure[\"stock\"])\n",
    "                        stock[\"sector\"] = sector\n",
    "                        position[\"stocks\"][j] = stock\n",
    "                        option = Option.buy(row, option, notional * structure[\"option\"])\n",
    "                        option[\"sector\"] = sector\n",
    "                        position[\"options\"][j] = option\n",
    "                        bond = Bond.buy(row, bond, notional * structure[\"bond\"])\n",
    "                        bond[\"sector\"] = sector\n",
    "                        position[\"bonds\"][j] = bond\n",
    "                    positions[i] = position\n",
    "                portfolio[\"positions\"] = positions\n",
    "                portfolio[\"cash\"] = 0\n",
    "            states.append(copy.deepcopy(portfolio))\n",
    "        except Exception as e:\n",
    "            print(f\"Error on date {date}: {str(e)}\")\n",
    "            continue"
   ]
  },
  {
   "cell_type": "code",
   "execution_count": 15,
   "id": "cfc6ed29-c209-40dc-80c9-789f49aed13a",
   "metadata": {},
   "outputs": [],
   "source": [
    "portfolios = []\n",
    "for state in states:\n",
    "    for i in range(11):\n",
    "        for j in range(number_of_stocks):\n",
    "            for asset_class in [\"stocks\",\"bonds\",\"options\"]:\n",
    "                view = state[\"positions\"][i][asset_class][j]\n",
    "                view[\"date\"] = state[\"date\"]\n",
    "                view[\"asset_class\"] = asset_class\n",
    "            portfolios.append(state[\"positions\"][i][\"stocks\"][j])\n",
    "            portfolios.append(state[\"positions\"][i][\"options\"][j])\n",
    "            portfolios.append(state[\"positions\"][i][\"bonds\"][j])"
   ]
  },
  {
   "cell_type": "code",
   "execution_count": 16,
   "id": "c830c9b7-f2ac-44db-a0ed-1a1eefb450a7",
   "metadata": {},
   "outputs": [],
   "source": [
    "performance = pd.DataFrame(portfolios).pivot_table(index=[\"date\",\"sector\"],columns=\"asset_class\",values=\"pv\").reset_index().sort_values(\"date\")\n",
    "performance = performance.groupby([\"date\",\"sector\"]).agg({\"stocks\":\"sum\",\"bonds\":\"sum\",\"options\":\"sum\"}).reset_index()\n",
    "# performance[\"stock_return\"] = (performance[\"pv\"] - performance[\"pv\"].iloc[0]) / performance[\"pv\"].iloc[0]"
   ]
  },
  {
   "cell_type": "code",
   "execution_count": 17,
   "id": "f058104b-3b9c-4efd-8a53-3a2bd461454e",
   "metadata": {},
   "outputs": [
    {
     "data": {
      "text/html": [
       "<div>\n",
       "<style scoped>\n",
       "    .dataframe tbody tr th:only-of-type {\n",
       "        vertical-align: middle;\n",
       "    }\n",
       "\n",
       "    .dataframe tbody tr th {\n",
       "        vertical-align: top;\n",
       "    }\n",
       "\n",
       "    .dataframe thead th {\n",
       "        text-align: right;\n",
       "    }\n",
       "</style>\n",
       "<table border=\"1\" class=\"dataframe\">\n",
       "  <thead>\n",
       "    <tr style=\"text-align: right;\">\n",
       "      <th>asset_class</th>\n",
       "      <th>date</th>\n",
       "      <th>sector</th>\n",
       "      <th>stocks</th>\n",
       "      <th>bonds</th>\n",
       "      <th>options</th>\n",
       "    </tr>\n",
       "  </thead>\n",
       "  <tbody>\n",
       "    <tr>\n",
       "      <th>0</th>\n",
       "      <td>2022-01-03</td>\n",
       "      <td>Communication Services</td>\n",
       "      <td>4545.454545</td>\n",
       "      <td>3636.363636</td>\n",
       "      <td>909.090909</td>\n",
       "    </tr>\n",
       "    <tr>\n",
       "      <th>1</th>\n",
       "      <td>2022-01-03</td>\n",
       "      <td>Consumer Discretionary</td>\n",
       "      <td>4545.454545</td>\n",
       "      <td>3636.363636</td>\n",
       "      <td>909.090909</td>\n",
       "    </tr>\n",
       "    <tr>\n",
       "      <th>2</th>\n",
       "      <td>2022-01-03</td>\n",
       "      <td>Consumer Staples</td>\n",
       "      <td>4545.454545</td>\n",
       "      <td>3636.363636</td>\n",
       "      <td>909.090909</td>\n",
       "    </tr>\n",
       "    <tr>\n",
       "      <th>3</th>\n",
       "      <td>2022-01-03</td>\n",
       "      <td>Energy</td>\n",
       "      <td>4545.454545</td>\n",
       "      <td>3636.363636</td>\n",
       "      <td>909.090909</td>\n",
       "    </tr>\n",
       "    <tr>\n",
       "      <th>4</th>\n",
       "      <td>2022-01-03</td>\n",
       "      <td>Financials</td>\n",
       "      <td>4545.454545</td>\n",
       "      <td>3636.363636</td>\n",
       "      <td>909.090909</td>\n",
       "    </tr>\n",
       "    <tr>\n",
       "      <th>...</th>\n",
       "      <td>...</td>\n",
       "      <td>...</td>\n",
       "      <td>...</td>\n",
       "      <td>...</td>\n",
       "      <td>...</td>\n",
       "    </tr>\n",
       "    <tr>\n",
       "      <th>7508</th>\n",
       "      <td>2024-09-20</td>\n",
       "      <td>Industrials</td>\n",
       "      <td>12929.359728</td>\n",
       "      <td>11601.846796</td>\n",
       "      <td>2032.240972</td>\n",
       "    </tr>\n",
       "    <tr>\n",
       "      <th>7509</th>\n",
       "      <td>2024-09-20</td>\n",
       "      <td>Information Technology</td>\n",
       "      <td>58706.364628</td>\n",
       "      <td>56200.351337</td>\n",
       "      <td>9844.351389</td>\n",
       "    </tr>\n",
       "    <tr>\n",
       "      <th>7510</th>\n",
       "      <td>2024-09-20</td>\n",
       "      <td>Materials</td>\n",
       "      <td>11228.214450</td>\n",
       "      <td>11188.428514</td>\n",
       "      <td>1965.950229</td>\n",
       "    </tr>\n",
       "    <tr>\n",
       "      <th>7511</th>\n",
       "      <td>2024-09-20</td>\n",
       "      <td>Real Estate</td>\n",
       "      <td>7490.434265</td>\n",
       "      <td>7264.675552</td>\n",
       "      <td>1272.519071</td>\n",
       "    </tr>\n",
       "    <tr>\n",
       "      <th>7512</th>\n",
       "      <td>2024-09-20</td>\n",
       "      <td>Utilities</td>\n",
       "      <td>7671.885713</td>\n",
       "      <td>7511.963728</td>\n",
       "      <td>1315.835378</td>\n",
       "    </tr>\n",
       "  </tbody>\n",
       "</table>\n",
       "<p>7513 rows × 5 columns</p>\n",
       "</div>"
      ],
      "text/plain": [
       "asset_class       date                  sector        stocks         bonds  \\\n",
       "0           2022-01-03  Communication Services   4545.454545   3636.363636   \n",
       "1           2022-01-03  Consumer Discretionary   4545.454545   3636.363636   \n",
       "2           2022-01-03        Consumer Staples   4545.454545   3636.363636   \n",
       "3           2022-01-03                  Energy   4545.454545   3636.363636   \n",
       "4           2022-01-03              Financials   4545.454545   3636.363636   \n",
       "...                ...                     ...           ...           ...   \n",
       "7508        2024-09-20             Industrials  12929.359728  11601.846796   \n",
       "7509        2024-09-20  Information Technology  58706.364628  56200.351337   \n",
       "7510        2024-09-20               Materials  11228.214450  11188.428514   \n",
       "7511        2024-09-20             Real Estate   7490.434265   7264.675552   \n",
       "7512        2024-09-20               Utilities   7671.885713   7511.963728   \n",
       "\n",
       "asset_class      options  \n",
       "0             909.090909  \n",
       "1             909.090909  \n",
       "2             909.090909  \n",
       "3             909.090909  \n",
       "4             909.090909  \n",
       "...                  ...  \n",
       "7508         2032.240972  \n",
       "7509         9844.351389  \n",
       "7510         1965.950229  \n",
       "7511         1272.519071  \n",
       "7512         1315.835378  \n",
       "\n",
       "[7513 rows x 5 columns]"
      ]
     },
     "execution_count": 17,
     "metadata": {},
     "output_type": "execute_result"
    }
   ],
   "source": [
    "performance"
   ]
  },
  {
   "cell_type": "code",
   "execution_count": 18,
   "id": "e9fafec9-a71f-40db-90a1-9aaef3149e90",
   "metadata": {},
   "outputs": [
    {
     "data": {
      "image/png": "[encoded data removed]",
      "text/plain": [
       "<Figure size 1000x600 with 1 Axes>"
      ]
     },
     "metadata": {},
     "output_type": "display_data"
    }
   ],
   "source": [
    "plt.figure(figsize=(10, 6))  \n",
    "for sector in performance[\"sector\"].unique():\n",
    "    sector_perf = performance[performance[\"sector\"]==sector]\n",
    "    plt.plot(sector_perf[\"date\"].values,sector_perf[\"stocks\"].values)\n",
    "    # plt.legend(performance[\"sector\"].unique())\n",
    "plt.show()"
   ]
  },
  {
   "cell_type": "code",
   "execution_count": 19,
   "id": "2e84c5d3-0b09-42ef-aa7f-ede7939ede72",
   "metadata": {},
   "outputs": [
    {
     "data": {
      "image/png": "[encoded data removed]",
      "text/plain": [
       "<Figure size 1000x600 with 1 Axes>"
      ]
     },
     "metadata": {},
     "output_type": "display_data"
    }
   ],
   "source": [
    "performance = performance.groupby([\"date\"]).agg({\"stocks\":\"sum\",\"bonds\":\"sum\",\"options\":\"sum\"}).reset_index()\n",
    "plt.figure(figsize=(10, 6)) \n",
    "plt.plot(performance[\"date\"].values,performance[\"stocks\"].values)\n",
    "plt.plot(performance[\"date\"].values,performance[\"bonds\"].values)\n",
    "plt.plot(performance[\"date\"].values,performance[\"options\"].values)\n",
    "plt.show()"
   ]
  },
  {
   "cell_type": "code",
   "execution_count": 20,
   "id": "166410b7-e9c2-4af1-b174-56e3e32cb643",
   "metadata": {},
   "outputs": [],
   "source": [
    "visualization = performance.merge(spy,on=\"date\",how=\"left\")\n",
    "visualization = visualization.merge(market_yield[[\"date\",\"rf\"]],on=\"date\",how=\"left\")"
   ]
  },
  {
   "cell_type": "code",
   "execution_count": 21,
   "id": "0dc1caa2-97b6-46eb-9cf5-90f2215b06bd",
   "metadata": {},
   "outputs": [],
   "source": [
    "visualization[\"pv\"] = visualization[\"stocks\"] + visualization[\"bonds\"] + visualization[\"options\"]\n",
    "visualization[\"return\"] = (visualization[\"pv\"] - visualization[\"pv\"].iloc[0]) / visualization[\"pv\"].iloc[0]\n",
    "visualization[\"benchmark_return\"] = (visualization[\"spy\"] - visualization[\"spy\"].iloc[0]) / visualization[\"spy\"].iloc[0]\n",
    "visualization[\"ir_return\"] = (visualization[\"rf\"] - visualization[\"rf\"].iloc[0]) / visualization[\"rf\"].iloc[0]"
   ]
  },
  {
   "cell_type": "code",
   "execution_count": 22,
   "id": "b8b79695-e2ef-4933-aaa0-6cb12ea34557",
   "metadata": {},
   "outputs": [
    {
     "data": {
      "image/png": "[encoded data removed]",
      "text/plain": [
       "<Figure size 1000x600 with 1 Axes>"
      ]
     },
     "metadata": {},
     "output_type": "display_data"
    }
   ],
   "source": [
    "# Set the figure size\n",
    "plt.figure(figsize=(10, 6))  # Adjust the width and height as needed\n",
    "\n",
    "# Plot the data\n",
    "plt.plot(visualization[\"date\"].values, visualization[\"return\"], label=\"Return\")\n",
    "plt.plot(visualization[\"date\"].values, visualization[\"benchmark_return\"], label=\"Benchmark Return\")\n",
    "plt.plot(visualization[\"date\"].values, visualization[\"ir_return\"], label=\"IR Return\")\n",
    "\n",
    "# Add labels and legend\n",
    "plt.xlabel(\"Date\")\n",
    "plt.ylabel(\"Return\")\n",
    "plt.title(\"Return vs. Benchmark Return\")\n",
    "plt.legend()\n",
    "\n",
    "# Show the plot\n",
    "plt.show()\n"
   ]
  },
  {
   "cell_type": "code",
   "execution_count": 23,
   "id": "8b18fb83-929c-4408-af26-911baad6bef4",
   "metadata": {},
   "outputs": [
    {
     "data": {
      "text/plain": [
       "3.727755141209583"
      ]
     },
     "execution_count": 23,
     "metadata": {},
     "output_type": "execute_result"
    }
   ],
   "source": [
    "(visualization[\"return\"].iloc[-1] - visualization[\"benchmark_return\"].iloc[-1]) / visualization[\"return\"].std()"
   ]
  },
  {
   "cell_type": "code",
   "execution_count": 24,
   "id": "121aa44a-423b-4293-8862-5170fa7250cc",
   "metadata": {},
   "outputs": [],
   "source": [
    "t = pd.DataFrame(trades).merge(sp500[[\"ticker\",\"GICS Sector\"]],on=\"ticker\",how=\"left\")\n",
    "t[\"return\"] = (t[\"adjclose\"] - t[\"buy_price\"]) / t[\"buy_price\"]\n",
    "t[\"hpr\"] = t[\"sell_date\"] - t[\"buy_date\"]\n",
    "t[\"hpr\"] = [int(x.days) for x in t[\"hpr\"]]"
   ]
  },
  {
   "cell_type": "code",
   "execution_count": 25,
   "id": "893d2e19-24d5-4d58-a447-d46a689051e3",
   "metadata": {},
   "outputs": [
    {
     "data": {
      "text/html": [
       "<div>\n",
       "<style scoped>\n",
       "    .dataframe tbody tr th:only-of-type {\n",
       "        vertical-align: middle;\n",
       "    }\n",
       "\n",
       "    .dataframe tbody tr th {\n",
       "        vertical-align: top;\n",
       "    }\n",
       "\n",
       "    .dataframe thead th {\n",
       "        text-align: right;\n",
       "    }\n",
       "</style>\n",
       "<table border=\"1\" class=\"dataframe\">\n",
       "  <thead>\n",
       "    <tr style=\"text-align: right;\">\n",
       "      <th></th>\n",
       "      <th>ticker</th>\n",
       "      <th>adjclose</th>\n",
       "      <th>quantity</th>\n",
       "      <th>buy_price</th>\n",
       "      <th>buy_date</th>\n",
       "      <th>sell_date</th>\n",
       "      <th>pv</th>\n",
       "      <th>sector</th>\n",
       "      <th>strike_price</th>\n",
       "      <th>premium</th>\n",
       "      <th>contract_price</th>\n",
       "      <th>notional</th>\n",
       "      <th>return</th>\n",
       "      <th>asset_type</th>\n",
       "      <th>coupon_rate</th>\n",
       "      <th>rate</th>\n",
       "      <th>GICS Sector</th>\n",
       "      <th>hpr</th>\n",
       "    </tr>\n",
       "  </thead>\n",
       "  <tbody>\n",
       "    <tr>\n",
       "      <th>270</th>\n",
       "      <td>SMCI</td>\n",
       "      <td>1015.570000</td>\n",
       "      <td>66.632202</td>\n",
       "      <td>280.640000</td>\n",
       "      <td>2024-01-03</td>\n",
       "      <td>2024-04-03</td>\n",
       "      <td>67669.665503</td>\n",
       "      <td>Information Technology</td>\n",
       "      <td>NaN</td>\n",
       "      <td>NaN</td>\n",
       "      <td>NaN</td>\n",
       "      <td>NaN</td>\n",
       "      <td>2.618764</td>\n",
       "      <td>NaN</td>\n",
       "      <td>NaN</td>\n",
       "      <td>NaN</td>\n",
       "      <td>Information Technology</td>\n",
       "      <td>91</td>\n",
       "    </tr>\n",
       "    <tr>\n",
       "      <th>171</th>\n",
       "      <td>SMCI</td>\n",
       "      <td>255.000000</td>\n",
       "      <td>90.641037</td>\n",
       "      <td>109.460000</td>\n",
       "      <td>2023-04-04</td>\n",
       "      <td>2023-07-05</td>\n",
       "      <td>23113.464550</td>\n",
       "      <td>Information Technology</td>\n",
       "      <td>NaN</td>\n",
       "      <td>NaN</td>\n",
       "      <td>NaN</td>\n",
       "      <td>NaN</td>\n",
       "      <td>1.329618</td>\n",
       "      <td>NaN</td>\n",
       "      <td>NaN</td>\n",
       "      <td>NaN</td>\n",
       "      <td>Information Technology</td>\n",
       "      <td>92</td>\n",
       "    </tr>\n",
       "    <tr>\n",
       "      <th>72</th>\n",
       "      <td>FSLR</td>\n",
       "      <td>143.060000</td>\n",
       "      <td>62.784488</td>\n",
       "      <td>66.230000</td>\n",
       "      <td>2022-07-05</td>\n",
       "      <td>2022-10-04</td>\n",
       "      <td>8981.948824</td>\n",
       "      <td>Information Technology</td>\n",
       "      <td>NaN</td>\n",
       "      <td>NaN</td>\n",
       "      <td>NaN</td>\n",
       "      <td>NaN</td>\n",
       "      <td>1.160048</td>\n",
       "      <td>NaN</td>\n",
       "      <td>NaN</td>\n",
       "      <td>NaN</td>\n",
       "      <td>Information Technology</td>\n",
       "      <td>91</td>\n",
       "    </tr>\n",
       "    <tr>\n",
       "      <th>138</th>\n",
       "      <td>NVDA</td>\n",
       "      <td>27.438574</td>\n",
       "      <td>470.767654</td>\n",
       "      <td>14.305021</td>\n",
       "      <td>2023-01-03</td>\n",
       "      <td>2023-04-04</td>\n",
       "      <td>12917.193094</td>\n",
       "      <td>Information Technology</td>\n",
       "      <td>NaN</td>\n",
       "      <td>NaN</td>\n",
       "      <td>NaN</td>\n",
       "      <td>NaN</td>\n",
       "      <td>0.918108</td>\n",
       "      <td>NaN</td>\n",
       "      <td>NaN</td>\n",
       "      <td>NaN</td>\n",
       "      <td>Information Technology</td>\n",
       "      <td>91</td>\n",
       "    </tr>\n",
       "    <tr>\n",
       "      <th>150</th>\n",
       "      <td>TSLA</td>\n",
       "      <td>192.580000</td>\n",
       "      <td>48.344614</td>\n",
       "      <td>108.100000</td>\n",
       "      <td>2023-01-03</td>\n",
       "      <td>2023-04-04</td>\n",
       "      <td>9310.205708</td>\n",
       "      <td>Consumer Discretionary</td>\n",
       "      <td>NaN</td>\n",
       "      <td>NaN</td>\n",
       "      <td>NaN</td>\n",
       "      <td>NaN</td>\n",
       "      <td>0.781499</td>\n",
       "      <td>NaN</td>\n",
       "      <td>NaN</td>\n",
       "      <td>NaN</td>\n",
       "      <td>Consumer Discretionary</td>\n",
       "      <td>91</td>\n",
       "    </tr>\n",
       "    <tr>\n",
       "      <th>15</th>\n",
       "      <td>MOS</td>\n",
       "      <td>63.340638</td>\n",
       "      <td>119.883537</td>\n",
       "      <td>37.915586</td>\n",
       "      <td>2022-01-03</td>\n",
       "      <td>2022-04-04</td>\n",
       "      <td>7593.499793</td>\n",
       "      <td>Materials</td>\n",
       "      <td>NaN</td>\n",
       "      <td>NaN</td>\n",
       "      <td>NaN</td>\n",
       "      <td>NaN</td>\n",
       "      <td>0.670570</td>\n",
       "      <td>NaN</td>\n",
       "      <td>NaN</td>\n",
       "      <td>NaN</td>\n",
       "      <td>Materials</td>\n",
       "      <td>91</td>\n",
       "    </tr>\n",
       "    <tr>\n",
       "      <th>30</th>\n",
       "      <td>HAL</td>\n",
       "      <td>37.097398</td>\n",
       "      <td>198.755623</td>\n",
       "      <td>22.869565</td>\n",
       "      <td>2022-01-03</td>\n",
       "      <td>2022-04-04</td>\n",
       "      <td>7373.316428</td>\n",
       "      <td>Energy</td>\n",
       "      <td>NaN</td>\n",
       "      <td>NaN</td>\n",
       "      <td>NaN</td>\n",
       "      <td>NaN</td>\n",
       "      <td>0.622130</td>\n",
       "      <td>NaN</td>\n",
       "      <td>NaN</td>\n",
       "      <td>NaN</td>\n",
       "      <td>Energy</td>\n",
       "      <td>91</td>\n",
       "    </tr>\n",
       "    <tr>\n",
       "      <th>156</th>\n",
       "      <td>WBD</td>\n",
       "      <td>15.150000</td>\n",
       "      <td>445.246258</td>\n",
       "      <td>9.540000</td>\n",
       "      <td>2023-01-03</td>\n",
       "      <td>2023-04-04</td>\n",
       "      <td>6745.480807</td>\n",
       "      <td>Communication Services</td>\n",
       "      <td>NaN</td>\n",
       "      <td>NaN</td>\n",
       "      <td>NaN</td>\n",
       "      <td>NaN</td>\n",
       "      <td>0.588050</td>\n",
       "      <td>NaN</td>\n",
       "      <td>NaN</td>\n",
       "      <td>NaN</td>\n",
       "      <td>Communication Services</td>\n",
       "      <td>91</td>\n",
       "    </tr>\n",
       "    <tr>\n",
       "      <th>135</th>\n",
       "      <td>WST</td>\n",
       "      <td>346.939985</td>\n",
       "      <td>22.011801</td>\n",
       "      <td>233.457141</td>\n",
       "      <td>2023-01-03</td>\n",
       "      <td>2023-04-04</td>\n",
       "      <td>7636.773825</td>\n",
       "      <td>Health Care</td>\n",
       "      <td>NaN</td>\n",
       "      <td>NaN</td>\n",
       "      <td>NaN</td>\n",
       "      <td>NaN</td>\n",
       "      <td>0.486097</td>\n",
       "      <td>NaN</td>\n",
       "      <td>NaN</td>\n",
       "      <td>NaN</td>\n",
       "      <td>Health Care</td>\n",
       "      <td>91</td>\n",
       "    </tr>\n",
       "    <tr>\n",
       "      <th>288</th>\n",
       "      <td>META</td>\n",
       "      <td>505.763738</td>\n",
       "      <td>18.054103</td>\n",
       "      <td>343.439461</td>\n",
       "      <td>2024-01-03</td>\n",
       "      <td>2024-04-03</td>\n",
       "      <td>9131.110655</td>\n",
       "      <td>Communication Services</td>\n",
       "      <td>NaN</td>\n",
       "      <td>NaN</td>\n",
       "      <td>NaN</td>\n",
       "      <td>NaN</td>\n",
       "      <td>0.472643</td>\n",
       "      <td>NaN</td>\n",
       "      <td>NaN</td>\n",
       "      <td>NaN</td>\n",
       "      <td>Communication Services</td>\n",
       "      <td>91</td>\n",
       "    </tr>\n",
       "    <tr>\n",
       "      <th>81</th>\n",
       "      <td>ALB</td>\n",
       "      <td>277.621399</td>\n",
       "      <td>31.583110</td>\n",
       "      <td>195.810533</td>\n",
       "      <td>2022-07-05</td>\n",
       "      <td>2022-10-04</td>\n",
       "      <td>8768.147292</td>\n",
       "      <td>Materials</td>\n",
       "      <td>NaN</td>\n",
       "      <td>NaN</td>\n",
       "      <td>NaN</td>\n",
       "      <td>NaN</td>\n",
       "      <td>0.417806</td>\n",
       "      <td>NaN</td>\n",
       "      <td>NaN</td>\n",
       "      <td>NaN</td>\n",
       "      <td>Materials</td>\n",
       "      <td>91</td>\n",
       "    </tr>\n",
       "    <tr>\n",
       "      <th>240</th>\n",
       "      <td>NRG</td>\n",
       "      <td>50.708981</td>\n",
       "      <td>150.840605</td>\n",
       "      <td>36.438698</td>\n",
       "      <td>2023-10-04</td>\n",
       "      <td>2024-01-03</td>\n",
       "      <td>7648.973428</td>\n",
       "      <td>Utilities</td>\n",
       "      <td>NaN</td>\n",
       "      <td>NaN</td>\n",
       "      <td>NaN</td>\n",
       "      <td>NaN</td>\n",
       "      <td>0.391624</td>\n",
       "      <td>NaN</td>\n",
       "      <td>NaN</td>\n",
       "      <td>NaN</td>\n",
       "      <td>Utilities</td>\n",
       "      <td>91</td>\n",
       "    </tr>\n",
       "    <tr>\n",
       "      <th>165</th>\n",
       "      <td>UBER</td>\n",
       "      <td>43.660000</td>\n",
       "      <td>202.191414</td>\n",
       "      <td>31.390000</td>\n",
       "      <td>2023-04-04</td>\n",
       "      <td>2023-07-05</td>\n",
       "      <td>8827.677116</td>\n",
       "      <td>Industrials</td>\n",
       "      <td>NaN</td>\n",
       "      <td>NaN</td>\n",
       "      <td>NaN</td>\n",
       "      <td>NaN</td>\n",
       "      <td>0.390889</td>\n",
       "      <td>NaN</td>\n",
       "      <td>NaN</td>\n",
       "      <td>NaN</td>\n",
       "      <td>Industrials</td>\n",
       "      <td>92</td>\n",
       "    </tr>\n",
       "    <tr>\n",
       "      <th>144</th>\n",
       "      <td>MKTX</td>\n",
       "      <td>383.930062</td>\n",
       "      <td>16.980465</td>\n",
       "      <td>278.236269</td>\n",
       "      <td>2023-01-03</td>\n",
       "      <td>2023-04-04</td>\n",
       "      <td>6519.310902</td>\n",
       "      <td>Financials</td>\n",
       "      <td>NaN</td>\n",
       "      <td>NaN</td>\n",
       "      <td>NaN</td>\n",
       "      <td>NaN</td>\n",
       "      <td>0.379871</td>\n",
       "      <td>NaN</td>\n",
       "      <td>NaN</td>\n",
       "      <td>NaN</td>\n",
       "      <td>Financials</td>\n",
       "      <td>91</td>\n",
       "    </tr>\n",
       "    <tr>\n",
       "      <th>129</th>\n",
       "      <td>HAL</td>\n",
       "      <td>36.413217</td>\n",
       "      <td>212.653114</td>\n",
       "      <td>27.096282</td>\n",
       "      <td>2022-10-04</td>\n",
       "      <td>2023-01-03</td>\n",
       "      <td>7743.384028</td>\n",
       "      <td>Energy</td>\n",
       "      <td>NaN</td>\n",
       "      <td>NaN</td>\n",
       "      <td>NaN</td>\n",
       "      <td>NaN</td>\n",
       "      <td>0.343846</td>\n",
       "      <td>NaN</td>\n",
       "      <td>NaN</td>\n",
       "      <td>NaN</td>\n",
       "      <td>Energy</td>\n",
       "      <td>91</td>\n",
       "    </tr>\n",
       "    <tr>\n",
       "      <th>189</th>\n",
       "      <td>LYV</td>\n",
       "      <td>92.720000</td>\n",
       "      <td>80.083455</td>\n",
       "      <td>69.390000</td>\n",
       "      <td>2023-04-04</td>\n",
       "      <td>2023-07-05</td>\n",
       "      <td>7425.337966</td>\n",
       "      <td>Communication Services</td>\n",
       "      <td>NaN</td>\n",
       "      <td>NaN</td>\n",
       "      <td>NaN</td>\n",
       "      <td>NaN</td>\n",
       "      <td>0.336216</td>\n",
       "      <td>NaN</td>\n",
       "      <td>NaN</td>\n",
       "      <td>NaN</td>\n",
       "      <td>Communication Services</td>\n",
       "      <td>92</td>\n",
       "    </tr>\n",
       "    <tr>\n",
       "      <th>243</th>\n",
       "      <td>BAC</td>\n",
       "      <td>32.878256</td>\n",
       "      <td>234.212725</td>\n",
       "      <td>25.237135</td>\n",
       "      <td>2023-10-04</td>\n",
       "      <td>2024-01-03</td>\n",
       "      <td>7700.505905</td>\n",
       "      <td>Financials</td>\n",
       "      <td>NaN</td>\n",
       "      <td>NaN</td>\n",
       "      <td>NaN</td>\n",
       "      <td>NaN</td>\n",
       "      <td>0.302773</td>\n",
       "      <td>NaN</td>\n",
       "      <td>NaN</td>\n",
       "      <td>NaN</td>\n",
       "      <td>Financials</td>\n",
       "      <td>91</td>\n",
       "    </tr>\n",
       "    <tr>\n",
       "      <th>66</th>\n",
       "      <td>UBER</td>\n",
       "      <td>29.190000</td>\n",
       "      <td>208.647244</td>\n",
       "      <td>22.520000</td>\n",
       "      <td>2022-07-05</td>\n",
       "      <td>2022-10-04</td>\n",
       "      <td>6090.413055</td>\n",
       "      <td>Industrials</td>\n",
       "      <td>NaN</td>\n",
       "      <td>NaN</td>\n",
       "      <td>NaN</td>\n",
       "      <td>NaN</td>\n",
       "      <td>0.296181</td>\n",
       "      <td>NaN</td>\n",
       "      <td>NaN</td>\n",
       "      <td>NaN</td>\n",
       "      <td>Industrials</td>\n",
       "      <td>91</td>\n",
       "    </tr>\n",
       "    <tr>\n",
       "      <th>231</th>\n",
       "      <td>UBER</td>\n",
       "      <td>58.250000</td>\n",
       "      <td>157.804760</td>\n",
       "      <td>44.940000</td>\n",
       "      <td>2023-10-04</td>\n",
       "      <td>2024-01-03</td>\n",
       "      <td>9192.127282</td>\n",
       "      <td>Industrials</td>\n",
       "      <td>NaN</td>\n",
       "      <td>NaN</td>\n",
       "      <td>NaN</td>\n",
       "      <td>NaN</td>\n",
       "      <td>0.296173</td>\n",
       "      <td>NaN</td>\n",
       "      <td>NaN</td>\n",
       "      <td>NaN</td>\n",
       "      <td>Industrials</td>\n",
       "      <td>91</td>\n",
       "    </tr>\n",
       "    <tr>\n",
       "      <th>303</th>\n",
       "      <td>MPWR</td>\n",
       "      <td>839.220000</td>\n",
       "      <td>66.155034</td>\n",
       "      <td>648.852917</td>\n",
       "      <td>2024-04-03</td>\n",
       "      <td>2024-07-03</td>\n",
       "      <td>55518.627324</td>\n",
       "      <td>Information Technology</td>\n",
       "      <td>NaN</td>\n",
       "      <td>NaN</td>\n",
       "      <td>NaN</td>\n",
       "      <td>NaN</td>\n",
       "      <td>0.293390</td>\n",
       "      <td>NaN</td>\n",
       "      <td>NaN</td>\n",
       "      <td>NaN</td>\n",
       "      <td>Information Technology</td>\n",
       "      <td>91</td>\n",
       "    </tr>\n",
       "    <tr>\n",
       "      <th>84</th>\n",
       "      <td>DECK</td>\n",
       "      <td>55.671667</td>\n",
       "      <td>100.341372</td>\n",
       "      <td>43.785000</td>\n",
       "      <td>2022-07-05</td>\n",
       "      <td>2022-10-04</td>\n",
       "      <td>5586.171414</td>\n",
       "      <td>Consumer Discretionary</td>\n",
       "      <td>NaN</td>\n",
       "      <td>NaN</td>\n",
       "      <td>NaN</td>\n",
       "      <td>NaN</td>\n",
       "      <td>0.271478</td>\n",
       "      <td>NaN</td>\n",
       "      <td>NaN</td>\n",
       "      <td>NaN</td>\n",
       "      <td>Consumer Discretionary</td>\n",
       "      <td>91</td>\n",
       "    </tr>\n",
       "    <tr>\n",
       "      <th>279</th>\n",
       "      <td>MLM</td>\n",
       "      <td>608.653695</td>\n",
       "      <td>17.572880</td>\n",
       "      <td>480.034657</td>\n",
       "      <td>2024-01-03</td>\n",
       "      <td>2024-04-03</td>\n",
       "      <td>10695.798569</td>\n",
       "      <td>Materials</td>\n",
       "      <td>NaN</td>\n",
       "      <td>NaN</td>\n",
       "      <td>NaN</td>\n",
       "      <td>NaN</td>\n",
       "      <td>0.267937</td>\n",
       "      <td>NaN</td>\n",
       "      <td>NaN</td>\n",
       "      <td>NaN</td>\n",
       "      <td>Materials</td>\n",
       "      <td>91</td>\n",
       "    </tr>\n",
       "    <tr>\n",
       "      <th>0</th>\n",
       "      <td>LMT</td>\n",
       "      <td>415.880843</td>\n",
       "      <td>13.783219</td>\n",
       "      <td>329.781792</td>\n",
       "      <td>2022-01-03</td>\n",
       "      <td>2022-04-04</td>\n",
       "      <td>5732.176592</td>\n",
       "      <td>Industrials</td>\n",
       "      <td>NaN</td>\n",
       "      <td>NaN</td>\n",
       "      <td>NaN</td>\n",
       "      <td>NaN</td>\n",
       "      <td>0.261079</td>\n",
       "      <td>NaN</td>\n",
       "      <td>NaN</td>\n",
       "      <td>NaN</td>\n",
       "      <td>Industrials</td>\n",
       "      <td>91</td>\n",
       "    </tr>\n",
       "    <tr>\n",
       "      <th>267</th>\n",
       "      <td>LLY</td>\n",
       "      <td>773.630748</td>\n",
       "      <td>12.752589</td>\n",
       "      <td>614.766689</td>\n",
       "      <td>2024-01-03</td>\n",
       "      <td>2024-04-03</td>\n",
       "      <td>9865.794985</td>\n",
       "      <td>Health Care</td>\n",
       "      <td>NaN</td>\n",
       "      <td>NaN</td>\n",
       "      <td>NaN</td>\n",
       "      <td>NaN</td>\n",
       "      <td>0.258414</td>\n",
       "      <td>NaN</td>\n",
       "      <td>NaN</td>\n",
       "      <td>NaN</td>\n",
       "      <td>Health Care</td>\n",
       "      <td>91</td>\n",
       "    </tr>\n",
       "    <tr>\n",
       "      <th>102</th>\n",
       "      <td>VTRS</td>\n",
       "      <td>10.515545</td>\n",
       "      <td>545.389095</td>\n",
       "      <td>8.419120</td>\n",
       "      <td>2022-10-04</td>\n",
       "      <td>2023-01-03</td>\n",
       "      <td>5735.063705</td>\n",
       "      <td>Health Care</td>\n",
       "      <td>NaN</td>\n",
       "      <td>NaN</td>\n",
       "      <td>NaN</td>\n",
       "      <td>NaN</td>\n",
       "      <td>0.249008</td>\n",
       "      <td>NaN</td>\n",
       "      <td>NaN</td>\n",
       "      <td>NaN</td>\n",
       "      <td>Health Care</td>\n",
       "      <td>91</td>\n",
       "    </tr>\n",
       "    <tr>\n",
       "      <th>78</th>\n",
       "      <td>PYPL</td>\n",
       "      <td>92.790000</td>\n",
       "      <td>56.730950</td>\n",
       "      <td>74.400000</td>\n",
       "      <td>2022-07-05</td>\n",
       "      <td>2022-10-04</td>\n",
       "      <td>5264.064852</td>\n",
       "      <td>Financials</td>\n",
       "      <td>NaN</td>\n",
       "      <td>NaN</td>\n",
       "      <td>NaN</td>\n",
       "      <td>NaN</td>\n",
       "      <td>0.247177</td>\n",
       "      <td>NaN</td>\n",
       "      <td>NaN</td>\n",
       "      <td>NaN</td>\n",
       "      <td>Financials</td>\n",
       "      <td>91</td>\n",
       "    </tr>\n",
       "    <tr>\n",
       "      <th>264</th>\n",
       "      <td>PH</td>\n",
       "      <td>555.411236</td>\n",
       "      <td>18.641568</td>\n",
       "      <td>446.848487</td>\n",
       "      <td>2024-01-03</td>\n",
       "      <td>2024-04-03</td>\n",
       "      <td>10353.736370</td>\n",
       "      <td>Industrials</td>\n",
       "      <td>NaN</td>\n",
       "      <td>NaN</td>\n",
       "      <td>NaN</td>\n",
       "      <td>NaN</td>\n",
       "      <td>0.242952</td>\n",
       "      <td>NaN</td>\n",
       "      <td>NaN</td>\n",
       "      <td>NaN</td>\n",
       "      <td>Industrials</td>\n",
       "      <td>91</td>\n",
       "    </tr>\n",
       "    <tr>\n",
       "      <th>168</th>\n",
       "      <td>DVA</td>\n",
       "      <td>101.360000</td>\n",
       "      <td>79.197062</td>\n",
       "      <td>81.580000</td>\n",
       "      <td>2023-04-04</td>\n",
       "      <td>2023-07-05</td>\n",
       "      <td>8027.414177</td>\n",
       "      <td>Health Care</td>\n",
       "      <td>NaN</td>\n",
       "      <td>NaN</td>\n",
       "      <td>NaN</td>\n",
       "      <td>NaN</td>\n",
       "      <td>0.242461</td>\n",
       "      <td>NaN</td>\n",
       "      <td>NaN</td>\n",
       "      <td>NaN</td>\n",
       "      <td>Health Care</td>\n",
       "      <td>92</td>\n",
       "    </tr>\n",
       "    <tr>\n",
       "      <th>132</th>\n",
       "      <td>UBER</td>\n",
       "      <td>31.390000</td>\n",
       "      <td>220.867222</td>\n",
       "      <td>25.360000</td>\n",
       "      <td>2023-01-03</td>\n",
       "      <td>2023-04-04</td>\n",
       "      <td>6933.022104</td>\n",
       "      <td>Industrials</td>\n",
       "      <td>NaN</td>\n",
       "      <td>NaN</td>\n",
       "      <td>NaN</td>\n",
       "      <td>NaN</td>\n",
       "      <td>0.237776</td>\n",
       "      <td>NaN</td>\n",
       "      <td>NaN</td>\n",
       "      <td>NaN</td>\n",
       "      <td>Industrials</td>\n",
       "      <td>91</td>\n",
       "    </tr>\n",
       "    <tr>\n",
       "      <th>249</th>\n",
       "      <td>MHK</td>\n",
       "      <td>100.930000</td>\n",
       "      <td>94.132321</td>\n",
       "      <td>81.720000</td>\n",
       "      <td>2023-10-04</td>\n",
       "      <td>2024-01-03</td>\n",
       "      <td>9500.775171</td>\n",
       "      <td>Consumer Discretionary</td>\n",
       "      <td>NaN</td>\n",
       "      <td>NaN</td>\n",
       "      <td>NaN</td>\n",
       "      <td>NaN</td>\n",
       "      <td>0.235071</td>\n",
       "      <td>NaN</td>\n",
       "      <td>NaN</td>\n",
       "      <td>NaN</td>\n",
       "      <td>Consumer Discretionary</td>\n",
       "      <td>91</td>\n",
       "    </tr>\n",
       "  </tbody>\n",
       "</table>\n",
       "</div>"
      ],
      "text/plain": [
       "    ticker     adjclose    quantity   buy_price   buy_date  sell_date  \\\n",
       "270   SMCI  1015.570000   66.632202  280.640000 2024-01-03 2024-04-03   \n",
       "171   SMCI   255.000000   90.641037  109.460000 2023-04-04 2023-07-05   \n",
       "72    FSLR   143.060000   62.784488   66.230000 2022-07-05 2022-10-04   \n",
       "138   NVDA    27.438574  470.767654   14.305021 2023-01-03 2023-04-04   \n",
       "150   TSLA   192.580000   48.344614  108.100000 2023-01-03 2023-04-04   \n",
       "15     MOS    63.340638  119.883537   37.915586 2022-01-03 2022-04-04   \n",
       "30     HAL    37.097398  198.755623   22.869565 2022-01-03 2022-04-04   \n",
       "156    WBD    15.150000  445.246258    9.540000 2023-01-03 2023-04-04   \n",
       "135    WST   346.939985   22.011801  233.457141 2023-01-03 2023-04-04   \n",
       "288   META   505.763738   18.054103  343.439461 2024-01-03 2024-04-03   \n",
       "81     ALB   277.621399   31.583110  195.810533 2022-07-05 2022-10-04   \n",
       "240    NRG    50.708981  150.840605   36.438698 2023-10-04 2024-01-03   \n",
       "165   UBER    43.660000  202.191414   31.390000 2023-04-04 2023-07-05   \n",
       "144   MKTX   383.930062   16.980465  278.236269 2023-01-03 2023-04-04   \n",
       "129    HAL    36.413217  212.653114   27.096282 2022-10-04 2023-01-03   \n",
       "189    LYV    92.720000   80.083455   69.390000 2023-04-04 2023-07-05   \n",
       "243    BAC    32.878256  234.212725   25.237135 2023-10-04 2024-01-03   \n",
       "66    UBER    29.190000  208.647244   22.520000 2022-07-05 2022-10-04   \n",
       "231   UBER    58.250000  157.804760   44.940000 2023-10-04 2024-01-03   \n",
       "303   MPWR   839.220000   66.155034  648.852917 2024-04-03 2024-07-03   \n",
       "84    DECK    55.671667  100.341372   43.785000 2022-07-05 2022-10-04   \n",
       "279    MLM   608.653695   17.572880  480.034657 2024-01-03 2024-04-03   \n",
       "0      LMT   415.880843   13.783219  329.781792 2022-01-03 2022-04-04   \n",
       "267    LLY   773.630748   12.752589  614.766689 2024-01-03 2024-04-03   \n",
       "102   VTRS    10.515545  545.389095    8.419120 2022-10-04 2023-01-03   \n",
       "78    PYPL    92.790000   56.730950   74.400000 2022-07-05 2022-10-04   \n",
       "264     PH   555.411236   18.641568  446.848487 2024-01-03 2024-04-03   \n",
       "168    DVA   101.360000   79.197062   81.580000 2023-04-04 2023-07-05   \n",
       "132   UBER    31.390000  220.867222   25.360000 2023-01-03 2023-04-04   \n",
       "249    MHK   100.930000   94.132321   81.720000 2023-10-04 2024-01-03   \n",
       "\n",
       "               pv                  sector  strike_price  premium  \\\n",
       "270  67669.665503  Information Technology           NaN      NaN   \n",
       "171  23113.464550  Information Technology           NaN      NaN   \n",
       "72    8981.948824  Information Technology           NaN      NaN   \n",
       "138  12917.193094  Information Technology           NaN      NaN   \n",
       "150   9310.205708  Consumer Discretionary           NaN      NaN   \n",
       "15    7593.499793               Materials           NaN      NaN   \n",
       "30    7373.316428                  Energy           NaN      NaN   \n",
       "156   6745.480807  Communication Services           NaN      NaN   \n",
       "135   7636.773825             Health Care           NaN      NaN   \n",
       "288   9131.110655  Communication Services           NaN      NaN   \n",
       "81    8768.147292               Materials           NaN      NaN   \n",
       "240   7648.973428               Utilities           NaN      NaN   \n",
       "165   8827.677116             Industrials           NaN      NaN   \n",
       "144   6519.310902              Financials           NaN      NaN   \n",
       "129   7743.384028                  Energy           NaN      NaN   \n",
       "189   7425.337966  Communication Services           NaN      NaN   \n",
       "243   7700.505905              Financials           NaN      NaN   \n",
       "66    6090.413055             Industrials           NaN      NaN   \n",
       "231   9192.127282             Industrials           NaN      NaN   \n",
       "303  55518.627324  Information Technology           NaN      NaN   \n",
       "84    5586.171414  Consumer Discretionary           NaN      NaN   \n",
       "279  10695.798569               Materials           NaN      NaN   \n",
       "0     5732.176592             Industrials           NaN      NaN   \n",
       "267   9865.794985             Health Care           NaN      NaN   \n",
       "102   5735.063705             Health Care           NaN      NaN   \n",
       "78    5264.064852              Financials           NaN      NaN   \n",
       "264  10353.736370             Industrials           NaN      NaN   \n",
       "168   8027.414177             Health Care           NaN      NaN   \n",
       "132   6933.022104             Industrials           NaN      NaN   \n",
       "249   9500.775171  Consumer Discretionary           NaN      NaN   \n",
       "\n",
       "     contract_price  notional    return asset_type  coupon_rate  rate  \\\n",
       "270             NaN       NaN  2.618764        NaN          NaN   NaN   \n",
       "171             NaN       NaN  1.329618        NaN          NaN   NaN   \n",
       "72              NaN       NaN  1.160048        NaN          NaN   NaN   \n",
       "138             NaN       NaN  0.918108        NaN          NaN   NaN   \n",
       "150             NaN       NaN  0.781499        NaN          NaN   NaN   \n",
       "15              NaN       NaN  0.670570        NaN          NaN   NaN   \n",
       "30              NaN       NaN  0.622130        NaN          NaN   NaN   \n",
       "156             NaN       NaN  0.588050        NaN          NaN   NaN   \n",
       "135             NaN       NaN  0.486097        NaN          NaN   NaN   \n",
       "288             NaN       NaN  0.472643        NaN          NaN   NaN   \n",
       "81              NaN       NaN  0.417806        NaN          NaN   NaN   \n",
       "240             NaN       NaN  0.391624        NaN          NaN   NaN   \n",
       "165             NaN       NaN  0.390889        NaN          NaN   NaN   \n",
       "144             NaN       NaN  0.379871        NaN          NaN   NaN   \n",
       "129             NaN       NaN  0.343846        NaN          NaN   NaN   \n",
       "189             NaN       NaN  0.336216        NaN          NaN   NaN   \n",
       "243             NaN       NaN  0.302773        NaN          NaN   NaN   \n",
       "66              NaN       NaN  0.296181        NaN          NaN   NaN   \n",
       "231             NaN       NaN  0.296173        NaN          NaN   NaN   \n",
       "303             NaN       NaN  0.293390        NaN          NaN   NaN   \n",
       "84              NaN       NaN  0.271478        NaN          NaN   NaN   \n",
       "279             NaN       NaN  0.267937        NaN          NaN   NaN   \n",
       "0               NaN       NaN  0.261079        NaN          NaN   NaN   \n",
       "267             NaN       NaN  0.258414        NaN          NaN   NaN   \n",
       "102             NaN       NaN  0.249008        NaN          NaN   NaN   \n",
       "78              NaN       NaN  0.247177        NaN          NaN   NaN   \n",
       "264             NaN       NaN  0.242952        NaN          NaN   NaN   \n",
       "168             NaN       NaN  0.242461        NaN          NaN   NaN   \n",
       "132             NaN       NaN  0.237776        NaN          NaN   NaN   \n",
       "249             NaN       NaN  0.235071        NaN          NaN   NaN   \n",
       "\n",
       "                GICS Sector  hpr  \n",
       "270  Information Technology   91  \n",
       "171  Information Technology   92  \n",
       "72   Information Technology   91  \n",
       "138  Information Technology   91  \n",
       "150  Consumer Discretionary   91  \n",
       "15                Materials   91  \n",
       "30                   Energy   91  \n",
       "156  Communication Services   91  \n",
       "135             Health Care   91  \n",
       "288  Communication Services   91  \n",
       "81                Materials   91  \n",
       "240               Utilities   91  \n",
       "165             Industrials   92  \n",
       "144              Financials   91  \n",
       "129                  Energy   91  \n",
       "189  Communication Services   92  \n",
       "243              Financials   91  \n",
       "66              Industrials   91  \n",
       "231             Industrials   91  \n",
       "303  Information Technology   91  \n",
       "84   Consumer Discretionary   91  \n",
       "279               Materials   91  \n",
       "0               Industrials   91  \n",
       "267             Health Care   91  \n",
       "102             Health Care   91  \n",
       "78               Financials   91  \n",
       "264             Industrials   91  \n",
       "168             Health Care   92  \n",
       "132             Industrials   91  \n",
       "249  Consumer Discretionary   91  "
      ]
     },
     "execution_count": 25,
     "metadata": {},
     "output_type": "execute_result"
    }
   ],
   "source": [
    "t.sort_values(\"return\",ascending=False).head(30)"
   ]
  },
  {
   "cell_type": "code",
   "execution_count": 26,
   "id": "7df48b86-02d7-4b4d-b4d2-754f9436238f",
   "metadata": {},
   "outputs": [
    {
     "data": {
      "text/html": [
       "<div>\n",
       "<style scoped>\n",
       "    .dataframe tbody tr th:only-of-type {\n",
       "        vertical-align: middle;\n",
       "    }\n",
       "\n",
       "    .dataframe tbody tr th {\n",
       "        vertical-align: top;\n",
       "    }\n",
       "\n",
       "    .dataframe thead th {\n",
       "        text-align: right;\n",
       "    }\n",
       "</style>\n",
       "<table border=\"1\" class=\"dataframe\">\n",
       "  <thead>\n",
       "    <tr style=\"text-align: right;\">\n",
       "      <th></th>\n",
       "      <th>GICS Sector</th>\n",
       "      <th>return</th>\n",
       "      <th>hpr</th>\n",
       "    </tr>\n",
       "  </thead>\n",
       "  <tbody>\n",
       "    <tr>\n",
       "      <th>2</th>\n",
       "      <td>Consumer Staples</td>\n",
       "      <td>0.053122</td>\n",
       "      <td>91.2</td>\n",
       "    </tr>\n",
       "    <tr>\n",
       "      <th>9</th>\n",
       "      <td>Real Estate</td>\n",
       "      <td>0.079870</td>\n",
       "      <td>91.2</td>\n",
       "    </tr>\n",
       "    <tr>\n",
       "      <th>10</th>\n",
       "      <td>Utilities</td>\n",
       "      <td>0.084781</td>\n",
       "      <td>91.2</td>\n",
       "    </tr>\n",
       "    <tr>\n",
       "      <th>4</th>\n",
       "      <td>Financials</td>\n",
       "      <td>0.103161</td>\n",
       "      <td>91.2</td>\n",
       "    </tr>\n",
       "    <tr>\n",
       "      <th>3</th>\n",
       "      <td>Energy</td>\n",
       "      <td>0.123053</td>\n",
       "      <td>91.2</td>\n",
       "    </tr>\n",
       "    <tr>\n",
       "      <th>0</th>\n",
       "      <td>Communication Services</td>\n",
       "      <td>0.133752</td>\n",
       "      <td>91.2</td>\n",
       "    </tr>\n",
       "    <tr>\n",
       "      <th>1</th>\n",
       "      <td>Consumer Discretionary</td>\n",
       "      <td>0.155648</td>\n",
       "      <td>91.2</td>\n",
       "    </tr>\n",
       "    <tr>\n",
       "      <th>5</th>\n",
       "      <td>Health Care</td>\n",
       "      <td>0.167167</td>\n",
       "      <td>91.2</td>\n",
       "    </tr>\n",
       "    <tr>\n",
       "      <th>8</th>\n",
       "      <td>Materials</td>\n",
       "      <td>0.176495</td>\n",
       "      <td>91.2</td>\n",
       "    </tr>\n",
       "    <tr>\n",
       "      <th>6</th>\n",
       "      <td>Industrials</td>\n",
       "      <td>0.185730</td>\n",
       "      <td>91.2</td>\n",
       "    </tr>\n",
       "    <tr>\n",
       "      <th>7</th>\n",
       "      <td>Information Technology</td>\n",
       "      <td>0.654173</td>\n",
       "      <td>91.2</td>\n",
       "    </tr>\n",
       "  </tbody>\n",
       "</table>\n",
       "</div>"
      ],
      "text/plain": [
       "               GICS Sector    return   hpr\n",
       "2         Consumer Staples  0.053122  91.2\n",
       "9              Real Estate  0.079870  91.2\n",
       "10               Utilities  0.084781  91.2\n",
       "4               Financials  0.103161  91.2\n",
       "3                   Energy  0.123053  91.2\n",
       "0   Communication Services  0.133752  91.2\n",
       "1   Consumer Discretionary  0.155648  91.2\n",
       "5              Health Care  0.167167  91.2\n",
       "8                Materials  0.176495  91.2\n",
       "6              Industrials  0.185730  91.2\n",
       "7   Information Technology  0.654173  91.2"
      ]
     },
     "execution_count": 26,
     "metadata": {},
     "output_type": "execute_result"
    }
   ],
   "source": [
    "t.groupby([\"GICS Sector\"]).agg({\"return\":\"mean\",\"hpr\":\"mean\"}).reset_index().sort_values(\"return\").tail(50)"
   ]
  },
  {
   "cell_type": "code",
   "execution_count": 27,
   "id": "b0318710-d50c-4d50-92cd-f62a1ed56db8",
   "metadata": {},
   "outputs": [
    {
     "data": {
      "text/html": [
       "<div>\n",
       "<style scoped>\n",
       "    .dataframe tbody tr th:only-of-type {\n",
       "        vertical-align: middle;\n",
       "    }\n",
       "\n",
       "    .dataframe tbody tr th {\n",
       "        vertical-align: top;\n",
       "    }\n",
       "\n",
       "    .dataframe thead th {\n",
       "        text-align: right;\n",
       "    }\n",
       "</style>\n",
       "<table border=\"1\" class=\"dataframe\">\n",
       "  <thead>\n",
       "    <tr style=\"text-align: right;\">\n",
       "      <th>asset_class</th>\n",
       "      <th>date</th>\n",
       "      <th>stocks</th>\n",
       "      <th>bonds</th>\n",
       "      <th>options</th>\n",
       "    </tr>\n",
       "  </thead>\n",
       "  <tbody>\n",
       "    <tr>\n",
       "      <th>0</th>\n",
       "      <td>2022-01-03</td>\n",
       "      <td>50000.000000</td>\n",
       "      <td>40000.000000</td>\n",
       "      <td>10000.000000</td>\n",
       "    </tr>\n",
       "    <tr>\n",
       "      <th>1</th>\n",
       "      <td>2022-01-04</td>\n",
       "      <td>50905.163331</td>\n",
       "      <td>39901.219444</td>\n",
       "      <td>10645.952974</td>\n",
       "    </tr>\n",
       "    <tr>\n",
       "      <th>2</th>\n",
       "      <td>2022-01-05</td>\n",
       "      <td>50230.895223</td>\n",
       "      <td>39737.251185</td>\n",
       "      <td>10719.027140</td>\n",
       "    </tr>\n",
       "    <tr>\n",
       "      <th>3</th>\n",
       "      <td>2022-01-06</td>\n",
       "      <td>50388.493066</td>\n",
       "      <td>39671.896097</td>\n",
       "      <td>10702.330540</td>\n",
       "    </tr>\n",
       "    <tr>\n",
       "      <th>4</th>\n",
       "      <td>2022-01-07</td>\n",
       "      <td>50695.413605</td>\n",
       "      <td>39574.111323</td>\n",
       "      <td>10661.806776</td>\n",
       "    </tr>\n",
       "    <tr>\n",
       "      <th>...</th>\n",
       "      <td>...</td>\n",
       "      <td>...</td>\n",
       "      <td>...</td>\n",
       "      <td>...</td>\n",
       "    </tr>\n",
       "    <tr>\n",
       "      <th>678</th>\n",
       "      <td>2024-09-16</td>\n",
       "      <td>149464.452458</td>\n",
       "      <td>108928.012323</td>\n",
       "      <td>25981.696120</td>\n",
       "    </tr>\n",
       "    <tr>\n",
       "      <th>679</th>\n",
       "      <td>2024-09-17</td>\n",
       "      <td>148259.045206</td>\n",
       "      <td>108755.355819</td>\n",
       "      <td>26043.686220</td>\n",
       "    </tr>\n",
       "    <tr>\n",
       "      <th>680</th>\n",
       "      <td>2024-09-18</td>\n",
       "      <td>148283.130092</td>\n",
       "      <td>108325.204355</td>\n",
       "      <td>26042.137402</td>\n",
       "    </tr>\n",
       "    <tr>\n",
       "      <th>681</th>\n",
       "      <td>2024-09-19</td>\n",
       "      <td>150787.610652</td>\n",
       "      <td>108068.131257</td>\n",
       "      <td>25946.059799</td>\n",
       "    </tr>\n",
       "    <tr>\n",
       "      <th>682</th>\n",
       "      <td>2024-09-20</td>\n",
       "      <td>151643.424527</td>\n",
       "      <td>146777.593210</td>\n",
       "      <td>25925.733655</td>\n",
       "    </tr>\n",
       "  </tbody>\n",
       "</table>\n",
       "<p>683 rows × 4 columns</p>\n",
       "</div>"
      ],
      "text/plain": [
       "asset_class       date         stocks          bonds       options\n",
       "0           2022-01-03   50000.000000   40000.000000  10000.000000\n",
       "1           2022-01-04   50905.163331   39901.219444  10645.952974\n",
       "2           2022-01-05   50230.895223   39737.251185  10719.027140\n",
       "3           2022-01-06   50388.493066   39671.896097  10702.330540\n",
       "4           2022-01-07   50695.413605   39574.111323  10661.806776\n",
       "..                 ...            ...            ...           ...\n",
       "678         2024-09-16  149464.452458  108928.012323  25981.696120\n",
       "679         2024-09-17  148259.045206  108755.355819  26043.686220\n",
       "680         2024-09-18  148283.130092  108325.204355  26042.137402\n",
       "681         2024-09-19  150787.610652  108068.131257  25946.059799\n",
       "682         2024-09-20  151643.424527  146777.593210  25925.733655\n",
       "\n",
       "[683 rows x 4 columns]"
      ]
     },
     "execution_count": 27,
     "metadata": {},
     "output_type": "execute_result"
    }
   ],
   "source": [
    "performance"
   ]
  }
 ],
 "metadata": {
  "kernelspec": {
   "display_name": "Python 3 (ipykernel)",
   "language": "python",
   "name": "python3"
  },
  "language_info": {
   "codemirror_mode": {
    "name": "ipython",
    "version": 3
   },
   "file_extension": ".py",
   "mimetype": "text/x-python",
   "name": "python",
   "nbconvert_exporter": "python",
   "pygments_lexer": "ipython3",
   "version": "3.11.9"
  }
 },
 "nbformat": 4,
 "nbformat_minor": 5
}
