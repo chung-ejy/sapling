{
 "cells": [
  {
   "cell_type": "code",
   "execution_count": 71,
   "id": "2ed8cf89-aedf-487b-8f4c-be90c03b04e4",
   "metadata": {},
   "outputs": [],
   "source": [
    "from processor.processor import Processor as processor\n",
    "from database.adatabase import ADatabase\n",
    "from xgboost import XGBRegressor\n",
    "from statistics import mean\n",
    "import math\n",
    "import pandas as pd\n",
    "import numpy as np\n",
    "from scipy.optimize import minimize\n",
    "import matplotlib.pyplot as plt\n",
    "from datetime import datetime, timedelta\n",
    "from tqdm import tqdm\n",
    "from dotenv import load_dotenv\n",
    "from asset.stock import Stock\n",
    "from asset.bond import Bond\n",
    "from asset.option import Option\n",
    "import warnings\n",
    "import pytz\n",
    "import copy\n",
    "warnings.simplefilter(action=\"ignore\")\n",
    "import pickle\n",
    "import wrds"
   ]
  },
  {
   "cell_type": "code",
   "execution_count": 72,
   "id": "f83d2e0d-1c3e-411d-bc6d-9f5b6aa766cc",
   "metadata": {},
   "outputs": [],
   "source": [
    "market = ADatabase(\"market\")\n",
    "sec = ADatabase(\"sec\")\n",
    "market = ADatabase(\"market\")\n",
    "fred = ADatabase(\"fred\")\n",
    "db = ADatabase(\"sapling\")"
   ]
  },
  {
   "cell_type": "code",
   "execution_count": 73,
   "id": "e3a1d483-9d3a-4549-9621-6009595e6c43",
   "metadata": {},
   "outputs": [],
   "source": [
    "sp500 = pd.read_html(\"https://en.wikipedia.org/wiki/List_of_S%26P_500_companies\",attrs={\"id\":\"constituents\"})[0].rename(columns={\"Symbol\":\"ticker\"})"
   ]
  },
  {
   "cell_type": "code",
   "execution_count": 74,
   "id": "d7462b2c-0844-4f56-8d4a-a0ec394baf95",
   "metadata": {},
   "outputs": [],
   "source": [
    "fred.connect()\n",
    "market_yield = fred.retrieve(\"market_yield\")\n",
    "market_yield = market_yield.rename(columns={\"value\":\"rf\"})\n",
    "market_yield[\"rf\"] = market_yield[\"rf\"].replace(\".\",np.nan)\n",
    "market_yield.dropna(inplace=True)\n",
    "market_yield[\"rf\"] = [float(x)/100 for x in market_yield[\"rf\"]]\n",
    "market_yield = processor.column_date_processing(market_yield)\n",
    "spy = fred.retrieve(\"sp500\")\n",
    "spy = spy.rename(columns={\"value\":\"spy\"})\n",
    "spy[\"spy\"] = spy[\"spy\"].replace(\".\",np.nan)\n",
    "spy.dropna(inplace=True)\n",
    "spy[\"spy\"] = [float(x) for x in spy[\"spy\"]]\n",
    "spy = processor.column_date_processing(spy)\n",
    "spy = spy.sort_values(\"date\")\n",
    "fred.disconnect()"
   ]
  },
  {
   "cell_type": "code",
   "execution_count": 75,
   "id": "f4ea8cad-467e-44f4-9a57-500dd57a7d09",
   "metadata": {},
   "outputs": [],
   "source": [
    "unneeded_columns = [\"ticker\",\"year\",\"quarter\",\"gsector\",\"gicdesc\",\"y\"]"
   ]
  },
  {
   "cell_type": "code",
   "execution_count": 76,
   "id": "91385ace-f70c-4b9d-8ee2-e5f58c67ed3c",
   "metadata": {
    "scrolled": true
   },
   "outputs": [
    {
     "name": "stderr",
     "output_type": "stream",
     "text": [
      "  4%|█████████▋                                                                                                                                                                                                                              | 21/503 [00:02<00:45, 10.52it/s]"
     ]
    },
    {
     "name": "stdout",
     "output_type": "stream",
     "text": [
      "GOOGL 'date'\n"
     ]
    },
    {
     "name": "stderr",
     "output_type": "stream",
     "text": [
      " 11%|████████████████████████▉                                                                                                                                                                                                               | 54/503 [00:06<00:59,  7.52it/s]"
     ]
    },
    {
     "name": "stdout",
     "output_type": "stream",
     "text": [
      "AVB 'date'\n"
     ]
    },
    {
     "name": "stderr",
     "output_type": "stream",
     "text": [
      " 13%|█████████████████████████████▌                                                                                                                                                                                                          | 64/503 [00:07<00:43, 10.19it/s]"
     ]
    },
    {
     "name": "stdout",
     "output_type": "stream",
     "text": [
      "BRK.B 'date'\n"
     ]
    },
    {
     "name": "stderr",
     "output_type": "stream",
     "text": [
      " 16%|████████████████████████████████████▍                                                                                                                                                                                                   | 79/503 [00:09<00:38, 10.98it/s]"
     ]
    },
    {
     "name": "stdout",
     "output_type": "stream",
     "text": [
      "BF.B 'date'\n"
     ]
    },
    {
     "name": "stderr",
     "output_type": "stream",
     "text": [
      " 16%|█████████████████████████████████████▎                                                                                                                                                                                                  | 81/503 [00:09<00:39, 10.81it/s]"
     ]
    },
    {
     "name": "stdout",
     "output_type": "stream",
     "text": [
      "BXP 'date'\n"
     ]
    },
    {
     "name": "stderr",
     "output_type": "stream",
     "text": [
      " 18%|█████████████████████████████████████████▉                                                                                                                                                                                              | 91/503 [00:10<00:37, 10.92it/s]"
     ]
    },
    {
     "name": "stdout",
     "output_type": "stream",
     "text": [
      "CCL 'date'\n"
     ]
    },
    {
     "name": "stderr",
     "output_type": "stream",
     "text": [
      " 26%|████████████████████████████████████████████████████████████▌                                                                                                                                                                          | 132/503 [00:15<00:34, 10.72it/s]"
     ]
    },
    {
     "name": "stdout",
     "output_type": "stream",
     "text": [
      "CPAY 'date'\n"
     ]
    },
    {
     "name": "stderr",
     "output_type": "stream",
     "text": [
      " 29%|██████████████████████████████████████████████████████████████████▏                                                                                                                                                                    | 144/503 [00:16<00:35, 10.24it/s]"
     ]
    },
    {
     "name": "stdout",
     "output_type": "stream",
     "text": [
      "DAY 'date'\n"
     ]
    },
    {
     "name": "stderr",
     "output_type": "stream",
     "text": [
      " 30%|████████████████████████████████████████████████████████████████████▉                                                                                                                                                                  | 150/503 [00:17<00:34, 10.21it/s]"
     ]
    },
    {
     "name": "stdout",
     "output_type": "stream",
     "text": [
      "DLR 'date'\n"
     ]
    },
    {
     "name": "stderr",
     "output_type": "stream",
     "text": [
      " 36%|██████████████████████████████████████████████████████████████████████████████████▋                                                                                                                                                    | 180/503 [00:20<00:33,  9.57it/s]"
     ]
    },
    {
     "name": "stdout",
     "output_type": "stream",
     "text": [
      "EQR 'date'\n",
      "ESS 'date'\n"
     ]
    },
    {
     "name": "stderr",
     "output_type": "stream",
     "text": [
      " 37%|████████████████████████████████████████████████████████████████████████████████████▌                                                                                                                                                  | 184/503 [00:20<00:27, 11.59it/s]"
     ]
    },
    {
     "name": "stdout",
     "output_type": "stream",
     "text": [
      "EG 'date'\n"
     ]
    },
    {
     "name": "stderr",
     "output_type": "stream",
     "text": [
      " 39%|█████████████████████████████████████████████████████████████████████████████████████████▌                                                                                                                                             | 195/503 [00:22<00:33,  9.21it/s]"
     ]
    },
    {
     "name": "stdout",
     "output_type": "stream",
     "text": [
      "FRT 'date'\n"
     ]
    },
    {
     "name": "stderr",
     "output_type": "stream",
     "text": [
      " 43%|██████████████████████████████████████████████████████████████████████████████████████████████████▎                                                                                                                                    | 214/503 [00:24<00:24, 11.79it/s]"
     ]
    },
    {
     "name": "stdout",
     "output_type": "stream",
     "text": [
      "GEV 'date'\n"
     ]
    },
    {
     "name": "stderr",
     "output_type": "stream",
     "text": [
      " 52%|███████████████████████████████████████████████████████████████████████████████████████████████████████████████████████▊                                                                                                               | 261/503 [00:29<00:24,  9.77it/s]"
     ]
    },
    {
     "name": "stdout",
     "output_type": "stream",
     "text": [
      "IVZ 'date'\n",
      "INVH 'date'\n"
     ]
    },
    {
     "name": "stderr",
     "output_type": "stream",
     "text": [
      " 54%|███████████████████████████████████████████████████████████████████████████████████████████████████████████████████████████▉                                                                                                           | 270/503 [00:30<00:25,  9.10it/s]"
     ]
    },
    {
     "name": "stdout",
     "output_type": "stream",
     "text": [
      "JCI 'date'\n"
     ]
    },
    {
     "name": "stderr",
     "output_type": "stream",
     "text": [
      " 56%|████████████████████████████████████████████████████████████████████████████████████████████████████████████████████████████████▌                                                                                                      | 280/503 [00:31<00:20, 10.68it/s]"
     ]
    },
    {
     "name": "stdout",
     "output_type": "stream",
     "text": [
      "KIM 'date'\n"
     ]
    },
    {
     "name": "stderr",
     "output_type": "stream",
     "text": [
      " 59%|█████████████████████████████████████████████████████████████████████████████████████████████████████████████████████████████████████████▎                                                                                             | 299/503 [00:33<00:19, 10.37it/s]"
     ]
    },
    {
     "name": "stdout",
     "output_type": "stream",
     "text": [
      "LYB 'date'\n"
     ]
    },
    {
     "name": "stderr",
     "output_type": "stream",
     "text": [
      " 64%|████████████████████████████████████████████████████████████████████████████████████████████████████████████████████████████████████████████████████▎                                                                                  | 323/503 [00:36<00:17, 10.52it/s]"
     ]
    },
    {
     "name": "stdout",
     "output_type": "stream",
     "text": [
      "MAA 'date'\n"
     ]
    },
    {
     "name": "stderr",
     "output_type": "stream",
     "text": [
      " 69%|████████████████████████████████████████████████████████████████████████████████████████████████████████████████████████████████████████████████████████████████▎                                                                      | 349/503 [00:39<00:16,  9.47it/s]"
     ]
    },
    {
     "name": "stdout",
     "output_type": "stream",
     "text": [
      "NCLH 'date'\n"
     ]
    },
    {
     "name": "stderr",
     "output_type": "stream",
     "text": [
      " 70%|██████████████████████████████████████████████████████████████████████████████████████████████████████████████████████████████████████████████████████████████████▌                                                                    | 354/503 [00:39<00:15,  9.79it/s]"
     ]
    },
    {
     "name": "stdout",
     "output_type": "stream",
     "text": [
      "NXPI 'date'\n"
     ]
    },
    {
     "name": "stderr",
     "output_type": "stream",
     "text": [
      " 79%|███████████████████████████████████████████████████████████████████████████████████████████████████████████████████████████████████████████████████████████████████████████████████████▏                                               | 399/503 [00:45<00:10,  9.60it/s]"
     ]
    },
    {
     "name": "stdout",
     "output_type": "stream",
     "text": [
      "REG 'date'\n"
     ]
    },
    {
     "name": "stderr",
     "output_type": "stream",
     "text": [
      " 81%|███████████████████████████████████████████████████████████████████████████████████████████████████████████████████████████████████████████████████████████████████████████████████████████▊                                           | 409/503 [00:46<00:09,  9.44it/s]"
     ]
    },
    {
     "name": "stdout",
     "output_type": "stream",
     "text": [
      "RCL 'date'\n"
     ]
    },
    {
     "name": "stderr",
     "output_type": "stream",
     "text": [
      " 82%|█████████████████████████████████████████████████████████████████████████████████████████████████████████████████████████████████████████████████████████████████████████████████████████████▋                                         | 413/503 [00:46<00:09,  9.94it/s]"
     ]
    },
    {
     "name": "stdout",
     "output_type": "stream",
     "text": [
      "SLB 'date'\n"
     ]
    },
    {
     "name": "stderr",
     "output_type": "stream",
     "text": [
      " 91%|███████████████████████████████████████████████████████████████████████████████████████████████████████████████████████████████████████████████████████████████████████████████████████████████████████████████████▎                   | 460/503 [00:51<00:03, 11.16it/s]"
     ]
    },
    {
     "name": "stdout",
     "output_type": "stream",
     "text": [
      "UDR 'date'\n"
     ]
    },
    {
     "name": "stderr",
     "output_type": "stream",
     "text": [
      " 94%|████████████████████████████████████████████████████████████████████████████████████████████████████████████████████████████████████████████████████████████████████████████████████████████████████████████████████████▎              | 471/503 [00:53<00:03,  8.15it/s]"
     ]
    },
    {
     "name": "stdout",
     "output_type": "stream",
     "text": [
      "VLTO 'date'\n"
     ]
    },
    {
     "name": "stderr",
     "output_type": "stream",
     "text": [
      " 95%|███████████████████████████████████████████████████████████████████████████████████████████████████████████████████████████████████████████████████████████████████████████████████████████████████████████████████████████            | 477/503 [00:53<00:02, 11.66it/s]"
     ]
    },
    {
     "name": "stdout",
     "output_type": "stream",
     "text": [
      "VICI 'date'\n"
     ]
    },
    {
     "name": "stderr",
     "output_type": "stream",
     "text": [
      "100%|███████████████████████████████████████████████████████████████████████████████████████████████████████████████████████████████████████████████████████████████████████████████████████████████████████████████████████████████████████| 503/503 [00:56<00:00,  8.89it/s]"
     ]
    },
    {
     "name": "stdout",
     "output_type": "stream",
     "text": [
      "ZTS 'date'\n"
     ]
    },
    {
     "name": "stderr",
     "output_type": "stream",
     "text": [
      "\n"
     ]
    }
   ],
   "source": [
    "market.connect()\n",
    "sec.connect()\n",
    "factors_df = []\n",
    "for ticker in tqdm(sp500[\"ticker\"].unique()):\n",
    "    try:\n",
    "        price = processor.column_date_processing(market.query(\"prices\",{\"ticker\":ticker}))\n",
    "        price[\"year\"] = [x.year for x in price[\"date\"]]\n",
    "        price[\"quarter\"] = [x.quarter for x in price[\"date\"]]\n",
    "        filings = processor.column_date_processing(sec.query(\"financials\",{\"ticker\":ticker})).drop([\"gsector\",\"gicdesc\"],axis=1)\n",
    "        filings[\"year\"] = [x.year for x in filings[\"date\"]]\n",
    "        filings[\"quarter\"] = [x.quarter for x in filings[\"date\"]]\n",
    "        filings[\"quarter\"] = filings[\"quarter\"].shift(1)\n",
    "        price = price.drop([\"date\",\"ticker\"],axis=1).merge(filings.drop([\"date\",\"ticker\"],axis=1),on=[\"year\",\"quarter\"],how=\"left\").groupby([\"year\",\"quarter\"]).mean().reset_index()\n",
    "        price[\"ticker\"] = ticker\n",
    "        price[\"y\"] = price[\"adjclose\"].shift(-4)\n",
    "        factors_df.append(price)\n",
    "    except Exception as e:\n",
    "        print(ticker,str(e))\n",
    "        continue\n",
    "sec.disconnect()\n",
    "market.disconnect()"
   ]
  },
  {
   "cell_type": "code",
   "execution_count": 77,
   "id": "20232945-482a-466e-9beb-22417e8f3490",
   "metadata": {},
   "outputs": [],
   "source": [
    "factors_df = pd.concat(factors_df)"
   ]
  },
  {
   "cell_type": "code",
   "execution_count": 78,
   "id": "86a1c8e8-8e20-4438-9c74-038a9bc907a1",
   "metadata": {},
   "outputs": [],
   "source": [
    "for column in factors_df:\n",
    "    if column in factors_df[column]:\n",
    "        factors_df.drop(column,axis=1,inplace=True)"
   ]
  },
  {
   "cell_type": "code",
   "execution_count": 79,
   "id": "db4debcc-1f19-4c68-9d94-51317a62d68e",
   "metadata": {},
   "outputs": [],
   "source": [
    "factors_df = factors_df.fillna(0)"
   ]
  },
  {
   "cell_type": "code",
   "execution_count": 124,
   "id": "01e9afd6-ec9f-4977-9ed7-99c0c7d05db1",
   "metadata": {},
   "outputs": [],
   "source": [
    "model = XGBRegressor()\n",
    "factors = [\"ptb\",\"roa\",\"mktcap\",\"bm\",\"short_debt\",\"volume\",\"divyield\",\"adjclose\"]\n",
    "factors_df.sort_values([\"year\",\"quarter\"],inplace=True)\n",
    "training_data = factors_df[(factors_df[\"year\"]<2020)].dropna()\n",
    "sim = factors_df[factors_df[\"year\"]>=2020].drop(\"y\",axis=1).dropna()\n",
    "model.fit(training_data[factors],training_data[\"y\"])\n",
    "sim[\"prediction\"] = model.predict(sim[factors])"
   ]
  },
  {
   "cell_type": "code",
   "execution_count": 125,
   "id": "774135ee-3814-46ab-8508-e056b2ceb96b",
   "metadata": {
    "scrolled": true
   },
   "outputs": [
    {
     "name": "stderr",
     "output_type": "stream",
     "text": [
      " 13%|█████████████████████████████▉                                                                                                                                                                                                          | 65/503 [00:05<00:30, 14.18it/s]"
     ]
    },
    {
     "name": "stdout",
     "output_type": "stream",
     "text": [
      "BRK.B 'date'\n"
     ]
    },
    {
     "name": "stderr",
     "output_type": "stream",
     "text": [
      " 16%|████████████████████████████████████▉                                                                                                                                                                                                   | 80/503 [00:06<00:30, 13.97it/s]"
     ]
    },
    {
     "name": "stdout",
     "output_type": "stream",
     "text": [
      "BF.B 'date'\n"
     ]
    },
    {
     "name": "stderr",
     "output_type": "stream",
     "text": [
      "100%|███████████████████████████████████████████████████████████████████████████████████████████████████████████████████████████████████████████████████████████████████████████████████████████████████████████████████████████████████████| 503/503 [00:40<00:00, 12.49it/s]"
     ]
    },
    {
     "name": "stdout",
     "output_type": "stream",
     "text": [
      "ZTS 'date'\n"
     ]
    },
    {
     "name": "stderr",
     "output_type": "stream",
     "text": [
      "\n"
     ]
    }
   ],
   "source": [
    "prices = []\n",
    "market.connect()\n",
    "db.cloud_connect()\n",
    "for ticker in tqdm(sp500[\"ticker\"].unique()):\n",
    "    try:\n",
    "        price = processor.column_date_processing(market.query(\"prices\",{\"ticker\":ticker}))\n",
    "        price[\"year\"] = [x.year for x in price[\"date\"]]\n",
    "        price[\"quarter\"] = [x.quarter for x in price[\"date\"]]\n",
    "        price.sort_values(\"date\",inplace=True)\n",
    "        price = price.merge(sim[[\"year\",\"quarter\",\"ticker\",\"prediction\"]],on=[\"year\",\"quarter\",\"ticker\"],how=\"left\")\n",
    "        price = price.merge(spy[[\"date\",\"spy\"]],on=\"date\",how=\"left\")\n",
    "        price = price.merge(market_yield[[\"date\",\"rf\"]],on=\"date\",how=\"left\")\n",
    "        price = price.merge(sp500[[\"ticker\",\"GICS Sector\"]],on=\"ticker\",how=\"left\")\n",
    "        price[\"expected_return\"] = (price[\"prediction\"] - price[\"adjclose\"]) / price[\"adjclose\"]\n",
    "        price[\"historical_return\"] = price[\"adjclose\"].pct_change(90)\n",
    "        price[\"factor_return\"] = price[\"spy\"].pct_change(90)\n",
    "        price[\"cov\"] = price[\"factor_return\"].rolling(100).cov(price[\"expected_return\"])\n",
    "        price[\"var\"] = price[\"factor_return\"].rolling(100).var()\n",
    "        price[\"beta\"] = price[\"cov\"] / price[\"var\"]\n",
    "        price[\"excess_return\"] = price[\"rf\"] + price[\"beta\"] * (price[\"expected_return\"] - price[\"rf\"])\n",
    "        price[\"sigma\"] = price[\"adjclose\"].rolling(262).std()\n",
    "        prices.append(price)\n",
    "    except Exception as e:\n",
    "        print(ticker,str(e))\n",
    "        continue\n",
    "market.disconnect()\n",
    "db.disconnect()"
   ]
  },
  {
   "cell_type": "code",
   "execution_count": 126,
   "id": "593de38c-0f3d-4903-8a18-ffe7c89d7b3e",
   "metadata": {},
   "outputs": [],
   "source": [
    "sim = pd.concat(prices).dropna()\n",
    "sim[\"quarter\"] = [x.quarter for x in sim[\"date\"]]\n",
    "sim = sim[sim[\"date\"]>datetime(2022,1,1)]"
   ]
  },
  {
   "cell_type": "code",
   "execution_count": 127,
   "id": "562506f8-95aa-42d7-9e64-5b5a0fdb3b51",
   "metadata": {},
   "outputs": [],
   "source": [
    "# Initialize variables\n",
    "structure = {\"stock\":0.5,\"bond\":0.4,\"option\":0.1}\n",
    "start = sim[\"date\"].min()\n",
    "end = sim[\"date\"].max()\n",
    "date = start\n",
    "number_of_stocks = 1\n",
    "portfolio = {\n",
    "    \"date\": date,\n",
    "    \"tax\": 0,\n",
    "    \"fees\": 0,\n",
    "    \"cash\": 100000,\n",
    "    \"positions\": [\n",
    "        {\n",
    "            \n",
    "            \"stocks\": [{\"ticker\": \"\", \"adjclose\": 0, \"quantity\": 0} for _ in range(number_of_stocks)],\n",
    "            \"bonds\": [{\"ticker\": \"\", \"adjclose\": 0, \"quantity\": 0} for _ in range(number_of_stocks)],\n",
    "            \"options\": [{\"ticker\": \"\", \"adjclose\": 0, \"quantity\": 0} for _ in range(number_of_stocks)]\n",
    "        }\n",
    "        for _ in sp500[\"GICS Sector\"].unique()\n",
    "    ]\n",
    "}\n",
    "states = []\n",
    "trades = []\n",
    "annual_balance = 100000\n",
    "prev_quarter = 0\n",
    "quarter = 1\n",
    "for date in sim.sort_values(\"date\")[\"date\"].unique():\n",
    "    today = sim[sim[\"date\"] == date].copy()\n",
    "    prev_quarter = quarter\n",
    "    quarter = date.quarter\n",
    "    if today.index.size > 0:\n",
    "        try:\n",
    "            portfolio = copy.deepcopy(portfolio)\n",
    "            cash = portfolio[\"cash\"]\n",
    "            portfolio[\"date\"] = date\n",
    "            positions = copy.deepcopy(portfolio[\"positions\"])\n",
    "            for i in range(11):\n",
    "                position = positions[i]\n",
    "                sector = list(sp500[\"GICS Sector\"].unique())[i]\n",
    "                stocks = copy.deepcopy(position[\"stocks\"])\n",
    "                options = copy.deepcopy(position[\"options\"])\n",
    "                bonds = copy.deepcopy(position[\"bonds\"])\n",
    "                for j in range(number_of_stocks):\n",
    "                    stock = stocks[j]\n",
    "                    bond = bonds[j]\n",
    "                    option = options[j]\n",
    "                    ticker = stock[\"ticker\"]\n",
    "                    if ticker != \"\":\n",
    "                        row = today[today[\"ticker\"] == ticker].iloc[0]\n",
    "                        stock = Stock.update(row, stock)\n",
    "                        position[\"stocks\"][j] = stock\n",
    "                        bond = Bond.update(row, bond)\n",
    "                        position[\"bonds\"][j] = bond\n",
    "                        option = Option.update(row, option)\n",
    "                        position[\"options\"][j] = option\n",
    "                positions[i] = position\n",
    "            portfolio[\"positions\"] = positions\n",
    "            \n",
    "            cash = portfolio[\"cash\"]\n",
    "            positions = copy.deepcopy(portfolio[\"positions\"])\n",
    "            \n",
    "            for i in range(11):\n",
    "                position = positions[i]\n",
    "                sector = list(sp500[\"GICS Sector\"].unique())[i]\n",
    "                stocks = copy.deepcopy(position[\"stocks\"])\n",
    "                options = copy.deepcopy(position[\"options\"])\n",
    "                bonds = copy.deepcopy(position[\"bonds\"])\n",
    "                for j in range(number_of_stocks):\n",
    "                    stock = stocks[j]\n",
    "                    bond = bonds[j]\n",
    "                    option = options[j]\n",
    "                    ticker = stock[\"ticker\"]\n",
    "                    if ticker != \"\":\n",
    "                        notional = stock[\"pv\"] + option[\"pv\"] + bond[\"pv\"]\n",
    "                        hpr = int((date - stock[\"buy_date\"]).days)\n",
    "                        opportunity_row = today[today[\"GICS Sector\"] == sector].sort_values(\"expected_return\", ascending=False).iloc[j]\n",
    "                        opportunity_ticker = opportunity_row[\"ticker\"]\n",
    "                        if (hpr > 90):\n",
    "                            row = today[today[\"ticker\"] == ticker].iloc[0]\n",
    "                            stock = Stock.sell(row, stock)\n",
    "                            position[\"stocks\"][j] = stock\n",
    "                            trades.append(stock)\n",
    "                            stock = Stock.buy(opportunity_row, stock, notional * structure[\"stock\"])\n",
    "                            stock[\"sector\"] = sector\n",
    "                            position[\"stocks\"][j] = stock\n",
    "                            option = Option.sell(row, option)\n",
    "                            position[\"options\"][j] = option\n",
    "                            trades.append(option)\n",
    "                            option = Option.buy(opportunity_row, option, notional * structure[\"option\"])\n",
    "                            option[\"sector\"] = sector\n",
    "                            position[\"options\"][j] = option\n",
    "                            bond = Bond.sell(row, bond)\n",
    "                            position[\"bonds\"][j] = bond\n",
    "                            trades.append(bond)\n",
    "                            bond = Bond.buy(opportunity_row, bond, notional * structure[\"bond\"])\n",
    "                            bond[\"sector\"] = sector\n",
    "                            position[\"bonds\"][j] = bond\n",
    "                            positions[i] = position\n",
    "                portfolio[\"positions\"] = positions\n",
    "            if date == sim[\"date\"].min():\n",
    "                for i in range(11):\n",
    "                    notional = float(cash / 11 / number_of_stocks)\n",
    "                    position = positions[i]\n",
    "                    sector = list(sp500[\"GICS Sector\"].unique())[i]\n",
    "                    stocks = copy.deepcopy(position[\"stocks\"])\n",
    "                    for j in range(number_of_stocks):\n",
    "                        stock = stocks[j]\n",
    "                        row = today[today[\"GICS Sector\"] == sector].sort_values(\"expected_return\", ascending=False).iloc[j]\n",
    "                        stock = Stock.buy(row, stock, notional * structure[\"stock\"])\n",
    "                        stock[\"sector\"] = sector\n",
    "                        position[\"stocks\"][j] = stock\n",
    "                        option = Option.buy(row, option, notional * structure[\"option\"])\n",
    "                        option[\"sector\"] = sector\n",
    "                        position[\"options\"][j] = option\n",
    "                        bond = Bond.buy(row, bond, notional * structure[\"bond\"])\n",
    "                        bond[\"sector\"] = sector\n",
    "                        position[\"bonds\"][j] = bond\n",
    "                    positions[i] = position\n",
    "                portfolio[\"positions\"] = positions\n",
    "                portfolio[\"cash\"] = 0\n",
    "            states.append(copy.deepcopy(portfolio))\n",
    "        except Exception as e:\n",
    "            print(f\"Error on date {date}: {str(e)}\")\n",
    "            continue"
   ]
  },
  {
   "cell_type": "code",
   "execution_count": 128,
   "id": "cfc6ed29-c209-40dc-80c9-789f49aed13a",
   "metadata": {},
   "outputs": [],
   "source": [
    "portfolios = []\n",
    "for state in states:\n",
    "    for i in range(11):\n",
    "        for j in range(number_of_stocks):\n",
    "            for asset_class in [\"stocks\",\"bonds\",\"options\"]:\n",
    "                view = state[\"positions\"][i][asset_class][j]\n",
    "                view[\"date\"] = state[\"date\"]\n",
    "                view[\"asset_class\"] = asset_class\n",
    "            portfolios.append(state[\"positions\"][i][\"stocks\"][j])\n",
    "            portfolios.append(state[\"positions\"][i][\"options\"][j])\n",
    "            portfolios.append(state[\"positions\"][i][\"bonds\"][j])"
   ]
  },
  {
   "cell_type": "code",
   "execution_count": 129,
   "id": "c830c9b7-f2ac-44db-a0ed-1a1eefb450a7",
   "metadata": {},
   "outputs": [],
   "source": [
    "performance = pd.DataFrame(portfolios).pivot_table(index=[\"date\",\"sector\"],columns=\"asset_class\",values=\"pv\").reset_index().sort_values(\"date\")\n",
    "performance = performance.groupby([\"date\",\"sector\"]).agg({\"stocks\":\"sum\",\"bonds\":\"sum\",\"options\":\"sum\"}).reset_index()\n",
    "# performance[\"stock_return\"] = (performance[\"pv\"] - performance[\"pv\"].iloc[0]) / performance[\"pv\"].iloc[0]"
   ]
  },
  {
   "cell_type": "code",
   "execution_count": 130,
   "id": "f058104b-3b9c-4efd-8a53-3a2bd461454e",
   "metadata": {},
   "outputs": [
    {
     "data": {
      "text/html": [
       "<div>\n",
       "<style scoped>\n",
       "    .dataframe tbody tr th:only-of-type {\n",
       "        vertical-align: middle;\n",
       "    }\n",
       "\n",
       "    .dataframe tbody tr th {\n",
       "        vertical-align: top;\n",
       "    }\n",
       "\n",
       "    .dataframe thead th {\n",
       "        text-align: right;\n",
       "    }\n",
       "</style>\n",
       "<table border=\"1\" class=\"dataframe\">\n",
       "  <thead>\n",
       "    <tr style=\"text-align: right;\">\n",
       "      <th>asset_class</th>\n",
       "      <th>date</th>\n",
       "      <th>sector</th>\n",
       "      <th>stocks</th>\n",
       "      <th>bonds</th>\n",
       "      <th>options</th>\n",
       "    </tr>\n",
       "  </thead>\n",
       "  <tbody>\n",
       "    <tr>\n",
       "      <th>0</th>\n",
       "      <td>2022-01-03</td>\n",
       "      <td>Communication Services</td>\n",
       "      <td>4545.454545</td>\n",
       "      <td>3636.363636</td>\n",
       "      <td>909.090909</td>\n",
       "    </tr>\n",
       "    <tr>\n",
       "      <th>1</th>\n",
       "      <td>2022-01-03</td>\n",
       "      <td>Consumer Discretionary</td>\n",
       "      <td>4545.454545</td>\n",
       "      <td>3636.363636</td>\n",
       "      <td>909.090909</td>\n",
       "    </tr>\n",
       "    <tr>\n",
       "      <th>2</th>\n",
       "      <td>2022-01-03</td>\n",
       "      <td>Consumer Staples</td>\n",
       "      <td>4545.454545</td>\n",
       "      <td>3636.363636</td>\n",
       "      <td>909.090909</td>\n",
       "    </tr>\n",
       "    <tr>\n",
       "      <th>3</th>\n",
       "      <td>2022-01-03</td>\n",
       "      <td>Energy</td>\n",
       "      <td>4545.454545</td>\n",
       "      <td>3636.363636</td>\n",
       "      <td>909.090909</td>\n",
       "    </tr>\n",
       "    <tr>\n",
       "      <th>4</th>\n",
       "      <td>2022-01-03</td>\n",
       "      <td>Financials</td>\n",
       "      <td>4545.454545</td>\n",
       "      <td>3636.363636</td>\n",
       "      <td>909.090909</td>\n",
       "    </tr>\n",
       "    <tr>\n",
       "      <th>...</th>\n",
       "      <td>...</td>\n",
       "      <td>...</td>\n",
       "      <td>...</td>\n",
       "      <td>...</td>\n",
       "      <td>...</td>\n",
       "    </tr>\n",
       "    <tr>\n",
       "      <th>7464</th>\n",
       "      <td>2024-09-19</td>\n",
       "      <td>Industrials</td>\n",
       "      <td>8620.745086</td>\n",
       "      <td>6116.338674</td>\n",
       "      <td>1544.078267</td>\n",
       "    </tr>\n",
       "    <tr>\n",
       "      <th>7465</th>\n",
       "      <td>2024-09-19</td>\n",
       "      <td>Information Technology</td>\n",
       "      <td>20308.822105</td>\n",
       "      <td>15509.239509</td>\n",
       "      <td>4050.921372</td>\n",
       "    </tr>\n",
       "    <tr>\n",
       "      <th>7466</th>\n",
       "      <td>2024-09-19</td>\n",
       "      <td>Materials</td>\n",
       "      <td>10667.363862</td>\n",
       "      <td>7504.081905</td>\n",
       "      <td>1886.490610</td>\n",
       "    </tr>\n",
       "    <tr>\n",
       "      <th>7467</th>\n",
       "      <td>2024-09-19</td>\n",
       "      <td>Real Estate</td>\n",
       "      <td>4965.885596</td>\n",
       "      <td>3398.595345</td>\n",
       "      <td>849.648836</td>\n",
       "    </tr>\n",
       "    <tr>\n",
       "      <th>7468</th>\n",
       "      <td>2024-09-19</td>\n",
       "      <td>Utilities</td>\n",
       "      <td>14432.055182</td>\n",
       "      <td>9856.655320</td>\n",
       "      <td>2464.163830</td>\n",
       "    </tr>\n",
       "  </tbody>\n",
       "</table>\n",
       "<p>7469 rows × 5 columns</p>\n",
       "</div>"
      ],
      "text/plain": [
       "asset_class       date                  sector        stocks         bonds  \\\n",
       "0           2022-01-03  Communication Services   4545.454545   3636.363636   \n",
       "1           2022-01-03  Consumer Discretionary   4545.454545   3636.363636   \n",
       "2           2022-01-03        Consumer Staples   4545.454545   3636.363636   \n",
       "3           2022-01-03                  Energy   4545.454545   3636.363636   \n",
       "4           2022-01-03              Financials   4545.454545   3636.363636   \n",
       "...                ...                     ...           ...           ...   \n",
       "7464        2024-09-19             Industrials   8620.745086   6116.338674   \n",
       "7465        2024-09-19  Information Technology  20308.822105  15509.239509   \n",
       "7466        2024-09-19               Materials  10667.363862   7504.081905   \n",
       "7467        2024-09-19             Real Estate   4965.885596   3398.595345   \n",
       "7468        2024-09-19               Utilities  14432.055182   9856.655320   \n",
       "\n",
       "asset_class      options  \n",
       "0             909.090909  \n",
       "1             909.090909  \n",
       "2             909.090909  \n",
       "3             909.090909  \n",
       "4             909.090909  \n",
       "...                  ...  \n",
       "7464         1544.078267  \n",
       "7465         4050.921372  \n",
       "7466         1886.490610  \n",
       "7467          849.648836  \n",
       "7468         2464.163830  \n",
       "\n",
       "[7469 rows x 5 columns]"
      ]
     },
     "execution_count": 130,
     "metadata": {},
     "output_type": "execute_result"
    }
   ],
   "source": [
    "performance"
   ]
  },
  {
   "cell_type": "code",
   "execution_count": 131,
   "id": "e9fafec9-a71f-40db-90a1-9aaef3149e90",
   "metadata": {},
   "outputs": [
    {
     "data": {
      "image/png": "[encoded data removed]",
      "text/plain": [
       "<Figure size 1000x600 with 1 Axes>"
      ]
     },
     "metadata": {},
     "output_type": "display_data"
    }
   ],
   "source": [
    "plt.figure(figsize=(10, 6))  \n",
    "for sector in performance[\"sector\"].unique():\n",
    "    sector_perf = performance[performance[\"sector\"]==sector]\n",
    "    plt.plot(sector_perf[\"date\"].values,sector_perf[\"stocks\"].values)\n",
    "    # plt.legend(performance[\"sector\"].unique())\n",
    "plt.show()"
   ]
  },
  {
   "cell_type": "code",
   "execution_count": 132,
   "id": "2e84c5d3-0b09-42ef-aa7f-ede7939ede72",
   "metadata": {},
   "outputs": [
    {
     "data": {
      "image/png": "[encoded data removed]",
      "text/plain": [
       "<Figure size 1000x600 with 1 Axes>"
      ]
     },
     "metadata": {},
     "output_type": "display_data"
    }
   ],
   "source": [
    "performance = performance.groupby([\"date\"]).agg({\"stocks\":\"sum\",\"bonds\":\"sum\",\"options\":\"sum\"}).reset_index()\n",
    "plt.figure(figsize=(10, 6)) \n",
    "plt.plot(performance[\"date\"].values,performance[\"stocks\"].values)\n",
    "plt.plot(performance[\"date\"].values,performance[\"bonds\"].values)\n",
    "plt.plot(performance[\"date\"].values,performance[\"options\"].values)\n",
    "plt.show()"
   ]
  },
  {
   "cell_type": "code",
   "execution_count": 133,
   "id": "166410b7-e9c2-4af1-b174-56e3e32cb643",
   "metadata": {},
   "outputs": [],
   "source": [
    "visualization = performance.merge(spy,on=\"date\",how=\"left\")\n",
    "visualization = visualization.merge(market_yield[[\"date\",\"rf\"]],on=\"date\",how=\"left\")"
   ]
  },
  {
   "cell_type": "code",
   "execution_count": 134,
   "id": "0dc1caa2-97b6-46eb-9cf5-90f2215b06bd",
   "metadata": {},
   "outputs": [],
   "source": [
    "visualization[\"pv\"] = visualization[\"stocks\"] + visualization[\"bonds\"] + visualization[\"options\"]\n",
    "visualization[\"return\"] = (visualization[\"pv\"] - visualization[\"pv\"].iloc[0]) / visualization[\"pv\"].iloc[0]\n",
    "visualization[\"benchmark_return\"] = (visualization[\"spy\"] - visualization[\"spy\"].iloc[0]) / visualization[\"spy\"].iloc[0]\n",
    "visualization[\"ir_return\"] = (visualization[\"rf\"] - visualization[\"rf\"].iloc[0]) / visualization[\"rf\"].iloc[0]"
   ]
  },
  {
   "cell_type": "code",
   "execution_count": 135,
   "id": "b8b79695-e2ef-4933-aaa0-6cb12ea34557",
   "metadata": {},
   "outputs": [
    {
     "data": {
      "image/png": "[encoded data removed]",
      "text/plain": [
       "<Figure size 1000x600 with 1 Axes>"
      ]
     },
     "metadata": {},
     "output_type": "display_data"
    }
   ],
   "source": [
    "# Set the figure size\n",
    "plt.figure(figsize=(10, 6))  # Adjust the width and height as needed\n",
    "\n",
    "# Plot the data\n",
    "plt.plot(visualization[\"date\"].values, visualization[\"return\"], label=\"Return\")\n",
    "plt.plot(visualization[\"date\"].values, visualization[\"benchmark_return\"], label=\"Benchmark Return\")\n",
    "plt.plot(visualization[\"date\"].values, visualization[\"ir_return\"], label=\"IR Return\")\n",
    "\n",
    "# Add labels and legend\n",
    "plt.xlabel(\"Date\")\n",
    "plt.ylabel(\"Return\")\n",
    "plt.title(\"Return vs. Benchmark Return\")\n",
    "plt.legend()\n",
    "\n",
    "# Show the plot\n",
    "plt.show()\n"
   ]
  },
  {
   "cell_type": "code",
   "execution_count": 136,
   "id": "8b18fb83-929c-4408-af26-911baad6bef4",
   "metadata": {},
   "outputs": [
    {
     "data": {
      "text/plain": [
       "2.570778637645673"
      ]
     },
     "execution_count": 136,
     "metadata": {},
     "output_type": "execute_result"
    }
   ],
   "source": [
    "(visualization[\"return\"].iloc[-1] - visualization[\"benchmark_return\"].iloc[-1]) / visualization[\"return\"].std()"
   ]
  },
  {
   "cell_type": "code",
   "execution_count": 137,
   "id": "121aa44a-423b-4293-8862-5170fa7250cc",
   "metadata": {},
   "outputs": [],
   "source": [
    "t = pd.DataFrame(trades).merge(sp500[[\"ticker\",\"GICS Sector\"]],on=\"ticker\",how=\"left\")\n",
    "t[\"return\"] = (t[\"adjclose\"] - t[\"buy_price\"]) / t[\"buy_price\"]\n",
    "t[\"hpr\"] = t[\"sell_date\"] - t[\"buy_date\"]\n",
    "t[\"hpr\"] = [int(x.days) for x in t[\"hpr\"]]"
   ]
  },
  {
   "cell_type": "code",
   "execution_count": 138,
   "id": "893d2e19-24d5-4d58-a447-d46a689051e3",
   "metadata": {},
   "outputs": [
    {
     "data": {
      "text/html": [
       "<div>\n",
       "<style scoped>\n",
       "    .dataframe tbody tr th:only-of-type {\n",
       "        vertical-align: middle;\n",
       "    }\n",
       "\n",
       "    .dataframe tbody tr th {\n",
       "        vertical-align: top;\n",
       "    }\n",
       "\n",
       "    .dataframe thead th {\n",
       "        text-align: right;\n",
       "    }\n",
       "</style>\n",
       "<table border=\"1\" class=\"dataframe\">\n",
       "  <thead>\n",
       "    <tr style=\"text-align: right;\">\n",
       "      <th></th>\n",
       "      <th>ticker</th>\n",
       "      <th>adjclose</th>\n",
       "      <th>quantity</th>\n",
       "      <th>excess_return</th>\n",
       "      <th>buy_price</th>\n",
       "      <th>buy_date</th>\n",
       "      <th>sell_date</th>\n",
       "      <th>pv</th>\n",
       "      <th>sector</th>\n",
       "      <th>strike_price</th>\n",
       "      <th>premium</th>\n",
       "      <th>contract_price</th>\n",
       "      <th>notional</th>\n",
       "      <th>return</th>\n",
       "      <th>rate</th>\n",
       "      <th>GICS Sector</th>\n",
       "      <th>hpr</th>\n",
       "    </tr>\n",
       "  </thead>\n",
       "  <tbody>\n",
       "    <tr>\n",
       "      <th>270</th>\n",
       "      <td>SMCI</td>\n",
       "      <td>1015.570000</td>\n",
       "      <td>26.085982</td>\n",
       "      <td>0.050777</td>\n",
       "      <td>280.640000</td>\n",
       "      <td>2024-01-03</td>\n",
       "      <td>2024-04-03</td>\n",
       "      <td>26492.140630</td>\n",
       "      <td>Information Technology</td>\n",
       "      <td>NaN</td>\n",
       "      <td>NaN</td>\n",
       "      <td>NaN</td>\n",
       "      <td>NaN</td>\n",
       "      <td>2.618764</td>\n",
       "      <td>NaN</td>\n",
       "      <td>Information Technology</td>\n",
       "      <td>91</td>\n",
       "    </tr>\n",
       "    <tr>\n",
       "      <th>150</th>\n",
       "      <td>TSLA</td>\n",
       "      <td>192.580000</td>\n",
       "      <td>51.424547</td>\n",
       "      <td>-0.697669</td>\n",
       "      <td>108.100000</td>\n",
       "      <td>2023-01-03</td>\n",
       "      <td>2023-04-04</td>\n",
       "      <td>9903.339196</td>\n",
       "      <td>Consumer Discretionary</td>\n",
       "      <td>NaN</td>\n",
       "      <td>NaN</td>\n",
       "      <td>NaN</td>\n",
       "      <td>NaN</td>\n",
       "      <td>0.781499</td>\n",
       "      <td>NaN</td>\n",
       "      <td>Consumer Discretionary</td>\n",
       "      <td>91</td>\n",
       "    </tr>\n",
       "    <tr>\n",
       "      <th>273</th>\n",
       "      <td>CEG</td>\n",
       "      <td>189.599887</td>\n",
       "      <td>76.634524</td>\n",
       "      <td>-0.236210</td>\n",
       "      <td>115.221884</td>\n",
       "      <td>2024-01-03</td>\n",
       "      <td>2024-04-03</td>\n",
       "      <td>14529.896976</td>\n",
       "      <td>Utilities</td>\n",
       "      <td>NaN</td>\n",
       "      <td>NaN</td>\n",
       "      <td>NaN</td>\n",
       "      <td>NaN</td>\n",
       "      <td>0.645520</td>\n",
       "      <td>NaN</td>\n",
       "      <td>Utilities</td>\n",
       "      <td>91</td>\n",
       "    </tr>\n",
       "    <tr>\n",
       "      <th>156</th>\n",
       "      <td>WBD</td>\n",
       "      <td>15.150000</td>\n",
       "      <td>553.532610</td>\n",
       "      <td>0.180173</td>\n",
       "      <td>9.540000</td>\n",
       "      <td>2023-01-03</td>\n",
       "      <td>2023-04-04</td>\n",
       "      <td>8386.019048</td>\n",
       "      <td>Communication Services</td>\n",
       "      <td>NaN</td>\n",
       "      <td>NaN</td>\n",
       "      <td>NaN</td>\n",
       "      <td>NaN</td>\n",
       "      <td>0.588050</td>\n",
       "      <td>NaN</td>\n",
       "      <td>Communication Services</td>\n",
       "      <td>91</td>\n",
       "    </tr>\n",
       "    <tr>\n",
       "      <th>171</th>\n",
       "      <td>NVDA</td>\n",
       "      <td>42.299278</td>\n",
       "      <td>168.595810</td>\n",
       "      <td>-0.508200</td>\n",
       "      <td>27.438574</td>\n",
       "      <td>2023-04-04</td>\n",
       "      <td>2023-07-05</td>\n",
       "      <td>7131.480984</td>\n",
       "      <td>Information Technology</td>\n",
       "      <td>NaN</td>\n",
       "      <td>NaN</td>\n",
       "      <td>NaN</td>\n",
       "      <td>NaN</td>\n",
       "      <td>0.541599</td>\n",
       "      <td>NaN</td>\n",
       "      <td>Information Technology</td>\n",
       "      <td>92</td>\n",
       "    </tr>\n",
       "    <tr>\n",
       "      <th>237</th>\n",
       "      <td>CRWD</td>\n",
       "      <td>244.360000</td>\n",
       "      <td>35.850101</td>\n",
       "      <td>-1.848967</td>\n",
       "      <td>164.050000</td>\n",
       "      <td>2023-10-04</td>\n",
       "      <td>2024-01-03</td>\n",
       "      <td>8760.330780</td>\n",
       "      <td>Information Technology</td>\n",
       "      <td>NaN</td>\n",
       "      <td>NaN</td>\n",
       "      <td>NaN</td>\n",
       "      <td>NaN</td>\n",
       "      <td>0.489546</td>\n",
       "      <td>NaN</td>\n",
       "      <td>Information Technology</td>\n",
       "      <td>91</td>\n",
       "    </tr>\n",
       "    <tr>\n",
       "      <th>288</th>\n",
       "      <td>META</td>\n",
       "      <td>505.763738</td>\n",
       "      <td>25.606810</td>\n",
       "      <td>0.417673</td>\n",
       "      <td>343.439461</td>\n",
       "      <td>2024-01-03</td>\n",
       "      <td>2024-04-03</td>\n",
       "      <td>12950.996028</td>\n",
       "      <td>Communication Services</td>\n",
       "      <td>NaN</td>\n",
       "      <td>NaN</td>\n",
       "      <td>NaN</td>\n",
       "      <td>NaN</td>\n",
       "      <td>0.472643</td>\n",
       "      <td>NaN</td>\n",
       "      <td>Communication Services</td>\n",
       "      <td>91</td>\n",
       "    </tr>\n",
       "    <tr>\n",
       "      <th>240</th>\n",
       "      <td>AES</td>\n",
       "      <td>18.380369</td>\n",
       "      <td>568.648965</td>\n",
       "      <td>0.303687</td>\n",
       "      <td>12.675606</td>\n",
       "      <td>2023-10-04</td>\n",
       "      <td>2024-01-03</td>\n",
       "      <td>10451.978003</td>\n",
       "      <td>Utilities</td>\n",
       "      <td>NaN</td>\n",
       "      <td>NaN</td>\n",
       "      <td>NaN</td>\n",
       "      <td>NaN</td>\n",
       "      <td>0.450058</td>\n",
       "      <td>NaN</td>\n",
       "      <td>Utilities</td>\n",
       "      <td>91</td>\n",
       "    </tr>\n",
       "    <tr>\n",
       "      <th>75</th>\n",
       "      <td>PCG</td>\n",
       "      <td>14.165571</td>\n",
       "      <td>498.235727</td>\n",
       "      <td>-0.335498</td>\n",
       "      <td>9.823060</td>\n",
       "      <td>2022-07-05</td>\n",
       "      <td>2022-10-04</td>\n",
       "      <td>7057.793785</td>\n",
       "      <td>Utilities</td>\n",
       "      <td>NaN</td>\n",
       "      <td>NaN</td>\n",
       "      <td>NaN</td>\n",
       "      <td>NaN</td>\n",
       "      <td>0.442073</td>\n",
       "      <td>NaN</td>\n",
       "      <td>Utilities</td>\n",
       "      <td>91</td>\n",
       "    </tr>\n",
       "    <tr>\n",
       "      <th>30</th>\n",
       "      <td>HES</td>\n",
       "      <td>106.340170</td>\n",
       "      <td>61.311155</td>\n",
       "      <td>-0.069739</td>\n",
       "      <td>74.137480</td>\n",
       "      <td>2022-01-03</td>\n",
       "      <td>2022-04-04</td>\n",
       "      <td>6519.838696</td>\n",
       "      <td>Energy</td>\n",
       "      <td>NaN</td>\n",
       "      <td>NaN</td>\n",
       "      <td>NaN</td>\n",
       "      <td>NaN</td>\n",
       "      <td>0.434365</td>\n",
       "      <td>NaN</td>\n",
       "      <td>Energy</td>\n",
       "      <td>91</td>\n",
       "    </tr>\n",
       "    <tr>\n",
       "      <th>138</th>\n",
       "      <td>PANW</td>\n",
       "      <td>196.560000</td>\n",
       "      <td>27.617257</td>\n",
       "      <td>-1.196756</td>\n",
       "      <td>138.450000</td>\n",
       "      <td>2023-01-03</td>\n",
       "      <td>2023-04-04</td>\n",
       "      <td>5428.448003</td>\n",
       "      <td>Information Technology</td>\n",
       "      <td>NaN</td>\n",
       "      <td>NaN</td>\n",
       "      <td>NaN</td>\n",
       "      <td>NaN</td>\n",
       "      <td>0.419718</td>\n",
       "      <td>NaN</td>\n",
       "      <td>Information Technology</td>\n",
       "      <td>91</td>\n",
       "    </tr>\n",
       "    <tr>\n",
       "      <th>81</th>\n",
       "      <td>ALB</td>\n",
       "      <td>277.621399</td>\n",
       "      <td>28.808718</td>\n",
       "      <td>0.037881</td>\n",
       "      <td>195.810533</td>\n",
       "      <td>2022-07-05</td>\n",
       "      <td>2022-10-04</td>\n",
       "      <td>7997.916489</td>\n",
       "      <td>Materials</td>\n",
       "      <td>NaN</td>\n",
       "      <td>NaN</td>\n",
       "      <td>NaN</td>\n",
       "      <td>NaN</td>\n",
       "      <td>0.417806</td>\n",
       "      <td>NaN</td>\n",
       "      <td>Materials</td>\n",
       "      <td>91</td>\n",
       "    </tr>\n",
       "    <tr>\n",
       "      <th>99</th>\n",
       "      <td>AXON</td>\n",
       "      <td>168.240000</td>\n",
       "      <td>38.306321</td>\n",
       "      <td>-0.785719</td>\n",
       "      <td>120.950000</td>\n",
       "      <td>2022-10-04</td>\n",
       "      <td>2023-01-03</td>\n",
       "      <td>6444.655452</td>\n",
       "      <td>Industrials</td>\n",
       "      <td>NaN</td>\n",
       "      <td>NaN</td>\n",
       "      <td>NaN</td>\n",
       "      <td>NaN</td>\n",
       "      <td>0.390988</td>\n",
       "      <td>NaN</td>\n",
       "      <td>Industrials</td>\n",
       "      <td>91</td>\n",
       "    </tr>\n",
       "    <tr>\n",
       "      <th>135</th>\n",
       "      <td>CTLT</td>\n",
       "      <td>62.250000</td>\n",
       "      <td>116.195364</td>\n",
       "      <td>0.351993</td>\n",
       "      <td>45.450000</td>\n",
       "      <td>2023-01-03</td>\n",
       "      <td>2023-04-04</td>\n",
       "      <td>7233.161407</td>\n",
       "      <td>Health Care</td>\n",
       "      <td>NaN</td>\n",
       "      <td>NaN</td>\n",
       "      <td>NaN</td>\n",
       "      <td>NaN</td>\n",
       "      <td>0.369637</td>\n",
       "      <td>NaN</td>\n",
       "      <td>Health Care</td>\n",
       "      <td>91</td>\n",
       "    </tr>\n",
       "    <tr>\n",
       "      <th>15</th>\n",
       "      <td>STLD</td>\n",
       "      <td>80.704200</td>\n",
       "      <td>76.673587</td>\n",
       "      <td>0.001819</td>\n",
       "      <td>59.283186</td>\n",
       "      <td>2022-01-03</td>\n",
       "      <td>2022-04-04</td>\n",
       "      <td>6187.880562</td>\n",
       "      <td>Materials</td>\n",
       "      <td>NaN</td>\n",
       "      <td>NaN</td>\n",
       "      <td>NaN</td>\n",
       "      <td>NaN</td>\n",
       "      <td>0.361334</td>\n",
       "      <td>NaN</td>\n",
       "      <td>Materials</td>\n",
       "      <td>91</td>\n",
       "    </tr>\n",
       "    <tr>\n",
       "      <th>189</th>\n",
       "      <td>LYV</td>\n",
       "      <td>92.720000</td>\n",
       "      <td>98.477592</td>\n",
       "      <td>-0.055836</td>\n",
       "      <td>69.390000</td>\n",
       "      <td>2023-04-04</td>\n",
       "      <td>2023-07-05</td>\n",
       "      <td>9130.842286</td>\n",
       "      <td>Communication Services</td>\n",
       "      <td>NaN</td>\n",
       "      <td>NaN</td>\n",
       "      <td>NaN</td>\n",
       "      <td>NaN</td>\n",
       "      <td>0.336216</td>\n",
       "      <td>NaN</td>\n",
       "      <td>Communication Services</td>\n",
       "      <td>92</td>\n",
       "    </tr>\n",
       "    <tr>\n",
       "      <th>294</th>\n",
       "      <td>TRGP</td>\n",
       "      <td>114.626901</td>\n",
       "      <td>85.636013</td>\n",
       "      <td>-0.043811</td>\n",
       "      <td>86.216031</td>\n",
       "      <td>2024-01-03</td>\n",
       "      <td>2024-04-03</td>\n",
       "      <td>9816.190762</td>\n",
       "      <td>Energy</td>\n",
       "      <td>NaN</td>\n",
       "      <td>NaN</td>\n",
       "      <td>NaN</td>\n",
       "      <td>NaN</td>\n",
       "      <td>0.329531</td>\n",
       "      <td>NaN</td>\n",
       "      <td>Energy</td>\n",
       "      <td>91</td>\n",
       "    </tr>\n",
       "    <tr>\n",
       "      <th>249</th>\n",
       "      <td>DECK</td>\n",
       "      <td>113.056667</td>\n",
       "      <td>109.637678</td>\n",
       "      <td>-0.323401</td>\n",
       "      <td>85.146667</td>\n",
       "      <td>2023-10-04</td>\n",
       "      <td>2024-01-03</td>\n",
       "      <td>12395.270380</td>\n",
       "      <td>Consumer Discretionary</td>\n",
       "      <td>NaN</td>\n",
       "      <td>NaN</td>\n",
       "      <td>NaN</td>\n",
       "      <td>NaN</td>\n",
       "      <td>0.327787</td>\n",
       "      <td>NaN</td>\n",
       "      <td>Consumer Discretionary</td>\n",
       "      <td>91</td>\n",
       "    </tr>\n",
       "    <tr>\n",
       "      <th>183</th>\n",
       "      <td>PHM</td>\n",
       "      <td>76.421664</td>\n",
       "      <td>133.837632</td>\n",
       "      <td>-0.105941</td>\n",
       "      <td>57.765266</td>\n",
       "      <td>2023-04-04</td>\n",
       "      <td>2023-07-05</td>\n",
       "      <td>10228.094527</td>\n",
       "      <td>Consumer Discretionary</td>\n",
       "      <td>NaN</td>\n",
       "      <td>NaN</td>\n",
       "      <td>NaN</td>\n",
       "      <td>NaN</td>\n",
       "      <td>0.322969</td>\n",
       "      <td>NaN</td>\n",
       "      <td>Consumer Discretionary</td>\n",
       "      <td>92</td>\n",
       "    </tr>\n",
       "    <tr>\n",
       "      <th>303</th>\n",
       "      <td>MPWR</td>\n",
       "      <td>839.220000</td>\n",
       "      <td>26.055913</td>\n",
       "      <td>-7.544984</td>\n",
       "      <td>648.852917</td>\n",
       "      <td>2024-04-03</td>\n",
       "      <td>2024-07-03</td>\n",
       "      <td>21866.643479</td>\n",
       "      <td>Information Technology</td>\n",
       "      <td>NaN</td>\n",
       "      <td>NaN</td>\n",
       "      <td>NaN</td>\n",
       "      <td>NaN</td>\n",
       "      <td>0.293390</td>\n",
       "      <td>NaN</td>\n",
       "      <td>Information Technology</td>\n",
       "      <td>91</td>\n",
       "    </tr>\n",
       "    <tr>\n",
       "      <th>234</th>\n",
       "      <td>PODD</td>\n",
       "      <td>194.660000</td>\n",
       "      <td>38.245659</td>\n",
       "      <td>0.082909</td>\n",
       "      <td>152.070000</td>\n",
       "      <td>2023-10-04</td>\n",
       "      <td>2024-01-03</td>\n",
       "      <td>7444.900012</td>\n",
       "      <td>Health Care</td>\n",
       "      <td>NaN</td>\n",
       "      <td>NaN</td>\n",
       "      <td>NaN</td>\n",
       "      <td>NaN</td>\n",
       "      <td>0.280068</td>\n",
       "      <td>NaN</td>\n",
       "      <td>Health Care</td>\n",
       "      <td>91</td>\n",
       "    </tr>\n",
       "    <tr>\n",
       "      <th>66</th>\n",
       "      <td>AXON</td>\n",
       "      <td>120.950000</td>\n",
       "      <td>42.780697</td>\n",
       "      <td>-0.977960</td>\n",
       "      <td>95.650000</td>\n",
       "      <td>2022-07-05</td>\n",
       "      <td>2022-10-04</td>\n",
       "      <td>5174.325352</td>\n",
       "      <td>Industrials</td>\n",
       "      <td>NaN</td>\n",
       "      <td>NaN</td>\n",
       "      <td>NaN</td>\n",
       "      <td>NaN</td>\n",
       "      <td>0.264506</td>\n",
       "      <td>NaN</td>\n",
       "      <td>Industrials</td>\n",
       "      <td>91</td>\n",
       "    </tr>\n",
       "    <tr>\n",
       "      <th>96</th>\n",
       "      <td>MRO</td>\n",
       "      <td>25.667139</td>\n",
       "      <td>271.481914</td>\n",
       "      <td>1.200429</td>\n",
       "      <td>20.395126</td>\n",
       "      <td>2022-07-05</td>\n",
       "      <td>2022-10-04</td>\n",
       "      <td>6968.164139</td>\n",
       "      <td>Energy</td>\n",
       "      <td>NaN</td>\n",
       "      <td>NaN</td>\n",
       "      <td>NaN</td>\n",
       "      <td>NaN</td>\n",
       "      <td>0.258494</td>\n",
       "      <td>NaN</td>\n",
       "      <td>Energy</td>\n",
       "      <td>91</td>\n",
       "    </tr>\n",
       "    <tr>\n",
       "      <th>195</th>\n",
       "      <td>EQT</td>\n",
       "      <td>39.562286</td>\n",
       "      <td>198.464623</td>\n",
       "      <td>-0.476947</td>\n",
       "      <td>31.659576</td>\n",
       "      <td>2023-04-04</td>\n",
       "      <td>2023-07-05</td>\n",
       "      <td>7851.714142</td>\n",
       "      <td>Energy</td>\n",
       "      <td>NaN</td>\n",
       "      <td>NaN</td>\n",
       "      <td>NaN</td>\n",
       "      <td>NaN</td>\n",
       "      <td>0.249615</td>\n",
       "      <td>NaN</td>\n",
       "      <td>Energy</td>\n",
       "      <td>92</td>\n",
       "    </tr>\n",
       "    <tr>\n",
       "      <th>84</th>\n",
       "      <td>ETSY</td>\n",
       "      <td>110.200000</td>\n",
       "      <td>52.507750</td>\n",
       "      <td>-0.097719</td>\n",
       "      <td>88.240000</td>\n",
       "      <td>2022-07-05</td>\n",
       "      <td>2022-10-04</td>\n",
       "      <td>5786.354040</td>\n",
       "      <td>Consumer Discretionary</td>\n",
       "      <td>NaN</td>\n",
       "      <td>NaN</td>\n",
       "      <td>NaN</td>\n",
       "      <td>NaN</td>\n",
       "      <td>0.248867</td>\n",
       "      <td>NaN</td>\n",
       "      <td>Consumer Discretionary</td>\n",
       "      <td>91</td>\n",
       "    </tr>\n",
       "    <tr>\n",
       "      <th>264</th>\n",
       "      <td>GWW</td>\n",
       "      <td>1002.410052</td>\n",
       "      <td>8.761952</td>\n",
       "      <td>0.682224</td>\n",
       "      <td>803.943495</td>\n",
       "      <td>2024-01-03</td>\n",
       "      <td>2024-04-03</td>\n",
       "      <td>8783.069189</td>\n",
       "      <td>Industrials</td>\n",
       "      <td>NaN</td>\n",
       "      <td>NaN</td>\n",
       "      <td>NaN</td>\n",
       "      <td>NaN</td>\n",
       "      <td>0.246866</td>\n",
       "      <td>NaN</td>\n",
       "      <td>Industrials</td>\n",
       "      <td>91</td>\n",
       "    </tr>\n",
       "    <tr>\n",
       "      <th>132</th>\n",
       "      <td>UBER</td>\n",
       "      <td>31.390000</td>\n",
       "      <td>218.410981</td>\n",
       "      <td>0.064897</td>\n",
       "      <td>25.360000</td>\n",
       "      <td>2023-01-03</td>\n",
       "      <td>2023-04-04</td>\n",
       "      <td>6855.920709</td>\n",
       "      <td>Industrials</td>\n",
       "      <td>NaN</td>\n",
       "      <td>NaN</td>\n",
       "      <td>NaN</td>\n",
       "      <td>NaN</td>\n",
       "      <td>0.237776</td>\n",
       "      <td>NaN</td>\n",
       "      <td>Industrials</td>\n",
       "      <td>91</td>\n",
       "    </tr>\n",
       "    <tr>\n",
       "      <th>282</th>\n",
       "      <td>ORLY</td>\n",
       "      <td>1132.950000</td>\n",
       "      <td>11.513364</td>\n",
       "      <td>3.465819</td>\n",
       "      <td>943.710000</td>\n",
       "      <td>2024-01-03</td>\n",
       "      <td>2024-04-03</td>\n",
       "      <td>13044.065560</td>\n",
       "      <td>Consumer Discretionary</td>\n",
       "      <td>NaN</td>\n",
       "      <td>NaN</td>\n",
       "      <td>NaN</td>\n",
       "      <td>NaN</td>\n",
       "      <td>0.200528</td>\n",
       "      <td>NaN</td>\n",
       "      <td>Consumer Discretionary</td>\n",
       "      <td>91</td>\n",
       "    </tr>\n",
       "    <tr>\n",
       "      <th>102</th>\n",
       "      <td>WAT</td>\n",
       "      <td>345.590000</td>\n",
       "      <td>16.665076</td>\n",
       "      <td>-0.228124</td>\n",
       "      <td>288.200000</td>\n",
       "      <td>2022-10-04</td>\n",
       "      <td>2023-01-03</td>\n",
       "      <td>5759.283651</td>\n",
       "      <td>Health Care</td>\n",
       "      <td>NaN</td>\n",
       "      <td>NaN</td>\n",
       "      <td>NaN</td>\n",
       "      <td>NaN</td>\n",
       "      <td>0.199133</td>\n",
       "      <td>NaN</td>\n",
       "      <td>Health Care</td>\n",
       "      <td>91</td>\n",
       "    </tr>\n",
       "    <tr>\n",
       "      <th>255</th>\n",
       "      <td>T</td>\n",
       "      <td>16.435224</td>\n",
       "      <td>583.450224</td>\n",
       "      <td>-0.379976</td>\n",
       "      <td>13.710926</td>\n",
       "      <td>2023-10-04</td>\n",
       "      <td>2024-01-03</td>\n",
       "      <td>9589.135192</td>\n",
       "      <td>Communication Services</td>\n",
       "      <td>NaN</td>\n",
       "      <td>NaN</td>\n",
       "      <td>NaN</td>\n",
       "      <td>NaN</td>\n",
       "      <td>0.198695</td>\n",
       "      <td>NaN</td>\n",
       "      <td>Communication Services</td>\n",
       "      <td>91</td>\n",
       "    </tr>\n",
       "  </tbody>\n",
       "</table>\n",
       "</div>"
      ],
      "text/plain": [
       "    ticker     adjclose    quantity  excess_return   buy_price   buy_date  \\\n",
       "270   SMCI  1015.570000   26.085982       0.050777  280.640000 2024-01-03   \n",
       "150   TSLA   192.580000   51.424547      -0.697669  108.100000 2023-01-03   \n",
       "273    CEG   189.599887   76.634524      -0.236210  115.221884 2024-01-03   \n",
       "156    WBD    15.150000  553.532610       0.180173    9.540000 2023-01-03   \n",
       "171   NVDA    42.299278  168.595810      -0.508200   27.438574 2023-04-04   \n",
       "237   CRWD   244.360000   35.850101      -1.848967  164.050000 2023-10-04   \n",
       "288   META   505.763738   25.606810       0.417673  343.439461 2024-01-03   \n",
       "240    AES    18.380369  568.648965       0.303687   12.675606 2023-10-04   \n",
       "75     PCG    14.165571  498.235727      -0.335498    9.823060 2022-07-05   \n",
       "30     HES   106.340170   61.311155      -0.069739   74.137480 2022-01-03   \n",
       "138   PANW   196.560000   27.617257      -1.196756  138.450000 2023-01-03   \n",
       "81     ALB   277.621399   28.808718       0.037881  195.810533 2022-07-05   \n",
       "99    AXON   168.240000   38.306321      -0.785719  120.950000 2022-10-04   \n",
       "135   CTLT    62.250000  116.195364       0.351993   45.450000 2023-01-03   \n",
       "15    STLD    80.704200   76.673587       0.001819   59.283186 2022-01-03   \n",
       "189    LYV    92.720000   98.477592      -0.055836   69.390000 2023-04-04   \n",
       "294   TRGP   114.626901   85.636013      -0.043811   86.216031 2024-01-03   \n",
       "249   DECK   113.056667  109.637678      -0.323401   85.146667 2023-10-04   \n",
       "183    PHM    76.421664  133.837632      -0.105941   57.765266 2023-04-04   \n",
       "303   MPWR   839.220000   26.055913      -7.544984  648.852917 2024-04-03   \n",
       "234   PODD   194.660000   38.245659       0.082909  152.070000 2023-10-04   \n",
       "66    AXON   120.950000   42.780697      -0.977960   95.650000 2022-07-05   \n",
       "96     MRO    25.667139  271.481914       1.200429   20.395126 2022-07-05   \n",
       "195    EQT    39.562286  198.464623      -0.476947   31.659576 2023-04-04   \n",
       "84    ETSY   110.200000   52.507750      -0.097719   88.240000 2022-07-05   \n",
       "264    GWW  1002.410052    8.761952       0.682224  803.943495 2024-01-03   \n",
       "132   UBER    31.390000  218.410981       0.064897   25.360000 2023-01-03   \n",
       "282   ORLY  1132.950000   11.513364       3.465819  943.710000 2024-01-03   \n",
       "102    WAT   345.590000   16.665076      -0.228124  288.200000 2022-10-04   \n",
       "255      T    16.435224  583.450224      -0.379976   13.710926 2023-10-04   \n",
       "\n",
       "     sell_date            pv                  sector  strike_price  premium  \\\n",
       "270 2024-04-03  26492.140630  Information Technology           NaN      NaN   \n",
       "150 2023-04-04   9903.339196  Consumer Discretionary           NaN      NaN   \n",
       "273 2024-04-03  14529.896976               Utilities           NaN      NaN   \n",
       "156 2023-04-04   8386.019048  Communication Services           NaN      NaN   \n",
       "171 2023-07-05   7131.480984  Information Technology           NaN      NaN   \n",
       "237 2024-01-03   8760.330780  Information Technology           NaN      NaN   \n",
       "288 2024-04-03  12950.996028  Communication Services           NaN      NaN   \n",
       "240 2024-01-03  10451.978003               Utilities           NaN      NaN   \n",
       "75  2022-10-04   7057.793785               Utilities           NaN      NaN   \n",
       "30  2022-04-04   6519.838696                  Energy           NaN      NaN   \n",
       "138 2023-04-04   5428.448003  Information Technology           NaN      NaN   \n",
       "81  2022-10-04   7997.916489               Materials           NaN      NaN   \n",
       "99  2023-01-03   6444.655452             Industrials           NaN      NaN   \n",
       "135 2023-04-04   7233.161407             Health Care           NaN      NaN   \n",
       "15  2022-04-04   6187.880562               Materials           NaN      NaN   \n",
       "189 2023-07-05   9130.842286  Communication Services           NaN      NaN   \n",
       "294 2024-04-03   9816.190762                  Energy           NaN      NaN   \n",
       "249 2024-01-03  12395.270380  Consumer Discretionary           NaN      NaN   \n",
       "183 2023-07-05  10228.094527  Consumer Discretionary           NaN      NaN   \n",
       "303 2024-07-03  21866.643479  Information Technology           NaN      NaN   \n",
       "234 2024-01-03   7444.900012             Health Care           NaN      NaN   \n",
       "66  2022-10-04   5174.325352             Industrials           NaN      NaN   \n",
       "96  2022-10-04   6968.164139                  Energy           NaN      NaN   \n",
       "195 2023-07-05   7851.714142                  Energy           NaN      NaN   \n",
       "84  2022-10-04   5786.354040  Consumer Discretionary           NaN      NaN   \n",
       "264 2024-04-03   8783.069189             Industrials           NaN      NaN   \n",
       "132 2023-04-04   6855.920709             Industrials           NaN      NaN   \n",
       "282 2024-04-03  13044.065560  Consumer Discretionary           NaN      NaN   \n",
       "102 2023-01-03   5759.283651             Health Care           NaN      NaN   \n",
       "255 2024-01-03   9589.135192  Communication Services           NaN      NaN   \n",
       "\n",
       "     contract_price  notional    return  rate             GICS Sector  hpr  \n",
       "270             NaN       NaN  2.618764   NaN  Information Technology   91  \n",
       "150             NaN       NaN  0.781499   NaN  Consumer Discretionary   91  \n",
       "273             NaN       NaN  0.645520   NaN               Utilities   91  \n",
       "156             NaN       NaN  0.588050   NaN  Communication Services   91  \n",
       "171             NaN       NaN  0.541599   NaN  Information Technology   92  \n",
       "237             NaN       NaN  0.489546   NaN  Information Technology   91  \n",
       "288             NaN       NaN  0.472643   NaN  Communication Services   91  \n",
       "240             NaN       NaN  0.450058   NaN               Utilities   91  \n",
       "75              NaN       NaN  0.442073   NaN               Utilities   91  \n",
       "30              NaN       NaN  0.434365   NaN                  Energy   91  \n",
       "138             NaN       NaN  0.419718   NaN  Information Technology   91  \n",
       "81              NaN       NaN  0.417806   NaN               Materials   91  \n",
       "99              NaN       NaN  0.390988   NaN             Industrials   91  \n",
       "135             NaN       NaN  0.369637   NaN             Health Care   91  \n",
       "15              NaN       NaN  0.361334   NaN               Materials   91  \n",
       "189             NaN       NaN  0.336216   NaN  Communication Services   92  \n",
       "294             NaN       NaN  0.329531   NaN                  Energy   91  \n",
       "249             NaN       NaN  0.327787   NaN  Consumer Discretionary   91  \n",
       "183             NaN       NaN  0.322969   NaN  Consumer Discretionary   92  \n",
       "303             NaN       NaN  0.293390   NaN  Information Technology   91  \n",
       "234             NaN       NaN  0.280068   NaN             Health Care   91  \n",
       "66              NaN       NaN  0.264506   NaN             Industrials   91  \n",
       "96              NaN       NaN  0.258494   NaN                  Energy   91  \n",
       "195             NaN       NaN  0.249615   NaN                  Energy   92  \n",
       "84              NaN       NaN  0.248867   NaN  Consumer Discretionary   91  \n",
       "264             NaN       NaN  0.246866   NaN             Industrials   91  \n",
       "132             NaN       NaN  0.237776   NaN             Industrials   91  \n",
       "282             NaN       NaN  0.200528   NaN  Consumer Discretionary   91  \n",
       "102             NaN       NaN  0.199133   NaN             Health Care   91  \n",
       "255             NaN       NaN  0.198695   NaN  Communication Services   91  "
      ]
     },
     "execution_count": 138,
     "metadata": {},
     "output_type": "execute_result"
    }
   ],
   "source": [
    "t.sort_values(\"return\",ascending=False).head(30)"
   ]
  },
  {
   "cell_type": "code",
   "execution_count": 139,
   "id": "7df48b86-02d7-4b4d-b4d2-754f9436238f",
   "metadata": {},
   "outputs": [
    {
     "data": {
      "text/html": [
       "<div>\n",
       "<style scoped>\n",
       "    .dataframe tbody tr th:only-of-type {\n",
       "        vertical-align: middle;\n",
       "    }\n",
       "\n",
       "    .dataframe tbody tr th {\n",
       "        vertical-align: top;\n",
       "    }\n",
       "\n",
       "    .dataframe thead th {\n",
       "        text-align: right;\n",
       "    }\n",
       "</style>\n",
       "<table border=\"1\" class=\"dataframe\">\n",
       "  <thead>\n",
       "    <tr style=\"text-align: right;\">\n",
       "      <th></th>\n",
       "      <th>GICS Sector</th>\n",
       "      <th>return</th>\n",
       "      <th>hpr</th>\n",
       "    </tr>\n",
       "  </thead>\n",
       "  <tbody>\n",
       "    <tr>\n",
       "      <th>9</th>\n",
       "      <td>Real Estate</td>\n",
       "      <td>-0.026924</td>\n",
       "      <td>91.2</td>\n",
       "    </tr>\n",
       "    <tr>\n",
       "      <th>2</th>\n",
       "      <td>Consumer Staples</td>\n",
       "      <td>0.013976</td>\n",
       "      <td>91.2</td>\n",
       "    </tr>\n",
       "    <tr>\n",
       "      <th>4</th>\n",
       "      <td>Financials</td>\n",
       "      <td>0.016280</td>\n",
       "      <td>91.2</td>\n",
       "    </tr>\n",
       "    <tr>\n",
       "      <th>5</th>\n",
       "      <td>Health Care</td>\n",
       "      <td>0.100218</td>\n",
       "      <td>91.2</td>\n",
       "    </tr>\n",
       "    <tr>\n",
       "      <th>6</th>\n",
       "      <td>Industrials</td>\n",
       "      <td>0.103580</td>\n",
       "      <td>91.2</td>\n",
       "    </tr>\n",
       "    <tr>\n",
       "      <th>3</th>\n",
       "      <td>Energy</td>\n",
       "      <td>0.131975</td>\n",
       "      <td>91.2</td>\n",
       "    </tr>\n",
       "    <tr>\n",
       "      <th>8</th>\n",
       "      <td>Materials</td>\n",
       "      <td>0.148985</td>\n",
       "      <td>91.2</td>\n",
       "    </tr>\n",
       "    <tr>\n",
       "      <th>0</th>\n",
       "      <td>Communication Services</td>\n",
       "      <td>0.195048</td>\n",
       "      <td>91.2</td>\n",
       "    </tr>\n",
       "    <tr>\n",
       "      <th>1</th>\n",
       "      <td>Consumer Discretionary</td>\n",
       "      <td>0.200235</td>\n",
       "      <td>91.2</td>\n",
       "    </tr>\n",
       "    <tr>\n",
       "      <th>10</th>\n",
       "      <td>Utilities</td>\n",
       "      <td>0.213779</td>\n",
       "      <td>91.2</td>\n",
       "    </tr>\n",
       "    <tr>\n",
       "      <th>7</th>\n",
       "      <td>Information Technology</td>\n",
       "      <td>0.396041</td>\n",
       "      <td>91.2</td>\n",
       "    </tr>\n",
       "  </tbody>\n",
       "</table>\n",
       "</div>"
      ],
      "text/plain": [
       "               GICS Sector    return   hpr\n",
       "9              Real Estate -0.026924  91.2\n",
       "2         Consumer Staples  0.013976  91.2\n",
       "4               Financials  0.016280  91.2\n",
       "5              Health Care  0.100218  91.2\n",
       "6              Industrials  0.103580  91.2\n",
       "3                   Energy  0.131975  91.2\n",
       "8                Materials  0.148985  91.2\n",
       "0   Communication Services  0.195048  91.2\n",
       "1   Consumer Discretionary  0.200235  91.2\n",
       "10               Utilities  0.213779  91.2\n",
       "7   Information Technology  0.396041  91.2"
      ]
     },
     "execution_count": 139,
     "metadata": {},
     "output_type": "execute_result"
    }
   ],
   "source": [
    "t.groupby([\"GICS Sector\"]).agg({\"return\":\"mean\",\"hpr\":\"mean\"}).reset_index().sort_values(\"return\").tail(50)"
   ]
  }
 ],
 "metadata": {
  "kernelspec": {
   "display_name": "Python 3 (ipykernel)",
   "language": "python",
   "name": "python3"
  },
  "language_info": {
   "codemirror_mode": {
    "name": "ipython",
    "version": 3
   },
   "file_extension": ".py",
   "mimetype": "text/x-python",
   "name": "python",
   "nbconvert_exporter": "python",
   "pygments_lexer": "ipython3",
   "version": "3.11.9"
  }
 },
 "nbformat": 4,
 "nbformat_minor": 5
}
