{
 "cells": [
  {
   "cell_type": "code",
   "execution_count": 11,
   "id": "63eb7bfe-f2a0-4046-b61f-767261d83c7f",
   "metadata": {},
   "outputs": [],
   "source": [
    "import pandas as pd\n",
    "from database.adatabase import ADatabase\n",
    "from processor.processor import Processor\n",
    "from sklearn.cluster import KMeans"
   ]
  },
  {
   "cell_type": "code",
   "execution_count": 7,
   "id": "20f6f5ff-a31f-4fee-808f-5fde6d11dbed",
   "metadata": {},
   "outputs": [],
   "source": [
    "market = ADatabase(\"market\")\n",
    "russell1000 = pd.read_html(\"https://en.wikipedia.org/wiki/Russell_1000_Index\")[2].rename(columns={\"Symbol\":\"ticker\"})"
   ]
  },
  {
   "cell_type": "code",
   "execution_count": 8,
   "id": "0831f4e6-ca41-414c-b6d7-bdeaba33a3b5",
   "metadata": {},
   "outputs": [],
   "source": [
    "market.connect()\n",
    "overview = []\n",
    "for ticker in russell1000[\"ticker\"]:\n",
    "    prices = Processor.column_date_processing(market.query(\"prices\",{\"ticker\":ticker})).sort_values(\"date\")\n",
    "    overview.append({\n",
    "        \"ticker\":ticker,\"risk\":prices[\"adjclose\"].rolling(5).std().mean(),\"return\":prices[\"adjclose\"].pct_change(5).mean()    })\n",
    "market.disconnect()"
   ]
  },
  {
   "cell_type": "code",
   "execution_count": 9,
   "id": "662332fa-3fa1-443e-98b1-2d938d39903c",
   "metadata": {},
   "outputs": [],
   "source": [
    "grouping_data = pd.DataFrame(overview)"
   ]
  },
  {
   "cell_type": "code",
   "execution_count": 14,
   "id": "7dcf89cd-ac8c-43c9-a67c-46e251d70c58",
   "metadata": {},
   "outputs": [],
   "source": [
    "grouping_data\n",
    "X = grouping_data[[\"risk\",\"return\"]]\n",
    "kmeans = KMeans(n_clusters=10, random_state=42)\n",
    "grouping_data[\"cluster\"] = kmeans.fit_predict(X)"
   ]
  },
  {
   "cell_type": "code",
   "execution_count": 17,
   "id": "a7e72d7c-9f00-444f-acf7-67effd9600aa",
   "metadata": {},
   "outputs": [
    {
     "data": {
      "text/html": [
       "<div>\n",
       "<style scoped>\n",
       "    .dataframe tbody tr th:only-of-type {\n",
       "        vertical-align: middle;\n",
       "    }\n",
       "\n",
       "    .dataframe tbody tr th {\n",
       "        vertical-align: top;\n",
       "    }\n",
       "\n",
       "    .dataframe thead th {\n",
       "        text-align: right;\n",
       "    }\n",
       "</style>\n",
       "<table border=\"1\" class=\"dataframe\">\n",
       "  <thead>\n",
       "    <tr style=\"text-align: right;\">\n",
       "      <th></th>\n",
       "      <th>ticker</th>\n",
       "      <th>risk</th>\n",
       "      <th>return</th>\n",
       "      <th>cluster</th>\n",
       "    </tr>\n",
       "  </thead>\n",
       "  <tbody>\n",
       "    <tr>\n",
       "      <th>0</th>\n",
       "      <td>TXG</td>\n",
       "      <td>1.244707</td>\n",
       "      <td>-0.000041</td>\n",
       "      <td>0</td>\n",
       "    </tr>\n",
       "    <tr>\n",
       "      <th>1</th>\n",
       "      <td>MMM</td>\n",
       "      <td>1.524087</td>\n",
       "      <td>0.003322</td>\n",
       "      <td>6</td>\n",
       "    </tr>\n",
       "    <tr>\n",
       "      <th>2</th>\n",
       "      <td>AOS</td>\n",
       "      <td>0.978468</td>\n",
       "      <td>0.005523</td>\n",
       "      <td>0</td>\n",
       "    </tr>\n",
       "    <tr>\n",
       "      <th>3</th>\n",
       "      <td>AAON</td>\n",
       "      <td>1.276156</td>\n",
       "      <td>0.010593</td>\n",
       "      <td>6</td>\n",
       "    </tr>\n",
       "    <tr>\n",
       "      <th>4</th>\n",
       "      <td>ABT</td>\n",
       "      <td>1.144463</td>\n",
       "      <td>0.002193</td>\n",
       "      <td>0</td>\n",
       "    </tr>\n",
       "    <tr>\n",
       "      <th>...</th>\n",
       "      <td>...</td>\n",
       "      <td>...</td>\n",
       "      <td>...</td>\n",
       "      <td>...</td>\n",
       "    </tr>\n",
       "    <tr>\n",
       "      <th>1004</th>\n",
       "      <td>ZION</td>\n",
       "      <td>0.981599</td>\n",
       "      <td>0.001490</td>\n",
       "      <td>0</td>\n",
       "    </tr>\n",
       "    <tr>\n",
       "      <th>1005</th>\n",
       "      <td>ZTS</td>\n",
       "      <td>2.486494</td>\n",
       "      <td>0.003272</td>\n",
       "      <td>6</td>\n",
       "    </tr>\n",
       "    <tr>\n",
       "      <th>1006</th>\n",
       "      <td>ZM</td>\n",
       "      <td>1.376173</td>\n",
       "      <td>0.000025</td>\n",
       "      <td>6</td>\n",
       "    </tr>\n",
       "    <tr>\n",
       "      <th>1007</th>\n",
       "      <td>ZI</td>\n",
       "      <td>0.651160</td>\n",
       "      <td>-0.010320</td>\n",
       "      <td>0</td>\n",
       "    </tr>\n",
       "    <tr>\n",
       "      <th>1008</th>\n",
       "      <td>ZS</td>\n",
       "      <td>4.317820</td>\n",
       "      <td>0.002724</td>\n",
       "      <td>2</td>\n",
       "    </tr>\n",
       "  </tbody>\n",
       "</table>\n",
       "<p>1009 rows × 4 columns</p>\n",
       "</div>"
      ],
      "text/plain": [
       "     ticker      risk    return  cluster\n",
       "0       TXG  1.244707 -0.000041        0\n",
       "1       MMM  1.524087  0.003322        6\n",
       "2       AOS  0.978468  0.005523        0\n",
       "3      AAON  1.276156  0.010593        6\n",
       "4       ABT  1.144463  0.002193        0\n",
       "...     ...       ...       ...      ...\n",
       "1004   ZION  0.981599  0.001490        0\n",
       "1005    ZTS  2.486494  0.003272        6\n",
       "1006     ZM  1.376173  0.000025        6\n",
       "1007     ZI  0.651160 -0.010320        0\n",
       "1008     ZS  4.317820  0.002724        2\n",
       "\n",
       "[1009 rows x 4 columns]"
      ]
     },
     "execution_count": 17,
     "metadata": {},
     "output_type": "execute_result"
    }
   ],
   "source": [
    "grouping_data"
   ]
  },
  {
   "cell_type": "code",
   "execution_count": 16,
   "id": "4ee771e6-6bdf-4316-ba81-afdc7aae9cf4",
   "metadata": {},
   "outputs": [],
   "source": [
    "db = ADatabase(\"sapling\")\n",
    "db.connect()\n",
    "db.store(\"clusters\",grouping_data)\n",
    "db.disconnect()"
   ]
  }
 ],
 "metadata": {
  "kernelspec": {
   "display_name": "Python 3 (ipykernel)",
   "language": "python",
   "name": "python3"
  },
  "language_info": {
   "codemirror_mode": {
    "name": "ipython",
    "version": 3
   },
   "file_extension": ".py",
   "mimetype": "text/x-python",
   "name": "python",
   "nbconvert_exporter": "python",
   "pygments_lexer": "ipython3",
   "version": "3.11.9"
  }
 },
 "nbformat": 4,
 "nbformat_minor": 5
}
