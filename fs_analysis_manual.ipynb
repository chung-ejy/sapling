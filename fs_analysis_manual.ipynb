{
 "cells": [
  {
   "cell_type": "code",
   "execution_count": 1,
   "id": "73094c60-497a-45ac-bd01-8db8578730b7",
   "metadata": {},
   "outputs": [],
   "source": [
    "import pandas as pd\n",
    "from database.adatabase import ADatabase\n",
    "from xgboost import XGBRegressor\n",
    "import matplotlib.pyplot as plt\n",
    "from tqdm import tqdm\n",
    "from processor.processor import Processor as p\n",
    "from asset.exposure import Exposure\n",
    "from equations.capm import CAPM\n",
    "from sklearn.preprocessing import normalize\n",
    "import yfinance as yf"
   ]
  },
  {
   "cell_type": "code",
   "execution_count": 2,
   "id": "9131bcf0-e2ac-489b-ac60-ab69b8feda22",
   "metadata": {},
   "outputs": [],
   "source": [
    "sec = ADatabase(\"sec\")\n",
    "market = ADatabase(\"market\")\n",
    "fred = ADatabase(\"fred\")"
   ]
  },
  {
   "cell_type": "code",
   "execution_count": 3,
   "id": "a4179cff-dd72-4218-9d7a-7e01333a3a58",
   "metadata": {},
   "outputs": [],
   "source": [
    "market.connect()\n",
    "index = market.retrieve(\"sp500\")\n",
    "market.disconnect()\n",
    "factors = [\"assets\",\"liabilities\",\"reference_price\"]\n",
    "fred.connect()\n",
    "sp500 = p.column_date_processing(fred.retrieve(\"sp500_projections\").rename(columns={\"prediction\":\"sp500_prediction\"}))\n",
    "interest_rates = p.column_date_processing(fred.retrieve(\"market_yield\").rename(columns={\"value\":\"rf\"}))\n",
    "interest_rates[\"rf\"] = interest_rates[\"rf\"].replace(\".\",0)\n",
    "interest_rates[\"rf\"] = [float(x) / 100 for x in interest_rates[\"rf\"]]\n",
    "fred.disconnect\n",
    "macro = sp500.merge(interest_rates,on=\"date\",how=\"left\")"
   ]
  },
  {
   "cell_type": "code",
   "execution_count": 4,
   "id": "b636ae36-6cb6-4721-8c60-a9100d2faa87",
   "metadata": {},
   "outputs": [
    {
     "name": "stderr",
     "output_type": "stream",
     "text": [
      "100%|████████████████████████████████████████████████████████████████████████████████████████████████████████████████████████████████████████████████████████| 502/502 [01:40<00:00,  5.02it/s]"
     ]
    },
    {
     "name": "stdout",
     "output_type": "stream",
     "text": [
      "    ticker    market_cap             sector\n",
      "0      MMM  7.089068e+10        Industrials\n",
      "1      AOS  9.922008e+09        Industrials\n",
      "2      ABT  1.994456e+11         Healthcare\n",
      "3     ABBV  3.145686e+11         Healthcare\n",
      "4      ACN  2.227835e+11         Technology\n",
      "..     ...           ...                ...\n",
      "497    XYL  2.855332e+10        Industrials\n",
      "498    YUM  3.773891e+10  Consumer Cyclical\n",
      "499   ZBRA  2.006823e+10         Technology\n",
      "500    ZBH  2.127504e+10         Healthcare\n",
      "501    ZTS  7.426176e+10         Healthcare\n",
      "\n",
      "[502 rows x 3 columns]\n"
     ]
    },
    {
     "name": "stderr",
     "output_type": "stream",
     "text": [
      "\n"
     ]
    }
   ],
   "source": [
    "market_data = {}\n",
    "\n",
    "for ticker in tqdm(index[\"ticker\"]):\n",
    "    try:\n",
    "        stock_info = yf.Ticker(ticker).info\n",
    "        market_data[ticker] = {\n",
    "            'market_cap': stock_info.get('marketCap', None),\n",
    "            'sector': stock_info.get('sector', None),\n",
    "        }\n",
    "    except KeyError:\n",
    "        market_data[ticker] = {'market_cap': None, 'sector': None}  # Handle missing data\n",
    "\n",
    "# Convert to DataFrame\n",
    "market_caps_df = pd.DataFrame.from_dict(market_data, orient='index').reset_index()\n",
    "market_caps_df.columns = ['ticker', 'market_cap', 'sector']\n",
    "print(market_caps_df)"
   ]
  },
  {
   "cell_type": "code",
   "execution_count": 5,
   "id": "635c8aca-eddc-4b55-a8c3-e351e27a11e9",
   "metadata": {
    "scrolled": true
   },
   "outputs": [
    {
     "name": "stderr",
     "output_type": "stream",
     "text": [
      "26it [00:01, 21.91it/s]"
     ]
    },
    {
     "name": "stdout",
     "output_type": "stream",
     "text": [
      "AMTM 'date'\n"
     ]
    },
    {
     "name": "stderr",
     "output_type": "stream",
     "text": [
      "62it [00:03, 20.80it/s]"
     ]
    },
    {
     "name": "stdout",
     "output_type": "stream",
     "text": [
      "BRK.B 'date'\n"
     ]
    },
    {
     "name": "stderr",
     "output_type": "stream",
     "text": [
      "65it [00:03, 20.04it/s]"
     ]
    },
    {
     "name": "stdout",
     "output_type": "stream",
     "text": [
      "BLK 'date'\n"
     ]
    },
    {
     "name": "stderr",
     "output_type": "stream",
     "text": [
      "77it [00:04, 20.08it/s]"
     ]
    },
    {
     "name": "stdout",
     "output_type": "stream",
     "text": [
      "BF.B 'date'\n"
     ]
    },
    {
     "name": "stderr",
     "output_type": "stream",
     "text": [
      "502it [00:28, 17.87it/s]\n"
     ]
    },
    {
     "name": "stdout",
     "output_type": "stream",
     "text": [
      "ZTS 'date'\n"
     ]
    }
   ],
   "source": [
    "market.connect()\n",
    "sec.connect()\n",
    "factors_df = []\n",
    "for row in tqdm(index.iterrows()):\n",
    "    try:\n",
    "        ticker = row[1][\"ticker\"]\n",
    "        cik = int(row[1][\"CIK\"])\n",
    "        price = p.column_date_processing(market.query(\"prices\",{\"ticker\":ticker}))\n",
    "        price.sort_values(\"date\")\n",
    "        price[\"year\"] = [x.year for x in price[\"date\"]]\n",
    "        price[\"quarter\"] = [x.quarter for x in price[\"date\"]]\n",
    "        filings = p.column_date_processing(sec.query(\"filings\",{\"cik\":cik}))\n",
    "        # filings[\"year\"] = [x.year + 1 for x in filings[\"date\"]]\n",
    "        # filings[\"quarter\"] = [x.quarter for x in filings[\"date\"]]\n",
    "        filings[\"year\"] = [x.year if x.quarter < 4 else x.year + 1 for x in filings[\"date\"]]\n",
    "        filings[\"quarter\"] = [x.quarter + 1 if x.quarter < 4 else 1 for x in filings[\"date\"]]\n",
    "        ticker_factors = filings.drop([\"date\",\"cik\"],axis=1).groupby([\"year\",\"quarter\"]).mean().reset_index()\n",
    "        price = price.drop([\"date\",\"ticker\"],axis=1).groupby([\"year\",\"quarter\"]).mean().reset_index()\n",
    "        ticker_factors = ticker_factors.merge(price,on=[\"year\",\"quarter\"],how=\"left\")\n",
    "        ticker_factors[\"ticker\"] = ticker\n",
    "        ticker_factors[\"reference_price\"] = ticker_factors[\"adjclose\"].shift(1)\n",
    "        ticker_factors[\"y\"] = ticker_factors[\"adjclose\"].shift(-1)\n",
    "        factors_df.append(ticker_factors[[\"year\",\"quarter\",\"ticker\",\"adjclose\",\"y\"]+factors])\n",
    "    except Exception as e:\n",
    "        print(ticker,str(e))\n",
    "        continue\n",
    "sec.disconnect()\n",
    "market.disconnect()\n",
    "factors_df = pd.concat(factors_df).sort_values([\"year\",\"quarter\"])"
   ]
  },
  {
   "cell_type": "code",
   "execution_count": 6,
   "id": "990d4999-cc4d-4264-b239-10fb0f4773af",
   "metadata": {},
   "outputs": [],
   "source": [
    "model_start = 2013\n",
    "model_end = 2020\n",
    "backtest_end = 2025\n",
    "model = XGBRegressor()\n",
    "factors_df = factors_df.dropna(subset=factors)\n",
    "training_data = factors_df[(factors_df[\"year\"]>=model_start) & (factors_df[\"year\"]<model_end)].dropna()\n",
    "sim = factors_df[(factors_df[\"year\"]>=model_end-1) & (factors_df[\"year\"]<backtest_end)].dropna(subset=factors)\n",
    "model.fit(training_data[factors],training_data[\"y\"])\n",
    "sim[\"prediction\"] = model.predict(sim[factors])\n",
    "sim = sim[[\"year\",\"quarter\",\"ticker\",\"prediction\"]]"
   ]
  },
  {
   "cell_type": "code",
   "execution_count": 7,
   "id": "0f877ba0-a338-475c-a1d7-f4882b2c1fa7",
   "metadata": {},
   "outputs": [
    {
     "name": "stderr",
     "output_type": "stream",
     "text": [
      " 13%|███████████████████▏                                                                                                                                     | 63/502 [00:03<00:23, 18.57it/s]"
     ]
    },
    {
     "name": "stdout",
     "output_type": "stream",
     "text": [
      "'date'\n"
     ]
    },
    {
     "name": "stderr",
     "output_type": "stream",
     "text": [
      " 16%|███████████████████████▊                                                                                                                                 | 78/502 [00:04<00:22, 19.21it/s]"
     ]
    },
    {
     "name": "stdout",
     "output_type": "stream",
     "text": [
      "'date'\n"
     ]
    },
    {
     "name": "stderr",
     "output_type": "stream",
     "text": [
      "100%|████████████████████████████████████████████████████████████████████████████████████████████████████████████████████████████████████████████████████████| 502/502 [00:29<00:00, 16.89it/s]"
     ]
    },
    {
     "name": "stdout",
     "output_type": "stream",
     "text": [
      "'date'\n"
     ]
    },
    {
     "name": "stderr",
     "output_type": "stream",
     "text": [
      "\n"
     ]
    }
   ],
   "source": [
    "market.connect()\n",
    "prices = []\n",
    "for ticker in tqdm(index[\"ticker\"]):\n",
    "    try:\n",
    "        price = p.column_date_processing(market.query(\"prices\",{\"ticker\":ticker}))\n",
    "        price.sort_values(\"date\",inplace=True)\n",
    "        price[\"year\"] = [x.year for x in price[\"date\"]]\n",
    "        price[\"quarter\"] = [x.quarter for x in price[\"date\"]]\n",
    "        price.sort_values(\"date\",inplace=True)\n",
    "        price = price.merge(sim[[\"year\",\"quarter\",\"ticker\",\"prediction\"]],on=[\"year\",\"quarter\",\"ticker\"],how=\"left\").merge(macro,on=\"date\",how=\"left\")\n",
    "        price[\"factor\"] = price[\"prediction\"] / price[\"adjclose\"] - 1\n",
    "        price = CAPM.apply(price)\n",
    "        prices.append(price)\n",
    "    except Exception as e:\n",
    "        print(str(e))\n",
    "        continue\n",
    "market.disconnect()"
   ]
  },
  {
   "cell_type": "code",
   "execution_count": 8,
   "id": "0541359a-ecd0-46c3-905c-3b71143cf93c",
   "metadata": {},
   "outputs": [],
   "source": [
    "simulation = pd.concat(prices).merge(index,on=\"ticker\",how=\"left\").merge(market_caps_df,on=\"ticker\",how=\"left\")\n",
    "simulation[\"year\"] = simulation[\"date\"].dt.year\n",
    "simulation[\"quarter\"] = simulation[\"date\"].dt.quarter\n",
    "simulation = simulation[(simulation[\"year\"]>=model_end) & (simulation[\"year\"]<backtest_end)].dropna()\n",
    "tickers = list(simulation[simulation[\"year\"]==model_end][\"ticker\"].unique())\n",
    "simulation = simulation[simulation[\"ticker\"].isin(tickers)]\n",
    "simulation[\"rank\"] = simulation.groupby([\"date\", \"GICS Sector\"])[\"factor\"].rank(method=\"dense\", ascending=False).astype(int)\n",
    "\n",
    "# Calculate the total number of ranks for each sector and date\n",
    "simulation[\"total_ranks\"] = simulation.groupby([\"date\", \"GICS Sector\"])[\"rank\"].transform(\"max\")\n",
    "\n",
    "# Assign exposure based on rank\n",
    "simulation[\"exposure\"] = simulation.apply(\n",
    "    lambda x: 1 if x[\"rank\"] <= x[\"total_ranks\"] * 0.50 else -1,\n",
    "    axis=1\n",
    ")\n",
    "\n",
    "# Cleanup: Drop the total_ranks column if not needed\n",
    "simulation.drop(columns=[\"total_ranks\"], inplace=True)\n",
    "\n",
    "# Sorting by date for further processing\n",
    "simulation.sort_values(\"date\", inplace=True)\n",
    "simulation[\"sell_price\"] = simulation[\"adjclose\"]\n",
    "simulation[\"sell_date\"] = simulation[\"date\"]\n",
    "simulation.sort_values(\"date\",inplace=True)"
   ]
  },
  {
   "cell_type": "code",
   "execution_count": 9,
   "id": "a31fcc36-6855-4fd4-88b1-f88fc90e9b3c",
   "metadata": {},
   "outputs": [],
   "source": [
    "benchmark = macro.copy()\n",
    "benchmark[\"year\"] = benchmark[\"date\"].dt.year\n",
    "benchmark[\"quarter\"] = benchmark[\"date\"].dt.quarter\n",
    "benchmark = benchmark[(benchmark[\"year\"]>=model_end) & (benchmark[\"year\"]<backtest_end)].drop([x for x in benchmark.columns if \"real\" in x],axis=1).groupby([\"year\",\"quarter\"]).mean().reset_index()\n",
    "benchmark[\"sp500\"] = (benchmark[\"sp500\"] - benchmark[\"sp500\"].iloc[0]) /benchmark[\"sp500\"].iloc[0]\n",
    "benchmark[\"rf\"] = (benchmark[\"rf\"] - benchmark[\"rf\"].iloc[0]) /benchmark[\"rf\"].iloc[0]\n",
    "benchmark[\"sp500_prediction\"] = (benchmark[\"sp500_prediction\"] - benchmark[\"sp500_prediction\"].iloc[0]) /benchmark[\"sp500_prediction\"].iloc[0]\n",
    "benchmark.dropna(inplace=True)"
   ]
  },
  {
   "cell_type": "code",
   "execution_count": 10,
   "id": "0986d675-16a3-4949-8a6b-0be95b4c101e",
   "metadata": {},
   "outputs": [],
   "source": [
    "def rank_list(value,i):\n",
    "    # Ensure i is a non-negative integer\n",
    "    if value == 0:\n",
    "        if i < 0:\n",
    "            raise ValueError(\"The number of integers, i, must be non-negative.\")\n",
    "        \n",
    "        if i % 2 == 0:\n",
    "            # Even number of elements: Symmetric around 0\n",
    "            return list(range(-i // 2, i // 2))\n",
    "        else:\n",
    "            # Odd number of elements: Includes 0\n",
    "            return list(range(-i // 2, i // 2 + 1))\n",
    "    if value == -1:\n",
    "        return list(range(-1,-i-1,-1))\n",
    "    else:\n",
    "        return list(range(0,i,1))"
   ]
  },
  {
   "cell_type": "code",
   "execution_count": 11,
   "id": "d32f6b4b-70f7-4456-943d-06253cf5565c",
   "metadata": {},
   "outputs": [],
   "source": [
    "filtered_columns = [\"year\",\"quarter\",\"date\",\"sell_date\",\"GICS Sector\",\"ticker\",\"rank\",\"exposure\",\"adjclose\",\"sell_price\"]\n",
    "agg_query = {\"date\":\"first\",\"sell_date\":\"last\",\"GICS Sector\":\"first\",\"exposure\":\"first\",\"rank\":\"first\",\"adjclose\":\"first\",\"sell_price\":\"last\"}"
   ]
  },
  {
   "cell_type": "code",
   "execution_count": 12,
   "id": "bca0d2e8-21ea-4703-9126-aaf7e9813a75",
   "metadata": {
    "scrolled": true
   },
   "outputs": [
    {
     "name": "stderr",
     "output_type": "stream",
     "text": [
      "  0%|                                                                                                                                                                    | 0/2 [00:00<?, ?it/s]\n",
      "  0%|                                                                                                                                                                    | 0/3 [00:00<?, ?it/s]\u001b[A\n",
      "\n",
      "  0%|                                                                                                                                                                    | 0/4 [00:00<?, ?it/s]\u001b[A\u001b[A\n",
      "\n",
      " 25%|███████████████████████████████████████                                                                                                                     | 1/4 [00:13<00:41, 13.81s/it]\u001b[A\u001b[A\n",
      "\n",
      " 50%|██████████████████████████████████████████████████████████████████████████████                                                                              | 2/4 [00:26<00:26, 13.25s/it]\u001b[A\u001b[A\n",
      "\n",
      " 75%|█████████████████████████████████████████████████████████████████████████████████████████████████████████████████████                                       | 3/4 [00:38<00:12, 12.58s/it]\u001b[A\u001b[A"
     ]
    },
    {
     "name": "stdout",
     "output_type": "stream",
     "text": [
      "single positional indexer is out-of-bounds\n",
      "single positional indexer is out-of-bounds\n",
      "single positional indexer is out-of-bounds\n",
      "single positional indexer is out-of-bounds\n"
     ]
    },
    {
     "name": "stderr",
     "output_type": "stream",
     "text": [
      "\n",
      "\n",
      "100%|████████████████████████████████████████████████████████████████████████████████████████████████████████████████████████████████████████████████████████████| 4/4 [00:48<00:00, 12.05s/it]\u001b[A\u001b[A\n",
      "\n",
      " 33%|████████████████████████████████████████████████████                                                                                                        | 1/3 [00:48<01:36, 48.22s/it]\u001b[A"
     ]
    },
    {
     "name": "stdout",
     "output_type": "stream",
     "text": [
      "single positional indexer is out-of-bounds\n"
     ]
    },
    {
     "name": "stderr",
     "output_type": "stream",
     "text": [
      "\n",
      "\n",
      "  0%|                                                                                                                                                                    | 0/4 [00:00<?, ?it/s]\u001b[A\u001b[A\n",
      "\n",
      " 25%|███████████████████████████████████████                                                                                                                     | 1/4 [00:13<00:41, 13.91s/it]\u001b[A\u001b[A\n",
      "\n",
      " 50%|██████████████████████████████████████████████████████████████████████████████                                                                              | 2/4 [00:26<00:26, 13.26s/it]\u001b[A\u001b[A\n",
      "\n",
      " 75%|█████████████████████████████████████████████████████████████████████████████████████████████████████████████████████                                       | 3/4 [00:38<00:12, 12.57s/it]\u001b[A\u001b[A"
     ]
    },
    {
     "name": "stdout",
     "output_type": "stream",
     "text": [
      "single positional indexer is out-of-bounds\n",
      "single positional indexer is out-of-bounds\n",
      "single positional indexer is out-of-bounds\n",
      "single positional indexer is out-of-bounds\n"
     ]
    },
    {
     "name": "stderr",
     "output_type": "stream",
     "text": [
      "\n",
      "\n",
      "100%|████████████████████████████████████████████████████████████████████████████████████████████████████████████████████████████████████████████████████████████| 4/4 [00:48<00:00, 12.07s/it]\u001b[A\u001b[A\n",
      "\n",
      " 67%|████████████████████████████████████████████████████████████████████████████████████████████████████████                                                    | 2/3 [01:36<00:48, 48.26s/it]\u001b[A"
     ]
    },
    {
     "name": "stdout",
     "output_type": "stream",
     "text": [
      "single positional indexer is out-of-bounds\n"
     ]
    },
    {
     "name": "stderr",
     "output_type": "stream",
     "text": [
      "\n",
      "\n",
      "  0%|                                                                                                                                                                    | 0/4 [00:00<?, ?it/s]\u001b[A\u001b[A\n",
      "\n",
      " 25%|███████████████████████████████████████                                                                                                                     | 1/4 [00:13<00:41, 13.95s/it]\u001b[A\u001b[A\n",
      "\n",
      " 50%|██████████████████████████████████████████████████████████████████████████████                                                                              | 2/4 [00:26<00:26, 13.34s/it]\u001b[A\u001b[A\n",
      "\n",
      " 75%|█████████████████████████████████████████████████████████████████████████████████████████████████████████████████████                                       | 3/4 [00:38<00:12, 12.61s/it]\u001b[A\u001b[A"
     ]
    },
    {
     "name": "stdout",
     "output_type": "stream",
     "text": [
      "single positional indexer is out-of-bounds\n",
      "single positional indexer is out-of-bounds\n",
      "single positional indexer is out-of-bounds\n",
      "single positional indexer is out-of-bounds\n"
     ]
    },
    {
     "name": "stderr",
     "output_type": "stream",
     "text": [
      "\n",
      "\n",
      "100%|████████████████████████████████████████████████████████████████████████████████████████████████████████████████████████████████████████████████████████████| 4/4 [00:48<00:00, 12.08s/it]\u001b[A\u001b[A\n",
      "\n",
      "100%|████████████████████████████████████████████████████████████████████████████████████████████████████████████████████████████████████████████████████████████| 3/3 [02:24<00:00, 48.27s/it]\u001b[A\n",
      " 50%|█████████████████████████████████████████████████████████████████████████████▌                                                                             | 1/2 [02:24<02:24, 144.83s/it]"
     ]
    },
    {
     "name": "stdout",
     "output_type": "stream",
     "text": [
      "single positional indexer is out-of-bounds\n"
     ]
    },
    {
     "name": "stderr",
     "output_type": "stream",
     "text": [
      "\n",
      "  0%|                                                                                                                                                                    | 0/3 [00:00<?, ?it/s]\u001b[A\n",
      "\n",
      "  0%|                                                                                                                                                                    | 0/4 [00:00<?, ?it/s]\u001b[A\u001b[A\n",
      "\n",
      " 25%|███████████████████████████████████████                                                                                                                     | 1/4 [00:13<00:41, 13.92s/it]\u001b[A\u001b[A\n",
      "\n",
      " 50%|██████████████████████████████████████████████████████████████████████████████                                                                              | 2/4 [00:26<00:26, 13.19s/it]\u001b[A\u001b[A\n",
      "\n",
      " 75%|█████████████████████████████████████████████████████████████████████████████████████████████████████████████████████                                       | 3/4 [00:38<00:12, 12.49s/it]\u001b[A\u001b[A"
     ]
    },
    {
     "name": "stdout",
     "output_type": "stream",
     "text": [
      "single positional indexer is out-of-bounds\n",
      "single positional indexer is out-of-bounds\n",
      "single positional indexer is out-of-bounds\n",
      "single positional indexer is out-of-bounds\n"
     ]
    },
    {
     "name": "stderr",
     "output_type": "stream",
     "text": [
      "\n",
      "\n",
      "100%|████████████████████████████████████████████████████████████████████████████████████████████████████████████████████████████████████████████████████████████| 4/4 [00:47<00:00, 11.98s/it]\u001b[A\u001b[A\n",
      "\n",
      " 33%|████████████████████████████████████████████████████                                                                                                        | 1/3 [00:47<01:35, 47.92s/it]\u001b[A"
     ]
    },
    {
     "name": "stdout",
     "output_type": "stream",
     "text": [
      "single positional indexer is out-of-bounds\n"
     ]
    },
    {
     "name": "stderr",
     "output_type": "stream",
     "text": [
      "\n",
      "\n",
      "  0%|                                                                                                                                                                    | 0/4 [00:00<?, ?it/s]\u001b[A\u001b[A\n",
      "\n",
      " 25%|███████████████████████████████████████                                                                                                                     | 1/4 [00:13<00:41, 13.87s/it]\u001b[A\u001b[A\n",
      "\n",
      " 50%|██████████████████████████████████████████████████████████████████████████████                                                                              | 2/4 [00:26<00:26, 13.26s/it]\u001b[A\u001b[A\n",
      "\n",
      " 75%|█████████████████████████████████████████████████████████████████████████████████████████████████████████████████████                                       | 3/4 [00:38<00:12, 12.57s/it]\u001b[A\u001b[A"
     ]
    },
    {
     "name": "stdout",
     "output_type": "stream",
     "text": [
      "single positional indexer is out-of-bounds\n",
      "single positional indexer is out-of-bounds\n",
      "single positional indexer is out-of-bounds\n",
      "single positional indexer is out-of-bounds\n"
     ]
    },
    {
     "name": "stderr",
     "output_type": "stream",
     "text": [
      "\n",
      "\n",
      "100%|████████████████████████████████████████████████████████████████████████████████████████████████████████████████████████████████████████████████████████████| 4/4 [00:48<00:00, 12.06s/it]\u001b[A\u001b[A\n",
      "\n",
      " 67%|████████████████████████████████████████████████████████████████████████████████████████████████████████                                                    | 2/3 [01:36<00:48, 48.11s/it]\u001b[A"
     ]
    },
    {
     "name": "stdout",
     "output_type": "stream",
     "text": [
      "single positional indexer is out-of-bounds\n"
     ]
    },
    {
     "name": "stderr",
     "output_type": "stream",
     "text": [
      "\n",
      "\n",
      "  0%|                                                                                                                                                                    | 0/4 [00:00<?, ?it/s]\u001b[A\u001b[A\n",
      "\n",
      " 25%|███████████████████████████████████████                                                                                                                     | 1/4 [00:13<00:41, 13.76s/it]\u001b[A\u001b[A\n",
      "\n",
      " 50%|██████████████████████████████████████████████████████████████████████████████                                                                              | 2/4 [00:26<00:26, 13.17s/it]\u001b[A\u001b[A\n",
      "\n",
      " 75%|█████████████████████████████████████████████████████████████████████████████████████████████████████████████████████                                       | 3/4 [00:38<00:12, 12.48s/it]\u001b[A\u001b[A"
     ]
    },
    {
     "name": "stdout",
     "output_type": "stream",
     "text": [
      "single positional indexer is out-of-bounds\n",
      "single positional indexer is out-of-bounds\n",
      "single positional indexer is out-of-bounds\n",
      "single positional indexer is out-of-bounds\n"
     ]
    },
    {
     "name": "stderr",
     "output_type": "stream",
     "text": [
      "\n",
      "\n",
      "100%|████████████████████████████████████████████████████████████████████████████████████████████████████████████████████████████████████████████████████████████| 4/4 [00:47<00:00, 12.00s/it]\u001b[A\u001b[A\n",
      "\n",
      "100%|████████████████████████████████████████████████████████████████████████████████████████████████████████████████████████████████████████████████████████████| 3/3 [02:24<00:00, 48.05s/it]\u001b[A\n",
      "100%|███████████████████████████████████████████████████████████████████████████████████████████████████████████████████████████████████████████████████████████| 2/2 [04:48<00:00, 144.49s/it]"
     ]
    },
    {
     "name": "stdout",
     "output_type": "stream",
     "text": [
      "single positional indexer is out-of-bounds\n"
     ]
    },
    {
     "name": "stderr",
     "output_type": "stream",
     "text": [
      "\n"
     ]
    }
   ],
   "source": [
    "run = True\n",
    "if run:\n",
    "    analysises = []\n",
    "    for direction in tqdm([1,-1]):\n",
    "        for value in tqdm([1,0,-1]):\n",
    "            for maximum_index in tqdm([1,50,100,200]):\n",
    "                for minimum_index in [0,50,100,200]:\n",
    "                    for num_stocks_per_industry in [1,5,10,25,50]:\n",
    "                        try:\n",
    "                            parameters = {\n",
    "                                \"direction\":direction,\n",
    "                                \"val\":value,\n",
    "                                \"maxi\": maximum_index,\n",
    "                                \"mini\": minimum_index,\n",
    "                                \"stacks\": num_stocks_per_industry\n",
    "                            }\n",
    "                            stacks = rank_list(value,num_stocks_per_industry)\n",
    "                            max_cap = simulation.sort_values(\"market_cap\")[\"market_cap\"].unique()[-maximum_index]\n",
    "                            min_cap = simulation.sort_values(\"market_cap\")[\"market_cap\"].unique()[minimum_index]\n",
    "                            filtered_simulation = simulation[(simulation[\"market_cap\"]<=max_cap) & (simulation[\"market_cap\"]>=min_cap)].copy()\n",
    "                            trades = filtered_simulation[filtered_columns].groupby([\"year\",\"quarter\",\"ticker\"]).agg(agg_query).reset_index()\n",
    "                            trades = trades.sort_values(\"rank\",ascending=True).groupby([\"year\",\"quarter\",\"GICS Sector\"]).nth(stacks).reset_index()\n",
    "                            trades[\"return\"] = (trades[\"sell_price\"] - trades[\"adjclose\"])/trades[\"adjclose\"]\n",
    "                            trades[\"return\"] = trades[\"return\"] * trades[\"exposure\"] * direction \n",
    "                            analysis = trades[[\"year\",\"quarter\",\"exposure\",\"return\"]].groupby([\"year\",\"quarter\",\"exposure\"]).mean().pivot_table(index=[\"year\",\"quarter\"],columns=\"exposure\",values=\"return\").reset_index()\n",
    "                            portfolio = trades[[\"year\",\"quarter\",\"return\"]].groupby([\"year\",\"quarter\"]).mean().reset_index().sort_values([\"year\",\"quarter\"])\n",
    "                            portfolio[\"return\"] = portfolio[\"return\"] + 1\n",
    "                            portfolio[\"return\"] = portfolio[\"return\"].cumprod() - 1\n",
    "                            portfolio['Year-Quarter'] = portfolio[\"year\"].astype(str) + \"q\" + portfolio[\"quarter\"].astype(str)\n",
    "                            portfolio = portfolio.merge(benchmark,on=[\"year\",\"quarter\"],how=\"left\")\n",
    "                            portfolio[\"sharpe\"] = portfolio[\"return\"] - portfolio[\"rf\"] / portfolio[\"return\"].std()\n",
    "                            parameters[\"risk\"] = portfolio[\"return\"].std()\n",
    "                            parameters[\"sharpe\"] = portfolio[\"sharpe\"].iloc[-1]\n",
    "                            parameters[\"return\"] = portfolio[\"return\"].iloc[-1]\n",
    "                            analysises.append(parameters)\n",
    "                        except Exception as e:\n",
    "                            print(str(e))\n",
    "                            continue"
   ]
  },
  {
   "cell_type": "code",
   "execution_count": 13,
   "id": "52720f5f-bd79-4d9c-ba27-08401d6e7cf1",
   "metadata": {
    "scrolled": true
   },
   "outputs": [],
   "source": [
    "a = pd.DataFrame(analysises)\n",
    "a[\"color\"] = [\"blue\" if x == 1 else \"red\" if x == -1  else \"green\" for x in a[\"val\"]]\n",
    "a[\"return_to_risk\"] = a[\"return\"] / a[\"risk\"]"
   ]
  },
  {
   "cell_type": "code",
   "execution_count": 14,
   "id": "735ed1bc-01f2-4e36-acb7-cab72ad2757f",
   "metadata": {},
   "outputs": [
    {
     "data": {
      "image/png": "[encoded data removed]",
      "text/plain": [
       "<Figure size 1200x600 with 2 Axes>"
      ]
     },
     "metadata": {},
     "output_type": "display_data"
    }
   ],
   "source": [
    "fig, axes = plt.subplots(1, 2, figsize=(12, 6), sharey=True)\n",
    "\n",
    "# Titles for each subplot\n",
    "titles = [\"Direction: 1\", \"Direction: -1\"]\n",
    "\n",
    "# Iterate over directions and corresponding axes\n",
    "for i, direction in enumerate([1, -1]):\n",
    "    d_analysis = a[a[\"direction\"] == direction]\n",
    "    axes[i].scatter(\n",
    "        d_analysis[\"sharpe\"],\n",
    "        d_analysis[\"return\"],\n",
    "        c=d_analysis[\"color\"],\n",
    "        s=d_analysis[\"stacks\"] * 2,\n",
    "        alpha=0.8,\n",
    "        edgecolors=\"w\",\n",
    "    )\n",
    "    axes[i].set_title(titles[i])\n",
    "    axes[i].set_xlabel(\"Sharpe Ratio\")\n",
    "    axes[i].set_ylabel(\"Return\" if i == 0 else \"\")  # Only label y-axis on the first plot\n",
    "\n",
    "# Adjust layout for better spacing\n",
    "plt.tight_layout()\n",
    "\n",
    "# Show the combined plot\n",
    "plt.show()"
   ]
  },
  {
   "cell_type": "code",
   "execution_count": 33,
   "id": "ffdcee08-f13c-497c-a627-b89480f8f437",
   "metadata": {},
   "outputs": [
    {
     "data": {
      "text/html": [
       "<div>\n",
       "<style scoped>\n",
       "    .dataframe tbody tr th:only-of-type {\n",
       "        vertical-align: middle;\n",
       "    }\n",
       "\n",
       "    .dataframe tbody tr th {\n",
       "        vertical-align: top;\n",
       "    }\n",
       "\n",
       "    .dataframe thead th {\n",
       "        text-align: right;\n",
       "    }\n",
       "</style>\n",
       "<table border=\"1\" class=\"dataframe\">\n",
       "  <thead>\n",
       "    <tr style=\"text-align: right;\">\n",
       "      <th></th>\n",
       "      <th>direction</th>\n",
       "      <th>val</th>\n",
       "      <th>maxi</th>\n",
       "      <th>mini</th>\n",
       "      <th>stacks</th>\n",
       "      <th>risk</th>\n",
       "      <th>sharpe</th>\n",
       "      <th>return</th>\n",
       "      <th>color</th>\n",
       "      <th>return_to_risk</th>\n",
       "    </tr>\n",
       "  </thead>\n",
       "  <tbody>\n",
       "    <tr>\n",
       "      <th>26</th>\n",
       "      <td>1</td>\n",
       "      <td>1</td>\n",
       "      <td>50</td>\n",
       "      <td>50</td>\n",
       "      <td>5</td>\n",
       "      <td>0.432010</td>\n",
       "      <td>-3.024966</td>\n",
       "      <td>1.354426</td>\n",
       "      <td>blue</td>\n",
       "      <td>3.135171</td>\n",
       "    </tr>\n",
       "    <tr>\n",
       "      <th>6</th>\n",
       "      <td>1</td>\n",
       "      <td>1</td>\n",
       "      <td>1</td>\n",
       "      <td>50</td>\n",
       "      <td>5</td>\n",
       "      <td>0.392574</td>\n",
       "      <td>-3.584715</td>\n",
       "      <td>1.234612</td>\n",
       "      <td>blue</td>\n",
       "      <td>3.144916</td>\n",
       "    </tr>\n",
       "    <tr>\n",
       "      <th>21</th>\n",
       "      <td>1</td>\n",
       "      <td>1</td>\n",
       "      <td>50</td>\n",
       "      <td>0</td>\n",
       "      <td>5</td>\n",
       "      <td>0.384490</td>\n",
       "      <td>-3.691790</td>\n",
       "      <td>1.228866</td>\n",
       "      <td>blue</td>\n",
       "      <td>3.196096</td>\n",
       "    </tr>\n",
       "    <tr>\n",
       "      <th>35</th>\n",
       "      <td>1</td>\n",
       "      <td>1</td>\n",
       "      <td>50</td>\n",
       "      <td>200</td>\n",
       "      <td>1</td>\n",
       "      <td>0.383611</td>\n",
       "      <td>-3.710310</td>\n",
       "      <td>1.221613</td>\n",
       "      <td>blue</td>\n",
       "      <td>3.184507</td>\n",
       "    </tr>\n",
       "    <tr>\n",
       "      <th>390</th>\n",
       "      <td>-1</td>\n",
       "      <td>-1</td>\n",
       "      <td>1</td>\n",
       "      <td>200</td>\n",
       "      <td>1</td>\n",
       "      <td>0.393712</td>\n",
       "      <td>-3.586260</td>\n",
       "      <td>1.219129</td>\n",
       "      <td>red</td>\n",
       "      <td>3.096496</td>\n",
       "    </tr>\n",
       "    <tr>\n",
       "      <th>11</th>\n",
       "      <td>1</td>\n",
       "      <td>1</td>\n",
       "      <td>1</td>\n",
       "      <td>100</td>\n",
       "      <td>5</td>\n",
       "      <td>0.379107</td>\n",
       "      <td>-3.790014</td>\n",
       "      <td>1.200508</td>\n",
       "      <td>blue</td>\n",
       "      <td>3.166672</td>\n",
       "    </tr>\n",
       "    <tr>\n",
       "      <th>15</th>\n",
       "      <td>1</td>\n",
       "      <td>1</td>\n",
       "      <td>1</td>\n",
       "      <td>200</td>\n",
       "      <td>1</td>\n",
       "      <td>0.368630</td>\n",
       "      <td>-3.945364</td>\n",
       "      <td>1.186988</td>\n",
       "      <td>blue</td>\n",
       "      <td>3.219996</td>\n",
       "    </tr>\n",
       "    <tr>\n",
       "      <th>1</th>\n",
       "      <td>1</td>\n",
       "      <td>1</td>\n",
       "      <td>1</td>\n",
       "      <td>0</td>\n",
       "      <td>5</td>\n",
       "      <td>0.363685</td>\n",
       "      <td>-4.036306</td>\n",
       "      <td>1.165843</td>\n",
       "      <td>blue</td>\n",
       "      <td>3.205643</td>\n",
       "    </tr>\n",
       "    <tr>\n",
       "      <th>50</th>\n",
       "      <td>1</td>\n",
       "      <td>1</td>\n",
       "      <td>100</td>\n",
       "      <td>100</td>\n",
       "      <td>1</td>\n",
       "      <td>0.371834</td>\n",
       "      <td>-3.929873</td>\n",
       "      <td>1.158267</td>\n",
       "      <td>blue</td>\n",
       "      <td>3.115016</td>\n",
       "    </tr>\n",
       "    <tr>\n",
       "      <th>31</th>\n",
       "      <td>1</td>\n",
       "      <td>1</td>\n",
       "      <td>50</td>\n",
       "      <td>100</td>\n",
       "      <td>5</td>\n",
       "      <td>0.351136</td>\n",
       "      <td>-4.277579</td>\n",
       "      <td>1.110483</td>\n",
       "      <td>blue</td>\n",
       "      <td>3.162545</td>\n",
       "    </tr>\n",
       "    <tr>\n",
       "      <th>46</th>\n",
       "      <td>1</td>\n",
       "      <td>1</td>\n",
       "      <td>100</td>\n",
       "      <td>50</td>\n",
       "      <td>5</td>\n",
       "      <td>0.350258</td>\n",
       "      <td>-4.296950</td>\n",
       "      <td>1.104622</td>\n",
       "      <td>blue</td>\n",
       "      <td>3.153742</td>\n",
       "    </tr>\n",
       "    <tr>\n",
       "      <th>5</th>\n",
       "      <td>1</td>\n",
       "      <td>1</td>\n",
       "      <td>1</td>\n",
       "      <td>50</td>\n",
       "      <td>1</td>\n",
       "      <td>0.341076</td>\n",
       "      <td>-4.503400</td>\n",
       "      <td>1.043577</td>\n",
       "      <td>blue</td>\n",
       "      <td>3.059660</td>\n",
       "    </tr>\n",
       "    <tr>\n",
       "      <th>386</th>\n",
       "      <td>-1</td>\n",
       "      <td>-1</td>\n",
       "      <td>1</td>\n",
       "      <td>100</td>\n",
       "      <td>5</td>\n",
       "      <td>0.343257</td>\n",
       "      <td>-4.469613</td>\n",
       "      <td>1.042117</td>\n",
       "      <td>red</td>\n",
       "      <td>3.035965</td>\n",
       "    </tr>\n",
       "    <tr>\n",
       "      <th>41</th>\n",
       "      <td>1</td>\n",
       "      <td>1</td>\n",
       "      <td>100</td>\n",
       "      <td>0</td>\n",
       "      <td>5</td>\n",
       "      <td>0.333818</td>\n",
       "      <td>-4.628174</td>\n",
       "      <td>1.039404</td>\n",
       "      <td>blue</td>\n",
       "      <td>3.113681</td>\n",
       "    </tr>\n",
       "    <tr>\n",
       "      <th>0</th>\n",
       "      <td>1</td>\n",
       "      <td>1</td>\n",
       "      <td>1</td>\n",
       "      <td>0</td>\n",
       "      <td>1</td>\n",
       "      <td>0.333070</td>\n",
       "      <td>-4.674853</td>\n",
       "      <td>1.005460</td>\n",
       "      <td>blue</td>\n",
       "      <td>3.018765</td>\n",
       "    </tr>\n",
       "    <tr>\n",
       "      <th>45</th>\n",
       "      <td>1</td>\n",
       "      <td>1</td>\n",
       "      <td>100</td>\n",
       "      <td>50</td>\n",
       "      <td>1</td>\n",
       "      <td>0.341203</td>\n",
       "      <td>-4.540487</td>\n",
       "      <td>1.004434</td>\n",
       "      <td>blue</td>\n",
       "      <td>2.943806</td>\n",
       "    </tr>\n",
       "    <tr>\n",
       "      <th>381</th>\n",
       "      <td>-1</td>\n",
       "      <td>-1</td>\n",
       "      <td>1</td>\n",
       "      <td>50</td>\n",
       "      <td>5</td>\n",
       "      <td>0.330070</td>\n",
       "      <td>-4.757397</td>\n",
       "      <td>0.974537</td>\n",
       "      <td>red</td>\n",
       "      <td>2.952511</td>\n",
       "    </tr>\n",
       "    <tr>\n",
       "      <th>10</th>\n",
       "      <td>1</td>\n",
       "      <td>1</td>\n",
       "      <td>1</td>\n",
       "      <td>100</td>\n",
       "      <td>1</td>\n",
       "      <td>0.322295</td>\n",
       "      <td>-4.903729</td>\n",
       "      <td>0.966497</td>\n",
       "      <td>blue</td>\n",
       "      <td>2.998799</td>\n",
       "    </tr>\n",
       "    <tr>\n",
       "      <th>25</th>\n",
       "      <td>1</td>\n",
       "      <td>1</td>\n",
       "      <td>50</td>\n",
       "      <td>50</td>\n",
       "      <td>1</td>\n",
       "      <td>0.315912</td>\n",
       "      <td>-5.043165</td>\n",
       "      <td>0.945667</td>\n",
       "      <td>blue</td>\n",
       "      <td>2.993456</td>\n",
       "    </tr>\n",
       "    <tr>\n",
       "      <th>406</th>\n",
       "      <td>-1</td>\n",
       "      <td>-1</td>\n",
       "      <td>50</td>\n",
       "      <td>100</td>\n",
       "      <td>5</td>\n",
       "      <td>0.298897</td>\n",
       "      <td>-5.423738</td>\n",
       "      <td>0.905997</td>\n",
       "      <td>red</td>\n",
       "      <td>3.031129</td>\n",
       "    </tr>\n",
       "  </tbody>\n",
       "</table>\n",
       "</div>"
      ],
      "text/plain": [
       "     direction  val  maxi  mini  stacks      risk    sharpe    return color  \\\n",
       "26           1    1    50    50       5  0.432010 -3.024966  1.354426  blue   \n",
       "6            1    1     1    50       5  0.392574 -3.584715  1.234612  blue   \n",
       "21           1    1    50     0       5  0.384490 -3.691790  1.228866  blue   \n",
       "35           1    1    50   200       1  0.383611 -3.710310  1.221613  blue   \n",
       "390         -1   -1     1   200       1  0.393712 -3.586260  1.219129   red   \n",
       "11           1    1     1   100       5  0.379107 -3.790014  1.200508  blue   \n",
       "15           1    1     1   200       1  0.368630 -3.945364  1.186988  blue   \n",
       "1            1    1     1     0       5  0.363685 -4.036306  1.165843  blue   \n",
       "50           1    1   100   100       1  0.371834 -3.929873  1.158267  blue   \n",
       "31           1    1    50   100       5  0.351136 -4.277579  1.110483  blue   \n",
       "46           1    1   100    50       5  0.350258 -4.296950  1.104622  blue   \n",
       "5            1    1     1    50       1  0.341076 -4.503400  1.043577  blue   \n",
       "386         -1   -1     1   100       5  0.343257 -4.469613  1.042117   red   \n",
       "41           1    1   100     0       5  0.333818 -4.628174  1.039404  blue   \n",
       "0            1    1     1     0       1  0.333070 -4.674853  1.005460  blue   \n",
       "45           1    1   100    50       1  0.341203 -4.540487  1.004434  blue   \n",
       "381         -1   -1     1    50       5  0.330070 -4.757397  0.974537   red   \n",
       "10           1    1     1   100       1  0.322295 -4.903729  0.966497  blue   \n",
       "25           1    1    50    50       1  0.315912 -5.043165  0.945667  blue   \n",
       "406         -1   -1    50   100       5  0.298897 -5.423738  0.905997   red   \n",
       "\n",
       "     return_to_risk  \n",
       "26         3.135171  \n",
       "6          3.144916  \n",
       "21         3.196096  \n",
       "35         3.184507  \n",
       "390        3.096496  \n",
       "11         3.166672  \n",
       "15         3.219996  \n",
       "1          3.205643  \n",
       "50         3.115016  \n",
       "31         3.162545  \n",
       "46         3.153742  \n",
       "5          3.059660  \n",
       "386        3.035965  \n",
       "41         3.113681  \n",
       "0          3.018765  \n",
       "45         2.943806  \n",
       "381        2.952511  \n",
       "10         2.998799  \n",
       "25         2.993456  \n",
       "406        3.031129  "
      ]
     },
     "execution_count": 33,
     "metadata": {},
     "output_type": "execute_result"
    }
   ],
   "source": [
    "a.sort_values(\"return\",ascending=False).head(20)"
   ]
  },
  {
   "cell_type": "code",
   "execution_count": 23,
   "id": "fb63bbf6-0639-445b-aef4-44998e4f17fb",
   "metadata": {},
   "outputs": [],
   "source": [
    "value = 1\n",
    "direction = 1\n",
    "maximum_index = 1\n",
    "minimum_index = 100\n",
    "num_stocks_per_industry = 1\n",
    "stacks = rank_list(value,num_stocks_per_industry)"
   ]
  },
  {
   "cell_type": "code",
   "execution_count": 24,
   "id": "1bef746e-1a59-467c-8252-15d65257bddd",
   "metadata": {},
   "outputs": [],
   "source": [
    "stacks = rank_list(value,num_stocks_per_industry)\n",
    "max_cap = simulation.sort_values(\"market_cap\")[\"market_cap\"].unique()[-maximum_index]\n",
    "min_cap = simulation.sort_values(\"market_cap\")[\"market_cap\"].unique()[minimum_index]\n",
    "filtered_simulation = simulation[(simulation[\"market_cap\"]<=max_cap) & (simulation[\"market_cap\"]>=min_cap)].copy()\n",
    "trades = filtered_simulation[filtered_columns].groupby([\"year\",\"quarter\",\"ticker\"]).agg(agg_query).reset_index()\n",
    "trades = trades.sort_values(\"rank\",ascending=True).groupby([\"year\",\"quarter\",\"GICS Sector\"]).nth(stacks).reset_index()\n",
    "trades[\"return\"] = (trades[\"sell_price\"] - trades[\"adjclose\"])/trades[\"adjclose\"]\n",
    "trades[\"return\"] = trades[\"return\"] * trades[\"exposure\"] * direction \n",
    "analysis = trades[[\"year\",\"quarter\",\"exposure\",\"return\"]].groupby([\"year\",\"quarter\",\"exposure\"]).mean().pivot_table(index=[\"year\",\"quarter\"],columns=\"exposure\",values=\"return\").reset_index()\n",
    "portfolio = trades[[\"year\",\"quarter\",\"return\"]].groupby([\"year\",\"quarter\"]).mean().reset_index().sort_values([\"year\",\"quarter\"])\n",
    "portfolio[\"return\"] = portfolio[\"return\"] + 1\n",
    "portfolio[\"return\"] = portfolio[\"return\"].cumprod() - 1\n",
    "portfolio['Year-Quarter'] = portfolio[\"year\"].astype(str) + \"q\" + portfolio[\"quarter\"].astype(str)\n",
    "portfolio = portfolio.merge(benchmark,on=[\"year\",\"quarter\"],how=\"left\")"
   ]
  },
  {
   "cell_type": "code",
   "execution_count": 25,
   "id": "36cf02b0-947e-445b-9f63-ff00e556ff0b",
   "metadata": {},
   "outputs": [
    {
     "data": {
      "image/png": "[encoded data removed]",
      "text/plain": [
       "<Figure size 1200x600 with 1 Axes>"
      ]
     },
     "metadata": {},
     "output_type": "display_data"
    }
   ],
   "source": [
    "analysis['Year-Quarter'] = analysis[\"year\"].astype(str) + \"q\" + analysis[\"quarter\"].astype(str)\n",
    "\n",
    "# Reset index for plotting\n",
    "analysis.drop([\"year\",\"quarter\"],axis=1,inplace=True)\n",
    "analysis.reset_index(drop=True, inplace=True)\n",
    "\n",
    "# Plot a bar chart\n",
    "analysis.set_index(\"Year-Quarter\").plot(\n",
    "    kind=\"bar\",\n",
    "    figsize=(12, 6),\n",
    "    title=\"Mean Returns by Exposure per Year and Quarter\"\n",
    ")\n",
    "\n",
    "# Customize the plot\n",
    "plt.xlabel(\"Year, Quarter\")\n",
    "plt.ylabel(\"Mean Return\")\n",
    "plt.xticks(rotation=45, ha='right')  # Rotate x-axis labels for better readability\n",
    "plt.legend(title=\"Exposure\")\n",
    "plt.tight_layout()\n",
    "\n",
    "# Show the plot\n",
    "plt.show()\n"
   ]
  },
  {
   "cell_type": "code",
   "execution_count": 26,
   "id": "2d80d54c-8bd8-4174-9215-f8c9e516e4cb",
   "metadata": {},
   "outputs": [
    {
     "data": {
      "image/png": "[encoded data removed]",
      "text/plain": [
       "<Figure size 1200x600 with 1 Axes>"
      ]
     },
     "metadata": {},
     "output_type": "display_data"
    }
   ],
   "source": [
    "# Create the plot\n",
    "ax = portfolio.drop([\"date\", \"year\", \"quarter\"], axis=1).set_index(\"Year-Quarter\").plot(\n",
    "    kind=\"line\",\n",
    "    figsize=(12, 6),\n",
    "    title=\"Mean Returns by Exposure per Year and Quarter\"\n",
    ")\n",
    "\n",
    "# Set y-axis to have more precise ticks\n",
    "ax.tick_params(axis='y', direction='in', length=6)  # Adjust y-tick direction and length\n",
    "ax.yaxis.set_major_formatter(plt.FuncFormatter(lambda x, _: f'{x:.4f}'))  # Format y-ticks with 4 decimal places\n",
    "\n",
    "# Move y-ticks to the right side\n",
    "ax.yaxis.set_tick_params(which='both', direction='inout', length=6, labelleft=False, labelright=True)\n",
    "\n",
    "# Optionally adjust the number of ticks for better precision\n",
    "ax.yaxis.set_major_locator(plt.MaxNLocator(integer=False, prune='both'))\n",
    "\n",
    "# Add grid lines\n",
    "ax.grid(True, which='both', axis='both', linestyle='--', linewidth=0.7)\n",
    "\n",
    "# Display the plot\n",
    "plt.tight_layout()\n",
    "plt.show()\n"
   ]
  },
  {
   "cell_type": "code",
   "execution_count": 34,
   "id": "828e4d63-decf-47e6-94db-55f6073afe90",
   "metadata": {},
   "outputs": [
    {
     "data": {
      "text/html": [
       "<div>\n",
       "<style scoped>\n",
       "    .dataframe tbody tr th:only-of-type {\n",
       "        vertical-align: middle;\n",
       "    }\n",
       "\n",
       "    .dataframe tbody tr th {\n",
       "        vertical-align: top;\n",
       "    }\n",
       "\n",
       "    .dataframe thead th {\n",
       "        text-align: right;\n",
       "    }\n",
       "</style>\n",
       "<table border=\"1\" class=\"dataframe\">\n",
       "  <thead>\n",
       "    <tr style=\"text-align: right;\">\n",
       "      <th></th>\n",
       "      <th>year</th>\n",
       "      <th>quarter</th>\n",
       "      <th>return</th>\n",
       "      <th>Year-Quarter</th>\n",
       "      <th>date</th>\n",
       "      <th>sp500</th>\n",
       "      <th>sp500_prediction</th>\n",
       "      <th>rf</th>\n",
       "    </tr>\n",
       "  </thead>\n",
       "  <tbody>\n",
       "    <tr>\n",
       "      <th>15</th>\n",
       "      <td>2023</td>\n",
       "      <td>4</td>\n",
       "      <td>1.058776</td>\n",
       "      <td>2023q4</td>\n",
       "      <td>2023-11-14 05:42:51.428571392</td>\n",
       "      <td>0.461093</td>\n",
       "      <td>-0.191385</td>\n",
       "      <td>2.206233</td>\n",
       "    </tr>\n",
       "    <tr>\n",
       "      <th>16</th>\n",
       "      <td>2024</td>\n",
       "      <td>1</td>\n",
       "      <td>1.333732</td>\n",
       "      <td>2024q1</td>\n",
       "      <td>2024-02-14 09:50:09.836065536</td>\n",
       "      <td>0.633755</td>\n",
       "      <td>-0.190196</td>\n",
       "      <td>2.044977</td>\n",
       "    </tr>\n",
       "    <tr>\n",
       "      <th>17</th>\n",
       "      <td>2024</td>\n",
       "      <td>2</td>\n",
       "      <td>1.266338</td>\n",
       "      <td>2024q2</td>\n",
       "      <td>2024-05-14 06:05:42.857142784</td>\n",
       "      <td>0.716902</td>\n",
       "      <td>-0.189471</td>\n",
       "      <td>2.259143</td>\n",
       "    </tr>\n",
       "    <tr>\n",
       "      <th>18</th>\n",
       "      <td>2024</td>\n",
       "      <td>3</td>\n",
       "      <td>1.363983</td>\n",
       "      <td>2024q3</td>\n",
       "      <td>2024-08-15 01:52:30.000000000</td>\n",
       "      <td>0.814040</td>\n",
       "      <td>-0.193665</td>\n",
       "      <td>1.897207</td>\n",
       "    </tr>\n",
       "    <tr>\n",
       "      <th>19</th>\n",
       "      <td>2024</td>\n",
       "      <td>4</td>\n",
       "      <td>1.354426</td>\n",
       "      <td>2024q4</td>\n",
       "      <td>2024-10-06 02:40:00.000000000</td>\n",
       "      <td>0.879934</td>\n",
       "      <td>-0.192846</td>\n",
       "      <td>1.891941</td>\n",
       "    </tr>\n",
       "  </tbody>\n",
       "</table>\n",
       "</div>"
      ],
      "text/plain": [
       "    year  quarter    return Year-Quarter                          date  \\\n",
       "15  2023        4  1.058776       2023q4 2023-11-14 05:42:51.428571392   \n",
       "16  2024        1  1.333732       2024q1 2024-02-14 09:50:09.836065536   \n",
       "17  2024        2  1.266338       2024q2 2024-05-14 06:05:42.857142784   \n",
       "18  2024        3  1.363983       2024q3 2024-08-15 01:52:30.000000000   \n",
       "19  2024        4  1.354426       2024q4 2024-10-06 02:40:00.000000000   \n",
       "\n",
       "       sp500  sp500_prediction        rf  \n",
       "15  0.461093         -0.191385  2.206233  \n",
       "16  0.633755         -0.190196  2.044977  \n",
       "17  0.716902         -0.189471  2.259143  \n",
       "18  0.814040         -0.193665  1.897207  \n",
       "19  0.879934         -0.192846  1.891941  "
      ]
     },
     "execution_count": 34,
     "metadata": {},
     "output_type": "execute_result"
    }
   ],
   "source": [
    "portfolio.tail()"
   ]
  },
  {
   "cell_type": "code",
   "execution_count": 28,
   "id": "597bcabe-1a9d-4b72-a2fa-4f84dc767e26",
   "metadata": {},
   "outputs": [
    {
     "data": {
      "text/html": [
       "<div>\n",
       "<style scoped>\n",
       "    .dataframe tbody tr th:only-of-type {\n",
       "        vertical-align: middle;\n",
       "    }\n",
       "\n",
       "    .dataframe tbody tr th {\n",
       "        vertical-align: top;\n",
       "    }\n",
       "\n",
       "    .dataframe thead th {\n",
       "        text-align: right;\n",
       "    }\n",
       "</style>\n",
       "<table border=\"1\" class=\"dataframe\">\n",
       "  <thead>\n",
       "    <tr style=\"text-align: right;\">\n",
       "      <th></th>\n",
       "      <th></th>\n",
       "      <th></th>\n",
       "      <th>return</th>\n",
       "    </tr>\n",
       "    <tr>\n",
       "      <th>year</th>\n",
       "      <th>quarter</th>\n",
       "      <th>GICS Sector</th>\n",
       "      <th></th>\n",
       "    </tr>\n",
       "  </thead>\n",
       "  <tbody>\n",
       "    <tr>\n",
       "      <th rowspan=\"11\" valign=\"top\">2024</th>\n",
       "      <th rowspan=\"11\" valign=\"top\">4</th>\n",
       "      <th>Communication Services</th>\n",
       "      <td>-0.032650</td>\n",
       "    </tr>\n",
       "    <tr>\n",
       "      <th>Consumer Discretionary</th>\n",
       "      <td>0.013473</td>\n",
       "    </tr>\n",
       "    <tr>\n",
       "      <th>Consumer Staples</th>\n",
       "      <td>-0.024854</td>\n",
       "    </tr>\n",
       "    <tr>\n",
       "      <th>Energy</th>\n",
       "      <td>0.021873</td>\n",
       "    </tr>\n",
       "    <tr>\n",
       "      <th>Financials</th>\n",
       "      <td>0.007682</td>\n",
       "    </tr>\n",
       "    <tr>\n",
       "      <th>Health Care</th>\n",
       "      <td>-0.042247</td>\n",
       "    </tr>\n",
       "    <tr>\n",
       "      <th>Industrials</th>\n",
       "      <td>-0.007707</td>\n",
       "    </tr>\n",
       "    <tr>\n",
       "      <th>Information Technology</th>\n",
       "      <td>0.048678</td>\n",
       "    </tr>\n",
       "    <tr>\n",
       "      <th>Materials</th>\n",
       "      <td>-0.010731</td>\n",
       "    </tr>\n",
       "    <tr>\n",
       "      <th>Real Estate</th>\n",
       "      <td>-0.027181</td>\n",
       "    </tr>\n",
       "    <tr>\n",
       "      <th>Utilities</th>\n",
       "      <td>-0.002250</td>\n",
       "    </tr>\n",
       "  </tbody>\n",
       "</table>\n",
       "</div>"
      ],
      "text/plain": [
       "                                       return\n",
       "year quarter GICS Sector                     \n",
       "2024 4       Communication Services -0.032650\n",
       "             Consumer Discretionary  0.013473\n",
       "             Consumer Staples       -0.024854\n",
       "             Energy                  0.021873\n",
       "             Financials              0.007682\n",
       "             Health Care            -0.042247\n",
       "             Industrials            -0.007707\n",
       "             Information Technology  0.048678\n",
       "             Materials              -0.010731\n",
       "             Real Estate            -0.027181\n",
       "             Utilities              -0.002250"
      ]
     },
     "execution_count": 28,
     "metadata": {},
     "output_type": "execute_result"
    }
   ],
   "source": [
    "trades.groupby([\"year\",\"quarter\",\"GICS Sector\"]).agg({\"return\":\"mean\"}).tail(11)"
   ]
  },
  {
   "cell_type": "code",
   "execution_count": 29,
   "id": "c6425210-3798-45f9-a21f-415d13c2a210",
   "metadata": {},
   "outputs": [
    {
     "name": "stdout",
     "output_type": "stream",
     "text": [
      "4.672939581907131\n"
     ]
    }
   ],
   "source": [
    "print(((macro[\"sp500\"].pct_change().cumsum().iloc[-1]+1) ** (1/6))/macro[\"sp500\"].pct_change().cumsum().std())"
   ]
  }
 ],
 "metadata": {
  "kernelspec": {
   "display_name": "Python 3 (ipykernel)",
   "language": "python",
   "name": "python3"
  },
  "language_info": {
   "codemirror_mode": {
    "name": "ipython",
    "version": 3
   },
   "file_extension": ".py",
   "mimetype": "text/x-python",
   "name": "python",
   "nbconvert_exporter": "python",
   "pygments_lexer": "ipython3",
   "version": "3.11.9"
  }
 },
 "nbformat": 4,
 "nbformat_minor": 5
}
