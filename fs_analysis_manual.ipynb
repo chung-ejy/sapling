{
 "cells": [
  {
   "cell_type": "code",
   "execution_count": 28,
   "id": "73094c60-497a-45ac-bd01-8db8578730b7",
   "metadata": {},
   "outputs": [],
   "source": [
    "import pandas as pd\n",
    "from database.adatabase import ADatabase\n",
    "from xgboost import XGBRegressor\n",
    "import matplotlib.pyplot as plt\n",
    "from tqdm import tqdm\n",
    "from processor.processor import Processor as processor\n",
    "from asset.exposure import Exposure"
   ]
  },
  {
   "cell_type": "code",
   "execution_count": 12,
   "id": "9131bcf0-e2ac-489b-ac60-ab69b8feda22",
   "metadata": {},
   "outputs": [],
   "source": [
    "sec = ADatabase(\"sec\")\n",
    "market = ADatabase(\"market\")"
   ]
  },
  {
   "cell_type": "code",
   "execution_count": 15,
   "id": "a4179cff-dd72-4218-9d7a-7e01333a3a58",
   "metadata": {},
   "outputs": [],
   "source": [
    "market.connect()\n",
    "index = market.retrieve(\"sp500\")[::10]\n",
    "market.disconnect()\n",
    "factors = [\"assets\",\"liabilities\",\"adjclose\"]\n"
   ]
  },
  {
   "cell_type": "code",
   "execution_count": 16,
   "id": "635c8aca-eddc-4b55-a8c3-e351e27a11e9",
   "metadata": {},
   "outputs": [
    {
     "name": "stderr",
     "output_type": "stream",
     "text": [
      "11it [00:00, 21.00it/s]"
     ]
    },
    {
     "name": "stdout",
     "output_type": "stream",
     "text": [
      "BRK.B 'date'\n"
     ]
    },
    {
     "name": "stderr",
     "output_type": "stream",
     "text": [
      "51it [00:02, 20.23it/s]\n"
     ]
    }
   ],
   "source": [
    "market.connect()\n",
    "sec.connect()\n",
    "factors_df = []\n",
    "for row in tqdm(index.iterrows()):\n",
    "    try:\n",
    "        ticker = row[1][\"ticker\"]\n",
    "        cik = int(row[1][\"CIK\"])\n",
    "        price = processor.column_date_processing(market.query(\"prices\",{\"ticker\":ticker}))\n",
    "        price[\"year\"] = [x.year for x in price[\"date\"]]\n",
    "        price[\"quarter\"] = [x.quarter for x in price[\"date\"]]\n",
    "        filings = processor.column_date_processing(sec.query(\"filings\",{\"cik\":cik}))\n",
    "        filings[\"year\"] = [x.year if x.quarter < 4 else x.year + 1 for x in filings[\"date\"]]\n",
    "        filings[\"quarter\"] = [x.quarter + 1 if x.quarter < 4 else 1 for x in filings[\"date\"]]\n",
    "        price = price.drop([\"date\",\"ticker\"],axis=1).merge(filings.drop([\"date\",\"cik\"],axis=1),on=[\"year\",\"quarter\"],how=\"left\").groupby([\"year\",\"quarter\"]).mean().reset_index()\n",
    "        price[\"ticker\"] = ticker\n",
    "        price[\"y\"] = price[\"adjclose\"].shift(-1)\n",
    "        factors_df.append(price[[\"year\",\"quarter\",\"ticker\",\"y\"]+factors])\n",
    "    except Exception as e:\n",
    "        print(ticker,str(e))\n",
    "        continue\n",
    "sec.disconnect()\n",
    "market.disconnect()\n",
    "factors_df = pd.concat(factors_df).sort_values([\"year\",\"quarter\"])"
   ]
  },
  {
   "cell_type": "code",
   "execution_count": 17,
   "id": "990d4999-cc4d-4264-b239-10fb0f4773af",
   "metadata": {},
   "outputs": [
    {
     "name": "stderr",
     "output_type": "stream",
     "text": [
      "C:\\Users\\eric\\AppData\\Local\\Temp\\ipykernel_2028\\1586336090.py:5: SettingWithCopyWarning: \n",
      "A value is trying to be set on a copy of a slice from a DataFrame.\n",
      "Try using .loc[row_indexer,col_indexer] = value instead\n",
      "\n",
      "See the caveats in the documentation: https://pandas.pydata.org/pandas-docs/stable/user_guide/indexing.html#returning-a-view-versus-a-copy\n",
      "  sim[\"prediction\"] = model.predict(sim[factors])\n"
     ]
    },
    {
     "data": {
      "text/html": [
       "<div>\n",
       "<style scoped>\n",
       "    .dataframe tbody tr th:only-of-type {\n",
       "        vertical-align: middle;\n",
       "    }\n",
       "\n",
       "    .dataframe tbody tr th {\n",
       "        vertical-align: top;\n",
       "    }\n",
       "\n",
       "    .dataframe thead th {\n",
       "        text-align: right;\n",
       "    }\n",
       "</style>\n",
       "<table border=\"1\" class=\"dataframe\">\n",
       "  <thead>\n",
       "    <tr style=\"text-align: right;\">\n",
       "      <th></th>\n",
       "      <th>year</th>\n",
       "      <th>quarter</th>\n",
       "      <th>ticker</th>\n",
       "      <th>y</th>\n",
       "      <th>assets</th>\n",
       "      <th>liabilities</th>\n",
       "      <th>adjclose</th>\n",
       "      <th>prediction</th>\n",
       "    </tr>\n",
       "  </thead>\n",
       "  <tbody>\n",
       "    <tr>\n",
       "      <th>56</th>\n",
       "      <td>2024</td>\n",
       "      <td>4</td>\n",
       "      <td>UNP</td>\n",
       "      <td>NaN</td>\n",
       "      <td>6.747450e+10</td>\n",
       "      <td>5.183600e+10</td>\n",
       "      <td>236.437574</td>\n",
       "      <td>232.163177</td>\n",
       "    </tr>\n",
       "    <tr>\n",
       "      <th>56</th>\n",
       "      <td>2024</td>\n",
       "      <td>4</td>\n",
       "      <td>VRSK</td>\n",
       "      <td>NaN</td>\n",
       "      <td>4.567000e+09</td>\n",
       "      <td>4.188250e+09</td>\n",
       "      <td>278.073514</td>\n",
       "      <td>294.370056</td>\n",
       "    </tr>\n",
       "    <tr>\n",
       "      <th>56</th>\n",
       "      <td>2024</td>\n",
       "      <td>4</td>\n",
       "      <td>WAB</td>\n",
       "      <td>NaN</td>\n",
       "      <td>1.893200e+10</td>\n",
       "      <td>8.410000e+09</td>\n",
       "      <td>193.621154</td>\n",
       "      <td>198.842896</td>\n",
       "    </tr>\n",
       "    <tr>\n",
       "      <th>56</th>\n",
       "      <td>2024</td>\n",
       "      <td>4</td>\n",
       "      <td>WST</td>\n",
       "      <td>NaN</td>\n",
       "      <td>3.659450e+09</td>\n",
       "      <td>9.305500e+08</td>\n",
       "      <td>312.933174</td>\n",
       "      <td>309.121948</td>\n",
       "    </tr>\n",
       "    <tr>\n",
       "      <th>56</th>\n",
       "      <td>2024</td>\n",
       "      <td>4</td>\n",
       "      <td>ZBH</td>\n",
       "      <td>NaN</td>\n",
       "      <td>2.139495e+10</td>\n",
       "      <td>8.956750e+09</td>\n",
       "      <td>107.373966</td>\n",
       "      <td>108.570679</td>\n",
       "    </tr>\n",
       "  </tbody>\n",
       "</table>\n",
       "</div>"
      ],
      "text/plain": [
       "    year  quarter ticker   y        assets   liabilities    adjclose  \\\n",
       "56  2024        4    UNP NaN  6.747450e+10  5.183600e+10  236.437574   \n",
       "56  2024        4   VRSK NaN  4.567000e+09  4.188250e+09  278.073514   \n",
       "56  2024        4    WAB NaN  1.893200e+10  8.410000e+09  193.621154   \n",
       "56  2024        4    WST NaN  3.659450e+09  9.305500e+08  312.933174   \n",
       "56  2024        4    ZBH NaN  2.139495e+10  8.956750e+09  107.373966   \n",
       "\n",
       "    prediction  \n",
       "56  232.163177  \n",
       "56  294.370056  \n",
       "56  198.842896  \n",
       "56  309.121948  \n",
       "56  108.570679  "
      ]
     },
     "execution_count": 17,
     "metadata": {},
     "output_type": "execute_result"
    }
   ],
   "source": [
    "model = XGBRegressor()\n",
    "training_data = factors_df[(factors_df[\"year\"]>=2013) & (factors_df[\"year\"]<2020)]\n",
    "sim = factors_df[(factors_df[\"year\"]>=2019) ]\n",
    "model.fit(training_data[factors],training_data[\"y\"])\n",
    "sim[\"prediction\"] = model.predict(sim[factors])"
   ]
  },
  {
   "cell_type": "code",
   "execution_count": 19,
   "id": "0f877ba0-a338-475c-a1d7-f4882b2c1fa7",
   "metadata": {},
   "outputs": [
    {
     "name": "stderr",
     "output_type": "stream",
     "text": [
      "100%|██████████████████████████████████████████████████████████████████████████████████████████████████████████████████████████████████████████████████████████████████████████████████████████████| 51/51 [00:02<00:00, 20.81it/s]\n"
     ]
    }
   ],
   "source": [
    "market.connect()\n",
    "prices = []\n",
    "for ticker in tqdm(index[\"ticker\"]):\n",
    "    try:\n",
    "        price = p.column_date_processing(market.query(\"prices\",{\"ticker\":ticker}))\n",
    "        price.sort_values(\"date\",inplace=True)\n",
    "        price[\"year\"] = [x.year for x in price[\"date\"]]\n",
    "        price[\"quarter\"] = [x.quarter for x in price[\"date\"]]\n",
    "        price.sort_values(\"date\",inplace=True)\n",
    "        price = price.merge(sim[[\"year\",\"quarter\",\"ticker\",\"prediction\"]],on=[\"year\",\"quarter\",\"ticker\"],how=\"left\")\n",
    "        prices.append(price)\n",
    "    except:\n",
    "        continue\n",
    "market.disconnect()"
   ]
  },
  {
   "cell_type": "code",
   "execution_count": 88,
   "id": "fb63bbf6-0639-445b-aef4-44998e4f17fb",
   "metadata": {},
   "outputs": [],
   "source": [
    "simulation = pd.concat(prices).dropna()"
   ]
  },
  {
   "cell_type": "code",
   "execution_count": 89,
   "id": "a47566da-a947-4a8d-9e7f-ea8a90a8027b",
   "metadata": {},
   "outputs": [],
   "source": [
    "simulation[\"factor\"] = simulation[\"prediction\"]/simulation[\"adjclose\"] - 1"
   ]
  },
  {
   "cell_type": "code",
   "execution_count": 90,
   "id": "a925fe63-b995-4e49-bd5c-334e8f28a455",
   "metadata": {},
   "outputs": [],
   "source": [
    "simulation[\"rank\"] = simulation.groupby([\"date\"])[\"factor\"].rank(method=\"dense\",ascending=False).astype(int)"
   ]
  },
  {
   "cell_type": "code",
   "execution_count": 91,
   "id": "5dbb4f08-b551-4946-8046-480b3bac375d",
   "metadata": {},
   "outputs": [],
   "source": [
    "simulation[\"exposure\"] = [1 if x < simulation[\"rank\"].max() * 0.20 else -1 if x > simulation[\"rank\"].max() * 0.80 else 0.5 for x in simulation[\"rank\"]]"
   ]
  },
  {
   "cell_type": "code",
   "execution_count": 92,
   "id": "14482271-5bd0-4d7c-b0aa-af35a29f04ff",
   "metadata": {},
   "outputs": [],
   "source": [
    "simulation[\"sell_price\"] = simulation[\"adjclose\"]\n",
    "simulation.sort_values(\"date\",inplace=True)\n",
    "trades = simulation[[\"year\",\"quarter\",\"ticker\",\"exposure\",\"adjclose\",\"sell_price\"]].groupby([\"year\",\"quarter\",\"ticker\"]).agg({\"exposure\":\"first\",\"adjclose\":\"first\",\"sell_price\":\"last\"}).reset_index()\n",
    "trades[\"return\"] = (trades[\"sell_price\"] - trades[\"adjclose\"])/trades[\"adjclose\"]\n",
    "trades[\"return\"] = trades[\"return\"] * trades[\"exposure\"]\n",
    "analysis = trades[[\"year\",\"quarter\",\"exposure\",\"return\"]].groupby([\"year\",\"quarter\",\"exposure\"]).mean().pivot_table(index=[\"year\",\"quarter\"],columns=\"exposure\",values=\"return\")"
   ]
  },
  {
   "cell_type": "code",
   "execution_count": 93,
   "id": "06a18044-6208-4666-812d-57893efbd888",
   "metadata": {},
   "outputs": [
    {
     "data": {
      "text/html": [
       "<div>\n",
       "<style scoped>\n",
       "    .dataframe tbody tr th:only-of-type {\n",
       "        vertical-align: middle;\n",
       "    }\n",
       "\n",
       "    .dataframe tbody tr th {\n",
       "        vertical-align: top;\n",
       "    }\n",
       "\n",
       "    .dataframe thead th {\n",
       "        text-align: right;\n",
       "    }\n",
       "</style>\n",
       "<table border=\"1\" class=\"dataframe\">\n",
       "  <thead>\n",
       "    <tr style=\"text-align: right;\">\n",
       "      <th></th>\n",
       "      <th>year</th>\n",
       "      <th>quarter</th>\n",
       "      <th>ticker</th>\n",
       "      <th>exposure</th>\n",
       "      <th>adjclose</th>\n",
       "      <th>sell_price</th>\n",
       "      <th>return</th>\n",
       "    </tr>\n",
       "  </thead>\n",
       "  <tbody>\n",
       "    <tr>\n",
       "      <th>0</th>\n",
       "      <td>2019</td>\n",
       "      <td>1</td>\n",
       "      <td>ADP</td>\n",
       "      <td>0.5</td>\n",
       "      <td>114.529165</td>\n",
       "      <td>141.316835</td>\n",
       "      <td>0.116947</td>\n",
       "    </tr>\n",
       "    <tr>\n",
       "      <th>1</th>\n",
       "      <td>2019</td>\n",
       "      <td>1</td>\n",
       "      <td>AMAT</td>\n",
       "      <td>0.5</td>\n",
       "      <td>31.379043</td>\n",
       "      <td>37.361853</td>\n",
       "      <td>0.095331</td>\n",
       "    </tr>\n",
       "    <tr>\n",
       "      <th>2</th>\n",
       "      <td>2019</td>\n",
       "      <td>1</td>\n",
       "      <td>APD</td>\n",
       "      <td>0.5</td>\n",
       "      <td>139.515206</td>\n",
       "      <td>167.953264</td>\n",
       "      <td>0.101917</td>\n",
       "    </tr>\n",
       "    <tr>\n",
       "      <th>3</th>\n",
       "      <td>2019</td>\n",
       "      <td>1</td>\n",
       "      <td>AWK</td>\n",
       "      <td>0.5</td>\n",
       "      <td>79.749086</td>\n",
       "      <td>94.112873</td>\n",
       "      <td>0.090056</td>\n",
       "    </tr>\n",
       "    <tr>\n",
       "      <th>4</th>\n",
       "      <td>2019</td>\n",
       "      <td>1</td>\n",
       "      <td>BSX</td>\n",
       "      <td>0.5</td>\n",
       "      <td>34.460000</td>\n",
       "      <td>38.380000</td>\n",
       "      <td>0.056878</td>\n",
       "    </tr>\n",
       "    <tr>\n",
       "      <th>...</th>\n",
       "      <td>...</td>\n",
       "      <td>...</td>\n",
       "      <td>...</td>\n",
       "      <td>...</td>\n",
       "      <td>...</td>\n",
       "      <td>...</td>\n",
       "      <td>...</td>\n",
       "    </tr>\n",
       "    <tr>\n",
       "      <th>1152</th>\n",
       "      <td>2024</td>\n",
       "      <td>4</td>\n",
       "      <td>UNP</td>\n",
       "      <td>0.5</td>\n",
       "      <td>244.149127</td>\n",
       "      <td>226.320000</td>\n",
       "      <td>-0.036513</td>\n",
       "    </tr>\n",
       "    <tr>\n",
       "      <th>1153</th>\n",
       "      <td>2024</td>\n",
       "      <td>4</td>\n",
       "      <td>VRSK</td>\n",
       "      <td>0.5</td>\n",
       "      <td>268.250782</td>\n",
       "      <td>276.860000</td>\n",
       "      <td>0.016047</td>\n",
       "    </tr>\n",
       "    <tr>\n",
       "      <th>1154</th>\n",
       "      <td>2024</td>\n",
       "      <td>4</td>\n",
       "      <td>WAB</td>\n",
       "      <td>0.5</td>\n",
       "      <td>181.267675</td>\n",
       "      <td>193.030000</td>\n",
       "      <td>0.032445</td>\n",
       "    </tr>\n",
       "    <tr>\n",
       "      <th>1155</th>\n",
       "      <td>2024</td>\n",
       "      <td>4</td>\n",
       "      <td>WST</td>\n",
       "      <td>0.5</td>\n",
       "      <td>299.617094</td>\n",
       "      <td>331.400000</td>\n",
       "      <td>0.053039</td>\n",
       "    </tr>\n",
       "    <tr>\n",
       "      <th>1156</th>\n",
       "      <td>2024</td>\n",
       "      <td>4</td>\n",
       "      <td>ZBH</td>\n",
       "      <td>0.5</td>\n",
       "      <td>107.340000</td>\n",
       "      <td>107.120000</td>\n",
       "      <td>-0.001025</td>\n",
       "    </tr>\n",
       "  </tbody>\n",
       "</table>\n",
       "<p>1157 rows × 7 columns</p>\n",
       "</div>"
      ],
      "text/plain": [
       "      year  quarter ticker  exposure    adjclose  sell_price    return\n",
       "0     2019        1    ADP       0.5  114.529165  141.316835  0.116947\n",
       "1     2019        1   AMAT       0.5   31.379043   37.361853  0.095331\n",
       "2     2019        1    APD       0.5  139.515206  167.953264  0.101917\n",
       "3     2019        1    AWK       0.5   79.749086   94.112873  0.090056\n",
       "4     2019        1    BSX       0.5   34.460000   38.380000  0.056878\n",
       "...    ...      ...    ...       ...         ...         ...       ...\n",
       "1152  2024        4    UNP       0.5  244.149127  226.320000 -0.036513\n",
       "1153  2024        4   VRSK       0.5  268.250782  276.860000  0.016047\n",
       "1154  2024        4    WAB       0.5  181.267675  193.030000  0.032445\n",
       "1155  2024        4    WST       0.5  299.617094  331.400000  0.053039\n",
       "1156  2024        4    ZBH       0.5  107.340000  107.120000 -0.001025\n",
       "\n",
       "[1157 rows x 7 columns]"
      ]
     },
     "execution_count": 93,
     "metadata": {},
     "output_type": "execute_result"
    }
   ],
   "source": [
    "trades"
   ]
  },
  {
   "cell_type": "code",
   "execution_count": 94,
   "id": "36cf02b0-947e-445b-9f63-ff00e556ff0b",
   "metadata": {},
   "outputs": [
    {
     "data": {
      "image/png": "[encoded data removed]",
      "text/plain": [
       "<Figure size 1200x600 with 1 Axes>"
      ]
     },
     "metadata": {},
     "output_type": "display_data"
    }
   ],
   "source": [
    "import pandas as pd\n",
    "import matplotlib.pyplot as plt\n",
    "\n",
    "# Assuming `simulation` DataFrame is already loaded\n",
    "\n",
    "# Group, calculate mean, and pivot\n",
    "\n",
    "# Combine 'year' and 'quarter' into a single index for the x-axis\n",
    "analysis['Year-Quarter'] = analysis.index.map(lambda x: f\"{x[0]} Q{x[1]}\")\n",
    "\n",
    "# Reset index for plotting\n",
    "analysis.reset_index(drop=True, inplace=True)\n",
    "\n",
    "# Plot a bar chart\n",
    "analysis.set_index(\"Year-Quarter\").plot(\n",
    "    kind=\"bar\",\n",
    "    figsize=(12, 6),\n",
    "    title=\"Mean Returns by Exposure per Year and Quarter\"\n",
    ")\n",
    "\n",
    "# Customize the plot\n",
    "plt.xlabel(\"Year, Quarter\")\n",
    "plt.ylabel(\"Mean Return\")\n",
    "plt.xticks(rotation=45, ha='right')  # Rotate x-axis labels for better readability\n",
    "plt.legend(title=\"Exposure\")\n",
    "plt.tight_layout()\n",
    "\n",
    "# Show the plot\n",
    "plt.show()\n"
   ]
  }
 ],
 "metadata": {
  "kernelspec": {
   "display_name": "Python 3 (ipykernel)",
   "language": "python",
   "name": "python3"
  },
  "language_info": {
   "codemirror_mode": {
    "name": "ipython",
    "version": 3
   },
   "file_extension": ".py",
   "mimetype": "text/x-python",
   "name": "python",
   "nbconvert_exporter": "python",
   "pygments_lexer": "ipython3",
   "version": "3.11.9"
  }
 },
 "nbformat": 4,
 "nbformat_minor": 5
}
