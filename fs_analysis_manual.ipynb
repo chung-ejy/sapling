{
 "cells": [
  {
   "cell_type": "code",
   "execution_count": 276,
   "id": "73094c60-497a-45ac-bd01-8db8578730b7",
   "metadata": {},
   "outputs": [],
   "source": [
    "import pandas as pd\n",
    "from database.adatabase import ADatabase\n",
    "from xgboost import XGBRegressor\n",
    "import matplotlib.pyplot as plt\n",
    "from tqdm import tqdm\n",
    "from processor.processor import Processor as p\n",
    "from asset.exposure import Exposure\n",
    "from equations.capm import CAPM\n",
    "from sklearn.preprocessing import normalize"
   ]
  },
  {
   "cell_type": "code",
   "execution_count": 277,
   "id": "9131bcf0-e2ac-489b-ac60-ab69b8feda22",
   "metadata": {},
   "outputs": [],
   "source": [
    "sec = ADatabase(\"sec\")\n",
    "market = ADatabase(\"market\")\n",
    "fred = ADatabase(\"fred\")"
   ]
  },
  {
   "cell_type": "code",
   "execution_count": 278,
   "id": "a4179cff-dd72-4218-9d7a-7e01333a3a58",
   "metadata": {},
   "outputs": [],
   "source": [
    "market.connect()\n",
    "index = market.retrieve(\"sp500\")\n",
    "market.disconnect()\n",
    "factors = [\"assets\",\"liabilities\",\"reference_price\"]\n",
    "fred.connect()\n",
    "sp500 = p.column_date_processing(fred.retrieve(\"sp500_projections\").rename(columns={\"prediction\":\"sp500_prediction\"}))\n",
    "interest_rates = p.column_date_processing(fred.retrieve(\"market_yield\").rename(columns={\"value\":\"rf\"}))\n",
    "interest_rates[\"rf\"] = interest_rates[\"rf\"].replace(\".\",0)\n",
    "interest_rates[\"rf\"] = [float(x) / 100 for x in interest_rates[\"rf\"]]\n",
    "fred.disconnect\n",
    "macro = sp500.merge(interest_rates,on=\"date\",how=\"left\")"
   ]
  },
  {
   "cell_type": "code",
   "execution_count": 279,
   "id": "635c8aca-eddc-4b55-a8c3-e351e27a11e9",
   "metadata": {
    "scrolled": true
   },
   "outputs": [
    {
     "name": "stderr",
     "output_type": "stream",
     "text": [
      "27it [00:01, 20.12it/s]"
     ]
    },
    {
     "name": "stdout",
     "output_type": "stream",
     "text": [
      "AMTM 'date'\n"
     ]
    },
    {
     "name": "stderr",
     "output_type": "stream",
     "text": [
      "64it [00:03, 18.69it/s]"
     ]
    },
    {
     "name": "stdout",
     "output_type": "stream",
     "text": [
      "BRK.B 'date'\n"
     ]
    },
    {
     "name": "stderr",
     "output_type": "stream",
     "text": [
      "66it [00:04, 18.27it/s]"
     ]
    },
    {
     "name": "stdout",
     "output_type": "stream",
     "text": [
      "BLK 'date'\n"
     ]
    },
    {
     "name": "stderr",
     "output_type": "stream",
     "text": [
      "79it [00:04, 18.67it/s]"
     ]
    },
    {
     "name": "stdout",
     "output_type": "stream",
     "text": [
      "BF.B 'date'\n"
     ]
    },
    {
     "name": "stderr",
     "output_type": "stream",
     "text": [
      "502it [00:31, 15.99it/s]"
     ]
    },
    {
     "name": "stdout",
     "output_type": "stream",
     "text": [
      "ZTS 'date'\n"
     ]
    },
    {
     "name": "stderr",
     "output_type": "stream",
     "text": [
      "\n"
     ]
    }
   ],
   "source": [
    "market.connect()\n",
    "sec.connect()\n",
    "factors_df = []\n",
    "for row in tqdm(index.iterrows()):\n",
    "    try:\n",
    "        ticker = row[1][\"ticker\"]\n",
    "        cik = int(row[1][\"CIK\"])\n",
    "        price = p.column_date_processing(market.query(\"prices\",{\"ticker\":ticker}))\n",
    "        price.sort_values(\"date\")\n",
    "        price[\"year\"] = [x.year for x in price[\"date\"]]\n",
    "        price[\"quarter\"] = [x.quarter for x in price[\"date\"]]\n",
    "        filings = p.column_date_processing(sec.query(\"filings\",{\"cik\":cik}))\n",
    "        filings[\"year\"] = [x.year + 1 for x in filings[\"date\"]]\n",
    "        filings[\"quarter\"] = [x.quarter for x in filings[\"date\"]]\n",
    "        # filings[\"year\"] = [x.year if x.quarter < 4 else x.year + 1 for x in filings[\"date\"]]\n",
    "        # filings[\"quarter\"] = [x.quarter + 1 if x.quarter < 4 else 1 for x in filings[\"date\"]]\n",
    "        ticker_factors = filings.drop([\"date\",\"cik\"],axis=1).groupby([\"year\",\"quarter\"]).mean().reset_index()\n",
    "        price = price.drop([\"date\",\"ticker\"],axis=1).groupby([\"year\",\"quarter\"]).mean().reset_index()\n",
    "        ticker_factors = ticker_factors.merge(price,on=[\"year\",\"quarter\"],how=\"left\")\n",
    "        ticker_factors[\"ticker\"] = ticker\n",
    "        ticker_factors[\"reference_price\"] = ticker_factors[\"adjclose\"].shift(1)\n",
    "        ticker_factors[\"y\"] = ticker_factors[\"adjclose\"].shift(-1)\n",
    "        factors_df.append(ticker_factors[[\"year\",\"quarter\",\"ticker\",\"adjclose\",\"y\"]+factors])\n",
    "    except Exception as e:\n",
    "        print(ticker,str(e))\n",
    "        continue\n",
    "sec.disconnect()\n",
    "market.disconnect()\n",
    "factors_df = pd.concat(factors_df).sort_values([\"year\",\"quarter\"])"
   ]
  },
  {
   "cell_type": "code",
   "execution_count": 280,
   "id": "7d94bb45-953a-4c7f-a742-188ef6b33b16",
   "metadata": {},
   "outputs": [
    {
     "data": {
      "text/html": [
       "<div>\n",
       "<style scoped>\n",
       "    .dataframe tbody tr th:only-of-type {\n",
       "        vertical-align: middle;\n",
       "    }\n",
       "\n",
       "    .dataframe tbody tr th {\n",
       "        vertical-align: top;\n",
       "    }\n",
       "\n",
       "    .dataframe thead th {\n",
       "        text-align: right;\n",
       "    }\n",
       "</style>\n",
       "<table border=\"1\" class=\"dataframe\">\n",
       "  <thead>\n",
       "    <tr style=\"text-align: right;\">\n",
       "      <th></th>\n",
       "      <th>year</th>\n",
       "      <th>quarter</th>\n",
       "      <th>ticker</th>\n",
       "      <th>adjclose</th>\n",
       "      <th>y</th>\n",
       "      <th>assets</th>\n",
       "      <th>liabilities</th>\n",
       "      <th>reference_price</th>\n",
       "    </tr>\n",
       "  </thead>\n",
       "  <tbody>\n",
       "    <tr>\n",
       "      <th>0</th>\n",
       "      <td>2014</td>\n",
       "      <td>1</td>\n",
       "      <td>A</td>\n",
       "      <td>37.984034</td>\n",
       "      <td>37.120989</td>\n",
       "      <td>1.059450e+10</td>\n",
       "      <td>5.326500e+09</td>\n",
       "      <td>NaN</td>\n",
       "    </tr>\n",
       "    <tr>\n",
       "      <th>1</th>\n",
       "      <td>2014</td>\n",
       "      <td>2</td>\n",
       "      <td>A</td>\n",
       "      <td>37.120989</td>\n",
       "      <td>37.846924</td>\n",
       "      <td>1.056150e+10</td>\n",
       "      <td>5.315000e+09</td>\n",
       "      <td>37.984034</td>\n",
       "    </tr>\n",
       "    <tr>\n",
       "      <th>2</th>\n",
       "      <td>2014</td>\n",
       "      <td>3</td>\n",
       "      <td>A</td>\n",
       "      <td>37.846924</td>\n",
       "      <td>37.250024</td>\n",
       "      <td>1.040700e+10</td>\n",
       "      <td>5.419500e+09</td>\n",
       "      <td>37.120989</td>\n",
       "    </tr>\n",
       "    <tr>\n",
       "      <th>3</th>\n",
       "      <td>2014</td>\n",
       "      <td>4</td>\n",
       "      <td>A</td>\n",
       "      <td>37.250024</td>\n",
       "      <td>37.340297</td>\n",
       "      <td>1.061100e+10</td>\n",
       "      <td>5.374000e+09</td>\n",
       "      <td>37.846924</td>\n",
       "    </tr>\n",
       "    <tr>\n",
       "      <th>4</th>\n",
       "      <td>2015</td>\n",
       "      <td>1</td>\n",
       "      <td>A</td>\n",
       "      <td>37.340297</td>\n",
       "      <td>38.407948</td>\n",
       "      <td>1.066200e+10</td>\n",
       "      <td>5.294000e+09</td>\n",
       "      <td>37.250024</td>\n",
       "    </tr>\n",
       "    <tr>\n",
       "      <th>...</th>\n",
       "      <td>...</td>\n",
       "      <td>...</td>\n",
       "      <td>...</td>\n",
       "      <td>...</td>\n",
       "      <td>...</td>\n",
       "      <td>...</td>\n",
       "      <td>...</td>\n",
       "      <td>...</td>\n",
       "    </tr>\n",
       "    <tr>\n",
       "      <th>42</th>\n",
       "      <td>2024</td>\n",
       "      <td>3</td>\n",
       "      <td>ZBRA</td>\n",
       "      <td>335.879531</td>\n",
       "      <td>387.112069</td>\n",
       "      <td>7.492500e+09</td>\n",
       "      <td>4.630000e+09</td>\n",
       "      <td>304.088016</td>\n",
       "    </tr>\n",
       "    <tr>\n",
       "      <th>43</th>\n",
       "      <td>2024</td>\n",
       "      <td>4</td>\n",
       "      <td>ZBRA</td>\n",
       "      <td>387.112069</td>\n",
       "      <td>NaN</td>\n",
       "      <td>7.430000e+09</td>\n",
       "      <td>4.557000e+09</td>\n",
       "      <td>335.879531</td>\n",
       "    </tr>\n",
       "    <tr>\n",
       "      <th>44</th>\n",
       "      <td>2025</td>\n",
       "      <td>1</td>\n",
       "      <td>ZBRA</td>\n",
       "      <td>NaN</td>\n",
       "      <td>NaN</td>\n",
       "      <td>7.417500e+09</td>\n",
       "      <td>4.533000e+09</td>\n",
       "      <td>387.112069</td>\n",
       "    </tr>\n",
       "    <tr>\n",
       "      <th>45</th>\n",
       "      <td>2025</td>\n",
       "      <td>2</td>\n",
       "      <td>ZBRA</td>\n",
       "      <td>NaN</td>\n",
       "      <td>NaN</td>\n",
       "      <td>7.282500e+09</td>\n",
       "      <td>4.180000e+09</td>\n",
       "      <td>NaN</td>\n",
       "    </tr>\n",
       "    <tr>\n",
       "      <th>46</th>\n",
       "      <td>2025</td>\n",
       "      <td>3</td>\n",
       "      <td>ZBRA</td>\n",
       "      <td>NaN</td>\n",
       "      <td>NaN</td>\n",
       "      <td>7.398000e+09</td>\n",
       "      <td>4.236500e+09</td>\n",
       "      <td>NaN</td>\n",
       "    </tr>\n",
       "  </tbody>\n",
       "</table>\n",
       "<p>21926 rows × 8 columns</p>\n",
       "</div>"
      ],
      "text/plain": [
       "    year  quarter ticker    adjclose           y        assets   liabilities  \\\n",
       "0   2014        1      A   37.984034   37.120989  1.059450e+10  5.326500e+09   \n",
       "1   2014        2      A   37.120989   37.846924  1.056150e+10  5.315000e+09   \n",
       "2   2014        3      A   37.846924   37.250024  1.040700e+10  5.419500e+09   \n",
       "3   2014        4      A   37.250024   37.340297  1.061100e+10  5.374000e+09   \n",
       "4   2015        1      A   37.340297   38.407948  1.066200e+10  5.294000e+09   \n",
       "..   ...      ...    ...         ...         ...           ...           ...   \n",
       "42  2024        3   ZBRA  335.879531  387.112069  7.492500e+09  4.630000e+09   \n",
       "43  2024        4   ZBRA  387.112069         NaN  7.430000e+09  4.557000e+09   \n",
       "44  2025        1   ZBRA         NaN         NaN  7.417500e+09  4.533000e+09   \n",
       "45  2025        2   ZBRA         NaN         NaN  7.282500e+09  4.180000e+09   \n",
       "46  2025        3   ZBRA         NaN         NaN  7.398000e+09  4.236500e+09   \n",
       "\n",
       "    reference_price  \n",
       "0               NaN  \n",
       "1         37.984034  \n",
       "2         37.120989  \n",
       "3         37.846924  \n",
       "4         37.250024  \n",
       "..              ...  \n",
       "42       304.088016  \n",
       "43       335.879531  \n",
       "44       387.112069  \n",
       "45              NaN  \n",
       "46              NaN  \n",
       "\n",
       "[21926 rows x 8 columns]"
      ]
     },
     "execution_count": 280,
     "metadata": {},
     "output_type": "execute_result"
    }
   ],
   "source": [
    "factors_df.sort_values([\"ticker\",\"year\",\"quarter\"])"
   ]
  },
  {
   "cell_type": "code",
   "execution_count": 281,
   "id": "990d4999-cc4d-4264-b239-10fb0f4773af",
   "metadata": {},
   "outputs": [],
   "source": [
    "model = XGBRegressor()\n",
    "factors_df = factors_df.dropna(subset=factors)\n",
    "training_data = factors_df[(factors_df[\"year\"]>=2013) & (factors_df[\"year\"]<2020)].dropna()\n",
    "sim = factors_df[(factors_df[\"year\"]>=2019)].dropna(subset=factors)\n",
    "model.fit(training_data[factors],training_data[\"y\"])\n",
    "sim[\"prediction\"] = model.predict(sim[factors])\n",
    "sim = sim[[\"year\",\"quarter\",\"ticker\",\"prediction\"]]"
   ]
  },
  {
   "cell_type": "code",
   "execution_count": 282,
   "id": "0f877ba0-a338-475c-a1d7-f4882b2c1fa7",
   "metadata": {},
   "outputs": [
    {
     "name": "stderr",
     "output_type": "stream",
     "text": [
      " 13%|███████████████████▏                                                                                                                                     | 63/502 [00:03<00:32, 13.68it/s]"
     ]
    },
    {
     "name": "stdout",
     "output_type": "stream",
     "text": [
      "'date'\n"
     ]
    },
    {
     "name": "stderr",
     "output_type": "stream",
     "text": [
      " 16%|███████████████████████▊                                                                                                                                 | 78/502 [00:04<00:23, 18.28it/s]"
     ]
    },
    {
     "name": "stdout",
     "output_type": "stream",
     "text": [
      "'date'\n"
     ]
    },
    {
     "name": "stderr",
     "output_type": "stream",
     "text": [
      "100%|████████████████████████████████████████████████████████████████████████████████████████████████████████████████████████████████████████████████████████| 502/502 [00:29<00:00, 17.22it/s]"
     ]
    },
    {
     "name": "stdout",
     "output_type": "stream",
     "text": [
      "'date'\n"
     ]
    },
    {
     "name": "stderr",
     "output_type": "stream",
     "text": [
      "\n"
     ]
    }
   ],
   "source": [
    "market.connect()\n",
    "prices = []\n",
    "for ticker in tqdm(index[\"ticker\"]):\n",
    "    try:\n",
    "        price = p.column_date_processing(market.query(\"prices\",{\"ticker\":ticker}))\n",
    "        price.sort_values(\"date\",inplace=True)\n",
    "        price[\"year\"] = [x.year for x in price[\"date\"]]\n",
    "        price[\"quarter\"] = [x.quarter for x in price[\"date\"]]\n",
    "        price.sort_values(\"date\",inplace=True)\n",
    "        price = price.merge(sim[[\"year\",\"quarter\",\"ticker\",\"prediction\"]],on=[\"year\",\"quarter\",\"ticker\"],how=\"left\").merge(macro,on=\"date\",how=\"left\")\n",
    "        price[\"factor\"] = price[\"prediction\"] / price[\"adjclose\"] - 1\n",
    "        # price = CAPM.apply(price)\n",
    "        prices.append(price)\n",
    "    except Exception as e:\n",
    "        print(str(e))\n",
    "        continue\n",
    "market.disconnect()"
   ]
  },
  {
   "cell_type": "code",
   "execution_count": 283,
   "id": "fb63bbf6-0639-445b-aef4-44998e4f17fb",
   "metadata": {},
   "outputs": [],
   "source": [
    "simulation = pd.concat(prices).merge(index,on=\"ticker\",how=\"left\")"
   ]
  },
  {
   "cell_type": "code",
   "execution_count": 284,
   "id": "1bef746e-1a59-467c-8252-15d65257bddd",
   "metadata": {},
   "outputs": [],
   "source": [
    "tickers = list(simulation[simulation[\"year\"]==2020][\"ticker\"].unique())\n",
    "simulation = simulation[simulation[\"ticker\"].isin(tickers)]"
   ]
  },
  {
   "cell_type": "code",
   "execution_count": 285,
   "id": "a925fe63-b995-4e49-bd5c-334e8f28a455",
   "metadata": {},
   "outputs": [
    {
     "ename": "IntCastingNaNError",
     "evalue": "Cannot convert non-finite values (NA or inf) to integer",
     "output_type": "error",
     "traceback": [
      "\u001b[1;31m---------------------------------------------------------------------------\u001b[0m",
      "\u001b[1;31mIntCastingNaNError\u001b[0m                        Traceback (most recent call last)",
      "Cell \u001b[1;32mIn[285], line 1\u001b[0m\n\u001b[1;32m----> 1\u001b[0m simulation[\u001b[38;5;124m\"\u001b[39m\u001b[38;5;124mrank\u001b[39m\u001b[38;5;124m\"\u001b[39m] \u001b[38;5;241m=\u001b[39m \u001b[43msimulation\u001b[49m\u001b[38;5;241;43m.\u001b[39;49m\u001b[43mgroupby\u001b[49m\u001b[43m(\u001b[49m\u001b[43m[\u001b[49m\u001b[38;5;124;43m\"\u001b[39;49m\u001b[38;5;124;43mdate\u001b[39;49m\u001b[38;5;124;43m\"\u001b[39;49m\u001b[43m,\u001b[49m\u001b[38;5;124;43m\"\u001b[39;49m\u001b[38;5;124;43mGICS Sector\u001b[39;49m\u001b[38;5;124;43m\"\u001b[39;49m\u001b[43m]\u001b[49m\u001b[43m)\u001b[49m\u001b[43m[\u001b[49m\u001b[38;5;124;43m\"\u001b[39;49m\u001b[38;5;124;43mfactor\u001b[39;49m\u001b[38;5;124;43m\"\u001b[39;49m\u001b[43m]\u001b[49m\u001b[38;5;241;43m.\u001b[39;49m\u001b[43mrank\u001b[49m\u001b[43m(\u001b[49m\u001b[43mmethod\u001b[49m\u001b[38;5;241;43m=\u001b[39;49m\u001b[38;5;124;43m\"\u001b[39;49m\u001b[38;5;124;43mdense\u001b[39;49m\u001b[38;5;124;43m\"\u001b[39;49m\u001b[43m,\u001b[49m\u001b[43mascending\u001b[49m\u001b[38;5;241;43m=\u001b[39;49m\u001b[38;5;28;43;01mFalse\u001b[39;49;00m\u001b[43m)\u001b[49m\u001b[38;5;241;43m.\u001b[39;49m\u001b[43mastype\u001b[49m\u001b[43m(\u001b[49m\u001b[38;5;28;43mint\u001b[39;49m\u001b[43m)\u001b[49m\n",
      "File \u001b[1;32mE:\\projects\\sapling\\venv\\Lib\\site-packages\\pandas\\core\\generic.py:6643\u001b[0m, in \u001b[0;36mNDFrame.astype\u001b[1;34m(self, dtype, copy, errors)\u001b[0m\n\u001b[0;32m   6637\u001b[0m     results \u001b[38;5;241m=\u001b[39m [\n\u001b[0;32m   6638\u001b[0m         ser\u001b[38;5;241m.\u001b[39mastype(dtype, copy\u001b[38;5;241m=\u001b[39mcopy, errors\u001b[38;5;241m=\u001b[39merrors) \u001b[38;5;28;01mfor\u001b[39;00m _, ser \u001b[38;5;129;01min\u001b[39;00m \u001b[38;5;28mself\u001b[39m\u001b[38;5;241m.\u001b[39mitems()\n\u001b[0;32m   6639\u001b[0m     ]\n\u001b[0;32m   6641\u001b[0m \u001b[38;5;28;01melse\u001b[39;00m:\n\u001b[0;32m   6642\u001b[0m     \u001b[38;5;66;03m# else, only a single dtype is given\u001b[39;00m\n\u001b[1;32m-> 6643\u001b[0m     new_data \u001b[38;5;241m=\u001b[39m \u001b[38;5;28;43mself\u001b[39;49m\u001b[38;5;241;43m.\u001b[39;49m\u001b[43m_mgr\u001b[49m\u001b[38;5;241;43m.\u001b[39;49m\u001b[43mastype\u001b[49m\u001b[43m(\u001b[49m\u001b[43mdtype\u001b[49m\u001b[38;5;241;43m=\u001b[39;49m\u001b[43mdtype\u001b[49m\u001b[43m,\u001b[49m\u001b[43m \u001b[49m\u001b[43mcopy\u001b[49m\u001b[38;5;241;43m=\u001b[39;49m\u001b[43mcopy\u001b[49m\u001b[43m,\u001b[49m\u001b[43m \u001b[49m\u001b[43merrors\u001b[49m\u001b[38;5;241;43m=\u001b[39;49m\u001b[43merrors\u001b[49m\u001b[43m)\u001b[49m\n\u001b[0;32m   6644\u001b[0m     res \u001b[38;5;241m=\u001b[39m \u001b[38;5;28mself\u001b[39m\u001b[38;5;241m.\u001b[39m_constructor_from_mgr(new_data, axes\u001b[38;5;241m=\u001b[39mnew_data\u001b[38;5;241m.\u001b[39maxes)\n\u001b[0;32m   6645\u001b[0m     \u001b[38;5;28;01mreturn\u001b[39;00m res\u001b[38;5;241m.\u001b[39m__finalize__(\u001b[38;5;28mself\u001b[39m, method\u001b[38;5;241m=\u001b[39m\u001b[38;5;124m\"\u001b[39m\u001b[38;5;124mastype\u001b[39m\u001b[38;5;124m\"\u001b[39m)\n",
      "File \u001b[1;32mE:\\projects\\sapling\\venv\\Lib\\site-packages\\pandas\\core\\internals\\managers.py:430\u001b[0m, in \u001b[0;36mBaseBlockManager.astype\u001b[1;34m(self, dtype, copy, errors)\u001b[0m\n\u001b[0;32m    427\u001b[0m \u001b[38;5;28;01melif\u001b[39;00m using_copy_on_write():\n\u001b[0;32m    428\u001b[0m     copy \u001b[38;5;241m=\u001b[39m \u001b[38;5;28;01mFalse\u001b[39;00m\n\u001b[1;32m--> 430\u001b[0m \u001b[38;5;28;01mreturn\u001b[39;00m \u001b[38;5;28;43mself\u001b[39;49m\u001b[38;5;241;43m.\u001b[39;49m\u001b[43mapply\u001b[49m\u001b[43m(\u001b[49m\n\u001b[0;32m    431\u001b[0m \u001b[43m    \u001b[49m\u001b[38;5;124;43m\"\u001b[39;49m\u001b[38;5;124;43mastype\u001b[39;49m\u001b[38;5;124;43m\"\u001b[39;49m\u001b[43m,\u001b[49m\n\u001b[0;32m    432\u001b[0m \u001b[43m    \u001b[49m\u001b[43mdtype\u001b[49m\u001b[38;5;241;43m=\u001b[39;49m\u001b[43mdtype\u001b[49m\u001b[43m,\u001b[49m\n\u001b[0;32m    433\u001b[0m \u001b[43m    \u001b[49m\u001b[43mcopy\u001b[49m\u001b[38;5;241;43m=\u001b[39;49m\u001b[43mcopy\u001b[49m\u001b[43m,\u001b[49m\n\u001b[0;32m    434\u001b[0m \u001b[43m    \u001b[49m\u001b[43merrors\u001b[49m\u001b[38;5;241;43m=\u001b[39;49m\u001b[43merrors\u001b[49m\u001b[43m,\u001b[49m\n\u001b[0;32m    435\u001b[0m \u001b[43m    \u001b[49m\u001b[43musing_cow\u001b[49m\u001b[38;5;241;43m=\u001b[39;49m\u001b[43musing_copy_on_write\u001b[49m\u001b[43m(\u001b[49m\u001b[43m)\u001b[49m\u001b[43m,\u001b[49m\n\u001b[0;32m    436\u001b[0m \u001b[43m\u001b[49m\u001b[43m)\u001b[49m\n",
      "File \u001b[1;32mE:\\projects\\sapling\\venv\\Lib\\site-packages\\pandas\\core\\internals\\managers.py:363\u001b[0m, in \u001b[0;36mBaseBlockManager.apply\u001b[1;34m(self, f, align_keys, **kwargs)\u001b[0m\n\u001b[0;32m    361\u001b[0m         applied \u001b[38;5;241m=\u001b[39m b\u001b[38;5;241m.\u001b[39mapply(f, \u001b[38;5;241m*\u001b[39m\u001b[38;5;241m*\u001b[39mkwargs)\n\u001b[0;32m    362\u001b[0m     \u001b[38;5;28;01melse\u001b[39;00m:\n\u001b[1;32m--> 363\u001b[0m         applied \u001b[38;5;241m=\u001b[39m \u001b[38;5;28;43mgetattr\u001b[39;49m\u001b[43m(\u001b[49m\u001b[43mb\u001b[49m\u001b[43m,\u001b[49m\u001b[43m \u001b[49m\u001b[43mf\u001b[49m\u001b[43m)\u001b[49m\u001b[43m(\u001b[49m\u001b[38;5;241;43m*\u001b[39;49m\u001b[38;5;241;43m*\u001b[39;49m\u001b[43mkwargs\u001b[49m\u001b[43m)\u001b[49m\n\u001b[0;32m    364\u001b[0m     result_blocks \u001b[38;5;241m=\u001b[39m extend_blocks(applied, result_blocks)\n\u001b[0;32m    366\u001b[0m out \u001b[38;5;241m=\u001b[39m \u001b[38;5;28mtype\u001b[39m(\u001b[38;5;28mself\u001b[39m)\u001b[38;5;241m.\u001b[39mfrom_blocks(result_blocks, \u001b[38;5;28mself\u001b[39m\u001b[38;5;241m.\u001b[39maxes)\n",
      "File \u001b[1;32mE:\\projects\\sapling\\venv\\Lib\\site-packages\\pandas\\core\\internals\\blocks.py:758\u001b[0m, in \u001b[0;36mBlock.astype\u001b[1;34m(self, dtype, copy, errors, using_cow, squeeze)\u001b[0m\n\u001b[0;32m    755\u001b[0m         \u001b[38;5;28;01mraise\u001b[39;00m \u001b[38;5;167;01mValueError\u001b[39;00m(\u001b[38;5;124m\"\u001b[39m\u001b[38;5;124mCan not squeeze with more than one column.\u001b[39m\u001b[38;5;124m\"\u001b[39m)\n\u001b[0;32m    756\u001b[0m     values \u001b[38;5;241m=\u001b[39m values[\u001b[38;5;241m0\u001b[39m, :]  \u001b[38;5;66;03m# type: ignore[call-overload]\u001b[39;00m\n\u001b[1;32m--> 758\u001b[0m new_values \u001b[38;5;241m=\u001b[39m \u001b[43mastype_array_safe\u001b[49m\u001b[43m(\u001b[49m\u001b[43mvalues\u001b[49m\u001b[43m,\u001b[49m\u001b[43m \u001b[49m\u001b[43mdtype\u001b[49m\u001b[43m,\u001b[49m\u001b[43m \u001b[49m\u001b[43mcopy\u001b[49m\u001b[38;5;241;43m=\u001b[39;49m\u001b[43mcopy\u001b[49m\u001b[43m,\u001b[49m\u001b[43m \u001b[49m\u001b[43merrors\u001b[49m\u001b[38;5;241;43m=\u001b[39;49m\u001b[43merrors\u001b[49m\u001b[43m)\u001b[49m\n\u001b[0;32m    760\u001b[0m new_values \u001b[38;5;241m=\u001b[39m maybe_coerce_values(new_values)\n\u001b[0;32m    762\u001b[0m refs \u001b[38;5;241m=\u001b[39m \u001b[38;5;28;01mNone\u001b[39;00m\n",
      "File \u001b[1;32mE:\\projects\\sapling\\venv\\Lib\\site-packages\\pandas\\core\\dtypes\\astype.py:237\u001b[0m, in \u001b[0;36mastype_array_safe\u001b[1;34m(values, dtype, copy, errors)\u001b[0m\n\u001b[0;32m    234\u001b[0m     dtype \u001b[38;5;241m=\u001b[39m dtype\u001b[38;5;241m.\u001b[39mnumpy_dtype\n\u001b[0;32m    236\u001b[0m \u001b[38;5;28;01mtry\u001b[39;00m:\n\u001b[1;32m--> 237\u001b[0m     new_values \u001b[38;5;241m=\u001b[39m \u001b[43mastype_array\u001b[49m\u001b[43m(\u001b[49m\u001b[43mvalues\u001b[49m\u001b[43m,\u001b[49m\u001b[43m \u001b[49m\u001b[43mdtype\u001b[49m\u001b[43m,\u001b[49m\u001b[43m \u001b[49m\u001b[43mcopy\u001b[49m\u001b[38;5;241;43m=\u001b[39;49m\u001b[43mcopy\u001b[49m\u001b[43m)\u001b[49m\n\u001b[0;32m    238\u001b[0m \u001b[38;5;28;01mexcept\u001b[39;00m (\u001b[38;5;167;01mValueError\u001b[39;00m, \u001b[38;5;167;01mTypeError\u001b[39;00m):\n\u001b[0;32m    239\u001b[0m     \u001b[38;5;66;03m# e.g. _astype_nansafe can fail on object-dtype of strings\u001b[39;00m\n\u001b[0;32m    240\u001b[0m     \u001b[38;5;66;03m#  trying to convert to float\u001b[39;00m\n\u001b[0;32m    241\u001b[0m     \u001b[38;5;28;01mif\u001b[39;00m errors \u001b[38;5;241m==\u001b[39m \u001b[38;5;124m\"\u001b[39m\u001b[38;5;124mignore\u001b[39m\u001b[38;5;124m\"\u001b[39m:\n",
      "File \u001b[1;32mE:\\projects\\sapling\\venv\\Lib\\site-packages\\pandas\\core\\dtypes\\astype.py:182\u001b[0m, in \u001b[0;36mastype_array\u001b[1;34m(values, dtype, copy)\u001b[0m\n\u001b[0;32m    179\u001b[0m     values \u001b[38;5;241m=\u001b[39m values\u001b[38;5;241m.\u001b[39mastype(dtype, copy\u001b[38;5;241m=\u001b[39mcopy)\n\u001b[0;32m    181\u001b[0m \u001b[38;5;28;01melse\u001b[39;00m:\n\u001b[1;32m--> 182\u001b[0m     values \u001b[38;5;241m=\u001b[39m \u001b[43m_astype_nansafe\u001b[49m\u001b[43m(\u001b[49m\u001b[43mvalues\u001b[49m\u001b[43m,\u001b[49m\u001b[43m \u001b[49m\u001b[43mdtype\u001b[49m\u001b[43m,\u001b[49m\u001b[43m \u001b[49m\u001b[43mcopy\u001b[49m\u001b[38;5;241;43m=\u001b[39;49m\u001b[43mcopy\u001b[49m\u001b[43m)\u001b[49m\n\u001b[0;32m    184\u001b[0m \u001b[38;5;66;03m# in pandas we don't store numpy str dtypes, so convert to object\u001b[39;00m\n\u001b[0;32m    185\u001b[0m \u001b[38;5;28;01mif\u001b[39;00m \u001b[38;5;28misinstance\u001b[39m(dtype, np\u001b[38;5;241m.\u001b[39mdtype) \u001b[38;5;129;01mand\u001b[39;00m \u001b[38;5;28missubclass\u001b[39m(values\u001b[38;5;241m.\u001b[39mdtype\u001b[38;5;241m.\u001b[39mtype, \u001b[38;5;28mstr\u001b[39m):\n",
      "File \u001b[1;32mE:\\projects\\sapling\\venv\\Lib\\site-packages\\pandas\\core\\dtypes\\astype.py:101\u001b[0m, in \u001b[0;36m_astype_nansafe\u001b[1;34m(arr, dtype, copy, skipna)\u001b[0m\n\u001b[0;32m     96\u001b[0m     \u001b[38;5;28;01mreturn\u001b[39;00m lib\u001b[38;5;241m.\u001b[39mensure_string_array(\n\u001b[0;32m     97\u001b[0m         arr, skipna\u001b[38;5;241m=\u001b[39mskipna, convert_na_value\u001b[38;5;241m=\u001b[39m\u001b[38;5;28;01mFalse\u001b[39;00m\n\u001b[0;32m     98\u001b[0m     )\u001b[38;5;241m.\u001b[39mreshape(shape)\n\u001b[0;32m    100\u001b[0m \u001b[38;5;28;01melif\u001b[39;00m np\u001b[38;5;241m.\u001b[39missubdtype(arr\u001b[38;5;241m.\u001b[39mdtype, np\u001b[38;5;241m.\u001b[39mfloating) \u001b[38;5;129;01mand\u001b[39;00m dtype\u001b[38;5;241m.\u001b[39mkind \u001b[38;5;129;01min\u001b[39;00m \u001b[38;5;124m\"\u001b[39m\u001b[38;5;124miu\u001b[39m\u001b[38;5;124m\"\u001b[39m:\n\u001b[1;32m--> 101\u001b[0m     \u001b[38;5;28;01mreturn\u001b[39;00m \u001b[43m_astype_float_to_int_nansafe\u001b[49m\u001b[43m(\u001b[49m\u001b[43marr\u001b[49m\u001b[43m,\u001b[49m\u001b[43m \u001b[49m\u001b[43mdtype\u001b[49m\u001b[43m,\u001b[49m\u001b[43m \u001b[49m\u001b[43mcopy\u001b[49m\u001b[43m)\u001b[49m\n\u001b[0;32m    103\u001b[0m \u001b[38;5;28;01melif\u001b[39;00m arr\u001b[38;5;241m.\u001b[39mdtype \u001b[38;5;241m==\u001b[39m \u001b[38;5;28mobject\u001b[39m:\n\u001b[0;32m    104\u001b[0m     \u001b[38;5;66;03m# if we have a datetime/timedelta array of objects\u001b[39;00m\n\u001b[0;32m    105\u001b[0m     \u001b[38;5;66;03m# then coerce to datetime64[ns] and use DatetimeArray.astype\u001b[39;00m\n\u001b[0;32m    107\u001b[0m     \u001b[38;5;28;01mif\u001b[39;00m lib\u001b[38;5;241m.\u001b[39mis_np_dtype(dtype, \u001b[38;5;124m\"\u001b[39m\u001b[38;5;124mM\u001b[39m\u001b[38;5;124m\"\u001b[39m):\n",
      "File \u001b[1;32mE:\\projects\\sapling\\venv\\Lib\\site-packages\\pandas\\core\\dtypes\\astype.py:145\u001b[0m, in \u001b[0;36m_astype_float_to_int_nansafe\u001b[1;34m(values, dtype, copy)\u001b[0m\n\u001b[0;32m    141\u001b[0m \u001b[38;5;250m\u001b[39m\u001b[38;5;124;03m\"\"\"\u001b[39;00m\n\u001b[0;32m    142\u001b[0m \u001b[38;5;124;03mastype with a check preventing converting NaN to an meaningless integer value.\u001b[39;00m\n\u001b[0;32m    143\u001b[0m \u001b[38;5;124;03m\"\"\"\u001b[39;00m\n\u001b[0;32m    144\u001b[0m \u001b[38;5;28;01mif\u001b[39;00m \u001b[38;5;129;01mnot\u001b[39;00m np\u001b[38;5;241m.\u001b[39misfinite(values)\u001b[38;5;241m.\u001b[39mall():\n\u001b[1;32m--> 145\u001b[0m     \u001b[38;5;28;01mraise\u001b[39;00m IntCastingNaNError(\n\u001b[0;32m    146\u001b[0m         \u001b[38;5;124m\"\u001b[39m\u001b[38;5;124mCannot convert non-finite values (NA or inf) to integer\u001b[39m\u001b[38;5;124m\"\u001b[39m\n\u001b[0;32m    147\u001b[0m     )\n\u001b[0;32m    148\u001b[0m \u001b[38;5;28;01mif\u001b[39;00m dtype\u001b[38;5;241m.\u001b[39mkind \u001b[38;5;241m==\u001b[39m \u001b[38;5;124m\"\u001b[39m\u001b[38;5;124mu\u001b[39m\u001b[38;5;124m\"\u001b[39m:\n\u001b[0;32m    149\u001b[0m     \u001b[38;5;66;03m# GH#45151\u001b[39;00m\n\u001b[0;32m    150\u001b[0m     \u001b[38;5;28;01mif\u001b[39;00m \u001b[38;5;129;01mnot\u001b[39;00m (values \u001b[38;5;241m>\u001b[39m\u001b[38;5;241m=\u001b[39m \u001b[38;5;241m0\u001b[39m)\u001b[38;5;241m.\u001b[39mall():\n",
      "\u001b[1;31mIntCastingNaNError\u001b[0m: Cannot convert non-finite values (NA or inf) to integer"
     ]
    }
   ],
   "source": [
    "simulation[\"rank\"] = simulation.groupby([\"date\",\"GICS Sector\"])[\"factor\"].rank(method=\"dense\",ascending=False).astype(int)"
   ]
  },
  {
   "cell_type": "code",
   "execution_count": null,
   "id": "5dbb4f08-b551-4946-8046-480b3bac375d",
   "metadata": {},
   "outputs": [],
   "source": [
    "simulation[\"exposure\"] = [1 if x <= simulation[\"rank\"].max() or x > simulation[\"rank\"].max() * 0.90 else 1.0/6.0 for x in simulation[\"rank\"]]"
   ]
  },
  {
   "cell_type": "code",
   "execution_count": null,
   "id": "243596f4-df19-419f-ae71-6f08c9013452",
   "metadata": {},
   "outputs": [],
   "source": [
    "simulation[\"projected\"] = simulation[\"factor\"] * simulation[\"exposure\"]"
   ]
  },
  {
   "cell_type": "code",
   "execution_count": null,
   "id": "14482271-5bd0-4d7c-b0aa-af35a29f04ff",
   "metadata": {},
   "outputs": [],
   "source": [
    "simulation[\"sell_price\"] = simulation[\"adjclose\"]\n",
    "simulation.sort_values(\"date\",inplace=True)\n",
    "trades = simulation[[\"year\",\"quarter\",\"GICS Sector\",\"ticker\",\"projected\",\"exposure\",\"adjclose\",\"sell_price\"]].groupby([\"year\",\"quarter\",\"ticker\"]).agg({\"GICS Sector\":\"first\",\"projected\":\"first\",\"exposure\":\"first\",\"adjclose\":\"first\",\"sell_price\":\"last\"}).reset_index()\n",
    "trades = trades.sort_values(\"projected\",ascending=False).groupby([\"year\",\"quarter\",\"GICS Sector\"]).first().reset_index()\n",
    "trades[\"return\"] = (trades[\"sell_price\"] - trades[\"adjclose\"])/trades[\"adjclose\"]\n",
    "trades[\"return\"] = trades[\"return\"] * trades[\"exposure\"]\n",
    "analysis = trades[[\"year\",\"quarter\",\"exposure\",\"return\"]].groupby([\"year\",\"quarter\",\"exposure\"]).mean().pivot_table(index=[\"year\",\"quarter\"],columns=\"exposure\",values=\"return\").reset_index()"
   ]
  },
  {
   "cell_type": "code",
   "execution_count": null,
   "id": "06a18044-6208-4666-812d-57893efbd888",
   "metadata": {},
   "outputs": [],
   "source": [
    "trades.sort_values(\"return\",ascending=False).head(40)"
   ]
  },
  {
   "cell_type": "code",
   "execution_count": null,
   "id": "4c5dfbe0-896b-4cf9-9730-6eb72b21b3a2",
   "metadata": {},
   "outputs": [],
   "source": [
    "trades.iloc[-505:].to_csv(\"current.csv\")"
   ]
  },
  {
   "cell_type": "code",
   "execution_count": null,
   "id": "36cf02b0-947e-445b-9f63-ff00e556ff0b",
   "metadata": {},
   "outputs": [],
   "source": [
    "analysis['Year-Quarter'] = analysis[\"year\"].astype(str) + \"q\" + analysis[\"quarter\"].astype(str)\n",
    "\n",
    "# Reset index for plotting\n",
    "analysis.drop([\"year\",\"quarter\"],axis=1,inplace=True)\n",
    "analysis.reset_index(drop=True, inplace=True)\n",
    "\n",
    "# Plot a bar chart\n",
    "analysis.set_index(\"Year-Quarter\").plot(\n",
    "    kind=\"bar\",\n",
    "    figsize=(12, 6),\n",
    "    title=\"Mean Returns by Exposure per Year and Quarter\"\n",
    ")\n",
    "\n",
    "# Customize the plot\n",
    "plt.xlabel(\"Year, Quarter\")\n",
    "plt.ylabel(\"Mean Return\")\n",
    "plt.xticks(rotation=45, ha='right')  # Rotate x-axis labels for better readability\n",
    "plt.legend(title=\"Exposure\")\n",
    "plt.tight_layout()\n",
    "\n",
    "# Show the plot\n",
    "plt.show()\n"
   ]
  },
  {
   "cell_type": "code",
   "execution_count": null,
   "id": "d22253c4-e658-4883-8ad9-c9b92b8f3fe7",
   "metadata": {},
   "outputs": [],
   "source": [
    "macro[\"year\"] = [x.year for x in macro[\"date\"]]\n",
    "macro[\"quarter\"] = [x.quarter for x in macro[\"date\"]]\n",
    "benchmark = macro.drop([\"date\",\"realtime_start\",\"realtime_end\"],axis=1).groupby([\"year\",\"quarter\"]).mean().reset_index()\n",
    "benchmark[\"sp500\"] = benchmark[\"sp500\"] / benchmark[\"sp500\"].iloc[0] - 1\n",
    "benchmark[\"rf\"] = benchmark[\"rf\"] / benchmark[\"rf\"].iloc[0] - 1\n",
    "benchmark[\"sp500_prediction\"] = benchmark[\"sp500_prediction\"] / benchmark[\"sp500_prediction\"].iloc[0] - 1"
   ]
  },
  {
   "cell_type": "code",
   "execution_count": null,
   "id": "c14fa62c-3972-4514-971f-2c23dd221ad2",
   "metadata": {},
   "outputs": [],
   "source": [
    "benchmark"
   ]
  },
  {
   "cell_type": "code",
   "execution_count": null,
   "id": "3ff085ca-ba05-4911-9912-6e6de1c2f8f2",
   "metadata": {},
   "outputs": [],
   "source": [
    "portfolio = trades[[\"year\",\"quarter\",\"return\"]].groupby([\"year\",\"quarter\"]).mean().reset_index().sort_values([\"year\",\"quarter\"])\n",
    "portfolio[\"return\"] = portfolio[\"return\"] + 1\n",
    "portfolio[\"return\"] = portfolio[\"return\"].cumprod() - 1\n",
    "portfolio['Year-Quarter'] = portfolio[\"year\"].astype(str) + \"q\" + portfolio[\"quarter\"].astype(str)\n",
    "portfolio = portfolio.merge(benchmark,on=[\"year\",\"quarter\"],how=\"left\")"
   ]
  },
  {
   "cell_type": "code",
   "execution_count": null,
   "id": "2d80d54c-8bd8-4174-9215-f8c9e516e4cb",
   "metadata": {},
   "outputs": [],
   "source": [
    "portfolio.drop([\"year\",\"quarter\"],axis=1,inplace=True)\n",
    "portfolio.set_index(\"Year-Quarter\").plot(\n",
    "    kind=\"line\",\n",
    "    figsize=(12, 6),\n",
    "    title=\"Mean Returns by Exposure per Year and Quarter\"\n",
    ")"
   ]
  },
  {
   "cell_type": "code",
   "execution_count": null,
   "id": "597bcabe-1a9d-4b72-a2fa-4f84dc767e26",
   "metadata": {},
   "outputs": [],
   "source": [
    "trades.groupby([\"year\",\"quarter\",\"GICS Sector\"]).agg({\"return\":\"mean\"}).tail(20)"
   ]
  },
  {
   "cell_type": "code",
   "execution_count": null,
   "id": "9023efb8-dc7b-4dd5-b693-25897a415d0a",
   "metadata": {},
   "outputs": [],
   "source": [
    "sim"
   ]
  }
 ],
 "metadata": {
  "kernelspec": {
   "display_name": "Python 3 (ipykernel)",
   "language": "python",
   "name": "python3"
  },
  "language_info": {
   "codemirror_mode": {
    "name": "ipython",
    "version": 3
   },
   "file_extension": ".py",
   "mimetype": "text/x-python",
   "name": "python",
   "nbconvert_exporter": "python",
   "pygments_lexer": "ipython3",
   "version": "3.11.9"
  }
 },
 "nbformat": 4,
 "nbformat_minor": 5
}
