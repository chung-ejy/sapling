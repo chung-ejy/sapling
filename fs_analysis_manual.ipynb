{
 "cells": [
  {
   "cell_type": "code",
   "execution_count": null,
   "id": "73094c60-497a-45ac-bd01-8db8578730b7",
   "metadata": {},
   "outputs": [],
   "source": [
    "import pandas as pd\n",
    "from database.adatabase import ADatabase\n",
    "from xgboost import XGBRegressor\n",
    "import matplotlib.pyplot as plt\n",
    "from tqdm import tqdm\n",
    "from processor.processor import Processor as p\n",
    "from asset.exposure import Exposure\n",
    "from equations.capm import CAPM\n",
    "from sklearn.preprocessing import normalize\n",
    "import yfinance as yf"
   ]
  },
  {
   "cell_type": "code",
   "execution_count": null,
   "id": "9131bcf0-e2ac-489b-ac60-ab69b8feda22",
   "metadata": {},
   "outputs": [],
   "source": [
    "sec = ADatabase(\"sec\")\n",
    "market = ADatabase(\"market\")\n",
    "fred = ADatabase(\"fred\")"
   ]
  },
  {
   "cell_type": "code",
   "execution_count": null,
   "id": "a4179cff-dd72-4218-9d7a-7e01333a3a58",
   "metadata": {},
   "outputs": [],
   "source": [
    "market.connect()\n",
    "index = market.retrieve(\"sp500\")\n",
    "market.disconnect()\n",
    "factors = [\"assets\",\"liabilities\",\"reference_price\"]\n",
    "fred.connect()\n",
    "sp500 = p.column_date_processing(fred.retrieve(\"sp500_projections\").rename(columns={\"prediction\":\"sp500_prediction\"}))\n",
    "interest_rates = p.column_date_processing(fred.retrieve(\"market_yield\").rename(columns={\"value\":\"rf\"}))\n",
    "interest_rates[\"rf\"] = interest_rates[\"rf\"].replace(\".\",0)\n",
    "interest_rates[\"rf\"] = [float(x) / 100 for x in interest_rates[\"rf\"]]\n",
    "fred.disconnect\n",
    "macro = sp500.merge(interest_rates,on=\"date\",how=\"left\")"
   ]
  },
  {
   "cell_type": "code",
   "execution_count": null,
   "id": "b636ae36-6cb6-4721-8c60-a9100d2faa87",
   "metadata": {},
   "outputs": [],
   "source": [
    "market_data = {}\n",
    "\n",
    "for ticker in tqdm(index[\"ticker\"]):\n",
    "    try:\n",
    "        stock_info = yf.Ticker(ticker).info\n",
    "        market_data[ticker] = {\n",
    "            'market_cap': stock_info.get('marketCap', None),\n",
    "            'sector': stock_info.get('sector', None),\n",
    "        }\n",
    "    except KeyError:\n",
    "        market_data[ticker] = {'market_cap': None, 'sector': None}  # Handle missing data\n",
    "\n",
    "# Convert to DataFrame\n",
    "market_caps_df = pd.DataFrame.from_dict(market_data, orient='index').reset_index()\n",
    "market_caps_df.columns = ['ticker', 'market_cap', 'sector']\n",
    "print(market_caps_df)"
   ]
  },
  {
   "cell_type": "code",
   "execution_count": null,
   "id": "635c8aca-eddc-4b55-a8c3-e351e27a11e9",
   "metadata": {
    "scrolled": true
   },
   "outputs": [],
   "source": [
    "market.connect()\n",
    "sec.connect()\n",
    "factors_df = []\n",
    "for row in tqdm(index.iterrows()):\n",
    "    try:\n",
    "        ticker = row[1][\"ticker\"]\n",
    "        cik = int(row[1][\"CIK\"])\n",
    "        price = p.column_date_processing(market.query(\"prices\",{\"ticker\":ticker}))\n",
    "        price.sort_values(\"date\")\n",
    "        price[\"year\"] = [x.year for x in price[\"date\"]]\n",
    "        price[\"quarter\"] = [x.quarter for x in price[\"date\"]]\n",
    "        filings = p.column_date_processing(sec.query(\"filings\",{\"cik\":cik}))\n",
    "        # filings[\"year\"] = [x.year + 1 for x in filings[\"date\"]]\n",
    "        # filings[\"quarter\"] = [x.quarter for x in filings[\"date\"]]\n",
    "        filings[\"year\"] = [x.year if x.quarter < 4 else x.year + 1 for x in filings[\"date\"]]\n",
    "        filings[\"quarter\"] = [x.quarter + 1 if x.quarter < 4 else 1 for x in filings[\"date\"]]\n",
    "        ticker_factors = filings.drop([\"date\",\"cik\"],axis=1).groupby([\"year\",\"quarter\"]).mean().reset_index()\n",
    "        price = price.drop([\"date\",\"ticker\"],axis=1).groupby([\"year\",\"quarter\"]).mean().reset_index()\n",
    "        ticker_factors = ticker_factors.merge(price,on=[\"year\",\"quarter\"],how=\"left\")\n",
    "        ticker_factors[\"ticker\"] = ticker\n",
    "        ticker_factors[\"reference_price\"] = ticker_factors[\"adjclose\"].shift(1)\n",
    "        ticker_factors[\"y\"] = ticker_factors[\"adjclose\"].shift(-1)\n",
    "        factors_df.append(ticker_factors[[\"year\",\"quarter\",\"ticker\",\"adjclose\",\"y\"]+factors])\n",
    "    except Exception as e:\n",
    "        print(ticker,str(e))\n",
    "        continue\n",
    "sec.disconnect()\n",
    "market.disconnect()\n",
    "factors_df = pd.concat(factors_df).sort_values([\"year\",\"quarter\"])"
   ]
  },
  {
   "cell_type": "code",
   "execution_count": null,
   "id": "990d4999-cc4d-4264-b239-10fb0f4773af",
   "metadata": {},
   "outputs": [],
   "source": [
    "model_start = 2013\n",
    "model_end = 2020\n",
    "backtest_end = 2025\n",
    "model = XGBRegressor()\n",
    "factors_df = factors_df.dropna(subset=factors)\n",
    "training_data = factors_df[(factors_df[\"year\"]>=model_start) & (factors_df[\"year\"]<model_end)].dropna()\n",
    "sim = factors_df[(factors_df[\"year\"]>=model_end-1) & (factors_df[\"year\"]<backtest_end)].dropna(subset=factors)\n",
    "model.fit(training_data[factors],training_data[\"y\"])\n",
    "sim[\"prediction\"] = model.predict(sim[factors])\n",
    "sim = sim[[\"year\",\"quarter\",\"ticker\",\"prediction\"]]"
   ]
  },
  {
   "cell_type": "code",
   "execution_count": null,
   "id": "0f877ba0-a338-475c-a1d7-f4882b2c1fa7",
   "metadata": {},
   "outputs": [],
   "source": [
    "market.connect()\n",
    "prices = []\n",
    "for ticker in tqdm(index[\"ticker\"]):\n",
    "    try:\n",
    "        price = p.column_date_processing(market.query(\"prices\",{\"ticker\":ticker}))\n",
    "        price.sort_values(\"date\",inplace=True)\n",
    "        price[\"year\"] = [x.year for x in price[\"date\"]]\n",
    "        price[\"quarter\"] = [x.quarter for x in price[\"date\"]]\n",
    "        price.sort_values(\"date\",inplace=True)\n",
    "        price = price.merge(sim[[\"year\",\"quarter\",\"ticker\",\"prediction\"]],on=[\"year\",\"quarter\",\"ticker\"],how=\"left\").merge(macro,on=\"date\",how=\"left\")\n",
    "        price[\"factor\"] = price[\"prediction\"] / price[\"adjclose\"] - 1\n",
    "        price = CAPM.apply(price)\n",
    "        prices.append(price)\n",
    "    except Exception as e:\n",
    "        print(str(e))\n",
    "        continue\n",
    "market.disconnect()"
   ]
  },
  {
   "cell_type": "code",
   "execution_count": null,
   "id": "0541359a-ecd0-46c3-905c-3b71143cf93c",
   "metadata": {},
   "outputs": [],
   "source": [
    "simulation = pd.concat(prices).merge(index,on=\"ticker\",how=\"left\").merge(market_caps_df,on=\"ticker\",how=\"left\")\n",
    "simulation[\"year\"] = simulation[\"date\"].dt.year\n",
    "simulation[\"quarter\"] = simulation[\"date\"].dt.quarter\n",
    "simulation = simulation[(simulation[\"year\"]>=model_end) & (simulation[\"year\"]<backtest_end)].dropna()\n",
    "tickers = list(simulation[simulation[\"year\"]==model_end][\"ticker\"].unique())\n",
    "simulation = simulation[simulation[\"ticker\"].isin(tickers)]\n",
    "simulation[\"rank\"] = simulation.groupby([\"date\", \"GICS Sector\"])[\"factor\"].rank(method=\"dense\", ascending=False).astype(int)\n",
    "\n",
    "# Calculate the total number of ranks for each sector and date\n",
    "simulation[\"total_ranks\"] = simulation.groupby([\"date\", \"GICS Sector\"])[\"rank\"].transform(\"max\")\n",
    "\n",
    "# Assign exposure based on rank\n",
    "simulation[\"exposure\"] = simulation.apply(\n",
    "    lambda x: 1 if x[\"rank\"] <= x[\"total_ranks\"] * 0.50 else -1,\n",
    "    axis=1\n",
    ")\n",
    "\n",
    "# Cleanup: Drop the total_ranks column if not needed\n",
    "simulation.drop(columns=[\"total_ranks\"], inplace=True)\n",
    "\n",
    "# Sorting by date for further processing\n",
    "simulation.sort_values(\"date\", inplace=True)\n",
    "simulation[\"sell_price\"] = simulation[\"adjclose\"]\n",
    "simulation[\"sell_date\"] = simulation[\"date\"]\n",
    "simulation.sort_values(\"date\",inplace=True)"
   ]
  },
  {
   "cell_type": "code",
   "execution_count": null,
   "id": "a31fcc36-6855-4fd4-88b1-f88fc90e9b3c",
   "metadata": {},
   "outputs": [],
   "source": [
    "benchmark = macro.copy()\n",
    "benchmark[\"year\"] = benchmark[\"date\"].dt.year\n",
    "benchmark[\"quarter\"] = benchmark[\"date\"].dt.quarter\n",
    "benchmark = benchmark[(benchmark[\"year\"]>=model_end) & (benchmark[\"year\"]<backtest_end)].drop([x for x in benchmark.columns if \"real\" in x],axis=1).groupby([\"year\",\"quarter\"]).mean().reset_index()\n",
    "benchmark[\"sp500\"] = (benchmark[\"sp500\"] - benchmark[\"sp500\"].iloc[0]) /benchmark[\"sp500\"].iloc[0]\n",
    "benchmark[\"rf\"] = (benchmark[\"rf\"] - benchmark[\"rf\"].iloc[0]) /benchmark[\"rf\"].iloc[0]\n",
    "benchmark[\"sp500_prediction\"] = (benchmark[\"sp500_prediction\"] - benchmark[\"sp500_prediction\"].iloc[0]) /benchmark[\"sp500_prediction\"].iloc[0]\n",
    "benchmark.dropna(inplace=True)"
   ]
  },
  {
   "cell_type": "code",
   "execution_count": null,
   "id": "0986d675-16a3-4949-8a6b-0be95b4c101e",
   "metadata": {},
   "outputs": [],
   "source": [
    "def rank_list(value,i):\n",
    "    # Ensure i is a non-negative integer\n",
    "    if value == 0:\n",
    "        if i < 0:\n",
    "            raise ValueError(\"The number of integers, i, must be non-negative.\")\n",
    "        \n",
    "        if i % 2 == 0:\n",
    "            # Even number of elements: Symmetric around 0\n",
    "            return list(range(-i // 2, i // 2))\n",
    "        else:\n",
    "            # Odd number of elements: Includes 0\n",
    "            return list(range(-i // 2, i // 2 + 1))\n",
    "    if value == -1:\n",
    "        return list(range(-1,-i-1,-1))\n",
    "    else:\n",
    "        return list(range(0,i,1))"
   ]
  },
  {
   "cell_type": "code",
   "execution_count": null,
   "id": "d32f6b4b-70f7-4456-943d-06253cf5565c",
   "metadata": {},
   "outputs": [],
   "source": [
    "filtered_columns = [\"year\",\"quarter\",\"date\",\"sell_date\",\"GICS Sector\",\"ticker\",\"rank\",\"exposure\",\"adjclose\",\"sell_price\"]\n",
    "agg_query = {\"date\":\"first\",\"sell_date\":\"last\",\"GICS Sector\":\"first\",\"exposure\":\"first\",\"rank\":\"first\",\"adjclose\":\"first\",\"sell_price\":\"last\"}"
   ]
  },
  {
   "cell_type": "code",
   "execution_count": null,
   "id": "bca0d2e8-21ea-4703-9126-aaf7e9813a75",
   "metadata": {
    "scrolled": true
   },
   "outputs": [],
   "source": [
    "run = True\n",
    "if run:\n",
    "    analysises = []\n",
    "    for direction in tqdm([1,-1]):\n",
    "        for value in tqdm([1,0,-1]):\n",
    "            for maximum_index in tqdm([1,50,100,200]):\n",
    "                for minimum_index in [0,50,100,200]:\n",
    "                    for num_stocks_per_industry in [1,5,10,25,50]:\n",
    "                        try:\n",
    "                            parameters = {\n",
    "                                \"direction\":direction,\n",
    "                                \"val\":value,\n",
    "                                \"maxi\": maximum_index,\n",
    "                                \"mini\": minimum_index,\n",
    "                                \"stacks\": num_stocks_per_industry\n",
    "                            }\n",
    "                            stacks = rank_list(value,num_stocks_per_industry)\n",
    "                            max_cap = simulation.sort_values(\"market_cap\")[\"market_cap\"].unique()[-maximum_index]\n",
    "                            min_cap = simulation.sort_values(\"market_cap\")[\"market_cap\"].unique()[minimum_index]\n",
    "                            filtered_simulation = simulation[(simulation[\"market_cap\"]<=max_cap) & (simulation[\"market_cap\"]>=min_cap)].copy()\n",
    "                            trades = filtered_simulation[filtered_columns].groupby([\"year\",\"quarter\",\"ticker\"]).agg(agg_query).reset_index()\n",
    "                            trades = trades.sort_values(\"rank\",ascending=True).groupby([\"year\",\"quarter\",\"GICS Sector\"]).nth(stacks).reset_index()\n",
    "                            trades[\"return\"] = (trades[\"sell_price\"] - trades[\"adjclose\"])/trades[\"adjclose\"]\n",
    "                            trades[\"return\"] = trades[\"return\"] * trades[\"exposure\"] * direction \n",
    "                            analysis = trades[[\"year\",\"quarter\",\"exposure\",\"return\"]].groupby([\"year\",\"quarter\",\"exposure\"]).mean().pivot_table(index=[\"year\",\"quarter\"],columns=\"exposure\",values=\"return\").reset_index()\n",
    "                            portfolio = trades[[\"year\",\"quarter\",\"return\"]].groupby([\"year\",\"quarter\"]).mean().reset_index().sort_values([\"year\",\"quarter\"])\n",
    "                            portfolio[\"return\"] = portfolio[\"return\"] + 1\n",
    "                            portfolio[\"return\"] = portfolio[\"return\"].cumprod() - 1\n",
    "                            portfolio['Year-Quarter'] = portfolio[\"year\"].astype(str) + \"q\" + portfolio[\"quarter\"].astype(str)\n",
    "                            portfolio = portfolio.merge(benchmark,on=[\"year\",\"quarter\"],how=\"left\")\n",
    "                            portfolio[\"sharpe\"] = portfolio[\"return\"] - portfolio[\"rf\"] / portfolio[\"return\"].std()\n",
    "                            parameters[\"risk\"] = portfolio[\"return\"].std()\n",
    "                            parameters[\"sharpe\"] = portfolio[\"sharpe\"].iloc[-1]\n",
    "                            parameters[\"return\"] = portfolio[\"return\"].iloc[-1]\n",
    "                            analysises.append(parameters)\n",
    "                        except Exception as e:\n",
    "                            print(str(e))\n",
    "                            continue"
   ]
  },
  {
   "cell_type": "code",
   "execution_count": null,
   "id": "52720f5f-bd79-4d9c-ba27-08401d6e7cf1",
   "metadata": {
    "scrolled": true
   },
   "outputs": [],
   "source": [
    "a = pd.DataFrame(analysises)\n",
    "a[\"color\"] = [\"blue\" if x == 1 else \"red\" if x == -1  else \"green\" for x in a[\"val\"]]\n",
    "a[\"return_to_risk\"] = a[\"return\"] / a[\"risk\"]"
   ]
  },
  {
   "cell_type": "code",
   "execution_count": null,
   "id": "735ed1bc-01f2-4e36-acb7-cab72ad2757f",
   "metadata": {},
   "outputs": [],
   "source": [
    "fig, axes = plt.subplots(1, 2, figsize=(12, 6), sharey=True)\n",
    "\n",
    "# Titles for each subplot\n",
    "titles = [\"Direction: 1\", \"Direction: -1\"]\n",
    "\n",
    "# Iterate over directions and corresponding axes\n",
    "for i, direction in enumerate([1, -1]):\n",
    "    d_analysis = a[a[\"direction\"] == direction]\n",
    "    axes[i].scatter(\n",
    "        d_analysis[\"sharpe\"],\n",
    "        d_analysis[\"return\"],\n",
    "        c=d_analysis[\"color\"],\n",
    "        s=d_analysis[\"stacks\"] * 2,\n",
    "        alpha=0.8,\n",
    "        edgecolors=\"w\",\n",
    "    )\n",
    "    axes[i].set_title(titles[i])\n",
    "    axes[i].set_xlabel(\"Sharpe Ratio\")\n",
    "    axes[i].set_ylabel(\"Return\" if i == 0 else \"\")  # Only label y-axis on the first plot\n",
    "\n",
    "# Adjust layout for better spacing\n",
    "plt.tight_layout()\n",
    "\n",
    "# Show the combined plot\n",
    "plt.show()"
   ]
  },
  {
   "cell_type": "code",
   "execution_count": null,
   "id": "ffdcee08-f13c-497c-a627-b89480f8f437",
   "metadata": {},
   "outputs": [],
   "source": [
    "a.sort_values(\"return\",ascending=False).head(20)"
   ]
  },
  {
   "cell_type": "code",
   "execution_count": null,
   "id": "fb63bbf6-0639-445b-aef4-44998e4f17fb",
   "metadata": {},
   "outputs": [],
   "source": [
    "minimum_index = 0\n",
    "maximum_index = 1\n",
    "num_stocks_per_industry = 25\n",
    "value = 1\n",
    "direction = 1\n",
    "stacks = rank_list(value,num_stocks_per_industry)"
   ]
  },
  {
   "cell_type": "code",
   "execution_count": null,
   "id": "1bef746e-1a59-467c-8252-15d65257bddd",
   "metadata": {},
   "outputs": [],
   "source": [
    "stacks = rank_list(value,num_stocks_per_industry)\n",
    "max_cap = simulation.sort_values(\"market_cap\")[\"market_cap\"].unique()[-maximum_index]\n",
    "min_cap = simulation.sort_values(\"market_cap\")[\"market_cap\"].unique()[minimum_index]\n",
    "filtered_simulation = simulation[(simulation[\"market_cap\"]<=max_cap) & (simulation[\"market_cap\"]>=min_cap)].copy()\n",
    "trades = filtered_simulation[filtered_columns].groupby([\"year\",\"quarter\",\"ticker\"]).agg(agg_query).reset_index()\n",
    "trades = trades.sort_values(\"rank\",ascending=True).groupby([\"year\",\"quarter\",\"GICS Sector\"]).nth(stacks).reset_index()\n",
    "trades[\"return\"] = (trades[\"sell_price\"] - trades[\"adjclose\"])/trades[\"adjclose\"]\n",
    "trades[\"return\"] = trades[\"return\"] * trades[\"exposure\"] * direction \n",
    "analysis = trades[[\"year\",\"quarter\",\"exposure\",\"return\"]].groupby([\"year\",\"quarter\",\"exposure\"]).mean().pivot_table(index=[\"year\",\"quarter\"],columns=\"exposure\",values=\"return\").reset_index()\n",
    "portfolio = trades[[\"year\",\"quarter\",\"return\"]].groupby([\"year\",\"quarter\"]).mean().reset_index().sort_values([\"year\",\"quarter\"])\n",
    "portfolio[\"return\"] = portfolio[\"return\"] + 1\n",
    "portfolio[\"return\"] = portfolio[\"return\"].cumprod() - 1\n",
    "portfolio['Year-Quarter'] = portfolio[\"year\"].astype(str) + \"q\" + portfolio[\"quarter\"].astype(str)\n",
    "portfolio = portfolio.merge(benchmark,on=[\"year\",\"quarter\"],how=\"left\")"
   ]
  },
  {
   "cell_type": "code",
   "execution_count": null,
   "id": "36cf02b0-947e-445b-9f63-ff00e556ff0b",
   "metadata": {},
   "outputs": [],
   "source": [
    "analysis['Year-Quarter'] = analysis[\"year\"].astype(str) + \"q\" + analysis[\"quarter\"].astype(str)\n",
    "\n",
    "# Reset index for plotting\n",
    "analysis.drop([\"year\",\"quarter\"],axis=1,inplace=True)\n",
    "analysis.reset_index(drop=True, inplace=True)\n",
    "\n",
    "# Plot a bar chart\n",
    "analysis.set_index(\"Year-Quarter\").plot(\n",
    "    kind=\"bar\",\n",
    "    figsize=(12, 6),\n",
    "    title=\"Mean Returns by Exposure per Year and Quarter\"\n",
    ")\n",
    "\n",
    "# Customize the plot\n",
    "plt.xlabel(\"Year, Quarter\")\n",
    "plt.ylabel(\"Mean Return\")\n",
    "plt.xticks(rotation=45, ha='right')  # Rotate x-axis labels for better readability\n",
    "plt.legend(title=\"Exposure\")\n",
    "plt.tight_layout()\n",
    "\n",
    "# Show the plot\n",
    "plt.show()\n"
   ]
  },
  {
   "cell_type": "code",
   "execution_count": null,
   "id": "2d80d54c-8bd8-4174-9215-f8c9e516e4cb",
   "metadata": {},
   "outputs": [],
   "source": [
    "# Create the plot\n",
    "ax = portfolio.drop([\"date\", \"year\", \"quarter\"], axis=1).set_index(\"Year-Quarter\").plot(\n",
    "    kind=\"line\",\n",
    "    figsize=(12, 6),\n",
    "    title=\"Mean Returns by Exposure per Year and Quarter\"\n",
    ")\n",
    "\n",
    "# Set y-axis to have more precise ticks\n",
    "ax.tick_params(axis='y', direction='in', length=6)  # Adjust y-tick direction and length\n",
    "ax.yaxis.set_major_formatter(plt.FuncFormatter(lambda x, _: f'{x:.4f}'))  # Format y-ticks with 4 decimal places\n",
    "\n",
    "# Move y-ticks to the right side\n",
    "ax.yaxis.set_tick_params(which='both', direction='inout', length=6, labelleft=False, labelright=True)\n",
    "\n",
    "# Optionally adjust the number of ticks for better precision\n",
    "ax.yaxis.set_major_locator(plt.MaxNLocator(integer=False, prune='both'))\n",
    "\n",
    "# Add grid lines\n",
    "ax.grid(True, which='both', axis='both', linestyle='--', linewidth=0.7)\n",
    "\n",
    "# Display the plot\n",
    "plt.tight_layout()\n",
    "plt.show()\n"
   ]
  },
  {
   "cell_type": "code",
   "execution_count": null,
   "id": "828e4d63-decf-47e6-94db-55f6073afe90",
   "metadata": {},
   "outputs": [],
   "source": [
    "portfolio.head()"
   ]
  },
  {
   "cell_type": "code",
   "execution_count": null,
   "id": "597bcabe-1a9d-4b72-a2fa-4f84dc767e26",
   "metadata": {},
   "outputs": [],
   "source": [
    "trades.groupby([\"year\",\"quarter\",\"GICS Sector\"]).agg({\"return\":\"mean\"}).tail(11)"
   ]
  },
  {
   "cell_type": "code",
   "execution_count": null,
   "id": "c6425210-3798-45f9-a21f-415d13c2a210",
   "metadata": {},
   "outputs": [],
   "source": [
    "print(((macro[\"sp500\"].pct_change().cumsum().iloc[-1]+1) ** (1/6))/macro[\"sp500\"].pct_change().cumsum().std())"
   ]
  }
 ],
 "metadata": {
  "kernelspec": {
   "display_name": "Python 3 (ipykernel)",
   "language": "python",
   "name": "python3"
  },
  "language_info": {
   "codemirror_mode": {
    "name": "ipython",
    "version": 3
   },
   "file_extension": ".py",
   "mimetype": "text/x-python",
   "name": "python",
   "nbconvert_exporter": "python",
   "pygments_lexer": "ipython3",
   "version": "3.11.9"
  }
 },
 "nbformat": 4,
 "nbformat_minor": 5
}
