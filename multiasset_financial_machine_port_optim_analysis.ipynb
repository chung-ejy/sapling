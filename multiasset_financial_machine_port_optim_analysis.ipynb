{
 "cells": [
  {
   "cell_type": "code",
   "execution_count": 1,
   "id": "2ed8cf89-aedf-487b-8f4c-be90c03b04e4",
   "metadata": {},
   "outputs": [],
   "source": [
    "from processor.processor import Processor as processor\n",
    "from database.adatabase import ADatabase\n",
    "from xgboost import XGBRegressor\n",
    "from statistics import mean\n",
    "import math\n",
    "import pandas as pd\n",
    "import numpy as np\n",
    "from scipy.optimize import linprog\n",
    "import matplotlib.pyplot as plt\n",
    "from datetime import datetime, timedelta\n",
    "from tqdm import tqdm\n",
    "from dotenv import load_dotenv\n",
    "from asset.stock import Stock\n",
    "from asset.bond import Bond\n",
    "from asset.option import Option\n",
    "import warnings\n",
    "import pytz\n",
    "import copy\n",
    "warnings.simplefilter(action=\"ignore\")\n",
    "import pickle\n",
    "import wrds"
   ]
  },
  {
   "cell_type": "code",
   "execution_count": 2,
   "id": "f83d2e0d-1c3e-411d-bc6d-9f5b6aa766cc",
   "metadata": {},
   "outputs": [],
   "source": [
    "market = ADatabase(\"market\")\n",
    "sec = ADatabase(\"sec\")\n",
    "market = ADatabase(\"market\")\n",
    "fred = ADatabase(\"fred\")\n",
    "db = ADatabase(\"sapling\")"
   ]
  },
  {
   "cell_type": "code",
   "execution_count": 3,
   "id": "e3a1d483-9d3a-4549-9621-6009595e6c43",
   "metadata": {},
   "outputs": [],
   "source": [
    "sp500 = pd.read_html(\"https://en.wikipedia.org/wiki/List_of_S%26P_500_companies\",attrs={\"id\":\"constituents\"})[0].rename(columns={\"Symbol\":\"ticker\"})"
   ]
  },
  {
   "cell_type": "code",
   "execution_count": 4,
   "id": "d7462b2c-0844-4f56-8d4a-a0ec394baf95",
   "metadata": {},
   "outputs": [],
   "source": [
    "fred.connect()\n",
    "market_yield = fred.retrieve(\"market_yield\")\n",
    "market_yield = market_yield.rename(columns={\"value\":\"rf\"})\n",
    "market_yield[\"rf\"] = market_yield[\"rf\"].replace(\".\",np.nan)\n",
    "market_yield.dropna(inplace=True)\n",
    "market_yield[\"rf\"] = [float(x)/100 for x in market_yield[\"rf\"]]\n",
    "market_yield = processor.column_date_processing(market_yield)\n",
    "spy = fred.retrieve(\"sp500\")\n",
    "spy = spy.rename(columns={\"value\":\"spy\"})\n",
    "spy[\"spy\"] = spy[\"spy\"].replace(\".\",np.nan)\n",
    "spy.dropna(inplace=True)\n",
    "spy[\"spy\"] = [float(x) for x in spy[\"spy\"]]\n",
    "spy = processor.column_date_processing(spy)\n",
    "spy = spy.sort_values(\"date\")\n",
    "fred.disconnect()"
   ]
  },
  {
   "cell_type": "code",
   "execution_count": 5,
   "id": "f4ea8cad-467e-44f4-9a57-500dd57a7d09",
   "metadata": {},
   "outputs": [],
   "source": [
    "unneeded_columns = [\"ticker\",\"year\",\"quarter\",\"gsector\",\"gicdesc\",\"y\"]"
   ]
  },
  {
   "cell_type": "code",
   "execution_count": 6,
   "id": "91385ace-f70c-4b9d-8ee2-e5f58c67ed3c",
   "metadata": {
    "scrolled": true
   },
   "outputs": [
    {
     "name": "stderr",
     "output_type": "stream",
     "text": [
      "  4%|█████████▋                                                                                                                                                                                                                              | 21/503 [00:02<00:43, 11.08it/s]"
     ]
    },
    {
     "name": "stdout",
     "output_type": "stream",
     "text": [
      "GOOGL 'date'\n"
     ]
    },
    {
     "name": "stderr",
     "output_type": "stream",
     "text": [
      " 11%|████████████████████████▍                                                                                                                                                                                                               | 53/503 [00:05<00:44, 10.20it/s]"
     ]
    },
    {
     "name": "stdout",
     "output_type": "stream",
     "text": [
      "AVB 'date'\n"
     ]
    },
    {
     "name": "stderr",
     "output_type": "stream",
     "text": [
      " 13%|█████████████████████████████▌                                                                                                                                                                                                          | 64/503 [00:06<00:38, 11.46it/s]"
     ]
    },
    {
     "name": "stdout",
     "output_type": "stream",
     "text": [
      "BRK.B 'date'\n"
     ]
    },
    {
     "name": "stderr",
     "output_type": "stream",
     "text": [
      " 15%|███████████████████████████████████▌                                                                                                                                                                                                    | 77/503 [00:07<00:35, 12.07it/s]"
     ]
    },
    {
     "name": "stdout",
     "output_type": "stream",
     "text": [
      "BF.B 'date'\n"
     ]
    },
    {
     "name": "stderr",
     "output_type": "stream",
     "text": [
      " 16%|█████████████████████████████████████▎                                                                                                                                                                                                  | 81/503 [00:07<00:36, 11.69it/s]"
     ]
    },
    {
     "name": "stdout",
     "output_type": "stream",
     "text": [
      "BXP 'date'\n"
     ]
    },
    {
     "name": "stderr",
     "output_type": "stream",
     "text": [
      " 18%|█████████████████████████████████████████▌                                                                                                                                                                                              | 90/503 [00:08<00:30, 13.36it/s]"
     ]
    },
    {
     "name": "stdout",
     "output_type": "stream",
     "text": [
      "CCL 'date'\n"
     ]
    },
    {
     "name": "stderr",
     "output_type": "stream",
     "text": [
      " 26%|███████████████████████████████████████████████████████████▋                                                                                                                                                                           | 130/503 [00:12<00:33, 11.11it/s]"
     ]
    },
    {
     "name": "stdout",
     "output_type": "stream",
     "text": [
      "CPAY 'date'\n"
     ]
    },
    {
     "name": "stderr",
     "output_type": "stream",
     "text": [
      " 28%|█████████████████████████████████████████████████████████████████▏                                                                                                                                                                     | 142/503 [00:13<00:30, 11.79it/s]"
     ]
    },
    {
     "name": "stdout",
     "output_type": "stream",
     "text": [
      "DAY 'date'\n"
     ]
    },
    {
     "name": "stderr",
     "output_type": "stream",
     "text": [
      " 30%|████████████████████████████████████████████████████████████████████▉                                                                                                                                                                  | 150/503 [00:14<00:28, 12.26it/s]"
     ]
    },
    {
     "name": "stdout",
     "output_type": "stream",
     "text": [
      "DLR 'date'\n"
     ]
    },
    {
     "name": "stderr",
     "output_type": "stream",
     "text": [
      " 36%|██████████████████████████████████████████████████████████████████████████████████▏                                                                                                                                                    | 179/503 [00:17<00:28, 11.45it/s]"
     ]
    },
    {
     "name": "stdout",
     "output_type": "stream",
     "text": [
      "EQR 'date'\n",
      "ESS 'date'\n"
     ]
    },
    {
     "name": "stderr",
     "output_type": "stream",
     "text": [
      " 36%|████████████████████████████████████████████████████████████████████████████████████                                                                                                                                                   | 183/503 [00:17<00:29, 10.86it/s]"
     ]
    },
    {
     "name": "stdout",
     "output_type": "stream",
     "text": [
      "EG 'date'\n"
     ]
    },
    {
     "name": "stderr",
     "output_type": "stream",
     "text": [
      " 39%|█████████████████████████████████████████████████████████████████████████████████████████▌                                                                                                                                             | 195/503 [00:18<00:29, 10.49it/s]"
     ]
    },
    {
     "name": "stdout",
     "output_type": "stream",
     "text": [
      "FRT 'date'\n"
     ]
    },
    {
     "name": "stderr",
     "output_type": "stream",
     "text": [
      " 42%|█████████████████████████████████████████████████████████████████████████████████████████████████▊                                                                                                                                     | 213/503 [00:20<00:25, 11.19it/s]"
     ]
    },
    {
     "name": "stdout",
     "output_type": "stream",
     "text": [
      "GEV 'date'\n"
     ]
    },
    {
     "name": "stderr",
     "output_type": "stream",
     "text": [
      " 52%|███████████████████████████████████████████████████████████████████████████████████████████████████████████████████████▊                                                                                                               | 261/503 [00:25<00:17, 14.14it/s]"
     ]
    },
    {
     "name": "stdout",
     "output_type": "stream",
     "text": [
      "IVZ 'date'\n",
      "INVH 'date'\n"
     ]
    },
    {
     "name": "stderr",
     "output_type": "stream",
     "text": [
      " 53%|███████████████████████████████████████████████████████████████████████████████████████████████████████████████████████████▌                                                                                                           | 269/503 [00:26<00:25,  9.27it/s]"
     ]
    },
    {
     "name": "stdout",
     "output_type": "stream",
     "text": [
      "JCI 'date'\n"
     ]
    },
    {
     "name": "stderr",
     "output_type": "stream",
     "text": [
      " 55%|███████████████████████████████████████████████████████████████████████████████████████████████████████████████████████████████▋                                                                                                       | 278/503 [00:26<00:20, 10.99it/s]"
     ]
    },
    {
     "name": "stdout",
     "output_type": "stream",
     "text": [
      "KIM 'date'\n"
     ]
    },
    {
     "name": "stderr",
     "output_type": "stream",
     "text": [
      " 59%|████████████████████████████████████████████████████████████████████████████████████████████████████████████████████████████████████████▊                                                                                              | 298/503 [00:28<00:16, 12.43it/s]"
     ]
    },
    {
     "name": "stdout",
     "output_type": "stream",
     "text": [
      "LYB 'date'\n"
     ]
    },
    {
     "name": "stderr",
     "output_type": "stream",
     "text": [
      " 64%|████████████████████████████████████████████████████████████████████████████████████████████████████████████████████████████████████████████████████▎                                                                                  | 323/503 [00:31<00:16, 11.23it/s]"
     ]
    },
    {
     "name": "stdout",
     "output_type": "stream",
     "text": [
      "MAA 'date'\n"
     ]
    },
    {
     "name": "stderr",
     "output_type": "stream",
     "text": [
      " 69%|███████████████████████████████████████████████████████████████████████████████████████████████████████████████████████████████████████████████████████████████▊                                                                       | 348/503 [00:33<00:14, 10.91it/s]"
     ]
    },
    {
     "name": "stdout",
     "output_type": "stream",
     "text": [
      "NCLH 'date'\n"
     ]
    },
    {
     "name": "stderr",
     "output_type": "stream",
     "text": [
      " 70%|██████████████████████████████████████████████████████████████████████████████████████████████████████████████████████████████████████████████████████████████████▌                                                                    | 354/503 [00:34<00:14, 10.40it/s]"
     ]
    },
    {
     "name": "stdout",
     "output_type": "stream",
     "text": [
      "NXPI 'date'\n"
     ]
    },
    {
     "name": "stderr",
     "output_type": "stream",
     "text": [
      " 79%|███████████████████████████████████████████████████████████████████████████████████████████████████████████████████████████████████████████████████████████████████████████████████████▏                                               | 399/503 [00:39<00:10,  9.57it/s]"
     ]
    },
    {
     "name": "stdout",
     "output_type": "stream",
     "text": [
      "REG 'date'\n"
     ]
    },
    {
     "name": "stderr",
     "output_type": "stream",
     "text": [
      " 81%|███████████████████████████████████████████████████████████████████████████████████████████████████████████████████████████████████████████████████████████████████████████████████████████▊                                           | 409/503 [00:39<00:08, 10.79it/s]"
     ]
    },
    {
     "name": "stdout",
     "output_type": "stream",
     "text": [
      "RCL 'date'\n"
     ]
    },
    {
     "name": "stderr",
     "output_type": "stream",
     "text": [
      " 82%|█████████████████████████████████████████████████████████████████████████████████████████████████████████████████████████████████████████████████████████████████████████████████████████████▋                                         | 413/503 [00:40<00:07, 11.92it/s]"
     ]
    },
    {
     "name": "stdout",
     "output_type": "stream",
     "text": [
      "SLB 'date'\n"
     ]
    },
    {
     "name": "stderr",
     "output_type": "stream",
     "text": [
      " 84%|██████████████████████████████████████████████████████████████████████████████████████████████████████████████████████████████████████████████████████████████████████████████████████████████████▎                                    | 423/503 [00:41<00:06, 12.69it/s]"
     ]
    },
    {
     "name": "stdout",
     "output_type": "stream",
     "text": [
      "SOLV 'date'\n"
     ]
    },
    {
     "name": "stderr",
     "output_type": "stream",
     "text": [
      " 92%|███████████████████████████████████████████████████████████████████████████████████████████████████████████████████████████████████████████████████████████████████████████████████████████████████████████████████▋                   | 461/503 [00:45<00:03, 11.46it/s]"
     ]
    },
    {
     "name": "stdout",
     "output_type": "stream",
     "text": [
      "UDR 'date'\n"
     ]
    },
    {
     "name": "stderr",
     "output_type": "stream",
     "text": [
      " 94%|████████████████████████████████████████████████████████████████████████████████████████████████████████████████████████████████████████████████████████████████████████████████████████████████████████████████████████▊              | 472/503 [00:46<00:02, 12.51it/s]"
     ]
    },
    {
     "name": "stdout",
     "output_type": "stream",
     "text": [
      "VLTO 'date'\n"
     ]
    },
    {
     "name": "stderr",
     "output_type": "stream",
     "text": [
      " 95%|███████████████████████████████████████████████████████████████████████████████████████████████████████████████████████████████████████████████████████████████████████████████████████████████████████████████████████████            | 477/503 [00:46<00:01, 14.52it/s]"
     ]
    },
    {
     "name": "stdout",
     "output_type": "stream",
     "text": [
      "VICI 'date'\n"
     ]
    },
    {
     "name": "stderr",
     "output_type": "stream",
     "text": [
      " 98%|██████████████████████████████████████████████████████████████████████████████████████████████████████████████████████████████████████████████████████████████████████████████████████████████████████████████████████████████████▍    | 493/503 [00:48<00:00, 11.28it/s]"
     ]
    },
    {
     "name": "stdout",
     "output_type": "stream",
     "text": [
      "WELL 'date'\n"
     ]
    },
    {
     "name": "stderr",
     "output_type": "stream",
     "text": [
      "100%|███████████████████████████████████████████████████████████████████████████████████████████████████████████████████████████████████████████████████████████████████████████████████████████████████████████████████████████████████████| 503/503 [00:49<00:00, 10.26it/s]\n"
     ]
    }
   ],
   "source": [
    "market.connect()\n",
    "sec.connect()\n",
    "factors_df = []\n",
    "for ticker in tqdm(sp500[\"ticker\"].unique()):\n",
    "    try:\n",
    "        price = processor.column_date_processing(market.query(\"historical_prices\",{\"ticker\":ticker}))\n",
    "        price[\"year\"] = [x.year for x in price[\"date\"]]\n",
    "        price[\"quarter\"] = [x.quarter for x in price[\"date\"]]\n",
    "        filings = processor.column_date_processing(sec.query(\"financials\",{\"ticker\":ticker})).drop([\"gsector\",\"gicdesc\"],axis=1)\n",
    "        filings[\"year\"] = [x.year for x in filings[\"date\"]]\n",
    "        filings[\"quarter\"] = [x.quarter for x in filings[\"date\"]]\n",
    "        filings[\"quarter\"] = filings[\"quarter\"].shift(1)\n",
    "        price = price.drop([\"date\",\"ticker\"],axis=1).merge(filings.drop([\"date\",\"ticker\"],axis=1),on=[\"year\",\"quarter\"],how=\"left\").groupby([\"year\",\"quarter\"]).mean().reset_index()\n",
    "        price[\"ticker\"] = ticker\n",
    "        price[\"y\"] = price[\"adjclose\"].shift(-4)\n",
    "        factors_df.append(price)\n",
    "    except Exception as e:\n",
    "        print(ticker,str(e))\n",
    "        continue\n",
    "sec.disconnect()\n",
    "market.disconnect()"
   ]
  },
  {
   "cell_type": "code",
   "execution_count": 7,
   "id": "20232945-482a-466e-9beb-22417e8f3490",
   "metadata": {},
   "outputs": [],
   "source": [
    "factors_df = pd.concat(factors_df)"
   ]
  },
  {
   "cell_type": "code",
   "execution_count": 8,
   "id": "86a1c8e8-8e20-4438-9c74-038a9bc907a1",
   "metadata": {},
   "outputs": [],
   "source": [
    "for column in factors_df:\n",
    "    if column in factors_df[column]:\n",
    "        factors_df.drop(column,axis=1,inplace=True)"
   ]
  },
  {
   "cell_type": "code",
   "execution_count": 9,
   "id": "db4debcc-1f19-4c68-9d94-51317a62d68e",
   "metadata": {},
   "outputs": [],
   "source": [
    "factors_df = factors_df.fillna(0)"
   ]
  },
  {
   "cell_type": "code",
   "execution_count": 27,
   "id": "2c85bf4a-8add-4870-a2eb-beed6d0b79a6",
   "metadata": {},
   "outputs": [],
   "source": [
    "start_year = 2015\n",
    "end_year = 2022\n",
    "sim_end_year = 2024"
   ]
  },
  {
   "cell_type": "code",
   "execution_count": 11,
   "id": "01e9afd6-ec9f-4977-9ed7-99c0c7d05db1",
   "metadata": {},
   "outputs": [],
   "source": [
    "model = XGBRegressor()\n",
    "factors = [\"ptb\",\"roa\",\"mktcap\",\"bm\",\"short_debt\",\"divyield\",\"adjclose\"]\n",
    "factors_df.sort_values([\"year\",\"quarter\"],inplace=True)\n",
    "training_data = factors_df[(factors_df[\"year\"]>start_year) & (factors_df[\"year\"]<end_year)].dropna()\n",
    "sim = factors_df[(factors_df[\"year\"]>=end_year) & (factors_df[\"year\"]<sim_end_year)].drop(\"y\",axis=1).dropna()\n",
    "model.fit(training_data[factors],training_data[\"y\"])\n",
    "sim[\"prediction\"] = model.predict(sim[factors])"
   ]
  },
  {
   "cell_type": "code",
   "execution_count": 12,
   "id": "774135ee-3814-46ab-8508-e056b2ceb96b",
   "metadata": {
    "scrolled": true
   },
   "outputs": [
    {
     "name": "stderr",
     "output_type": "stream",
     "text": [
      " 13%|█████████████████████████████                                                                                                                                                                                                           | 63/503 [00:06<00:41, 10.55it/s]"
     ]
    },
    {
     "name": "stdout",
     "output_type": "stream",
     "text": [
      "BRK.B 'date'\n"
     ]
    },
    {
     "name": "stderr",
     "output_type": "stream",
     "text": [
      " 15%|██████████████████████████████████▌                                                                                                                                                                                                     | 75/503 [00:07<00:39, 10.81it/s]"
     ]
    },
    {
     "name": "stdout",
     "output_type": "stream",
     "text": [
      "BF.B 'date'\n"
     ]
    },
    {
     "name": "stderr",
     "output_type": "stream",
     "text": [
      " 29%|███████████████████████████████████████████████████████████████████                                                                                                                                                                    | 146/503 [00:13<00:30, 11.87it/s]"
     ]
    },
    {
     "name": "stdout",
     "output_type": "stream",
     "text": [
      "DELL 'date'\n"
     ]
    },
    {
     "name": "stderr",
     "output_type": "stream",
     "text": [
      " 36%|██████████████████████████████████████████████████████████████████████████████████▏                                                                                                                                                    | 179/503 [00:17<00:30, 10.56it/s]"
     ]
    },
    {
     "name": "stdout",
     "output_type": "stream",
     "text": [
      "ERIE 'date'\n"
     ]
    },
    {
     "name": "stderr",
     "output_type": "stream",
     "text": [
      " 73%|███████████████████████████████████████████████████████████████████████████████████████████████████████████████████████████████████████████████████████████████████████▌                                                               | 365/503 [00:35<00:10, 13.35it/s]"
     ]
    },
    {
     "name": "stdout",
     "output_type": "stream",
     "text": [
      "PLTR 'date'\n"
     ]
    },
    {
     "name": "stderr",
     "output_type": "stream",
     "text": [
      "100%|███████████████████████████████████████████████████████████████████████████████████████████████████████████████████████████████████████████████████████████████████████████████████████████████████████████████████████████████████████| 503/503 [00:48<00:00, 10.34it/s]"
     ]
    },
    {
     "name": "stdout",
     "output_type": "stream",
     "text": [
      "ZTS 'date'\n"
     ]
    },
    {
     "name": "stderr",
     "output_type": "stream",
     "text": [
      "\n"
     ]
    }
   ],
   "source": [
    "prices = []\n",
    "market.connect()\n",
    "db.cloud_connect()\n",
    "for ticker in tqdm(sp500[\"ticker\"].unique()):\n",
    "    try:\n",
    "        price = processor.column_date_processing(market.query(\"prices\",{\"ticker\":ticker}))\n",
    "        price[\"year\"] = [x.year for x in price[\"date\"]]\n",
    "        price[\"quarter\"] = [x.quarter for x in price[\"date\"]]\n",
    "        price.sort_values(\"date\",inplace=True)\n",
    "        price = price.merge(sim[[\"year\",\"quarter\",\"ticker\",\"prediction\"]],on=[\"year\",\"quarter\",\"ticker\"],how=\"left\")\n",
    "        price = price.merge(spy[[\"date\",\"spy\"]],on=\"date\",how=\"left\")\n",
    "        price = price.merge(market_yield[[\"date\",\"rf\"]],on=\"date\",how=\"left\")\n",
    "        price = price.merge(sp500[[\"ticker\",\"GICS Sector\"]],on=\"ticker\",how=\"left\")\n",
    "        price[\"expected_return\"] = (price[\"prediction\"] - price[\"adjclose\"]) / price[\"adjclose\"]\n",
    "        price[\"historical_return\"] = price[\"adjclose\"].pct_change(90)\n",
    "        price[\"factor_return\"] = price[\"spy\"].pct_change(90)\n",
    "        price[\"cov\"] = price[\"factor_return\"].rolling(100).cov(price[\"expected_return\"])\n",
    "        price[\"var\"] = price[\"factor_return\"].rolling(100).var()\n",
    "        price[\"beta\"] = price[\"cov\"] / price[\"var\"]\n",
    "        price[\"excess_return\"] = price[\"rf\"] + price[\"beta\"] * (price[\"expected_return\"] - price[\"rf\"])\n",
    "        price[\"sigma\"] = price[\"adjclose\"].rolling(262).std()\n",
    "        prices.append(price)\n",
    "    except Exception as e:\n",
    "        print(ticker,str(e))\n",
    "        continue\n",
    "market.disconnect()\n",
    "db.disconnect()"
   ]
  },
  {
   "cell_type": "code",
   "execution_count": 28,
   "id": "593de38c-0f3d-4903-8a18-ffe7c89d7b3e",
   "metadata": {},
   "outputs": [],
   "source": [
    "sim = pd.concat(prices).fillna(0)\n",
    "sim[\"quarter\"] = [x.quarter for x in sim[\"date\"]]\n",
    "sim = sim[(sim[\"date\"]<datetime(sim_end_year,1,1)) & (sim[\"date\"]>datetime(end_year,1,1))]"
   ]
  },
  {
   "cell_type": "code",
   "execution_count": 29,
   "id": "562506f8-95aa-42d7-9e64-5b5a0fdb3b51",
   "metadata": {},
   "outputs": [
    {
     "name": "stderr",
     "output_type": "stream",
     "text": [
      "  0%|▍                                                                                                                                                                                                                                        | 1/501 [00:00<01:28,  5.65it/s]"
     ]
    },
    {
     "name": "stdout",
     "output_type": "stream",
     "text": [
      "Error on date 2022-01-03 00:00:00: single positional indexer is out-of-bounds\n"
     ]
    },
    {
     "name": "stderr",
     "output_type": "stream",
     "text": [
      " 13%|██████████████████████████████▌                                                                                                                                                                                                         | 66/501 [00:27<02:50,  2.54it/s]"
     ]
    },
    {
     "name": "stdout",
     "output_type": "stream",
     "text": [
      "Error on date 2022-04-06 00:00:00: single positional indexer is out-of-bounds\n",
      "Error on date 2022-04-07 00:00:00: single positional indexer is out-of-bounds\n"
     ]
    },
    {
     "name": "stderr",
     "output_type": "stream",
     "text": [
      " 56%|█████████████████████████████████████████████████████████████████████████████████████████████████████████████████████████████████                                                                                                      | 280/501 [02:03<01:12,  3.05it/s]"
     ]
    },
    {
     "name": "stdout",
     "output_type": "stream",
     "text": [
      "Error on date 2023-02-13 00:00:00: single positional indexer is out-of-bounds\n"
     ]
    },
    {
     "name": "stderr",
     "output_type": "stream",
     "text": [
      "100%|███████████████████████████████████████████████████████████████████████████████████████████████████████████████████████████████████████████████████████████████████████████████████████████████████████████████████████████████████████| 501/501 [03:40<00:00,  2.27it/s]\n"
     ]
    }
   ],
   "source": [
    "# Initialize variables\n",
    "structure = {\"stock\":0.5,\"bond\":0.4,\"option\":0.1}\n",
    "start = sim[\"date\"].min()\n",
    "end = sim[\"date\"].max()\n",
    "date = start\n",
    "number_of_stocks = 1\n",
    "portfolio = {\n",
    "    \"date\": date,\n",
    "    \"tax\": 0,\n",
    "    \"fees\": 0,\n",
    "    \"cash\": 100000,\n",
    "    \"positions\": [\n",
    "        {\n",
    "            \n",
    "            \"stocks\": [{\"ticker\": \"\", \"adjclose\": 0, \"quantity\": 0,\"pv\":0} for _ in range(number_of_stocks)],\n",
    "            \"bonds\": [{\"ticker\": \"\", \"adjclose\": 0, \"quantity\": 0,\"pv\":0} for _ in range(number_of_stocks)],\n",
    "            \"options\": [{\"ticker\": \"\", \"adjclose\": 0, \"quantity\": 0,\"pv\":0} for _ in range(number_of_stocks)]\n",
    "        }\n",
    "        for _ in sim[\"ticker\"].unique()\n",
    "    ]\n",
    "}\n",
    "states = []\n",
    "trades = []\n",
    "annual_balance = 100000\n",
    "prev_quarter = 0\n",
    "quarter = 1\n",
    "for date in tqdm(sim.sort_values(\"date\")[\"date\"].unique()):\n",
    "    today = sim[sim[\"date\"] == date].copy()\n",
    "    expected_returns = today['expected_return'].values\n",
    "\n",
    "    # Number of assets\n",
    "    num_assets = len(expected_returns)\n",
    "    \n",
    "    # Linear programming to maximize expected return\n",
    "    # The negative sign is used because linprog performs minimization, and we want to maximize returns\n",
    "    c = -expected_returns\n",
    "    \n",
    "    # Constraints: weights sum to 1 (Ax = b)\n",
    "    A_eq = np.ones((1, num_assets))\n",
    "    b_eq = [1]\n",
    "    \n",
    "    # Bounds: No short-selling (weights between 0 and 1)\n",
    "    bounds = [(0.0005, 0.1) for asset in range(num_assets)]\n",
    "    \n",
    "    # Perform linear programming\n",
    "    result = linprog(c, A_eq=A_eq, b_eq=b_eq, bounds=bounds, method='highs')\n",
    "    \n",
    "    # Optimized weights\n",
    "    optimized_weights = result.x\n",
    "    today[\"weight\"] = optimized_weights\n",
    "    if today.index.size > 0:\n",
    "        try:\n",
    "            portfolio = copy.deepcopy(portfolio)\n",
    "            cash = portfolio[\"cash\"]\n",
    "            portfolio[\"date\"] = date\n",
    "            positions = copy.deepcopy(portfolio[\"positions\"])\n",
    "            for i in range(len(positions)):\n",
    "                position = positions[i]\n",
    "                stocks = copy.deepcopy(position[\"stocks\"])\n",
    "                options = copy.deepcopy(position[\"options\"])\n",
    "                bonds = copy.deepcopy(position[\"bonds\"])\n",
    "                for j in range(number_of_stocks):\n",
    "                    stock = stocks[j]\n",
    "                    bond = bonds[j]\n",
    "                    option = options[j]\n",
    "                    ticker = stock[\"ticker\"]\n",
    "                    if ticker != \"\":\n",
    "                        row = today[today[\"ticker\"] == ticker].iloc[0]\n",
    "                        stock = Stock.update(row, stock)\n",
    "                        position[\"stocks\"][j] = stock\n",
    "                        bond = Bond.update(row, bond)\n",
    "                        position[\"bonds\"][j] = bond\n",
    "                        option = Option.update(row, option)\n",
    "                        position[\"options\"][j] = option\n",
    "                positions[i] = position\n",
    "            portfolio[\"positions\"] = positions\n",
    "            cash = portfolio[\"cash\"]\n",
    "            positions = copy.deepcopy(portfolio[\"positions\"])\n",
    "            notional = sum([position[\"stocks\"][0][\"pv\"] for position in positions]) \\\n",
    "                            + sum([position[\"options\"][0][\"pv\"] for position in positions]) \\\n",
    "                            + sum([position[\"bonds\"][0][\"pv\"] for position in positions])\n",
    "            for i in range(len(positions)):\n",
    "                position = positions[i]\n",
    "                stocks = copy.deepcopy(position[\"stocks\"])\n",
    "                options = copy.deepcopy(position[\"options\"])\n",
    "                bonds = copy.deepcopy(position[\"bonds\"])\n",
    "                for j in range(number_of_stocks):\n",
    "                    stock = stocks[j]\n",
    "                    bond = bonds[j]\n",
    "                    option = options[j]\n",
    "                    ticker = stock[\"ticker\"]\n",
    "                    if ticker != \"\":\n",
    "                        hpr = int((date - stock[\"buy_date\"]).days)\n",
    "                        opportunity_row = today.iloc[i]\n",
    "                        opportunity_ticker = opportunity_row[\"ticker\"]\n",
    "                        if (hpr > 90):\n",
    "                            row = today[today[\"ticker\"] == ticker].iloc[0]\n",
    "                            stock = Stock.sell(row, stock)\n",
    "                            position[\"stocks\"][j] = stock\n",
    "                            trades.append(stock)\n",
    "                            stock = Stock.buy(opportunity_row, stock, notional * structure[\"stock\"] * opportunity_row[\"weight\"])\n",
    "                            position[\"stocks\"][j] = stock\n",
    "                            option = Option.sell(row, option)\n",
    "                            position[\"options\"][j] = option\n",
    "                            trades.append(option)\n",
    "                            option = Option.buy(opportunity_row, option, notional * structure[\"option\"] * opportunity_row[\"weight\"])\n",
    "                            position[\"options\"][j] = option\n",
    "                            bond = Bond.sell(row, bond)\n",
    "                            position[\"bonds\"][j] = bond\n",
    "                            trades.append(bond)\n",
    "                            bond = Bond.buy(opportunity_row, bond, notional * structure[\"bond\"] * opportunity_row[\"weight\"])\n",
    "                            position[\"bonds\"][j] = bond\n",
    "                            positions[i] = position\n",
    "                portfolio[\"positions\"] = positions\n",
    "            if date == sim[\"date\"].min():\n",
    "                notional = float(cash)\n",
    "                for i in range(len(positions)):\n",
    "                    position = positions[i]\n",
    "                    stocks = copy.deepcopy(position[\"stocks\"])\n",
    "                    for j in range(number_of_stocks):\n",
    "                        stock = stocks[j]\n",
    "                        row = today.iloc[i]\n",
    "                        stock = Stock.buy(row, stock, notional * structure[\"stock\"] * row[\"weight\"])\n",
    "                        position[\"stocks\"][j] = stock\n",
    "                        option = Option.buy(row, option, notional * structure[\"option\"] * row[\"weight\"])\n",
    "                        position[\"options\"][j] = option\n",
    "                        bond = Bond.buy(row, bond, notional * structure[\"bond\"] * row[\"weight\"])\n",
    "                        position[\"bonds\"][j] = bond\n",
    "                    positions[i] = position\n",
    "                portfolio[\"positions\"] = positions\n",
    "                portfolio[\"cash\"] = 0\n",
    "            states.append(copy.deepcopy(portfolio))\n",
    "        except Exception as e:\n",
    "            print(f\"Error on date {date}: {str(e)}\")\n",
    "            continue"
   ]
  },
  {
   "cell_type": "code",
   "execution_count": 30,
   "id": "cfc6ed29-c209-40dc-80c9-789f49aed13a",
   "metadata": {},
   "outputs": [],
   "source": [
    "portfolios = []\n",
    "for state in states:\n",
    "    for i in range(len(positions)):\n",
    "        for j in range(number_of_stocks):\n",
    "            for asset_class in [\"stocks\",\"bonds\",\"options\"]:\n",
    "                view = state[\"positions\"][i][asset_class][j]\n",
    "                view[\"date\"] = state[\"date\"]\n",
    "                view[\"asset_class\"] = asset_class\n",
    "            portfolios.append(state[\"positions\"][i][\"stocks\"][j])\n",
    "            portfolios.append(state[\"positions\"][i][\"options\"][j])\n",
    "            portfolios.append(state[\"positions\"][i][\"bonds\"][j])"
   ]
  },
  {
   "cell_type": "code",
   "execution_count": 31,
   "id": "c830c9b7-f2ac-44db-a0ed-1a1eefb450a7",
   "metadata": {},
   "outputs": [],
   "source": [
    "performance = pd.DataFrame(portfolios).pivot_table(index=[\"date\",\"ticker\"],columns=\"asset_class\",values=\"pv\").reset_index().sort_values(\"date\")\n",
    "performance = performance.groupby(\"date\").agg({\"stocks\":\"sum\",\"bonds\":\"sum\",\"options\":\"sum\"}).reset_index()"
   ]
  },
  {
   "cell_type": "code",
   "execution_count": 32,
   "id": "e9fafec9-a71f-40db-90a1-9aaef3149e90",
   "metadata": {},
   "outputs": [],
   "source": [
    "# plt.figure(figsize=(10, 6))  \n",
    "# for sector in performance[\"sector\"].unique():\n",
    "#     sector_perf = performance[performance[\"sector\"]==sector]\n",
    "#     plt.plot(sector_perf[\"date\"].values,sector_perf[\"stocks\"].values)\n",
    "#     # plt.legend(performance[\"sector\"].unique())\n",
    "# plt.show()"
   ]
  },
  {
   "cell_type": "code",
   "execution_count": 33,
   "id": "2e84c5d3-0b09-42ef-aa7f-ede7939ede72",
   "metadata": {},
   "outputs": [
    {
     "data": {
      "image/png": "[encoded data removed]",
      "text/plain": [
       "<Figure size 1000x600 with 1 Axes>"
      ]
     },
     "metadata": {},
     "output_type": "display_data"
    }
   ],
   "source": [
    "plt.figure(figsize=(10, 6)) \n",
    "plt.plot(performance[\"date\"].values,performance[\"stocks\"].values)\n",
    "plt.plot(performance[\"date\"].values,performance[\"bonds\"].values)\n",
    "plt.plot(performance[\"date\"].values,performance[\"options\"].values)\n",
    "plt.show()"
   ]
  },
  {
   "cell_type": "code",
   "execution_count": 34,
   "id": "166410b7-e9c2-4af1-b174-56e3e32cb643",
   "metadata": {},
   "outputs": [],
   "source": [
    "visualization = performance.merge(spy,on=\"date\",how=\"left\")\n",
    "visualization = visualization.merge(market_yield[[\"date\",\"rf\"]],on=\"date\",how=\"left\")"
   ]
  },
  {
   "cell_type": "code",
   "execution_count": 35,
   "id": "0dc1caa2-97b6-46eb-9cf5-90f2215b06bd",
   "metadata": {},
   "outputs": [],
   "source": [
    "visualization[\"pv\"] = visualization[\"stocks\"] + visualization[\"bonds\"] + visualization[\"options\"]\n",
    "visualization[\"return\"] = (visualization[\"pv\"] - visualization[\"pv\"].iloc[0]) / visualization[\"pv\"].iloc[0]\n",
    "visualization[\"benchmark_return\"] = (visualization[\"spy\"] - visualization[\"spy\"].iloc[0]) / visualization[\"spy\"].iloc[0]\n",
    "visualization[\"ir_return\"] = (visualization[\"rf\"] - visualization[\"rf\"].iloc[0]) / visualization[\"rf\"].iloc[0]"
   ]
  },
  {
   "cell_type": "code",
   "execution_count": 36,
   "id": "b8b79695-e2ef-4933-aaa0-6cb12ea34557",
   "metadata": {},
   "outputs": [
    {
     "data": {
      "image/png": "[encoded data removed]",
      "text/plain": [
       "<Figure size 1000x600 with 1 Axes>"
      ]
     },
     "metadata": {},
     "output_type": "display_data"
    }
   ],
   "source": [
    "# Set the figure size\n",
    "plt.figure(figsize=(10, 6))  # Adjust the width and height as needed\n",
    "\n",
    "# Plot the data\n",
    "plt.plot(visualization[\"date\"].values, visualization[\"return\"], label=\"Return\")\n",
    "plt.plot(visualization[\"date\"].values, visualization[\"benchmark_return\"], label=\"Benchmark Return\")\n",
    "plt.plot(visualization[\"date\"].values, visualization[\"ir_return\"], label=\"IR Return\")\n",
    "\n",
    "# Add labels and legend\n",
    "plt.xlabel(\"Date\")\n",
    "plt.ylabel(\"Return\")\n",
    "plt.title(\"Return vs. Benchmark Return\")\n",
    "plt.legend()\n",
    "\n",
    "# Show the plot\n",
    "plt.show()\n"
   ]
  },
  {
   "cell_type": "code",
   "execution_count": 37,
   "id": "8b18fb83-929c-4408-af26-911baad6bef4",
   "metadata": {},
   "outputs": [
    {
     "data": {
      "text/plain": [
       "2.349457032868242"
      ]
     },
     "execution_count": 37,
     "metadata": {},
     "output_type": "execute_result"
    }
   ],
   "source": [
    "(visualization[\"return\"].iloc[-1] - visualization[\"benchmark_return\"].iloc[-1]) / visualization[\"return\"].std()"
   ]
  },
  {
   "cell_type": "code",
   "execution_count": 38,
   "id": "121aa44a-423b-4293-8862-5170fa7250cc",
   "metadata": {},
   "outputs": [],
   "source": [
    "t = pd.DataFrame(trades).merge(sp500[[\"ticker\",\"GICS Sector\"]],on=\"ticker\",how=\"left\")\n",
    "t[\"return\"] = (t[\"adjclose\"] - t[\"buy_price\"]) / t[\"buy_price\"]\n",
    "t[\"cash_flow\"] = (t[\"adjclose\"] - t[\"buy_price\"]) * t[\"quantity\"]\n",
    "t[\"hpr\"] = t[\"sell_date\"] - t[\"buy_date\"]\n",
    "t[\"hpr\"] = [int(x.days) for x in t[\"hpr\"]]"
   ]
  },
  {
   "cell_type": "code",
   "execution_count": 39,
   "id": "893d2e19-24d5-4d58-a447-d46a689051e3",
   "metadata": {},
   "outputs": [
    {
     "data": {
      "text/html": [
       "<div>\n",
       "<style scoped>\n",
       "    .dataframe tbody tr th:only-of-type {\n",
       "        vertical-align: middle;\n",
       "    }\n",
       "\n",
       "    .dataframe tbody tr th {\n",
       "        vertical-align: top;\n",
       "    }\n",
       "\n",
       "    .dataframe thead th {\n",
       "        text-align: right;\n",
       "    }\n",
       "</style>\n",
       "<table border=\"1\" class=\"dataframe\">\n",
       "  <thead>\n",
       "    <tr style=\"text-align: right;\">\n",
       "      <th></th>\n",
       "      <th>ticker</th>\n",
       "      <th>adjclose</th>\n",
       "      <th>quantity</th>\n",
       "      <th>pv</th>\n",
       "      <th>buy_price</th>\n",
       "      <th>buy_date</th>\n",
       "      <th>sell_date</th>\n",
       "      <th>strike_price</th>\n",
       "      <th>premium</th>\n",
       "      <th>contract_price</th>\n",
       "      <th>notional</th>\n",
       "      <th>return</th>\n",
       "      <th>asset_type</th>\n",
       "      <th>coupon_rate</th>\n",
       "      <th>rate</th>\n",
       "      <th>GICS Sector</th>\n",
       "      <th>cash_flow</th>\n",
       "      <th>hpr</th>\n",
       "    </tr>\n",
       "  </thead>\n",
       "  <tbody>\n",
       "    <tr>\n",
       "      <th>6906</th>\n",
       "      <td>NVDA</td>\n",
       "      <td>27.438574</td>\n",
       "      <td>333.408796</td>\n",
       "      <td>9148.261905</td>\n",
       "      <td>14.305021</td>\n",
       "      <td>2023-01-03</td>\n",
       "      <td>2023-04-04</td>\n",
       "      <td>NaN</td>\n",
       "      <td>NaN</td>\n",
       "      <td>NaN</td>\n",
       "      <td>NaN</td>\n",
       "      <td>0.918108</td>\n",
       "      <td>NaN</td>\n",
       "      <td>NaN</td>\n",
       "      <td>NaN</td>\n",
       "      <td>Information Technology</td>\n",
       "      <td>4378.842188</td>\n",
       "      <td>91</td>\n",
       "    </tr>\n",
       "    <tr>\n",
       "      <th>8379</th>\n",
       "      <td>NVDA</td>\n",
       "      <td>42.299278</td>\n",
       "      <td>190.333774</td>\n",
       "      <td>8050.981135</td>\n",
       "      <td>27.438574</td>\n",
       "      <td>2023-04-04</td>\n",
       "      <td>2023-07-05</td>\n",
       "      <td>NaN</td>\n",
       "      <td>NaN</td>\n",
       "      <td>NaN</td>\n",
       "      <td>NaN</td>\n",
       "      <td>0.541599</td>\n",
       "      <td>NaN</td>\n",
       "      <td>NaN</td>\n",
       "      <td>NaN</td>\n",
       "      <td>Information Technology</td>\n",
       "      <td>2828.493812</td>\n",
       "      <td>92</td>\n",
       "    </tr>\n",
       "    <tr>\n",
       "      <th>7563</th>\n",
       "      <td>AVGO</td>\n",
       "      <td>84.422144</td>\n",
       "      <td>84.496387</td>\n",
       "      <td>7133.366129</td>\n",
       "      <td>61.807227</td>\n",
       "      <td>2023-04-04</td>\n",
       "      <td>2023-07-05</td>\n",
       "      <td>NaN</td>\n",
       "      <td>NaN</td>\n",
       "      <td>NaN</td>\n",
       "      <td>NaN</td>\n",
       "      <td>0.365894</td>\n",
       "      <td>NaN</td>\n",
       "      <td>NaN</td>\n",
       "      <td>NaN</td>\n",
       "      <td>Information Technology</td>\n",
       "      <td>1910.878807</td>\n",
       "      <td>92</td>\n",
       "    </tr>\n",
       "    <tr>\n",
       "      <th>6183</th>\n",
       "      <td>CMG</td>\n",
       "      <td>34.696800</td>\n",
       "      <td>173.922958</td>\n",
       "      <td>6034.570101</td>\n",
       "      <td>27.422600</td>\n",
       "      <td>2023-01-03</td>\n",
       "      <td>2023-04-04</td>\n",
       "      <td>NaN</td>\n",
       "      <td>NaN</td>\n",
       "      <td>NaN</td>\n",
       "      <td>NaN</td>\n",
       "      <td>0.265263</td>\n",
       "      <td>NaN</td>\n",
       "      <td>NaN</td>\n",
       "      <td>NaN</td>\n",
       "      <td>Consumer Discretionary</td>\n",
       "      <td>1265.150384</td>\n",
       "      <td>91</td>\n",
       "    </tr>\n",
       "    <tr>\n",
       "      <th>3357</th>\n",
       "      <td>DECK</td>\n",
       "      <td>55.671667</td>\n",
       "      <td>102.587485</td>\n",
       "      <td>5711.216292</td>\n",
       "      <td>43.785000</td>\n",
       "      <td>2022-07-05</td>\n",
       "      <td>2022-10-04</td>\n",
       "      <td>NaN</td>\n",
       "      <td>NaN</td>\n",
       "      <td>NaN</td>\n",
       "      <td>NaN</td>\n",
       "      <td>0.271478</td>\n",
       "      <td>NaN</td>\n",
       "      <td>NaN</td>\n",
       "      <td>NaN</td>\n",
       "      <td>Consumer Discretionary</td>\n",
       "      <td>1219.423243</td>\n",
       "      <td>91</td>\n",
       "    </tr>\n",
       "    <tr>\n",
       "      <th>7653</th>\n",
       "      <td>CMG</td>\n",
       "      <td>42.414200</td>\n",
       "      <td>150.517838</td>\n",
       "      <td>6384.093686</td>\n",
       "      <td>34.696800</td>\n",
       "      <td>2023-04-04</td>\n",
       "      <td>2023-07-05</td>\n",
       "      <td>NaN</td>\n",
       "      <td>NaN</td>\n",
       "      <td>NaN</td>\n",
       "      <td>NaN</td>\n",
       "      <td>0.222424</td>\n",
       "      <td>NaN</td>\n",
       "      <td>NaN</td>\n",
       "      <td>NaN</td>\n",
       "      <td>Consumer Discretionary</td>\n",
       "      <td>1161.606363</td>\n",
       "      <td>92</td>\n",
       "    </tr>\n",
       "    <tr>\n",
       "      <th>7767</th>\n",
       "      <td>DECK</td>\n",
       "      <td>89.098333</td>\n",
       "      <td>68.828634</td>\n",
       "      <td>6132.516579</td>\n",
       "      <td>75.876667</td>\n",
       "      <td>2023-04-04</td>\n",
       "      <td>2023-07-05</td>\n",
       "      <td>NaN</td>\n",
       "      <td>NaN</td>\n",
       "      <td>NaN</td>\n",
       "      <td>NaN</td>\n",
       "      <td>0.174252</td>\n",
       "      <td>NaN</td>\n",
       "      <td>NaN</td>\n",
       "      <td>NaN</td>\n",
       "      <td>Consumer Discretionary</td>\n",
       "      <td>910.029256</td>\n",
       "      <td>92</td>\n",
       "    </tr>\n",
       "    <tr>\n",
       "      <th>4776</th>\n",
       "      <td>COO</td>\n",
       "      <td>83.156336</td>\n",
       "      <td>66.037096</td>\n",
       "      <td>5491.402995</td>\n",
       "      <td>69.881018</td>\n",
       "      <td>2022-10-04</td>\n",
       "      <td>2023-01-03</td>\n",
       "      <td>NaN</td>\n",
       "      <td>NaN</td>\n",
       "      <td>NaN</td>\n",
       "      <td>NaN</td>\n",
       "      <td>0.189970</td>\n",
       "      <td>NaN</td>\n",
       "      <td>NaN</td>\n",
       "      <td>NaN</td>\n",
       "      <td>Health Care</td>\n",
       "      <td>876.663500</td>\n",
       "      <td>91</td>\n",
       "    </tr>\n",
       "    <tr>\n",
       "      <th>6297</th>\n",
       "      <td>DECK</td>\n",
       "      <td>75.876667</td>\n",
       "      <td>73.520844</td>\n",
       "      <td>5578.516611</td>\n",
       "      <td>64.871667</td>\n",
       "      <td>2023-01-03</td>\n",
       "      <td>2023-04-04</td>\n",
       "      <td>NaN</td>\n",
       "      <td>NaN</td>\n",
       "      <td>NaN</td>\n",
       "      <td>NaN</td>\n",
       "      <td>0.169643</td>\n",
       "      <td>NaN</td>\n",
       "      <td>NaN</td>\n",
       "      <td>NaN</td>\n",
       "      <td>Consumer Discretionary</td>\n",
       "      <td>809.096894</td>\n",
       "      <td>91</td>\n",
       "    </tr>\n",
       "    <tr>\n",
       "      <th>4827</th>\n",
       "      <td>DECK</td>\n",
       "      <td>64.871667</td>\n",
       "      <td>82.892066</td>\n",
       "      <td>5377.346507</td>\n",
       "      <td>55.671667</td>\n",
       "      <td>2022-10-04</td>\n",
       "      <td>2023-01-03</td>\n",
       "      <td>NaN</td>\n",
       "      <td>NaN</td>\n",
       "      <td>NaN</td>\n",
       "      <td>NaN</td>\n",
       "      <td>0.165255</td>\n",
       "      <td>NaN</td>\n",
       "      <td>NaN</td>\n",
       "      <td>NaN</td>\n",
       "      <td>Consumer Discretionary</td>\n",
       "      <td>762.607012</td>\n",
       "      <td>91</td>\n",
       "    </tr>\n",
       "    <tr>\n",
       "      <th>4623</th>\n",
       "      <td>AVGO</td>\n",
       "      <td>53.535890</td>\n",
       "      <td>100.255718</td>\n",
       "      <td>5367.279023</td>\n",
       "      <td>46.029689</td>\n",
       "      <td>2022-10-04</td>\n",
       "      <td>2023-01-03</td>\n",
       "      <td>NaN</td>\n",
       "      <td>NaN</td>\n",
       "      <td>NaN</td>\n",
       "      <td>NaN</td>\n",
       "      <td>0.163073</td>\n",
       "      <td>NaN</td>\n",
       "      <td>NaN</td>\n",
       "      <td>NaN</td>\n",
       "      <td>Information Technology</td>\n",
       "      <td>752.539528</td>\n",
       "      <td>91</td>\n",
       "    </tr>\n",
       "    <tr>\n",
       "      <th>6093</th>\n",
       "      <td>AVGO</td>\n",
       "      <td>61.807227</td>\n",
       "      <td>89.088269</td>\n",
       "      <td>5506.298815</td>\n",
       "      <td>53.535890</td>\n",
       "      <td>2023-01-03</td>\n",
       "      <td>2023-04-04</td>\n",
       "      <td>NaN</td>\n",
       "      <td>NaN</td>\n",
       "      <td>NaN</td>\n",
       "      <td>NaN</td>\n",
       "      <td>0.154501</td>\n",
       "      <td>NaN</td>\n",
       "      <td>NaN</td>\n",
       "      <td>NaN</td>\n",
       "      <td>Information Technology</td>\n",
       "      <td>736.879098</td>\n",
       "      <td>91</td>\n",
       "    </tr>\n",
       "    <tr>\n",
       "      <th>3327</th>\n",
       "      <td>CTRA</td>\n",
       "      <td>25.977637</td>\n",
       "      <td>197.415834</td>\n",
       "      <td>5128.396914</td>\n",
       "      <td>22.752952</td>\n",
       "      <td>2022-07-05</td>\n",
       "      <td>2022-10-04</td>\n",
       "      <td>NaN</td>\n",
       "      <td>NaN</td>\n",
       "      <td>NaN</td>\n",
       "      <td>NaN</td>\n",
       "      <td>0.141726</td>\n",
       "      <td>NaN</td>\n",
       "      <td>NaN</td>\n",
       "      <td>NaN</td>\n",
       "      <td>Energy</td>\n",
       "      <td>636.603866</td>\n",
       "      <td>91</td>\n",
       "    </tr>\n",
       "    <tr>\n",
       "      <th>3243</th>\n",
       "      <td>CMG</td>\n",
       "      <td>30.723000</td>\n",
       "      <td>164.811040</td>\n",
       "      <td>5063.489584</td>\n",
       "      <td>27.254200</td>\n",
       "      <td>2022-07-05</td>\n",
       "      <td>2022-10-04</td>\n",
       "      <td>NaN</td>\n",
       "      <td>NaN</td>\n",
       "      <td>NaN</td>\n",
       "      <td>NaN</td>\n",
       "      <td>0.127276</td>\n",
       "      <td>NaN</td>\n",
       "      <td>NaN</td>\n",
       "      <td>NaN</td>\n",
       "      <td>Consumer Discretionary</td>\n",
       "      <td>571.696536</td>\n",
       "      <td>91</td>\n",
       "    </tr>\n",
       "    <tr>\n",
       "      <th>6246</th>\n",
       "      <td>COO</td>\n",
       "      <td>92.507874</td>\n",
       "      <td>57.354856</td>\n",
       "      <td>5305.775831</td>\n",
       "      <td>83.156336</td>\n",
       "      <td>2023-01-03</td>\n",
       "      <td>2023-04-04</td>\n",
       "      <td>NaN</td>\n",
       "      <td>NaN</td>\n",
       "      <td>NaN</td>\n",
       "      <td>NaN</td>\n",
       "      <td>0.112457</td>\n",
       "      <td>NaN</td>\n",
       "      <td>NaN</td>\n",
       "      <td>NaN</td>\n",
       "      <td>Health Care</td>\n",
       "      <td>536.356114</td>\n",
       "      <td>91</td>\n",
       "    </tr>\n",
       "    <tr>\n",
       "      <th>6267</th>\n",
       "      <td>CTRA</td>\n",
       "      <td>23.947639</td>\n",
       "      <td>220.679260</td>\n",
       "      <td>5284.747340</td>\n",
       "      <td>21.612451</td>\n",
       "      <td>2023-01-03</td>\n",
       "      <td>2023-04-04</td>\n",
       "      <td>NaN</td>\n",
       "      <td>NaN</td>\n",
       "      <td>NaN</td>\n",
       "      <td>NaN</td>\n",
       "      <td>0.108048</td>\n",
       "      <td>NaN</td>\n",
       "      <td>NaN</td>\n",
       "      <td>NaN</td>\n",
       "      <td>Energy</td>\n",
       "      <td>515.327622</td>\n",
       "      <td>91</td>\n",
       "    </tr>\n",
       "    <tr>\n",
       "      <th>3258</th>\n",
       "      <td>CTAS</td>\n",
       "      <td>100.821872</td>\n",
       "      <td>48.913481</td>\n",
       "      <td>4931.548711</td>\n",
       "      <td>91.831392</td>\n",
       "      <td>2022-07-05</td>\n",
       "      <td>2022-10-04</td>\n",
       "      <td>NaN</td>\n",
       "      <td>NaN</td>\n",
       "      <td>NaN</td>\n",
       "      <td>NaN</td>\n",
       "      <td>0.097902</td>\n",
       "      <td>NaN</td>\n",
       "      <td>NaN</td>\n",
       "      <td>NaN</td>\n",
       "      <td>Industrials</td>\n",
       "      <td>439.755662</td>\n",
       "      <td>91</td>\n",
       "    </tr>\n",
       "    <tr>\n",
       "      <th>5436</th>\n",
       "      <td>NVDA</td>\n",
       "      <td>14.305021</td>\n",
       "      <td>350.805066</td>\n",
       "      <td>5018.273724</td>\n",
       "      <td>13.154712</td>\n",
       "      <td>2022-10-04</td>\n",
       "      <td>2023-01-03</td>\n",
       "      <td>NaN</td>\n",
       "      <td>NaN</td>\n",
       "      <td>NaN</td>\n",
       "      <td>NaN</td>\n",
       "      <td>0.087445</td>\n",
       "      <td>NaN</td>\n",
       "      <td>NaN</td>\n",
       "      <td>NaN</td>\n",
       "      <td>Information Technology</td>\n",
       "      <td>403.534229</td>\n",
       "      <td>91</td>\n",
       "    </tr>\n",
       "    <tr>\n",
       "      <th>7668</th>\n",
       "      <td>CTAS</td>\n",
       "      <td>120.311669</td>\n",
       "      <td>46.559749</td>\n",
       "      <td>5601.681180</td>\n",
       "      <td>112.167428</td>\n",
       "      <td>2023-04-04</td>\n",
       "      <td>2023-07-05</td>\n",
       "      <td>NaN</td>\n",
       "      <td>NaN</td>\n",
       "      <td>NaN</td>\n",
       "      <td>NaN</td>\n",
       "      <td>0.072608</td>\n",
       "      <td>NaN</td>\n",
       "      <td>NaN</td>\n",
       "      <td>NaN</td>\n",
       "      <td>Industrials</td>\n",
       "      <td>379.193858</td>\n",
       "      <td>92</td>\n",
       "    </tr>\n",
       "    <tr>\n",
       "      <th>4596</th>\n",
       "      <td>TECH</td>\n",
       "      <td>81.899806</td>\n",
       "      <td>60.340459</td>\n",
       "      <td>4941.871872</td>\n",
       "      <td>76.478363</td>\n",
       "      <td>2022-10-04</td>\n",
       "      <td>2023-01-03</td>\n",
       "      <td>NaN</td>\n",
       "      <td>NaN</td>\n",
       "      <td>NaN</td>\n",
       "      <td>NaN</td>\n",
       "      <td>0.070889</td>\n",
       "      <td>NaN</td>\n",
       "      <td>NaN</td>\n",
       "      <td>NaN</td>\n",
       "      <td>Health Care</td>\n",
       "      <td>327.132377</td>\n",
       "      <td>91</td>\n",
       "    </tr>\n",
       "    <tr>\n",
       "      <th>4728</th>\n",
       "      <td>CTAS</td>\n",
       "      <td>110.421129</td>\n",
       "      <td>26.776160</td>\n",
       "      <td>2956.653835</td>\n",
       "      <td>100.821872</td>\n",
       "      <td>2022-10-04</td>\n",
       "      <td>2023-01-03</td>\n",
       "      <td>NaN</td>\n",
       "      <td>NaN</td>\n",
       "      <td>NaN</td>\n",
       "      <td>NaN</td>\n",
       "      <td>0.095210</td>\n",
       "      <td>NaN</td>\n",
       "      <td>NaN</td>\n",
       "      <td>NaN</td>\n",
       "      <td>Industrials</td>\n",
       "      <td>257.031231</td>\n",
       "      <td>91</td>\n",
       "    </tr>\n",
       "    <tr>\n",
       "      <th>8769</th>\n",
       "      <td>WMT</td>\n",
       "      <td>51.818824</td>\n",
       "      <td>63.011950</td>\n",
       "      <td>3265.205133</td>\n",
       "      <td>48.070924</td>\n",
       "      <td>2023-04-04</td>\n",
       "      <td>2023-07-05</td>\n",
       "      <td>NaN</td>\n",
       "      <td>NaN</td>\n",
       "      <td>NaN</td>\n",
       "      <td>NaN</td>\n",
       "      <td>0.077966</td>\n",
       "      <td>NaN</td>\n",
       "      <td>NaN</td>\n",
       "      <td>NaN</td>\n",
       "      <td>Consumer Staples</td>\n",
       "      <td>236.162486</td>\n",
       "      <td>92</td>\n",
       "    </tr>\n",
       "    <tr>\n",
       "      <th>9852</th>\n",
       "      <td>NVDA</td>\n",
       "      <td>44.026297</td>\n",
       "      <td>133.572598</td>\n",
       "      <td>5880.706915</td>\n",
       "      <td>42.299278</td>\n",
       "      <td>2023-07-05</td>\n",
       "      <td>2023-10-04</td>\n",
       "      <td>NaN</td>\n",
       "      <td>NaN</td>\n",
       "      <td>NaN</td>\n",
       "      <td>NaN</td>\n",
       "      <td>0.040829</td>\n",
       "      <td>NaN</td>\n",
       "      <td>NaN</td>\n",
       "      <td>NaN</td>\n",
       "      <td>Information Technology</td>\n",
       "      <td>230.682512</td>\n",
       "      <td>91</td>\n",
       "    </tr>\n",
       "    <tr>\n",
       "      <th>9207</th>\n",
       "      <td>CTRA</td>\n",
       "      <td>25.032881</td>\n",
       "      <td>233.118091</td>\n",
       "      <td>5835.617403</td>\n",
       "      <td>24.236748</td>\n",
       "      <td>2023-07-05</td>\n",
       "      <td>2023-10-04</td>\n",
       "      <td>NaN</td>\n",
       "      <td>NaN</td>\n",
       "      <td>NaN</td>\n",
       "      <td>NaN</td>\n",
       "      <td>0.032848</td>\n",
       "      <td>NaN</td>\n",
       "      <td>NaN</td>\n",
       "      <td>NaN</td>\n",
       "      <td>Energy</td>\n",
       "      <td>185.593000</td>\n",
       "      <td>91</td>\n",
       "    </tr>\n",
       "    <tr>\n",
       "      <th>10242</th>\n",
       "      <td>WMT</td>\n",
       "      <td>52.953664</td>\n",
       "      <td>109.034208</td>\n",
       "      <td>5773.760758</td>\n",
       "      <td>51.818824</td>\n",
       "      <td>2023-07-05</td>\n",
       "      <td>2023-10-04</td>\n",
       "      <td>NaN</td>\n",
       "      <td>NaN</td>\n",
       "      <td>NaN</td>\n",
       "      <td>NaN</td>\n",
       "      <td>0.021900</td>\n",
       "      <td>NaN</td>\n",
       "      <td>NaN</td>\n",
       "      <td>NaN</td>\n",
       "      <td>Consumer Staples</td>\n",
       "      <td>123.736355</td>\n",
       "      <td>91</td>\n",
       "    </tr>\n",
       "    <tr>\n",
       "      <th>7716</th>\n",
       "      <td>COO</td>\n",
       "      <td>94.317735</td>\n",
       "      <td>56.454517</td>\n",
       "      <td>5324.662127</td>\n",
       "      <td>92.507874</td>\n",
       "      <td>2023-04-04</td>\n",
       "      <td>2023-07-05</td>\n",
       "      <td>NaN</td>\n",
       "      <td>NaN</td>\n",
       "      <td>NaN</td>\n",
       "      <td>NaN</td>\n",
       "      <td>0.019564</td>\n",
       "      <td>NaN</td>\n",
       "      <td>NaN</td>\n",
       "      <td>NaN</td>\n",
       "      <td>Health Care</td>\n",
       "      <td>102.174805</td>\n",
       "      <td>92</td>\n",
       "    </tr>\n",
       "    <tr>\n",
       "      <th>7296</th>\n",
       "      <td>WMT</td>\n",
       "      <td>48.070924</td>\n",
       "      <td>59.754047</td>\n",
       "      <td>2872.432251</td>\n",
       "      <td>46.693248</td>\n",
       "      <td>2023-01-03</td>\n",
       "      <td>2023-04-04</td>\n",
       "      <td>NaN</td>\n",
       "      <td>NaN</td>\n",
       "      <td>NaN</td>\n",
       "      <td>NaN</td>\n",
       "      <td>0.029505</td>\n",
       "      <td>NaN</td>\n",
       "      <td>NaN</td>\n",
       "      <td>NaN</td>\n",
       "      <td>Consumer Staples</td>\n",
       "      <td>82.321717</td>\n",
       "      <td>91</td>\n",
       "    </tr>\n",
       "    <tr>\n",
       "      <th>6198</th>\n",
       "      <td>CTAS</td>\n",
       "      <td>112.167428</td>\n",
       "      <td>43.192999</td>\n",
       "      <td>4844.847603</td>\n",
       "      <td>110.421129</td>\n",
       "      <td>2023-01-03</td>\n",
       "      <td>2023-04-04</td>\n",
       "      <td>NaN</td>\n",
       "      <td>NaN</td>\n",
       "      <td>NaN</td>\n",
       "      <td>NaN</td>\n",
       "      <td>0.015815</td>\n",
       "      <td>NaN</td>\n",
       "      <td>NaN</td>\n",
       "      <td>NaN</td>\n",
       "      <td>Industrials</td>\n",
       "      <td>75.427886</td>\n",
       "      <td>91</td>\n",
       "    </tr>\n",
       "    <tr>\n",
       "      <th>3153</th>\n",
       "      <td>AVGO</td>\n",
       "      <td>46.029689</td>\n",
       "      <td>99.150107</td>\n",
       "      <td>4563.848571</td>\n",
       "      <td>45.302957</td>\n",
       "      <td>2022-07-05</td>\n",
       "      <td>2022-10-04</td>\n",
       "      <td>NaN</td>\n",
       "      <td>NaN</td>\n",
       "      <td>NaN</td>\n",
       "      <td>NaN</td>\n",
       "      <td>0.016042</td>\n",
       "      <td>NaN</td>\n",
       "      <td>NaN</td>\n",
       "      <td>NaN</td>\n",
       "      <td>Information Technology</td>\n",
       "      <td>72.055522</td>\n",
       "      <td>91</td>\n",
       "    </tr>\n",
       "    <tr>\n",
       "      <th>7737</th>\n",
       "      <td>CTRA</td>\n",
       "      <td>24.236748</td>\n",
       "      <td>218.079421</td>\n",
       "      <td>5285.535945</td>\n",
       "      <td>23.947639</td>\n",
       "      <td>2023-04-04</td>\n",
       "      <td>2023-07-05</td>\n",
       "      <td>NaN</td>\n",
       "      <td>NaN</td>\n",
       "      <td>NaN</td>\n",
       "      <td>NaN</td>\n",
       "      <td>0.012073</td>\n",
       "      <td>NaN</td>\n",
       "      <td>NaN</td>\n",
       "      <td>NaN</td>\n",
       "      <td>Energy</td>\n",
       "      <td>63.048622</td>\n",
       "      <td>92</td>\n",
       "    </tr>\n",
       "  </tbody>\n",
       "</table>\n",
       "</div>"
      ],
      "text/plain": [
       "      ticker    adjclose    quantity           pv   buy_price   buy_date  \\\n",
       "6906    NVDA   27.438574  333.408796  9148.261905   14.305021 2023-01-03   \n",
       "8379    NVDA   42.299278  190.333774  8050.981135   27.438574 2023-04-04   \n",
       "7563    AVGO   84.422144   84.496387  7133.366129   61.807227 2023-04-04   \n",
       "6183     CMG   34.696800  173.922958  6034.570101   27.422600 2023-01-03   \n",
       "3357    DECK   55.671667  102.587485  5711.216292   43.785000 2022-07-05   \n",
       "7653     CMG   42.414200  150.517838  6384.093686   34.696800 2023-04-04   \n",
       "7767    DECK   89.098333   68.828634  6132.516579   75.876667 2023-04-04   \n",
       "4776     COO   83.156336   66.037096  5491.402995   69.881018 2022-10-04   \n",
       "6297    DECK   75.876667   73.520844  5578.516611   64.871667 2023-01-03   \n",
       "4827    DECK   64.871667   82.892066  5377.346507   55.671667 2022-10-04   \n",
       "4623    AVGO   53.535890  100.255718  5367.279023   46.029689 2022-10-04   \n",
       "6093    AVGO   61.807227   89.088269  5506.298815   53.535890 2023-01-03   \n",
       "3327    CTRA   25.977637  197.415834  5128.396914   22.752952 2022-07-05   \n",
       "3243     CMG   30.723000  164.811040  5063.489584   27.254200 2022-07-05   \n",
       "6246     COO   92.507874   57.354856  5305.775831   83.156336 2023-01-03   \n",
       "6267    CTRA   23.947639  220.679260  5284.747340   21.612451 2023-01-03   \n",
       "3258    CTAS  100.821872   48.913481  4931.548711   91.831392 2022-07-05   \n",
       "5436    NVDA   14.305021  350.805066  5018.273724   13.154712 2022-10-04   \n",
       "7668    CTAS  120.311669   46.559749  5601.681180  112.167428 2023-04-04   \n",
       "4596    TECH   81.899806   60.340459  4941.871872   76.478363 2022-10-04   \n",
       "4728    CTAS  110.421129   26.776160  2956.653835  100.821872 2022-10-04   \n",
       "8769     WMT   51.818824   63.011950  3265.205133   48.070924 2023-04-04   \n",
       "9852    NVDA   44.026297  133.572598  5880.706915   42.299278 2023-07-05   \n",
       "9207    CTRA   25.032881  233.118091  5835.617403   24.236748 2023-07-05   \n",
       "10242    WMT   52.953664  109.034208  5773.760758   51.818824 2023-07-05   \n",
       "7716     COO   94.317735   56.454517  5324.662127   92.507874 2023-04-04   \n",
       "7296     WMT   48.070924   59.754047  2872.432251   46.693248 2023-01-03   \n",
       "6198    CTAS  112.167428   43.192999  4844.847603  110.421129 2023-01-03   \n",
       "3153    AVGO   46.029689   99.150107  4563.848571   45.302957 2022-07-05   \n",
       "7737    CTRA   24.236748  218.079421  5285.535945   23.947639 2023-04-04   \n",
       "\n",
       "       sell_date  strike_price  premium  contract_price  notional    return  \\\n",
       "6906  2023-04-04           NaN      NaN             NaN       NaN  0.918108   \n",
       "8379  2023-07-05           NaN      NaN             NaN       NaN  0.541599   \n",
       "7563  2023-07-05           NaN      NaN             NaN       NaN  0.365894   \n",
       "6183  2023-04-04           NaN      NaN             NaN       NaN  0.265263   \n",
       "3357  2022-10-04           NaN      NaN             NaN       NaN  0.271478   \n",
       "7653  2023-07-05           NaN      NaN             NaN       NaN  0.222424   \n",
       "7767  2023-07-05           NaN      NaN             NaN       NaN  0.174252   \n",
       "4776  2023-01-03           NaN      NaN             NaN       NaN  0.189970   \n",
       "6297  2023-04-04           NaN      NaN             NaN       NaN  0.169643   \n",
       "4827  2023-01-03           NaN      NaN             NaN       NaN  0.165255   \n",
       "4623  2023-01-03           NaN      NaN             NaN       NaN  0.163073   \n",
       "6093  2023-04-04           NaN      NaN             NaN       NaN  0.154501   \n",
       "3327  2022-10-04           NaN      NaN             NaN       NaN  0.141726   \n",
       "3243  2022-10-04           NaN      NaN             NaN       NaN  0.127276   \n",
       "6246  2023-04-04           NaN      NaN             NaN       NaN  0.112457   \n",
       "6267  2023-04-04           NaN      NaN             NaN       NaN  0.108048   \n",
       "3258  2022-10-04           NaN      NaN             NaN       NaN  0.097902   \n",
       "5436  2023-01-03           NaN      NaN             NaN       NaN  0.087445   \n",
       "7668  2023-07-05           NaN      NaN             NaN       NaN  0.072608   \n",
       "4596  2023-01-03           NaN      NaN             NaN       NaN  0.070889   \n",
       "4728  2023-01-03           NaN      NaN             NaN       NaN  0.095210   \n",
       "8769  2023-07-05           NaN      NaN             NaN       NaN  0.077966   \n",
       "9852  2023-10-04           NaN      NaN             NaN       NaN  0.040829   \n",
       "9207  2023-10-04           NaN      NaN             NaN       NaN  0.032848   \n",
       "10242 2023-10-04           NaN      NaN             NaN       NaN  0.021900   \n",
       "7716  2023-07-05           NaN      NaN             NaN       NaN  0.019564   \n",
       "7296  2023-04-04           NaN      NaN             NaN       NaN  0.029505   \n",
       "6198  2023-04-04           NaN      NaN             NaN       NaN  0.015815   \n",
       "3153  2022-10-04           NaN      NaN             NaN       NaN  0.016042   \n",
       "7737  2023-07-05           NaN      NaN             NaN       NaN  0.012073   \n",
       "\n",
       "      asset_type  coupon_rate  rate             GICS Sector    cash_flow  hpr  \n",
       "6906         NaN          NaN   NaN  Information Technology  4378.842188   91  \n",
       "8379         NaN          NaN   NaN  Information Technology  2828.493812   92  \n",
       "7563         NaN          NaN   NaN  Information Technology  1910.878807   92  \n",
       "6183         NaN          NaN   NaN  Consumer Discretionary  1265.150384   91  \n",
       "3357         NaN          NaN   NaN  Consumer Discretionary  1219.423243   91  \n",
       "7653         NaN          NaN   NaN  Consumer Discretionary  1161.606363   92  \n",
       "7767         NaN          NaN   NaN  Consumer Discretionary   910.029256   92  \n",
       "4776         NaN          NaN   NaN             Health Care   876.663500   91  \n",
       "6297         NaN          NaN   NaN  Consumer Discretionary   809.096894   91  \n",
       "4827         NaN          NaN   NaN  Consumer Discretionary   762.607012   91  \n",
       "4623         NaN          NaN   NaN  Information Technology   752.539528   91  \n",
       "6093         NaN          NaN   NaN  Information Technology   736.879098   91  \n",
       "3327         NaN          NaN   NaN                  Energy   636.603866   91  \n",
       "3243         NaN          NaN   NaN  Consumer Discretionary   571.696536   91  \n",
       "6246         NaN          NaN   NaN             Health Care   536.356114   91  \n",
       "6267         NaN          NaN   NaN                  Energy   515.327622   91  \n",
       "3258         NaN          NaN   NaN             Industrials   439.755662   91  \n",
       "5436         NaN          NaN   NaN  Information Technology   403.534229   91  \n",
       "7668         NaN          NaN   NaN             Industrials   379.193858   92  \n",
       "4596         NaN          NaN   NaN             Health Care   327.132377   91  \n",
       "4728         NaN          NaN   NaN             Industrials   257.031231   91  \n",
       "8769         NaN          NaN   NaN        Consumer Staples   236.162486   92  \n",
       "9852         NaN          NaN   NaN  Information Technology   230.682512   91  \n",
       "9207         NaN          NaN   NaN                  Energy   185.593000   91  \n",
       "10242        NaN          NaN   NaN        Consumer Staples   123.736355   91  \n",
       "7716         NaN          NaN   NaN             Health Care   102.174805   92  \n",
       "7296         NaN          NaN   NaN        Consumer Staples    82.321717   91  \n",
       "6198         NaN          NaN   NaN             Industrials    75.427886   91  \n",
       "3153         NaN          NaN   NaN  Information Technology    72.055522   91  \n",
       "7737         NaN          NaN   NaN                  Energy    63.048622   92  "
      ]
     },
     "execution_count": 39,
     "metadata": {},
     "output_type": "execute_result"
    }
   ],
   "source": [
    "t.sort_values(\"cash_flow\",ascending=False).head(30)"
   ]
  },
  {
   "cell_type": "code",
   "execution_count": 40,
   "id": "7df48b86-02d7-4b4d-b4d2-754f9436238f",
   "metadata": {},
   "outputs": [
    {
     "data": {
      "text/html": [
       "<div>\n",
       "<style scoped>\n",
       "    .dataframe tbody tr th:only-of-type {\n",
       "        vertical-align: middle;\n",
       "    }\n",
       "\n",
       "    .dataframe tbody tr th {\n",
       "        vertical-align: top;\n",
       "    }\n",
       "\n",
       "    .dataframe thead th {\n",
       "        text-align: right;\n",
       "    }\n",
       "</style>\n",
       "<table border=\"1\" class=\"dataframe\">\n",
       "  <thead>\n",
       "    <tr style=\"text-align: right;\">\n",
       "      <th></th>\n",
       "      <th>GICS Sector</th>\n",
       "      <th>cash_flow</th>\n",
       "      <th>hpr</th>\n",
       "    </tr>\n",
       "  </thead>\n",
       "  <tbody>\n",
       "    <tr>\n",
       "      <th>0</th>\n",
       "      <td>Communication Services</td>\n",
       "      <td>-7.571130</td>\n",
       "      <td>91.285714</td>\n",
       "    </tr>\n",
       "    <tr>\n",
       "      <th>5</th>\n",
       "      <td>Health Care</td>\n",
       "      <td>-1.849277</td>\n",
       "      <td>91.286064</td>\n",
       "    </tr>\n",
       "    <tr>\n",
       "      <th>9</th>\n",
       "      <td>Real Estate</td>\n",
       "      <td>-1.073255</td>\n",
       "      <td>91.285714</td>\n",
       "    </tr>\n",
       "    <tr>\n",
       "      <th>4</th>\n",
       "      <td>Financials</td>\n",
       "      <td>-0.407936</td>\n",
       "      <td>91.285714</td>\n",
       "    </tr>\n",
       "    <tr>\n",
       "      <th>10</th>\n",
       "      <td>Utilities</td>\n",
       "      <td>-0.290634</td>\n",
       "      <td>91.287037</td>\n",
       "    </tr>\n",
       "    <tr>\n",
       "      <th>8</th>\n",
       "      <td>Materials</td>\n",
       "      <td>-0.155828</td>\n",
       "      <td>91.285714</td>\n",
       "    </tr>\n",
       "    <tr>\n",
       "      <th>2</th>\n",
       "      <td>Consumer Staples</td>\n",
       "      <td>1.382583</td>\n",
       "      <td>91.284585</td>\n",
       "    </tr>\n",
       "    <tr>\n",
       "      <th>6</th>\n",
       "      <td>Industrials</td>\n",
       "      <td>2.337725</td>\n",
       "      <td>91.285714</td>\n",
       "    </tr>\n",
       "    <tr>\n",
       "      <th>1</th>\n",
       "      <td>Consumer Discretionary</td>\n",
       "      <td>2.760492</td>\n",
       "      <td>91.286517</td>\n",
       "    </tr>\n",
       "    <tr>\n",
       "      <th>3</th>\n",
       "      <td>Energy</td>\n",
       "      <td>5.993012</td>\n",
       "      <td>91.285714</td>\n",
       "    </tr>\n",
       "    <tr>\n",
       "      <th>7</th>\n",
       "      <td>Information Technology</td>\n",
       "      <td>12.310717</td>\n",
       "      <td>91.284797</td>\n",
       "    </tr>\n",
       "  </tbody>\n",
       "</table>\n",
       "</div>"
      ],
      "text/plain": [
       "               GICS Sector  cash_flow        hpr\n",
       "0   Communication Services  -7.571130  91.285714\n",
       "5              Health Care  -1.849277  91.286064\n",
       "9              Real Estate  -1.073255  91.285714\n",
       "4               Financials  -0.407936  91.285714\n",
       "10               Utilities  -0.290634  91.287037\n",
       "8                Materials  -0.155828  91.285714\n",
       "2         Consumer Staples   1.382583  91.284585\n",
       "6              Industrials   2.337725  91.285714\n",
       "1   Consumer Discretionary   2.760492  91.286517\n",
       "3                   Energy   5.993012  91.285714\n",
       "7   Information Technology  12.310717  91.284797"
      ]
     },
     "execution_count": 40,
     "metadata": {},
     "output_type": "execute_result"
    }
   ],
   "source": [
    "t.groupby([\"GICS Sector\"]).agg({\"cash_flow\":\"mean\",\"hpr\":\"mean\"}).reset_index().sort_values(\"cash_flow\").tail(50)"
   ]
  },
  {
   "cell_type": "code",
   "execution_count": 41,
   "id": "b0318710-d50c-4d50-92cd-f62a1ed56db8",
   "metadata": {},
   "outputs": [
    {
     "data": {
      "text/html": [
       "<div>\n",
       "<style scoped>\n",
       "    .dataframe tbody tr th:only-of-type {\n",
       "        vertical-align: middle;\n",
       "    }\n",
       "\n",
       "    .dataframe tbody tr th {\n",
       "        vertical-align: top;\n",
       "    }\n",
       "\n",
       "    .dataframe thead th {\n",
       "        text-align: right;\n",
       "    }\n",
       "</style>\n",
       "<table border=\"1\" class=\"dataframe\">\n",
       "  <thead>\n",
       "    <tr style=\"text-align: right;\">\n",
       "      <th>asset_class</th>\n",
       "      <th>date</th>\n",
       "      <th>stocks</th>\n",
       "      <th>bonds</th>\n",
       "      <th>options</th>\n",
       "    </tr>\n",
       "  </thead>\n",
       "  <tbody>\n",
       "    <tr>\n",
       "      <th>0</th>\n",
       "      <td>2022-01-04</td>\n",
       "      <td>49473.998229</td>\n",
       "      <td>40000.000000</td>\n",
       "      <td>10746.536228</td>\n",
       "    </tr>\n",
       "    <tr>\n",
       "      <th>1</th>\n",
       "      <td>2022-01-05</td>\n",
       "      <td>47807.219643</td>\n",
       "      <td>40000.000000</td>\n",
       "      <td>10899.805211</td>\n",
       "    </tr>\n",
       "    <tr>\n",
       "      <th>2</th>\n",
       "      <td>2022-01-06</td>\n",
       "      <td>47972.504129</td>\n",
       "      <td>40000.000000</td>\n",
       "      <td>10883.238245</td>\n",
       "    </tr>\n",
       "    <tr>\n",
       "      <th>3</th>\n",
       "      <td>2022-01-07</td>\n",
       "      <td>47311.461677</td>\n",
       "      <td>40000.000000</td>\n",
       "      <td>10943.933229</td>\n",
       "    </tr>\n",
       "    <tr>\n",
       "      <th>4</th>\n",
       "      <td>2022-01-10</td>\n",
       "      <td>47237.550882</td>\n",
       "      <td>40000.000000</td>\n",
       "      <td>10952.589163</td>\n",
       "    </tr>\n",
       "    <tr>\n",
       "      <th>...</th>\n",
       "      <td>...</td>\n",
       "      <td>...</td>\n",
       "      <td>...</td>\n",
       "      <td>...</td>\n",
       "    </tr>\n",
       "    <tr>\n",
       "      <th>492</th>\n",
       "      <td>2023-12-22</td>\n",
       "      <td>65773.421732</td>\n",
       "      <td>44519.683066</td>\n",
       "      <td>11384.261628</td>\n",
       "    </tr>\n",
       "    <tr>\n",
       "      <th>493</th>\n",
       "      <td>2023-12-26</td>\n",
       "      <td>66143.308756</td>\n",
       "      <td>44519.683066</td>\n",
       "      <td>11372.323838</td>\n",
       "    </tr>\n",
       "    <tr>\n",
       "      <th>494</th>\n",
       "      <td>2023-12-27</td>\n",
       "      <td>66214.094615</td>\n",
       "      <td>44519.683066</td>\n",
       "      <td>11369.576559</td>\n",
       "    </tr>\n",
       "    <tr>\n",
       "      <th>495</th>\n",
       "      <td>2023-12-28</td>\n",
       "      <td>65893.474245</td>\n",
       "      <td>44519.683066</td>\n",
       "      <td>11372.670688</td>\n",
       "    </tr>\n",
       "    <tr>\n",
       "      <th>496</th>\n",
       "      <td>2023-12-29</td>\n",
       "      <td>65715.518106</td>\n",
       "      <td>44519.683066</td>\n",
       "      <td>11377.907557</td>\n",
       "    </tr>\n",
       "  </tbody>\n",
       "</table>\n",
       "<p>497 rows × 4 columns</p>\n",
       "</div>"
      ],
      "text/plain": [
       "asset_class       date        stocks         bonds       options\n",
       "0           2022-01-04  49473.998229  40000.000000  10746.536228\n",
       "1           2022-01-05  47807.219643  40000.000000  10899.805211\n",
       "2           2022-01-06  47972.504129  40000.000000  10883.238245\n",
       "3           2022-01-07  47311.461677  40000.000000  10943.933229\n",
       "4           2022-01-10  47237.550882  40000.000000  10952.589163\n",
       "..                 ...           ...           ...           ...\n",
       "492         2023-12-22  65773.421732  44519.683066  11384.261628\n",
       "493         2023-12-26  66143.308756  44519.683066  11372.323838\n",
       "494         2023-12-27  66214.094615  44519.683066  11369.576559\n",
       "495         2023-12-28  65893.474245  44519.683066  11372.670688\n",
       "496         2023-12-29  65715.518106  44519.683066  11377.907557\n",
       "\n",
       "[497 rows x 4 columns]"
      ]
     },
     "execution_count": 41,
     "metadata": {},
     "output_type": "execute_result"
    }
   ],
   "source": [
    "performance"
   ]
  }
 ],
 "metadata": {
  "kernelspec": {
   "display_name": "Python 3 (ipykernel)",
   "language": "python",
   "name": "python3"
  },
  "language_info": {
   "codemirror_mode": {
    "name": "ipython",
    "version": 3
   },
   "file_extension": ".py",
   "mimetype": "text/x-python",
   "name": "python",
   "nbconvert_exporter": "python",
   "pygments_lexer": "ipython3",
   "version": "3.11.9"
  }
 },
 "nbformat": 4,
 "nbformat_minor": 5
}
