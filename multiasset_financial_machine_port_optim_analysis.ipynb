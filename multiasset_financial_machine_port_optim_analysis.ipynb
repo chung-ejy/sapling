{
 "cells": [
  {
   "cell_type": "code",
   "execution_count": 1,
   "id": "2ed8cf89-aedf-487b-8f4c-be90c03b04e4",
   "metadata": {},
   "outputs": [],
   "source": [
    "from processor.processor import Processor as processor\n",
    "from database.adatabase import ADatabase\n",
    "from xgboost import XGBRegressor\n",
    "from statistics import mean\n",
    "import math\n",
    "import pandas as pd\n",
    "import numpy as np\n",
    "from scipy.optimize import linprog\n",
    "import matplotlib.pyplot as plt\n",
    "from datetime import datetime, timedelta\n",
    "from tqdm import tqdm\n",
    "from dotenv import load_dotenv\n",
    "from asset.stock import Stock\n",
    "from asset.bond import Bond\n",
    "from asset.option import Option\n",
    "import warnings\n",
    "import pytz\n",
    "import copy\n",
    "warnings.simplefilter(action=\"ignore\")\n",
    "import pickle\n",
    "import wrds"
   ]
  },
  {
   "cell_type": "code",
   "execution_count": 2,
   "id": "f83d2e0d-1c3e-411d-bc6d-9f5b6aa766cc",
   "metadata": {},
   "outputs": [],
   "source": [
    "market = ADatabase(\"market\")\n",
    "sec = ADatabase(\"sec\")\n",
    "market = ADatabase(\"market\")\n",
    "fred = ADatabase(\"fred\")\n",
    "db = ADatabase(\"sapling\")"
   ]
  },
  {
   "cell_type": "code",
   "execution_count": 3,
   "id": "e3a1d483-9d3a-4549-9621-6009595e6c43",
   "metadata": {},
   "outputs": [],
   "source": [
    "sp500 = pd.read_html(\"https://en.wikipedia.org/wiki/List_of_S%26P_500_companies\",attrs={\"id\":\"constituents\"})[0].rename(columns={\"Symbol\":\"ticker\"})"
   ]
  },
  {
   "cell_type": "code",
   "execution_count": 4,
   "id": "d7462b2c-0844-4f56-8d4a-a0ec394baf95",
   "metadata": {},
   "outputs": [],
   "source": [
    "fred.connect()\n",
    "market_yield = fred.retrieve(\"market_yield\")\n",
    "market_yield = market_yield.rename(columns={\"value\":\"rf\"})\n",
    "market_yield[\"rf\"] = market_yield[\"rf\"].replace(\".\",np.nan)\n",
    "market_yield.dropna(inplace=True)\n",
    "market_yield[\"rf\"] = [float(x)/100 for x in market_yield[\"rf\"]]\n",
    "market_yield = processor.column_date_processing(market_yield)\n",
    "spy = fred.retrieve(\"sp500\")\n",
    "spy = spy.rename(columns={\"value\":\"spy\"})\n",
    "spy[\"spy\"] = spy[\"spy\"].replace(\".\",np.nan)\n",
    "spy.dropna(inplace=True)\n",
    "spy[\"spy\"] = [float(x) for x in spy[\"spy\"]]\n",
    "spy = processor.column_date_processing(spy)\n",
    "spy = spy.sort_values(\"date\")\n",
    "fred.disconnect()"
   ]
  },
  {
   "cell_type": "code",
   "execution_count": 5,
   "id": "f4ea8cad-467e-44f4-9a57-500dd57a7d09",
   "metadata": {},
   "outputs": [],
   "source": [
    "unneeded_columns = [\"ticker\",\"year\",\"quarter\",\"gsector\",\"gicdesc\",\"y\"]"
   ]
  },
  {
   "cell_type": "code",
   "execution_count": 6,
   "id": "91385ace-f70c-4b9d-8ee2-e5f58c67ed3c",
   "metadata": {
    "scrolled": true
   },
   "outputs": [
    {
     "name": "stderr",
     "output_type": "stream",
     "text": [
      "  4%|████████▎                                                                                                                                                                                               | 21/503 [00:02<00:43, 11.03it/s]"
     ]
    },
    {
     "name": "stdout",
     "output_type": "stream",
     "text": [
      "GOOGL 'date'\n"
     ]
    },
    {
     "name": "stderr",
     "output_type": "stream",
     "text": [
      " 11%|█████████████████████                                                                                                                                                                                   | 53/503 [00:06<00:52,  8.57it/s]"
     ]
    },
    {
     "name": "stdout",
     "output_type": "stream",
     "text": [
      "AVB 'date'\n"
     ]
    },
    {
     "name": "stderr",
     "output_type": "stream",
     "text": [
      " 13%|█████████████████████████                                                                                                                                                                               | 63/503 [00:07<00:44,  9.98it/s]"
     ]
    },
    {
     "name": "stdout",
     "output_type": "stream",
     "text": [
      "BRK.B 'date'\n"
     ]
    },
    {
     "name": "stderr",
     "output_type": "stream",
     "text": [
      " 16%|███████████████████████████████                                                                                                                                                                         | 78/503 [00:09<00:38, 11.03it/s]"
     ]
    },
    {
     "name": "stdout",
     "output_type": "stream",
     "text": [
      "BF.B 'date'\n"
     ]
    },
    {
     "name": "stderr",
     "output_type": "stream",
     "text": [
      " 16%|███████████████████████████████▊                                                                                                                                                                        | 80/503 [00:09<00:39, 10.60it/s]"
     ]
    },
    {
     "name": "stdout",
     "output_type": "stream",
     "text": [
      "BXP 'date'\n"
     ]
    },
    {
     "name": "stderr",
     "output_type": "stream",
     "text": [
      " 18%|███████████████████████████████████▍                                                                                                                                                                    | 89/503 [00:10<00:39, 10.42it/s]"
     ]
    },
    {
     "name": "stdout",
     "output_type": "stream",
     "text": [
      "CCL 'date'\n"
     ]
    },
    {
     "name": "stderr",
     "output_type": "stream",
     "text": [
      " 26%|███████████████████████████████████████████████████▍                                                                                                                                                   | 130/503 [00:15<00:35, 10.54it/s]"
     ]
    },
    {
     "name": "stdout",
     "output_type": "stream",
     "text": [
      "CPAY 'date'\n"
     ]
    },
    {
     "name": "stderr",
     "output_type": "stream",
     "text": [
      " 28%|████████████████████████████████████████████████████████▏                                                                                                                                              | 142/503 [00:16<00:38,  9.34it/s]"
     ]
    },
    {
     "name": "stdout",
     "output_type": "stream",
     "text": [
      "DAY 'date'\n"
     ]
    },
    {
     "name": "stderr",
     "output_type": "stream",
     "text": [
      " 29%|█████████████████████████████████████████████████████████▎                                                                                                                                             | 145/503 [00:16<00:32, 11.10it/s]"
     ]
    },
    {
     "name": "stdout",
     "output_type": "stream",
     "text": [
      "DELL 'date'\n"
     ]
    },
    {
     "name": "stderr",
     "output_type": "stream",
     "text": [
      " 30%|███████████████████████████████████████████████████████████▋                                                                                                                                           | 151/503 [00:17<00:31, 11.31it/s]"
     ]
    },
    {
     "name": "stdout",
     "output_type": "stream",
     "text": [
      "DLR 'date'\n"
     ]
    },
    {
     "name": "stderr",
     "output_type": "stream",
     "text": [
      " 36%|██████████████████████████████████████████████████████████████████████▊                                                                                                                                | 179/503 [00:20<00:29, 10.99it/s]"
     ]
    },
    {
     "name": "stdout",
     "output_type": "stream",
     "text": [
      "EQR 'date'\n",
      "ERIE 'date'\n",
      "ESS 'date'\n"
     ]
    },
    {
     "name": "stderr",
     "output_type": "stream",
     "text": [
      " 36%|████████████████████████████████████████████████████████████████████████▍                                                                                                                              | 183/503 [00:20<00:29, 10.95it/s]"
     ]
    },
    {
     "name": "stdout",
     "output_type": "stream",
     "text": [
      "EG 'date'\n"
     ]
    },
    {
     "name": "stderr",
     "output_type": "stream",
     "text": [
      " 39%|████████████████████████████████████████████████████████████████████████████▊                                                                                                                          | 194/503 [00:22<00:35,  8.71it/s]"
     ]
    },
    {
     "name": "stdout",
     "output_type": "stream",
     "text": [
      "FRT 'date'\n"
     ]
    },
    {
     "name": "stderr",
     "output_type": "stream",
     "text": [
      " 42%|████████████████████████████████████████████████████████████████████████████████████▎                                                                                                                  | 213/503 [00:24<00:24, 12.03it/s]"
     ]
    },
    {
     "name": "stdout",
     "output_type": "stream",
     "text": [
      "GEV 'date'\n"
     ]
    },
    {
     "name": "stderr",
     "output_type": "stream",
     "text": [
      " 52%|███████████████████████████████████████████████████████████████████████████████████████████████████████▋                                                                                               | 262/503 [00:29<00:23, 10.28it/s]"
     ]
    },
    {
     "name": "stdout",
     "output_type": "stream",
     "text": [
      "IVZ 'date'\n",
      "INVH 'date'\n"
     ]
    },
    {
     "name": "stderr",
     "output_type": "stream",
     "text": [
      " 53%|██████████████████████████████████████████████████████████████████████████████████████████████████████████▍                                                                                            | 269/503 [00:30<00:27,  8.51it/s]"
     ]
    },
    {
     "name": "stdout",
     "output_type": "stream",
     "text": [
      "JCI 'date'\n"
     ]
    },
    {
     "name": "stderr",
     "output_type": "stream",
     "text": [
      " 55%|██████████████████████████████████████████████████████████████████████████████████████████████████████████████▍                                                                                        | 279/503 [00:31<00:22, 10.14it/s]"
     ]
    },
    {
     "name": "stdout",
     "output_type": "stream",
     "text": [
      "KIM 'date'\n"
     ]
    },
    {
     "name": "stderr",
     "output_type": "stream",
     "text": [
      " 59%|██████████████████████████████████████████████████████████████████████████████████████████████████████████████████████▎                                                                                | 299/503 [00:34<00:22,  9.18it/s]"
     ]
    },
    {
     "name": "stdout",
     "output_type": "stream",
     "text": [
      "LYB 'date'\n"
     ]
    },
    {
     "name": "stderr",
     "output_type": "stream",
     "text": [
      " 64%|███████████████████████████████████████████████████████████████████████████████████████████████████████████████████████████████▊                                                                       | 323/503 [00:36<00:20,  8.62it/s]"
     ]
    },
    {
     "name": "stdout",
     "output_type": "stream",
     "text": [
      "MAA 'date'\n"
     ]
    },
    {
     "name": "stderr",
     "output_type": "stream",
     "text": [
      " 69%|█████████████████████████████████████████████████████████████████████████████████████████████████████████████████████████████████████████▋                                                             | 348/503 [00:39<00:16,  9.35it/s]"
     ]
    },
    {
     "name": "stdout",
     "output_type": "stream",
     "text": [
      "NCLH 'date'\n"
     ]
    },
    {
     "name": "stderr",
     "output_type": "stream",
     "text": [
      " 70%|███████████████████████████████████████████████████████████████████████████████████████████████████████████████████████████████████████████▋                                                           | 353/503 [00:40<00:15,  9.47it/s]"
     ]
    },
    {
     "name": "stdout",
     "output_type": "stream",
     "text": [
      "NXPI 'date'\n"
     ]
    },
    {
     "name": "stderr",
     "output_type": "stream",
     "text": [
      " 73%|████████████████████████████████████████████████████████████████████████████████████████████████████████████████████████████████████████████████▍                                                      | 365/503 [00:41<00:11, 12.01it/s]"
     ]
    },
    {
     "name": "stdout",
     "output_type": "stream",
     "text": [
      "PLTR 'date'\n"
     ]
    },
    {
     "name": "stderr",
     "output_type": "stream",
     "text": [
      " 79%|█████████████████████████████████████████████████████████████████████████████████████████████████████████████████████████████████████████████████████████████▊                                         | 399/503 [00:46<00:12,  8.37it/s]"
     ]
    },
    {
     "name": "stdout",
     "output_type": "stream",
     "text": [
      "REG 'date'\n"
     ]
    },
    {
     "name": "stderr",
     "output_type": "stream",
     "text": [
      " 81%|█████████████████████████████████████████████████████████████████████████████████████████████████████████████████████████████████████████████████████████████████▊                                     | 409/503 [00:47<00:11,  7.87it/s]"
     ]
    },
    {
     "name": "stdout",
     "output_type": "stream",
     "text": [
      "RCL 'date'\n"
     ]
    },
    {
     "name": "stderr",
     "output_type": "stream",
     "text": [
      " 82%|███████████████████████████████████████████████████████████████████████████████████████████████████████████████████████████████████████████████████████████████████▍                                   | 413/503 [00:47<00:09,  9.25it/s]"
     ]
    },
    {
     "name": "stdout",
     "output_type": "stream",
     "text": [
      "SLB 'date'\n"
     ]
    },
    {
     "name": "stderr",
     "output_type": "stream",
     "text": [
      " 91%|█████████████████████████████████████████████████████████████████████████████████████████████████████████████████████████████████████████████████████████████████████████████████████▉                 | 460/503 [00:53<00:04, 10.47it/s]"
     ]
    },
    {
     "name": "stdout",
     "output_type": "stream",
     "text": [
      "UDR 'date'\n"
     ]
    },
    {
     "name": "stderr",
     "output_type": "stream",
     "text": [
      " 94%|██████████████████████████████████████████████████████████████████████████████████████████████████████████████████████████████████████████████████████████████████████████████████████████▎            | 471/503 [00:54<00:03, 10.09it/s]"
     ]
    },
    {
     "name": "stdout",
     "output_type": "stream",
     "text": [
      "VLTO 'date'\n"
     ]
    },
    {
     "name": "stderr",
     "output_type": "stream",
     "text": [
      " 95%|████████████████████████████████████████████████████████████████████████████████████████████████████████████████████████████████████████████████████████████████████████████████████████████▋          | 477/503 [00:54<00:02, 12.36it/s]"
     ]
    },
    {
     "name": "stdout",
     "output_type": "stream",
     "text": [
      "VICI 'date'\n"
     ]
    },
    {
     "name": "stderr",
     "output_type": "stream",
     "text": [
      "100%|███████████████████████████████████████████████████████████████████████████████████████████████████████████████████████████████████████████████████████████████████████████████████████████████████████| 503/503 [00:58<00:00,  8.66it/s]"
     ]
    },
    {
     "name": "stdout",
     "output_type": "stream",
     "text": [
      "ZTS 'date'\n"
     ]
    },
    {
     "name": "stderr",
     "output_type": "stream",
     "text": [
      "\n"
     ]
    }
   ],
   "source": [
    "market.connect()\n",
    "sec.connect()\n",
    "factors_df = []\n",
    "for ticker in tqdm(sp500[\"ticker\"].unique()):\n",
    "    try:\n",
    "        price = processor.column_date_processing(market.query(\"prices\",{\"ticker\":ticker}))\n",
    "        price[\"year\"] = [x.year for x in price[\"date\"]]\n",
    "        price[\"quarter\"] = [x.quarter for x in price[\"date\"]]\n",
    "        filings = processor.column_date_processing(sec.query(\"financials\",{\"ticker\":ticker})).drop([\"gsector\",\"gicdesc\"],axis=1)\n",
    "        filings[\"year\"] = [x.year for x in filings[\"date\"]]\n",
    "        filings[\"quarter\"] = [x.quarter for x in filings[\"date\"]]\n",
    "        filings[\"quarter\"] = filings[\"quarter\"].shift(1)\n",
    "        price = price.drop([\"date\",\"ticker\"],axis=1).merge(filings.drop([\"date\",\"ticker\"],axis=1),on=[\"year\",\"quarter\"],how=\"left\").groupby([\"year\",\"quarter\"]).mean().reset_index()\n",
    "        price[\"ticker\"] = ticker\n",
    "        price[\"y\"] = price[\"adjclose\"].shift(-4)\n",
    "        factors_df.append(price)\n",
    "    except Exception as e:\n",
    "        print(ticker,str(e))\n",
    "        continue\n",
    "sec.disconnect()\n",
    "market.disconnect()"
   ]
  },
  {
   "cell_type": "code",
   "execution_count": 7,
   "id": "20232945-482a-466e-9beb-22417e8f3490",
   "metadata": {},
   "outputs": [],
   "source": [
    "factors_df = pd.concat(factors_df)"
   ]
  },
  {
   "cell_type": "code",
   "execution_count": 8,
   "id": "86a1c8e8-8e20-4438-9c74-038a9bc907a1",
   "metadata": {},
   "outputs": [],
   "source": [
    "for column in factors_df:\n",
    "    if column in factors_df[column]:\n",
    "        factors_df.drop(column,axis=1,inplace=True)"
   ]
  },
  {
   "cell_type": "code",
   "execution_count": 9,
   "id": "db4debcc-1f19-4c68-9d94-51317a62d68e",
   "metadata": {},
   "outputs": [],
   "source": [
    "factors_df = factors_df.fillna(0)"
   ]
  },
  {
   "cell_type": "code",
   "execution_count": 40,
   "id": "2c85bf4a-8add-4870-a2eb-beed6d0b79a6",
   "metadata": {},
   "outputs": [],
   "source": [
    "start_year = 2015\n",
    "end_year = 2022\n",
    "sim_end_year = 2025"
   ]
  },
  {
   "cell_type": "code",
   "execution_count": 41,
   "id": "01e9afd6-ec9f-4977-9ed7-99c0c7d05db1",
   "metadata": {},
   "outputs": [],
   "source": [
    "model = XGBRegressor()\n",
    "factors = [\"ptb\",\"roa\",\"mktcap\",\"bm\",\"short_debt\",\"divyield\",\"adjclose\"]\n",
    "factors_df.sort_values([\"year\",\"quarter\"],inplace=True)\n",
    "training_data = factors_df[(factors_df[\"year\"]>start_year) & (factors_df[\"year\"]<end_year)].dropna()\n",
    "sim = factors_df[(factors_df[\"year\"]>=end_year) & (factors_df[\"year\"]<sim_end_year)].drop(\"y\",axis=1).dropna()\n",
    "model.fit(training_data[factors],training_data[\"y\"])\n",
    "sim[\"prediction\"] = model.predict(sim[factors])"
   ]
  },
  {
   "cell_type": "code",
   "execution_count": 42,
   "id": "774135ee-3814-46ab-8508-e056b2ceb96b",
   "metadata": {
    "scrolled": true
   },
   "outputs": [
    {
     "name": "stderr",
     "output_type": "stream",
     "text": [
      " 13%|█████████████████████████                                                                                                                                                                               | 63/503 [00:05<00:37, 11.78it/s]"
     ]
    },
    {
     "name": "stdout",
     "output_type": "stream",
     "text": [
      "BRK.B 'date'\n"
     ]
    },
    {
     "name": "stderr",
     "output_type": "stream",
     "text": [
      " 16%|███████████████████████████████                                                                                                                                                                         | 78/503 [00:07<00:33, 12.54it/s]"
     ]
    },
    {
     "name": "stdout",
     "output_type": "stream",
     "text": [
      "BF.B 'date'\n"
     ]
    },
    {
     "name": "stderr",
     "output_type": "stream",
     "text": [
      " 29%|█████████████████████████████████████████████████████████▊                                                                                                                                             | 146/503 [00:13<00:29, 12.28it/s]"
     ]
    },
    {
     "name": "stdout",
     "output_type": "stream",
     "text": [
      "DELL 'date'\n"
     ]
    },
    {
     "name": "stderr",
     "output_type": "stream",
     "text": [
      " 35%|██████████████████████████████████████████████████████████████████████▍                                                                                                                                | 178/503 [00:16<00:27, 12.00it/s]"
     ]
    },
    {
     "name": "stdout",
     "output_type": "stream",
     "text": [
      "ERIE 'date'\n"
     ]
    },
    {
     "name": "stderr",
     "output_type": "stream",
     "text": [
      " 73%|████████████████████████████████████████████████████████████████████████████████████████████████████████████████████████████████████████████████▍                                                      | 365/503 [00:33<00:10, 12.94it/s]"
     ]
    },
    {
     "name": "stdout",
     "output_type": "stream",
     "text": [
      "PLTR 'date'\n"
     ]
    },
    {
     "name": "stderr",
     "output_type": "stream",
     "text": [
      "100%|███████████████████████████████████████████████████████████████████████████████████████████████████████████████████████████████████████████████████████████████████████████████████████████████████████| 503/503 [00:49<00:00, 10.11it/s]"
     ]
    },
    {
     "name": "stdout",
     "output_type": "stream",
     "text": [
      "ZTS 'date'\n"
     ]
    },
    {
     "name": "stderr",
     "output_type": "stream",
     "text": [
      "\n"
     ]
    }
   ],
   "source": [
    "prices = []\n",
    "market.connect()\n",
    "db.cloud_connect()\n",
    "for ticker in tqdm(sp500[\"ticker\"].unique()):\n",
    "    try:\n",
    "        price = processor.column_date_processing(market.query(\"prices\",{\"ticker\":ticker}))\n",
    "        price[\"year\"] = [x.year for x in price[\"date\"]]\n",
    "        price[\"quarter\"] = [x.quarter for x in price[\"date\"]]\n",
    "        price.sort_values(\"date\",inplace=True)\n",
    "        price = price.merge(sim[[\"year\",\"quarter\",\"ticker\",\"prediction\"]],on=[\"year\",\"quarter\",\"ticker\"],how=\"left\")\n",
    "        price = price.merge(spy[[\"date\",\"spy\"]],on=\"date\",how=\"left\")\n",
    "        price = price.merge(market_yield[[\"date\",\"rf\"]],on=\"date\",how=\"left\")\n",
    "        price = price.merge(sp500[[\"ticker\",\"GICS Sector\"]],on=\"ticker\",how=\"left\")\n",
    "        price[\"expected_return\"] = (price[\"prediction\"] - price[\"adjclose\"]) / price[\"adjclose\"]\n",
    "        price[\"historical_return\"] = price[\"adjclose\"].pct_change(90)\n",
    "        price[\"factor_return\"] = price[\"spy\"].pct_change(90)\n",
    "        price[\"cov\"] = price[\"factor_return\"].rolling(100).cov(price[\"expected_return\"])\n",
    "        price[\"var\"] = price[\"factor_return\"].rolling(100).var()\n",
    "        price[\"beta\"] = price[\"cov\"] / price[\"var\"]\n",
    "        price[\"excess_return\"] = price[\"rf\"] + price[\"beta\"] * (price[\"expected_return\"] - price[\"rf\"])\n",
    "        price[\"sigma\"] = price[\"adjclose\"].rolling(262).std()\n",
    "        prices.append(price)\n",
    "    except Exception as e:\n",
    "        print(ticker,str(e))\n",
    "        continue\n",
    "market.disconnect()\n",
    "db.disconnect()"
   ]
  },
  {
   "cell_type": "code",
   "execution_count": 43,
   "id": "593de38c-0f3d-4903-8a18-ffe7c89d7b3e",
   "metadata": {},
   "outputs": [],
   "source": [
    "sim = pd.concat(prices).fillna(0)\n",
    "sim[\"quarter\"] = [x.quarter for x in sim[\"date\"]]\n",
    "sim = sim[(sim[\"date\"]<datetime(sim_end_year,1,1)) & (sim[\"date\"]>datetime(end_year,1,1))]"
   ]
  },
  {
   "cell_type": "code",
   "execution_count": 57,
   "id": "562506f8-95aa-42d7-9e64-5b5a0fdb3b51",
   "metadata": {},
   "outputs": [
    {
     "name": "stderr",
     "output_type": "stream",
     "text": [
      "  0%|▎                                                                                                                                                                                                        | 1/683 [00:00<01:57,  5.81it/s]"
     ]
    },
    {
     "name": "stdout",
     "output_type": "stream",
     "text": [
      "Error on date 2022-01-03 00:00:00: single positional indexer is out-of-bounds\n"
     ]
    },
    {
     "name": "stderr",
     "output_type": "stream",
     "text": [
      " 10%|███████████████████▎                                                                                                                                                                                    | 66/683 [00:24<03:53,  2.64it/s]"
     ]
    },
    {
     "name": "stdout",
     "output_type": "stream",
     "text": [
      "Error on date 2022-04-06 00:00:00: single positional indexer is out-of-bounds\n",
      "Error on date 2022-04-07 00:00:00: single positional indexer is out-of-bounds\n"
     ]
    },
    {
     "name": "stderr",
     "output_type": "stream",
     "text": [
      " 41%|█████████████████████████████████████████████████████████████████████████████████▌                                                                                                                     | 280/683 [01:58<03:11,  2.11it/s]"
     ]
    },
    {
     "name": "stdout",
     "output_type": "stream",
     "text": [
      "Error on date 2023-02-13 00:00:00: single positional indexer is out-of-bounds\n"
     ]
    },
    {
     "name": "stderr",
     "output_type": "stream",
     "text": [
      "100%|███████████████████████████████████████████████████████████████████████████████████████████████████████████████████████████████████████████████████████████████████████████████████████████████████████| 683/683 [04:53<00:00,  2.33it/s]\n"
     ]
    }
   ],
   "source": [
    "# Initialize variables\n",
    "structure = {\"stock\":0.5,\"bond\":0.4,\"option\":0.1}\n",
    "start = sim[\"date\"].min()\n",
    "end = sim[\"date\"].max()\n",
    "date = start\n",
    "number_of_stocks = 1\n",
    "portfolio = {\n",
    "    \"date\": date,\n",
    "    \"tax\": 0,\n",
    "    \"fees\": 0,\n",
    "    \"cash\": 100000,\n",
    "    \"positions\": [\n",
    "        {\n",
    "            \n",
    "            \"stocks\": [{\"ticker\": \"\", \"adjclose\": 0, \"quantity\": 0,\"pv\":0} for _ in range(number_of_stocks)],\n",
    "            \"bonds\": [{\"ticker\": \"\", \"adjclose\": 0, \"quantity\": 0,\"pv\":0} for _ in range(number_of_stocks)],\n",
    "            \"options\": [{\"ticker\": \"\", \"adjclose\": 0, \"quantity\": 0,\"pv\":0} for _ in range(number_of_stocks)]\n",
    "        }\n",
    "        for _ in sim[\"ticker\"].unique()\n",
    "    ]\n",
    "}\n",
    "states = []\n",
    "trades = []\n",
    "annual_balance = 100000\n",
    "prev_quarter = 0\n",
    "quarter = 1\n",
    "for date in tqdm(sim.sort_values(\"date\")[\"date\"].unique()):\n",
    "    today = sim[sim[\"date\"] == date].copy()\n",
    "    expected_returns = today['expected_return'].values\n",
    "\n",
    "    # Number of assets\n",
    "    num_assets = len(expected_returns)\n",
    "    \n",
    "    # Linear programming to maximize expected return\n",
    "    # The negative sign is used because linprog performs minimization, and we want to maximize returns\n",
    "    c = -expected_returns\n",
    "    \n",
    "    # Constraints: weights sum to 1 (Ax = b)\n",
    "    A_eq = np.ones((1, num_assets))\n",
    "    b_eq = [1]\n",
    "    \n",
    "    # Bounds: No short-selling (weights between 0 and 1)\n",
    "    bounds = [(0.0005, 0.1) for asset in range(num_assets)]\n",
    "    \n",
    "    # Perform linear programming\n",
    "    result = linprog(c, A_eq=A_eq, b_eq=b_eq, bounds=bounds, method='highs')\n",
    "    \n",
    "    # Optimized weights\n",
    "    optimized_weights = result.x\n",
    "    today[\"weight\"] = optimized_weights\n",
    "    if today.index.size > 0:\n",
    "        try:\n",
    "            portfolio = copy.deepcopy(portfolio)\n",
    "            cash = portfolio[\"cash\"]\n",
    "            portfolio[\"date\"] = date\n",
    "            positions = copy.deepcopy(portfolio[\"positions\"])\n",
    "            for i in range(len(positions)):\n",
    "                position = positions[i]\n",
    "                stocks = copy.deepcopy(position[\"stocks\"])\n",
    "                options = copy.deepcopy(position[\"options\"])\n",
    "                bonds = copy.deepcopy(position[\"bonds\"])\n",
    "                for j in range(number_of_stocks):\n",
    "                    stock = stocks[j]\n",
    "                    bond = bonds[j]\n",
    "                    option = options[j]\n",
    "                    ticker = stock[\"ticker\"]\n",
    "                    if ticker != \"\":\n",
    "                        row = today[today[\"ticker\"] == ticker].iloc[0]\n",
    "                        stock = Stock.update(row, stock)\n",
    "                        position[\"stocks\"][j] = stock\n",
    "                        bond = Bond.update(row, bond)\n",
    "                        position[\"bonds\"][j] = bond\n",
    "                        option = Option.update(row, option)\n",
    "                        position[\"options\"][j] = option\n",
    "                positions[i] = position\n",
    "            portfolio[\"positions\"] = positions\n",
    "            cash = portfolio[\"cash\"]\n",
    "            positions = copy.deepcopy(portfolio[\"positions\"])\n",
    "            notional = sum([position[\"stocks\"][0][\"pv\"] for position in positions]) \\\n",
    "                            + sum([position[\"options\"][0][\"pv\"] for position in positions]) \\\n",
    "                            + sum([position[\"bonds\"][0][\"pv\"] for position in positions])\n",
    "            for i in range(len(positions)):\n",
    "                position = positions[i]\n",
    "                stocks = copy.deepcopy(position[\"stocks\"])\n",
    "                options = copy.deepcopy(position[\"options\"])\n",
    "                bonds = copy.deepcopy(position[\"bonds\"])\n",
    "                for j in range(number_of_stocks):\n",
    "                    stock = stocks[j]\n",
    "                    bond = bonds[j]\n",
    "                    option = options[j]\n",
    "                    ticker = stock[\"ticker\"]\n",
    "                    if ticker != \"\":\n",
    "                        hpr = int((date - stock[\"buy_date\"]).days)\n",
    "                        opportunity_row = today.iloc[i]\n",
    "                        opportunity_ticker = opportunity_row[\"ticker\"]\n",
    "                        if (hpr > 90):\n",
    "                            row = today[today[\"ticker\"] == ticker].iloc[0]\n",
    "                            stock = Stock.sell(row, stock)\n",
    "                            position[\"stocks\"][j] = stock\n",
    "                            trades.append(stock)\n",
    "                            stock = Stock.buy(opportunity_row, stock, notional * structure[\"stock\"] * opportunity_row[\"weight\"])\n",
    "                            position[\"stocks\"][j] = stock\n",
    "                            option = Option.sell(row, option)\n",
    "                            position[\"options\"][j] = option\n",
    "                            trades.append(option)\n",
    "                            option = Option.buy(opportunity_row, option, notional * structure[\"option\"] * opportunity_row[\"weight\"])\n",
    "                            position[\"options\"][j] = option\n",
    "                            bond = Bond.sell(row, bond)\n",
    "                            position[\"bonds\"][j] = bond\n",
    "                            trades.append(bond)\n",
    "                            bond = Bond.buy(opportunity_row, bond, notional * structure[\"bond\"] * opportunity_row[\"weight\"])\n",
    "                            position[\"bonds\"][j] = bond\n",
    "                            positions[i] = position\n",
    "                portfolio[\"positions\"] = positions\n",
    "            if date == sim[\"date\"].min():\n",
    "                notional = float(cash)\n",
    "                for i in range(len(positions)):\n",
    "                    position = positions[i]\n",
    "                    stocks = copy.deepcopy(position[\"stocks\"])\n",
    "                    for j in range(number_of_stocks):\n",
    "                        stock = stocks[j]\n",
    "                        row = today.iloc[i]\n",
    "                        stock = Stock.buy(row, stock, notional * structure[\"stock\"] * row[\"weight\"])\n",
    "                        position[\"stocks\"][j] = stock\n",
    "                        option = Option.buy(row, option, notional * structure[\"option\"] * row[\"weight\"])\n",
    "                        position[\"options\"][j] = option\n",
    "                        bond = Bond.buy(row, bond, notional * structure[\"bond\"] * row[\"weight\"])\n",
    "                        position[\"bonds\"][j] = bond\n",
    "                    positions[i] = position\n",
    "                portfolio[\"positions\"] = positions\n",
    "                portfolio[\"cash\"] = 0\n",
    "            states.append(copy.deepcopy(portfolio))\n",
    "        except Exception as e:\n",
    "            print(f\"Error on date {date}: {str(e)}\")\n",
    "            continue"
   ]
  },
  {
   "cell_type": "code",
   "execution_count": 58,
   "id": "cfc6ed29-c209-40dc-80c9-789f49aed13a",
   "metadata": {},
   "outputs": [],
   "source": [
    "portfolios = []\n",
    "for state in states:\n",
    "    for i in range(len(positions)):\n",
    "        for j in range(number_of_stocks):\n",
    "            for asset_class in [\"stocks\",\"bonds\",\"options\"]:\n",
    "                view = state[\"positions\"][i][asset_class][j]\n",
    "                view[\"date\"] = state[\"date\"]\n",
    "                view[\"asset_class\"] = asset_class\n",
    "            portfolios.append(state[\"positions\"][i][\"stocks\"][j])\n",
    "            portfolios.append(state[\"positions\"][i][\"options\"][j])\n",
    "            portfolios.append(state[\"positions\"][i][\"bonds\"][j])"
   ]
  },
  {
   "cell_type": "code",
   "execution_count": 59,
   "id": "c830c9b7-f2ac-44db-a0ed-1a1eefb450a7",
   "metadata": {},
   "outputs": [],
   "source": [
    "performance = pd.DataFrame(portfolios).pivot_table(index=[\"date\",\"ticker\"],columns=\"asset_class\",values=\"pv\").reset_index().sort_values(\"date\")\n",
    "performance = performance.groupby(\"date\").agg({\"stocks\":\"sum\",\"bonds\":\"sum\",\"options\":\"sum\"}).reset_index()"
   ]
  },
  {
   "cell_type": "code",
   "execution_count": 60,
   "id": "e9fafec9-a71f-40db-90a1-9aaef3149e90",
   "metadata": {},
   "outputs": [],
   "source": [
    "# plt.figure(figsize=(10, 6))  \n",
    "# for sector in performance[\"sector\"].unique():\n",
    "#     sector_perf = performance[performance[\"sector\"]==sector]\n",
    "#     plt.plot(sector_perf[\"date\"].values,sector_perf[\"stocks\"].values)\n",
    "#     # plt.legend(performance[\"sector\"].unique())\n",
    "# plt.show()"
   ]
  },
  {
   "cell_type": "code",
   "execution_count": 61,
   "id": "2e84c5d3-0b09-42ef-aa7f-ede7939ede72",
   "metadata": {},
   "outputs": [
    {
     "data": {
      "image/png": "[encoded data removed]",
      "text/plain": [
       "<Figure size 1000x600 with 1 Axes>"
      ]
     },
     "metadata": {},
     "output_type": "display_data"
    }
   ],
   "source": [
    "plt.figure(figsize=(10, 6)) \n",
    "plt.plot(performance[\"date\"].values,performance[\"stocks\"].values)\n",
    "plt.plot(performance[\"date\"].values,performance[\"bonds\"].values)\n",
    "plt.plot(performance[\"date\"].values,performance[\"options\"].values)\n",
    "plt.show()"
   ]
  },
  {
   "cell_type": "code",
   "execution_count": 62,
   "id": "166410b7-e9c2-4af1-b174-56e3e32cb643",
   "metadata": {},
   "outputs": [],
   "source": [
    "visualization = performance.merge(spy,on=\"date\",how=\"left\")\n",
    "visualization = visualization.merge(market_yield[[\"date\",\"rf\"]],on=\"date\",how=\"left\")"
   ]
  },
  {
   "cell_type": "code",
   "execution_count": 63,
   "id": "0dc1caa2-97b6-46eb-9cf5-90f2215b06bd",
   "metadata": {},
   "outputs": [],
   "source": [
    "visualization[\"pv\"] = visualization[\"stocks\"] + visualization[\"bonds\"] + visualization[\"options\"]\n",
    "visualization[\"return\"] = (visualization[\"pv\"] - visualization[\"pv\"].iloc[0]) / visualization[\"pv\"].iloc[0]\n",
    "visualization[\"benchmark_return\"] = (visualization[\"spy\"] - visualization[\"spy\"].iloc[0]) / visualization[\"spy\"].iloc[0]\n",
    "visualization[\"ir_return\"] = (visualization[\"rf\"] - visualization[\"rf\"].iloc[0]) / visualization[\"rf\"].iloc[0]"
   ]
  },
  {
   "cell_type": "code",
   "execution_count": 64,
   "id": "b8b79695-e2ef-4933-aaa0-6cb12ea34557",
   "metadata": {},
   "outputs": [
    {
     "data": {
      "image/png": "[encoded data removed]",
      "text/plain": [
       "<Figure size 1000x600 with 1 Axes>"
      ]
     },
     "metadata": {},
     "output_type": "display_data"
    }
   ],
   "source": [
    "# Set the figure size\n",
    "plt.figure(figsize=(10, 6))  # Adjust the width and height as needed\n",
    "\n",
    "# Plot the data\n",
    "plt.plot(visualization[\"date\"].values, visualization[\"return\"], label=\"Return\")\n",
    "plt.plot(visualization[\"date\"].values, visualization[\"benchmark_return\"], label=\"Benchmark Return\")\n",
    "plt.plot(visualization[\"date\"].values, visualization[\"ir_return\"], label=\"IR Return\")\n",
    "\n",
    "# Add labels and legend\n",
    "plt.xlabel(\"Date\")\n",
    "plt.ylabel(\"Return\")\n",
    "plt.title(\"Return vs. Benchmark Return\")\n",
    "plt.legend()\n",
    "\n",
    "# Show the plot\n",
    "plt.show()\n"
   ]
  },
  {
   "cell_type": "code",
   "execution_count": 65,
   "id": "8b18fb83-929c-4408-af26-911baad6bef4",
   "metadata": {},
   "outputs": [
    {
     "data": {
      "text/plain": [
       "2.728854504275737"
      ]
     },
     "execution_count": 65,
     "metadata": {},
     "output_type": "execute_result"
    }
   ],
   "source": [
    "(visualization[\"return\"].iloc[-1] - visualization[\"benchmark_return\"].iloc[-1]) / visualization[\"return\"].std()"
   ]
  },
  {
   "cell_type": "code",
   "execution_count": 66,
   "id": "121aa44a-423b-4293-8862-5170fa7250cc",
   "metadata": {},
   "outputs": [],
   "source": [
    "t = pd.DataFrame(trades).merge(sp500[[\"ticker\",\"GICS Sector\"]],on=\"ticker\",how=\"left\")\n",
    "t[\"return\"] = (t[\"adjclose\"] - t[\"buy_price\"]) / t[\"buy_price\"]\n",
    "t[\"cash_flow\"] = (t[\"adjclose\"] - t[\"buy_price\"]) * t[\"quantity\"]\n",
    "t[\"hpr\"] = t[\"sell_date\"] - t[\"buy_date\"]\n",
    "t[\"hpr\"] = [int(x.days) for x in t[\"hpr\"]]"
   ]
  },
  {
   "cell_type": "code",
   "execution_count": 67,
   "id": "893d2e19-24d5-4d58-a447-d46a689051e3",
   "metadata": {},
   "outputs": [
    {
     "data": {
      "text/html": [
       "<div>\n",
       "<style scoped>\n",
       "    .dataframe tbody tr th:only-of-type {\n",
       "        vertical-align: middle;\n",
       "    }\n",
       "\n",
       "    .dataframe tbody tr th {\n",
       "        vertical-align: top;\n",
       "    }\n",
       "\n",
       "    .dataframe thead th {\n",
       "        text-align: right;\n",
       "    }\n",
       "</style>\n",
       "<table border=\"1\" class=\"dataframe\">\n",
       "  <thead>\n",
       "    <tr style=\"text-align: right;\">\n",
       "      <th></th>\n",
       "      <th>ticker</th>\n",
       "      <th>adjclose</th>\n",
       "      <th>quantity</th>\n",
       "      <th>pv</th>\n",
       "      <th>buy_price</th>\n",
       "      <th>buy_date</th>\n",
       "      <th>sell_date</th>\n",
       "      <th>strike_price</th>\n",
       "      <th>premium</th>\n",
       "      <th>contract_price</th>\n",
       "      <th>notional</th>\n",
       "      <th>return</th>\n",
       "      <th>rate</th>\n",
       "      <th>GICS Sector</th>\n",
       "      <th>cash_flow</th>\n",
       "      <th>hpr</th>\n",
       "    </tr>\n",
       "  </thead>\n",
       "  <tbody>\n",
       "    <tr>\n",
       "      <th>13026</th>\n",
       "      <td>SMCI</td>\n",
       "      <td>1015.570000</td>\n",
       "      <td>33.030334</td>\n",
       "      <td>33544.616066</td>\n",
       "      <td>280.640000</td>\n",
       "      <td>2024-01-03</td>\n",
       "      <td>2024-04-03</td>\n",
       "      <td>NaN</td>\n",
       "      <td>NaN</td>\n",
       "      <td>NaN</td>\n",
       "      <td>NaN</td>\n",
       "      <td>2.618764</td>\n",
       "      <td>NaN</td>\n",
       "      <td>Information Technology</td>\n",
       "      <td>24274.983197</td>\n",
       "      <td>91</td>\n",
       "    </tr>\n",
       "    <tr>\n",
       "      <th>8613</th>\n",
       "      <td>SMCI</td>\n",
       "      <td>255.000000</td>\n",
       "      <td>68.687458</td>\n",
       "      <td>17515.301701</td>\n",
       "      <td>109.460000</td>\n",
       "      <td>2023-04-04</td>\n",
       "      <td>2023-07-05</td>\n",
       "      <td>NaN</td>\n",
       "      <td>NaN</td>\n",
       "      <td>NaN</td>\n",
       "      <td>NaN</td>\n",
       "      <td>1.329618</td>\n",
       "      <td>NaN</td>\n",
       "      <td>Information Technology</td>\n",
       "      <td>9996.772587</td>\n",
       "      <td>92</td>\n",
       "    </tr>\n",
       "    <tr>\n",
       "      <th>3516</th>\n",
       "      <td>FSLR</td>\n",
       "      <td>143.060000</td>\n",
       "      <td>83.997818</td>\n",
       "      <td>12016.727788</td>\n",
       "      <td>66.230000</td>\n",
       "      <td>2022-07-05</td>\n",
       "      <td>2022-10-04</td>\n",
       "      <td>NaN</td>\n",
       "      <td>NaN</td>\n",
       "      <td>NaN</td>\n",
       "      <td>NaN</td>\n",
       "      <td>1.160048</td>\n",
       "      <td>NaN</td>\n",
       "      <td>Information Technology</td>\n",
       "      <td>6453.552327</td>\n",
       "      <td>91</td>\n",
       "    </tr>\n",
       "    <tr>\n",
       "      <th>6906</th>\n",
       "      <td>NVDA</td>\n",
       "      <td>27.438574</td>\n",
       "      <td>461.351746</td>\n",
       "      <td>12658.834005</td>\n",
       "      <td>14.305021</td>\n",
       "      <td>2023-01-03</td>\n",
       "      <td>2023-04-04</td>\n",
       "      <td>NaN</td>\n",
       "      <td>NaN</td>\n",
       "      <td>NaN</td>\n",
       "      <td>NaN</td>\n",
       "      <td>0.918108</td>\n",
       "      <td>NaN</td>\n",
       "      <td>Information Technology</td>\n",
       "      <td>6059.187741</td>\n",
       "      <td>91</td>\n",
       "    </tr>\n",
       "    <tr>\n",
       "      <th>1035</th>\n",
       "      <td>OXY</td>\n",
       "      <td>56.110405</td>\n",
       "      <td>166.172297</td>\n",
       "      <td>9323.994793</td>\n",
       "      <td>30.089251</td>\n",
       "      <td>2022-01-03</td>\n",
       "      <td>2022-04-04</td>\n",
       "      <td>NaN</td>\n",
       "      <td>NaN</td>\n",
       "      <td>NaN</td>\n",
       "      <td>NaN</td>\n",
       "      <td>0.864799</td>\n",
       "      <td>NaN</td>\n",
       "      <td>Energy</td>\n",
       "      <td>4323.994793</td>\n",
       "      <td>91</td>\n",
       "    </tr>\n",
       "    <tr>\n",
       "      <th>8379</th>\n",
       "      <td>NVDA</td>\n",
       "      <td>42.299278</td>\n",
       "      <td>274.013115</td>\n",
       "      <td>11590.556821</td>\n",
       "      <td>27.438574</td>\n",
       "      <td>2023-04-04</td>\n",
       "      <td>2023-07-05</td>\n",
       "      <td>NaN</td>\n",
       "      <td>NaN</td>\n",
       "      <td>NaN</td>\n",
       "      <td>NaN</td>\n",
       "      <td>0.541599</td>\n",
       "      <td>NaN</td>\n",
       "      <td>Information Technology</td>\n",
       "      <td>4072.027707</td>\n",
       "      <td>92</td>\n",
       "    </tr>\n",
       "    <tr>\n",
       "      <th>7302</th>\n",
       "      <td>WBD</td>\n",
       "      <td>15.150000</td>\n",
       "      <td>691.786820</td>\n",
       "      <td>10480.570324</td>\n",
       "      <td>9.540000</td>\n",
       "      <td>2023-01-03</td>\n",
       "      <td>2023-04-04</td>\n",
       "      <td>NaN</td>\n",
       "      <td>NaN</td>\n",
       "      <td>NaN</td>\n",
       "      <td>NaN</td>\n",
       "      <td>0.588050</td>\n",
       "      <td>NaN</td>\n",
       "      <td>Communication Services</td>\n",
       "      <td>3880.924061</td>\n",
       "      <td>91</td>\n",
       "    </tr>\n",
       "    <tr>\n",
       "      <th>11094</th>\n",
       "      <td>KEY</td>\n",
       "      <td>13.608269</td>\n",
       "      <td>874.696926</td>\n",
       "      <td>11903.110732</td>\n",
       "      <td>9.668189</td>\n",
       "      <td>2023-10-04</td>\n",
       "      <td>2024-01-03</td>\n",
       "      <td>NaN</td>\n",
       "      <td>NaN</td>\n",
       "      <td>NaN</td>\n",
       "      <td>NaN</td>\n",
       "      <td>0.407530</td>\n",
       "      <td>NaN</td>\n",
       "      <td>Financials</td>\n",
       "      <td>3446.375628</td>\n",
       "      <td>91</td>\n",
       "    </tr>\n",
       "    <tr>\n",
       "      <th>966</th>\n",
       "      <td>MOS</td>\n",
       "      <td>63.340638</td>\n",
       "      <td>131.871891</td>\n",
       "      <td>8352.849773</td>\n",
       "      <td>37.915586</td>\n",
       "      <td>2022-01-03</td>\n",
       "      <td>2022-04-04</td>\n",
       "      <td>NaN</td>\n",
       "      <td>NaN</td>\n",
       "      <td>NaN</td>\n",
       "      <td>NaN</td>\n",
       "      <td>0.670570</td>\n",
       "      <td>NaN</td>\n",
       "      <td>Materials</td>\n",
       "      <td>3352.849773</td>\n",
       "      <td>91</td>\n",
       "    </tr>\n",
       "    <tr>\n",
       "      <th>14196</th>\n",
       "      <td>MPWR</td>\n",
       "      <td>839.220000</td>\n",
       "      <td>17.015797</td>\n",
       "      <td>14279.997424</td>\n",
       "      <td>648.852917</td>\n",
       "      <td>2024-04-03</td>\n",
       "      <td>2024-07-03</td>\n",
       "      <td>NaN</td>\n",
       "      <td>NaN</td>\n",
       "      <td>NaN</td>\n",
       "      <td>NaN</td>\n",
       "      <td>0.293390</td>\n",
       "      <td>NaN</td>\n",
       "      <td>Information Technology</td>\n",
       "      <td>3239.247696</td>\n",
       "      <td>91</td>\n",
       "    </tr>\n",
       "    <tr>\n",
       "      <th>7320</th>\n",
       "      <td>WST</td>\n",
       "      <td>346.939985</td>\n",
       "      <td>28.269198</td>\n",
       "      <td>9807.715287</td>\n",
       "      <td>233.457141</td>\n",
       "      <td>2023-01-03</td>\n",
       "      <td>2023-04-04</td>\n",
       "      <td>NaN</td>\n",
       "      <td>NaN</td>\n",
       "      <td>NaN</td>\n",
       "      <td>NaN</td>\n",
       "      <td>0.486097</td>\n",
       "      <td>NaN</td>\n",
       "      <td>Health Care</td>\n",
       "      <td>3208.069023</td>\n",
       "      <td>91</td>\n",
       "    </tr>\n",
       "    <tr>\n",
       "      <th>648</th>\n",
       "      <td>HAL</td>\n",
       "      <td>37.097398</td>\n",
       "      <td>218.631185</td>\n",
       "      <td>8110.648071</td>\n",
       "      <td>22.869565</td>\n",
       "      <td>2022-01-03</td>\n",
       "      <td>2022-04-04</td>\n",
       "      <td>NaN</td>\n",
       "      <td>NaN</td>\n",
       "      <td>NaN</td>\n",
       "      <td>NaN</td>\n",
       "      <td>0.622130</td>\n",
       "      <td>NaN</td>\n",
       "      <td>Energy</td>\n",
       "      <td>3110.648071</td>\n",
       "      <td>91</td>\n",
       "    </tr>\n",
       "    <tr>\n",
       "      <th>12597</th>\n",
       "      <td>LRCX</td>\n",
       "      <td>973.654072</td>\n",
       "      <td>12.666228</td>\n",
       "      <td>12332.524053</td>\n",
       "      <td>731.838491</td>\n",
       "      <td>2024-01-03</td>\n",
       "      <td>2024-04-03</td>\n",
       "      <td>NaN</td>\n",
       "      <td>NaN</td>\n",
       "      <td>NaN</td>\n",
       "      <td>NaN</td>\n",
       "      <td>0.330422</td>\n",
       "      <td>NaN</td>\n",
       "      <td>Information Technology</td>\n",
       "      <td>3062.891184</td>\n",
       "      <td>91</td>\n",
       "    </tr>\n",
       "    <tr>\n",
       "      <th>8697</th>\n",
       "      <td>UBER</td>\n",
       "      <td>43.660000</td>\n",
       "      <td>239.519883</td>\n",
       "      <td>10457.438074</td>\n",
       "      <td>31.390000</td>\n",
       "      <td>2023-04-04</td>\n",
       "      <td>2023-07-05</td>\n",
       "      <td>NaN</td>\n",
       "      <td>NaN</td>\n",
       "      <td>NaN</td>\n",
       "      <td>NaN</td>\n",
       "      <td>0.390889</td>\n",
       "      <td>NaN</td>\n",
       "      <td>Industrials</td>\n",
       "      <td>2938.908959</td>\n",
       "      <td>92</td>\n",
       "    </tr>\n",
       "    <tr>\n",
       "      <th>873</th>\n",
       "      <td>MRO</td>\n",
       "      <td>24.717159</td>\n",
       "      <td>308.978989</td>\n",
       "      <td>7637.082703</td>\n",
       "      <td>16.182330</td>\n",
       "      <td>2022-01-03</td>\n",
       "      <td>2022-04-04</td>\n",
       "      <td>NaN</td>\n",
       "      <td>NaN</td>\n",
       "      <td>NaN</td>\n",
       "      <td>NaN</td>\n",
       "      <td>0.527417</td>\n",
       "      <td>NaN</td>\n",
       "      <td>Energy</td>\n",
       "      <td>2637.082703</td>\n",
       "      <td>91</td>\n",
       "    </tr>\n",
       "    <tr>\n",
       "      <th>10458</th>\n",
       "      <td>BAC</td>\n",
       "      <td>32.878256</td>\n",
       "      <td>335.090931</td>\n",
       "      <td>11017.205358</td>\n",
       "      <td>25.237135</td>\n",
       "      <td>2023-10-04</td>\n",
       "      <td>2024-01-03</td>\n",
       "      <td>NaN</td>\n",
       "      <td>NaN</td>\n",
       "      <td>NaN</td>\n",
       "      <td>NaN</td>\n",
       "      <td>0.302773</td>\n",
       "      <td>NaN</td>\n",
       "      <td>Financials</td>\n",
       "      <td>2560.470255</td>\n",
       "      <td>91</td>\n",
       "    </tr>\n",
       "    <tr>\n",
       "      <th>11640</th>\n",
       "      <td>UBER</td>\n",
       "      <td>58.250000</td>\n",
       "      <td>188.178351</td>\n",
       "      <td>10961.388958</td>\n",
       "      <td>44.940000</td>\n",
       "      <td>2023-10-04</td>\n",
       "      <td>2024-01-03</td>\n",
       "      <td>NaN</td>\n",
       "      <td>NaN</td>\n",
       "      <td>NaN</td>\n",
       "      <td>NaN</td>\n",
       "      <td>0.296173</td>\n",
       "      <td>NaN</td>\n",
       "      <td>Industrials</td>\n",
       "      <td>2504.653855</td>\n",
       "      <td>91</td>\n",
       "    </tr>\n",
       "    <tr>\n",
       "      <th>14055</th>\n",
       "      <td>KLAC</td>\n",
       "      <td>851.852840</td>\n",
       "      <td>15.887296</td>\n",
       "      <td>13533.638356</td>\n",
       "      <td>694.942022</td>\n",
       "      <td>2024-04-03</td>\n",
       "      <td>2024-07-03</td>\n",
       "      <td>NaN</td>\n",
       "      <td>NaN</td>\n",
       "      <td>NaN</td>\n",
       "      <td>NaN</td>\n",
       "      <td>0.225790</td>\n",
       "      <td>NaN</td>\n",
       "      <td>Information Technology</td>\n",
       "      <td>2492.888628</td>\n",
       "      <td>91</td>\n",
       "    </tr>\n",
       "    <tr>\n",
       "      <th>13614</th>\n",
       "      <td>COST</td>\n",
       "      <td>861.437804</td>\n",
       "      <td>15.692700</td>\n",
       "      <td>13518.284955</td>\n",
       "      <td>703.559603</td>\n",
       "      <td>2024-04-03</td>\n",
       "      <td>2024-07-03</td>\n",
       "      <td>NaN</td>\n",
       "      <td>NaN</td>\n",
       "      <td>NaN</td>\n",
       "      <td>NaN</td>\n",
       "      <td>0.224399</td>\n",
       "      <td>NaN</td>\n",
       "      <td>Consumer Staples</td>\n",
       "      <td>2477.535226</td>\n",
       "      <td>91</td>\n",
       "    </tr>\n",
       "    <tr>\n",
       "      <th>5670</th>\n",
       "      <td>SMCI</td>\n",
       "      <td>83.860000</td>\n",
       "      <td>102.252166</td>\n",
       "      <td>8574.866602</td>\n",
       "      <td>60.270000</td>\n",
       "      <td>2022-10-04</td>\n",
       "      <td>2023-01-03</td>\n",
       "      <td>NaN</td>\n",
       "      <td>NaN</td>\n",
       "      <td>NaN</td>\n",
       "      <td>NaN</td>\n",
       "      <td>0.391405</td>\n",
       "      <td>NaN</td>\n",
       "      <td>Information Technology</td>\n",
       "      <td>2412.128585</td>\n",
       "      <td>91</td>\n",
       "    </tr>\n",
       "    <tr>\n",
       "      <th>12612</th>\n",
       "      <td>LLY</td>\n",
       "      <td>773.630748</td>\n",
       "      <td>15.078294</td>\n",
       "      <td>11665.031850</td>\n",
       "      <td>614.766689</td>\n",
       "      <td>2024-01-03</td>\n",
       "      <td>2024-04-03</td>\n",
       "      <td>NaN</td>\n",
       "      <td>NaN</td>\n",
       "      <td>NaN</td>\n",
       "      <td>NaN</td>\n",
       "      <td>0.258414</td>\n",
       "      <td>NaN</td>\n",
       "      <td>Health Care</td>\n",
       "      <td>2395.398981</td>\n",
       "      <td>91</td>\n",
       "    </tr>\n",
       "    <tr>\n",
       "      <th>6102</th>\n",
       "      <td>BLDR</td>\n",
       "      <td>87.360000</td>\n",
       "      <td>100.989231</td>\n",
       "      <td>8822.419244</td>\n",
       "      <td>65.350000</td>\n",
       "      <td>2023-01-03</td>\n",
       "      <td>2023-04-04</td>\n",
       "      <td>NaN</td>\n",
       "      <td>NaN</td>\n",
       "      <td>NaN</td>\n",
       "      <td>NaN</td>\n",
       "      <td>0.336802</td>\n",
       "      <td>NaN</td>\n",
       "      <td>Industrials</td>\n",
       "      <td>2222.772980</td>\n",
       "      <td>91</td>\n",
       "    </tr>\n",
       "    <tr>\n",
       "      <th>11619</th>\n",
       "      <td>TDG</td>\n",
       "      <td>972.610000</td>\n",
       "      <td>10.668553</td>\n",
       "      <td>10376.341385</td>\n",
       "      <td>792.678732</td>\n",
       "      <td>2023-10-04</td>\n",
       "      <td>2024-01-03</td>\n",
       "      <td>NaN</td>\n",
       "      <td>NaN</td>\n",
       "      <td>NaN</td>\n",
       "      <td>NaN</td>\n",
       "      <td>0.226991</td>\n",
       "      <td>NaN</td>\n",
       "      <td>Industrials</td>\n",
       "      <td>1919.606281</td>\n",
       "      <td>91</td>\n",
       "    </tr>\n",
       "    <tr>\n",
       "      <th>4284</th>\n",
       "      <td>UBER</td>\n",
       "      <td>29.190000</td>\n",
       "      <td>247.032658</td>\n",
       "      <td>7210.883290</td>\n",
       "      <td>22.520000</td>\n",
       "      <td>2022-07-05</td>\n",
       "      <td>2022-10-04</td>\n",
       "      <td>NaN</td>\n",
       "      <td>NaN</td>\n",
       "      <td>NaN</td>\n",
       "      <td>NaN</td>\n",
       "      <td>0.296181</td>\n",
       "      <td>NaN</td>\n",
       "      <td>Industrials</td>\n",
       "      <td>1647.707830</td>\n",
       "      <td>91</td>\n",
       "    </tr>\n",
       "    <tr>\n",
       "      <th>4839</th>\n",
       "      <td>DXCM</td>\n",
       "      <td>114.730000</td>\n",
       "      <td>67.744729</td>\n",
       "      <td>7772.352783</td>\n",
       "      <td>90.970000</td>\n",
       "      <td>2022-10-04</td>\n",
       "      <td>2023-01-03</td>\n",
       "      <td>NaN</td>\n",
       "      <td>NaN</td>\n",
       "      <td>NaN</td>\n",
       "      <td>NaN</td>\n",
       "      <td>0.261185</td>\n",
       "      <td>NaN</td>\n",
       "      <td>Health Care</td>\n",
       "      <td>1609.614766</td>\n",
       "      <td>91</td>\n",
       "    </tr>\n",
       "    <tr>\n",
       "      <th>7224</th>\n",
       "      <td>UBER</td>\n",
       "      <td>31.390000</td>\n",
       "      <td>260.238417</td>\n",
       "      <td>8168.883920</td>\n",
       "      <td>25.360000</td>\n",
       "      <td>2023-01-03</td>\n",
       "      <td>2023-04-04</td>\n",
       "      <td>NaN</td>\n",
       "      <td>NaN</td>\n",
       "      <td>NaN</td>\n",
       "      <td>NaN</td>\n",
       "      <td>0.237776</td>\n",
       "      <td>NaN</td>\n",
       "      <td>Industrials</td>\n",
       "      <td>1569.237657</td>\n",
       "      <td>91</td>\n",
       "    </tr>\n",
       "    <tr>\n",
       "      <th>8676</th>\n",
       "      <td>TDG</td>\n",
       "      <td>855.319309</td>\n",
       "      <td>10.593933</td>\n",
       "      <td>9061.195071</td>\n",
       "      <td>709.701433</td>\n",
       "      <td>2023-04-04</td>\n",
       "      <td>2023-07-05</td>\n",
       "      <td>NaN</td>\n",
       "      <td>NaN</td>\n",
       "      <td>NaN</td>\n",
       "      <td>NaN</td>\n",
       "      <td>0.205182</td>\n",
       "      <td>NaN</td>\n",
       "      <td>Industrials</td>\n",
       "      <td>1542.665957</td>\n",
       "      <td>92</td>\n",
       "    </tr>\n",
       "    <tr>\n",
       "      <th>5799</th>\n",
       "      <td>VTRS</td>\n",
       "      <td>10.515545</td>\n",
       "      <td>731.993133</td>\n",
       "      <td>7697.306913</td>\n",
       "      <td>8.419120</td>\n",
       "      <td>2022-10-04</td>\n",
       "      <td>2023-01-03</td>\n",
       "      <td>NaN</td>\n",
       "      <td>NaN</td>\n",
       "      <td>NaN</td>\n",
       "      <td>NaN</td>\n",
       "      <td>0.249008</td>\n",
       "      <td>NaN</td>\n",
       "      <td>Health Care</td>\n",
       "      <td>1534.568896</td>\n",
       "      <td>91</td>\n",
       "    </tr>\n",
       "    <tr>\n",
       "      <th>3816</th>\n",
       "      <td>MRO</td>\n",
       "      <td>25.667139</td>\n",
       "      <td>272.769852</td>\n",
       "      <td>7001.221819</td>\n",
       "      <td>20.395126</td>\n",
       "      <td>2022-07-05</td>\n",
       "      <td>2022-10-04</td>\n",
       "      <td>NaN</td>\n",
       "      <td>NaN</td>\n",
       "      <td>NaN</td>\n",
       "      <td>NaN</td>\n",
       "      <td>0.258494</td>\n",
       "      <td>NaN</td>\n",
       "      <td>Energy</td>\n",
       "      <td>1438.046359</td>\n",
       "      <td>91</td>\n",
       "    </tr>\n",
       "    <tr>\n",
       "      <th>429</th>\n",
       "      <td>FANG</td>\n",
       "      <td>119.654477</td>\n",
       "      <td>52.388592</td>\n",
       "      <td>6268.529624</td>\n",
       "      <td>95.440625</td>\n",
       "      <td>2022-01-03</td>\n",
       "      <td>2022-04-04</td>\n",
       "      <td>NaN</td>\n",
       "      <td>NaN</td>\n",
       "      <td>NaN</td>\n",
       "      <td>NaN</td>\n",
       "      <td>0.253706</td>\n",
       "      <td>NaN</td>\n",
       "      <td>Energy</td>\n",
       "      <td>1268.529624</td>\n",
       "      <td>91</td>\n",
       "    </tr>\n",
       "  </tbody>\n",
       "</table>\n",
       "</div>"
      ],
      "text/plain": [
       "      ticker     adjclose    quantity            pv   buy_price   buy_date  \\\n",
       "13026   SMCI  1015.570000   33.030334  33544.616066  280.640000 2024-01-03   \n",
       "8613    SMCI   255.000000   68.687458  17515.301701  109.460000 2023-04-04   \n",
       "3516    FSLR   143.060000   83.997818  12016.727788   66.230000 2022-07-05   \n",
       "6906    NVDA    27.438574  461.351746  12658.834005   14.305021 2023-01-03   \n",
       "1035     OXY    56.110405  166.172297   9323.994793   30.089251 2022-01-03   \n",
       "8379    NVDA    42.299278  274.013115  11590.556821   27.438574 2023-04-04   \n",
       "7302     WBD    15.150000  691.786820  10480.570324    9.540000 2023-01-03   \n",
       "11094    KEY    13.608269  874.696926  11903.110732    9.668189 2023-10-04   \n",
       "966      MOS    63.340638  131.871891   8352.849773   37.915586 2022-01-03   \n",
       "14196   MPWR   839.220000   17.015797  14279.997424  648.852917 2024-04-03   \n",
       "7320     WST   346.939985   28.269198   9807.715287  233.457141 2023-01-03   \n",
       "648      HAL    37.097398  218.631185   8110.648071   22.869565 2022-01-03   \n",
       "12597   LRCX   973.654072   12.666228  12332.524053  731.838491 2024-01-03   \n",
       "8697    UBER    43.660000  239.519883  10457.438074   31.390000 2023-04-04   \n",
       "873      MRO    24.717159  308.978989   7637.082703   16.182330 2022-01-03   \n",
       "10458    BAC    32.878256  335.090931  11017.205358   25.237135 2023-10-04   \n",
       "11640   UBER    58.250000  188.178351  10961.388958   44.940000 2023-10-04   \n",
       "14055   KLAC   851.852840   15.887296  13533.638356  694.942022 2024-04-03   \n",
       "13614   COST   861.437804   15.692700  13518.284955  703.559603 2024-04-03   \n",
       "5670    SMCI    83.860000  102.252166   8574.866602   60.270000 2022-10-04   \n",
       "12612    LLY   773.630748   15.078294  11665.031850  614.766689 2024-01-03   \n",
       "6102    BLDR    87.360000  100.989231   8822.419244   65.350000 2023-01-03   \n",
       "11619    TDG   972.610000   10.668553  10376.341385  792.678732 2023-10-04   \n",
       "4284    UBER    29.190000  247.032658   7210.883290   22.520000 2022-07-05   \n",
       "4839    DXCM   114.730000   67.744729   7772.352783   90.970000 2022-10-04   \n",
       "7224    UBER    31.390000  260.238417   8168.883920   25.360000 2023-01-03   \n",
       "8676     TDG   855.319309   10.593933   9061.195071  709.701433 2023-04-04   \n",
       "5799    VTRS    10.515545  731.993133   7697.306913    8.419120 2022-10-04   \n",
       "3816     MRO    25.667139  272.769852   7001.221819   20.395126 2022-07-05   \n",
       "429     FANG   119.654477   52.388592   6268.529624   95.440625 2022-01-03   \n",
       "\n",
       "       sell_date  strike_price  premium  contract_price  notional    return  \\\n",
       "13026 2024-04-03           NaN      NaN             NaN       NaN  2.618764   \n",
       "8613  2023-07-05           NaN      NaN             NaN       NaN  1.329618   \n",
       "3516  2022-10-04           NaN      NaN             NaN       NaN  1.160048   \n",
       "6906  2023-04-04           NaN      NaN             NaN       NaN  0.918108   \n",
       "1035  2022-04-04           NaN      NaN             NaN       NaN  0.864799   \n",
       "8379  2023-07-05           NaN      NaN             NaN       NaN  0.541599   \n",
       "7302  2023-04-04           NaN      NaN             NaN       NaN  0.588050   \n",
       "11094 2024-01-03           NaN      NaN             NaN       NaN  0.407530   \n",
       "966   2022-04-04           NaN      NaN             NaN       NaN  0.670570   \n",
       "14196 2024-07-03           NaN      NaN             NaN       NaN  0.293390   \n",
       "7320  2023-04-04           NaN      NaN             NaN       NaN  0.486097   \n",
       "648   2022-04-04           NaN      NaN             NaN       NaN  0.622130   \n",
       "12597 2024-04-03           NaN      NaN             NaN       NaN  0.330422   \n",
       "8697  2023-07-05           NaN      NaN             NaN       NaN  0.390889   \n",
       "873   2022-04-04           NaN      NaN             NaN       NaN  0.527417   \n",
       "10458 2024-01-03           NaN      NaN             NaN       NaN  0.302773   \n",
       "11640 2024-01-03           NaN      NaN             NaN       NaN  0.296173   \n",
       "14055 2024-07-03           NaN      NaN             NaN       NaN  0.225790   \n",
       "13614 2024-07-03           NaN      NaN             NaN       NaN  0.224399   \n",
       "5670  2023-01-03           NaN      NaN             NaN       NaN  0.391405   \n",
       "12612 2024-04-03           NaN      NaN             NaN       NaN  0.258414   \n",
       "6102  2023-04-04           NaN      NaN             NaN       NaN  0.336802   \n",
       "11619 2024-01-03           NaN      NaN             NaN       NaN  0.226991   \n",
       "4284  2022-10-04           NaN      NaN             NaN       NaN  0.296181   \n",
       "4839  2023-01-03           NaN      NaN             NaN       NaN  0.261185   \n",
       "7224  2023-04-04           NaN      NaN             NaN       NaN  0.237776   \n",
       "8676  2023-07-05           NaN      NaN             NaN       NaN  0.205182   \n",
       "5799  2023-01-03           NaN      NaN             NaN       NaN  0.249008   \n",
       "3816  2022-10-04           NaN      NaN             NaN       NaN  0.258494   \n",
       "429   2022-04-04           NaN      NaN             NaN       NaN  0.253706   \n",
       "\n",
       "       rate             GICS Sector     cash_flow  hpr  \n",
       "13026   NaN  Information Technology  24274.983197   91  \n",
       "8613    NaN  Information Technology   9996.772587   92  \n",
       "3516    NaN  Information Technology   6453.552327   91  \n",
       "6906    NaN  Information Technology   6059.187741   91  \n",
       "1035    NaN                  Energy   4323.994793   91  \n",
       "8379    NaN  Information Technology   4072.027707   92  \n",
       "7302    NaN  Communication Services   3880.924061   91  \n",
       "11094   NaN              Financials   3446.375628   91  \n",
       "966     NaN               Materials   3352.849773   91  \n",
       "14196   NaN  Information Technology   3239.247696   91  \n",
       "7320    NaN             Health Care   3208.069023   91  \n",
       "648     NaN                  Energy   3110.648071   91  \n",
       "12597   NaN  Information Technology   3062.891184   91  \n",
       "8697    NaN             Industrials   2938.908959   92  \n",
       "873     NaN                  Energy   2637.082703   91  \n",
       "10458   NaN              Financials   2560.470255   91  \n",
       "11640   NaN             Industrials   2504.653855   91  \n",
       "14055   NaN  Information Technology   2492.888628   91  \n",
       "13614   NaN        Consumer Staples   2477.535226   91  \n",
       "5670    NaN  Information Technology   2412.128585   91  \n",
       "12612   NaN             Health Care   2395.398981   91  \n",
       "6102    NaN             Industrials   2222.772980   91  \n",
       "11619   NaN             Industrials   1919.606281   91  \n",
       "4284    NaN             Industrials   1647.707830   91  \n",
       "4839    NaN             Health Care   1609.614766   91  \n",
       "7224    NaN             Industrials   1569.237657   91  \n",
       "8676    NaN             Industrials   1542.665957   92  \n",
       "5799    NaN             Health Care   1534.568896   91  \n",
       "3816    NaN                  Energy   1438.046359   91  \n",
       "429     NaN                  Energy   1268.529624   91  "
      ]
     },
     "execution_count": 67,
     "metadata": {},
     "output_type": "execute_result"
    }
   ],
   "source": [
    "t.sort_values(\"cash_flow\",ascending=False).head(30)"
   ]
  },
  {
   "cell_type": "code",
   "execution_count": 68,
   "id": "7df48b86-02d7-4b4d-b4d2-754f9436238f",
   "metadata": {},
   "outputs": [
    {
     "data": {
      "text/html": [
       "<div>\n",
       "<style scoped>\n",
       "    .dataframe tbody tr th:only-of-type {\n",
       "        vertical-align: middle;\n",
       "    }\n",
       "\n",
       "    .dataframe tbody tr th {\n",
       "        vertical-align: top;\n",
       "    }\n",
       "\n",
       "    .dataframe thead th {\n",
       "        text-align: right;\n",
       "    }\n",
       "</style>\n",
       "<table border=\"1\" class=\"dataframe\">\n",
       "  <thead>\n",
       "    <tr style=\"text-align: right;\">\n",
       "      <th></th>\n",
       "      <th>GICS Sector</th>\n",
       "      <th>cash_flow</th>\n",
       "      <th>hpr</th>\n",
       "    </tr>\n",
       "  </thead>\n",
       "  <tbody>\n",
       "    <tr>\n",
       "      <th>9</th>\n",
       "      <td>Real Estate</td>\n",
       "      <td>-1.773229</td>\n",
       "      <td>91.200000</td>\n",
       "    </tr>\n",
       "    <tr>\n",
       "      <th>10</th>\n",
       "      <td>Utilities</td>\n",
       "      <td>2.646047</td>\n",
       "      <td>91.201299</td>\n",
       "    </tr>\n",
       "    <tr>\n",
       "      <th>1</th>\n",
       "      <td>Consumer Discretionary</td>\n",
       "      <td>4.529973</td>\n",
       "      <td>91.201980</td>\n",
       "    </tr>\n",
       "    <tr>\n",
       "      <th>2</th>\n",
       "      <td>Consumer Staples</td>\n",
       "      <td>8.448943</td>\n",
       "      <td>91.197802</td>\n",
       "    </tr>\n",
       "    <tr>\n",
       "      <th>4</th>\n",
       "      <td>Financials</td>\n",
       "      <td>11.224634</td>\n",
       "      <td>91.200000</td>\n",
       "    </tr>\n",
       "    <tr>\n",
       "      <th>8</th>\n",
       "      <td>Materials</td>\n",
       "      <td>13.000127</td>\n",
       "      <td>91.200000</td>\n",
       "    </tr>\n",
       "    <tr>\n",
       "      <th>0</th>\n",
       "      <td>Communication Services</td>\n",
       "      <td>14.188946</td>\n",
       "      <td>91.200000</td>\n",
       "    </tr>\n",
       "    <tr>\n",
       "      <th>5</th>\n",
       "      <td>Health Care</td>\n",
       "      <td>14.817000</td>\n",
       "      <td>91.199319</td>\n",
       "    </tr>\n",
       "    <tr>\n",
       "      <th>6</th>\n",
       "      <td>Industrials</td>\n",
       "      <td>20.690498</td>\n",
       "      <td>91.199734</td>\n",
       "    </tr>\n",
       "    <tr>\n",
       "      <th>3</th>\n",
       "      <td>Energy</td>\n",
       "      <td>63.767225</td>\n",
       "      <td>91.200000</td>\n",
       "    </tr>\n",
       "    <tr>\n",
       "      <th>7</th>\n",
       "      <td>Information Technology</td>\n",
       "      <td>99.352906</td>\n",
       "      <td>91.200000</td>\n",
       "    </tr>\n",
       "  </tbody>\n",
       "</table>\n",
       "</div>"
      ],
      "text/plain": [
       "               GICS Sector  cash_flow        hpr\n",
       "9              Real Estate  -1.773229  91.200000\n",
       "10               Utilities   2.646047  91.201299\n",
       "1   Consumer Discretionary   4.529973  91.201980\n",
       "2         Consumer Staples   8.448943  91.197802\n",
       "4               Financials  11.224634  91.200000\n",
       "8                Materials  13.000127  91.200000\n",
       "0   Communication Services  14.188946  91.200000\n",
       "5              Health Care  14.817000  91.199319\n",
       "6              Industrials  20.690498  91.199734\n",
       "3                   Energy  63.767225  91.200000\n",
       "7   Information Technology  99.352906  91.200000"
      ]
     },
     "execution_count": 68,
     "metadata": {},
     "output_type": "execute_result"
    }
   ],
   "source": [
    "t.groupby([\"GICS Sector\"]).agg({\"cash_flow\":\"mean\",\"hpr\":\"mean\"}).reset_index().sort_values(\"cash_flow\").tail(50)"
   ]
  },
  {
   "cell_type": "code",
   "execution_count": 69,
   "id": "b0318710-d50c-4d50-92cd-f62a1ed56db8",
   "metadata": {},
   "outputs": [
    {
     "data": {
      "text/html": [
       "<div>\n",
       "<style scoped>\n",
       "    .dataframe tbody tr th:only-of-type {\n",
       "        vertical-align: middle;\n",
       "    }\n",
       "\n",
       "    .dataframe tbody tr th {\n",
       "        vertical-align: top;\n",
       "    }\n",
       "\n",
       "    .dataframe thead th {\n",
       "        text-align: right;\n",
       "    }\n",
       "</style>\n",
       "<table border=\"1\" class=\"dataframe\">\n",
       "  <thead>\n",
       "    <tr style=\"text-align: right;\">\n",
       "      <th>asset_class</th>\n",
       "      <th>date</th>\n",
       "      <th>stocks</th>\n",
       "      <th>bonds</th>\n",
       "      <th>options</th>\n",
       "    </tr>\n",
       "  </thead>\n",
       "  <tbody>\n",
       "    <tr>\n",
       "      <th>0</th>\n",
       "      <td>2022-01-04</td>\n",
       "      <td>51485.895191</td>\n",
       "      <td>40000.000000</td>\n",
       "      <td>10598.826988</td>\n",
       "    </tr>\n",
       "    <tr>\n",
       "      <th>1</th>\n",
       "      <td>2022-01-05</td>\n",
       "      <td>50411.638554</td>\n",
       "      <td>40000.000000</td>\n",
       "      <td>10706.224880</td>\n",
       "    </tr>\n",
       "    <tr>\n",
       "      <th>2</th>\n",
       "      <td>2022-01-06</td>\n",
       "      <td>51239.118506</td>\n",
       "      <td>40000.000000</td>\n",
       "      <td>10620.422378</td>\n",
       "    </tr>\n",
       "    <tr>\n",
       "      <th>3</th>\n",
       "      <td>2022-01-07</td>\n",
       "      <td>51442.237195</td>\n",
       "      <td>40000.000000</td>\n",
       "      <td>10592.476653</td>\n",
       "    </tr>\n",
       "    <tr>\n",
       "      <th>4</th>\n",
       "      <td>2022-01-10</td>\n",
       "      <td>50989.376704</td>\n",
       "      <td>40000.000000</td>\n",
       "      <td>10640.413198</td>\n",
       "    </tr>\n",
       "    <tr>\n",
       "      <th>...</th>\n",
       "      <td>...</td>\n",
       "      <td>...</td>\n",
       "      <td>...</td>\n",
       "      <td>...</td>\n",
       "    </tr>\n",
       "    <tr>\n",
       "      <th>674</th>\n",
       "      <td>2024-09-16</td>\n",
       "      <td>120404.164457</td>\n",
       "      <td>90461.710821</td>\n",
       "      <td>23599.587498</td>\n",
       "    </tr>\n",
       "    <tr>\n",
       "      <th>675</th>\n",
       "      <td>2024-09-17</td>\n",
       "      <td>119796.763170</td>\n",
       "      <td>90461.710821</td>\n",
       "      <td>23640.403698</td>\n",
       "    </tr>\n",
       "    <tr>\n",
       "      <th>676</th>\n",
       "      <td>2024-09-18</td>\n",
       "      <td>119373.345042</td>\n",
       "      <td>90461.710821</td>\n",
       "      <td>23675.182808</td>\n",
       "    </tr>\n",
       "    <tr>\n",
       "      <th>677</th>\n",
       "      <td>2024-09-19</td>\n",
       "      <td>121872.067310</td>\n",
       "      <td>90461.710821</td>\n",
       "      <td>23484.697804</td>\n",
       "    </tr>\n",
       "    <tr>\n",
       "      <th>678</th>\n",
       "      <td>2024-09-20</td>\n",
       "      <td>121465.828659</td>\n",
       "      <td>90461.710821</td>\n",
       "      <td>23541.206402</td>\n",
       "    </tr>\n",
       "  </tbody>\n",
       "</table>\n",
       "<p>679 rows × 4 columns</p>\n",
       "</div>"
      ],
      "text/plain": [
       "asset_class       date         stocks         bonds       options\n",
       "0           2022-01-04   51485.895191  40000.000000  10598.826988\n",
       "1           2022-01-05   50411.638554  40000.000000  10706.224880\n",
       "2           2022-01-06   51239.118506  40000.000000  10620.422378\n",
       "3           2022-01-07   51442.237195  40000.000000  10592.476653\n",
       "4           2022-01-10   50989.376704  40000.000000  10640.413198\n",
       "..                 ...            ...           ...           ...\n",
       "674         2024-09-16  120404.164457  90461.710821  23599.587498\n",
       "675         2024-09-17  119796.763170  90461.710821  23640.403698\n",
       "676         2024-09-18  119373.345042  90461.710821  23675.182808\n",
       "677         2024-09-19  121872.067310  90461.710821  23484.697804\n",
       "678         2024-09-20  121465.828659  90461.710821  23541.206402\n",
       "\n",
       "[679 rows x 4 columns]"
      ]
     },
     "execution_count": 69,
     "metadata": {},
     "output_type": "execute_result"
    }
   ],
   "source": [
    "performance"
   ]
  }
 ],
 "metadata": {
  "kernelspec": {
   "display_name": "Python 3 (ipykernel)",
   "language": "python",
   "name": "python3"
  },
  "language_info": {
   "codemirror_mode": {
    "name": "ipython",
    "version": 3
   },
   "file_extension": ".py",
   "mimetype": "text/x-python",
   "name": "python",
   "nbconvert_exporter": "python",
   "pygments_lexer": "ipython3",
   "version": "3.11.9"
  }
 },
 "nbformat": 4,
 "nbformat_minor": 5
}
