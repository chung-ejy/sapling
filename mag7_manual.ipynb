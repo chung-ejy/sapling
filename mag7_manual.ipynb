{
 "cells": [
  {
   "cell_type": "code",
   "execution_count": 1,
   "id": "73094c60-497a-45ac-bd01-8db8578730b7",
   "metadata": {},
   "outputs": [],
   "source": [
    "import pandas as pd\n",
    "from database.adatabase import ADatabase\n",
    "from xgboost import XGBRegressor\n",
    "import matplotlib.pyplot as plt\n",
    "from tqdm import tqdm\n",
    "from processor.processor import Processor as p\n",
    "from asset.exposure import Exposure\n",
    "from equations.capm import CAPM\n",
    "from sklearn.preprocessing import normalize\n",
    "from datetime import timedelta\n",
    "import yfinance as yf\n",
    "import warnings\n",
    "warnings.simplefilter(action=\"ignore\")"
   ]
  },
  {
   "cell_type": "code",
   "execution_count": 2,
   "id": "9131bcf0-e2ac-489b-ac60-ab69b8feda22",
   "metadata": {},
   "outputs": [],
   "source": [
    "sec = ADatabase(\"sec\")\n",
    "market = ADatabase(\"market\")\n",
    "fred = ADatabase(\"fred\")"
   ]
  },
  {
   "cell_type": "code",
   "execution_count": 3,
   "id": "a4179cff-dd72-4218-9d7a-7e01333a3a58",
   "metadata": {},
   "outputs": [],
   "source": [
    "market.connect()\n",
    "index = market.retrieve(\"sp500\")\n",
    "market.disconnect()\n",
    "factors = [\"AMZN\",\"NVDA\",\"AAPL\",\"META\",\"GOOGL\",\"TSLA\",\"MSFT\"]\n",
    "fred.connect()\n",
    "sp500 = p.column_date_processing(fred.retrieve(\"sp500_projections\").rename(columns={\"prediction\":\"sp500_prediction\"}))\n",
    "interest_rates = p.column_date_processing(fred.retrieve(\"market_yield\").rename(columns={\"value\":\"rf\"}))\n",
    "interest_rates[\"rf\"] = interest_rates[\"rf\"].replace(\".\",0)\n",
    "interest_rates[\"rf\"] = [float(x) / 100 for x in interest_rates[\"rf\"]]\n",
    "fred.disconnect\n",
    "macro = sp500.merge(interest_rates,on=\"date\",how=\"left\")"
   ]
  },
  {
   "cell_type": "code",
   "execution_count": 4,
   "id": "84e29c94-19ff-49e4-a44a-6a437f6331b1",
   "metadata": {},
   "outputs": [
    {
     "name": "stderr",
     "output_type": "stream",
     "text": [
      "100%|████████████████████████████████████████████████████████████████████████████████████████████████████████████████████████████████████████████████████████████████████████████████████████████| 502/502 [00:55<00:00,  9.11it/s]"
     ]
    },
    {
     "name": "stdout",
     "output_type": "stream",
     "text": [
      "    ticker    market_cap\n",
      "0      MMM  7.089068e+10\n",
      "1      AOS  9.922008e+09\n",
      "2      ABT  1.994456e+11\n",
      "3     ABBV  3.145686e+11\n",
      "4      ACN  2.227835e+11\n",
      "..     ...           ...\n",
      "497    XYL  2.855332e+10\n",
      "498    YUM  3.773891e+10\n",
      "499   ZBRA  2.006823e+10\n",
      "500    ZBH  2.127504e+10\n",
      "501    ZTS  7.426176e+10\n",
      "\n",
      "[502 rows x 2 columns]\n"
     ]
    },
    {
     "name": "stderr",
     "output_type": "stream",
     "text": [
      "\n"
     ]
    }
   ],
   "source": [
    "market_caps = {}\n",
    "for ticker in tqdm(index[\"ticker\"]):\n",
    "    try:\n",
    "        stock_info = yf.Ticker(ticker).info\n",
    "        market_caps[ticker] = stock_info['marketCap']\n",
    "    except KeyError:\n",
    "        market_caps[ticker] = None  # Handle missing data\n",
    "\n",
    "# Convert to DataFrame\n",
    "market_caps_df = pd.DataFrame(list(market_caps.items()), columns=['ticker', 'market_cap'])\n",
    "\n",
    "print(market_caps_df)"
   ]
  },
  {
   "cell_type": "code",
   "execution_count": 5,
   "id": "635c8aca-eddc-4b55-a8c3-e351e27a11e9",
   "metadata": {
    "scrolled": true
   },
   "outputs": [
    {
     "name": "stderr",
     "output_type": "stream",
     "text": [
      "100%|████████████████████████████████████████████████████████████████████████████████████████████████████████████████████████████████████████████████████████████████████████████████████████████████| 7/7 [00:00<00:00, 20.31it/s]\n"
     ]
    }
   ],
   "source": [
    "market.connect()\n",
    "factors_df = []\n",
    "for ticker in tqdm(factors):\n",
    "    try:\n",
    "        price = p.column_date_processing(market.query(\"prices\",{\"ticker\":ticker}))\n",
    "        price.sort_values(\"date\")\n",
    "        price[\"adjclose\"] = price[\"adjclose\"].shift(60)\n",
    "        factors_df.append(price)\n",
    "    except Exception as e:\n",
    "        print(ticker,str(e))\n",
    "        continue\n",
    "market.disconnect()\n",
    "factors_df = pd.concat(factors_df).sort_values(\"date\").pivot_table(index=[\"date\"],columns=\"ticker\",values=\"adjclose\").reset_index()"
   ]
  },
  {
   "cell_type": "code",
   "execution_count": 15,
   "id": "043a2be6-8132-4f8e-bfb7-e6d62d7bc8ec",
   "metadata": {},
   "outputs": [],
   "source": [
    "model_start = 2013\n",
    "model_end = 2020\n",
    "backtest_end = 2025"
   ]
  },
  {
   "cell_type": "code",
   "execution_count": 16,
   "id": "0f877ba0-a338-475c-a1d7-f4882b2c1fa7",
   "metadata": {},
   "outputs": [
    {
     "name": "stderr",
     "output_type": "stream",
     "text": [
      " 12%|███████████████████████▎                                                                                                                                                                     | 62/502 [00:10<01:02,  7.09it/s]"
     ]
    },
    {
     "name": "stdout",
     "output_type": "stream",
     "text": [
      "'date'\n"
     ]
    },
    {
     "name": "stderr",
     "output_type": "stream",
     "text": [
      " 15%|████████████████████████████▏                                                                                                                                                                | 75/502 [00:13<01:16,  5.56it/s]"
     ]
    },
    {
     "name": "stdout",
     "output_type": "stream",
     "text": [
      "'date'\n"
     ]
    },
    {
     "name": "stderr",
     "output_type": "stream",
     "text": [
      "100%|████████████████████████████████████████████████████████████████████████████████████████████████████████████████████████████████████████████████████████████████████████████████████████████| 502/502 [01:33<00:00,  5.35it/s]"
     ]
    },
    {
     "name": "stdout",
     "output_type": "stream",
     "text": [
      "'date'\n"
     ]
    },
    {
     "name": "stderr",
     "output_type": "stream",
     "text": [
      "\n"
     ]
    }
   ],
   "source": [
    "market.connect()\n",
    "prices = []\n",
    "for ticker in tqdm(index[\"ticker\"]):\n",
    "    try:\n",
    "        price = p.column_date_processing(market.query(\"prices\",{\"ticker\":ticker}))\n",
    "        price.sort_values(\"date\",inplace=True)\n",
    "        price = factors_df.merge(price[[\"date\",\"ticker\",\"adjclose\"]],on=\"date\",how=\"left\")\n",
    "        price[\"year\"] = price[\"date\"].dt.year\n",
    "        price[\"quarter\"] = price[\"date\"].dt.quarter\n",
    "        price[\"y\"] = price[\"adjclose\"].shift(-60)\n",
    "        training_data = price[(price[\"year\"]>=model_start) & (price[\"year\"] < model_end)].dropna(subset=factors).dropna()\n",
    "        sim = price[(price[\"year\"]>=model_end-1) & (price[\"year\"]<backtest_end)].dropna(subset=factors)\n",
    "        model = XGBRegressor()\n",
    "        model.fit(training_data[factors],training_data[\"y\"])\n",
    "        sim[\"prediction\"] = model.predict(sim[factors])\n",
    "        sim = sim.merge(macro,on=\"date\",how=\"left\")\n",
    "        sim = CAPM.apply(sim)\n",
    "        prices.append(sim)\n",
    "    except Exception as e:\n",
    "        print(str(e))\n",
    "        continue\n",
    "market.disconnect()"
   ]
  },
  {
   "cell_type": "code",
   "execution_count": 17,
   "id": "fb63bbf6-0639-445b-aef4-44998e4f17fb",
   "metadata": {},
   "outputs": [],
   "source": [
    "simulation = pd.concat(prices).merge(index,on=\"ticker\",how=\"left\").merge(market_caps_df,on=\"ticker\",how=\"left\")\n",
    "simulation[\"year\"] = simulation[\"date\"].dt.year\n",
    "simulation[\"quarter\"] = simulation[\"date\"].dt.quarter\n",
    "simulation = simulation[(simulation[\"year\"]>=model_end) & (simulation[\"year\"]<backtest_end)].dropna(subset=\"factor\")\n",
    "tickers = list(simulation[simulation[\"year\"]==model_end][\"ticker\"].unique())\n",
    "simulation = simulation[simulation[\"ticker\"].isin(tickers)]\n",
    "simulation[\"rank\"] = simulation.groupby([\"date\", \"GICS Sector\"])[\"factor\"].rank(method=\"dense\", ascending=False).astype(int)\n",
    "\n",
    "# Calculate the total number of ranks for each sector and date\n",
    "simulation[\"total_ranks\"] = simulation.groupby([\"date\", \"GICS Sector\"])[\"rank\"].transform(\"max\")\n",
    "\n",
    "# Assign exposure based on rank\n",
    "simulation[\"exposure\"] = simulation.apply(\n",
    "    lambda x: 1 if x[\"rank\"] <= x[\"total_ranks\"] * 0.50 else -1,\n",
    "    axis=1\n",
    ")\n",
    "\n",
    "# Cleanup: Drop the total_ranks column if not needed\n",
    "simulation.drop(columns=[\"total_ranks\"], inplace=True)\n",
    "\n",
    "# Sorting by date for further processing\n",
    "simulation.sort_values(\"date\", inplace=True)\n",
    "simulation[\"sell_price\"] = simulation[\"adjclose\"]\n",
    "simulation[\"sell_date\"] = simulation[\"date\"]"
   ]
  },
  {
   "cell_type": "code",
   "execution_count": 18,
   "id": "abd94941-a4e3-4bd2-96d6-ebd19bca227b",
   "metadata": {},
   "outputs": [],
   "source": [
    "benchmark = macro.copy()\n",
    "benchmark[\"year\"] = benchmark[\"date\"].dt.year\n",
    "benchmark[\"quarter\"] = benchmark[\"date\"].dt.quarter\n",
    "benchmark = benchmark[(benchmark[\"year\"]>=model_end) & (benchmark[\"year\"]<backtest_end)].drop([x for x in benchmark.columns if \"real\" in x],axis=1).groupby([\"year\",\"quarter\"]).mean().reset_index()\n",
    "benchmark[\"sp500\"] = (benchmark[\"sp500\"] - benchmark[\"sp500\"].iloc[0]) /benchmark[\"sp500\"].iloc[0]\n",
    "benchmark[\"rf\"] = (benchmark[\"rf\"] - benchmark[\"rf\"].iloc[0]) /benchmark[\"rf\"].iloc[0]\n",
    "benchmark[\"sp500_prediction\"] = (benchmark[\"sp500_prediction\"] - benchmark[\"sp500_prediction\"].iloc[0]) /benchmark[\"sp500_prediction\"].iloc[0]\n",
    "benchmark.dropna(inplace=True)"
   ]
  },
  {
   "cell_type": "code",
   "execution_count": 19,
   "id": "14482271-5bd0-4d7c-b0aa-af35a29f04ff",
   "metadata": {},
   "outputs": [],
   "source": [
    "def rank_list(value,i):\n",
    "    # Ensure i is a non-negative integer\n",
    "    if value == 0:\n",
    "        if i < 0:\n",
    "            raise ValueError(\"The number of integers, i, must be non-negative.\")\n",
    "        \n",
    "        if i % 2 == 0:\n",
    "            # Even number of elements: Symmetric around 0\n",
    "            return list(range(-i // 2, i // 2))\n",
    "        else:\n",
    "            # Odd number of elements: Includes 0\n",
    "            return list(range(-i // 2, i // 2 + 1))\n",
    "    if value == -1:\n",
    "        return list(range(-1,-i-1,-1))\n",
    "    else:\n",
    "        return list(range(0,i+1,1))"
   ]
  },
  {
   "cell_type": "code",
   "execution_count": 20,
   "id": "4c5dfbe0-896b-4cf9-9730-6eb72b21b3a2",
   "metadata": {},
   "outputs": [],
   "source": [
    "filtered_columns = [\"year\",\"quarter\",\"date\",\"sell_date\",\"GICS Sector\",\"ticker\",\"rank\",\"exposure\",\"adjclose\",\"sell_price\"]\n",
    "agg_query = {\"date\":\"first\",\"sell_date\":\"last\",\"GICS Sector\":\"first\",\"exposure\":\"first\",\"rank\":\"first\",\"adjclose\":\"first\",\"sell_price\":\"last\"}"
   ]
  },
  {
   "cell_type": "code",
   "execution_count": 21,
   "id": "fb5664ef-d9a5-4c4e-9989-c8c46c5146d9",
   "metadata": {},
   "outputs": [
    {
     "data": {
      "text/html": [
       "<div>\n",
       "<style scoped>\n",
       "    .dataframe tbody tr th:only-of-type {\n",
       "        vertical-align: middle;\n",
       "    }\n",
       "\n",
       "    .dataframe tbody tr th {\n",
       "        vertical-align: top;\n",
       "    }\n",
       "\n",
       "    .dataframe thead th {\n",
       "        text-align: right;\n",
       "    }\n",
       "</style>\n",
       "<table border=\"1\" class=\"dataframe\">\n",
       "  <thead>\n",
       "    <tr style=\"text-align: right;\">\n",
       "      <th></th>\n",
       "      <th>date</th>\n",
       "      <th>AAPL</th>\n",
       "      <th>AMZN</th>\n",
       "      <th>GOOGL</th>\n",
       "      <th>META</th>\n",
       "      <th>MSFT</th>\n",
       "      <th>NVDA</th>\n",
       "      <th>TSLA</th>\n",
       "      <th>ticker</th>\n",
       "      <th>adjclose</th>\n",
       "      <th>...</th>\n",
       "      <th>GICS Sub-Industry</th>\n",
       "      <th>Headquarters Location</th>\n",
       "      <th>Date added</th>\n",
       "      <th>CIK</th>\n",
       "      <th>Founded</th>\n",
       "      <th>market_cap</th>\n",
       "      <th>rank</th>\n",
       "      <th>exposure</th>\n",
       "      <th>sell_price</th>\n",
       "      <th>sell_date</th>\n",
       "    </tr>\n",
       "  </thead>\n",
       "  <tbody>\n",
       "    <tr>\n",
       "      <th>506797</th>\n",
       "      <td>2024-10-10</td>\n",
       "      <td>228.365709</td>\n",
       "      <td>187.93</td>\n",
       "      <td>180.570942</td>\n",
       "      <td>461.187847</td>\n",
       "      <td>441.843097</td>\n",
       "      <td>117.971965</td>\n",
       "      <td>248.5</td>\n",
       "      <td>NKE</td>\n",
       "      <td>81.686866</td>\n",
       "      <td>...</td>\n",
       "      <td>Apparel, Accessories &amp; Luxury Goods</td>\n",
       "      <td>Washington County, Oregon</td>\n",
       "      <td>1988-11-30</td>\n",
       "      <td>320187.0</td>\n",
       "      <td>1964</td>\n",
       "      <td>1.137512e+11</td>\n",
       "      <td>16</td>\n",
       "      <td>1</td>\n",
       "      <td>81.686866</td>\n",
       "      <td>2024-10-10</td>\n",
       "    </tr>\n",
       "    <tr>\n",
       "      <th>508301</th>\n",
       "      <td>2024-10-10</td>\n",
       "      <td>228.365709</td>\n",
       "      <td>187.93</td>\n",
       "      <td>180.570942</td>\n",
       "      <td>461.187847</td>\n",
       "      <td>441.843097</td>\n",
       "      <td>117.971965</td>\n",
       "      <td>248.5</td>\n",
       "      <td>NI</td>\n",
       "      <td>33.487605</td>\n",
       "      <td>...</td>\n",
       "      <td>Multi-Utilities</td>\n",
       "      <td>Merrillville, Indiana</td>\n",
       "      <td>2000-11-02</td>\n",
       "      <td>1111711.0</td>\n",
       "      <td>1912</td>\n",
       "      <td>1.715880e+10</td>\n",
       "      <td>28</td>\n",
       "      <td>-1</td>\n",
       "      <td>33.487605</td>\n",
       "      <td>2024-10-10</td>\n",
       "    </tr>\n",
       "    <tr>\n",
       "      <th>509805</th>\n",
       "      <td>2024-10-10</td>\n",
       "      <td>228.365709</td>\n",
       "      <td>187.93</td>\n",
       "      <td>180.570942</td>\n",
       "      <td>461.187847</td>\n",
       "      <td>441.843097</td>\n",
       "      <td>117.971965</td>\n",
       "      <td>248.5</td>\n",
       "      <td>NDSN</td>\n",
       "      <td>253.600000</td>\n",
       "      <td>...</td>\n",
       "      <td>Industrial Machinery &amp; Supplies &amp; Components</td>\n",
       "      <td>Westlake, Ohio</td>\n",
       "      <td>2022-02-15</td>\n",
       "      <td>72331.0</td>\n",
       "      <td>1935</td>\n",
       "      <td>1.204577e+10</td>\n",
       "      <td>50</td>\n",
       "      <td>-1</td>\n",
       "      <td>253.600000</td>\n",
       "      <td>2024-10-10</td>\n",
       "    </tr>\n",
       "    <tr>\n",
       "      <th>467693</th>\n",
       "      <td>2024-10-10</td>\n",
       "      <td>228.365709</td>\n",
       "      <td>187.93</td>\n",
       "      <td>180.570942</td>\n",
       "      <td>461.187847</td>\n",
       "      <td>441.843097</td>\n",
       "      <td>117.971965</td>\n",
       "      <td>248.5</td>\n",
       "      <td>MET</td>\n",
       "      <td>83.448053</td>\n",
       "      <td>...</td>\n",
       "      <td>Life &amp; Health Insurance</td>\n",
       "      <td>New York City, New York</td>\n",
       "      <td>2000-12-11</td>\n",
       "      <td>1099219.0</td>\n",
       "      <td>1868</td>\n",
       "      <td>5.695154e+10</td>\n",
       "      <td>51</td>\n",
       "      <td>-1</td>\n",
       "      <td>83.448053</td>\n",
       "      <td>2024-10-10</td>\n",
       "    </tr>\n",
       "    <tr>\n",
       "      <th>750445</th>\n",
       "      <td>2024-10-10</td>\n",
       "      <td>228.365709</td>\n",
       "      <td>187.93</td>\n",
       "      <td>180.570942</td>\n",
       "      <td>461.187847</td>\n",
       "      <td>441.843097</td>\n",
       "      <td>117.971965</td>\n",
       "      <td>248.5</td>\n",
       "      <td>ZBH</td>\n",
       "      <td>102.820000</td>\n",
       "      <td>...</td>\n",
       "      <td>Health Care Equipment</td>\n",
       "      <td>Warsaw, Indiana</td>\n",
       "      <td>2001-08-07</td>\n",
       "      <td>1136869.0</td>\n",
       "      <td>1927</td>\n",
       "      <td>2.127504e+10</td>\n",
       "      <td>22</td>\n",
       "      <td>1</td>\n",
       "      <td>102.820000</td>\n",
       "      <td>2024-10-10</td>\n",
       "    </tr>\n",
       "  </tbody>\n",
       "</table>\n",
       "<p>5 rows × 31 columns</p>\n",
       "</div>"
      ],
      "text/plain": [
       "             date        AAPL    AMZN       GOOGL        META        MSFT  \\\n",
       "506797 2024-10-10  228.365709  187.93  180.570942  461.187847  441.843097   \n",
       "508301 2024-10-10  228.365709  187.93  180.570942  461.187847  441.843097   \n",
       "509805 2024-10-10  228.365709  187.93  180.570942  461.187847  441.843097   \n",
       "467693 2024-10-10  228.365709  187.93  180.570942  461.187847  441.843097   \n",
       "750445 2024-10-10  228.365709  187.93  180.570942  461.187847  441.843097   \n",
       "\n",
       "              NVDA   TSLA ticker    adjclose  ...  \\\n",
       "506797  117.971965  248.5    NKE   81.686866  ...   \n",
       "508301  117.971965  248.5     NI   33.487605  ...   \n",
       "509805  117.971965  248.5   NDSN  253.600000  ...   \n",
       "467693  117.971965  248.5    MET   83.448053  ...   \n",
       "750445  117.971965  248.5    ZBH  102.820000  ...   \n",
       "\n",
       "                                   GICS Sub-Industry  \\\n",
       "506797           Apparel, Accessories & Luxury Goods   \n",
       "508301                               Multi-Utilities   \n",
       "509805  Industrial Machinery & Supplies & Components   \n",
       "467693                       Life & Health Insurance   \n",
       "750445                         Health Care Equipment   \n",
       "\n",
       "            Headquarters Location  Date added        CIK Founded  \\\n",
       "506797  Washington County, Oregon  1988-11-30   320187.0    1964   \n",
       "508301      Merrillville, Indiana  2000-11-02  1111711.0    1912   \n",
       "509805             Westlake, Ohio  2022-02-15    72331.0    1935   \n",
       "467693    New York City, New York  2000-12-11  1099219.0    1868   \n",
       "750445            Warsaw, Indiana  2001-08-07  1136869.0    1927   \n",
       "\n",
       "          market_cap  rank  exposure  sell_price  sell_date  \n",
       "506797  1.137512e+11    16         1   81.686866 2024-10-10  \n",
       "508301  1.715880e+10    28        -1   33.487605 2024-10-10  \n",
       "509805  1.204577e+10    50        -1  253.600000 2024-10-10  \n",
       "467693  5.695154e+10    51        -1   83.448053 2024-10-10  \n",
       "750445  2.127504e+10    22         1  102.820000 2024-10-10  \n",
       "\n",
       "[5 rows x 31 columns]"
      ]
     },
     "execution_count": 21,
     "metadata": {},
     "output_type": "execute_result"
    }
   ],
   "source": [
    "simulation.tail()"
   ]
  },
  {
   "cell_type": "code",
   "execution_count": null,
   "id": "ad842794-ccc3-4eb6-a545-008d8a5996a2",
   "metadata": {
    "scrolled": true
   },
   "outputs": [
    {
     "name": "stderr",
     "output_type": "stream",
     "text": [
      "  0%|                                                                                                                                                                                                        | 0/2 [00:00<?, ?it/s]\n",
      "  0%|                                                                                                                                                                                                        | 0/3 [00:00<?, ?it/s]\u001b[A\n",
      "\n",
      "  0%|                                                                                                                                                                                                        | 0/4 [00:00<?, ?it/s]\u001b[A\u001b[A\n",
      "\n",
      " 25%|████████████████████████████████████████████████                                                                                                                                                | 1/4 [00:07<00:22,  7.60s/it]\u001b[A\u001b[A\n",
      "\n",
      " 50%|████████████████████████████████████████████████████████████████████████████████████████████████                                                                                                | 2/4 [00:14<00:14,  7.40s/it]\u001b[A\u001b[A\n",
      "\n",
      " 75%|████████████████████████████████████████████████████████████████████████████████████████████████████████████████████████████████████████████████                                                | 3/4 [00:21<00:07,  7.21s/it]\u001b[A\u001b[A\n",
      "\n",
      "100%|████████████████████████████████████████████████████████████████████████████████████████████████████████████████████████████████████████████████████████████████████████████████████████████████| 4/4 [00:28<00:00,  7.03s/it]\u001b[A\u001b[A\n",
      "\n",
      " 33%|████████████████████████████████████████████████████████████████                                                                                                                                | 1/3 [00:28<00:56, 28.13s/it]\u001b[A\n",
      "\n",
      "  0%|                                                                                                                                                                                                        | 0/4 [00:00<?, ?it/s]\u001b[A\u001b[A\n",
      "\n",
      " 25%|████████████████████████████████████████████████                                                                                                                                                | 1/4 [00:07<00:22,  7.57s/it]\u001b[A\u001b[A\n",
      "\n",
      " 50%|████████████████████████████████████████████████████████████████████████████████████████████████                                                                                                | 2/4 [00:14<00:14,  7.41s/it]\u001b[A\u001b[A\n",
      "\n",
      " 75%|████████████████████████████████████████████████████████████████████████████████████████████████████████████████████████████████████████████████                                                | 3/4 [00:21<00:07,  7.21s/it]\u001b[A\u001b[A\n",
      "\n",
      "100%|████████████████████████████████████████████████████████████████████████████████████████████████████████████████████████████████████████████████████████████████████████████████████████████████| 4/4 [00:28<00:00,  7.00s/it]\u001b[A\u001b[A\n",
      "\n",
      " 67%|████████████████████████████████████████████████████████████████████████████████████████████████████████████████████████████████                                                                | 2/3 [00:56<00:28, 28.06s/it]\u001b[A\n",
      "\n",
      "  0%|                                                                                                                                                                                                        | 0/4 [00:00<?, ?it/s]\u001b[A\u001b[A\n",
      "\n",
      " 25%|████████████████████████████████████████████████                                                                                                                                                | 1/4 [00:07<00:22,  7.59s/it]\u001b[A\u001b[A\n",
      "\n",
      " 50%|████████████████████████████████████████████████████████████████████████████████████████████████                                                                                                | 2/4 [00:15<00:15,  7.58s/it]\u001b[A\u001b[A\n",
      "\n",
      " 75%|████████████████████████████████████████████████████████████████████████████████████████████████████████████████████████████████████████████████                                                | 3/4 [00:22<00:07,  7.27s/it]\u001b[A\u001b[A\n",
      "\n",
      "100%|████████████████████████████████████████████████████████████████████████████████████████████████████████████████████████████████████████████████████████████████████████████████████████████████| 4/4 [00:28<00:00,  7.02s/it]\u001b[A\u001b[A\n",
      "\n",
      "100%|████████████████████████████████████████████████████████████████████████████████████████████████████████████████████████████████████████████████████████████████████████████████████████████████| 3/3 [01:24<00:00, 28.07s/it]\u001b[A\n",
      " 50%|████████████████████████████████████████████████████████████████████████████████████████████████                                                                                                | 1/2 [01:24<01:24, 84.21s/it]\n",
      "  0%|                                                                                                                                                                                                        | 0/3 [00:00<?, ?it/s]\u001b[A\n",
      "\n",
      "  0%|                                                                                                                                                                                                        | 0/4 [00:00<?, ?it/s]\u001b[A\u001b[A\n",
      "\n",
      " 25%|████████████████████████████████████████████████                                                                                                                                                | 1/4 [00:07<00:22,  7.51s/it]\u001b[A\u001b[A\n",
      "\n",
      " 50%|████████████████████████████████████████████████████████████████████████████████████████████████                                                                                                | 2/4 [00:14<00:14,  7.43s/it]\u001b[A\u001b[A\n",
      "\n",
      " 75%|████████████████████████████████████████████████████████████████████████████████████████████████████████████████████████████████████████████████                                                | 3/4 [00:21<00:07,  7.21s/it]\u001b[A\u001b[A\n",
      "\n",
      "100%|████████████████████████████████████████████████████████████████████████████████████████████████████████████████████████████████████████████████████████████████████████████████████████████████| 4/4 [00:27<00:00,  6.96s/it]\u001b[A\u001b[A\n",
      "\n",
      " 33%|████████████████████████████████████████████████████████████████                                                                                                                                | 1/3 [00:27<00:55, 27.84s/it]\u001b[A\n",
      "\n",
      "  0%|                                                                                                                                                                                                        | 0/4 [00:00<?, ?it/s]\u001b[A\u001b[A\n",
      "\n",
      " 25%|████████████████████████████████████████████████                                                                                                                                                | 1/4 [00:07<00:22,  7.65s/it]\u001b[A\u001b[A\n",
      "\n",
      " 50%|████████████████████████████████████████████████████████████████████████████████████████████████                                                                                                | 2/4 [00:15<00:14,  7.49s/it]\u001b[A\u001b[A\n",
      "\n",
      " 75%|████████████████████████████████████████████████████████████████████████████████████████████████████████████████████████████████████████████████                                                | 3/4 [00:21<00:07,  7.12s/it]\u001b[A\u001b[A"
     ]
    }
   ],
   "source": [
    "run = True\n",
    "if run:\n",
    "    analysises = []\n",
    "    for direction in tqdm([1,-1]):\n",
    "        for value in tqdm([1,0,-1]):\n",
    "            for maximum_index in tqdm([1,50,100,200]):\n",
    "                for minimum_index in [0,50,100,200]:\n",
    "                    for num_stocks_per_industry in [1,5]:\n",
    "                        try:\n",
    "                            parameters = {\n",
    "                                \"direction\":direction,\n",
    "                                \"val\":value,\n",
    "                                \"maxi\": maximum_index,\n",
    "                                \"mini\": minimum_index,\n",
    "                                \"stacks\": num_stocks_per_industry\n",
    "                            }\n",
    "                            stacks = rank_list(value,num_stocks_per_industry)\n",
    "                            max_cap = simulation.sort_values(\"market_cap\")[\"market_cap\"].unique()[-maximum_index]\n",
    "                            min_cap = simulation.sort_values(\"market_cap\")[\"market_cap\"].unique()[minimum_index]\n",
    "                            filtered_simulation = simulation[(simulation[\"market_cap\"]<=max_cap) & (simulation[\"market_cap\"]>=min_cap)].copy()\n",
    "                            trades = filtered_simulation[filtered_columns].groupby([\"year\",\"quarter\",\"ticker\"]).agg(agg_query).reset_index()\n",
    "                            trades = trades.sort_values(\"rank\",ascending=True).groupby([\"year\",\"quarter\",\"GICS Sector\"]).nth(stacks).reset_index()\n",
    "                            trades[\"return\"] = (trades[\"sell_price\"] - trades[\"adjclose\"])/trades[\"adjclose\"]\n",
    "                            trades[\"return\"] = trades[\"return\"] * trades[\"exposure\"] * direction \n",
    "                            analysis = trades[[\"year\",\"quarter\",\"exposure\",\"return\"]].groupby([\"year\",\"quarter\",\"exposure\"]).mean().pivot_table(index=[\"year\",\"quarter\"],columns=\"exposure\",values=\"return\").reset_index()\n",
    "                            portfolio = trades[[\"year\",\"quarter\",\"return\"]].groupby([\"year\",\"quarter\"]).mean().reset_index().sort_values([\"year\",\"quarter\"])\n",
    "                            portfolio[\"return\"] = portfolio[\"return\"] + 1\n",
    "                            portfolio[\"return\"] = portfolio[\"return\"].cumprod() - 1\n",
    "                            portfolio['Year-Quarter'] = portfolio[\"year\"].astype(str) + \"q\" + portfolio[\"quarter\"].astype(str)\n",
    "                            portfolio = portfolio.merge(benchmark,on=[\"year\",\"quarter\"],how=\"left\")\n",
    "                            portfolio[\"sharpe\"] = portfolio[\"return\"] - portfolio[\"rf\"] / portfolio[\"return\"].std()\n",
    "                            parameters[\"risk\"] = portfolio[\"return\"].std()\n",
    "                            parameters[\"sharpe\"] = portfolio[\"sharpe\"].iloc[-1]\n",
    "                            parameters[\"return\"] = portfolio[\"return\"].iloc[-1]\n",
    "                            analysises.append(parameters)\n",
    "                        except Exception as e:\n",
    "                            print(str(e))\n",
    "                            continue"
   ]
  },
  {
   "cell_type": "code",
   "execution_count": null,
   "id": "836b13ed-c3d4-4e53-a62b-9163a7fdb56e",
   "metadata": {},
   "outputs": [],
   "source": [
    "a = pd.DataFrame(analysises)\n",
    "a[\"color\"] = [\"blue\" if x == 1 else \"red\" if x == -1  else \"green\" for x in a[\"val\"]]\n",
    "a[\"return_to_risk\"] = a[\"return\"] / a[\"risk\"]"
   ]
  },
  {
   "cell_type": "code",
   "execution_count": null,
   "id": "1c9898c5-47de-4f97-959e-3e0d93206c69",
   "metadata": {},
   "outputs": [],
   "source": [
    "fig, axes = plt.subplots(1, 2, figsize=(12, 6), sharey=True)\n",
    "\n",
    "# Titles for each subplot\n",
    "titles = [\"Direction: 1\", \"Direction: -1\"]\n",
    "\n",
    "# Iterate over directions and corresponding axes\n",
    "for i, direction in enumerate([1, -1]):\n",
    "    d_analysis = a[a[\"direction\"] == direction]\n",
    "    axes[i].scatter(\n",
    "        d_analysis[\"sharpe\"],\n",
    "        d_analysis[\"return\"],\n",
    "        c=d_analysis[\"color\"],\n",
    "        s=d_analysis[\"stacks\"] * 2,\n",
    "        alpha=0.8,\n",
    "        edgecolors=\"w\",\n",
    "    )\n",
    "    axes[i].set_title(titles[i])\n",
    "    axes[i].set_xlabel(\"Sharpe Ratio\")\n",
    "    axes[i].set_ylabel(\"Return\" if i == 0 else \"\")  # Only label y-axis on the first plot\n",
    "\n",
    "# Adjust layout for better spacing\n",
    "plt.tight_layout()\n",
    "\n",
    "# Show the combined plot\n",
    "plt.show()"
   ]
  },
  {
   "cell_type": "code",
   "execution_count": null,
   "id": "36cf02b0-947e-445b-9f63-ff00e556ff0b",
   "metadata": {},
   "outputs": [],
   "source": [
    "a.sort_values(\"return\",ascending=False).head(20)"
   ]
  },
  {
   "cell_type": "code",
   "execution_count": null,
   "id": "d9547ac4-1502-48ff-a25b-196a89099c71",
   "metadata": {},
   "outputs": [],
   "source": [
    "value = 1\n",
    "direction = 1\n",
    "maximum_index = 1\n",
    "minimum_index = 100\n",
    "num_stocks_per_industry = 1\n",
    "stacks = rank_list(value,num_stocks_per_industry)"
   ]
  },
  {
   "cell_type": "code",
   "execution_count": null,
   "id": "d22253c4-e658-4883-8ad9-c9b92b8f3fe7",
   "metadata": {},
   "outputs": [],
   "source": [
    "stacks = rank_list(value,num_stocks_per_industry)\n",
    "max_cap = simulation.sort_values(\"market_cap\")[\"market_cap\"].unique()[-maximum_index]\n",
    "min_cap = simulation.sort_values(\"market_cap\")[\"market_cap\"].unique()[minimum_index]\n",
    "filtered_simulation = simulation[(simulation[\"market_cap\"]<=max_cap) & (simulation[\"market_cap\"]>=min_cap)].copy()\n",
    "trades = filtered_simulation[filtered_columns].groupby([\"year\",\"quarter\",\"ticker\"]).agg(agg_query).reset_index()\n",
    "trades = trades.sort_values(\"rank\",ascending=True).groupby([\"year\",\"quarter\",\"GICS Sector\"]).nth(stacks).reset_index()\n",
    "trades[\"return\"] = (trades[\"sell_price\"] - trades[\"adjclose\"])/trades[\"adjclose\"]\n",
    "trades[\"return\"] = trades[\"return\"] * trades[\"exposure\"] * direction \n",
    "analysis = trades[[\"year\",\"quarter\",\"exposure\",\"return\"]].groupby([\"year\",\"quarter\",\"exposure\"]).mean().pivot_table(index=[\"year\",\"quarter\"],columns=\"exposure\",values=\"return\").reset_index()\n",
    "portfolio = trades[[\"year\",\"quarter\",\"return\"]].groupby([\"year\",\"quarter\"]).mean().reset_index().sort_values([\"year\",\"quarter\"])\n",
    "portfolio[\"return\"] = portfolio[\"return\"] + 1\n",
    "portfolio[\"return\"] = portfolio[\"return\"].cumprod() - 1\n",
    "portfolio['Year-Quarter'] = portfolio[\"year\"].astype(str) + \"q\" + portfolio[\"quarter\"].astype(str)\n",
    "portfolio = portfolio.merge(benchmark,on=[\"year\",\"quarter\"],how=\"left\")"
   ]
  },
  {
   "cell_type": "code",
   "execution_count": null,
   "id": "2d80d54c-8bd8-4174-9215-f8c9e516e4cb",
   "metadata": {},
   "outputs": [],
   "source": [
    "analysis['Year-Quarter'] = analysis[\"year\"].astype(str) + \"q\" + analysis[\"quarter\"].astype(str)\n",
    "\n",
    "# Reset index for plotting\n",
    "analysis.drop([\"year\",\"quarter\"],axis=1,inplace=True)\n",
    "analysis.reset_index(drop=True, inplace=True)\n",
    "\n",
    "# Plot a bar chart\n",
    "analysis.set_index(\"Year-Quarter\").plot(\n",
    "    kind=\"bar\",\n",
    "    figsize=(12, 6),\n",
    "    title=\"Mean Returns by Exposure per Year and Quarter\"\n",
    ")\n",
    "\n",
    "# Customize the plot\n",
    "plt.xlabel(\"Year, Quarter\")\n",
    "plt.ylabel(\"Mean Return\")\n",
    "plt.xticks(rotation=45, ha='right')  # Rotate x-axis labels for better readability\n",
    "plt.legend(title=\"Exposure\")\n",
    "plt.tight_layout()\n",
    "\n",
    "# Show the plot\n",
    "plt.show()\n"
   ]
  },
  {
   "cell_type": "code",
   "execution_count": null,
   "id": "597bcabe-1a9d-4b72-a2fa-4f84dc767e26",
   "metadata": {},
   "outputs": [],
   "source": [
    "# Create the plot\n",
    "ax = portfolio.drop([\"date\", \"year\", \"quarter\"], axis=1).set_index(\"Year-Quarter\").plot(\n",
    "    kind=\"line\",\n",
    "    figsize=(12, 6),\n",
    "    title=\"Mean Returns by Exposure per Year and Quarter\"\n",
    ")\n",
    "\n",
    "# Set y-axis to have more precise ticks\n",
    "ax.tick_params(axis='y', direction='in', length=6)  # Adjust y-tick direction and length\n",
    "ax.yaxis.set_major_formatter(plt.FuncFormatter(lambda x, _: f'{x:.4f}'))  # Format y-ticks with 4 decimal places\n",
    "\n",
    "# Move y-ticks to the right side\n",
    "ax.yaxis.set_tick_params(which='both', direction='inout', length=6, labelleft=False, labelright=True)\n",
    "\n",
    "# Optionally adjust the number of ticks for better precision\n",
    "ax.yaxis.set_major_locator(plt.MaxNLocator(integer=False, prune='both'))\n",
    "\n",
    "# Add grid lines\n",
    "ax.grid(True, which='both', axis='both', linestyle='--', linewidth=0.7)\n",
    "\n",
    "# Display the plot\n",
    "plt.tight_layout()\n",
    "plt.show()\n"
   ]
  },
  {
   "cell_type": "code",
   "execution_count": null,
   "id": "9023efb8-dc7b-4dd5-b693-25897a415d0a",
   "metadata": {},
   "outputs": [],
   "source": [
    "portfolio.tail()"
   ]
  },
  {
   "cell_type": "code",
   "execution_count": null,
   "id": "5e259941-c727-4c51-a808-89a341d84710",
   "metadata": {},
   "outputs": [],
   "source": [
    "trades.groupby([\"year\",\"quarter\",\"exposure\",\"GICS Sector\"]).agg({\"return\":\"mean\"}).tail(22)"
   ]
  },
  {
   "cell_type": "code",
   "execution_count": null,
   "id": "2d987850-5137-4841-b3a6-c43d5908c34f",
   "metadata": {},
   "outputs": [],
   "source": [
    "print(((macro[\"sp500\"].pct_change().cumsum().iloc[-1]+1) ** (1/6))/macro[\"sp500\"].pct_change().cumsum().std())"
   ]
  }
 ],
 "metadata": {
  "kernelspec": {
   "display_name": "Python 3 (ipykernel)",
   "language": "python",
   "name": "python3"
  },
  "language_info": {
   "codemirror_mode": {
    "name": "ipython",
    "version": 3
   },
   "file_extension": ".py",
   "mimetype": "text/x-python",
   "name": "python",
   "nbconvert_exporter": "python",
   "pygments_lexer": "ipython3",
   "version": "3.11.1"
  }
 },
 "nbformat": 4,
 "nbformat_minor": 5
}
