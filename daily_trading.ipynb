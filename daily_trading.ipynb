{
 "cells": [
  {
   "cell_type": "code",
   "execution_count": 1,
   "id": "cd3cabbf-ff09-45ae-bd1b-b040c2c3feaf",
   "metadata": {},
   "outputs": [],
   "source": [
    "import pandas as pd\n",
    "from processor.processor import Processor as processor\n",
    "from database.adatabase import ADatabase\n",
    "import matplotlib.pyplot as plt\n",
    "from tqdm import tqdm\n",
    "from xgboost import XGBRegressor\n",
    "import warnings\n",
    "warnings.simplefilter(action=\"ignore\")"
   ]
  },
  {
   "cell_type": "code",
   "execution_count": 2,
   "id": "f4139615-544b-40e2-b0d9-f22b1cff9a39",
   "metadata": {},
   "outputs": [],
   "source": [
    "sp500 = pd.read_html(\"https://en.wikipedia.org/wiki/List_of_S%26P_500_companies\",attrs={\"id\":\"constituents\"})[0].rename(columns={\"Symbol\":\"ticker\"})"
   ]
  },
  {
   "cell_type": "code",
   "execution_count": 3,
   "id": "dd44e8ce-d237-4f49-abb7-1f983b30919e",
   "metadata": {},
   "outputs": [
    {
     "name": "stderr",
     "output_type": "stream",
     "text": [
      "100%|███████████████████████████████████████████████████████████████████████████████████████████████████████████████████████████████████| 503/503 [00:47<00:00, 10.66it/s]\n"
     ]
    }
   ],
   "source": [
    "prices = []\n",
    "market = ADatabase(\"market\")\n",
    "market.connect()\n",
    "for ticker in tqdm(sp500[\"ticker\"]):\n",
    "    try:\n",
    "        price = processor.column_date_processing(market.query(\"prices\",{\"ticker\":ticker})).sort_values(\"date\")\n",
    "        price[\"average_return\"] = price[\"adjclose\"].pct_change(100)\n",
    "        for i in range(10):\n",
    "            price[str(i)] = price[\"adjclose\"].shift(i)\n",
    "        price[\"y\"] = price[\"adjclose\"].shift(-5)\n",
    "        prices.append(price.dropna())\n",
    "    except:\n",
    "        continue\n",
    "market.disconnect()"
   ]
  },
  {
   "cell_type": "code",
   "execution_count": 4,
   "id": "73ab2b0b-3130-485d-af3c-d5d1ffa6270d",
   "metadata": {},
   "outputs": [],
   "source": [
    "prices = pd.concat(prices).sort_values(\"date\")"
   ]
  },
  {
   "cell_type": "code",
   "execution_count": 5,
   "id": "67c2f0f7-6d84-4d5f-ad23-67a8f3155851",
   "metadata": {
    "scrolled": true
   },
   "outputs": [
    {
     "name": "stderr",
     "output_type": "stream",
     "text": [
      "100%|████████████████████████████████████████████████████████████████████████████████████████████████████████████████████████████████| 4928/4928 [00:39<00:00, 125.19it/s]\n"
     ]
    }
   ],
   "source": [
    "default_portfolio = {\"ticker\":\"\",\"adjclose\":0,\"quantity\":0,\"buy_price\":0}\n",
    "cash = 100\n",
    "portfolio = default_portfolio.copy()\n",
    "portfolios = []\n",
    "for date in tqdm(prices[\"date\"].unique()):\n",
    "    try:\n",
    "        # training_dates = [x for x in prices[\"date\"] if x < date][-100:]\n",
    "        # training_data = prices[prices[\"date\"].isin(training_dates)]\n",
    "        # sim = prices[prices[\"date\"]==date]\n",
    "        # model = XGBRegressor(fit_intercept=True)\n",
    "        # model.fit(training_data[[str(i) for i in range(7)]],training_data[\"y\"])\n",
    "        # sim[\"predictions\"] = model.predict(sim[[str(i) for i in range(7)]])\n",
    "        # sim[\"expected_return\"] = (sim[\"predictions\"] - sim[\"adjclose\"]) / sim[\"adjclose\"]\n",
    "        today = prices[prices[\"date\"]==date]\n",
    "        rec = today.sort_values(\"average_return\",ascending=True).iloc[0]\n",
    "        if portfolio[\"ticker\"] == \"\":\n",
    "            portfolio[\"ticker\"] = rec[\"ticker\"]\n",
    "            portfolio[\"adjclose\"] = rec[\"adjclose\"]\n",
    "            portfolio[\"quantity\"] = cash / rec[\"adjclose\"]\n",
    "            portfolio[\"buy_price\"] = rec[\"adjclose\"]\n",
    "            portfolio[\"date\"] = date\n",
    "            cash = 0\n",
    "            portfolios.append(portfolio.copy())\n",
    "        else:\n",
    "            ## update\n",
    "            updates = today[today[\"ticker\"]==portfolio[\"ticker\"]].iloc[0]\n",
    "            portfolio[\"adjclose\"] = updates[\"adjclose\"]\n",
    "            portfolio[\"date\"] = date\n",
    "            if rec[\"ticker\"] != portfolio[\"ticker\"]:\n",
    "                cash = portfolio[\"adjclose\"] * portfolio[\"quantity\"]\n",
    "                portfolio[\"ticker\"] = rec[\"ticker\"]\n",
    "                portfolio[\"adjclose\"] = rec[\"adjclose\"]\n",
    "                portfolio[\"quantity\"] = cash / rec[\"adjclose\"]\n",
    "                portfolio[\"buy_price\"] = rec[\"adjclose\"]\n",
    "                portfolio[\"date\"] = date\n",
    "                cash = 0\n",
    "                portfolios.append(portfolio.copy())\n",
    "            else:\n",
    "                portfolios.append(portfolio.copy())\n",
    "    except Exception as e:\n",
    "        print(str(e))\n",
    "        continue"
   ]
  },
  {
   "cell_type": "code",
   "execution_count": 6,
   "id": "4515ff52-38e3-48b1-8a0f-e0fa050dce8f",
   "metadata": {},
   "outputs": [],
   "source": [
    "states = pd.DataFrame(portfolios)\n",
    "states[\"pv\"] = states[\"adjclose\"] * states[\"quantity\"]\n",
    "states[\"trade\"] = states[\"ticker\"] != states[\"ticker\"].shift(-1)"
   ]
  },
  {
   "cell_type": "code",
   "execution_count": 7,
   "id": "9b089d3a-03c0-4bf1-9972-7733f1be9efa",
   "metadata": {},
   "outputs": [
    {
     "data": {
      "text/plain": [
       "[<matplotlib.lines.Line2D at 0x2a9de2ddcd0>]"
      ]
     },
     "execution_count": 7,
     "metadata": {},
     "output_type": "execute_result"
    },
    {
     "data": {
      "image/png": "[encoded data removed]",
      "text/plain": [
       "<Figure size 640x480 with 1 Axes>"
      ]
     },
     "metadata": {},
     "output_type": "display_data"
    }
   ],
   "source": [
    "plt.plot(states[\"pv\"])"
   ]
  },
  {
   "cell_type": "code",
   "execution_count": 8,
   "id": "3fcc253e-35bd-4d3a-b437-5d60a68a36b9",
   "metadata": {},
   "outputs": [
    {
     "data": {
      "text/html": [
       "<div>\n",
       "<style scoped>\n",
       "    .dataframe tbody tr th:only-of-type {\n",
       "        vertical-align: middle;\n",
       "    }\n",
       "\n",
       "    .dataframe tbody tr th {\n",
       "        vertical-align: top;\n",
       "    }\n",
       "\n",
       "    .dataframe thead th {\n",
       "        text-align: right;\n",
       "    }\n",
       "</style>\n",
       "<table border=\"1\" class=\"dataframe\">\n",
       "  <thead>\n",
       "    <tr style=\"text-align: right;\">\n",
       "      <th></th>\n",
       "      <th>ticker</th>\n",
       "      <th>adjclose</th>\n",
       "      <th>quantity</th>\n",
       "      <th>buy_price</th>\n",
       "      <th>date</th>\n",
       "      <th>pv</th>\n",
       "      <th>trade</th>\n",
       "    </tr>\n",
       "  </thead>\n",
       "  <tbody>\n",
       "    <tr>\n",
       "      <th>12</th>\n",
       "      <td>NFLX</td>\n",
       "      <td>1.677141</td>\n",
       "      <td>63.927005</td>\n",
       "      <td>1.564284</td>\n",
       "      <td>2004-12-10 00:00:00+00:00</td>\n",
       "      <td>107.214612</td>\n",
       "      <td>True</td>\n",
       "    </tr>\n",
       "    <tr>\n",
       "      <th>15</th>\n",
       "      <td>ALGN</td>\n",
       "      <td>10.470000</td>\n",
       "      <td>10.887344</td>\n",
       "      <td>10.720000</td>\n",
       "      <td>2004-12-15 00:00:00+00:00</td>\n",
       "      <td>113.990493</td>\n",
       "      <td>True</td>\n",
       "    </tr>\n",
       "    <tr>\n",
       "      <th>16</th>\n",
       "      <td>WST</td>\n",
       "      <td>9.700680</td>\n",
       "      <td>11.660987</td>\n",
       "      <td>9.700680</td>\n",
       "      <td>2004-12-16 00:00:00+00:00</td>\n",
       "      <td>113.119505</td>\n",
       "      <td>True</td>\n",
       "    </tr>\n",
       "    <tr>\n",
       "      <th>17</th>\n",
       "      <td>ALGN</td>\n",
       "      <td>10.320000</td>\n",
       "      <td>11.008035</td>\n",
       "      <td>10.320000</td>\n",
       "      <td>2004-12-17 00:00:00+00:00</td>\n",
       "      <td>113.602922</td>\n",
       "      <td>True</td>\n",
       "    </tr>\n",
       "    <tr>\n",
       "      <th>19</th>\n",
       "      <td>WST</td>\n",
       "      <td>9.559730</td>\n",
       "      <td>11.884693</td>\n",
       "      <td>9.568021</td>\n",
       "      <td>2004-12-21 00:00:00+00:00</td>\n",
       "      <td>113.614464</td>\n",
       "      <td>True</td>\n",
       "    </tr>\n",
       "    <tr>\n",
       "      <th>...</th>\n",
       "      <td>...</td>\n",
       "      <td>...</td>\n",
       "      <td>...</td>\n",
       "      <td>...</td>\n",
       "      <td>...</td>\n",
       "      <td>...</td>\n",
       "      <td>...</td>\n",
       "    </tr>\n",
       "    <tr>\n",
       "      <th>4896</th>\n",
       "      <td>WBD</td>\n",
       "      <td>7.800000</td>\n",
       "      <td>2757.594743</td>\n",
       "      <td>7.800000</td>\n",
       "      <td>2024-05-08 00:00:00+00:00</td>\n",
       "      <td>21509.238992</td>\n",
       "      <td>True</td>\n",
       "    </tr>\n",
       "    <tr>\n",
       "      <th>4904</th>\n",
       "      <td>EPAM</td>\n",
       "      <td>191.500000</td>\n",
       "      <td>121.865892</td>\n",
       "      <td>181.930000</td>\n",
       "      <td>2024-05-20 00:00:00+00:00</td>\n",
       "      <td>23337.318316</td>\n",
       "      <td>True</td>\n",
       "    </tr>\n",
       "    <tr>\n",
       "      <th>4905</th>\n",
       "      <td>INTC</td>\n",
       "      <td>31.740000</td>\n",
       "      <td>734.343746</td>\n",
       "      <td>31.740000</td>\n",
       "      <td>2024-05-21 00:00:00+00:00</td>\n",
       "      <td>23308.070502</td>\n",
       "      <td>True</td>\n",
       "    </tr>\n",
       "    <tr>\n",
       "      <th>4910</th>\n",
       "      <td>LULU</td>\n",
       "      <td>298.540000</td>\n",
       "      <td>77.005241</td>\n",
       "      <td>299.630000</td>\n",
       "      <td>2024-05-29 00:00:00+00:00</td>\n",
       "      <td>22989.144790</td>\n",
       "      <td>True</td>\n",
       "    </tr>\n",
       "    <tr>\n",
       "      <th>4927</th>\n",
       "      <td>EPAM</td>\n",
       "      <td>183.090000</td>\n",
       "      <td>132.490131</td>\n",
       "      <td>176.050000</td>\n",
       "      <td>2024-06-24 00:00:00+00:00</td>\n",
       "      <td>24257.618169</td>\n",
       "      <td>True</td>\n",
       "    </tr>\n",
       "  </tbody>\n",
       "</table>\n",
       "<p>807 rows × 7 columns</p>\n",
       "</div>"
      ],
      "text/plain": [
       "     ticker    adjclose     quantity   buy_price                      date  \\\n",
       "12     NFLX    1.677141    63.927005    1.564284 2004-12-10 00:00:00+00:00   \n",
       "15     ALGN   10.470000    10.887344   10.720000 2004-12-15 00:00:00+00:00   \n",
       "16      WST    9.700680    11.660987    9.700680 2004-12-16 00:00:00+00:00   \n",
       "17     ALGN   10.320000    11.008035   10.320000 2004-12-17 00:00:00+00:00   \n",
       "19      WST    9.559730    11.884693    9.568021 2004-12-21 00:00:00+00:00   \n",
       "...     ...         ...          ...         ...                       ...   \n",
       "4896    WBD    7.800000  2757.594743    7.800000 2024-05-08 00:00:00+00:00   \n",
       "4904   EPAM  191.500000   121.865892  181.930000 2024-05-20 00:00:00+00:00   \n",
       "4905   INTC   31.740000   734.343746   31.740000 2024-05-21 00:00:00+00:00   \n",
       "4910   LULU  298.540000    77.005241  299.630000 2024-05-29 00:00:00+00:00   \n",
       "4927   EPAM  183.090000   132.490131  176.050000 2024-06-24 00:00:00+00:00   \n",
       "\n",
       "                pv  trade  \n",
       "12      107.214612   True  \n",
       "15      113.990493   True  \n",
       "16      113.119505   True  \n",
       "17      113.602922   True  \n",
       "19      113.614464   True  \n",
       "...            ...    ...  \n",
       "4896  21509.238992   True  \n",
       "4904  23337.318316   True  \n",
       "4905  23308.070502   True  \n",
       "4910  22989.144790   True  \n",
       "4927  24257.618169   True  \n",
       "\n",
       "[807 rows x 7 columns]"
      ]
     },
     "execution_count": 8,
     "metadata": {},
     "output_type": "execute_result"
    }
   ],
   "source": [
    "states[states[\"trade\"]==True]"
   ]
  }
 ],
 "metadata": {
  "kernelspec": {
   "display_name": "Python 3 (ipykernel)",
   "language": "python",
   "name": "python3"
  },
  "language_info": {
   "codemirror_mode": {
    "name": "ipython",
    "version": 3
   },
   "file_extension": ".py",
   "mimetype": "text/x-python",
   "name": "python",
   "nbconvert_exporter": "python",
   "pygments_lexer": "ipython3",
   "version": "3.11.9"
  }
 },
 "nbformat": 4,
 "nbformat_minor": 5
}
