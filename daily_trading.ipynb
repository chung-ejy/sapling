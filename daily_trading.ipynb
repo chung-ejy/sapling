{
 "cells": [
  {
   "cell_type": "code",
   "execution_count": 1,
   "id": "cd3cabbf-ff09-45ae-bd1b-b040c2c3feaf",
   "metadata": {},
   "outputs": [],
   "source": [
    "import pandas as pd\n",
    "from processor.processor import Processor as processor\n",
    "from database.adatabase import ADatabase\n",
    "import matplotlib.pyplot as plt\n",
    "from tqdm import tqdm\n",
    "from xgboost import XGBRegressor\n",
    "import warnings\n",
    "warnings.simplefilter(action=\"ignore\")\n",
    "import numpy as np\n",
    "from datetime import datetime\n",
    "from arch import arch_model\n",
    "from statsmodels.tsa.arima.model import ARIMA\n",
    "import tensorflow as tf\n",
    "from tensorflow.keras.models import Sequential\n",
    "from tensorflow.keras.layers import LSTM, Dense\n",
    "from statistics import mean"
   ]
  },
  {
   "cell_type": "code",
   "execution_count": 2,
   "id": "f4139615-544b-40e2-b0d9-f22b1cff9a39",
   "metadata": {},
   "outputs": [],
   "source": [
    "sp500 = pd.read_html(\"https://en.wikipedia.org/wiki/Russell_1000_Index\")[2].rename(columns={\"Symbol\":\"ticker\"})"
   ]
  },
  {
   "cell_type": "code",
   "execution_count": 3,
   "id": "de90a0c6-75e0-41ea-96cb-a198580e351e",
   "metadata": {},
   "outputs": [],
   "source": [
    "def calculate_technical_indicators(price):\n",
    "    # Average Return\n",
    "    price[\"average_return\"] = price[\"adjclose\"].pct_change(5).rolling(100).mean()\n",
    "    price[\"prev_return\"] = price[\"adjclose\"].pct_change(5)\n",
    "    \n",
    "    # Coefficient of Variation\n",
    "    price[\"coev\"] = price[\"adjclose\"].rolling(100).std() / price[\"adjclose\"].rolling(100).mean()\n",
    "    price[\"return_to_risk\"] = price[\"prev_return\"] / price[\"coev\"]\n",
    "    \n",
    "    # Bollinger Bands\n",
    "    price[\"bollinger\"] = ((price[\"adjclose\"].rolling(100).mean() - 2 * price[\"adjclose\"].rolling(100).std()) - price[\"adjclose\"]) / price[\"adjclose\"]\n",
    "\n",
    "    # RSI (Relative Strength Index)\n",
    "    delta = price[\"adjclose\"].diff()\n",
    "    gain = (delta.where(delta > 0, 0)).rolling(14).mean()\n",
    "    loss = (-delta.where(delta < 0, 0)).rolling(14).mean()\n",
    "    rs = gain / loss\n",
    "    price[\"rsi\"] = 100 - (100 / (1 + rs))\n",
    "\n",
    "    # MACD (Moving Average Convergence Divergence)\n",
    "    ema_12 = price[\"adjclose\"].ewm(span=12, adjust=False).mean()\n",
    "    ema_26 = price[\"adjclose\"].ewm(span=26, adjust=False).mean()\n",
    "    price[\"macd\"] = ema_12 - ema_26\n",
    "    price[\"signal_line\"] = price[\"macd\"].ewm(span=9, adjust=False).mean()\n",
    "\n",
    "    # EMA (Exponential Moving Average)\n",
    "    price[\"ema_20\"] = price[\"adjclose\"].ewm(span=20, adjust=False).mean()\n",
    "\n",
    "    # ATR (Average True Range)\n",
    "    high_low = price[\"adjhigh\"] - price[\"adjlow\"]\n",
    "    high_close = np.abs(price[\"adjhigh\"] - price[\"adjclose\"].shift())\n",
    "    low_close = np.abs(price[\"adjlow\"] - price[\"adjclose\"].shift())\n",
    "    tr = high_low.combine(high_close, np.maximum).combine(low_close, np.maximum)\n",
    "    price[\"atr\"] = tr.rolling(14).mean()\n",
    "\n",
    "    # Stochastic Oscillator\n",
    "    low_14 = price[\"adjlow\"].rolling(window=14).min()\n",
    "    high_14 = price[\"adjhigh\"].rolling(window=14).max()\n",
    "    price[\"stochastic\"] = (price[\"adjclose\"] - low_14) / (high_14 - low_14) * 100\n",
    "\n",
    "    # On-Balance Volume (OBV)\n",
    "    price[\"obv\"] = (np.sign(price[\"adjclose\"].diff()) * price[\"volume\"]).fillna(0).cumsum()\n",
    "\n",
    "    # Chaikin Money Flow (CMF)\n",
    "    money_flow_multiplier = ((price[\"adjclose\"] - price[\"adjlow\"]) - (price[\"adjhigh\"] - price[\"adjclose\"])) / (price[\"adjhigh\"] - price[\"adjlow\"])\n",
    "    money_flow_volume = money_flow_multiplier * price[\"volume\"]\n",
    "    price[\"cmf\"] = money_flow_volume.rolling(window=20).sum() / price[\"volume\"].rolling(window=20).sum()\n",
    "\n",
    "    # Williams %R\n",
    "    price[\"williams_r\"] = (price[\"adjhigh\"].rolling(14).max() - price[\"adjclose\"]) / (price[\"adjhigh\"].rolling(14).max() - price[\"adjlow\"].rolling(14).min()) * -100\n",
    "\n",
    "    # Commodity Channel Index (CCI)\n",
    "    typical_price = (price[\"adjhigh\"] + price[\"adjlow\"] + price[\"adjclose\"]) / 3\n",
    "    price[\"cci\"] = (typical_price - typical_price.rolling(20).mean()) / (0.015 * typical_price.rolling(20).std())\n",
    "\n",
    "    # Parabolic SAR (Commented out as it's not supported in this code)\n",
    "    # price[\"psar\"] = ta.trend.psar(high=price[\"adjhigh\"], low=price[\"adjlow\"], close=price[\"adjclose\"], step=0.02, max_step=0.2)\n",
    "\n",
    "    # Ichimoku Cloud\n",
    "    price[\"tenkan_sen\"] = (price[\"adjhigh\"].rolling(9).max() + price[\"adjlow\"].rolling(9).min()) / 2\n",
    "    price[\"kijun_sen\"] = (price[\"adjhigh\"].rolling(26).max() + price[\"adjlow\"].rolling(26).min()) / 2\n",
    "    price[\"senkou_span_a\"] = (price[\"tenkan_sen\"] + price[\"kijun_sen\"]) / 2\n",
    "    price[\"senkou_span_b\"] = (price[\"adjhigh\"].rolling(52).max() + price[\"adjlow\"].rolling(52).min()) / 2\n",
    "    \n",
    "    # Force Index\n",
    "    price[\"force_index\"] = price[\"adjclose\"].diff() * price[\"volume\"]\n",
    "    \n",
    "    # Elder's Impulse System\n",
    "    price[\"elder_impulse\"] = np.where((price[\"adjclose\"] > price[\"adjclose\"].shift()) & (price[\"volume\"] > price[\"volume\"].shift()), 1, 0)\n",
    "    \n",
    "    # Keltner Channel\n",
    "    price[\"keltner_upper\"] = price[\"adjclose\"].rolling(20).mean() + 2 * price[\"adjclose\"].rolling(20).std()\n",
    "    price[\"keltner_lower\"] = price[\"adjclose\"].rolling(20).mean() - 2 * price[\"adjclose\"].rolling(20).std()\n",
    "\n",
    "    # Fit ARMA(1,1) model with GARCH(1,1) errors\n",
    "    returns = price[:int(price.index.size/2)][\"adjclose\"].pct_change(5).dropna()\n",
    "    model = arch_model(returns, mean='AR', lags=1, vol='Garch', p=1, q=1)\n",
    "    garch_fit = model.fit(disp='off')\n",
    "    forecasts = garch_fit.forecast(horizon=returns.size)\n",
    "    mean_forecast = forecasts.mean\n",
    "    variance_forecast = forecasts.variance\n",
    "    forecasts = [0 for i in range(price.index.size - len(mean_forecast.values[0]))]\n",
    "    forecasts.extend(mean_forecast.values[0])\n",
    "    price[\"garch\"] = forecasts\n",
    "    forecasts = [0 for i in range(price.index.size - len(variance_forecast.values[0]))]\n",
    "    forecasts.extend(variance_forecast.values[0])\n",
    "    price[\"garch_var\"] = forecasts\n",
    "    price[\"garch_rrr\"] = price[\"garch\"] / price[\"garch_var\"]\n",
    "    \n",
    "    # Fit ARIMA model\n",
    "    arima_model = ARIMA(price[\"adjclose\"].dropna(), order=(5, 1, 0))  # Example order (p=5, d=1, q=0)\n",
    "    arima_fit = arima_model.fit()\n",
    "    price[\"arima_forecast\"] = arima_fit.predict(start=0, end=len(price)-1, dynamic=False)\n",
    "    for i in range(10):\n",
    "        price[str(i)] = price[\"adjclose\"].shift(i)\n",
    "    price[\"y\"] = price[\"adjclose\"].shift(-5)\n",
    "    return price\n"
   ]
  },
  {
   "cell_type": "code",
   "execution_count": 4,
   "id": "dd44e8ce-d237-4f49-abb7-1f983b30919e",
   "metadata": {},
   "outputs": [
    {
     "name": "stderr",
     "output_type": "stream",
     "text": [
      " 58%|█████████████████████████████████████████████████████████████████████████████████████████████████████████████████████████████████████████████▎                                                                                                       | 582/1009 [00:58<00:40, 10.62it/s]E:\\projects\\sapling\\venv\\Lib\\site-packages\\arch\\univariate\\base.py:766: ConvergenceWarning: The optimizer returned code 4. The message is:\n",
      "Inequality constraints incompatible\n",
      "See scipy.optimize.fmin_slsqp for code meaning.\n",
      "\n",
      "  warnings.warn(\n",
      " 81%|██████████████████████████████████████████████████████████████████████████████████████████████████████████████████████████████████████████████████████████████████████████████████████████████████████▌                                              | 818/1009 [01:21<00:19,  9.79it/s]E:\\projects\\sapling\\venv\\Lib\\site-packages\\arch\\univariate\\base.py:766: ConvergenceWarning: The optimizer returned code 8. The message is:\n",
      "Positive directional derivative for linesearch\n",
      "See scipy.optimize.fmin_slsqp for code meaning.\n",
      "\n",
      "  warnings.warn(\n",
      "100%|████████████████████████████████████████████████████████████████████████████████████████████████████████████████████████████████████████████████████████████████████████████████████████████████████████████████████████████████████████████████████| 1009/1009 [01:41<00:00,  9.93it/s]\n"
     ]
    }
   ],
   "source": [
    "prices_data = []\n",
    "market = ADatabase(\"market\")\n",
    "market.connect()\n",
    "for ticker in tqdm(sp500[\"ticker\"]):\n",
    "    try:\n",
    "        price = processor.column_date_processing(market.query(\"prices\",{\"ticker\":ticker})).sort_values(\"date\")\n",
    "        price = calculate_technical_indicators(price)\n",
    "        prices_data.append(price.dropna())\n",
    "    except Exception as e:\n",
    "        print(ticker, str(e))\n",
    "        continue\n",
    "market.disconnect()"
   ]
  },
  {
   "cell_type": "code",
   "execution_count": 5,
   "id": "73ab2b0b-3130-485d-af3c-d5d1ffa6270d",
   "metadata": {},
   "outputs": [],
   "source": [
    "prices = pd.concat(prices_data).sort_values(\"date\")"
   ]
  },
  {
   "cell_type": "code",
   "execution_count": 6,
   "id": "39e155d1-5489-42aa-a231-89d9db89cb16",
   "metadata": {},
   "outputs": [
    {
     "name": "stdout",
     "output_type": "stream",
     "text": [
      "Epoch 1/15\n",
      "\u001b[1m3002/3002\u001b[0m \u001b[32m━━━━━━━━━━━━━━━━━━━━\u001b[0m\u001b[37m\u001b[0m \u001b[1m8s\u001b[0m 2ms/step - loss: 7027.6646 - val_loss: 337.0017\n",
      "Epoch 2/15\n",
      "\u001b[1m3002/3002\u001b[0m \u001b[32m━━━━━━━━━━━━━━━━━━━━\u001b[0m\u001b[37m\u001b[0m \u001b[1m7s\u001b[0m 2ms/step - loss: 362.0924 - val_loss: 212.6283\n",
      "Epoch 3/15\n",
      "\u001b[1m3002/3002\u001b[0m \u001b[32m━━━━━━━━━━━━━━━━━━━━\u001b[0m\u001b[37m\u001b[0m \u001b[1m7s\u001b[0m 2ms/step - loss: 507.4038 - val_loss: 218.7411\n",
      "Epoch 4/15\n",
      "\u001b[1m3002/3002\u001b[0m \u001b[32m━━━━━━━━━━━━━━━━━━━━\u001b[0m\u001b[37m\u001b[0m \u001b[1m7s\u001b[0m 2ms/step - loss: 276.4700 - val_loss: 1078.9978\n",
      "Epoch 5/15\n",
      "\u001b[1m3002/3002\u001b[0m \u001b[32m━━━━━━━━━━━━━━━━━━━━\u001b[0m\u001b[37m\u001b[0m \u001b[1m7s\u001b[0m 2ms/step - loss: 347.5294 - val_loss: 464.3134\n",
      "Epoch 6/15\n",
      "\u001b[1m3002/3002\u001b[0m \u001b[32m━━━━━━━━━━━━━━━━━━━━\u001b[0m\u001b[37m\u001b[0m \u001b[1m7s\u001b[0m 2ms/step - loss: 324.4772 - val_loss: 199.7834\n",
      "Epoch 7/15\n",
      "\u001b[1m3002/3002\u001b[0m \u001b[32m━━━━━━━━━━━━━━━━━━━━\u001b[0m\u001b[37m\u001b[0m \u001b[1m7s\u001b[0m 2ms/step - loss: 316.2679 - val_loss: 242.4412\n",
      "Epoch 8/15\n",
      "\u001b[1m3002/3002\u001b[0m \u001b[32m━━━━━━━━━━━━━━━━━━━━\u001b[0m\u001b[37m\u001b[0m \u001b[1m7s\u001b[0m 2ms/step - loss: 323.8029 - val_loss: 508.9087\n",
      "Epoch 9/15\n",
      "\u001b[1m3002/3002\u001b[0m \u001b[32m━━━━━━━━━━━━━━━━━━━━\u001b[0m\u001b[37m\u001b[0m \u001b[1m7s\u001b[0m 2ms/step - loss: 353.2958 - val_loss: 211.9337\n",
      "Epoch 10/15\n",
      "\u001b[1m3002/3002\u001b[0m \u001b[32m━━━━━━━━━━━━━━━━━━━━\u001b[0m\u001b[37m\u001b[0m \u001b[1m7s\u001b[0m 2ms/step - loss: 275.5627 - val_loss: 197.4009\n",
      "Epoch 11/15\n",
      "\u001b[1m3002/3002\u001b[0m \u001b[32m━━━━━━━━━━━━━━━━━━━━\u001b[0m\u001b[37m\u001b[0m \u001b[1m7s\u001b[0m 2ms/step - loss: 236.3021 - val_loss: 294.4904\n",
      "Epoch 12/15\n",
      "\u001b[1m3002/3002\u001b[0m \u001b[32m━━━━━━━━━━━━━━━━━━━━\u001b[0m\u001b[37m\u001b[0m \u001b[1m7s\u001b[0m 2ms/step - loss: 300.0107 - val_loss: 305.1371\n",
      "Epoch 13/15\n",
      "\u001b[1m3002/3002\u001b[0m \u001b[32m━━━━━━━━━━━━━━━━━━━━\u001b[0m\u001b[37m\u001b[0m \u001b[1m7s\u001b[0m 2ms/step - loss: 817.2425 - val_loss: 260.1078\n",
      "Epoch 14/15\n",
      "\u001b[1m3002/3002\u001b[0m \u001b[32m━━━━━━━━━━━━━━━━━━━━\u001b[0m\u001b[37m\u001b[0m \u001b[1m7s\u001b[0m 2ms/step - loss: 374.2163 - val_loss: 2891.5447\n",
      "Epoch 15/15\n",
      "\u001b[1m3002/3002\u001b[0m \u001b[32m━━━━━━━━━━━━━━━━━━━━\u001b[0m\u001b[37m\u001b[0m \u001b[1m7s\u001b[0m 2ms/step - loss: 334.3000 - val_loss: 221.6066\n",
      "\u001b[1m7504/7504\u001b[0m \u001b[32m━━━━━━━━━━━━━━━━━━━━\u001b[0m\u001b[37m\u001b[0m \u001b[1m7s\u001b[0m 940us/step\n"
     ]
    }
   ],
   "source": [
    "# Train the LSTM model\n",
    "model = Sequential()\n",
    "model.add(LSTM(units=50, activation='relu', input_shape=(1,1)))\n",
    "model.add(Dense(units=1))\n",
    "model.compile(optimizer='adam', loss='mean_squared_error')\n",
    "\n",
    "model.fit(prices[:int(prices.index.size/2)][[str(i) for i in range(10)]].values, prices[:int(prices.index.size/2)][[\"y\"]].values, epochs=15, batch_size=32, validation_split=0.2) \n",
    "prices[\"lstm\"] = [x[0] for x in model.predict(prices[[str(i) for i in range(10)]].values)]\n",
    "prices[\"lstm\"] = (prices[\"lstm\"] - prices[\"adjclose\"]) / prices[\"adjclose\"]"
   ]
  },
  {
   "cell_type": "code",
   "execution_count": 7,
   "id": "2f8f4aae-665e-4a72-a787-5ae1a69f8a13",
   "metadata": {},
   "outputs": [],
   "source": [
    "factors = [\n",
    "           \"average_return\"\n",
    "            ,\"prev_return\"\n",
    "           ,\"coev\",\n",
    "            \"bollinger\"\n",
    "            ,\"rsi\",\"signal_line\",\"ema_20\",\"stochastic\",\"atr\",\"return_to_risk\",\"obv\",\"cmf\",\"williams_r\",\"cci\",\"force_index\",\"elder_impulse\"\n",
    "            ,\"keltner_upper\",\"keltner_lower\",\"senkou_span_a\",\"senkou_span_b\",\"garch\",\"garch_var\",\"garch_rrr\",\"arima_forecast\"\n",
    "          ]     "
   ]
  },
  {
   "cell_type": "code",
   "execution_count": 8,
   "id": "e84935fd-0dea-47cf-973a-818545047fb1",
   "metadata": {},
   "outputs": [],
   "source": [
    "# model = XGBRegressor()\n",
    "# model.fit(prices[:int(prices.index.size/2)][factors].values, prices[:int(prices.index.size/2)][[\"y\"]].values) \n",
    "# prices[\"xgb\"] = model.predict(prices[factors])\n",
    "# prices[\"xgb\"] = (prices[\"xgb\"] - prices[\"adjclose\"]) / prices[\"adjclose\"]\n",
    "# factors.append(\"xgb\")\n",
    "# factors.append(\"lstm\")"
   ]
  },
  {
   "cell_type": "code",
   "execution_count": 9,
   "id": "b9a100e5-ca5f-4090-9621-b576e6910443",
   "metadata": {},
   "outputs": [],
   "source": [
    "prices = prices[int(prices.index.size/2):]"
   ]
  },
  {
   "cell_type": "code",
   "execution_count": null,
   "id": "67c2f0f7-6d84-4d5f-ad23-67a8f3155851",
   "metadata": {
    "scrolled": true
   },
   "outputs": [
    {
     "name": "stderr",
     "output_type": "stream",
     "text": [
      " 21%|███████████████████████████████████████████████████▉                                                                                                                                                                                                     | 5/24 [00:02<00:10,  1.76it/s]"
     ]
    }
   ],
   "source": [
    "analysis = []   \n",
    "positions = 1\n",
    "for factor in tqdm(factors):\n",
    "    for ascending in [True,False]:\n",
    "        default_portfolio = [{\"ticker\":\"\",\"adjclose\":0,\"quantity\":0,\"buy_price\":0,\"position\":i,\"cash\":10000} for i in range(positions)]\n",
    "        portfolio = [position for position in default_portfolio]\n",
    "        portfolios = []\n",
    "        for date in list(prices[\"date\"].unique()):\n",
    "            try:\n",
    "                today = prices[prices[\"date\"]==date]\n",
    "                pv = sum([asset[\"quantity\"] * asset[\"adjclose\"] + asset[\"cash\"] for asset in portfolio])\n",
    "                for i in range(positions):\n",
    "                    asset = portfolio[i]\n",
    "                    rec = today.sort_values(factor,ascending=ascending).iloc[i]\n",
    "                    if asset[\"ticker\"] == \"\" and asset[\"cash\"] >=  rec[\"adjclose\"]:\n",
    "                        asset[\"ticker\"] = rec[\"ticker\"]\n",
    "                        asset[\"adjclose\"] = rec[\"adjclose\"]\n",
    "                        asset[\"quantity\"] = asset[\"cash\"] / rec[\"adjclose\"]\n",
    "                        asset[\"buy_price\"] = rec[\"adjclose\"]\n",
    "                        asset[\"date\"] = date\n",
    "                        asset[\"cash\"] = 0\n",
    "                        portfolios.append(asset.copy())\n",
    "                    else:\n",
    "                        ## update\n",
    "                        updates = today[today[\"ticker\"]==asset[\"ticker\"]].iloc[0]\n",
    "                        asset[\"adjclose\"] = updates[\"adjclose\"]\n",
    "                        asset[\"date\"] = date\n",
    "                        if rec[\"ticker\"] != asset[\"ticker\"]:\n",
    "                            asset[\"cash\"] = asset[\"adjclose\"] * asset[\"quantity\"]\n",
    "                            asset[\"ticker\"] = rec[\"ticker\"]\n",
    "                            asset[\"adjclose\"] = rec[\"adjclose\"]\n",
    "                            asset[\"quantity\"] = asset[\"cash\"] / rec[\"adjclose\"]\n",
    "                            asset[\"buy_price\"] = rec[\"adjclose\"]\n",
    "                            asset[\"date\"] = date\n",
    "                            asset[\"cash\"] = 0\n",
    "                            portfolios.append(asset.copy())\n",
    "                        else:\n",
    "                            portfolios.append(asset.copy())\n",
    "            except Exception as e:\n",
    "                print(str(e))\n",
    "                continue\n",
    "        states = pd.DataFrame(portfolios)\n",
    "        states[\"pv\"] = states[\"adjclose\"] * states[\"quantity\"]\n",
    "        states = states.groupby(\"date\").agg({\"pv\":\"sum\"}).reset_index()\n",
    "        states[\"return\"] = states[\"pv\"].pct_change(5) * 100\n",
    "        risk = abs(mean([x for x in states[\"return\"] if x < 0]))\n",
    "        analysis.append({\"factor\":factor,\"ascending\":ascending,\"return\":states.iloc[-1][\"pv\"],\"risk\":risk})"
   ]
  },
  {
   "cell_type": "code",
   "execution_count": null,
   "id": "4515ff52-38e3-48b1-8a0f-e0fa050dce8f",
   "metadata": {},
   "outputs": [],
   "source": [
    "a = pd.DataFrame(analysis)\n",
    "a[\"rr\"] = a[\"return\"] / a[\"risk\"]\n",
    "a.sort_values(\"return\",ascending=False)"
   ]
  },
  {
   "cell_type": "code",
   "execution_count": null,
   "id": "bace7dde-bb64-4a84-8fdc-284a911790a5",
   "metadata": {},
   "outputs": [],
   "source": [
    "plt.scatter(a[\"risk\"].values,a[\"return\"].values)\n",
    "plt.show()"
   ]
  },
  {
   "cell_type": "code",
   "execution_count": null,
   "id": "0802025a-de17-4576-a906-e60a057b4abf",
   "metadata": {},
   "outputs": [],
   "source": [
    "plt.plot(states[\"date\"].values,states[\"pv\"].values)\n",
    "plt.show()"
   ]
  }
 ],
 "metadata": {
  "kernelspec": {
   "display_name": "Python 3 (ipykernel)",
   "language": "python",
   "name": "python3"
  },
  "language_info": {
   "codemirror_mode": {
    "name": "ipython",
    "version": 3
   },
   "file_extension": ".py",
   "mimetype": "text/x-python",
   "name": "python",
   "nbconvert_exporter": "python",
   "pygments_lexer": "ipython3",
   "version": "3.11.9"
  }
 },
 "nbformat": 4,
 "nbformat_minor": 5
}
