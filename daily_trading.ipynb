{
 "cells": [
  {
   "cell_type": "code",
   "execution_count": 1,
   "id": "cd3cabbf-ff09-45ae-bd1b-b040c2c3feaf",
   "metadata": {},
   "outputs": [],
   "source": [
    "import pandas as pd\n",
    "from processor.processor import Processor as processor\n",
    "from database.adatabase import ADatabase\n",
    "import matplotlib.pyplot as plt\n",
    "from tqdm import tqdm\n",
    "from xgboost import XGBRegressor\n",
    "import warnings\n",
    "warnings.simplefilter(action=\"ignore\")\n",
    "import numpy as np\n",
    "from datetime import datetime\n",
    "from arch import arch_model\n",
    "from statsmodels.tsa.arima.model import ARIMA\n",
    "import tensorflow as tf\n",
    "from tensorflow.keras.models import Sequential\n",
    "from tensorflow.keras.layers import LSTM, Dense\n",
    "from statistics import mean"
   ]
  },
  {
   "cell_type": "code",
   "execution_count": 2,
   "id": "f4139615-544b-40e2-b0d9-f22b1cff9a39",
   "metadata": {},
   "outputs": [],
   "source": [
    "sp500 = pd.read_html(\"https://en.wikipedia.org/wiki/Russell_1000_Index\")[2].rename(columns={\"Symbol\":\"ticker\"})"
   ]
  },
  {
   "cell_type": "code",
   "execution_count": 3,
   "id": "de90a0c6-75e0-41ea-96cb-a198580e351e",
   "metadata": {},
   "outputs": [],
   "source": [
    "def calculate_technical_indicators(price):\n",
    "    # Average Return\n",
    "    price[\"average_return\"] = price[\"adjclose\"].pct_change(5).rolling(100).mean()\n",
    "    price[\"prev_return\"] = price[\"adjclose\"].pct_change(5)\n",
    "    \n",
    "    # Coefficient of Variation\n",
    "    price[\"coev\"] = price[\"adjclose\"].rolling(100).std() / price[\"adjclose\"].rolling(100).mean()\n",
    "    price[\"return_to_risk\"] = price[\"prev_return\"] / price[\"coev\"]\n",
    "    \n",
    "    # Bollinger Bands\n",
    "    price[\"bollinger\"] = ((price[\"adjclose\"].rolling(100).mean() - 2 * price[\"adjclose\"].rolling(100).std()) - price[\"adjclose\"]) / price[\"adjclose\"]\n",
    "\n",
    "    # RSI (Relative Strength Index)\n",
    "    delta = price[\"adjclose\"].diff()\n",
    "    gain = (delta.where(delta > 0, 0)).rolling(14).mean()\n",
    "    loss = (-delta.where(delta < 0, 0)).rolling(14).mean()\n",
    "    rs = gain / loss\n",
    "    price[\"rsi\"] = 100 - (100 / (1 + rs))\n",
    "\n",
    "    # MACD (Moving Average Convergence Divergence)\n",
    "    ema_12 = price[\"adjclose\"].ewm(span=12, adjust=False).mean()\n",
    "    ema_26 = price[\"adjclose\"].ewm(span=26, adjust=False).mean()\n",
    "    price[\"macd\"] = ema_12 - ema_26\n",
    "    price[\"signal_line\"] = price[\"macd\"].ewm(span=9, adjust=False).mean()\n",
    "\n",
    "    # EMA (Exponential Moving Average)\n",
    "    price[\"ema_20\"] = price[\"adjclose\"].ewm(span=20, adjust=False).mean()\n",
    "\n",
    "    # ATR (Average True Range)\n",
    "    high_low = price[\"adjhigh\"] - price[\"adjlow\"]\n",
    "    high_close = np.abs(price[\"adjhigh\"] - price[\"adjclose\"].shift())\n",
    "    low_close = np.abs(price[\"adjlow\"] - price[\"adjclose\"].shift())\n",
    "    tr = high_low.combine(high_close, np.maximum).combine(low_close, np.maximum)\n",
    "    price[\"atr\"] = tr.rolling(14).mean()\n",
    "\n",
    "    # Stochastic Oscillator\n",
    "    low_14 = price[\"adjlow\"].rolling(window=14).min()\n",
    "    high_14 = price[\"adjhigh\"].rolling(window=14).max()\n",
    "    price[\"stochastic\"] = (price[\"adjclose\"] - low_14) / (high_14 - low_14) * 100\n",
    "\n",
    "    # On-Balance Volume (OBV)\n",
    "    price[\"obv\"] = (np.sign(price[\"adjclose\"].diff()) * price[\"volume\"]).fillna(0).cumsum()\n",
    "\n",
    "    # Chaikin Money Flow (CMF)\n",
    "    money_flow_multiplier = ((price[\"adjclose\"] - price[\"adjlow\"]) - (price[\"adjhigh\"] - price[\"adjclose\"])) / (price[\"adjhigh\"] - price[\"adjlow\"])\n",
    "    money_flow_volume = money_flow_multiplier * price[\"volume\"]\n",
    "    price[\"cmf\"] = money_flow_volume.rolling(window=20).sum() / price[\"volume\"].rolling(window=20).sum()\n",
    "\n",
    "    # Williams %R\n",
    "    price[\"williams_r\"] = (price[\"adjhigh\"].rolling(14).max() - price[\"adjclose\"]) / (price[\"adjhigh\"].rolling(14).max() - price[\"adjlow\"].rolling(14).min()) * -100\n",
    "\n",
    "    # Commodity Channel Index (CCI)\n",
    "    typical_price = (price[\"adjhigh\"] + price[\"adjlow\"] + price[\"adjclose\"]) / 3\n",
    "    price[\"cci\"] = (typical_price - typical_price.rolling(20).mean()) / (0.015 * typical_price.rolling(20).std())\n",
    "\n",
    "    # Ichimoku Cloud\n",
    "    price[\"tenkan_sen\"] = (price[\"adjhigh\"].rolling(9).max() + price[\"adjlow\"].rolling(9).min()) / 2\n",
    "    price[\"kijun_sen\"] = (price[\"adjhigh\"].rolling(26).max() + price[\"adjlow\"].rolling(26).min()) / 2\n",
    "    price[\"senkou_span_a\"] = (price[\"tenkan_sen\"] + price[\"kijun_sen\"]) / 2\n",
    "    price[\"senkou_span_b\"] = (price[\"adjhigh\"].rolling(52).max() + price[\"adjlow\"].rolling(52).min()) / 2\n",
    "    \n",
    "    # Force Index\n",
    "    price[\"force_index\"] = price[\"adjclose\"].diff() * price[\"volume\"]\n",
    "    \n",
    "    # Elder's Impulse System\n",
    "    price[\"elder_impulse\"] = np.where((price[\"adjclose\"] > price[\"adjclose\"].shift()) & (price[\"volume\"] > price[\"volume\"].shift()), 1, 0)\n",
    "    \n",
    "    # Keltner Channel\n",
    "    price[\"keltner_upper\"] = price[\"adjclose\"].rolling(20).mean() + 2 * price[\"adjclose\"].rolling(20).std()\n",
    "    price[\"keltner_lower\"] = price[\"adjclose\"].rolling(20).mean() - 2 * price[\"adjclose\"].rolling(20).std()\n",
    "    \n",
    "    return price\n"
   ]
  },
  {
   "cell_type": "code",
   "execution_count": 4,
   "id": "dd44e8ce-d237-4f49-abb7-1f983b30919e",
   "metadata": {},
   "outputs": [
    {
     "name": "stderr",
     "output_type": "stream",
     "text": [
      "  0%|▍                                                                                                                                                                                                                                       | 2/1009 [00:00<01:06, 15.12it/s]"
     ]
    },
    {
     "name": "stdout",
     "output_type": "stream",
     "text": [
      "TXG 'date'\n"
     ]
    },
    {
     "name": "stderr",
     "output_type": "stream",
     "text": [
      "  1%|█▍                                                                                                                                                                                                                                      | 6/1009 [00:00<01:20, 12.49it/s]"
     ]
    },
    {
     "name": "stdout",
     "output_type": "stream",
     "text": [
      "AAON 'date'\n"
     ]
    },
    {
     "name": "stderr",
     "output_type": "stream",
     "text": [
      "  1%|█▊                                                                                                                                                                                                                                      | 8/1009 [00:00<01:12, 13.75it/s]"
     ]
    },
    {
     "name": "stdout",
     "output_type": "stream",
     "text": [
      "ACHC 'date'\n",
      "AYI 'date'\n"
     ]
    },
    {
     "name": "stderr",
     "output_type": "stream",
     "text": [
      "  1%|███▏                                                                                                                                                                                                                                   | 14/1009 [00:00<00:49, 20.11it/s]"
     ]
    },
    {
     "name": "stdout",
     "output_type": "stream",
     "text": [
      "ADT 'date'\n",
      "AAP 'date'\n",
      "WMS 'date'\n",
      "ACM 'date'\n"
     ]
    },
    {
     "name": "stderr",
     "output_type": "stream",
     "text": [
      "  2%|████▌                                                                                                                                                                                                                                  | 20/1009 [00:01<00:45, 21.97it/s]"
     ]
    },
    {
     "name": "stdout",
     "output_type": "stream",
     "text": [
      "AMG 'date'\n",
      "AFRM 'date'\n",
      "AGCO 'date'\n"
     ]
    },
    {
     "name": "stderr",
     "output_type": "stream",
     "text": [
      "  3%|█████▉                                                                                                                                                                                                                                 | 26/1009 [00:01<00:46, 21.04it/s]"
     ]
    },
    {
     "name": "stdout",
     "output_type": "stream",
     "text": [
      "ADC 'date'\n",
      "AGNC 'date'\n",
      "AL 'date'\n"
     ]
    },
    {
     "name": "stderr",
     "output_type": "stream",
     "text": [
      "  3%|██████▋                                                                                                                                                                                                                                | 29/1009 [00:01<00:57, 16.95it/s]"
     ]
    },
    {
     "name": "stdout",
     "output_type": "stream",
     "text": [
      "ALK 'date'\n",
      "ACI 'date'\n",
      "AA 'date'\n"
     ]
    },
    {
     "name": "stderr",
     "output_type": "stream",
     "text": [
      "  4%|████████▏                                                                                                                                                                                                                              | 36/1009 [00:02<01:02, 15.59it/s]"
     ]
    },
    {
     "name": "stdout",
     "output_type": "stream",
     "text": [
      "ALGM 'date'\n",
      "ALSN 'date'\n"
     ]
    },
    {
     "name": "stderr",
     "output_type": "stream",
     "text": [
      "  4%|█████████▍                                                                                                                                                                                                                             | 41/1009 [00:02<00:55, 17.49it/s]"
     ]
    },
    {
     "name": "stdout",
     "output_type": "stream",
     "text": [
      "ALLY 'date'\n",
      "ALNY 'date'\n"
     ]
    },
    {
     "name": "stderr",
     "output_type": "stream",
     "text": [
      "  5%|███████████▏                                                                                                                                                                                                                           | 49/1009 [00:02<00:52, 18.29it/s]"
     ]
    },
    {
     "name": "stdout",
     "output_type": "stream",
     "text": [
      "DOX 'date'\n",
      "AMED 'date'\n",
      "AS 'date'\n"
     ]
    },
    {
     "name": "stderr",
     "output_type": "stream",
     "text": [
      "  5%|████████████▌                                                                                                                                                                                                                          | 55/1009 [00:03<01:05, 14.65it/s]"
     ]
    },
    {
     "name": "stdout",
     "output_type": "stream",
     "text": [
      "AFG 'date'\n",
      "AMH 'date'\n"
     ]
    },
    {
     "name": "stderr",
     "output_type": "stream",
     "text": [
      "  6%|█████████████▌                                                                                                                                                                                                                         | 59/1009 [00:03<01:11, 13.21it/s]"
     ]
    },
    {
     "name": "stdout",
     "output_type": "stream",
     "text": [
      "COLD 'date'\n"
     ]
    },
    {
     "name": "stderr",
     "output_type": "stream",
     "text": [
      "  6%|██████████████▍                                                                                                                                                                                                                        | 63/1009 [00:04<01:18, 12.02it/s]"
     ]
    },
    {
     "name": "stdout",
     "output_type": "stream",
     "text": [
      "AMKR 'date'\n"
     ]
    },
    {
     "name": "stderr",
     "output_type": "stream",
     "text": [
      "  7%|███████████████▎                                                                                                                                                                                                                       | 67/1009 [00:04<01:09, 13.51it/s]"
     ]
    },
    {
     "name": "stdout",
     "output_type": "stream",
     "text": [
      "NLY 'date'\n",
      "AM 'date'\n",
      "AR 'date'\n"
     ]
    },
    {
     "name": "stderr",
     "output_type": "stream",
     "text": [
      "  7%|█████████████████▏                                                                                                                                                                                                                     | 75/1009 [00:04<00:49, 18.90it/s]"
     ]
    },
    {
     "name": "stdout",
     "output_type": "stream",
     "text": [
      "APG 'date'\n",
      "APLS 'date'\n",
      "APO 'date'\n",
      "APPF 'date'\n"
     ]
    },
    {
     "name": "stderr",
     "output_type": "stream",
     "text": [
      "  8%|█████████████████▋                                                                                                                                                                                                                     | 77/1009 [00:04<00:52, 17.89it/s]"
     ]
    },
    {
     "name": "stdout",
     "output_type": "stream",
     "text": [
      "APP 'date'\n",
      "ATR 'date'\n",
      "ARMK 'date'\n"
     ]
    },
    {
     "name": "stderr",
     "output_type": "stream",
     "text": [
      "  9%|███████████████████▉                                                                                                                                                                                                                   | 87/1009 [00:05<00:50, 18.16it/s]"
     ]
    },
    {
     "name": "stdout",
     "output_type": "stream",
     "text": [
      "ARES 'date'\n",
      "AWI 'date'\n",
      "ARW 'date'\n"
     ]
    },
    {
     "name": "stderr",
     "output_type": "stream",
     "text": [
      "  9%|████████████████████▌                                                                                                                                                                                                                  | 90/1009 [00:05<00:47, 19.42it/s]"
     ]
    },
    {
     "name": "stdout",
     "output_type": "stream",
     "text": [
      "ASH 'date'\n",
      "AZPN 'date'\n",
      "AGO 'date'\n",
      "ALAB 'date'\n"
     ]
    },
    {
     "name": "stderr",
     "output_type": "stream",
     "text": [
      " 10%|█████████████████████▉                                                                                                                                                                                                                 | 96/1009 [00:05<00:43, 21.07it/s]"
     ]
    },
    {
     "name": "stdout",
     "output_type": "stream",
     "text": [
      "ATI 'date'\n",
      "TEAM 'date'\n"
     ]
    },
    {
     "name": "stderr",
     "output_type": "stream",
     "text": [
      " 10%|██████████████████████▋                                                                                                                                                                                                                | 99/1009 [00:06<00:53, 17.01it/s]"
     ]
    },
    {
     "name": "stdout",
     "output_type": "stream",
     "text": [
      "AN 'date'\n"
     ]
    },
    {
     "name": "stderr",
     "output_type": "stream",
     "text": [
      " 10%|███████████████████████▋                                                                                                                                                                                                              | 104/1009 [00:06<00:58, 15.55it/s]"
     ]
    },
    {
     "name": "stdout",
     "output_type": "stream",
     "text": [
      "AGR 'date'\n",
      "AVTR 'date'\n",
      "CAR 'date'\n",
      "AVT 'date'\n",
      "AXTA 'date'\n",
      "AXS 'date'\n"
     ]
    },
    {
     "name": "stderr",
     "output_type": "stream",
     "text": [
      " 11%|████████████████████████▊                                                                                                                                                                                                             | 109/1009 [00:06<00:43, 20.86it/s]"
     ]
    },
    {
     "name": "stdout",
     "output_type": "stream",
     "text": [
      "AZEK 'date'\n",
      "AZTA 'date'\n"
     ]
    },
    {
     "name": "stderr",
     "output_type": "stream",
     "text": [
      " 11%|██████████████████████████▍                                                                                                                                                                                                           | 116/1009 [00:07<00:55, 16.22it/s]"
     ]
    },
    {
     "name": "stdout",
     "output_type": "stream",
     "text": [
      "OZK 'date'\n"
     ]
    },
    {
     "name": "stderr",
     "output_type": "stream",
     "text": [
      " 12%|████████████████████████████                                                                                                                                                                                                          | 123/1009 [00:07<00:48, 18.14it/s]"
     ]
    },
    {
     "name": "stdout",
     "output_type": "stream",
     "text": [
      "BRBR 'date'\n",
      "BSY 'date'\n",
      "BRK.B 'date'\n",
      "BERY 'date'\n",
      "BILL 'date'\n"
     ]
    },
    {
     "name": "stderr",
     "output_type": "stream",
     "text": [
      " 13%|█████████████████████████████▊                                                                                                                                                                                                        | 131/1009 [00:08<00:51, 17.06it/s]"
     ]
    },
    {
     "name": "stdout",
     "output_type": "stream",
     "text": [
      "BMRN 'date'\n",
      "BIRK 'date'\n",
      "BJ 'date'\n"
     ]
    },
    {
     "name": "stderr",
     "output_type": "stream",
     "text": [
      " 13%|███████████████████████████████                                                                                                                                                                                                       | 136/1009 [00:08<00:46, 18.62it/s]"
     ]
    },
    {
     "name": "stdout",
     "output_type": "stream",
     "text": [
      "HRB 'date'\n",
      "SQ 'date'\n",
      "OWL 'date'\n"
     ]
    },
    {
     "name": "stderr",
     "output_type": "stream",
     "text": [
      " 14%|███████████████████████████████▉                                                                                                                                                                                                      | 140/1009 [00:08<00:51, 16.97it/s]"
     ]
    },
    {
     "name": "stdout",
     "output_type": "stream",
     "text": [
      "BOKF 'date'\n",
      "BAH 'date'\n"
     ]
    },
    {
     "name": "stderr",
     "output_type": "stream",
     "text": [
      " 14%|████████████████████████████████▊                                                                                                                                                                                                     | 144/1009 [00:08<00:53, 16.15it/s]"
     ]
    },
    {
     "name": "stdout",
     "output_type": "stream",
     "text": [
      "SAM 'date'\n",
      "BYD 'date'\n",
      "BFAM 'date'\n",
      "BHF 'date'\n"
     ]
    },
    {
     "name": "stderr",
     "output_type": "stream",
     "text": [
      " 15%|█████████████████████████████████▉                                                                                                                                                                                                    | 149/1009 [00:09<00:46, 18.41it/s]"
     ]
    },
    {
     "name": "stdout",
     "output_type": "stream",
     "text": [
      "BRX 'date'\n"
     ]
    },
    {
     "name": "stderr",
     "output_type": "stream",
     "text": [
      " 15%|██████████████████████████████████▉                                                                                                                                                                                                   | 153/1009 [00:09<00:50, 17.12it/s]"
     ]
    },
    {
     "name": "stdout",
     "output_type": "stream",
     "text": [
      "BEPC 'date'\n",
      "BF.A 'date'\n",
      "BF.B 'date'\n",
      "BRKR 'date'\n",
      "BC 'date'\n"
     ]
    },
    {
     "name": "stderr",
     "output_type": "stream",
     "text": [
      " 16%|████████████████████████████████████▍                                                                                                                                                                                                 | 160/1009 [00:09<00:38, 21.86it/s]"
     ]
    },
    {
     "name": "stdout",
     "output_type": "stream",
     "text": [
      "BURL 'date'\n",
      "BWXT 'date'\n"
     ]
    },
    {
     "name": "stderr",
     "output_type": "stream",
     "text": [
      " 16%|█████████████████████████████████████▌                                                                                                                                                                                                | 165/1009 [00:10<00:57, 14.63it/s]"
     ]
    },
    {
     "name": "stdout",
     "output_type": "stream",
     "text": [
      "CACI 'date'\n"
     ]
    },
    {
     "name": "stderr",
     "output_type": "stream",
     "text": [
      " 17%|██████████████████████████████████████▉                                                                                                                                                                                               | 171/1009 [00:10<01:02, 13.32it/s]"
     ]
    },
    {
     "name": "stdout",
     "output_type": "stream",
     "text": [
      "CPRI 'date'\n",
      "CSL 'date'\n",
      "CG 'date'\n"
     ]
    },
    {
     "name": "stderr",
     "output_type": "stream",
     "text": [
      " 18%|█████████████████████████████████████████                                                                                                                                                                                             | 180/1009 [00:11<00:48, 17.20it/s]"
     ]
    },
    {
     "name": "stdout",
     "output_type": "stream",
     "text": [
      "CRI 'date'\n",
      "CVNA 'date'\n",
      "CASY 'date'\n"
     ]
    },
    {
     "name": "stderr",
     "output_type": "stream",
     "text": [
      " 18%|█████████████████████████████████████████▍                                                                                                                                                                                            | 182/1009 [00:11<00:46, 17.76it/s]"
     ]
    },
    {
     "name": "stdout",
     "output_type": "stream",
     "text": [
      "CAVA 'date'\n"
     ]
    },
    {
     "name": "stderr",
     "output_type": "stream",
     "text": [
      " 18%|██████████████████████████████████████████▍                                                                                                                                                                                           | 186/1009 [00:11<00:57, 14.22it/s]"
     ]
    },
    {
     "name": "stdout",
     "output_type": "stream",
     "text": [
      "CCCS 'date'\n"
     ]
    },
    {
     "name": "stderr",
     "output_type": "stream",
     "text": [
      " 19%|██████████████████████████████████████████▊                                                                                                                                                                                           | 188/1009 [00:11<00:56, 14.43it/s]"
     ]
    },
    {
     "name": "stdout",
     "output_type": "stream",
     "text": [
      "CELH 'date'\n"
     ]
    },
    {
     "name": "stderr",
     "output_type": "stream",
     "text": [
      " 19%|███████████████████████████████████████████▊                                                                                                                                                                                          | 192/1009 [00:11<01:05, 12.49it/s]"
     ]
    },
    {
     "name": "stdout",
     "output_type": "stream",
     "text": [
      "CERT 'date'\n"
     ]
    },
    {
     "name": "stderr",
     "output_type": "stream",
     "text": [
      " 20%|█████████████████████████████████████████████▎                                                                                                                                                                                        | 199/1009 [00:12<00:45, 17.71it/s]"
     ]
    },
    {
     "name": "stdout",
     "output_type": "stream",
     "text": [
      "CHE 'date'\n",
      "CC 'date'\n",
      "LNG 'date'\n",
      "CHK 'date'\n"
     ]
    },
    {
     "name": "stderr",
     "output_type": "stream",
     "text": [
      " 20%|██████████████████████████████████████████████▌                                                                                                                                                                                       | 204/1009 [00:12<00:51, 15.59it/s]"
     ]
    },
    {
     "name": "stdout",
     "output_type": "stream",
     "text": [
      "CHH 'date'\n",
      "CHRD 'date'\n"
     ]
    },
    {
     "name": "stderr",
     "output_type": "stream",
     "text": [
      " 21%|███████████████████████████████████████████████▍                                                                                                                                                                                      | 208/1009 [00:12<00:52, 15.24it/s]"
     ]
    },
    {
     "name": "stdout",
     "output_type": "stream",
     "text": [
      "CHDN 'date'\n",
      "CIEN 'date'\n"
     ]
    },
    {
     "name": "stderr",
     "output_type": "stream",
     "text": [
      " 21%|████████████████████████████████████████████████▎                                                                                                                                                                                     | 212/1009 [00:13<01:02, 12.71it/s]"
     ]
    },
    {
     "name": "stdout",
     "output_type": "stream",
     "text": [
      "CRUS 'date'\n"
     ]
    },
    {
     "name": "stderr",
     "output_type": "stream",
     "text": [
      " 22%|██████████████████████████████████████████████████▍                                                                                                                                                                                   | 221/1009 [00:13<00:36, 21.68it/s]"
     ]
    },
    {
     "name": "stdout",
     "output_type": "stream",
     "text": [
      "CIVI 'date'\n",
      "CLVT 'date'\n",
      "CLH 'date'\n",
      "CWEN.A 'date'\n",
      "CWEN 'date'\n",
      "CLF 'date'\n",
      "NET 'date'\n"
     ]
    },
    {
     "name": "stderr",
     "output_type": "stream",
     "text": [
      " 22%|███████████████████████████████████████████████████▋                                                                                                                                                                                  | 227/1009 [00:14<00:41, 18.95it/s]"
     ]
    },
    {
     "name": "stdout",
     "output_type": "stream",
     "text": [
      "CNA 'date'\n",
      "CNH 'date'\n",
      "COKE 'date'\n",
      "CGNX 'date'\n"
     ]
    },
    {
     "name": "stderr",
     "output_type": "stream",
     "text": [
      " 23%|█████████████████████████████████████████████████████                                                                                                                                                                                 | 233/1009 [00:14<00:37, 20.77it/s]"
     ]
    },
    {
     "name": "stdout",
     "output_type": "stream",
     "text": [
      "COHR 'date'\n",
      "COIN 'date'\n",
      "COLB 'date'\n",
      "COLM 'date'\n"
     ]
    },
    {
     "name": "stderr",
     "output_type": "stream",
     "text": [
      " 24%|██████████████████████████████████████████████████████▋                                                                                                                                                                               | 240/1009 [00:14<00:32, 23.99it/s]"
     ]
    },
    {
     "name": "stdout",
     "output_type": "stream",
     "text": [
      "CMA 'date'\n",
      "FIX 'date'\n",
      "CBSH 'date'\n",
      "CNXC 'date'\n",
      "CFLT 'date'\n"
     ]
    },
    {
     "name": "stderr",
     "output_type": "stream",
     "text": [
      " 25%|████████████████████████████████████████████████████████▊                                                                                                                                                                             | 249/1009 [00:15<00:50, 15.13it/s]"
     ]
    },
    {
     "name": "stdout",
     "output_type": "stream",
     "text": [
      "CNM 'date'\n"
     ]
    },
    {
     "name": "stderr",
     "output_type": "stream",
     "text": [
      " 26%|████████████████████████████████████████████████████████████▍                                                                                                                                                                         | 265/1009 [00:16<00:32, 22.93it/s]"
     ]
    },
    {
     "name": "stdout",
     "output_type": "stream",
     "text": [
      "COTY 'date'\n",
      "CPNG 'date'\n",
      "CUZ 'date'\n",
      "CR 'date'\n",
      "CXT 'date'\n",
      "CACC 'date'\n",
      "CRH 'date'\n",
      "CROX 'date'\n",
      "CCK 'date'\n"
     ]
    },
    {
     "name": "stderr",
     "output_type": "stream",
     "text": [
      " 27%|█████████████████████████████████████████████████████████████                                                                                                                                                                         | 268/1009 [00:16<00:32, 22.94it/s]"
     ]
    },
    {
     "name": "stdout",
     "output_type": "stream",
     "text": [
      "CUBE 'date'\n",
      "CW 'date'\n"
     ]
    },
    {
     "name": "stderr",
     "output_type": "stream",
     "text": [
      " 27%|███████████████████████████████████████████████████████████████▏                                                                                                                                                                      | 277/1009 [00:17<00:53, 13.73it/s]"
     ]
    },
    {
     "name": "stdout",
     "output_type": "stream",
     "text": [
      "DAR 'date'\n",
      "DDOG 'date'\n"
     ]
    },
    {
     "name": "stderr",
     "output_type": "stream",
     "text": [
      " 28%|████████████████████████████████████████████████████████████████▋                                                                                                                                                                     | 284/1009 [00:17<00:52, 13.90it/s]"
     ]
    },
    {
     "name": "stdout",
     "output_type": "stream",
     "text": [
      "DELL 'date'\n",
      "XRAY 'date'\n"
     ]
    },
    {
     "name": "stderr",
     "output_type": "stream",
     "text": [
      " 29%|█████████████████████████████████████████████████████████████████▋                                                                                                                                                                    | 288/1009 [00:18<00:54, 13.21it/s]"
     ]
    },
    {
     "name": "stdout",
     "output_type": "stream",
     "text": [
      "DKS 'date'\n",
      "DDS 'date'\n"
     ]
    },
    {
     "name": "stderr",
     "output_type": "stream",
     "text": [
      " 29%|██████████████████████████████████████████████████████████████████▊                                                                                                                                                                   | 293/1009 [00:18<00:40, 17.47it/s]"
     ]
    },
    {
     "name": "stdout",
     "output_type": "stream",
     "text": [
      "DOCU 'date'\n",
      "DLB 'date'\n"
     ]
    },
    {
     "name": "stderr",
     "output_type": "stream",
     "text": [
      " 30%|████████████████████████████████████████████████████████████████████▍                                                                                                                                                                 | 300/1009 [00:18<00:43, 16.22it/s]"
     ]
    },
    {
     "name": "stdout",
     "output_type": "stream",
     "text": [
      "DCI 'date'\n",
      "DASH 'date'\n",
      "DV 'date'\n",
      "DOCS 'date'\n",
      "DKNG 'date'\n",
      "DBX 'date'\n",
      "DTM 'date'\n"
     ]
    },
    {
     "name": "stderr",
     "output_type": "stream",
     "text": [
      " 31%|███████████████████████████████████████████████████████████████████████                                                                                                                                                               | 312/1009 [00:19<00:30, 22.65it/s]"
     ]
    },
    {
     "name": "stdout",
     "output_type": "stream",
     "text": [
      "DNB 'date'\n",
      "DUOL 'date'\n",
      "BROS 'date'\n",
      "DXC 'date'\n",
      "DT 'date'\n",
      "ELF 'date'\n",
      "EXP 'date'\n",
      "EWBC 'date'\n",
      "EGP 'date'\n"
     ]
    },
    {
     "name": "stderr",
     "output_type": "stream",
     "text": [
      " 32%|██████████████████████████████████████████████████████████████████████████▎                                                                                                                                                           | 326/1009 [00:20<00:45, 14.88it/s]"
     ]
    },
    {
     "name": "stdout",
     "output_type": "stream",
     "text": [
      "ELAN 'date'\n",
      "ESTC 'date'\n",
      "ESI 'date'\n"
     ]
    },
    {
     "name": "stderr",
     "output_type": "stream",
     "text": [
      " 33%|███████████████████████████████████████████████████████████████████████████▏                                                                                                                                                          | 330/1009 [00:20<00:45, 14.93it/s]"
     ]
    },
    {
     "name": "stdout",
     "output_type": "stream",
     "text": [
      "EME 'date'\n",
      "EHC 'date'\n",
      "ENOV 'date'\n"
     ]
    },
    {
     "name": "stderr",
     "output_type": "stream",
     "text": [
      " 33%|████████████████████████████████████████████████████████████████████████████▎                                                                                                                                                         | 335/1009 [00:20<00:38, 17.55it/s]"
     ]
    },
    {
     "name": "stdout",
     "output_type": "stream",
     "text": [
      "ENTG 'date'\n",
      "NVST 'date'\n"
     ]
    },
    {
     "name": "stderr",
     "output_type": "stream",
     "text": [
      " 34%|█████████████████████████████████████████████████████████████████████████████▌                                                                                                                                                        | 340/1009 [00:21<00:42, 15.63it/s]"
     ]
    },
    {
     "name": "stdout",
     "output_type": "stream",
     "text": [
      "EPR 'date'\n"
     ]
    },
    {
     "name": "stderr",
     "output_type": "stream",
     "text": [
      " 34%|██████████████████████████████████████████████████████████████████████████████▋                                                                                                                                                       | 345/1009 [00:21<00:46, 14.39it/s]"
     ]
    },
    {
     "name": "stdout",
     "output_type": "stream",
     "text": [
      "EQH 'date'\n",
      "ELS 'date'\n",
      "ESAB 'date'\n",
      "WTRG 'date'\n"
     ]
    },
    {
     "name": "stderr",
     "output_type": "stream",
     "text": [
      " 35%|████████████████████████████████████████████████████████████████████████████████▍                                                                                                                                                     | 353/1009 [00:21<00:40, 16.09it/s]"
     ]
    },
    {
     "name": "stdout",
     "output_type": "stream",
     "text": [
      "EEFT 'date'\n",
      "EVR 'date'\n"
     ]
    },
    {
     "name": "stderr",
     "output_type": "stream",
     "text": [
      " 35%|█████████████████████████████████████████████████████████████████████████████████▌                                                                                                                                                    | 358/1009 [00:22<00:39, 16.36it/s]"
     ]
    },
    {
     "name": "stdout",
     "output_type": "stream",
     "text": [
      "EXAS 'date'\n",
      "EXEL 'date'\n"
     ]
    },
    {
     "name": "stderr",
     "output_type": "stream",
     "text": [
      " 37%|████████████████████████████████████████████████████████████████████████████████████▌                                                                                                                                                 | 371/1009 [00:23<00:55, 11.46it/s]"
     ]
    },
    {
     "name": "stdout",
     "output_type": "stream",
     "text": [
      "FERG 'date'\n",
      "FNF 'date'\n"
     ]
    },
    {
     "name": "stderr",
     "output_type": "stream",
     "text": [
      " 37%|██████████████████████████████████████████████████████████████████████████████████████▏                                                                                                                                               | 378/1009 [00:23<00:34, 18.40it/s]"
     ]
    },
    {
     "name": "stdout",
     "output_type": "stream",
     "text": [
      "FAF 'date'\n",
      "FCNCA 'date'\n",
      "FHB 'date'\n",
      "FHN 'date'\n",
      "FR 'date'\n"
     ]
    },
    {
     "name": "stderr",
     "output_type": "stream",
     "text": [
      " 38%|███████████████████████████████████████████████████████████████████████████████████████▉                                                                                                                                              | 386/1009 [00:24<00:30, 20.39it/s]"
     ]
    },
    {
     "name": "stdout",
     "output_type": "stream",
     "text": [
      "FIVE 'date'\n",
      "FIVN 'date'\n",
      "FND 'date'\n",
      "FLO 'date'\n",
      "FLS 'date'\n",
      "FNB 'date'\n"
     ]
    },
    {
     "name": "stderr",
     "output_type": "stream",
     "text": [
      " 39%|█████████████████████████████████████████████████████████████████████████████████████████▌                                                                                                                                            | 393/1009 [00:24<00:29, 21.18it/s]"
     ]
    },
    {
     "name": "stdout",
     "output_type": "stream",
     "text": [
      "FTRE 'date'\n",
      "FBIN 'date'\n"
     ]
    },
    {
     "name": "stderr",
     "output_type": "stream",
     "text": [
      " 40%|████████████████████████████████████████████████████████████████████████████████████████████                                                                                                                                          | 404/1009 [00:25<00:24, 24.84it/s]"
     ]
    },
    {
     "name": "stdout",
     "output_type": "stream",
     "text": [
      "FRPT 'date'\n",
      "FYBR 'date'\n",
      "CFR 'date'\n",
      "FCN 'date'\n",
      "GME 'date'\n",
      "GLPI 'date'\n",
      "GAP 'date'\n"
     ]
    },
    {
     "name": "stderr",
     "output_type": "stream",
     "text": [
      " 40%|█████████████████████████████████████████████████████████████████████████████████████████████                                                                                                                                         | 408/1009 [00:25<00:29, 20.61it/s]"
     ]
    },
    {
     "name": "stdout",
     "output_type": "stream",
     "text": [
      "GTES 'date'\n"
     ]
    },
    {
     "name": "stderr",
     "output_type": "stream",
     "text": [
      " 41%|███████████████████████████████████████████████████████████████████████████████████████████████                                                                                                                                       | 417/1009 [00:26<00:38, 15.54it/s]"
     ]
    },
    {
     "name": "stdout",
     "output_type": "stream",
     "text": [
      "G 'date'\n",
      "GNTX 'date'\n"
     ]
    },
    {
     "name": "stderr",
     "output_type": "stream",
     "text": [
      " 42%|███████████████████████████████████████████████████████████████████████████████████████████████▉                                                                                                                                      | 421/1009 [00:26<00:38, 15.33it/s]"
     ]
    },
    {
     "name": "stdout",
     "output_type": "stream",
     "text": [
      "GTLB 'date'\n",
      "GFS 'date'\n",
      "GLOB 'date'\n"
     ]
    },
    {
     "name": "stderr",
     "output_type": "stream",
     "text": [
      " 42%|█████████████████████████████████████████████████████████████████████████████████████████████████                                                                                                                                     | 426/1009 [00:26<00:38, 15.19it/s]"
     ]
    },
    {
     "name": "stdout",
     "output_type": "stream",
     "text": [
      "GMED 'date'\n"
     ]
    },
    {
     "name": "stderr",
     "output_type": "stream",
     "text": [
      " 43%|██████████████████████████████████████████████████████████████████████████████████████████████████▉                                                                                                                                   | 434/1009 [00:26<00:22, 25.91it/s]"
     ]
    },
    {
     "name": "stdout",
     "output_type": "stream",
     "text": [
      "GGG 'date'\n",
      "GRAL 'date'\n",
      "LOPE 'date'\n",
      "GPK 'date'\n",
      "GO 'date'\n",
      "GWRE 'date'\n",
      "GXO 'date'\n",
      "THG 'date'\n",
      "HOG 'date'\n"
     ]
    },
    {
     "name": "stderr",
     "output_type": "stream",
     "text": [
      " 44%|████████████████████████████████████████████████████████████████████████████████████████████████████▎                                                                                                                                 | 440/1009 [00:27<00:23, 24.38it/s]"
     ]
    },
    {
     "name": "stdout",
     "output_type": "stream",
     "text": [
      "HCP 'date'\n",
      "HAYW 'date'\n",
      "HR 'date'\n"
     ]
    },
    {
     "name": "stderr",
     "output_type": "stream",
     "text": [
      " 44%|█████████████████████████████████████████████████████████████████████████████████████████████████████▋                                                                                                                                | 446/1009 [00:27<00:27, 20.53it/s]"
     ]
    },
    {
     "name": "stdout",
     "output_type": "stream",
     "text": [
      "HEI.A 'date'\n",
      "HEI 'date'\n"
     ]
    },
    {
     "name": "stderr",
     "output_type": "stream",
     "text": [
      " 44%|██████████████████████████████████████████████████████████████████████████████████████████████████████▎                                                                                                                               | 449/1009 [00:27<00:36, 15.26it/s]"
     ]
    },
    {
     "name": "stdout",
     "output_type": "stream",
     "text": [
      "HXL 'date'\n",
      "DINO 'date'\n",
      "HIW 'date'\n"
     ]
    },
    {
     "name": "stderr",
     "output_type": "stream",
     "text": [
      " 46%|█████████████████████████████████████████████████████████████████████████████████████████████████████████                                                                                                                             | 461/1009 [00:28<00:39, 13.85it/s]"
     ]
    },
    {
     "name": "stdout",
     "output_type": "stream",
     "text": [
      "HLI 'date'\n",
      "HHH 'date'\n"
     ]
    },
    {
     "name": "stderr",
     "output_type": "stream",
     "text": [
      " 46%|█████████████████████████████████████████████████████████████████████████████████████████████████████████▉                                                                                                                            | 465/1009 [00:29<00:41, 13.21it/s]"
     ]
    },
    {
     "name": "stdout",
     "output_type": "stream",
     "text": [
      "HUBS 'date'\n"
     ]
    },
    {
     "name": "stderr",
     "output_type": "stream",
     "text": [
      " 47%|███████████████████████████████████████████████████████████████████████████████████████████████████████████▎                                                                                                                          | 471/1009 [00:29<00:34, 15.82it/s]"
     ]
    },
    {
     "name": "stdout",
     "output_type": "stream",
     "text": [
      "HUN 'date'\n",
      "H 'date'\n",
      "IAC 'date'\n",
      "IDA 'date'\n"
     ]
    },
    {
     "name": "stderr",
     "output_type": "stream",
     "text": [
      " 47%|████████████████████████████████████████████████████████████████████████████████████████████████████████████▋                                                                                                                         | 477/1009 [00:29<00:40, 13.06it/s]"
     ]
    },
    {
     "name": "stdout",
     "output_type": "stream",
     "text": [
      "ILMN 'date'\n",
      "INFA 'date'\n",
      "INGR 'date'\n",
      "INSP 'date'\n"
     ]
    },
    {
     "name": "stderr",
     "output_type": "stream",
     "text": [
      " 48%|██████████████████████████████████████████████████████████████████████████████████████████████████████████████▎                                                                                                                       | 484/1009 [00:30<00:31, 16.93it/s]"
     ]
    },
    {
     "name": "stdout",
     "output_type": "stream",
     "text": [
      "IBKR 'date'\n"
     ]
    },
    {
     "name": "stderr",
     "output_type": "stream",
     "text": [
      " 49%|███████████████████████████████████████████████████████████████████████████████████████████████████████████████▋                                                                                                                      | 490/1009 [00:30<00:45, 11.53it/s]"
     ]
    },
    {
     "name": "stdout",
     "output_type": "stream",
     "text": [
      "ITCI 'date'\n"
     ]
    },
    {
     "name": "stderr",
     "output_type": "stream",
     "text": [
      " 49%|█████████████████████████████████████████████████████████████████████████████████████████████████████████████████▌                                                                                                                    | 498/1009 [00:31<00:36, 14.18it/s]"
     ]
    },
    {
     "name": "stdout",
     "output_type": "stream",
     "text": [
      "IONS 'date'\n",
      "IPGP 'date'\n",
      "IRDM 'date'\n"
     ]
    },
    {
     "name": "stderr",
     "output_type": "stream",
     "text": [
      " 50%|█████████████████████████████████████████████████████████████████████████████████████████████████████████████████▉                                                                                                                    | 500/1009 [00:31<00:35, 14.36it/s]"
     ]
    },
    {
     "name": "stdout",
     "output_type": "stream",
     "text": [
      "ITT 'date'\n"
     ]
    },
    {
     "name": "stderr",
     "output_type": "stream",
     "text": [
      " 50%|██████████████████████████████████████████████████████████████████████████████████████████████████████████████████▉                                                                                                                   | 504/1009 [00:31<00:34, 14.75it/s]"
     ]
    },
    {
     "name": "stdout",
     "output_type": "stream",
     "text": [
      "JHG 'date'\n",
      "JAZZ 'date'\n",
      "JEF 'date'\n"
     ]
    },
    {
     "name": "stderr",
     "output_type": "stream",
     "text": [
      " 50%|███████████████████████████████████████████████████████████████████████████████████████████████████████████████████▊                                                                                                                  | 508/1009 [00:32<00:33, 14.92it/s]"
     ]
    },
    {
     "name": "stdout",
     "output_type": "stream",
     "text": [
      "JLL 'date'\n"
     ]
    },
    {
     "name": "stderr",
     "output_type": "stream",
     "text": [
      " 51%|████████████████████████████████████████████████████████████████████████████████████████████████████████████████████▋                                                                                                                 | 512/1009 [00:32<00:39, 12.49it/s]"
     ]
    },
    {
     "name": "stdout",
     "output_type": "stream",
     "text": [
      "KBR 'date'\n",
      "KMPR 'date'\n"
     ]
    },
    {
     "name": "stderr",
     "output_type": "stream",
     "text": [
      " 51%|██████████████████████████████████████████████████████████████████████████████████████████████████████████████████████▎                                                                                                               | 519/1009 [00:32<00:35, 13.75it/s]"
     ]
    },
    {
     "name": "stdout",
     "output_type": "stream",
     "text": [
      "KRC 'date'\n"
     ]
    },
    {
     "name": "stderr",
     "output_type": "stream",
     "text": [
      " 52%|███████████████████████████████████████████████████████████████████████████████████████████████████████████████████████▍                                                                                                              | 524/1009 [00:33<00:31, 15.25it/s]"
     ]
    },
    {
     "name": "stdout",
     "output_type": "stream",
     "text": [
      "KNSL 'date'\n",
      "KEX 'date'\n"
     ]
    },
    {
     "name": "stderr",
     "output_type": "stream",
     "text": [
      " 52%|████████████████████████████████████████████████████████████████████████████████████████████████████████████████████████▌                                                                                                             | 529/1009 [00:33<00:31, 15.10it/s]"
     ]
    },
    {
     "name": "stdout",
     "output_type": "stream",
     "text": [
      "KNX 'date'\n",
      "KSS 'date'\n"
     ]
    },
    {
     "name": "stderr",
     "output_type": "stream",
     "text": [
      " 53%|█████████████████████████████████████████████████████████████████████████████████████████████████████████████████████████                                                                                                             | 531/1009 [00:33<00:31, 15.23it/s]"
     ]
    },
    {
     "name": "stdout",
     "output_type": "stream",
     "text": [
      "KD 'date'\n"
     ]
    },
    {
     "name": "stderr",
     "output_type": "stream",
     "text": [
      " 53%|█████████████████████████████████████████████████████████████████████████████████████████████████████████████████████████▍                                                                                                            | 533/1009 [00:34<00:39, 12.07it/s]"
     ]
    },
    {
     "name": "stdout",
     "output_type": "stream",
     "text": [
      "LAMR 'date'\n",
      "LSTR 'date'\n"
     ]
    },
    {
     "name": "stderr",
     "output_type": "stream",
     "text": [
      " 54%|███████████████████████████████████████████████████████████████████████████████████████████████████████████████████████████▌                                                                                                          | 542/1009 [00:34<00:22, 20.56it/s]"
     ]
    },
    {
     "name": "stdout",
     "output_type": "stream",
     "text": [
      "LSCC 'date'\n",
      "LAZ 'date'\n",
      "LEA 'date'\n",
      "LEG 'date'\n"
     ]
    },
    {
     "name": "stderr",
     "output_type": "stream",
     "text": [
      " 55%|██████████████████████████████████████████████████████████████████████████████████████████████████████████████████████████████▉                                                                                                       | 557/1009 [00:34<00:11, 39.52it/s]"
     ]
    },
    {
     "name": "stdout",
     "output_type": "stream",
     "text": [
      "LEN.B 'date'\n",
      "LII 'date'\n",
      "LBRDA 'date'\n",
      "LBRDK 'date'\n",
      "LBTYA 'date'\n",
      "LBTYK 'date'\n",
      "FWONA 'date'\n",
      "FWONK 'date'\n",
      "LLYVA 'date'\n",
      "LLYVK 'date'\n",
      "LSXMA 'date'\n",
      "LSXMK 'date'\n",
      "LNW 'date'\n",
      "LECO 'date'\n",
      "LNC 'date'\n",
      "LAD 'date'\n",
      "LFUS 'date'\n"
     ]
    },
    {
     "name": "stderr",
     "output_type": "stream",
     "text": [
      " 56%|████████████████████████████████████████████████████████████████████████████████████████████████████████████████████████████████▎                                                                                                     | 563/1009 [00:34<00:11, 37.99it/s]"
     ]
    },
    {
     "name": "stdout",
     "output_type": "stream",
     "text": [
      "LOAR 'date'\n"
     ]
    },
    {
     "name": "stderr",
     "output_type": "stream",
     "text": [
      " 56%|█████████████████████████████████████████████████████████████████████████████████████████████████████████████████████████████████▍                                                                                                    | 568/1009 [00:35<00:17, 25.15it/s]"
     ]
    },
    {
     "name": "stdout",
     "output_type": "stream",
     "text": [
      "LPX 'date'\n",
      "LPLA 'date'\n",
      "LCID 'date'\n"
     ]
    },
    {
     "name": "stderr",
     "output_type": "stream",
     "text": [
      " 57%|██████████████████████████████████████████████████████████████████████████████████████████████████████████████████████████████████▍                                                                                                   | 572/1009 [00:35<00:20, 21.72it/s]"
     ]
    },
    {
     "name": "stdout",
     "output_type": "stream",
     "text": [
      "LITE 'date'\n",
      "LYFT 'date'\n"
     ]
    },
    {
     "name": "stderr",
     "output_type": "stream",
     "text": [
      " 58%|████████████████████████████████████████████████████████████████████████████████████████████████████████████████████████████████████▉                                                                                                 | 583/1009 [00:35<00:15, 26.78it/s]"
     ]
    },
    {
     "name": "stdout",
     "output_type": "stream",
     "text": [
      "MTSI 'date'\n",
      "M 'date'\n",
      "MSGS 'date'\n",
      "MANH 'date'\n",
      "MAN 'date'\n",
      "CART 'date'\n",
      "MKL 'date'\n"
     ]
    },
    {
     "name": "stderr",
     "output_type": "stream",
     "text": [
      " 58%|█████████████████████████████████████████████████████████████████████████████████████████████████████████████████████████████████████▊                                                                                                | 587/1009 [00:36<00:20, 20.35it/s]"
     ]
    },
    {
     "name": "stdout",
     "output_type": "stream",
     "text": [
      "VAC 'date'\n"
     ]
    },
    {
     "name": "stderr",
     "output_type": "stream",
     "text": [
      " 59%|███████████████████████████████████████████████████████████████████████████████████████████████████████████████████████████████████████▏                                                                                              | 593/1009 [00:36<00:22, 18.41it/s]"
     ]
    },
    {
     "name": "stdout",
     "output_type": "stream",
     "text": [
      "MRVL 'date'\n",
      "MASI 'date'\n",
      "MTZ 'date'\n"
     ]
    },
    {
     "name": "stderr",
     "output_type": "stream",
     "text": [
      " 59%|████████████████████████████████████████████████████████████████████████████████████████████████████████████████████████████████████████▌                                                                                             | 599/1009 [00:36<00:22, 18.44it/s]"
     ]
    },
    {
     "name": "stdout",
     "output_type": "stream",
     "text": [
      "MTDR 'date'\n",
      "MAT 'date'\n"
     ]
    },
    {
     "name": "stderr",
     "output_type": "stream",
     "text": [
      " 60%|█████████████████████████████████████████████████████████████████████████████████████████████████████████████████████████████████████████▉                                                                                            | 605/1009 [00:37<00:23, 17.33it/s]"
     ]
    },
    {
     "name": "stdout",
     "output_type": "stream",
     "text": [
      "MDU 'date'\n",
      "MPW 'date'\n",
      "MEDP 'date'\n"
     ]
    },
    {
     "name": "stderr",
     "output_type": "stream",
     "text": [
      " 61%|███████████████████████████████████████████████████████████████████████████████████████████████████████████████████████████████████████████▎                                                                                          | 611/1009 [00:37<00:31, 12.80it/s]"
     ]
    },
    {
     "name": "stdout",
     "output_type": "stream",
     "text": [
      "MTG 'date'\n"
     ]
    },
    {
     "name": "stderr",
     "output_type": "stream",
     "text": [
      " 61%|████████████████████████████████████████████████████████████████████████████████████████████████████████████████████████████████████████████▋                                                                                         | 617/1009 [00:38<00:30, 12.65it/s]"
     ]
    },
    {
     "name": "stdout",
     "output_type": "stream",
     "text": [
      "MSTR 'date'\n",
      "MIDD 'date'\n",
      "MKSI 'date'\n"
     ]
    },
    {
     "name": "stderr",
     "output_type": "stream",
     "text": [
      " 62%|██████████████████████████████████████████████████████████████████████████████████████████████████████████████████████████████████████████████▏                                                                                       | 624/1009 [00:38<00:31, 12.31it/s]"
     ]
    },
    {
     "name": "stdout",
     "output_type": "stream",
     "text": [
      "MDB 'date'\n"
     ]
    },
    {
     "name": "stderr",
     "output_type": "stream",
     "text": [
      " 62%|███████████████████████████████████████████████████████████████████████████████████████████████████████████████████████████████████████████████▌                                                                                      | 630/1009 [00:39<00:35, 10.68it/s]"
     ]
    },
    {
     "name": "stdout",
     "output_type": "stream",
     "text": [
      "MORN 'date'\n"
     ]
    },
    {
     "name": "stderr",
     "output_type": "stream",
     "text": [
      " 63%|████████████████████████████████████████████████████████████████████████████████████████████████████████████████████████████████████████████████▋                                                                                     | 635/1009 [00:39<00:24, 15.00it/s]"
     ]
    },
    {
     "name": "stdout",
     "output_type": "stream",
     "text": [
      "MP 'date'\n",
      "MSA 'date'\n",
      "MSM 'date'\n",
      "MUSA 'date'\n"
     ]
    },
    {
     "name": "stderr",
     "output_type": "stream",
     "text": [
      " 64%|██████████████████████████████████████████████████████████████████████████████████████████████████████████████████████████████████████████████████▎                                                                                   | 642/1009 [00:40<00:17, 21.14it/s]"
     ]
    },
    {
     "name": "stdout",
     "output_type": "stream",
     "text": [
      "NTRA 'date'\n",
      "NFG 'date'\n",
      "NSA 'date'\n",
      "NCNO 'date'\n"
     ]
    },
    {
     "name": "stderr",
     "output_type": "stream",
     "text": [
      " 64%|███████████████████████████████████████████████████████████████████████████████████████████████████████████████████████████████████████████████████▉                                                                                  | 649/1009 [00:40<00:14, 24.06it/s]"
     ]
    },
    {
     "name": "stdout",
     "output_type": "stream",
     "text": [
      "NBIX 'date'\n",
      "NFE 'date'\n",
      "NYT 'date'\n",
      "NWL 'date'\n",
      "NEU 'date'\n"
     ]
    },
    {
     "name": "stderr",
     "output_type": "stream",
     "text": [
      " 65%|████████████████████████████████████████████████████████████████████████████████████████████████████████████████████████████████████████████████████▌                                                                                 | 652/1009 [00:40<00:15, 22.39it/s]"
     ]
    },
    {
     "name": "stdout",
     "output_type": "stream",
     "text": [
      "NXST 'date'\n"
     ]
    },
    {
     "name": "stderr",
     "output_type": "stream",
     "text": [
      " 65%|█████████████████████████████████████████████████████████████████████████████████████████████████████████████████████████████████████████████████████▊                                                                                | 657/1009 [00:41<00:23, 14.80it/s]"
     ]
    },
    {
     "name": "stdout",
     "output_type": "stream",
     "text": [
      "NNN 'date'\n",
      "JWN 'date'\n"
     ]
    },
    {
     "name": "stderr",
     "output_type": "stream",
     "text": [
      " 66%|███████████████████████████████████████████████████████████████████████████████████████████████████████████████████████████████████████████████████████▎                                                                              | 664/1009 [00:41<00:26, 12.87it/s]"
     ]
    },
    {
     "name": "stdout",
     "output_type": "stream",
     "text": [
      "NOV 'date'\n",
      "NU 'date'\n"
     ]
    },
    {
     "name": "stderr",
     "output_type": "stream",
     "text": [
      " 66%|████████████████████████████████████████████████████████████████████████████████████████████████████████████████████████████████████████████████████████▍                                                                             | 669/1009 [00:41<00:21, 15.76it/s]"
     ]
    },
    {
     "name": "stdout",
     "output_type": "stream",
     "text": [
      "NTNX 'date'\n",
      "NVT 'date'\n"
     ]
    },
    {
     "name": "stderr",
     "output_type": "stream",
     "text": [
      " 67%|█████████████████████████████████████████████████████████████████████████████████████████████████████████████████████████████████████████████████████████▊                                                                            | 675/1009 [00:42<00:24, 13.74it/s]"
     ]
    },
    {
     "name": "stdout",
     "output_type": "stream",
     "text": [
      "OGE 'date'\n",
      "OKTA 'date'\n",
      "ORI 'date'\n",
      "OLN 'date'\n",
      "OLLI 'date'\n",
      "OHI 'date'\n"
     ]
    },
    {
     "name": "stderr",
     "output_type": "stream",
     "text": [
      " 68%|███████████████████████████████████████████████████████████████████████████████████████████████████████████████████████████████████████████████████████████▋                                                                          | 683/1009 [00:42<00:19, 16.49it/s]"
     ]
    },
    {
     "name": "stdout",
     "output_type": "stream",
     "text": [
      "OMF 'date'\n",
      "ONTO 'date'\n"
     ]
    },
    {
     "name": "stderr",
     "output_type": "stream",
     "text": [
      " 68%|█████████████████████████████████████████████████████████████████████████████████████████████████████████████████████████████████████████████████████████████▌                                                                        | 691/1009 [00:43<00:14, 21.96it/s]"
     ]
    },
    {
     "name": "stdout",
     "output_type": "stream",
     "text": [
      "OGN 'date'\n",
      "OSK 'date'\n",
      "OVV 'date'\n",
      "OC 'date'\n"
     ]
    },
    {
     "name": "stderr",
     "output_type": "stream",
     "text": [
      " 69%|██████████████████████████████████████████████████████████████████████████████████████████████████████████████████████████████████████████████████████████████▏                                                                       | 694/1009 [00:43<00:16, 19.07it/s]"
     ]
    },
    {
     "name": "stdout",
     "output_type": "stream",
     "text": [
      "PLTR 'date'\n",
      "PARAA 'date'\n"
     ]
    },
    {
     "name": "stderr",
     "output_type": "stream",
     "text": [
      " 69%|██████████████████████████████████████████████████████████████████████████████████████████████████████████████████████████████████████████████████████████████▉                                                                       | 697/1009 [00:43<00:15, 20.26it/s]"
     ]
    },
    {
     "name": "stdout",
     "output_type": "stream",
     "text": [
      "PK 'date'\n",
      "PSN 'date'\n"
     ]
    },
    {
     "name": "stderr",
     "output_type": "stream",
     "text": [
      " 70%|█████████████████████████████████████████████████████████████████████████████████████████████████████████████████████████████████████████████████████████████████▍                                                                    | 708/1009 [00:43<00:13, 22.15it/s]"
     ]
    },
    {
     "name": "stdout",
     "output_type": "stream",
     "text": [
      "PYCR 'date'\n",
      "PCTY 'date'\n",
      "PEGA 'date'\n",
      "PENN 'date'\n",
      "PAG 'date'\n"
     ]
    },
    {
     "name": "stderr",
     "output_type": "stream",
     "text": [
      " 70%|██████████████████████████████████████████████████████████████████████████████████████████████████████████████████████████████████████████████████████████████████                                                                    | 711/1009 [00:44<00:13, 22.38it/s]"
     ]
    },
    {
     "name": "stdout",
     "output_type": "stream",
     "text": [
      "PEN 'date'\n",
      "PFGC 'date'\n",
      "PR 'date'\n",
      "PRGO 'date'\n"
     ]
    },
    {
     "name": "stderr",
     "output_type": "stream",
     "text": [
      " 71%|████████████████████████████████████████████████████████████████████████████████████████████████████████████████████████████████████████████████████████████████████                                                                  | 720/1009 [00:44<00:16, 17.65it/s]"
     ]
    },
    {
     "name": "stdout",
     "output_type": "stream",
     "text": [
      "PPC 'date'\n",
      "PNFP 'date'\n",
      "PINS 'date'\n",
      "PLNT 'date'\n",
      "PLTK 'date'\n"
     ]
    },
    {
     "name": "stderr",
     "output_type": "stream",
     "text": [
      " 72%|█████████████████████████████████████████████████████████████████████████████████████████████████████████████████████████████████████████████████████████████████████▋                                                                | 727/1009 [00:44<00:13, 21.39it/s]"
     ]
    },
    {
     "name": "stdout",
     "output_type": "stream",
     "text": [
      "PII 'date'\n",
      "BPOP 'date'\n",
      "POST 'date'\n"
     ]
    },
    {
     "name": "stderr",
     "output_type": "stream",
     "text": [
      " 73%|██████████████████████████████████████████████████████████████████████████████████████████████████████████████████████████████████████████████████████████████████████▊                                                               | 732/1009 [00:45<00:16, 16.87it/s]"
     ]
    },
    {
     "name": "stdout",
     "output_type": "stream",
     "text": [
      "PINC 'date'\n",
      "PRI 'date'\n"
     ]
    },
    {
     "name": "stderr",
     "output_type": "stream",
     "text": [
      " 73%|███████████████████████████████████████████████████████████████████████████████████████████████████████████████████████████████████████████████████████████████████████▊                                                              | 736/1009 [00:45<00:16, 16.26it/s]"
     ]
    },
    {
     "name": "stdout",
     "output_type": "stream",
     "text": [
      "PCOR 'date'\n"
     ]
    },
    {
     "name": "stderr",
     "output_type": "stream",
     "text": [
      " 73%|████████████████████████████████████████████████████████████████████████████████████████████████████████████████████████████████████████████████████████████████████████▋                                                             | 740/1009 [00:45<00:20, 13.35it/s]"
     ]
    },
    {
     "name": "stdout",
     "output_type": "stream",
     "text": [
      "PB 'date'\n"
     ]
    },
    {
     "name": "stderr",
     "output_type": "stream",
     "text": [
      " 74%|██████████████████████████████████████████████████████████████████████████████████████████████████████████████████████████████████████████████████████████████████████████▋                                                           | 749/1009 [00:46<00:18, 14.28it/s]"
     ]
    },
    {
     "name": "stdout",
     "output_type": "stream",
     "text": [
      "PSTG 'date'\n",
      "PVH 'date'\n",
      "QGEN 'date'\n"
     ]
    },
    {
     "name": "stderr",
     "output_type": "stream",
     "text": [
      " 75%|███████████████████████████████████████████████████████████████████████████████████████████████████████████████████████████████████████████████████████████████████████████▋                                                          | 753/1009 [00:46<00:17, 14.74it/s]"
     ]
    },
    {
     "name": "stdout",
     "output_type": "stream",
     "text": [
      "QS 'date'\n",
      "QDEL 'date'\n",
      "RCM 'date'\n"
     ]
    },
    {
     "name": "stderr",
     "output_type": "stream",
     "text": [
      " 75%|████████████████████████████████████████████████████████████████████████████████████████████████████████████████████████████████████████████████████████████████████████████▌                                                         | 757/1009 [00:47<00:16, 15.00it/s]"
     ]
    },
    {
     "name": "stdout",
     "output_type": "stream",
     "text": [
      "RRC 'date'\n",
      "RYN 'date'\n"
     ]
    },
    {
     "name": "stderr",
     "output_type": "stream",
     "text": [
      " 75%|█████████████████████████████████████████████████████████████████████████████████████████████████████████████████████████████████████████████████████████████████████████████▍                                                        | 761/1009 [00:47<00:16, 15.23it/s]"
     ]
    },
    {
     "name": "stdout",
     "output_type": "stream",
     "text": [
      "RBC 'date'\n",
      "RRX 'date'\n"
     ]
    },
    {
     "name": "stderr",
     "output_type": "stream",
     "text": [
      " 76%|███████████████████████████████████████████████████████████████████████████████████████████████████████████████████████████████████████████████████████████████████████████████▌                                                      | 770/1009 [00:47<00:13, 18.31it/s]"
     ]
    },
    {
     "name": "stdout",
     "output_type": "stream",
     "text": [
      "RGA 'date'\n",
      "RS 'date'\n",
      "RNR 'date'\n",
      "RGEN 'date'\n"
     ]
    },
    {
     "name": "stderr",
     "output_type": "stream",
     "text": [
      " 78%|██████████████████████████████████████████████████████████████████████████████████████████████████████████████████████████████████████████████████████████████████████████████████▉                                                   | 785/1009 [00:48<00:06, 32.72it/s]"
     ]
    },
    {
     "name": "stdout",
     "output_type": "stream",
     "text": [
      "REXR 'date'\n",
      "REYN 'date'\n",
      "RH 'date'\n",
      "RNG 'date'\n",
      "RBA 'date'\n",
      "RITM 'date'\n",
      "RIVN 'date'\n",
      "RLI 'date'\n",
      "RHI 'date'\n",
      "HOOD 'date'\n",
      "RBLX 'date'\n",
      "RKT 'date'\n",
      "ROIV 'date'\n",
      "ROKU 'date'\n"
     ]
    },
    {
     "name": "stderr",
     "output_type": "stream",
     "text": [
      " 79%|█████████████████████████████████████████████████████████████████████████████████████████████████████████████████████████████████████████████████████████████████████████████████████▋                                                | 797/1009 [00:49<00:08, 23.97it/s]"
     ]
    },
    {
     "name": "stdout",
     "output_type": "stream",
     "text": [
      "RGLD 'date'\n",
      "RPRX 'date'\n",
      "RPM 'date'\n",
      "RYAN 'date'\n",
      "R 'date'\n",
      "SAIA 'date'\n",
      "SAIC 'date'\n"
     ]
    },
    {
     "name": "stderr",
     "output_type": "stream",
     "text": [
      " 80%|███████████████████████████████████████████████████████████████████████████████████████████████████████████████████████████████████████████████████████████████████████████████████████                                               | 803/1009 [00:49<00:08, 23.65it/s]"
     ]
    },
    {
     "name": "stdout",
     "output_type": "stream",
     "text": [
      "SLM 'date'\n",
      "SRPT 'date'\n"
     ]
    },
    {
     "name": "stderr",
     "output_type": "stream",
     "text": [
      " 80%|█████████████████████████████████████████████████████████████████████████████████████████████████████████████████████████████████████████████████████████████████████████████████████████                                             | 812/1009 [00:49<00:07, 24.79it/s]"
     ]
    },
    {
     "name": "stdout",
     "output_type": "stream",
     "text": [
      "SNDR 'date'\n",
      "SMG 'date'\n",
      "SEB 'date'\n",
      "SEE 'date'\n",
      "SEG 'date'\n",
      "SEIC 'date'\n",
      "ST 'date'\n",
      "S 'date'\n",
      "SCI 'date'\n"
     ]
    },
    {
     "name": "stderr",
     "output_type": "stream",
     "text": [
      " 81%|██████████████████████████████████████████████████████████████████████████████████████████████████████████████████████████████████████████████████████████████████████████████████████████▍                                           | 818/1009 [00:49<00:07, 25.83it/s]"
     ]
    },
    {
     "name": "stdout",
     "output_type": "stream",
     "text": [
      "SN 'date'\n",
      "FOUR 'date'\n",
      "SLGN 'date'\n"
     ]
    },
    {
     "name": "stderr",
     "output_type": "stream",
     "text": [
      " 82%|████████████████████████████████████████████████████████████████████████████████████████████████████████████████████████████████████████████████████████████████████████████████████████████▎                                         | 826/1009 [00:50<00:06, 28.41it/s]"
     ]
    },
    {
     "name": "stdout",
     "output_type": "stream",
     "text": [
      "SSD 'date'\n",
      "SIRI 'date'\n",
      "SITE 'date'\n",
      "SKX 'date'\n",
      "SMAR 'date'\n"
     ]
    },
    {
     "name": "stderr",
     "output_type": "stream",
     "text": [
      " 83%|██████████████████████████████████████████████████████████████████████████████████████████████████████████████████████████████████████████████████████████████████████████████████████████████▌                                       | 836/1009 [00:50<00:06, 26.89it/s]"
     ]
    },
    {
     "name": "stdout",
     "output_type": "stream",
     "text": [
      "SNOW 'date'\n",
      "SOFI 'date'\n",
      "SON 'date'\n",
      "SHC 'date'\n",
      "SCCO 'date'\n"
     ]
    },
    {
     "name": "stderr",
     "output_type": "stream",
     "text": [
      " 84%|████████████████████████████████████████████████████████████████████████████████████████████████████████████████████████████████████████████████████████████████████████████████████████████████▌                                     | 845/1009 [00:50<00:05, 30.83it/s]"
     ]
    },
    {
     "name": "stdout",
     "output_type": "stream",
     "text": [
      "SWN 'date'\n",
      "SPB 'date'\n",
      "SPR 'date'\n",
      "SPOT 'date'\n",
      "SSNC 'date'\n",
      "STAG 'date'\n",
      "STWD 'date'\n"
     ]
    },
    {
     "name": "stderr",
     "output_type": "stream",
     "text": [
      " 84%|██████████████████████████████████████████████████████████████████████████████████████████████████████████████████████████████████████████████████████████████████████████████████████████████████▏                                   | 852/1009 [00:51<00:07, 20.72it/s]"
     ]
    },
    {
     "name": "stdout",
     "output_type": "stream",
     "text": [
      "SRCL 'date'\n",
      "SF 'date'\n"
     ]
    },
    {
     "name": "stderr",
     "output_type": "stream",
     "text": [
      " 85%|██████████████████████████████████████████████████████████████████████████████████████████████████████████████████████████████████████████████████████████████████████████████████████████████████▉                                   | 855/1009 [00:51<00:08, 17.75it/s]"
     ]
    },
    {
     "name": "stdout",
     "output_type": "stream",
     "text": [
      "SUI 'date'\n"
     ]
    },
    {
     "name": "stderr",
     "output_type": "stream",
     "text": [
      " 85%|███████████████████████████████████████████████████████████████████████████████████████████████████████████████████████████████████████████████████████████████████████████████████████████████████▌                                  | 858/1009 [00:51<00:08, 16.90it/s]"
     ]
    },
    {
     "name": "stdout",
     "output_type": "stream",
     "text": [
      "SNV 'date'\n"
     ]
    },
    {
     "name": "stderr",
     "output_type": "stream",
     "text": [
      " 86%|█████████████████████████████████████████████████████████████████████████████████████████████████████████████████████████████████████████████████████████████████████████████████████████████████████▋                                | 867/1009 [00:52<00:10, 13.41it/s]"
     ]
    },
    {
     "name": "stdout",
     "output_type": "stream",
     "text": [
      "SNX 'date'\n",
      "FTI 'date'\n"
     ]
    },
    {
     "name": "stderr",
     "output_type": "stream",
     "text": [
      " 86%|██████████████████████████████████████████████████████████████████████████████████████████████████████████████████████████████████████████████████████████████████████████████████████████████████████▊                               | 872/1009 [00:52<00:08, 16.08it/s]"
     ]
    },
    {
     "name": "stdout",
     "output_type": "stream",
     "text": [
      "TPX 'date'\n",
      "THC 'date'\n",
      "TDC 'date'\n"
     ]
    },
    {
     "name": "stderr",
     "output_type": "stream",
     "text": [
      " 87%|███████████████████████████████████████████████████████████████████████████████████████████████████████████████████████████████████████████████████████████████████████████████████████████████████████▍                              | 875/1009 [00:53<00:08, 15.05it/s]"
     ]
    },
    {
     "name": "stdout",
     "output_type": "stream",
     "text": [
      "TTEK 'date'\n",
      "TPL 'date'\n",
      "TXRH 'date'\n"
     ]
    },
    {
     "name": "stderr",
     "output_type": "stream",
     "text": [
      " 88%|█████████████████████████████████████████████████████████████████████████████████████████████████████████████████████████████████████████████████████████████████████████████████████████████████████████▎                            | 883/1009 [00:53<00:06, 18.21it/s]"
     ]
    },
    {
     "name": "stdout",
     "output_type": "stream",
     "text": [
      "TFSL 'date'\n",
      "THO 'date'\n",
      "TKR 'date'\n",
      "TKO 'date'\n",
      "TOST 'date'\n",
      "TOL 'date'\n",
      "BLD 'date'\n",
      "TTC 'date'\n",
      "TPG 'date'\n"
     ]
    },
    {
     "name": "stderr",
     "output_type": "stream",
     "text": [
      " 89%|███████████████████████████████████████████████████████████████████████████████████████████████████████████████████████████████████████████████████████████████████████████████████████████████████████████▌                          | 893/1009 [00:53<00:04, 25.45it/s]"
     ]
    },
    {
     "name": "stdout",
     "output_type": "stream",
     "text": [
      "TTD 'date'\n",
      "TW 'date'\n"
     ]
    },
    {
     "name": "stderr",
     "output_type": "stream",
     "text": [
      " 89%|████████████████████████████████████████████████████████████████████████████████████████████████████████████████████████████████████████████████████████████████████████████████████████████████████████████▏                         | 896/1009 [00:53<00:04, 25.03it/s]"
     ]
    },
    {
     "name": "stdout",
     "output_type": "stream",
     "text": [
      "TRU 'date'\n",
      "TNL 'date'\n",
      "TREX 'date'\n"
     ]
    },
    {
     "name": "stderr",
     "output_type": "stream",
     "text": [
      " 89%|█████████████████████████████████████████████████████████████████████████████████████████████████████████████████████████████████████████████████████████████████████████████████████████████████████████████▌                        | 902/1009 [00:54<00:05, 20.07it/s]"
     ]
    },
    {
     "name": "stdout",
     "output_type": "stream",
     "text": [
      "TRIP 'date'\n",
      "DJT 'date'\n",
      "TWLO 'date'\n"
     ]
    },
    {
     "name": "stderr",
     "output_type": "stream",
     "text": [
      " 90%|██████████████████████████████████████████████████████████████████████████████████████████████████████████████████████████████████████████████████████████████████████████████████████████████████████████████▉                       | 908/1009 [00:54<00:05, 18.02it/s]"
     ]
    },
    {
     "name": "stdout",
     "output_type": "stream",
     "text": [
      "UHAL 'date'\n",
      "UHAL.B 'date'\n",
      "X 'date'\n",
      "UI 'date'\n"
     ]
    },
    {
     "name": "stderr",
     "output_type": "stream",
     "text": [
      " 91%|████████████████████████████████████████████████████████████████████████████████████████████████████████████████████████████████████████████████████████████████████████████████████████████████████████████████▌                     | 915/1009 [00:55<00:04, 20.96it/s]"
     ]
    },
    {
     "name": "stdout",
     "output_type": "stream",
     "text": [
      "UGI 'date'\n",
      "PATH 'date'\n",
      "RARE 'date'\n",
      "UAA 'date'\n",
      "UA 'date'\n"
     ]
    },
    {
     "name": "stderr",
     "output_type": "stream",
     "text": [
      " 92%|██████████████████████████████████████████████████████████████████████████████████████████████████████████████████████████████████████████████████████████████████████████████████████████████████████████████████▊                   | 925/1009 [00:55<00:04, 16.81it/s]"
     ]
    },
    {
     "name": "stdout",
     "output_type": "stream",
     "text": [
      "UTHR 'date'\n",
      "UWMC 'date'\n",
      "U 'date'\n",
      "OLED 'date'\n"
     ]
    },
    {
     "name": "stderr",
     "output_type": "stream",
     "text": [
      " 92%|████████████████████████████████████████████████████████████████████████████████████████████████████████████████████████████████████████████████████████████████████████████████████████████████████████████████████▍                 | 932/1009 [00:55<00:03, 21.19it/s]"
     ]
    },
    {
     "name": "stdout",
     "output_type": "stream",
     "text": [
      "UNM 'date'\n",
      "USFD 'date'\n",
      "MTN 'date'\n",
      "VMI 'date'\n",
      "VVV 'date'\n",
      "VEEV 'date'\n"
     ]
    },
    {
     "name": "stderr",
     "output_type": "stream",
     "text": [
      " 94%|████████████████████████████████████████████████████████████████████████████████████████████████████████████████████████████████████████████████████████████████████████████████████████████████████████████████████████▌             | 950/1009 [00:56<00:02, 20.62it/s]"
     ]
    },
    {
     "name": "stdout",
     "output_type": "stream",
     "text": [
      "VRT 'date'\n",
      "VSTS 'date'\n",
      "VFC 'date'\n",
      "VKTX 'date'\n",
      "VNOM 'date'\n",
      "VIRT 'date'\n"
     ]
    },
    {
     "name": "stderr",
     "output_type": "stream",
     "text": [
      " 95%|█████████████████████████████████████████████████████████████████████████████████████████████████████████████████████████████████████████████████████████████████████████████████████████████████████████████████████████▋            | 955/1009 [00:57<00:02, 22.08it/s]"
     ]
    },
    {
     "name": "stdout",
     "output_type": "stream",
     "text": [
      "VNT 'date'\n",
      "VNO 'date'\n",
      "VOYA 'date'\n",
      "WPC 'date'\n"
     ]
    },
    {
     "name": "stderr",
     "output_type": "stream",
     "text": [
      " 96%|█████████████████████████████████████████████████████████████████████████████████████████████████████████████████████████████████████████████████████████████████████████████████████████████████████████████████████████████         | 970/1009 [00:58<00:02, 15.73it/s]"
     ]
    },
    {
     "name": "stdout",
     "output_type": "stream",
     "text": [
      "WSO 'date'\n",
      "W 'date'\n",
      "WFRD 'date'\n",
      "WBS 'date'\n"
     ]
    },
    {
     "name": "stderr",
     "output_type": "stream",
     "text": [
      " 97%|██████████████████████████████████████████████████████████████████████████████████████████████████████████████████████████████████████████████████████████████████████████████████████████████████████████████████████████████▏       | 975/1009 [00:58<00:02, 14.98it/s]"
     ]
    },
    {
     "name": "stdout",
     "output_type": "stream",
     "text": [
      "WEN 'date'\n",
      "WCC 'date'\n",
      "WAL 'date'\n"
     ]
    },
    {
     "name": "stderr",
     "output_type": "stream",
     "text": [
      " 97%|███████████████████████████████████████████████████████████████████████████████████████████████████████████████████████████████████████████████████████████████████████████████████████████████████████████████████████████████▌      | 981/1009 [00:59<00:01, 18.70it/s]"
     ]
    },
    {
     "name": "stdout",
     "output_type": "stream",
     "text": [
      "WU 'date'\n",
      "WLK 'date'\n",
      "WEX 'date'\n",
      "WHR 'date'\n",
      "WTM 'date'\n"
     ]
    },
    {
     "name": "stderr",
     "output_type": "stream",
     "text": [
      " 99%|██████████████████████████████████████████████████████████████████████████████████████████████████████████████████████████████████████████████████████████████████████████████████████████████████████████████████████████████████▌   | 994/1009 [00:59<00:00, 30.53it/s]"
     ]
    },
    {
     "name": "stdout",
     "output_type": "stream",
     "text": [
      "WSM 'date'\n",
      "WSC 'date'\n",
      "WING 'date'\n",
      "WTFC 'date'\n",
      "WOLF 'date'\n",
      "WWD 'date'\n",
      "WDAY 'date'\n",
      "WH 'date'\n"
     ]
    },
    {
     "name": "stderr",
     "output_type": "stream",
     "text": [
      " 99%|███████████████████████████████████████████████████████████████████████████████████████████████████████████████████████████████████████████████████████████████████████████████████████████████████████████████████████████████████▍  | 998/1009 [00:59<00:00, 26.02it/s]"
     ]
    },
    {
     "name": "stdout",
     "output_type": "stream",
     "text": [
      "XP 'date'\n",
      "XPO 'date'\n",
      "YETI 'date'\n"
     ]
    },
    {
     "name": "stderr",
     "output_type": "stream",
     "text": [
      "100%|█████████████████████████████████████████████████████████████████████████████████████████████████████████████████████████████████████████████████████████████████████████████████████████████████████████████████████████████████████| 1009/1009 [01:00<00:00, 16.81it/s]"
     ]
    },
    {
     "name": "stdout",
     "output_type": "stream",
     "text": [
      "ZG 'date'\n",
      "Z 'date'\n",
      "ZION 'date'\n",
      "ZTS 'date'\n",
      "ZM 'date'\n",
      "ZI 'date'\n",
      "ZS 'date'\n"
     ]
    },
    {
     "name": "stderr",
     "output_type": "stream",
     "text": [
      "\n"
     ]
    }
   ],
   "source": [
    "prices_data = []\n",
    "market = ADatabase(\"market\")\n",
    "market.connect()\n",
    "for ticker in tqdm(sp500[\"ticker\"]):\n",
    "    try:\n",
    "        price = processor.column_date_processing(market.query(\"prices\",{\"ticker\":ticker})).sort_values(\"date\")\n",
    "        price = calculate_technical_indicators(price)\n",
    "        prices_data.append(price.dropna())\n",
    "    except Exception as e:\n",
    "        print(ticker, str(e))\n",
    "        continue\n",
    "market.disconnect()"
   ]
  },
  {
   "cell_type": "code",
   "execution_count": 5,
   "id": "73ab2b0b-3130-485d-af3c-d5d1ffa6270d",
   "metadata": {},
   "outputs": [],
   "source": [
    "prices = pd.concat(prices_data).sort_values(\"date\")"
   ]
  },
  {
   "cell_type": "code",
   "execution_count": 6,
   "id": "2f8f4aae-665e-4a72-a787-5ae1a69f8a13",
   "metadata": {},
   "outputs": [],
   "source": [
    "factors = [\n",
    "           \"average_return\"\n",
    "            ,\"prev_return\"\n",
    "           ,\"coev\",\n",
    "            \"bollinger\"\n",
    "            ,\"rsi\",\"signal_line\",\"ema_20\",\"stochastic\",\"atr\",\"return_to_risk\",\"obv\",\"cmf\",\"williams_r\",\"cci\",\"force_index\",\"elder_impulse\"\n",
    "            ,\"keltner_upper\",\"keltner_lower\",\"senkou_span_a\",\"senkou_span_b\",\"garch\",\"garch_var\",\"garch_rrr\",\"arima_forecast\"\n",
    "          ]     "
   ]
  },
  {
   "cell_type": "code",
   "execution_count": 7,
   "id": "67c2f0f7-6d84-4d5f-ad23-67a8f3155851",
   "metadata": {
    "scrolled": true
   },
   "outputs": [
    {
     "name": "stderr",
     "output_type": "stream",
     "text": [
      "  0%|                                                                                                                                                                                                                                                  | 0/24 [00:00<?, ?it/s]"
     ]
    },
    {
     "name": "stdout",
     "output_type": "stream",
     "text": [
      "single positional indexer is out-of-bounds\n",
      "single positional indexer is out-of-bounds\n",
      "single positional indexer is out-of-bounds\n",
      "single positional indexer is out-of-bounds\n",
      "single positional indexer is out-of-bounds\n",
      "single positional indexer is out-of-bounds\n",
      "single positional indexer is out-of-bounds\n",
      "single positional indexer is out-of-bounds\n",
      "single positional indexer is out-of-bounds\n",
      "single positional indexer is out-of-bounds\n",
      "single positional indexer is out-of-bounds\n",
      "single positional indexer is out-of-bounds\n",
      "single positional indexer is out-of-bounds\n",
      "single positional indexer is out-of-bounds\n",
      "single positional indexer is out-of-bounds\n",
      "single positional indexer is out-of-bounds\n",
      "single positional indexer is out-of-bounds\n",
      "single positional indexer is out-of-bounds\n",
      "single positional indexer is out-of-bounds\n",
      "single positional indexer is out-of-bounds\n",
      "single positional indexer is out-of-bounds\n",
      "single positional indexer is out-of-bounds\n",
      "single positional indexer is out-of-bounds\n",
      "single positional indexer is out-of-bounds\n",
      "single positional indexer is out-of-bounds\n",
      "single positional indexer is out-of-bounds\n",
      "single positional indexer is out-of-bounds\n",
      "single positional indexer is out-of-bounds\n",
      "single positional indexer is out-of-bounds\n",
      "single positional indexer is out-of-bounds\n",
      "single positional indexer is out-of-bounds\n",
      "single positional indexer is out-of-bounds\n",
      "single positional indexer is out-of-bounds\n",
      "single positional indexer is out-of-bounds\n",
      "single positional indexer is out-of-bounds\n",
      "single positional indexer is out-of-bounds\n",
      "single positional indexer is out-of-bounds\n",
      "single positional indexer is out-of-bounds\n",
      "single positional indexer is out-of-bounds\n",
      "single positional indexer is out-of-bounds\n",
      "single positional indexer is out-of-bounds\n",
      "single positional indexer is out-of-bounds\n",
      "single positional indexer is out-of-bounds\n",
      "single positional indexer is out-of-bounds\n",
      "single positional indexer is out-of-bounds\n",
      "single positional indexer is out-of-bounds\n",
      "single positional indexer is out-of-bounds\n",
      "single positional indexer is out-of-bounds\n",
      "single positional indexer is out-of-bounds\n",
      "single positional indexer is out-of-bounds\n",
      "single positional indexer is out-of-bounds\n",
      "single positional indexer is out-of-bounds\n",
      "single positional indexer is out-of-bounds\n",
      "single positional indexer is out-of-bounds\n",
      "single positional indexer is out-of-bounds\n",
      "single positional indexer is out-of-bounds\n",
      "single positional indexer is out-of-bounds\n",
      "single positional indexer is out-of-bounds\n",
      "single positional indexer is out-of-bounds\n",
      "single positional indexer is out-of-bounds\n",
      "single positional indexer is out-of-bounds\n",
      "single positional indexer is out-of-bounds\n",
      "single positional indexer is out-of-bounds\n",
      "single positional indexer is out-of-bounds\n",
      "single positional indexer is out-of-bounds\n",
      "single positional indexer is out-of-bounds\n",
      "single positional indexer is out-of-bounds\n",
      "single positional indexer is out-of-bounds\n",
      "single positional indexer is out-of-bounds\n",
      "single positional indexer is out-of-bounds\n",
      "single positional indexer is out-of-bounds\n",
      "single positional indexer is out-of-bounds\n",
      "single positional indexer is out-of-bounds\n",
      "single positional indexer is out-of-bounds\n",
      "single positional indexer is out-of-bounds\n",
      "single positional indexer is out-of-bounds\n",
      "single positional indexer is out-of-bounds\n",
      "single positional indexer is out-of-bounds\n",
      "single positional indexer is out-of-bounds\n",
      "single positional indexer is out-of-bounds\n",
      "single positional indexer is out-of-bounds\n",
      "single positional indexer is out-of-bounds\n",
      "single positional indexer is out-of-bounds\n",
      "single positional indexer is out-of-bounds\n",
      "single positional indexer is out-of-bounds\n",
      "single positional indexer is out-of-bounds\n",
      "single positional indexer is out-of-bounds\n",
      "single positional indexer is out-of-bounds\n",
      "single positional indexer is out-of-bounds\n",
      "single positional indexer is out-of-bounds\n",
      "single positional indexer is out-of-bounds\n",
      "single positional indexer is out-of-bounds\n",
      "single positional indexer is out-of-bounds\n",
      "single positional indexer is out-of-bounds\n",
      "single positional indexer is out-of-bounds\n",
      "single positional indexer is out-of-bounds\n",
      "single positional indexer is out-of-bounds\n",
      "single positional indexer is out-of-bounds\n",
      "single positional indexer is out-of-bounds\n",
      "single positional indexer is out-of-bounds\n",
      "single positional indexer is out-of-bounds\n",
      "single positional indexer is out-of-bounds\n",
      "single positional indexer is out-of-bounds\n",
      "single positional indexer is out-of-bounds\n",
      "single positional indexer is out-of-bounds\n",
      "single positional indexer is out-of-bounds\n",
      "single positional indexer is out-of-bounds\n",
      "single positional indexer is out-of-bounds\n",
      "single positional indexer is out-of-bounds\n",
      "single positional indexer is out-of-bounds\n",
      "single positional indexer is out-of-bounds\n",
      "single positional indexer is out-of-bounds\n",
      "single positional indexer is out-of-bounds\n",
      "single positional indexer is out-of-bounds\n",
      "single positional indexer is out-of-bounds\n",
      "single positional indexer is out-of-bounds\n",
      "single positional indexer is out-of-bounds\n",
      "single positional indexer is out-of-bounds\n",
      "single positional indexer is out-of-bounds\n",
      "single positional indexer is out-of-bounds\n"
     ]
    },
    {
     "name": "stderr",
     "output_type": "stream",
     "text": [
      "  4%|█████████▋                                                                                                                                                                                                                             | 1/24 [02:45<1:03:35, 165.91s/it]"
     ]
    },
    {
     "name": "stdout",
     "output_type": "stream",
     "text": [
      "single positional indexer is out-of-bounds\n",
      "single positional indexer is out-of-bounds\n",
      "single positional indexer is out-of-bounds\n",
      "single positional indexer is out-of-bounds\n",
      "single positional indexer is out-of-bounds\n",
      "single positional indexer is out-of-bounds\n",
      "single positional indexer is out-of-bounds\n",
      "single positional indexer is out-of-bounds\n",
      "single positional indexer is out-of-bounds\n",
      "single positional indexer is out-of-bounds\n",
      "single positional indexer is out-of-bounds\n",
      "single positional indexer is out-of-bounds\n",
      "single positional indexer is out-of-bounds\n",
      "single positional indexer is out-of-bounds\n",
      "single positional indexer is out-of-bounds\n",
      "single positional indexer is out-of-bounds\n",
      "single positional indexer is out-of-bounds\n",
      "single positional indexer is out-of-bounds\n",
      "single positional indexer is out-of-bounds\n",
      "single positional indexer is out-of-bounds\n",
      "single positional indexer is out-of-bounds\n",
      "single positional indexer is out-of-bounds\n",
      "single positional indexer is out-of-bounds\n",
      "single positional indexer is out-of-bounds\n",
      "single positional indexer is out-of-bounds\n",
      "single positional indexer is out-of-bounds\n",
      "single positional indexer is out-of-bounds\n",
      "single positional indexer is out-of-bounds\n",
      "single positional indexer is out-of-bounds\n",
      "single positional indexer is out-of-bounds\n",
      "single positional indexer is out-of-bounds\n",
      "single positional indexer is out-of-bounds\n",
      "single positional indexer is out-of-bounds\n",
      "single positional indexer is out-of-bounds\n",
      "single positional indexer is out-of-bounds\n",
      "single positional indexer is out-of-bounds\n",
      "single positional indexer is out-of-bounds\n",
      "single positional indexer is out-of-bounds\n",
      "single positional indexer is out-of-bounds\n",
      "single positional indexer is out-of-bounds\n",
      "single positional indexer is out-of-bounds\n",
      "single positional indexer is out-of-bounds\n",
      "single positional indexer is out-of-bounds\n",
      "single positional indexer is out-of-bounds\n",
      "single positional indexer is out-of-bounds\n",
      "single positional indexer is out-of-bounds\n",
      "single positional indexer is out-of-bounds\n",
      "single positional indexer is out-of-bounds\n",
      "single positional indexer is out-of-bounds\n",
      "single positional indexer is out-of-bounds\n",
      "single positional indexer is out-of-bounds\n",
      "single positional indexer is out-of-bounds\n",
      "single positional indexer is out-of-bounds\n",
      "single positional indexer is out-of-bounds\n",
      "single positional indexer is out-of-bounds\n",
      "single positional indexer is out-of-bounds\n",
      "single positional indexer is out-of-bounds\n",
      "single positional indexer is out-of-bounds\n",
      "single positional indexer is out-of-bounds\n",
      "single positional indexer is out-of-bounds\n",
      "single positional indexer is out-of-bounds\n",
      "single positional indexer is out-of-bounds\n",
      "single positional indexer is out-of-bounds\n",
      "single positional indexer is out-of-bounds\n",
      "single positional indexer is out-of-bounds\n",
      "single positional indexer is out-of-bounds\n",
      "single positional indexer is out-of-bounds\n",
      "single positional indexer is out-of-bounds\n",
      "single positional indexer is out-of-bounds\n",
      "single positional indexer is out-of-bounds\n",
      "single positional indexer is out-of-bounds\n",
      "single positional indexer is out-of-bounds\n",
      "single positional indexer is out-of-bounds\n",
      "single positional indexer is out-of-bounds\n",
      "single positional indexer is out-of-bounds\n",
      "single positional indexer is out-of-bounds\n",
      "single positional indexer is out-of-bounds\n",
      "single positional indexer is out-of-bounds\n",
      "single positional indexer is out-of-bounds\n",
      "single positional indexer is out-of-bounds\n",
      "single positional indexer is out-of-bounds\n",
      "single positional indexer is out-of-bounds\n",
      "single positional indexer is out-of-bounds\n",
      "single positional indexer is out-of-bounds\n",
      "single positional indexer is out-of-bounds\n",
      "single positional indexer is out-of-bounds\n",
      "single positional indexer is out-of-bounds\n",
      "single positional indexer is out-of-bounds\n",
      "single positional indexer is out-of-bounds\n",
      "single positional indexer is out-of-bounds\n",
      "single positional indexer is out-of-bounds\n",
      "single positional indexer is out-of-bounds\n",
      "single positional indexer is out-of-bounds\n",
      "single positional indexer is out-of-bounds\n",
      "single positional indexer is out-of-bounds\n",
      "single positional indexer is out-of-bounds\n",
      "single positional indexer is out-of-bounds\n",
      "single positional indexer is out-of-bounds\n",
      "single positional indexer is out-of-bounds\n",
      "single positional indexer is out-of-bounds\n",
      "single positional indexer is out-of-bounds\n",
      "single positional indexer is out-of-bounds\n",
      "single positional indexer is out-of-bounds\n",
      "single positional indexer is out-of-bounds\n",
      "single positional indexer is out-of-bounds\n",
      "single positional indexer is out-of-bounds\n",
      "single positional indexer is out-of-bounds\n",
      "single positional indexer is out-of-bounds\n",
      "single positional indexer is out-of-bounds\n",
      "single positional indexer is out-of-bounds\n",
      "single positional indexer is out-of-bounds\n",
      "single positional indexer is out-of-bounds\n",
      "single positional indexer is out-of-bounds\n",
      "single positional indexer is out-of-bounds\n",
      "single positional indexer is out-of-bounds\n",
      "single positional indexer is out-of-bounds\n",
      "single positional indexer is out-of-bounds\n",
      "single positional indexer is out-of-bounds\n",
      "single positional indexer is out-of-bounds\n",
      "single positional indexer is out-of-bounds\n",
      "single positional indexer is out-of-bounds\n",
      "single positional indexer is out-of-bounds\n",
      "single positional indexer is out-of-bounds\n",
      "single positional indexer is out-of-bounds\n",
      "single positional indexer is out-of-bounds\n",
      "single positional indexer is out-of-bounds\n",
      "single positional indexer is out-of-bounds\n",
      "single positional indexer is out-of-bounds\n",
      "single positional indexer is out-of-bounds\n",
      "single positional indexer is out-of-bounds\n",
      "single positional indexer is out-of-bounds\n",
      "single positional indexer is out-of-bounds\n",
      "single positional indexer is out-of-bounds\n",
      "single positional indexer is out-of-bounds\n",
      "single positional indexer is out-of-bounds\n",
      "single positional indexer is out-of-bounds\n",
      "single positional indexer is out-of-bounds\n",
      "single positional indexer is out-of-bounds\n",
      "single positional indexer is out-of-bounds\n",
      "single positional indexer is out-of-bounds\n",
      "single positional indexer is out-of-bounds\n",
      "single positional indexer is out-of-bounds\n",
      "single positional indexer is out-of-bounds\n",
      "single positional indexer is out-of-bounds\n",
      "single positional indexer is out-of-bounds\n",
      "single positional indexer is out-of-bounds\n",
      "single positional indexer is out-of-bounds\n",
      "single positional indexer is out-of-bounds\n",
      "single positional indexer is out-of-bounds\n",
      "single positional indexer is out-of-bounds\n",
      "single positional indexer is out-of-bounds\n",
      "single positional indexer is out-of-bounds\n",
      "single positional indexer is out-of-bounds\n",
      "single positional indexer is out-of-bounds\n",
      "single positional indexer is out-of-bounds\n",
      "single positional indexer is out-of-bounds\n",
      "single positional indexer is out-of-bounds\n",
      "single positional indexer is out-of-bounds\n",
      "single positional indexer is out-of-bounds\n",
      "single positional indexer is out-of-bounds\n",
      "single positional indexer is out-of-bounds\n",
      "single positional indexer is out-of-bounds\n",
      "single positional indexer is out-of-bounds\n",
      "single positional indexer is out-of-bounds\n",
      "single positional indexer is out-of-bounds\n",
      "single positional indexer is out-of-bounds\n",
      "single positional indexer is out-of-bounds\n",
      "single positional indexer is out-of-bounds\n",
      "single positional indexer is out-of-bounds\n",
      "single positional indexer is out-of-bounds\n",
      "single positional indexer is out-of-bounds\n",
      "single positional indexer is out-of-bounds\n",
      "single positional indexer is out-of-bounds\n",
      "single positional indexer is out-of-bounds\n",
      "single positional indexer is out-of-bounds\n",
      "single positional indexer is out-of-bounds\n",
      "single positional indexer is out-of-bounds\n",
      "single positional indexer is out-of-bounds\n",
      "single positional indexer is out-of-bounds\n",
      "single positional indexer is out-of-bounds\n",
      "single positional indexer is out-of-bounds\n",
      "single positional indexer is out-of-bounds\n",
      "single positional indexer is out-of-bounds\n",
      "single positional indexer is out-of-bounds\n",
      "single positional indexer is out-of-bounds\n",
      "single positional indexer is out-of-bounds\n",
      "single positional indexer is out-of-bounds\n",
      "single positional indexer is out-of-bounds\n",
      "single positional indexer is out-of-bounds\n",
      "single positional indexer is out-of-bounds\n",
      "single positional indexer is out-of-bounds\n",
      "single positional indexer is out-of-bounds\n",
      "single positional indexer is out-of-bounds\n",
      "single positional indexer is out-of-bounds\n",
      "single positional indexer is out-of-bounds\n",
      "single positional indexer is out-of-bounds\n",
      "single positional indexer is out-of-bounds\n",
      "single positional indexer is out-of-bounds\n",
      "single positional indexer is out-of-bounds\n",
      "single positional indexer is out-of-bounds\n",
      "single positional indexer is out-of-bounds\n"
     ]
    },
    {
     "name": "stderr",
     "output_type": "stream",
     "text": [
      "  8%|███████████████████▎                                                                                                                                                                                                                   | 2/24 [05:33<1:01:17, 167.16s/it]"
     ]
    },
    {
     "name": "stdout",
     "output_type": "stream",
     "text": [
      "single positional indexer is out-of-bounds\n",
      "single positional indexer is out-of-bounds\n",
      "single positional indexer is out-of-bounds\n",
      "single positional indexer is out-of-bounds\n",
      "single positional indexer is out-of-bounds\n",
      "single positional indexer is out-of-bounds\n",
      "single positional indexer is out-of-bounds\n",
      "single positional indexer is out-of-bounds\n",
      "single positional indexer is out-of-bounds\n",
      "single positional indexer is out-of-bounds\n",
      "single positional indexer is out-of-bounds\n",
      "single positional indexer is out-of-bounds\n",
      "single positional indexer is out-of-bounds\n",
      "single positional indexer is out-of-bounds\n",
      "single positional indexer is out-of-bounds\n",
      "single positional indexer is out-of-bounds\n",
      "single positional indexer is out-of-bounds\n",
      "single positional indexer is out-of-bounds\n",
      "single positional indexer is out-of-bounds\n",
      "single positional indexer is out-of-bounds\n",
      "single positional indexer is out-of-bounds\n",
      "single positional indexer is out-of-bounds\n",
      "single positional indexer is out-of-bounds\n",
      "single positional indexer is out-of-bounds\n",
      "single positional indexer is out-of-bounds\n",
      "single positional indexer is out-of-bounds\n",
      "single positional indexer is out-of-bounds\n",
      "single positional indexer is out-of-bounds\n",
      "single positional indexer is out-of-bounds\n",
      "single positional indexer is out-of-bounds\n",
      "single positional indexer is out-of-bounds\n",
      "single positional indexer is out-of-bounds\n",
      "single positional indexer is out-of-bounds\n",
      "single positional indexer is out-of-bounds\n",
      "single positional indexer is out-of-bounds\n",
      "single positional indexer is out-of-bounds\n",
      "single positional indexer is out-of-bounds\n",
      "single positional indexer is out-of-bounds\n",
      "single positional indexer is out-of-bounds\n",
      "single positional indexer is out-of-bounds\n",
      "single positional indexer is out-of-bounds\n",
      "single positional indexer is out-of-bounds\n",
      "single positional indexer is out-of-bounds\n",
      "single positional indexer is out-of-bounds\n",
      "single positional indexer is out-of-bounds\n",
      "single positional indexer is out-of-bounds\n",
      "single positional indexer is out-of-bounds\n",
      "single positional indexer is out-of-bounds\n",
      "single positional indexer is out-of-bounds\n",
      "single positional indexer is out-of-bounds\n",
      "single positional indexer is out-of-bounds\n",
      "single positional indexer is out-of-bounds\n",
      "single positional indexer is out-of-bounds\n",
      "single positional indexer is out-of-bounds\n",
      "single positional indexer is out-of-bounds\n",
      "single positional indexer is out-of-bounds\n",
      "single positional indexer is out-of-bounds\n",
      "single positional indexer is out-of-bounds\n",
      "single positional indexer is out-of-bounds\n",
      "single positional indexer is out-of-bounds\n",
      "single positional indexer is out-of-bounds\n",
      "single positional indexer is out-of-bounds\n",
      "single positional indexer is out-of-bounds\n",
      "single positional indexer is out-of-bounds\n",
      "single positional indexer is out-of-bounds\n",
      "single positional indexer is out-of-bounds\n",
      "single positional indexer is out-of-bounds\n",
      "single positional indexer is out-of-bounds\n",
      "single positional indexer is out-of-bounds\n",
      "single positional indexer is out-of-bounds\n",
      "single positional indexer is out-of-bounds\n",
      "single positional indexer is out-of-bounds\n",
      "single positional indexer is out-of-bounds\n",
      "single positional indexer is out-of-bounds\n",
      "single positional indexer is out-of-bounds\n",
      "single positional indexer is out-of-bounds\n",
      "single positional indexer is out-of-bounds\n",
      "single positional indexer is out-of-bounds\n",
      "single positional indexer is out-of-bounds\n",
      "single positional indexer is out-of-bounds\n",
      "single positional indexer is out-of-bounds\n",
      "single positional indexer is out-of-bounds\n",
      "single positional indexer is out-of-bounds\n",
      "single positional indexer is out-of-bounds\n",
      "single positional indexer is out-of-bounds\n",
      "single positional indexer is out-of-bounds\n",
      "single positional indexer is out-of-bounds\n",
      "single positional indexer is out-of-bounds\n",
      "single positional indexer is out-of-bounds\n",
      "single positional indexer is out-of-bounds\n",
      "single positional indexer is out-of-bounds\n",
      "single positional indexer is out-of-bounds\n",
      "single positional indexer is out-of-bounds\n",
      "single positional indexer is out-of-bounds\n",
      "single positional indexer is out-of-bounds\n",
      "single positional indexer is out-of-bounds\n",
      "single positional indexer is out-of-bounds\n",
      "single positional indexer is out-of-bounds\n",
      "single positional indexer is out-of-bounds\n",
      "single positional indexer is out-of-bounds\n",
      "single positional indexer is out-of-bounds\n"
     ]
    },
    {
     "name": "stderr",
     "output_type": "stream",
     "text": [
      " 12%|█████████████████████████████▏                                                                                                                                                                                                           | 3/24 [08:22<58:48, 168.01s/it]"
     ]
    },
    {
     "name": "stdout",
     "output_type": "stream",
     "text": [
      "single positional indexer is out-of-bounds\n",
      "single positional indexer is out-of-bounds\n",
      "single positional indexer is out-of-bounds\n",
      "single positional indexer is out-of-bounds\n",
      "single positional indexer is out-of-bounds\n",
      "single positional indexer is out-of-bounds\n",
      "single positional indexer is out-of-bounds\n",
      "single positional indexer is out-of-bounds\n",
      "single positional indexer is out-of-bounds\n",
      "single positional indexer is out-of-bounds\n",
      "single positional indexer is out-of-bounds\n",
      "single positional indexer is out-of-bounds\n",
      "single positional indexer is out-of-bounds\n",
      "single positional indexer is out-of-bounds\n",
      "single positional indexer is out-of-bounds\n",
      "single positional indexer is out-of-bounds\n",
      "single positional indexer is out-of-bounds\n",
      "single positional indexer is out-of-bounds\n",
      "single positional indexer is out-of-bounds\n",
      "single positional indexer is out-of-bounds\n",
      "single positional indexer is out-of-bounds\n",
      "single positional indexer is out-of-bounds\n",
      "single positional indexer is out-of-bounds\n",
      "single positional indexer is out-of-bounds\n",
      "single positional indexer is out-of-bounds\n",
      "single positional indexer is out-of-bounds\n",
      "single positional indexer is out-of-bounds\n",
      "single positional indexer is out-of-bounds\n",
      "single positional indexer is out-of-bounds\n",
      "single positional indexer is out-of-bounds\n",
      "single positional indexer is out-of-bounds\n",
      "single positional indexer is out-of-bounds\n",
      "single positional indexer is out-of-bounds\n",
      "single positional indexer is out-of-bounds\n",
      "single positional indexer is out-of-bounds\n",
      "single positional indexer is out-of-bounds\n",
      "single positional indexer is out-of-bounds\n",
      "single positional indexer is out-of-bounds\n",
      "single positional indexer is out-of-bounds\n",
      "single positional indexer is out-of-bounds\n",
      "single positional indexer is out-of-bounds\n",
      "single positional indexer is out-of-bounds\n",
      "single positional indexer is out-of-bounds\n",
      "single positional indexer is out-of-bounds\n",
      "single positional indexer is out-of-bounds\n",
      "single positional indexer is out-of-bounds\n",
      "single positional indexer is out-of-bounds\n",
      "single positional indexer is out-of-bounds\n",
      "single positional indexer is out-of-bounds\n",
      "single positional indexer is out-of-bounds\n",
      "single positional indexer is out-of-bounds\n",
      "single positional indexer is out-of-bounds\n",
      "single positional indexer is out-of-bounds\n",
      "single positional indexer is out-of-bounds\n",
      "single positional indexer is out-of-bounds\n",
      "single positional indexer is out-of-bounds\n",
      "single positional indexer is out-of-bounds\n",
      "single positional indexer is out-of-bounds\n",
      "single positional indexer is out-of-bounds\n",
      "single positional indexer is out-of-bounds\n",
      "single positional indexer is out-of-bounds\n",
      "single positional indexer is out-of-bounds\n",
      "single positional indexer is out-of-bounds\n",
      "single positional indexer is out-of-bounds\n",
      "single positional indexer is out-of-bounds\n",
      "single positional indexer is out-of-bounds\n",
      "single positional indexer is out-of-bounds\n",
      "single positional indexer is out-of-bounds\n",
      "single positional indexer is out-of-bounds\n",
      "single positional indexer is out-of-bounds\n",
      "single positional indexer is out-of-bounds\n",
      "single positional indexer is out-of-bounds\n",
      "single positional indexer is out-of-bounds\n",
      "single positional indexer is out-of-bounds\n",
      "single positional indexer is out-of-bounds\n",
      "single positional indexer is out-of-bounds\n",
      "single positional indexer is out-of-bounds\n",
      "single positional indexer is out-of-bounds\n",
      "single positional indexer is out-of-bounds\n",
      "single positional indexer is out-of-bounds\n",
      "single positional indexer is out-of-bounds\n",
      "single positional indexer is out-of-bounds\n",
      "single positional indexer is out-of-bounds\n",
      "single positional indexer is out-of-bounds\n",
      "single positional indexer is out-of-bounds\n",
      "single positional indexer is out-of-bounds\n",
      "single positional indexer is out-of-bounds\n",
      "single positional indexer is out-of-bounds\n"
     ]
    },
    {
     "name": "stderr",
     "output_type": "stream",
     "text": [
      " 17%|██████████████████████████████████████▊                                                                                                                                                                                                  | 4/24 [11:12<56:13, 168.66s/it]"
     ]
    },
    {
     "name": "stdout",
     "output_type": "stream",
     "text": [
      "single positional indexer is out-of-bounds\n",
      "single positional indexer is out-of-bounds\n",
      "single positional indexer is out-of-bounds\n",
      "single positional indexer is out-of-bounds\n",
      "single positional indexer is out-of-bounds\n",
      "single positional indexer is out-of-bounds\n",
      "single positional indexer is out-of-bounds\n",
      "single positional indexer is out-of-bounds\n",
      "single positional indexer is out-of-bounds\n",
      "single positional indexer is out-of-bounds\n",
      "single positional indexer is out-of-bounds\n",
      "single positional indexer is out-of-bounds\n",
      "single positional indexer is out-of-bounds\n",
      "single positional indexer is out-of-bounds\n",
      "single positional indexer is out-of-bounds\n",
      "single positional indexer is out-of-bounds\n",
      "single positional indexer is out-of-bounds\n",
      "single positional indexer is out-of-bounds\n",
      "single positional indexer is out-of-bounds\n",
      "single positional indexer is out-of-bounds\n",
      "single positional indexer is out-of-bounds\n",
      "single positional indexer is out-of-bounds\n",
      "single positional indexer is out-of-bounds\n",
      "single positional indexer is out-of-bounds\n",
      "single positional indexer is out-of-bounds\n",
      "single positional indexer is out-of-bounds\n",
      "single positional indexer is out-of-bounds\n",
      "single positional indexer is out-of-bounds\n",
      "single positional indexer is out-of-bounds\n",
      "single positional indexer is out-of-bounds\n",
      "single positional indexer is out-of-bounds\n",
      "single positional indexer is out-of-bounds\n",
      "single positional indexer is out-of-bounds\n",
      "single positional indexer is out-of-bounds\n",
      "single positional indexer is out-of-bounds\n",
      "single positional indexer is out-of-bounds\n",
      "single positional indexer is out-of-bounds\n",
      "single positional indexer is out-of-bounds\n",
      "single positional indexer is out-of-bounds\n",
      "single positional indexer is out-of-bounds\n",
      "single positional indexer is out-of-bounds\n",
      "single positional indexer is out-of-bounds\n",
      "single positional indexer is out-of-bounds\n",
      "single positional indexer is out-of-bounds\n",
      "single positional indexer is out-of-bounds\n",
      "single positional indexer is out-of-bounds\n",
      "single positional indexer is out-of-bounds\n",
      "single positional indexer is out-of-bounds\n",
      "single positional indexer is out-of-bounds\n",
      "single positional indexer is out-of-bounds\n",
      "single positional indexer is out-of-bounds\n",
      "single positional indexer is out-of-bounds\n",
      "single positional indexer is out-of-bounds\n",
      "single positional indexer is out-of-bounds\n",
      "single positional indexer is out-of-bounds\n",
      "single positional indexer is out-of-bounds\n",
      "single positional indexer is out-of-bounds\n",
      "single positional indexer is out-of-bounds\n",
      "single positional indexer is out-of-bounds\n",
      "single positional indexer is out-of-bounds\n",
      "single positional indexer is out-of-bounds\n",
      "single positional indexer is out-of-bounds\n"
     ]
    },
    {
     "name": "stderr",
     "output_type": "stream",
     "text": [
      " 17%|██████████████████████████████████████▌                                                                                                                                                                                                | 4/24 [12:02<1:00:12, 180.60s/it]\n"
     ]
    },
    {
     "ename": "KeyboardInterrupt",
     "evalue": "",
     "output_type": "error",
     "traceback": [
      "\u001b[1;31m---------------------------------------------------------------------------\u001b[0m",
      "\u001b[1;31mKeyboardInterrupt\u001b[0m                         Traceback (most recent call last)",
      "Cell \u001b[1;32mIn[7], line 14\u001b[0m\n\u001b[0;32m     12\u001b[0m \u001b[38;5;28;01mfor\u001b[39;00m i \u001b[38;5;129;01min\u001b[39;00m \u001b[38;5;28mrange\u001b[39m(positions):\n\u001b[0;32m     13\u001b[0m     asset \u001b[38;5;241m=\u001b[39m portfolio[i]\n\u001b[1;32m---> 14\u001b[0m     rec \u001b[38;5;241m=\u001b[39m \u001b[43mtoday\u001b[49m\u001b[38;5;241;43m.\u001b[39;49m\u001b[43msort_values\u001b[49m\u001b[43m(\u001b[49m\u001b[43mfactor\u001b[49m\u001b[43m,\u001b[49m\u001b[43mascending\u001b[49m\u001b[38;5;241;43m=\u001b[39;49m\u001b[43mascending\u001b[49m\u001b[43m)\u001b[49m\u001b[38;5;241m.\u001b[39miloc[i]\n\u001b[0;32m     15\u001b[0m     \u001b[38;5;28;01mif\u001b[39;00m asset[\u001b[38;5;124m\"\u001b[39m\u001b[38;5;124mticker\u001b[39m\u001b[38;5;124m\"\u001b[39m] \u001b[38;5;241m==\u001b[39m \u001b[38;5;124m\"\u001b[39m\u001b[38;5;124m\"\u001b[39m \u001b[38;5;129;01mand\u001b[39;00m asset[\u001b[38;5;124m\"\u001b[39m\u001b[38;5;124mcash\u001b[39m\u001b[38;5;124m\"\u001b[39m] \u001b[38;5;241m>\u001b[39m\u001b[38;5;241m=\u001b[39m  rec[\u001b[38;5;124m\"\u001b[39m\u001b[38;5;124madjclose\u001b[39m\u001b[38;5;124m\"\u001b[39m]:\n\u001b[0;32m     16\u001b[0m         asset[\u001b[38;5;124m\"\u001b[39m\u001b[38;5;124mticker\u001b[39m\u001b[38;5;124m\"\u001b[39m] \u001b[38;5;241m=\u001b[39m rec[\u001b[38;5;124m\"\u001b[39m\u001b[38;5;124mticker\u001b[39m\u001b[38;5;124m\"\u001b[39m]\n",
      "File \u001b[1;32mE:\\projects\\sapling\\venv\\Lib\\site-packages\\pandas\\core\\frame.py:7219\u001b[0m, in \u001b[0;36mDataFrame.sort_values\u001b[1;34m(self, by, axis, ascending, inplace, kind, na_position, ignore_index, key)\u001b[0m\n\u001b[0;32m   7216\u001b[0m     \u001b[38;5;28;01melse\u001b[39;00m:\n\u001b[0;32m   7217\u001b[0m         \u001b[38;5;28;01mreturn\u001b[39;00m result\n\u001b[1;32m-> 7219\u001b[0m new_data \u001b[38;5;241m=\u001b[39m \u001b[38;5;28;43mself\u001b[39;49m\u001b[38;5;241;43m.\u001b[39;49m\u001b[43m_mgr\u001b[49m\u001b[38;5;241;43m.\u001b[39;49m\u001b[43mtake\u001b[49m\u001b[43m(\u001b[49m\n\u001b[0;32m   7220\u001b[0m \u001b[43m    \u001b[49m\u001b[43mindexer\u001b[49m\u001b[43m,\u001b[49m\u001b[43m \u001b[49m\u001b[43maxis\u001b[49m\u001b[38;5;241;43m=\u001b[39;49m\u001b[38;5;28;43mself\u001b[39;49m\u001b[38;5;241;43m.\u001b[39;49m\u001b[43m_get_block_manager_axis\u001b[49m\u001b[43m(\u001b[49m\u001b[43maxis\u001b[49m\u001b[43m)\u001b[49m\u001b[43m,\u001b[49m\u001b[43m \u001b[49m\u001b[43mverify\u001b[49m\u001b[38;5;241;43m=\u001b[39;49m\u001b[38;5;28;43;01mFalse\u001b[39;49;00m\n\u001b[0;32m   7221\u001b[0m \u001b[43m\u001b[49m\u001b[43m)\u001b[49m\n\u001b[0;32m   7223\u001b[0m \u001b[38;5;28;01mif\u001b[39;00m ignore_index:\n\u001b[0;32m   7224\u001b[0m     new_data\u001b[38;5;241m.\u001b[39mset_axis(\n\u001b[0;32m   7225\u001b[0m         \u001b[38;5;28mself\u001b[39m\u001b[38;5;241m.\u001b[39m_get_block_manager_axis(axis), default_index(\u001b[38;5;28mlen\u001b[39m(indexer))\n\u001b[0;32m   7226\u001b[0m     )\n",
      "File \u001b[1;32mE:\\projects\\sapling\\venv\\Lib\\site-packages\\pandas\\core\\internals\\managers.py:894\u001b[0m, in \u001b[0;36mBaseBlockManager.take\u001b[1;34m(self, indexer, axis, verify)\u001b[0m\n\u001b[0;32m    891\u001b[0m indexer \u001b[38;5;241m=\u001b[39m maybe_convert_indices(indexer, n, verify\u001b[38;5;241m=\u001b[39mverify)\n\u001b[0;32m    893\u001b[0m new_labels \u001b[38;5;241m=\u001b[39m \u001b[38;5;28mself\u001b[39m\u001b[38;5;241m.\u001b[39maxes[axis]\u001b[38;5;241m.\u001b[39mtake(indexer)\n\u001b[1;32m--> 894\u001b[0m \u001b[38;5;28;01mreturn\u001b[39;00m \u001b[38;5;28;43mself\u001b[39;49m\u001b[38;5;241;43m.\u001b[39;49m\u001b[43mreindex_indexer\u001b[49m\u001b[43m(\u001b[49m\n\u001b[0;32m    895\u001b[0m \u001b[43m    \u001b[49m\u001b[43mnew_axis\u001b[49m\u001b[38;5;241;43m=\u001b[39;49m\u001b[43mnew_labels\u001b[49m\u001b[43m,\u001b[49m\n\u001b[0;32m    896\u001b[0m \u001b[43m    \u001b[49m\u001b[43mindexer\u001b[49m\u001b[38;5;241;43m=\u001b[39;49m\u001b[43mindexer\u001b[49m\u001b[43m,\u001b[49m\n\u001b[0;32m    897\u001b[0m \u001b[43m    \u001b[49m\u001b[43maxis\u001b[49m\u001b[38;5;241;43m=\u001b[39;49m\u001b[43maxis\u001b[49m\u001b[43m,\u001b[49m\n\u001b[0;32m    898\u001b[0m \u001b[43m    \u001b[49m\u001b[43mallow_dups\u001b[49m\u001b[38;5;241;43m=\u001b[39;49m\u001b[38;5;28;43;01mTrue\u001b[39;49;00m\u001b[43m,\u001b[49m\n\u001b[0;32m    899\u001b[0m \u001b[43m    \u001b[49m\u001b[43mcopy\u001b[49m\u001b[38;5;241;43m=\u001b[39;49m\u001b[38;5;28;43;01mNone\u001b[39;49;00m\u001b[43m,\u001b[49m\n\u001b[0;32m    900\u001b[0m \u001b[43m\u001b[49m\u001b[43m)\u001b[49m\n",
      "File \u001b[1;32mE:\\projects\\sapling\\venv\\Lib\\site-packages\\pandas\\core\\internals\\managers.py:687\u001b[0m, in \u001b[0;36mBaseBlockManager.reindex_indexer\u001b[1;34m(self, new_axis, indexer, axis, fill_value, allow_dups, copy, only_slice, use_na_proxy)\u001b[0m\n\u001b[0;32m    680\u001b[0m     new_blocks \u001b[38;5;241m=\u001b[39m \u001b[38;5;28mself\u001b[39m\u001b[38;5;241m.\u001b[39m_slice_take_blocks_ax0(\n\u001b[0;32m    681\u001b[0m         indexer,\n\u001b[0;32m    682\u001b[0m         fill_value\u001b[38;5;241m=\u001b[39mfill_value,\n\u001b[0;32m    683\u001b[0m         only_slice\u001b[38;5;241m=\u001b[39monly_slice,\n\u001b[0;32m    684\u001b[0m         use_na_proxy\u001b[38;5;241m=\u001b[39muse_na_proxy,\n\u001b[0;32m    685\u001b[0m     )\n\u001b[0;32m    686\u001b[0m \u001b[38;5;28;01melse\u001b[39;00m:\n\u001b[1;32m--> 687\u001b[0m     new_blocks \u001b[38;5;241m=\u001b[39m \u001b[43m[\u001b[49m\n\u001b[0;32m    688\u001b[0m \u001b[43m        \u001b[49m\u001b[43mblk\u001b[49m\u001b[38;5;241;43m.\u001b[39;49m\u001b[43mtake_nd\u001b[49m\u001b[43m(\u001b[49m\n\u001b[0;32m    689\u001b[0m \u001b[43m            \u001b[49m\u001b[43mindexer\u001b[49m\u001b[43m,\u001b[49m\n\u001b[0;32m    690\u001b[0m \u001b[43m            \u001b[49m\u001b[43maxis\u001b[49m\u001b[38;5;241;43m=\u001b[39;49m\u001b[38;5;241;43m1\u001b[39;49m\u001b[43m,\u001b[49m\n\u001b[0;32m    691\u001b[0m \u001b[43m            \u001b[49m\u001b[43mfill_value\u001b[49m\u001b[38;5;241;43m=\u001b[39;49m\u001b[43m(\u001b[49m\n\u001b[0;32m    692\u001b[0m \u001b[43m                \u001b[49m\u001b[43mfill_value\u001b[49m\u001b[43m \u001b[49m\u001b[38;5;28;43;01mif\u001b[39;49;00m\u001b[43m \u001b[49m\u001b[43mfill_value\u001b[49m\u001b[43m \u001b[49m\u001b[38;5;129;43;01mis\u001b[39;49;00m\u001b[43m \u001b[49m\u001b[38;5;129;43;01mnot\u001b[39;49;00m\u001b[43m \u001b[49m\u001b[38;5;28;43;01mNone\u001b[39;49;00m\u001b[43m \u001b[49m\u001b[38;5;28;43;01melse\u001b[39;49;00m\u001b[43m \u001b[49m\u001b[43mblk\u001b[49m\u001b[38;5;241;43m.\u001b[39;49m\u001b[43mfill_value\u001b[49m\n\u001b[0;32m    693\u001b[0m \u001b[43m            \u001b[49m\u001b[43m)\u001b[49m\u001b[43m,\u001b[49m\n\u001b[0;32m    694\u001b[0m \u001b[43m        \u001b[49m\u001b[43m)\u001b[49m\n\u001b[0;32m    695\u001b[0m \u001b[43m        \u001b[49m\u001b[38;5;28;43;01mfor\u001b[39;49;00m\u001b[43m \u001b[49m\u001b[43mblk\u001b[49m\u001b[43m \u001b[49m\u001b[38;5;129;43;01min\u001b[39;49;00m\u001b[43m \u001b[49m\u001b[38;5;28;43mself\u001b[39;49m\u001b[38;5;241;43m.\u001b[39;49m\u001b[43mblocks\u001b[49m\n\u001b[0;32m    696\u001b[0m \u001b[43m    \u001b[49m\u001b[43m]\u001b[49m\n\u001b[0;32m    698\u001b[0m new_axes \u001b[38;5;241m=\u001b[39m \u001b[38;5;28mlist\u001b[39m(\u001b[38;5;28mself\u001b[39m\u001b[38;5;241m.\u001b[39maxes)\n\u001b[0;32m    699\u001b[0m new_axes[axis] \u001b[38;5;241m=\u001b[39m new_axis\n",
      "File \u001b[1;32mE:\\projects\\sapling\\venv\\Lib\\site-packages\\pandas\\core\\internals\\managers.py:688\u001b[0m, in \u001b[0;36m<listcomp>\u001b[1;34m(.0)\u001b[0m\n\u001b[0;32m    680\u001b[0m     new_blocks \u001b[38;5;241m=\u001b[39m \u001b[38;5;28mself\u001b[39m\u001b[38;5;241m.\u001b[39m_slice_take_blocks_ax0(\n\u001b[0;32m    681\u001b[0m         indexer,\n\u001b[0;32m    682\u001b[0m         fill_value\u001b[38;5;241m=\u001b[39mfill_value,\n\u001b[0;32m    683\u001b[0m         only_slice\u001b[38;5;241m=\u001b[39monly_slice,\n\u001b[0;32m    684\u001b[0m         use_na_proxy\u001b[38;5;241m=\u001b[39muse_na_proxy,\n\u001b[0;32m    685\u001b[0m     )\n\u001b[0;32m    686\u001b[0m \u001b[38;5;28;01melse\u001b[39;00m:\n\u001b[0;32m    687\u001b[0m     new_blocks \u001b[38;5;241m=\u001b[39m [\n\u001b[1;32m--> 688\u001b[0m         \u001b[43mblk\u001b[49m\u001b[38;5;241;43m.\u001b[39;49m\u001b[43mtake_nd\u001b[49m\u001b[43m(\u001b[49m\n\u001b[0;32m    689\u001b[0m \u001b[43m            \u001b[49m\u001b[43mindexer\u001b[49m\u001b[43m,\u001b[49m\n\u001b[0;32m    690\u001b[0m \u001b[43m            \u001b[49m\u001b[43maxis\u001b[49m\u001b[38;5;241;43m=\u001b[39;49m\u001b[38;5;241;43m1\u001b[39;49m\u001b[43m,\u001b[49m\n\u001b[0;32m    691\u001b[0m \u001b[43m            \u001b[49m\u001b[43mfill_value\u001b[49m\u001b[38;5;241;43m=\u001b[39;49m\u001b[43m(\u001b[49m\n\u001b[0;32m    692\u001b[0m \u001b[43m                \u001b[49m\u001b[43mfill_value\u001b[49m\u001b[43m \u001b[49m\u001b[38;5;28;43;01mif\u001b[39;49;00m\u001b[43m \u001b[49m\u001b[43mfill_value\u001b[49m\u001b[43m \u001b[49m\u001b[38;5;129;43;01mis\u001b[39;49;00m\u001b[43m \u001b[49m\u001b[38;5;129;43;01mnot\u001b[39;49;00m\u001b[43m \u001b[49m\u001b[38;5;28;43;01mNone\u001b[39;49;00m\u001b[43m \u001b[49m\u001b[38;5;28;43;01melse\u001b[39;49;00m\u001b[43m \u001b[49m\u001b[43mblk\u001b[49m\u001b[38;5;241;43m.\u001b[39;49m\u001b[43mfill_value\u001b[49m\n\u001b[0;32m    693\u001b[0m \u001b[43m            \u001b[49m\u001b[43m)\u001b[49m\u001b[43m,\u001b[49m\n\u001b[0;32m    694\u001b[0m \u001b[43m        \u001b[49m\u001b[43m)\u001b[49m\n\u001b[0;32m    695\u001b[0m         \u001b[38;5;28;01mfor\u001b[39;00m blk \u001b[38;5;129;01min\u001b[39;00m \u001b[38;5;28mself\u001b[39m\u001b[38;5;241m.\u001b[39mblocks\n\u001b[0;32m    696\u001b[0m     ]\n\u001b[0;32m    698\u001b[0m new_axes \u001b[38;5;241m=\u001b[39m \u001b[38;5;28mlist\u001b[39m(\u001b[38;5;28mself\u001b[39m\u001b[38;5;241m.\u001b[39maxes)\n\u001b[0;32m    699\u001b[0m new_axes[axis] \u001b[38;5;241m=\u001b[39m new_axis\n",
      "File \u001b[1;32mE:\\projects\\sapling\\venv\\Lib\\site-packages\\pandas\\core\\internals\\blocks.py:1307\u001b[0m, in \u001b[0;36mBlock.take_nd\u001b[1;34m(self, indexer, axis, new_mgr_locs, fill_value)\u001b[0m\n\u001b[0;32m   1304\u001b[0m     allow_fill \u001b[38;5;241m=\u001b[39m \u001b[38;5;28;01mTrue\u001b[39;00m\n\u001b[0;32m   1306\u001b[0m \u001b[38;5;66;03m# Note: algos.take_nd has upcast logic similar to coerce_to_target_dtype\u001b[39;00m\n\u001b[1;32m-> 1307\u001b[0m new_values \u001b[38;5;241m=\u001b[39m \u001b[43malgos\u001b[49m\u001b[38;5;241;43m.\u001b[39;49m\u001b[43mtake_nd\u001b[49m\u001b[43m(\u001b[49m\n\u001b[0;32m   1308\u001b[0m \u001b[43m    \u001b[49m\u001b[43mvalues\u001b[49m\u001b[43m,\u001b[49m\u001b[43m \u001b[49m\u001b[43mindexer\u001b[49m\u001b[43m,\u001b[49m\u001b[43m \u001b[49m\u001b[43maxis\u001b[49m\u001b[38;5;241;43m=\u001b[39;49m\u001b[43maxis\u001b[49m\u001b[43m,\u001b[49m\u001b[43m \u001b[49m\u001b[43mallow_fill\u001b[49m\u001b[38;5;241;43m=\u001b[39;49m\u001b[43mallow_fill\u001b[49m\u001b[43m,\u001b[49m\u001b[43m \u001b[49m\u001b[43mfill_value\u001b[49m\u001b[38;5;241;43m=\u001b[39;49m\u001b[43mfill_value\u001b[49m\n\u001b[0;32m   1309\u001b[0m \u001b[43m\u001b[49m\u001b[43m)\u001b[49m\n\u001b[0;32m   1311\u001b[0m \u001b[38;5;66;03m# Called from three places in managers, all of which satisfy\u001b[39;00m\n\u001b[0;32m   1312\u001b[0m \u001b[38;5;66;03m#  these assertions\u001b[39;00m\n\u001b[0;32m   1313\u001b[0m \u001b[38;5;28;01mif\u001b[39;00m \u001b[38;5;28misinstance\u001b[39m(\u001b[38;5;28mself\u001b[39m, ExtensionBlock):\n\u001b[0;32m   1314\u001b[0m     \u001b[38;5;66;03m# NB: in this case, the 'axis' kwarg will be ignored in the\u001b[39;00m\n\u001b[0;32m   1315\u001b[0m     \u001b[38;5;66;03m#  algos.take_nd call above.\u001b[39;00m\n",
      "File \u001b[1;32mE:\\projects\\sapling\\venv\\Lib\\site-packages\\pandas\\core\\array_algos\\take.py:117\u001b[0m, in \u001b[0;36mtake_nd\u001b[1;34m(arr, indexer, axis, fill_value, allow_fill)\u001b[0m\n\u001b[0;32m    114\u001b[0m     \u001b[38;5;28;01mreturn\u001b[39;00m arr\u001b[38;5;241m.\u001b[39mtake(indexer, fill_value\u001b[38;5;241m=\u001b[39mfill_value, allow_fill\u001b[38;5;241m=\u001b[39mallow_fill)\n\u001b[0;32m    116\u001b[0m arr \u001b[38;5;241m=\u001b[39m np\u001b[38;5;241m.\u001b[39masarray(arr)\n\u001b[1;32m--> 117\u001b[0m \u001b[38;5;28;01mreturn\u001b[39;00m \u001b[43m_take_nd_ndarray\u001b[49m\u001b[43m(\u001b[49m\u001b[43marr\u001b[49m\u001b[43m,\u001b[49m\u001b[43m \u001b[49m\u001b[43mindexer\u001b[49m\u001b[43m,\u001b[49m\u001b[43m \u001b[49m\u001b[43maxis\u001b[49m\u001b[43m,\u001b[49m\u001b[43m \u001b[49m\u001b[43mfill_value\u001b[49m\u001b[43m,\u001b[49m\u001b[43m \u001b[49m\u001b[43mallow_fill\u001b[49m\u001b[43m)\u001b[49m\n",
      "File \u001b[1;32mE:\\projects\\sapling\\venv\\Lib\\site-packages\\pandas\\core\\array_algos\\take.py:162\u001b[0m, in \u001b[0;36m_take_nd_ndarray\u001b[1;34m(arr, indexer, axis, fill_value, allow_fill)\u001b[0m\n\u001b[0;32m    157\u001b[0m     out \u001b[38;5;241m=\u001b[39m np\u001b[38;5;241m.\u001b[39mempty(out_shape, dtype\u001b[38;5;241m=\u001b[39mdtype)\n\u001b[0;32m    159\u001b[0m func \u001b[38;5;241m=\u001b[39m _get_take_nd_function(\n\u001b[0;32m    160\u001b[0m     arr\u001b[38;5;241m.\u001b[39mndim, arr\u001b[38;5;241m.\u001b[39mdtype, out\u001b[38;5;241m.\u001b[39mdtype, axis\u001b[38;5;241m=\u001b[39maxis, mask_info\u001b[38;5;241m=\u001b[39mmask_info\n\u001b[0;32m    161\u001b[0m )\n\u001b[1;32m--> 162\u001b[0m \u001b[43mfunc\u001b[49m\u001b[43m(\u001b[49m\u001b[43marr\u001b[49m\u001b[43m,\u001b[49m\u001b[43m \u001b[49m\u001b[43mindexer\u001b[49m\u001b[43m,\u001b[49m\u001b[43m \u001b[49m\u001b[43mout\u001b[49m\u001b[43m,\u001b[49m\u001b[43m \u001b[49m\u001b[43mfill_value\u001b[49m\u001b[43m)\u001b[49m\n\u001b[0;32m    164\u001b[0m \u001b[38;5;28;01mif\u001b[39;00m flip_order:\n\u001b[0;32m    165\u001b[0m     out \u001b[38;5;241m=\u001b[39m out\u001b[38;5;241m.\u001b[39mT\n",
      "\u001b[1;31mKeyboardInterrupt\u001b[0m: "
     ]
    }
   ],
   "source": [
    "analysis = []   \n",
    "positions = 10\n",
    "for factor in tqdm(factors):\n",
    "    for ascending in [True,False]:\n",
    "        default_portfolio = [{\"ticker\":\"\",\"adjclose\":0,\"quantity\":0,\"buy_price\":0,\"position\":i,\"cash\":10000} for i in range(positions)]\n",
    "        portfolio = [position for position in default_portfolio]\n",
    "        portfolios = []\n",
    "        for date in list(prices[\"date\"].unique()):\n",
    "            try:\n",
    "                today = prices[prices[\"date\"]==date]\n",
    "                pv = sum([asset[\"quantity\"] * asset[\"adjclose\"] + asset[\"cash\"] for asset in portfolio])\n",
    "                for i in range(positions):\n",
    "                    asset = portfolio[i]\n",
    "                    rec = today.sort_values(factor,ascending=ascending).iloc[i]\n",
    "                    if asset[\"ticker\"] == \"\" and asset[\"cash\"] >=  rec[\"adjclose\"]:\n",
    "                        asset[\"ticker\"] = rec[\"ticker\"]\n",
    "                        asset[\"adjclose\"] = rec[\"adjclose\"]\n",
    "                        asset[\"quantity\"] = asset[\"cash\"] / rec[\"adjclose\"]\n",
    "                        asset[\"buy_price\"] = rec[\"adjclose\"]\n",
    "                        asset[\"date\"] = date\n",
    "                        asset[\"cash\"] = 0\n",
    "                        portfolios.append(asset.copy())\n",
    "                    else:\n",
    "                        ## update\n",
    "                        updates = today[today[\"ticker\"]==asset[\"ticker\"]].iloc[0]\n",
    "                        asset[\"adjclose\"] = updates[\"adjclose\"]\n",
    "                        asset[\"date\"] = date\n",
    "                        if rec[\"ticker\"] != asset[\"ticker\"]:\n",
    "                            asset[\"cash\"] = asset[\"adjclose\"] * asset[\"quantity\"]\n",
    "                            asset[\"ticker\"] = rec[\"ticker\"]\n",
    "                            asset[\"adjclose\"] = rec[\"adjclose\"]\n",
    "                            asset[\"quantity\"] = asset[\"cash\"] / rec[\"adjclose\"]\n",
    "                            asset[\"buy_price\"] = rec[\"adjclose\"]\n",
    "                            asset[\"date\"] = date\n",
    "                            asset[\"cash\"] = 0\n",
    "                            portfolios.append(asset.copy())\n",
    "                        else:\n",
    "                            portfolios.append(asset.copy())\n",
    "            except Exception as e:\n",
    "                print(str(e))\n",
    "                continue\n",
    "        states = pd.DataFrame(portfolios)\n",
    "        states[\"pv\"] = states[\"adjclose\"] * states[\"quantity\"]\n",
    "        states = states.groupby(\"date\").agg({\"pv\":\"sum\"}).reset_index()\n",
    "        states[\"return\"] = states[\"pv\"].pct_change(5) * 100\n",
    "        risk = abs(mean([x for x in states[\"return\"] if x < 0]))\n",
    "        analysis.append({\"factor\":factor,\"ascending\":ascending,\"return\":states.iloc[-1][\"pv\"],\"risk\":risk})"
   ]
  },
  {
   "cell_type": "code",
   "execution_count": 8,
   "id": "4515ff52-38e3-48b1-8a0f-e0fa050dce8f",
   "metadata": {},
   "outputs": [
    {
     "data": {
      "text/html": [
       "<div>\n",
       "<style scoped>\n",
       "    .dataframe tbody tr th:only-of-type {\n",
       "        vertical-align: middle;\n",
       "    }\n",
       "\n",
       "    .dataframe tbody tr th {\n",
       "        vertical-align: top;\n",
       "    }\n",
       "\n",
       "    .dataframe thead th {\n",
       "        text-align: right;\n",
       "    }\n",
       "</style>\n",
       "<table border=\"1\" class=\"dataframe\">\n",
       "  <thead>\n",
       "    <tr style=\"text-align: right;\">\n",
       "      <th></th>\n",
       "      <th>factor</th>\n",
       "      <th>ascending</th>\n",
       "      <th>return</th>\n",
       "      <th>risk</th>\n",
       "      <th>rr</th>\n",
       "    </tr>\n",
       "  </thead>\n",
       "  <tbody>\n",
       "    <tr>\n",
       "      <th>5</th>\n",
       "      <td>coev</td>\n",
       "      <td>False</td>\n",
       "      <td>1.947279e+08</td>\n",
       "      <td>4.572138</td>\n",
       "      <td>4.259013e+07</td>\n",
       "    </tr>\n",
       "    <tr>\n",
       "      <th>7</th>\n",
       "      <td>bollinger</td>\n",
       "      <td>False</td>\n",
       "      <td>8.816948e+07</td>\n",
       "      <td>4.080539</td>\n",
       "      <td>2.160731e+07</td>\n",
       "    </tr>\n",
       "    <tr>\n",
       "      <th>6</th>\n",
       "      <td>bollinger</td>\n",
       "      <td>True</td>\n",
       "      <td>6.143124e+07</td>\n",
       "      <td>4.524271</td>\n",
       "      <td>1.357815e+07</td>\n",
       "    </tr>\n",
       "    <tr>\n",
       "      <th>0</th>\n",
       "      <td>average_return</td>\n",
       "      <td>True</td>\n",
       "      <td>1.987939e+07</td>\n",
       "      <td>3.972794</td>\n",
       "      <td>5.003881e+06</td>\n",
       "    </tr>\n",
       "    <tr>\n",
       "      <th>1</th>\n",
       "      <td>average_return</td>\n",
       "      <td>False</td>\n",
       "      <td>1.641141e+07</td>\n",
       "      <td>3.786780</td>\n",
       "      <td>4.333869e+06</td>\n",
       "    </tr>\n",
       "    <tr>\n",
       "      <th>2</th>\n",
       "      <td>prev_return</td>\n",
       "      <td>True</td>\n",
       "      <td>1.264759e+07</td>\n",
       "      <td>4.230291</td>\n",
       "      <td>2.989769e+06</td>\n",
       "    </tr>\n",
       "    <tr>\n",
       "      <th>4</th>\n",
       "      <td>coev</td>\n",
       "      <td>True</td>\n",
       "      <td>1.313901e+06</td>\n",
       "      <td>1.862198</td>\n",
       "      <td>7.055646e+05</td>\n",
       "    </tr>\n",
       "    <tr>\n",
       "      <th>3</th>\n",
       "      <td>prev_return</td>\n",
       "      <td>False</td>\n",
       "      <td>5.905108e+05</td>\n",
       "      <td>3.592014</td>\n",
       "      <td>1.643955e+05</td>\n",
       "    </tr>\n",
       "  </tbody>\n",
       "</table>\n",
       "</div>"
      ],
      "text/plain": [
       "           factor  ascending        return      risk            rr\n",
       "5            coev      False  1.947279e+08  4.572138  4.259013e+07\n",
       "7       bollinger      False  8.816948e+07  4.080539  2.160731e+07\n",
       "6       bollinger       True  6.143124e+07  4.524271  1.357815e+07\n",
       "0  average_return       True  1.987939e+07  3.972794  5.003881e+06\n",
       "1  average_return      False  1.641141e+07  3.786780  4.333869e+06\n",
       "2     prev_return       True  1.264759e+07  4.230291  2.989769e+06\n",
       "4            coev       True  1.313901e+06  1.862198  7.055646e+05\n",
       "3     prev_return      False  5.905108e+05  3.592014  1.643955e+05"
      ]
     },
     "execution_count": 8,
     "metadata": {},
     "output_type": "execute_result"
    }
   ],
   "source": [
    "a = pd.DataFrame(analysis)\n",
    "a[\"rr\"] = a[\"return\"] / a[\"risk\"]\n",
    "a.sort_values(\"return\",ascending=False)"
   ]
  },
  {
   "cell_type": "code",
   "execution_count": 9,
   "id": "bace7dde-bb64-4a84-8fdc-284a911790a5",
   "metadata": {},
   "outputs": [
    {
     "data": {
      "image/png": "[encoded data removed]",
      "text/plain": [
       "<Figure size 640x480 with 1 Axes>"
      ]
     },
     "metadata": {},
     "output_type": "display_data"
    }
   ],
   "source": [
    "plt.scatter(a[\"risk\"].values,a[\"return\"].values)\n",
    "plt.show()"
   ]
  },
  {
   "cell_type": "code",
   "execution_count": 10,
   "id": "0802025a-de17-4576-a906-e60a057b4abf",
   "metadata": {},
   "outputs": [
    {
     "data": {
      "image/png": "[encoded data removed]",
      "text/plain": [
       "<Figure size 640x480 with 1 Axes>"
      ]
     },
     "metadata": {},
     "output_type": "display_data"
    }
   ],
   "source": [
    "plt.plot(states[\"date\"].values,states[\"pv\"].values)\n",
    "plt.show()"
   ]
  }
 ],
 "metadata": {
  "kernelspec": {
   "display_name": "Python 3 (ipykernel)",
   "language": "python",
   "name": "python3"
  },
  "language_info": {
   "codemirror_mode": {
    "name": "ipython",
    "version": 3
   },
   "file_extension": ".py",
   "mimetype": "text/x-python",
   "name": "python",
   "nbconvert_exporter": "python",
   "pygments_lexer": "ipython3",
   "version": "3.11.9"
  }
 },
 "nbformat": 4,
 "nbformat_minor": 5
}
