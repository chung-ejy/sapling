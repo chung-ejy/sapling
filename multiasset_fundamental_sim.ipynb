{
 "cells": [
  {
   "cell_type": "code",
   "execution_count": 12,
   "id": "2ed8cf89-aedf-487b-8f4c-be90c03b04e4",
   "metadata": {},
   "outputs": [],
   "source": [
    "from processor.processor import Processor as processor\n",
    "from database.adatabase import ADatabase\n",
    "from xgboost import XGBRegressor\n",
    "from statistics import mean\n",
    "import math\n",
    "import pandas as pd\n",
    "import numpy as np\n",
    "from scipy.optimize import minimize\n",
    "import matplotlib.pyplot as plt\n",
    "from datetime import datetime, timedelta\n",
    "from tqdm import tqdm\n",
    "from dotenv import load_dotenv\n",
    "from asset.stock import Stock\n",
    "from asset.bond import Bond\n",
    "from asset.option import Option\n",
    "import warnings\n",
    "import pytz\n",
    "import copy\n",
    "import pickle\n",
    "warnings.simplefilter(action=\"ignore\")"
   ]
  },
  {
   "cell_type": "code",
   "execution_count": 13,
   "id": "f83d2e0d-1c3e-411d-bc6d-9f5b6aa766cc",
   "metadata": {},
   "outputs": [],
   "source": [
    "factors =  [\n",
    "            \"assets\"\n",
    "            ,\"liabilities\"\n",
    "            ,\"netincomeloss\"\n",
    "            ,\"adjclose\" \n",
    "            ,\"rf\"\n",
    "            ,\"spy\"\n",
    "           ]\n",
    "required = [\"year\",\"quarter\",\"ticker\"]\n",
    "required.extend(factors)\n",
    "market = ADatabase(\"market\")\n",
    "sec = ADatabase(\"sec\")\n",
    "market = ADatabase(\"market\")\n",
    "fred = ADatabase(\"fred\")"
   ]
  },
  {
   "cell_type": "code",
   "execution_count": 14,
   "id": "e3a1d483-9d3a-4549-9621-6009595e6c43",
   "metadata": {},
   "outputs": [],
   "source": [
    "sp500 = pd.read_html(\"https://en.wikipedia.org/wiki/List_of_S%26P_500_companies\",attrs={\"id\":\"constituents\"})[0].rename(columns={\"Symbol\":\"ticker\"})"
   ]
  },
  {
   "cell_type": "code",
   "execution_count": 15,
   "id": "d7462b2c-0844-4f56-8d4a-a0ec394baf95",
   "metadata": {},
   "outputs": [],
   "source": [
    "fred.connect()\n",
    "market_yield = fred.retrieve(\"market_yield\")\n",
    "market_yield = market_yield.rename(columns={\"value\":\"rf\"})\n",
    "market_yield[\"rf\"] = market_yield[\"rf\"].replace(\".\",np.nan)\n",
    "market_yield.dropna(inplace=True)\n",
    "market_yield[\"rf\"] = [float(x)/100 for x in market_yield[\"rf\"]]\n",
    "market_yield[\"date\"] = market_yield[\"date\"].shift(-5)\n",
    "market_yield = processor.column_date_processing(market_yield)\n",
    "spy = fred.retrieve(\"sp500\")\n",
    "spy = spy.rename(columns={\"value\":\"spy\"})\n",
    "spy[\"spy\"] = spy[\"spy\"].replace(\".\",np.nan)\n",
    "spy.dropna(inplace=True)\n",
    "spy[\"spy\"] = [float(x) for x in spy[\"spy\"]]\n",
    "spy = processor.column_date_processing(spy)\n",
    "fred.disconnect()"
   ]
  },
  {
   "cell_type": "code",
   "execution_count": 16,
   "id": "ceb65140-6aa8-4fed-b632-1d4ab8f0f85a",
   "metadata": {},
   "outputs": [
    {
     "name": "stderr",
     "output_type": "stream",
     "text": [
      " 13%|██████████████████▉                                                                                                                                  | 64/503 [00:06<00:37, 11.61it/s]"
     ]
    },
    {
     "name": "stdout",
     "output_type": "stream",
     "text": [
      "BRK.B 'date'\n"
     ]
    },
    {
     "name": "stderr",
     "output_type": "stream",
     "text": [
      " 16%|███████████████████████▉                                                                                                                             | 81/503 [00:07<00:37, 11.32it/s]"
     ]
    },
    {
     "name": "stdout",
     "output_type": "stream",
     "text": [
      "BF.B 'date'\n"
     ]
    },
    {
     "name": "stderr",
     "output_type": "stream",
     "text": [
      " 43%|███████████████████████████████████████████████████████████████▎                                                                                    | 215/503 [00:20<00:20, 13.99it/s]"
     ]
    },
    {
     "name": "stdout",
     "output_type": "stream",
     "text": [
      "GEV \"['date'] not found in axis\"\n"
     ]
    },
    {
     "name": "stderr",
     "output_type": "stream",
     "text": [
      " 84%|████████████████████████████████████████████████████████████████████████████████████████████████████████████████████████████▏                       | 422/503 [00:41<00:08, 10.06it/s]"
     ]
    },
    {
     "name": "stdout",
     "output_type": "stream",
     "text": [
      "SOLV \"['date'] not found in axis\"\n"
     ]
    },
    {
     "name": "stderr",
     "output_type": "stream",
     "text": [
      "100%|████████████████████████████████████████████████████████████████████████████████████████████████████████████████████████████████████████████████████| 503/503 [00:49<00:00, 10.13it/s]"
     ]
    },
    {
     "name": "stdout",
     "output_type": "stream",
     "text": [
      "ZTS 'date'\n"
     ]
    },
    {
     "name": "stderr",
     "output_type": "stream",
     "text": [
      "\n"
     ]
    }
   ],
   "source": [
    "data = []\n",
    "sec.connect()\n",
    "market.connect()\n",
    "for ticker in tqdm(sp500[\"ticker\"]):\n",
    "    try:\n",
    "        cik = int(sp500[sp500[\"ticker\"]==ticker][\"CIK\"].item())\n",
    "        filing = sec.query(\"filings\",{\"cik\":cik}).drop(\"date\",axis=1)\n",
    "        prices = processor.column_date_processing(market.query(\"prices\",{\"ticker\":ticker})).drop(\"date\",axis=1)\n",
    "        filing[\"ticker\"] = ticker\n",
    "        filing[\"year\"] = filing[\"year\"] + 1\n",
    "        ticker_data = prices.merge(filing,on=[\"year\",\"quarter\",\"ticker\"],how=\"left\")\n",
    "        ticker_data = ticker_data.merge(market_yield[[\"year\",\"quarter\",\"rf\"]].groupby([\"year\",\"quarter\"]).mean().reset_index(),on=[\"year\",\"quarter\"],how=\"left\")\n",
    "        ticker_data = ticker_data.merge(spy[[\"year\",\"quarter\",\"spy\"]].groupby([\"year\",\"quarter\"]).mean().reset_index(),on=[\"year\",\"quarter\"],how=\"left\")\n",
    "        ticker_data = ticker_data.groupby([\"year\",\"quarter\",\"ticker\"]).mean().reset_index()\n",
    "        ticker_data.sort_values([\"year\",\"quarter\"],inplace=True)\n",
    "        data.append(ticker_data.bfill().ffill().dropna()[required])\n",
    "    except Exception as e:\n",
    "        print(ticker,str(e))\n",
    "        continue\n",
    "sec.disconnect()\n",
    "market.disconnect()"
   ]
  },
  {
   "cell_type": "code",
   "execution_count": 17,
   "id": "0ac185d1-0b84-4f75-a7ba-63e406b930c6",
   "metadata": {},
   "outputs": [],
   "source": [
    "training_data = pd.concat(data).sort_values([\"year\",\"quarter\"]).merge(sp500[[\"ticker\",\"GICS Sector\"]],on=\"ticker\")"
   ]
  },
  {
   "cell_type": "code",
   "execution_count": 18,
   "id": "133c060c-f949-498b-8348-bfec2fc4b21b",
   "metadata": {},
   "outputs": [],
   "source": [
    "sim = training_data[training_data[\"year\"]>=2022]\n",
    "db = ADatabase(\"sapling\")\n",
    "db.cloud_connect()\n",
    "model_df = db.retrieve(\"model\")\n",
    "db.disconnect()\n",
    "model = pickle.loads(model_df[\"model\"].iloc[0])\n",
    "sim[\"prediction\"] = model.predict(sim[factors])"
   ]
  },
  {
   "cell_type": "code",
   "execution_count": 19,
   "id": "c8abd206-1b48-4ea1-b2e8-3ad3732b344d",
   "metadata": {},
   "outputs": [
    {
     "data": {
      "text/html": [
       "<div>\n",
       "<style scoped>\n",
       "    .dataframe tbody tr th:only-of-type {\n",
       "        vertical-align: middle;\n",
       "    }\n",
       "\n",
       "    .dataframe tbody tr th {\n",
       "        vertical-align: top;\n",
       "    }\n",
       "\n",
       "    .dataframe thead th {\n",
       "        text-align: right;\n",
       "    }\n",
       "</style>\n",
       "<table border=\"1\" class=\"dataframe\">\n",
       "  <thead>\n",
       "    <tr style=\"text-align: right;\">\n",
       "      <th></th>\n",
       "      <th>year</th>\n",
       "      <th>quarter</th>\n",
       "      <th>ticker</th>\n",
       "      <th>GICS Sector</th>\n",
       "      <th>prediction</th>\n",
       "    </tr>\n",
       "  </thead>\n",
       "  <tbody>\n",
       "    <tr>\n",
       "      <th>22866</th>\n",
       "      <td>2022</td>\n",
       "      <td>1</td>\n",
       "      <td>MMM</td>\n",
       "      <td>Industrials</td>\n",
       "      <td>114.215393</td>\n",
       "    </tr>\n",
       "    <tr>\n",
       "      <th>22867</th>\n",
       "      <td>2022</td>\n",
       "      <td>1</td>\n",
       "      <td>AOS</td>\n",
       "      <td>Industrials</td>\n",
       "      <td>57.421696</td>\n",
       "    </tr>\n",
       "    <tr>\n",
       "      <th>22868</th>\n",
       "      <td>2022</td>\n",
       "      <td>1</td>\n",
       "      <td>ADBE</td>\n",
       "      <td>Information Technology</td>\n",
       "      <td>415.199799</td>\n",
       "    </tr>\n",
       "    <tr>\n",
       "      <th>22869</th>\n",
       "      <td>2022</td>\n",
       "      <td>1</td>\n",
       "      <td>AES</td>\n",
       "      <td>Utilities</td>\n",
       "      <td>20.313551</td>\n",
       "    </tr>\n",
       "    <tr>\n",
       "      <th>22870</th>\n",
       "      <td>2022</td>\n",
       "      <td>1</td>\n",
       "      <td>AFL</td>\n",
       "      <td>Financials</td>\n",
       "      <td>58.080116</td>\n",
       "    </tr>\n",
       "    <tr>\n",
       "      <th>...</th>\n",
       "      <td>...</td>\n",
       "      <td>...</td>\n",
       "      <td>...</td>\n",
       "      <td>...</td>\n",
       "      <td>...</td>\n",
       "    </tr>\n",
       "    <tr>\n",
       "      <th>26867</th>\n",
       "      <td>2024</td>\n",
       "      <td>3</td>\n",
       "      <td>WYNN</td>\n",
       "      <td>Consumer Discretionary</td>\n",
       "      <td>86.167366</td>\n",
       "    </tr>\n",
       "    <tr>\n",
       "      <th>26868</th>\n",
       "      <td>2024</td>\n",
       "      <td>3</td>\n",
       "      <td>XYL</td>\n",
       "      <td>Industrials</td>\n",
       "      <td>123.065758</td>\n",
       "    </tr>\n",
       "    <tr>\n",
       "      <th>26869</th>\n",
       "      <td>2024</td>\n",
       "      <td>3</td>\n",
       "      <td>YUM</td>\n",
       "      <td>Consumer Discretionary</td>\n",
       "      <td>128.127625</td>\n",
       "    </tr>\n",
       "    <tr>\n",
       "      <th>26870</th>\n",
       "      <td>2024</td>\n",
       "      <td>3</td>\n",
       "      <td>ZBRA</td>\n",
       "      <td>Information Technology</td>\n",
       "      <td>307.328491</td>\n",
       "    </tr>\n",
       "    <tr>\n",
       "      <th>26871</th>\n",
       "      <td>2024</td>\n",
       "      <td>3</td>\n",
       "      <td>ZBH</td>\n",
       "      <td>Health Care</td>\n",
       "      <td>110.443108</td>\n",
       "    </tr>\n",
       "  </tbody>\n",
       "</table>\n",
       "<p>4006 rows × 5 columns</p>\n",
       "</div>"
      ],
      "text/plain": [
       "       year  quarter ticker             GICS Sector  prediction\n",
       "22866  2022        1    MMM             Industrials  114.215393\n",
       "22867  2022        1    AOS             Industrials   57.421696\n",
       "22868  2022        1   ADBE  Information Technology  415.199799\n",
       "22869  2022        1    AES               Utilities   20.313551\n",
       "22870  2022        1    AFL              Financials   58.080116\n",
       "...     ...      ...    ...                     ...         ...\n",
       "26867  2024        3   WYNN  Consumer Discretionary   86.167366\n",
       "26868  2024        3    XYL             Industrials  123.065758\n",
       "26869  2024        3    YUM  Consumer Discretionary  128.127625\n",
       "26870  2024        3   ZBRA  Information Technology  307.328491\n",
       "26871  2024        3    ZBH             Health Care  110.443108\n",
       "\n",
       "[4006 rows x 5 columns]"
      ]
     },
     "execution_count": 19,
     "metadata": {},
     "output_type": "execute_result"
    }
   ],
   "source": [
    "sim[[\"year\",\"quarter\",\"ticker\",\"GICS Sector\",\"prediction\"]]"
   ]
  },
  {
   "cell_type": "code",
   "execution_count": 20,
   "id": "b68b0af3-8b84-48ed-9bd3-eb6a95ff12b1",
   "metadata": {},
   "outputs": [],
   "source": [
    "db.cloud_connect()\n",
    "db.drop(\"sim\")\n",
    "db.store(\"sim\",sim[[\"year\",\"quarter\",\"ticker\",\"GICS Sector\",\"prediction\"]])\n",
    "db.disconnect()"
   ]
  }
 ],
 "metadata": {
  "kernelspec": {
   "display_name": "Python 3 (ipykernel)",
   "language": "python",
   "name": "python3"
  },
  "language_info": {
   "codemirror_mode": {
    "name": "ipython",
    "version": 3
   },
   "file_extension": ".py",
   "mimetype": "text/x-python",
   "name": "python",
   "nbconvert_exporter": "python",
   "pygments_lexer": "ipython3",
   "version": "3.11.9"
  }
 },
 "nbformat": 4,
 "nbformat_minor": 5
}
