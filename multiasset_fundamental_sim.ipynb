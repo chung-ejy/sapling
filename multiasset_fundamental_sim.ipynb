{
 "cells": [
  {
   "cell_type": "code",
   "execution_count": 1,
   "id": "2ed8cf89-aedf-487b-8f4c-be90c03b04e4",
   "metadata": {},
   "outputs": [],
   "source": [
    "from processor.processor import Processor as processor\n",
    "from database.adatabase import ADatabase\n",
    "from xgboost import XGBRegressor\n",
    "from statistics import mean\n",
    "import math\n",
    "import pandas as pd\n",
    "import numpy as np\n",
    "from scipy.optimize import minimize\n",
    "import matplotlib.pyplot as plt\n",
    "from datetime import datetime, timedelta\n",
    "from tqdm import tqdm\n",
    "from dotenv import load_dotenv\n",
    "from asset.stock import Stock\n",
    "from asset.bond import Bond\n",
    "from asset.option import Option\n",
    "import warnings\n",
    "import pytz\n",
    "import copy\n",
    "import pickle\n",
    "warnings.simplefilter(action=\"ignore\")"
   ]
  },
  {
   "cell_type": "code",
   "execution_count": 2,
   "id": "f83d2e0d-1c3e-411d-bc6d-9f5b6aa766cc",
   "metadata": {},
   "outputs": [],
   "source": [
    "factors =  [\n",
    "            \"assets\"\n",
    "            ,\"liabilities\"\n",
    "            ,\"netincomeloss\"\n",
    "            ,\"adjclose\" \n",
    "            ,\"rf\"\n",
    "            ,\"spy\"\n",
    "           ]\n",
    "required = [\"year\",\"quarter\",\"ticker\"]\n",
    "required.extend(factors)\n",
    "market = ADatabase(\"market\")\n",
    "sec = ADatabase(\"sec\")\n",
    "market = ADatabase(\"market\")\n",
    "fred = ADatabase(\"fred\")"
   ]
  },
  {
   "cell_type": "code",
   "execution_count": 3,
   "id": "e3a1d483-9d3a-4549-9621-6009595e6c43",
   "metadata": {},
   "outputs": [],
   "source": [
    "sp500 = pd.read_html(\"https://en.wikipedia.org/wiki/List_of_S%26P_500_companies\",attrs={\"id\":\"constituents\"})[0].rename(columns={\"Symbol\":\"ticker\"})"
   ]
  },
  {
   "cell_type": "code",
   "execution_count": 4,
   "id": "d7462b2c-0844-4f56-8d4a-a0ec394baf95",
   "metadata": {},
   "outputs": [],
   "source": [
    "fred.connect()\n",
    "market_yield = fred.retrieve(\"market_yield\")\n",
    "market_yield = market_yield.rename(columns={\"value\":\"rf\"})\n",
    "market_yield[\"rf\"] = market_yield[\"rf\"].replace(\".\",np.nan)\n",
    "market_yield.dropna(inplace=True)\n",
    "market_yield[\"rf\"] = [float(x)/100 for x in market_yield[\"rf\"]]\n",
    "market_yield[\"date\"] = market_yield[\"date\"].shift(-5)\n",
    "market_yield = processor.column_date_processing(market_yield)\n",
    "spy = fred.retrieve(\"sp500\")\n",
    "spy = spy.rename(columns={\"value\":\"spy\"})\n",
    "spy[\"spy\"] = spy[\"spy\"].replace(\".\",np.nan)\n",
    "spy.dropna(inplace=True)\n",
    "spy[\"spy\"] = [float(x) for x in spy[\"spy\"]]\n",
    "spy = processor.column_date_processing(spy)\n",
    "fred.disconnect()"
   ]
  },
  {
   "cell_type": "code",
   "execution_count": 5,
   "id": "ceb65140-6aa8-4fed-b632-1d4ab8f0f85a",
   "metadata": {},
   "outputs": [
    {
     "name": "stderr",
     "output_type": "stream",
     "text": [
      " 13%|██████████████████▋                                                                                                                                  | 63/503 [00:06<00:37, 11.68it/s]"
     ]
    },
    {
     "name": "stdout",
     "output_type": "stream",
     "text": [
      "BRK.B 'date'\n"
     ]
    },
    {
     "name": "stderr",
     "output_type": "stream",
     "text": [
      " 16%|███████████████████████▋                                                                                                                             | 80/503 [00:07<00:34, 12.10it/s]"
     ]
    },
    {
     "name": "stdout",
     "output_type": "stream",
     "text": [
      "BF.B 'date'\n"
     ]
    },
    {
     "name": "stderr",
     "output_type": "stream",
     "text": [
      " 43%|███████████████████████████████████████████████████████████████▎                                                                                    | 215/503 [00:20<00:21, 13.10it/s]"
     ]
    },
    {
     "name": "stdout",
     "output_type": "stream",
     "text": [
      "GEV \"['date'] not found in axis\"\n"
     ]
    },
    {
     "name": "stderr",
     "output_type": "stream",
     "text": [
      " 84%|████████████████████████████████████████████████████████████████████████████████████████████████████████████████████████████▏                       | 422/503 [00:41<00:07, 11.00it/s]"
     ]
    },
    {
     "name": "stdout",
     "output_type": "stream",
     "text": [
      "SOLV \"['date'] not found in axis\"\n"
     ]
    },
    {
     "name": "stderr",
     "output_type": "stream",
     "text": [
      "100%|████████████████████████████████████████████████████████████████████████████████████████████████████████████████████████████████████████████████████| 503/503 [00:48<00:00, 10.27it/s]"
     ]
    },
    {
     "name": "stdout",
     "output_type": "stream",
     "text": [
      "ZTS 'date'\n"
     ]
    },
    {
     "name": "stderr",
     "output_type": "stream",
     "text": [
      "\n"
     ]
    }
   ],
   "source": [
    "data = []\n",
    "sec.connect()\n",
    "market.connect()\n",
    "for ticker in tqdm(sp500[\"ticker\"]):\n",
    "    try:\n",
    "        cik = int(sp500[sp500[\"ticker\"]==ticker][\"CIK\"].item())\n",
    "        filing = sec.query(\"filings\",{\"cik\":cik}).drop(\"date\",axis=1)\n",
    "        prices = processor.column_date_processing(market.query(\"prices\",{\"ticker\":ticker})).drop(\"date\",axis=1)\n",
    "        filing[\"ticker\"] = ticker\n",
    "        filing[\"year\"] = filing[\"year\"] + 1\n",
    "        ticker_data = prices.merge(filing,on=[\"year\",\"quarter\",\"ticker\"],how=\"left\")\n",
    "        ticker_data = ticker_data.merge(market_yield[[\"year\",\"quarter\",\"rf\"]].groupby([\"year\",\"quarter\"]).mean().reset_index(),on=[\"year\",\"quarter\"],how=\"left\")\n",
    "        ticker_data = ticker_data.merge(spy[[\"year\",\"quarter\",\"spy\"]].groupby([\"year\",\"quarter\"]).mean().reset_index(),on=[\"year\",\"quarter\"],how=\"left\")\n",
    "        ticker_data = ticker_data.groupby([\"year\",\"quarter\",\"ticker\"]).mean().reset_index()\n",
    "        ticker_data.sort_values([\"year\",\"quarter\"],inplace=True)\n",
    "        data.append(ticker_data.bfill().ffill().dropna())\n",
    "    except Exception as e:\n",
    "        print(ticker,str(e))\n",
    "        continue\n",
    "sec.disconnect()\n",
    "market.disconnect()"
   ]
  },
  {
   "cell_type": "code",
   "execution_count": 6,
   "id": "0ac185d1-0b84-4f75-a7ba-63e406b930c6",
   "metadata": {},
   "outputs": [],
   "source": [
    "training_data = pd.concat(data).sort_values([\"year\",\"quarter\"]).merge(sp500[[\"ticker\",\"GICS Sector\"]],on=\"ticker\")"
   ]
  },
  {
   "cell_type": "code",
   "execution_count": 7,
   "id": "133c060c-f949-498b-8348-bfec2fc4b21b",
   "metadata": {},
   "outputs": [],
   "source": [
    "sim = training_data[training_data[\"year\"]>=2022]\n",
    "db = ADatabase(\"sapling\")\n",
    "db.cloud_connect()\n",
    "model_df = db.retrieve(\"model\")\n",
    "db.disconnect()\n",
    "model = pickle.loads(model_df[\"model\"].iloc[0])\n",
    "sim[\"prediction\"] = model.predict(sim[factors])"
   ]
  },
  {
   "cell_type": "code",
   "execution_count": 10,
   "id": "b68b0af3-8b84-48ed-9bd3-eb6a95ff12b1",
   "metadata": {},
   "outputs": [],
   "source": [
    "db.cloud_connect()\n",
    "db.store(\"sim\",sim)\n",
    "db.disconnect()"
   ]
  },
  {
   "cell_type": "code",
   "execution_count": null,
   "id": "3eb044c1-f739-4782-8f77-18dbd65f564e",
   "metadata": {},
   "outputs": [],
   "source": []
  }
 ],
 "metadata": {
  "kernelspec": {
   "display_name": "Python 3 (ipykernel)",
   "language": "python",
   "name": "python3"
  },
  "language_info": {
   "codemirror_mode": {
    "name": "ipython",
    "version": 3
   },
   "file_extension": ".py",
   "mimetype": "text/x-python",
   "name": "python",
   "nbconvert_exporter": "python",
   "pygments_lexer": "ipython3",
   "version": "3.11.9"
  }
 },
 "nbformat": 4,
 "nbformat_minor": 5
}
